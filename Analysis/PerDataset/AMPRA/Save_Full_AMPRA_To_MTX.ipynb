{
 "cells": [
  {
   "cell_type": "code",
   "execution_count": 1,
   "id": "bcd5b84b-4967-4195-89af-25c6e8824eb0",
   "metadata": {},
   "outputs": [
    {
     "name": "stderr",
     "output_type": "stream",
     "text": [
      "The legacy packages maptools, rgdal, and rgeos, underpinning the sp package,\n",
      "which was just loaded, will retire in October 2023.\n",
      "Please refer to R-spatial evolution reports for details, especially\n",
      "https://r-spatial.org/r/2023/05/15/evolution4.html.\n",
      "It may be desirable to make the sf package available;\n",
      "package maintainers should consider adding sf to Suggests:.\n",
      "The sp package is now running under evolution status 2\n",
      "     (status 2 uses the sf package in place of rgdal)\n",
      "\n",
      "Attaching SeuratObject\n",
      "\n"
     ]
    }
   ],
   "source": [
    "library(Seurat)\n",
    "library(Matrix)\n",
    "\n",
    "save_sparse_matrix_10x <- function(sparse_matrix, output_dir) {\n",
    "  # Ensure required libraries are loaded\n",
    "  if (!requireNamespace(\"Matrix\", quietly = TRUE)) {\n",
    "    stop(\"Please install the 'Matrix' package.\")\n",
    "  }\n",
    "  \n",
    "  # Ensure output directory exists\n",
    "  if (!dir.exists(output_dir)) {\n",
    "    dir.create(output_dir, recursive = TRUE)\n",
    "  }\n",
    "  \n",
    "  # Define file paths\n",
    "  matrix_file <- file.path(output_dir, \"matrix.mtx\")\n",
    "  features_file <- file.path(output_dir, \"features.tsv\")\n",
    "  barcodes_file <- file.path(output_dir, \"barcodes.tsv\")\n",
    "  \n",
    "  # Write the sparse matrix to the .mtx file\n",
    "  Matrix::writeMM(sparse_matrix, matrix_file)\n",
    "  \n",
    "  # Write the feature (gene) names to features.tsv\n",
    "  write.table(rownames(sparse_matrix), features_file, sep = \"\\t\", quote = FALSE, col.names = FALSE, row.names = FALSE)\n",
    "  \n",
    "  # Write the cell (barcode) names to barcodes.tsv\n",
    "  write.table(colnames(sparse_matrix), barcodes_file, sep = \"\\t\", quote = FALSE, col.names = FALSE, row.names = FALSE)\n",
    "  \n",
    "  message(\"Sparse matrix and metadata have been saved to \", output_dir)\n",
    "}"
   ]
  },
  {
   "cell_type": "code",
   "execution_count": 11,
   "id": "79b7b9f2-656e-4135-84c5-b66b93ac9199",
   "metadata": {},
   "outputs": [],
   "source": [
    "meta_fn <- \"/data/srlab1/public/srcollab/AMP_Phase_2/meta_matrix_aspera/upload_2021-03-29/meta_all_cell_pass_QC.rds\"\n",
    "meta_object <- readRDS(meta_fn)"
   ]
  },
  {
   "cell_type": "code",
   "execution_count": 12,
   "id": "021989d7-9098-4c98-8c3e-f9ce10627785",
   "metadata": {},
   "outputs": [
    {
     "data": {
      "text/html": [
       "<table class=\"dataframe\">\n",
       "<caption>A data.frame: 6 × 5</caption>\n",
       "<thead>\n",
       "\t<tr><th></th><th scope=col>cell</th><th scope=col>sample</th><th scope=col>new_cluster_number</th><th scope=col>new_cluster_name</th><th scope=col>cell_type</th></tr>\n",
       "\t<tr><th></th><th scope=col>&lt;chr&gt;</th><th scope=col>&lt;chr&gt;</th><th scope=col>&lt;chr&gt;</th><th scope=col>&lt;chr&gt;</th><th scope=col>&lt;chr&gt;</th></tr>\n",
       "</thead>\n",
       "<tbody>\n",
       "\t<tr><th scope=row>4</th><td>BRI-399_AAACCCAGTAGGAGGG</td><td>BRI-399</td><td>6 </td><td>M-6: IL1B+ FCN1+    </td><td>Myeloid</td></tr>\n",
       "\t<tr><th scope=row>28</th><td>BRI-399_AAACGCTGTTCAAGTC</td><td>BRI-399</td><td>13</td><td>M-13: DC2 DC1C+     </td><td>Myeloid</td></tr>\n",
       "\t<tr><th scope=row>38</th><td>BRI-399_AAAGGATTCTGTACAG</td><td>BRI-399</td><td>0 </td><td>M-0: MERTK+ SELENOP+</td><td>Myeloid</td></tr>\n",
       "\t<tr><th scope=row>47</th><td>BRI-399_AAAGGTAAGCTGGCTC</td><td>BRI-399</td><td>7 </td><td>M-7: IL1B++ FCN1++  </td><td>Myeloid</td></tr>\n",
       "\t<tr><th scope=row>59</th><td>BRI-399_AAAGTCCAGTGTTCCA</td><td>BRI-399</td><td>13</td><td>M-13: DC2 DC1C+     </td><td>Myeloid</td></tr>\n",
       "\t<tr><th scope=row>64</th><td>BRI-399_AAAGTCCTCTGAGAAA</td><td>BRI-399</td><td>6 </td><td>M-6: IL1B+ FCN1+    </td><td>Myeloid</td></tr>\n",
       "</tbody>\n",
       "</table>\n"
      ],
      "text/latex": [
       "A data.frame: 6 × 5\n",
       "\\begin{tabular}{r|lllll}\n",
       "  & cell & sample & new\\_cluster\\_number & new\\_cluster\\_name & cell\\_type\\\\\n",
       "  & <chr> & <chr> & <chr> & <chr> & <chr>\\\\\n",
       "\\hline\n",
       "\t4 & BRI-399\\_AAACCCAGTAGGAGGG & BRI-399 & 6  & M-6: IL1B+ FCN1+     & Myeloid\\\\\n",
       "\t28 & BRI-399\\_AAACGCTGTTCAAGTC & BRI-399 & 13 & M-13: DC2 DC1C+      & Myeloid\\\\\n",
       "\t38 & BRI-399\\_AAAGGATTCTGTACAG & BRI-399 & 0  & M-0: MERTK+ SELENOP+ & Myeloid\\\\\n",
       "\t47 & BRI-399\\_AAAGGTAAGCTGGCTC & BRI-399 & 7  & M-7: IL1B++ FCN1++   & Myeloid\\\\\n",
       "\t59 & BRI-399\\_AAAGTCCAGTGTTCCA & BRI-399 & 13 & M-13: DC2 DC1C+      & Myeloid\\\\\n",
       "\t64 & BRI-399\\_AAAGTCCTCTGAGAAA & BRI-399 & 6  & M-6: IL1B+ FCN1+     & Myeloid\\\\\n",
       "\\end{tabular}\n"
      ],
      "text/markdown": [
       "\n",
       "A data.frame: 6 × 5\n",
       "\n",
       "| <!--/--> | cell &lt;chr&gt; | sample &lt;chr&gt; | new_cluster_number &lt;chr&gt; | new_cluster_name &lt;chr&gt; | cell_type &lt;chr&gt; |\n",
       "|---|---|---|---|---|---|\n",
       "| 4 | BRI-399_AAACCCAGTAGGAGGG | BRI-399 | 6  | M-6: IL1B+ FCN1+     | Myeloid |\n",
       "| 28 | BRI-399_AAACGCTGTTCAAGTC | BRI-399 | 13 | M-13: DC2 DC1C+      | Myeloid |\n",
       "| 38 | BRI-399_AAAGGATTCTGTACAG | BRI-399 | 0  | M-0: MERTK+ SELENOP+ | Myeloid |\n",
       "| 47 | BRI-399_AAAGGTAAGCTGGCTC | BRI-399 | 7  | M-7: IL1B++ FCN1++   | Myeloid |\n",
       "| 59 | BRI-399_AAAGTCCAGTGTTCCA | BRI-399 | 13 | M-13: DC2 DC1C+      | Myeloid |\n",
       "| 64 | BRI-399_AAAGTCCTCTGAGAAA | BRI-399 | 6  | M-6: IL1B+ FCN1+     | Myeloid |\n",
       "\n"
      ],
      "text/plain": [
       "   cell                     sample  new_cluster_number new_cluster_name    \n",
       "4  BRI-399_AAACCCAGTAGGAGGG BRI-399 6                  M-6: IL1B+ FCN1+    \n",
       "28 BRI-399_AAACGCTGTTCAAGTC BRI-399 13                 M-13: DC2 DC1C+     \n",
       "38 BRI-399_AAAGGATTCTGTACAG BRI-399 0                  M-0: MERTK+ SELENOP+\n",
       "47 BRI-399_AAAGGTAAGCTGGCTC BRI-399 7                  M-7: IL1B++ FCN1++  \n",
       "59 BRI-399_AAAGTCCAGTGTTCCA BRI-399 13                 M-13: DC2 DC1C+     \n",
       "64 BRI-399_AAAGTCCTCTGAGAAA BRI-399 6                  M-6: IL1B+ FCN1+    \n",
       "   cell_type\n",
       "4  Myeloid  \n",
       "28 Myeloid  \n",
       "38 Myeloid  \n",
       "47 Myeloid  \n",
       "59 Myeloid  \n",
       "64 Myeloid  "
      ]
     },
     "metadata": {},
     "output_type": "display_data"
    }
   ],
   "source": [
    "head(meta_object)"
   ]
  },
  {
   "cell_type": "code",
   "execution_count": 13,
   "id": "9e0e653b-df40-49b7-93a8-b0be18446da1",
   "metadata": {},
   "outputs": [],
   "source": [
    "rna_count_fn <- \"/data/srlab1/public/srcollab/AMP_Phase_2/meta_matrix_aspera/upload_2021-03-29/mRNA_counts_pass_QC.rds\"\n",
    "rna_count <- readRDS(rna_count_fn)"
   ]
  },
  {
   "cell_type": "code",
   "execution_count": 14,
   "id": "583dbc7e-633b-41d3-902e-f88ddff7d098",
   "metadata": {},
   "outputs": [
    {
     "data": {
      "text/plain": [
       "5 x 5 sparse Matrix of class \"dgCMatrix\"\n",
       "            BRI-399_AAACCCAAGTCATTGC BRI-399_AAACCCAAGTGAATAC\n",
       "MIR1302-2HG                        .                        .\n",
       "FAM138A                            .                        .\n",
       "OR4F5                              .                        .\n",
       "AL627309.1                         .                        .\n",
       "AL627309.3                         .                        .\n",
       "            BRI-399_AAACCCACAGTCCGTG BRI-399_AAACCCAGTAGGAGGG\n",
       "MIR1302-2HG                        .                        .\n",
       "FAM138A                            .                        .\n",
       "OR4F5                              .                        .\n",
       "AL627309.1                         .                        .\n",
       "AL627309.3                         .                        .\n",
       "            BRI-399_AAACCCAGTGAGTTTC\n",
       "MIR1302-2HG                        .\n",
       "FAM138A                            .\n",
       "OR4F5                              .\n",
       "AL627309.1                         .\n",
       "AL627309.3                         ."
      ]
     },
     "metadata": {},
     "output_type": "display_data"
    }
   ],
   "source": [
    "rna_count[1:5, 1:5]"
   ]
  },
  {
   "cell_type": "code",
   "execution_count": 6,
   "id": "f314e750-4d3b-4d51-a1c5-80b5af4d2bdb",
   "metadata": {},
   "outputs": [],
   "source": [
    "adt_count_fn <- \"/data/srlab1/public/srcollab/AMP_Phase_2/meta_matrix_aspera/upload_2021-03-29/protein_counts_pass_QC.rds\"\n",
    "adt_count <- readRDS(adt_count_fn)"
   ]
  },
  {
   "cell_type": "code",
   "execution_count": 7,
   "id": "ad4ec4fc-8a88-49ca-a01a-b7a0c5613343",
   "metadata": {},
   "outputs": [
    {
     "data": {
      "text/html": [
       "<style>\n",
       ".list-inline {list-style: none; margin:0; padding: 0}\n",
       ".list-inline>li {display: inline-block}\n",
       ".list-inline>li:not(:last-child)::after {content: \"\\00b7\"; padding: 0 .5ex}\n",
       "</style>\n",
       "<ol class=list-inline><li>33538</li><li>327710</li></ol>\n"
      ],
      "text/latex": [
       "\\begin{enumerate*}\n",
       "\\item 33538\n",
       "\\item 327710\n",
       "\\end{enumerate*}\n"
      ],
      "text/markdown": [
       "1. 33538\n",
       "2. 327710\n",
       "\n",
       "\n"
      ],
      "text/plain": [
       "[1]  33538 327710"
      ]
     },
     "metadata": {},
     "output_type": "display_data"
    }
   ],
   "source": [
    "dim(rna_count)"
   ]
  },
  {
   "cell_type": "code",
   "execution_count": 8,
   "id": "8071a05d-c8a6-45e8-806e-d64fbbfc3090",
   "metadata": {},
   "outputs": [
    {
     "data": {
      "text/html": [
       "<style>\n",
       ".list-inline {list-style: none; margin:0; padding: 0}\n",
       ".list-inline>li {display: inline-block}\n",
       ".list-inline>li:not(:last-child)::after {content: \"\\00b7\"; padding: 0 .5ex}\n",
       "</style>\n",
       "<ol class=list-inline><li>58</li><li>327710</li></ol>\n"
      ],
      "text/latex": [
       "\\begin{enumerate*}\n",
       "\\item 58\n",
       "\\item 327710\n",
       "\\end{enumerate*}\n"
      ],
      "text/markdown": [
       "1. 58\n",
       "2. 327710\n",
       "\n",
       "\n"
      ],
      "text/plain": [
       "[1]     58 327710"
      ]
     },
     "metadata": {},
     "output_type": "display_data"
    }
   ],
   "source": [
    "dim(adt_count)"
   ]
  },
  {
   "cell_type": "code",
   "execution_count": 10,
   "id": "020e2e03-05b8-4103-b119-14622f17cf05",
   "metadata": {},
   "outputs": [
    {
     "data": {
      "text/html": [
       "'matrix.mtx'"
      ],
      "text/latex": [
       "'matrix.mtx'"
      ],
      "text/markdown": [
       "'matrix.mtx'"
      ],
      "text/plain": [
       "[1] \"matrix.mtx\""
      ]
     },
     "metadata": {},
     "output_type": "display_data"
    }
   ],
   "source": [
    "system(\"ls ../../../Data/PerDataset/AMPRA/Full_RNA_10X_MTX\", intern=T)"
   ]
  },
  {
   "cell_type": "code",
   "execution_count": 20,
   "id": "54933103-6914-4a5e-866c-c4b12e0d54ca",
   "metadata": {},
   "outputs": [
    {
     "name": "stderr",
     "output_type": "stream",
     "text": [
      "Sparse matrix and metadata have been saved to ../../../Data/PerDataset/AMPRA/Full_RNA_10X_MTX\n",
      "\n"
     ]
    }
   ],
   "source": [
    "save_sparse_matrix_10x(rna_count, \"../../../Data/PerDataset/AMPRA/Full_RNA_10X_MTX\")"
   ]
  },
  {
   "cell_type": "code",
   "execution_count": 21,
   "id": "8fae7396-40db-4c9a-aa2c-f189234bf6d0",
   "metadata": {},
   "outputs": [
    {
     "name": "stderr",
     "output_type": "stream",
     "text": [
      "Sparse matrix and metadata have been saved to ../../../Data/PerDataset/AMPRA/Full_ADT_10X_MTX\n",
      "\n"
     ]
    }
   ],
   "source": [
    "save_sparse_matrix_10x(adt_count, \"../../../Data/PerDataset/AMPRA/Full_ADT_10X_MTX\")"
   ]
  },
  {
   "cell_type": "code",
   "execution_count": 34,
   "id": "795fa841-015c-4d7a-b602-41131d50138a",
   "metadata": {},
   "outputs": [],
   "source": [
    "reffn <- \"/data/srlab/ssg34/AMP_RA_references/all_cells_reference.rds\"\n",
    "ref <- readRDS(reffn)"
   ]
  },
  {
   "cell_type": "code",
   "execution_count": 37,
   "id": "a5ccd68c-df05-4e10-94bc-58c35933feb4",
   "metadata": {},
   "outputs": [],
   "source": [
    "write.table(ref$meta_data,  \"../../../Data/PerDataset/AMPRA/Full_AMPRA_Metadata.tsv\",\n",
    "            sep = \"\\t\", quote = FALSE, col.names = T, row.names = T)\n"
   ]
  }
 ],
 "metadata": {
  "kernelspec": {
   "display_name": "R411",
   "language": "R",
   "name": "r411"
  },
  "language_info": {
   "codemirror_mode": "r",
   "file_extension": ".r",
   "mimetype": "text/x-r-source",
   "name": "R",
   "pygments_lexer": "r",
   "version": "4.1.1"
  }
 },
 "nbformat": 4,
 "nbformat_minor": 5
}
