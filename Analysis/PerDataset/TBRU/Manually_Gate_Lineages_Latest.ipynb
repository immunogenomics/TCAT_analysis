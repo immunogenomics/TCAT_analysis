{
 "cells": [
  {
   "cell_type": "code",
   "execution_count": 1,
   "id": "0e3d5fea-1831-4fd5-8868-a7621c72ad0e",
   "metadata": {},
   "outputs": [
    {
     "name": "stderr",
     "output_type": "stream",
     "text": [
      "/PHShome/mc1070/anaconda3/envs/cnmf_env2v2/lib/python3.7/site-packages/tqdm/auto.py:22: TqdmWarning: IProgress not found. Please update jupyter and ipywidgets. See https://ipywidgets.readthedocs.io/en/stable/user_install.html\n",
      "  from .autonotebook import tqdm as notebook_tqdm\n"
     ]
    }
   ],
   "source": [
    "%matplotlib inline\n",
    "\n",
    "import pandas as pd\n",
    "import numpy as np\n",
    "import matplotlib.pyplot as plt\n",
    "from scipy.stats import mannwhitneyu\n",
    "import seaborn as sns\n",
    "from matplotlib.gridspec import GridSpec\n",
    "import scanpy as sc\n",
    "import muon as mu\n",
    "import graphtools\n",
    "import magic\n",
    "from matplotlib.pyplot import rc_context\n",
    "from matplotlib import gridspec\n",
    "import os\n",
    "\n",
    "\n",
    "from datashader.mpl_ext import dsshow\n",
    "import datashader as ds\n",
    "\n",
    "import matplotlib.colors\n",
    "cmap = plt.cm.hsv\n",
    "cmaplist = [cmap(i) for i in range(cmap.N)]\n",
    "cmaplist = cmaplist[0:round(len(cmaplist)*0.7)]\n",
    "cmaplist.reverse()\n",
    "cmap = matplotlib.colors.LinearSegmentedColormap.from_list('', cmaplist, cmap.N)\n",
    "\n",
    "import matplotlib.patches as mpatches\n",
    "import matplotlib.pyplot as plt\n",
    "\n",
    "import sys\n",
    "sys.path.append('../../../Code/')\n",
    "from utils import read_dataset_log\n"
   ]
  },
  {
   "cell_type": "code",
   "execution_count": 2,
   "id": "e76cbdb1-8f93-45f2-aada-49283e54d4b3",
   "metadata": {},
   "outputs": [],
   "source": [
    "from matplotlib import rcParams, font_manager\n",
    "import matplotlib\n",
    "\n",
    "\n",
    "rcParams['pdf.fonttype'] = 42\n",
    "rcParams['ps.fonttype'] = 42\n",
    "rcParams['font.family'] = 'sans-serif'\n",
    "rcParams['font.sans-serif'] = ['Arial']"
   ]
  },
  {
   "cell_type": "code",
   "execution_count": 3,
   "id": "0afed950-4005-438c-99b0-96d83bb7fe6a",
   "metadata": {},
   "outputs": [],
   "source": [
    "figdir = '../../../Figures/Components'"
   ]
  },
  {
   "cell_type": "code",
   "execution_count": 4,
   "id": "e84f33a2-0f73-4ffa-9fea-65565ea93cf1",
   "metadata": {},
   "outputs": [],
   "source": [
    "harmony_vars = ['donor']"
   ]
  },
  {
   "cell_type": "code",
   "execution_count": 5,
   "id": "ffed69ed-c2b8-4bef-85ff-386a341d06cb",
   "metadata": {},
   "outputs": [
    {
     "data": {
      "text/html": [
       "<div>\n",
       "<style scoped>\n",
       "    .dataframe tbody tr th:only-of-type {\n",
       "        vertical-align: middle;\n",
       "    }\n",
       "\n",
       "    .dataframe tbody tr th {\n",
       "        vertical-align: top;\n",
       "    }\n",
       "\n",
       "    .dataframe thead th {\n",
       "        text-align: right;\n",
       "    }\n",
       "</style>\n",
       "<table border=\"1\" class=\"dataframe\">\n",
       "  <thead>\n",
       "    <tr style=\"text-align: right;\">\n",
       "      <th></th>\n",
       "      <th>dataset</th>\n",
       "      <th>usage_fn</th>\n",
       "      <th>gene_scores_fn</th>\n",
       "      <th>gene_tpm_fn</th>\n",
       "      <th>tcat_fn</th>\n",
       "      <th>tcat_fn_withsingletons</th>\n",
       "      <th>manual_gating_fn</th>\n",
       "      <th>manual_activation_gating_fn</th>\n",
       "      <th>activation_score_fn</th>\n",
       "      <th>metadata_fn</th>\n",
       "      <th>...</th>\n",
       "      <th>cnmf_dir</th>\n",
       "      <th>k</th>\n",
       "      <th>dt</th>\n",
       "      <th>processed_forcnmf_fn</th>\n",
       "      <th>tpm_counts_for_cnmf_fn</th>\n",
       "      <th>raw_counts_filt_fn</th>\n",
       "      <th>raw_counts_fn</th>\n",
       "      <th>dataset_type</th>\n",
       "      <th>tissue_type</th>\n",
       "      <th>context_label</th>\n",
       "    </tr>\n",
       "    <tr>\n",
       "      <th>dataset</th>\n",
       "      <th></th>\n",
       "      <th></th>\n",
       "      <th></th>\n",
       "      <th></th>\n",
       "      <th></th>\n",
       "      <th></th>\n",
       "      <th></th>\n",
       "      <th></th>\n",
       "      <th></th>\n",
       "      <th></th>\n",
       "      <th></th>\n",
       "      <th></th>\n",
       "      <th></th>\n",
       "      <th></th>\n",
       "      <th></th>\n",
       "      <th></th>\n",
       "      <th></th>\n",
       "      <th></th>\n",
       "      <th></th>\n",
       "      <th></th>\n",
       "      <th></th>\n",
       "    </tr>\n",
       "  </thead>\n",
       "  <tbody>\n",
       "    <tr>\n",
       "      <th>AMP-RA</th>\n",
       "      <td>AMP-RA</td>\n",
       "      <td>/data/srlab1/TCAT/Data/PerDataset/AMPRA/AMPRA....</td>\n",
       "      <td>/data/srlab1/TCAT/Data/PerDataset/AMPRA/AMPRA....</td>\n",
       "      <td>/data/srlab1/TCAT/Data/PerDataset/AMPRA/AMPRA....</td>\n",
       "      <td>/data/srlab1/TCAT/Data/TCAT/TCAT_Usage.2023101...</td>\n",
       "      <td>/data/srlab1/TCAT/Data/TCAT/TCAT_Usage.2023101...</td>\n",
       "      <td>NaN</td>\n",
       "      <td>/data/srlab1/TCAT/Data/PerDataset/AMPRA/Manual...</td>\n",
       "      <td>/data/srlab1/TCAT/Data/PerDataset/AMPRA/Activa...</td>\n",
       "      <td>/data/srlab1/TCAT/Data/PerDataset/AMPRA/AMP_AD...</td>\n",
       "      <td>...</td>\n",
       "      <td>/data/srlab1/TCAT/Data/PerDataset/AMPRA</td>\n",
       "      <td>34.0</td>\n",
       "      <td>0_15</td>\n",
       "      <td>/data/srlab1/TCAT/Data/PerDataset/AMPRA/AMP_AD...</td>\n",
       "      <td>/data/srlab1/TCAT/Data/PerDataset/AMPRA/AMP_AD...</td>\n",
       "      <td>/data/srlab1/TCAT/Data/PerDataset/AMPRA/AMP_AD...</td>\n",
       "      <td>/data/srlab1/TCAT/Data/PerDataset/AMPRA/AMP_AD...</td>\n",
       "      <td>discovery</td>\n",
       "      <td>Synovium</td>\n",
       "      <td>RA+OA</td>\n",
       "    </tr>\n",
       "    <tr>\n",
       "      <th>Pan-Cancer</th>\n",
       "      <td>Pan-Cancer</td>\n",
       "      <td>/data/srlab1/TCAT/Data/PerDataset/Pancancer/Pa...</td>\n",
       "      <td>/data/srlab1/TCAT/Data/PerDataset/Pancancer/Pa...</td>\n",
       "      <td>/data/srlab1/TCAT/Data/PerDataset/Pancancer/Pa...</td>\n",
       "      <td>/data/srlab1/TCAT/Data/TCAT/TCAT_Usage.2023101...</td>\n",
       "      <td>/data/srlab1/TCAT/Data/TCAT/TCAT_Usage.2023101...</td>\n",
       "      <td>NaN</td>\n",
       "      <td>NaN</td>\n",
       "      <td>/data/srlab1/TCAT/Data/PerDataset/Pancancer/Ac...</td>\n",
       "      <td>/data/srlab1/TCAT/Data/PerDataset/Pancancer/pa...</td>\n",
       "      <td>...</td>\n",
       "      <td>/data/srlab1/TCAT/Data/PerDataset/Pancancer</td>\n",
       "      <td>38.0</td>\n",
       "      <td>0.15</td>\n",
       "      <td>/data/srlab1/TCAT/Data/PerDataset/Pancancer/pa...</td>\n",
       "      <td>NaN</td>\n",
       "      <td>/data/srlab1/TCAT/Data/PerDataset/Pancancer/pa...</td>\n",
       "      <td>/data/srlab1/TCAT/Data/PerDataset/Pancancer/pa...</td>\n",
       "      <td>discovery</td>\n",
       "      <td>Pan-Tissue</td>\n",
       "      <td>Cancer+Healthy</td>\n",
       "    </tr>\n",
       "    <tr>\n",
       "      <th>TBRU</th>\n",
       "      <td>TBRU</td>\n",
       "      <td>/data/srlab1/TCAT/Data/PerDataset/TBRU/TBRU.20...</td>\n",
       "      <td>/data/srlab1/TCAT/Data/PerDataset/TBRU/TBRU.20...</td>\n",
       "      <td>/data/srlab1/TCAT/Data/PerDataset/TBRU/TBRU.20...</td>\n",
       "      <td>/data/srlab1/TCAT/Data/TCAT/TCAT_Usage.2023101...</td>\n",
       "      <td>/data/srlab1/TCAT/Data/TCAT/TCAT_Usage.2023101...</td>\n",
       "      <td>NaN</td>\n",
       "      <td>NaN</td>\n",
       "      <td>/data/srlab1/TCAT/Data/PerDataset/TBRU/Activat...</td>\n",
       "      <td>/data/srlab1/TCAT/Data/PerDataset/TBRU/tbru_ex...</td>\n",
       "      <td>...</td>\n",
       "      <td>/data/srlab1/TCAT/Data/PerDataset/TBRU</td>\n",
       "      <td>36.0</td>\n",
       "      <td>0_20</td>\n",
       "      <td>/data/srlab1/TCAT/Data/PerDataset/TBRU/tbru_ex...</td>\n",
       "      <td>/data/srlab1/TCAT/Data/PerDataset/TBRU/tbru_ex...</td>\n",
       "      <td>/data/srlab1/TCAT/Data/PerDataset/TBRU/tbru_ex...</td>\n",
       "      <td>/data/srlab1/TCAT/Data/PerDataset/TBRU/tbru_ex...</td>\n",
       "      <td>discovery</td>\n",
       "      <td>Blood</td>\n",
       "      <td>Healthy</td>\n",
       "    </tr>\n",
       "    <tr>\n",
       "      <th>HIV-Vaccine</th>\n",
       "      <td>HIV-Vaccine</td>\n",
       "      <td>/data/srlab1/TCAT/Data/PerDataset/HaoEtAl/HIVV...</td>\n",
       "      <td>/data/srlab1/TCAT/Data/PerDataset/HaoEtAl/HIVV...</td>\n",
       "      <td>/data/srlab1/TCAT/Data/PerDataset/HaoEtAl/HIVV...</td>\n",
       "      <td>/data/srlab1/TCAT/Data/TCAT/TCAT_Usage.2023101...</td>\n",
       "      <td>/data/srlab1/TCAT/Data/TCAT/TCAT_Usage.2023101...</td>\n",
       "      <td>/data/srlab1/TCAT/Data/PerDataset/HaoEtAl/Manu...</td>\n",
       "      <td>NaN</td>\n",
       "      <td>/data/srlab1/TCAT/Data/PerDataset/HaoEtAl/Acti...</td>\n",
       "      <td>/data/srlab1/TCAT/Data/PerDataset/HaoEtAl/haoe...</td>\n",
       "      <td>...</td>\n",
       "      <td>/data/srlab1/TCAT/Data/PerDataset/HaoEtAl</td>\n",
       "      <td>31.0</td>\n",
       "      <td>0_15</td>\n",
       "      <td>/data/srlab1/TCAT/Data/PerDataset/HaoEtAl/haoe...</td>\n",
       "      <td>/data/srlab1/TCAT/Data/PerDataset/HaoEtAl/haoe...</td>\n",
       "      <td>/data/srlab1/TCAT/Data/PerDataset/HaoEtAl/haoe...</td>\n",
       "      <td>/data/srlab1/TCAT/Data/PerDataset/HaoEtAl/haoe...</td>\n",
       "      <td>discovery</td>\n",
       "      <td>Blood</td>\n",
       "      <td>Post-Vaccine+Healthy</td>\n",
       "    </tr>\n",
       "    <tr>\n",
       "      <th>UK-Covid</th>\n",
       "      <td>UK-Covid</td>\n",
       "      <td>/data/srlab1/TCAT/Data/PerDataset/UKCOVID/UKCO...</td>\n",
       "      <td>/data/srlab1/TCAT/Data/PerDataset/UKCOVID/UKCO...</td>\n",
       "      <td>/data/srlab1/TCAT/Data/PerDataset/UKCOVID/UKCO...</td>\n",
       "      <td>/data/srlab1/TCAT/Data/TCAT/TCAT_Usage.2023101...</td>\n",
       "      <td>/data/srlab1/TCAT/Data/TCAT/TCAT_Usage.2023101...</td>\n",
       "      <td>NaN</td>\n",
       "      <td>/data/srlab1/TCAT/Data/PerDataset/UKCOVID/Manu...</td>\n",
       "      <td>/data/srlab1/TCAT/Data/PerDataset/UKCOVID/Acti...</td>\n",
       "      <td>/data/srlab1/TCAT/Data/PerDataset/UKCOVID/hani...</td>\n",
       "      <td>...</td>\n",
       "      <td>/data/srlab1/TCAT/Data/PerDataset/UKCOVID</td>\n",
       "      <td>44.0</td>\n",
       "      <td>0_20</td>\n",
       "      <td>/data/srlab1/TCAT/Data/PerDataset/UKCOVID/hani...</td>\n",
       "      <td>NaN</td>\n",
       "      <td>/data/srlab1/TCAT/Data/PerDataset/UKCOVID/hani...</td>\n",
       "      <td>/data/srlab1/TCAT/Data/PerDataset/UKCOVID/hani...</td>\n",
       "      <td>discovery</td>\n",
       "      <td>Blood</td>\n",
       "      <td>Covid-19+Healthy</td>\n",
       "    </tr>\n",
       "    <tr>\n",
       "      <th>COMBAT</th>\n",
       "      <td>COMBAT</td>\n",
       "      <td>/data/srlab1/TCAT/Data/PerDataset/COMBAT/COMBA...</td>\n",
       "      <td>/data/srlab1/TCAT/Data/PerDataset/COMBAT/COMBA...</td>\n",
       "      <td>/data/srlab1/TCAT/Data/PerDataset/COMBAT/COMBA...</td>\n",
       "      <td>/data/srlab1/TCAT/Data/TCAT/TCAT_Usage.2023101...</td>\n",
       "      <td>/data/srlab1/TCAT/Data/TCAT/TCAT_Usage.2023101...</td>\n",
       "      <td>/data/srlab1/TCAT/Data/PerDataset/COMBAT/Manua...</td>\n",
       "      <td>/data/srlab1/TCAT/Data/PerDataset/COMBAT/Manua...</td>\n",
       "      <td>/data/srlab1/TCAT/Data/PerDataset/COMBAT/Activ...</td>\n",
       "      <td>/data/srlab1/TCAT/Data/PerDataset/COMBAT/COMBA...</td>\n",
       "      <td>...</td>\n",
       "      <td>/data/srlab1/TCAT/Data/PerDataset/COMBAT</td>\n",
       "      <td>35.0</td>\n",
       "      <td>0_15</td>\n",
       "      <td>/data/srlab1/TCAT/Data/PerDataset/COMBAT/COMBA...</td>\n",
       "      <td>/data/srlab1/TCAT/Data/PerDataset/COMBAT/COMBA...</td>\n",
       "      <td>/data/srlab1/TCAT/Data/PerDataset/COMBAT/COMBA...</td>\n",
       "      <td>/data/srlab1/TCAT/Data/PerDataset/COMBAT/COMBA...</td>\n",
       "      <td>discovery</td>\n",
       "      <td>Blood</td>\n",
       "      <td>Covid-19+Healthy</td>\n",
       "    </tr>\n",
       "    <tr>\n",
       "      <th>Pan-Tissue</th>\n",
       "      <td>Pan-Tissue</td>\n",
       "      <td>/data/srlab1/TCAT/Data/PerDataset/XTissueImmun...</td>\n",
       "      <td>/data/srlab1/TCAT/Data/PerDataset/XTissueImmun...</td>\n",
       "      <td>/data/srlab1/TCAT/Data/PerDataset/XTissueImmun...</td>\n",
       "      <td>/data/srlab1/TCAT/Data/TCAT/TCAT_Usage.2023101...</td>\n",
       "      <td>/data/srlab1/TCAT/Data/TCAT/TCAT_Usage.2023101...</td>\n",
       "      <td>NaN</td>\n",
       "      <td>NaN</td>\n",
       "      <td>/data/srlab1/TCAT/Data/PerDataset/XTissueImmun...</td>\n",
       "      <td>/data/srlab1/TCAT/Data/PerDataset/XTissueImmun...</td>\n",
       "      <td>...</td>\n",
       "      <td>/data/srlab1/TCAT/Data/PerDataset/XTissueImmun...</td>\n",
       "      <td>39.0</td>\n",
       "      <td>0_20</td>\n",
       "      <td>/data/srlab1/TCAT/Data/PerDataset/XTissueImmun...</td>\n",
       "      <td>NaN</td>\n",
       "      <td>/data/srlab1/TCAT/Data/PerDataset/XTissueImmun...</td>\n",
       "      <td>/data/srlab1/TCAT/Data/PerDataset/XTissueImmun...</td>\n",
       "      <td>discovery</td>\n",
       "      <td>Pan-Tissue</td>\n",
       "      <td>Healthy</td>\n",
       "    </tr>\n",
       "    <tr>\n",
       "      <th>Sparks</th>\n",
       "      <td>Sparks</td>\n",
       "      <td>NaN</td>\n",
       "      <td>NaN</td>\n",
       "      <td>NaN</td>\n",
       "      <td>/data/srlab1/TCAT/Data/TCAT/TCAT_Usage.2023101...</td>\n",
       "      <td>NaN</td>\n",
       "      <td>/data/srlab1/TCAT/Data/PerDataset/Sparks2023/M...</td>\n",
       "      <td>/data/srlab1/TCAT/Data/PerDataset/Sparks2023/M...</td>\n",
       "      <td>/data/srlab1/TCAT/Data/PerDataset/Sparks2023/A...</td>\n",
       "      <td>/data/srlab1/TCAT/Data/PerDataset/Sparks2023/T...</td>\n",
       "      <td>...</td>\n",
       "      <td>NaN</td>\n",
       "      <td>NaN</td>\n",
       "      <td>NaN</td>\n",
       "      <td>NaN</td>\n",
       "      <td>NaN</td>\n",
       "      <td>NaN</td>\n",
       "      <td>/data/srlab1/TCAT/Data/PerDataset/Sparks2023/T...</td>\n",
       "      <td>other</td>\n",
       "      <td>Blood</td>\n",
       "      <td>NaN</td>\n",
       "    </tr>\n",
       "    <tr>\n",
       "      <th>Stimseq</th>\n",
       "      <td>Stimseq</td>\n",
       "      <td>NaN</td>\n",
       "      <td>NaN</td>\n",
       "      <td>NaN</td>\n",
       "      <td>/data/srlab1/TCAT/Data/PerDataset/Stimseq/TCAT...</td>\n",
       "      <td>NaN</td>\n",
       "      <td>/data/srlab1/TCAT/Data/PerDataset/Stimseq/Manu...</td>\n",
       "      <td>/data/srlab1/TCAT/Data/PerDataset/Stimseq/Manu...</td>\n",
       "      <td>/data/srlab1/TCAT/Data/PerDataset/Stimseq/Acti...</td>\n",
       "      <td>/data/srlab1/TCAT/Analysis/PerDataset/Stimseq/...</td>\n",
       "      <td>...</td>\n",
       "      <td>NaN</td>\n",
       "      <td>NaN</td>\n",
       "      <td>NaN</td>\n",
       "      <td>/data/srlab1/TCAT/Data/PerDataset/Stimseq/stim...</td>\n",
       "      <td>NaN</td>\n",
       "      <td>/data/srlab1/TCAT/Data/PerDataset/Stimseq/raw....</td>\n",
       "      <td>/data/srlab1/TCAT/Data/PerDataset/Stimseq/raw....</td>\n",
       "      <td>other</td>\n",
       "      <td>Blood</td>\n",
       "      <td>NaN</td>\n",
       "    </tr>\n",
       "  </tbody>\n",
       "</table>\n",
       "<p>9 rows × 26 columns</p>\n",
       "</div>"
      ],
      "text/plain": [
       "                 dataset                                           usage_fn  \\\n",
       "dataset                                                                       \n",
       "AMP-RA            AMP-RA  /data/srlab1/TCAT/Data/PerDataset/AMPRA/AMPRA....   \n",
       "Pan-Cancer    Pan-Cancer  /data/srlab1/TCAT/Data/PerDataset/Pancancer/Pa...   \n",
       "TBRU                TBRU  /data/srlab1/TCAT/Data/PerDataset/TBRU/TBRU.20...   \n",
       "HIV-Vaccine  HIV-Vaccine  /data/srlab1/TCAT/Data/PerDataset/HaoEtAl/HIVV...   \n",
       "UK-Covid        UK-Covid  /data/srlab1/TCAT/Data/PerDataset/UKCOVID/UKCO...   \n",
       "COMBAT            COMBAT  /data/srlab1/TCAT/Data/PerDataset/COMBAT/COMBA...   \n",
       "Pan-Tissue    Pan-Tissue  /data/srlab1/TCAT/Data/PerDataset/XTissueImmun...   \n",
       "Sparks            Sparks                                                NaN   \n",
       "Stimseq          Stimseq                                                NaN   \n",
       "\n",
       "                                                gene_scores_fn  \\\n",
       "dataset                                                          \n",
       "AMP-RA       /data/srlab1/TCAT/Data/PerDataset/AMPRA/AMPRA....   \n",
       "Pan-Cancer   /data/srlab1/TCAT/Data/PerDataset/Pancancer/Pa...   \n",
       "TBRU         /data/srlab1/TCAT/Data/PerDataset/TBRU/TBRU.20...   \n",
       "HIV-Vaccine  /data/srlab1/TCAT/Data/PerDataset/HaoEtAl/HIVV...   \n",
       "UK-Covid     /data/srlab1/TCAT/Data/PerDataset/UKCOVID/UKCO...   \n",
       "COMBAT       /data/srlab1/TCAT/Data/PerDataset/COMBAT/COMBA...   \n",
       "Pan-Tissue   /data/srlab1/TCAT/Data/PerDataset/XTissueImmun...   \n",
       "Sparks                                                     NaN   \n",
       "Stimseq                                                    NaN   \n",
       "\n",
       "                                                   gene_tpm_fn  \\\n",
       "dataset                                                          \n",
       "AMP-RA       /data/srlab1/TCAT/Data/PerDataset/AMPRA/AMPRA....   \n",
       "Pan-Cancer   /data/srlab1/TCAT/Data/PerDataset/Pancancer/Pa...   \n",
       "TBRU         /data/srlab1/TCAT/Data/PerDataset/TBRU/TBRU.20...   \n",
       "HIV-Vaccine  /data/srlab1/TCAT/Data/PerDataset/HaoEtAl/HIVV...   \n",
       "UK-Covid     /data/srlab1/TCAT/Data/PerDataset/UKCOVID/UKCO...   \n",
       "COMBAT       /data/srlab1/TCAT/Data/PerDataset/COMBAT/COMBA...   \n",
       "Pan-Tissue   /data/srlab1/TCAT/Data/PerDataset/XTissueImmun...   \n",
       "Sparks                                                     NaN   \n",
       "Stimseq                                                    NaN   \n",
       "\n",
       "                                                       tcat_fn  \\\n",
       "dataset                                                          \n",
       "AMP-RA       /data/srlab1/TCAT/Data/TCAT/TCAT_Usage.2023101...   \n",
       "Pan-Cancer   /data/srlab1/TCAT/Data/TCAT/TCAT_Usage.2023101...   \n",
       "TBRU         /data/srlab1/TCAT/Data/TCAT/TCAT_Usage.2023101...   \n",
       "HIV-Vaccine  /data/srlab1/TCAT/Data/TCAT/TCAT_Usage.2023101...   \n",
       "UK-Covid     /data/srlab1/TCAT/Data/TCAT/TCAT_Usage.2023101...   \n",
       "COMBAT       /data/srlab1/TCAT/Data/TCAT/TCAT_Usage.2023101...   \n",
       "Pan-Tissue   /data/srlab1/TCAT/Data/TCAT/TCAT_Usage.2023101...   \n",
       "Sparks       /data/srlab1/TCAT/Data/TCAT/TCAT_Usage.2023101...   \n",
       "Stimseq      /data/srlab1/TCAT/Data/PerDataset/Stimseq/TCAT...   \n",
       "\n",
       "                                        tcat_fn_withsingletons  \\\n",
       "dataset                                                          \n",
       "AMP-RA       /data/srlab1/TCAT/Data/TCAT/TCAT_Usage.2023101...   \n",
       "Pan-Cancer   /data/srlab1/TCAT/Data/TCAT/TCAT_Usage.2023101...   \n",
       "TBRU         /data/srlab1/TCAT/Data/TCAT/TCAT_Usage.2023101...   \n",
       "HIV-Vaccine  /data/srlab1/TCAT/Data/TCAT/TCAT_Usage.2023101...   \n",
       "UK-Covid     /data/srlab1/TCAT/Data/TCAT/TCAT_Usage.2023101...   \n",
       "COMBAT       /data/srlab1/TCAT/Data/TCAT/TCAT_Usage.2023101...   \n",
       "Pan-Tissue   /data/srlab1/TCAT/Data/TCAT/TCAT_Usage.2023101...   \n",
       "Sparks                                                     NaN   \n",
       "Stimseq                                                    NaN   \n",
       "\n",
       "                                              manual_gating_fn  \\\n",
       "dataset                                                          \n",
       "AMP-RA                                                     NaN   \n",
       "Pan-Cancer                                                 NaN   \n",
       "TBRU                                                       NaN   \n",
       "HIV-Vaccine  /data/srlab1/TCAT/Data/PerDataset/HaoEtAl/Manu...   \n",
       "UK-Covid                                                   NaN   \n",
       "COMBAT       /data/srlab1/TCAT/Data/PerDataset/COMBAT/Manua...   \n",
       "Pan-Tissue                                                 NaN   \n",
       "Sparks       /data/srlab1/TCAT/Data/PerDataset/Sparks2023/M...   \n",
       "Stimseq      /data/srlab1/TCAT/Data/PerDataset/Stimseq/Manu...   \n",
       "\n",
       "                                   manual_activation_gating_fn  \\\n",
       "dataset                                                          \n",
       "AMP-RA       /data/srlab1/TCAT/Data/PerDataset/AMPRA/Manual...   \n",
       "Pan-Cancer                                                 NaN   \n",
       "TBRU                                                       NaN   \n",
       "HIV-Vaccine                                                NaN   \n",
       "UK-Covid     /data/srlab1/TCAT/Data/PerDataset/UKCOVID/Manu...   \n",
       "COMBAT       /data/srlab1/TCAT/Data/PerDataset/COMBAT/Manua...   \n",
       "Pan-Tissue                                                 NaN   \n",
       "Sparks       /data/srlab1/TCAT/Data/PerDataset/Sparks2023/M...   \n",
       "Stimseq      /data/srlab1/TCAT/Data/PerDataset/Stimseq/Manu...   \n",
       "\n",
       "                                           activation_score_fn  \\\n",
       "dataset                                                          \n",
       "AMP-RA       /data/srlab1/TCAT/Data/PerDataset/AMPRA/Activa...   \n",
       "Pan-Cancer   /data/srlab1/TCAT/Data/PerDataset/Pancancer/Ac...   \n",
       "TBRU         /data/srlab1/TCAT/Data/PerDataset/TBRU/Activat...   \n",
       "HIV-Vaccine  /data/srlab1/TCAT/Data/PerDataset/HaoEtAl/Acti...   \n",
       "UK-Covid     /data/srlab1/TCAT/Data/PerDataset/UKCOVID/Acti...   \n",
       "COMBAT       /data/srlab1/TCAT/Data/PerDataset/COMBAT/Activ...   \n",
       "Pan-Tissue   /data/srlab1/TCAT/Data/PerDataset/XTissueImmun...   \n",
       "Sparks       /data/srlab1/TCAT/Data/PerDataset/Sparks2023/A...   \n",
       "Stimseq      /data/srlab1/TCAT/Data/PerDataset/Stimseq/Acti...   \n",
       "\n",
       "                                                   metadata_fn  ...  \\\n",
       "dataset                                                         ...   \n",
       "AMP-RA       /data/srlab1/TCAT/Data/PerDataset/AMPRA/AMP_AD...  ...   \n",
       "Pan-Cancer   /data/srlab1/TCAT/Data/PerDataset/Pancancer/pa...  ...   \n",
       "TBRU         /data/srlab1/TCAT/Data/PerDataset/TBRU/tbru_ex...  ...   \n",
       "HIV-Vaccine  /data/srlab1/TCAT/Data/PerDataset/HaoEtAl/haoe...  ...   \n",
       "UK-Covid     /data/srlab1/TCAT/Data/PerDataset/UKCOVID/hani...  ...   \n",
       "COMBAT       /data/srlab1/TCAT/Data/PerDataset/COMBAT/COMBA...  ...   \n",
       "Pan-Tissue   /data/srlab1/TCAT/Data/PerDataset/XTissueImmun...  ...   \n",
       "Sparks       /data/srlab1/TCAT/Data/PerDataset/Sparks2023/T...  ...   \n",
       "Stimseq      /data/srlab1/TCAT/Analysis/PerDataset/Stimseq/...  ...   \n",
       "\n",
       "                                                      cnmf_dir     k    dt  \\\n",
       "dataset                                                                      \n",
       "AMP-RA                 /data/srlab1/TCAT/Data/PerDataset/AMPRA  34.0  0_15   \n",
       "Pan-Cancer         /data/srlab1/TCAT/Data/PerDataset/Pancancer  38.0  0.15   \n",
       "TBRU                    /data/srlab1/TCAT/Data/PerDataset/TBRU  36.0  0_20   \n",
       "HIV-Vaccine          /data/srlab1/TCAT/Data/PerDataset/HaoEtAl  31.0  0_15   \n",
       "UK-Covid             /data/srlab1/TCAT/Data/PerDataset/UKCOVID  44.0  0_20   \n",
       "COMBAT                /data/srlab1/TCAT/Data/PerDataset/COMBAT  35.0  0_15   \n",
       "Pan-Tissue   /data/srlab1/TCAT/Data/PerDataset/XTissueImmun...  39.0  0_20   \n",
       "Sparks                                                     NaN   NaN   NaN   \n",
       "Stimseq                                                    NaN   NaN   NaN   \n",
       "\n",
       "                                          processed_forcnmf_fn  \\\n",
       "dataset                                                          \n",
       "AMP-RA       /data/srlab1/TCAT/Data/PerDataset/AMPRA/AMP_AD...   \n",
       "Pan-Cancer   /data/srlab1/TCAT/Data/PerDataset/Pancancer/pa...   \n",
       "TBRU         /data/srlab1/TCAT/Data/PerDataset/TBRU/tbru_ex...   \n",
       "HIV-Vaccine  /data/srlab1/TCAT/Data/PerDataset/HaoEtAl/haoe...   \n",
       "UK-Covid     /data/srlab1/TCAT/Data/PerDataset/UKCOVID/hani...   \n",
       "COMBAT       /data/srlab1/TCAT/Data/PerDataset/COMBAT/COMBA...   \n",
       "Pan-Tissue   /data/srlab1/TCAT/Data/PerDataset/XTissueImmun...   \n",
       "Sparks                                                     NaN   \n",
       "Stimseq      /data/srlab1/TCAT/Data/PerDataset/Stimseq/stim...   \n",
       "\n",
       "                                        tpm_counts_for_cnmf_fn  \\\n",
       "dataset                                                          \n",
       "AMP-RA       /data/srlab1/TCAT/Data/PerDataset/AMPRA/AMP_AD...   \n",
       "Pan-Cancer                                                 NaN   \n",
       "TBRU         /data/srlab1/TCAT/Data/PerDataset/TBRU/tbru_ex...   \n",
       "HIV-Vaccine  /data/srlab1/TCAT/Data/PerDataset/HaoEtAl/haoe...   \n",
       "UK-Covid                                                   NaN   \n",
       "COMBAT       /data/srlab1/TCAT/Data/PerDataset/COMBAT/COMBA...   \n",
       "Pan-Tissue                                                 NaN   \n",
       "Sparks                                                     NaN   \n",
       "Stimseq                                                    NaN   \n",
       "\n",
       "                                            raw_counts_filt_fn  \\\n",
       "dataset                                                          \n",
       "AMP-RA       /data/srlab1/TCAT/Data/PerDataset/AMPRA/AMP_AD...   \n",
       "Pan-Cancer   /data/srlab1/TCAT/Data/PerDataset/Pancancer/pa...   \n",
       "TBRU         /data/srlab1/TCAT/Data/PerDataset/TBRU/tbru_ex...   \n",
       "HIV-Vaccine  /data/srlab1/TCAT/Data/PerDataset/HaoEtAl/haoe...   \n",
       "UK-Covid     /data/srlab1/TCAT/Data/PerDataset/UKCOVID/hani...   \n",
       "COMBAT       /data/srlab1/TCAT/Data/PerDataset/COMBAT/COMBA...   \n",
       "Pan-Tissue   /data/srlab1/TCAT/Data/PerDataset/XTissueImmun...   \n",
       "Sparks                                                     NaN   \n",
       "Stimseq      /data/srlab1/TCAT/Data/PerDataset/Stimseq/raw....   \n",
       "\n",
       "                                                 raw_counts_fn  dataset_type  \\\n",
       "dataset                                                                        \n",
       "AMP-RA       /data/srlab1/TCAT/Data/PerDataset/AMPRA/AMP_AD...     discovery   \n",
       "Pan-Cancer   /data/srlab1/TCAT/Data/PerDataset/Pancancer/pa...     discovery   \n",
       "TBRU         /data/srlab1/TCAT/Data/PerDataset/TBRU/tbru_ex...     discovery   \n",
       "HIV-Vaccine  /data/srlab1/TCAT/Data/PerDataset/HaoEtAl/haoe...     discovery   \n",
       "UK-Covid     /data/srlab1/TCAT/Data/PerDataset/UKCOVID/hani...     discovery   \n",
       "COMBAT       /data/srlab1/TCAT/Data/PerDataset/COMBAT/COMBA...     discovery   \n",
       "Pan-Tissue   /data/srlab1/TCAT/Data/PerDataset/XTissueImmun...     discovery   \n",
       "Sparks       /data/srlab1/TCAT/Data/PerDataset/Sparks2023/T...         other   \n",
       "Stimseq      /data/srlab1/TCAT/Data/PerDataset/Stimseq/raw....         other   \n",
       "\n",
       "            tissue_type         context_label  \n",
       "dataset                                        \n",
       "AMP-RA         Synovium                 RA+OA  \n",
       "Pan-Cancer   Pan-Tissue        Cancer+Healthy  \n",
       "TBRU              Blood               Healthy  \n",
       "HIV-Vaccine       Blood  Post-Vaccine+Healthy  \n",
       "UK-Covid          Blood      Covid-19+Healthy  \n",
       "COMBAT            Blood      Covid-19+Healthy  \n",
       "Pan-Tissue   Pan-Tissue               Healthy  \n",
       "Sparks            Blood                   NaN  \n",
       "Stimseq           Blood                   NaN  \n",
       "\n",
       "[9 rows x 26 columns]"
      ]
     },
     "execution_count": 5,
     "metadata": {},
     "output_type": "execute_result"
    }
   ],
   "source": [
    "params = read_dataset_log('Dataset Paths')\n",
    "params.index = params['dataset']\n",
    "params"
   ]
  },
  {
   "cell_type": "raw",
   "id": "ca622da8-64a9-4f0a-bf9b-0845691ab80f",
   "metadata": {},
   "source": [
    "meta_params = pd.ExcelFile('../../../Data/Dataset_completion_log.xlsx').parse('Current Meta-program Paths')\n",
    "clus_fn = meta_params.loc[0, 'clustering_fn']\n",
    "\n",
    "clus_df = pd.read_csv(clus_fn, sep = '\\t', index_col = 0)\n",
    "\n",
    "dataset = 'Healthy (Hao)'\n",
    "\n",
    "### Get meta-programs where there is a corresponding dataset-specific program\n",
    "dataset_prgs = pd.DataFrame([(metaprg, ''.join([subprg for subprg in clus_df.loc[(metaprg), ].dropna() \n",
    "                                                if dataset in subprg]).replace(dataset + ':', '')) \n",
    "              for metaprg in clus_df.index], columns = ['meta_prg', 'dataset_prg'])\n",
    "\n",
    "dataset_prgs = dataset_prgs[dataset_prgs['dataset_prg']!='']\n",
    "dataset_prgs.index = dataset_prgs['dataset_prg']"
   ]
  },
  {
   "cell_type": "raw",
   "id": "23a68e48-55a5-4ab8-9e7d-40d20a7331a0",
   "metadata": {},
   "source": [
    "# Subset to just Hao programs for comparison, rename columns to match Hao\n",
    "tcat_filt = tcat_usage.copy()\n",
    "tcat_filt = tcat_filt[dataset_prgs['meta_prg']]\n",
    "tcat_filt.columns = dataset_prgs['dataset_prg']\n"
   ]
  },
  {
   "cell_type": "raw",
   "id": "e0775e96-7c04-4519-8b54-dcbfcc4c3d95",
   "metadata": {},
   "source": [
    "# CM/EM labels by Kaitlyn\n",
    "import pyreadr\n",
    "cmem_labels = pyreadr.read_r('/data/srlab1/mcurtis/GSK/tcell_proliferation/Covid_COMBAT/combatCMEMlabels_0405.rds') # also works for RData\n",
    "cmem_labels = cmem_labels[None] # extract the pandas data frame \n",
    "cmem_labels.index = cmem_labels['X']"
   ]
  },
  {
   "cell_type": "markdown",
   "id": "9f19a58a-3440-4533-93d3-fce0d5ef18a6",
   "metadata": {},
   "source": [
    "Kaitlyn's defining CM/EM \n",
    "\n",
    "for CCA integrating RNA and protein, I used:\n",
    "\n",
    "```prots_inc = c(\"AB_CD27\", \"AB_CD11a\", \"AB_CX3CR1\", \"AB_KLRG1_MAFA\", \"AB_CD4\", \"AB_CD8\", \"AB_CD45RO\", \"AB_CD45RA\", \"AB_CD197_CCR7\", \"AB_CD62L\")```\n",
    "\n",
    "then, I clustered cells on that embedding and used CD62L, CCR7, and CD27 to distinguish CM from EM"
   ]
  },
  {
   "cell_type": "markdown",
   "id": "3e417df4-d96b-43e9-874f-e7ef767707fd",
   "metadata": {},
   "source": [
    "# Prepare markers"
   ]
  },
  {
   "cell_type": "code",
   "execution_count": 6,
   "id": "58aaed1c-ffa1-48af-b8fa-801dad290126",
   "metadata": {},
   "outputs": [],
   "source": [
    "dataset = 'TBRU'"
   ]
  },
  {
   "cell_type": "code",
   "execution_count": 6,
   "id": "c6b385bd-8754-43ce-91de-2301610a282f",
   "metadata": {},
   "outputs": [
    {
     "data": {
      "text/plain": [
       "'/data/srlab1/TCAT/Data/PerDataset/TBRU/tbru_exprs_raw_updated.ADTfixed.h5ad'"
      ]
     },
     "execution_count": 6,
     "metadata": {},
     "output_type": "execute_result"
    }
   ],
   "source": [
    "params.loc[dataset, 'raw_counts_fn']"
   ]
  },
  {
   "cell_type": "code",
   "execution_count": 7,
   "id": "8676ee95-bee3-482f-8dbe-dd6713e127eb",
   "metadata": {},
   "outputs": [
    {
     "data": {
      "text/plain": [
       "'/data/srlab1/TCAT/Data/PerDataset/TBRU/tbru_exprs_raw_updated.ADTfixed.h5ad'"
      ]
     },
     "execution_count": 7,
     "metadata": {},
     "output_type": "execute_result"
    }
   ],
   "source": [
    "raw_counts_fn = params.loc[dataset, 'raw_counts_fn'] #'/data/srlab1/TCAT/Data/PerDataset/COMBAT/COMBAT-CITESeq-DATA.Raw.T.ADTfixed.h5ad'\n",
    "raw_counts_fn"
   ]
  },
  {
   "cell_type": "code",
   "execution_count": 8,
   "id": "637efc48-09b3-4e51-87c6-ae9be5cf656e",
   "metadata": {},
   "outputs": [],
   "source": [
    "outdir = '../../../Data/PerDataset/TBRU'"
   ]
  },
  {
   "cell_type": "code",
   "execution_count": 9,
   "id": "8bdb8aed-d836-44cc-bc96-70c53d6756ac",
   "metadata": {
    "tags": []
   },
   "outputs": [],
   "source": [
    "adata = sc.read(raw_counts_fn)\n",
    "# adata.obs['frac_ADT'] = adata.obs['nCount_ADT'] / (adata.obs['nCount_ADT'] + adata.obs['nCount_RNA'])\n",
    "ind = adata.var['feature_types']=='Antibody Capture'"
   ]
  },
  {
   "cell_type": "code",
   "execution_count": 10,
   "id": "b8ac5f4e-1cdc-4cf0-b90f-f294cfdc98a0",
   "metadata": {
    "tags": []
   },
   "outputs": [
    {
     "name": "stderr",
     "output_type": "stream",
     "text": [
      "findfont: Font family ['sans-serif'] not found. Falling back to DejaVu Sans.\n",
      "findfont: Generic family 'sans-serif' not found because none of the following families were found: Arial\n",
      "findfont: Font family ['sans-serif'] not found. Falling back to DejaVu Sans.\n",
      "findfont: Generic family 'sans-serif' not found because none of the following families were found: Arial\n",
      "findfont: Font family ['sans-serif'] not found. Falling back to DejaVu Sans.\n",
      "findfont: Generic family 'sans-serif' not found because none of the following families were found: Arial\n"
     ]
    },
    {
     "data": {
      "image/png": "[encoded data removed]",
      "text/plain": [
       "<Figure size 432x288 with 1 Axes>"
      ]
     },
     "metadata": {
      "needs_background": "light"
     },
     "output_type": "display_data"
    }
   ],
   "source": [
    "adata_RNA = adata[:,~ind].copy()\n",
    "sc.pp.highly_variable_genes(adata_RNA, flavor='seurat_v3', n_top_genes=2000)\n",
    "sc.pp.normalize_per_cell(adata_RNA, counts_per_cell_after=1e4)\n",
    "sc.pp.log1p(adata_RNA)\n",
    "sc.pp.scale(adata_RNA, zero_center=False)\n",
    "sc.tl.pca(adata_RNA, use_highly_variable=True, zero_center=True)\n",
    "sc.pl.pca_variance_ratio(adata_RNA, log=True, n_pcs=50)"
   ]
  },
  {
   "cell_type": "code",
   "execution_count": 11,
   "id": "2b848f7d-0154-453d-affe-dde185a43cce",
   "metadata": {},
   "outputs": [
    {
     "name": "stderr",
     "output_type": "stream",
     "text": [
      "2024-02-06 09:54:21,478 - harmonypy - INFO - Iteration 1 of 30\n",
      "2024-02-06 10:06:55,363 - harmonypy - INFO - Iteration 2 of 30\n",
      "2024-02-06 10:19:13,891 - harmonypy - INFO - Iteration 3 of 30\n",
      "2024-02-06 10:32:25,834 - harmonypy - INFO - Iteration 4 of 30\n",
      "2024-02-06 10:41:57,733 - harmonypy - INFO - Converged after 4 iterations\n"
     ]
    }
   ],
   "source": [
    "sc.external.pp.harmony_integrate(adata_RNA,  harmony_vars, max_iter_harmony = 30)\n"
   ]
  },
  {
   "cell_type": "code",
   "execution_count": 12,
   "id": "5580bd08-b24a-4d7b-882b-7e83e9e33827",
   "metadata": {},
   "outputs": [],
   "source": [
    "sc.pp.neighbors(adata_RNA, n_neighbors=5, n_pcs=39, use_rep='X_pca_harmony')"
   ]
  },
  {
   "cell_type": "code",
   "execution_count": 13,
   "id": "6c57497d-a605-442f-b933-bc0005694d9c",
   "metadata": {},
   "outputs": [
    {
     "name": "stdout",
     "output_type": "stream",
     "text": [
      "../../../Data/PerDataset/TBRU/RNA_logTP1K_ForMAGIC.h5ad\n"
     ]
    }
   ],
   "source": [
    "outfn = os.path.join(outdir, 'RNA_logTP1K_ForMAGIC.h5ad')\n",
    "print(outfn)"
   ]
  },
  {
   "cell_type": "code",
   "execution_count": 14,
   "id": "ec4496d8-a798-4e00-8cec-0529c9abcf3b",
   "metadata": {},
   "outputs": [],
   "source": [
    "adata_RNA.write(outfn)"
   ]
  },
  {
   "cell_type": "code",
   "execution_count": null,
   "id": "8110635c-42de-4c80-b337-2bc97994c5f5",
   "metadata": {},
   "outputs": [],
   "source": [
    "adata_RNA = sc.read(outfn)"
   ]
  },
  {
   "cell_type": "markdown",
   "id": "c73a6237-5867-43c4-aabc-9db9e5191c60",
   "metadata": {},
   "source": [
    "Neighbors function kills kernel. Return to whatever this environment issue is later if necessary."
   ]
  },
  {
   "cell_type": "code",
   "execution_count": 11,
   "id": "48e0c09c-9b61-4a2b-8ba1-f908cdac4fa7",
   "metadata": {},
   "outputs": [
    {
     "name": "stderr",
     "output_type": "stream",
     "text": [
      "findfont: Font family ['sans-serif'] not found. Falling back to DejaVu Sans.\n",
      "findfont: Generic family 'sans-serif' not found because none of the following families were found: Arial\n",
      "findfont: Font family ['sans-serif'] not found. Falling back to DejaVu Sans.\n",
      "findfont: Generic family 'sans-serif' not found because none of the following families were found: Arial\n",
      "findfont: Font family ['sans-serif'] not found. Falling back to DejaVu Sans.\n",
      "findfont: Generic family 'sans-serif' not found because none of the following families were found: Arial\n"
     ]
    },
    {
     "data": {
      "image/png": "[encoded data removed]",
      "text/plain": [
       "<Figure size 432x288 with 1 Axes>"
      ]
     },
     "metadata": {
      "needs_background": "light"
     },
     "output_type": "display_data"
    }
   ],
   "source": [
    "adata_ADT = adata[:,ind].copy()\n",
    "sc.pp.normalize_per_cell(adata_ADT, counts_per_cell_after=1e4)\n",
    "Z = adata_ADT.X.todense()\n",
    "Z[Z==0] = np.nan\n",
    "gmean = np.exp(np.nansum(np.log(Z+1), axis=1) / Z.shape[1])\n",
    "Z = np.log((Z / gmean) + 1)\n",
    "Z[np.isnan(Z)]=0\n",
    "adata_ADT.X = np.array(Z)\n",
    "\n",
    "sc.pp.scale(adata_ADT, zero_center=False, max_value=15)\n",
    "\n",
    "sc.tl.pca(adata_ADT, zero_center=True)\n",
    "sc.pl.pca_variance_ratio(adata_ADT, log=True, n_pcs=45)"
   ]
  },
  {
   "cell_type": "code",
   "execution_count": 13,
   "id": "6aaa2d15-5b1b-4e3d-bde7-deeaf2b6d08f",
   "metadata": {},
   "outputs": [
    {
     "name": "stderr",
     "output_type": "stream",
     "text": [
      "2024-02-05 21:04:55,163 - harmonypy - INFO - Iteration 1 of 30\n",
      "2024-02-05 22:07:52,720 - harmonypy - INFO - Iteration 2 of 30\n",
      "2024-02-05 22:58:55,309 - harmonypy - INFO - Iteration 3 of 30\n",
      "2024-02-05 23:40:53,885 - harmonypy - INFO - Iteration 4 of 30\n",
      "2024-02-06 00:13:52,191 - harmonypy - INFO - Iteration 5 of 30\n",
      "2024-02-06 00:47:39,497 - harmonypy - INFO - Iteration 6 of 30\n",
      "2024-02-06 01:21:54,997 - harmonypy - INFO - Iteration 7 of 30\n",
      "2024-02-06 01:54:23,768 - harmonypy - INFO - Iteration 8 of 30\n",
      "2024-02-06 02:28:50,899 - harmonypy - INFO - Converged after 8 iterations\n"
     ]
    }
   ],
   "source": [
    "sc.external.pp.harmony_integrate(adata_ADT,  harmony_vars, max_iter_harmony = 30)"
   ]
  },
  {
   "cell_type": "code",
   "execution_count": 17,
   "id": "c308aa71-0ba8-4007-987d-8363f9262338",
   "metadata": {},
   "outputs": [
    {
     "data": {
      "text/plain": [
       "(500089, 30)"
      ]
     },
     "execution_count": 17,
     "metadata": {},
     "output_type": "execute_result"
    }
   ],
   "source": [
    "adata_ADT.obsm['X_pca_harmony'].shape"
   ]
  },
  {
   "cell_type": "code",
   "execution_count": 18,
   "id": "e5d9ccb5-3a9f-45c0-82da-582029bcce81",
   "metadata": {},
   "outputs": [],
   "source": [
    "sc.pp.neighbors(adata_ADT, n_neighbors=5, n_pcs=30, use_rep='X_pca_harmony')"
   ]
  },
  {
   "cell_type": "code",
   "execution_count": 12,
   "id": "9d3981fb-61a5-404b-9ded-844ef59526c8",
   "metadata": {},
   "outputs": [
    {
     "name": "stdout",
     "output_type": "stream",
     "text": [
      "../../../Data/PerDataset/TBRU/ADT_TP10KCLR_ForMAGIC.h5ad\n"
     ]
    }
   ],
   "source": [
    "outfn = os.path.join(outdir, 'ADT_TP10KCLR_ForMAGIC.h5ad')\n",
    "print(outfn)"
   ]
  },
  {
   "cell_type": "code",
   "execution_count": 20,
   "id": "d4b819eb-e9ee-4a56-860b-f7a4b53a7cf1",
   "metadata": {},
   "outputs": [],
   "source": [
    "adata_ADT.write(outfn)"
   ]
  },
  {
   "cell_type": "code",
   "execution_count": null,
   "id": "0d5fa7cf-2b9b-4df1-9128-e4cb5c21b1af",
   "metadata": {},
   "outputs": [],
   "source": [
    "adata_ADT = sc.read(outfn)"
   ]
  },
  {
   "cell_type": "code",
   "execution_count": null,
   "id": "acde2dd3-5a7d-4705-bcaa-ee0bb701090e",
   "metadata": {},
   "outputs": [],
   "source": [
    "rna_markers = ['TRAC', 'TRGC1', 'TRDC', 'TRBC1', 'IL2RA', 'FOXP3', 'SELL', 'CCR7', 'KLRB1', 'RTKN2', 'IL7R', 'PASK', 'GATA3',\n",
    "               'CCR4', 'STAT1', 'IRF4', 'TBX21', 'IFNG', 'CCR5', 'CXCR3', 'CCR6', 'CCL20', 'IL4R', 'IL4', 'STAT4',  'STAT6',  'CCR1', 'IL10',\n",
    "               'IL17B', 'IL17A', 'IL17F', 'IL17D', 'IL17C', 'RORC', 'RORA', 'STAT3']"
   ]
  },
  {
   "cell_type": "code",
   "execution_count": null,
   "id": "45701673-a3f8-4c08-87cd-ea1a1afde962",
   "metadata": {},
   "outputs": [],
   "source": [
    "set(rna_markers) - set(adata_RNA.var.index)"
   ]
  },
  {
   "cell_type": "code",
   "execution_count": null,
   "id": "35bbbbd4-d290-45bf-8337-dd573a71d813",
   "metadata": {},
   "outputs": [],
   "source": [
    "adt_markers = ['AB_CD3-1', 'AB_CD4-2',\n",
    "               'AB_CD8', 'AB_CD45RA', 'AB_CD45RO',  'AB_CD18', 'AB_CD161',  'AB_CD194', 'AB_CD195', 'AB_CD196', 'AB_CXCR3',\n",
    "               'AB_CD25', 'AB_CD127', \n",
    "               'AB_CD27-1',\n",
    "               'AB_TCR-Vd2', 'AB_TCR-V-7.2', 'AB_TCR-V-9', 'AB_abTCR', 'AB_gdTCR',\n",
    "               'AB_CD31', 'AB_CD62L', 'AB_CCR7',\n",
    "               'AB_CD314',\n",
    "               'AB_CD38-1', 'AB_CD39',\n",
    "              'AB_CD94', 'AB_CD49b', 'AB_CD28'] "
   ]
  },
  {
   "cell_type": "code",
   "execution_count": null,
   "id": "35672f6d-7f03-467d-887c-603ca6f9d763",
   "metadata": {
    "tags": []
   },
   "outputs": [],
   "source": [
    "sorted(adata_ADT.var.index)"
   ]
  },
  {
   "cell_type": "code",
   "execution_count": null,
   "id": "2d393137-570c-4c07-b86d-21a5ee175972",
   "metadata": {
    "tags": []
   },
   "outputs": [],
   "source": [
    "set(adt_markers) - set(adata_ADT.var.index)"
   ]
  },
  {
   "cell_type": "code",
   "execution_count": null,
   "id": "cfdde7f6-fa03-4ead-9c87-c578e8ace918",
   "metadata": {},
   "outputs": [],
   "source": [
    "adt_markers = list(set(adt_markers).intersection(adata_ADT.var.index))"
   ]
  },
  {
   "cell_type": "code",
   "execution_count": null,
   "id": "48fc9c06-21bb-462f-9a2c-7ed1ea3ff746",
   "metadata": {},
   "outputs": [],
   "source": [
    "G = graphtools.Graph(data=adata_RNA.obsp['connectivities'], precomputed='affinity')\n",
    "magic_operator = magic.MAGIC(t=3)\n",
    "magic_operator.fit(adata_RNA.X, graph=G)\n",
    "markers_magic = magic_operator.transform(X=adata_RNA[:, rna_markers].X)\n",
    "markers_magic = pd.DataFrame(markers_magic, index=adata_RNA.obs.index, columns=rna_markers)"
   ]
  },
  {
   "cell_type": "code",
   "execution_count": null,
   "id": "99944525-ae52-4d6b-99ee-370c02b03968",
   "metadata": {},
   "outputs": [],
   "source": [
    "G = graphtools.Graph(data=adata_ADT.obsp['connectivities'], precomputed='affinity')\n",
    "magic_operator = magic.MAGIC(t=3)\n",
    "magic_operator.fit(adata_ADT.X, graph=G)\n",
    "markers_magic_adt = magic_operator.transform(X=adata_ADT[:, adt_markers].X)\n",
    "markers_magic_adt = pd.DataFrame(markers_magic_adt, index=adata_ADT.obs.index, columns=adt_markers)"
   ]
  },
  {
   "cell_type": "code",
   "execution_count": null,
   "id": "ad271fc8-7a50-4557-b8e8-5043cd631edf",
   "metadata": {},
   "outputs": [],
   "source": [
    "for g in adt_markers:\n",
    "    markers_magic[g] = markers_magic_adt[g]\n",
    "    \n",
    "# markers_magic['frac_ADT'] = adata.obs['frac_ADT']"
   ]
  },
  {
   "cell_type": "code",
   "execution_count": null,
   "id": "5f5487bc-3642-42ad-b66c-55adb3d23929",
   "metadata": {},
   "outputs": [],
   "source": [
    "outfn = os.path.join(outdir, 'ManualGating.MagicMarker.RNA_LogTP10KADT.ADT_CLRTP10K.tsv')\n",
    "print(outfn)"
   ]
  },
  {
   "cell_type": "code",
   "execution_count": null,
   "id": "9aa4eb8e-cb81-4ecb-9c57-900aedd19c71",
   "metadata": {},
   "outputs": [],
   "source": [
    "markers_magic.to_csv(outfn, sep='\\t')"
   ]
  },
  {
   "cell_type": "code",
   "execution_count": null,
   "id": "73410981-a4f0-40c1-b903-34f30502a9f2",
   "metadata": {},
   "outputs": [],
   "source": [
    "markers_magic = pd.read_csv(outfn, sep='\\t', index_col=0)"
   ]
  },
  {
   "cell_type": "code",
   "execution_count": null,
   "id": "4b6fa643-974e-43e3-b5f7-17b036e2b082",
   "metadata": {},
   "outputs": [],
   "source": [
    "markers_magic.head()"
   ]
  },
  {
   "cell_type": "code",
   "execution_count": null,
   "id": "c88ab1af-e547-46fb-b321-1b9751b465b2",
   "metadata": {},
   "outputs": [],
   "source": [
    "unsmoothed_markers = pd.DataFrame(np.concatenate([adata_RNA[:, rna_markers].X.toarray(), np.array(adata_ADT[:, adt_markers].X)], axis=1), index=adata_RNA.obs.index,\n",
    "             columns=(rna_markers+adt_markers))"
   ]
  },
  {
   "cell_type": "code",
   "execution_count": null,
   "id": "da4ea348-edef-4e4c-8217-2bd4fc92d9c5",
   "metadata": {},
   "outputs": [],
   "source": [
    "outfn = os.path.join(outdir, 'ManualGating.UnsmoothedMarker.RNA_LogTP10KADT.ADT_CLRTP10K.tsv')\n",
    "print(outfn)"
   ]
  },
  {
   "cell_type": "code",
   "execution_count": null,
   "id": "05e6bf58-fb3e-4a9a-b65d-4fdf2c404787",
   "metadata": {},
   "outputs": [],
   "source": [
    "unsmoothed_markers.to_csv(outfn, sep='\\t')"
   ]
  },
  {
   "cell_type": "code",
   "execution_count": null,
   "id": "86a4dd45-76ad-485a-83c4-a540faa1ab9b",
   "metadata": {},
   "outputs": [],
   "source": [
    "unsmoothed_markers = pd.read_csv(outfn, sep='\\t', index_col=0)"
   ]
  },
  {
   "cell_type": "code",
   "execution_count": null,
   "id": "cb569a2e-70ea-4db9-940a-df1adfac6941",
   "metadata": {},
   "outputs": [],
   "source": [
    "markers = list(markers_magic.columns)"
   ]
  },
  {
   "cell_type": "markdown",
   "id": "22f954da-a589-4c0a-9203-15c186a3f214",
   "metadata": {},
   "source": [
    "# Protein-RNA correlations"
   ]
  },
  {
   "cell_type": "code",
   "execution_count": null,
   "id": "c2f2cde8-cac8-4a46-a818-1aecc2c8864c",
   "metadata": {},
   "outputs": [],
   "source": [
    "from scipy.stats import pearsonr"
   ]
  },
  {
   "cell_type": "code",
   "execution_count": null,
   "id": "a9830943-c444-42a1-a2a5-d1034ffa946e",
   "metadata": {},
   "outputs": [],
   "source": [
    "prot_pairs = [('CCR7', 'AB_CCR7'),\n",
    "              ('CCR4', 'AB_CD194'),\n",
    "              ('CCR6', 'AB_CD196'),\n",
    "             ('CXCR3', 'AB_CXCR3'), \n",
    "              ('SELL', 'AB_CD62L'),\n",
    "             ('IL2RA', 'AB_CD25'),\n",
    "             ('FOXP3', 'AB_CD25'),\n",
    "             ('TRDC', 'AB_gdTCR'),\n",
    "             ('TRDC', 'AB_abTCR')]"
   ]
  },
  {
   "cell_type": "code",
   "execution_count": null,
   "id": "c028ec8d-7553-428e-8e2e-d0b789b71b1f",
   "metadata": {
    "tags": []
   },
   "outputs": [],
   "source": [
    "for (gene, prot) in prot_pairs:\n",
    "    # print(gene, prot)\n",
    "    r, _ = pearsonr(markers_magic[gene], markers_magic[prot])\n",
    "    # print(r)\n",
    "    \n",
    "    fig, ax = plt.subplots(dpi = 150, figsize=(6,5))\n",
    "    dsshow(pd.DataFrame({'x':markers_magic[gene], 'y':markers_magic[prot]}), \n",
    "           ds.Point('x', 'y'), norm='eq_hist', cmap=cmap, ax = ax, aspect = 'auto')\n",
    "    # ax.scatter(x = markers_magic[gene], y = markers_magic[prot], s = .2, alpha = .3)\n",
    "    ax.text(.02, .96, ''.join(['R: ', str(round(r, 3))]), transform=ax.transAxes)\n",
    "    ax.set_xlabel(gene)\n",
    "    ax.set_ylabel(prot)"
   ]
  },
  {
   "cell_type": "markdown",
   "id": "55d0bb1e-f5f9-44b7-a1b0-0fa2ce29821e",
   "metadata": {},
   "source": [
    "Compare non MAGIC-smoothed markers\n"
   ]
  },
  {
   "cell_type": "code",
   "execution_count": null,
   "id": "4af1f0c8-cd85-4c34-bf57-35fc5179ae25",
   "metadata": {
    "tags": []
   },
   "outputs": [],
   "source": [
    "for (gene, prot) in prot_pairs:\n",
    "    # print(gene, prot)\n",
    "    r, _ = pearsonr(unsmoothed_markers[gene], unsmoothed_markers[prot])\n",
    "    # print(r)\n",
    "    \n",
    "    fig, ax = plt.subplots(dpi = 150, figsize=(6,5))\n",
    "    dsshow(pd.DataFrame({'x':unsmoothed_markers[gene], 'y':unsmoothed_markers[prot]}), \n",
    "           ds.Point('x', 'y'), norm='eq_hist', cmap=cmap, ax = ax, aspect = 'auto')\n",
    "    # ax.scatter(x = markers_magic[gene], y = markers_magic[prot], s = .2, alpha = .3)\n",
    "    ax.text(.02, .96, ''.join(['R: ', str(round(r, 3))]), transform=ax.transAxes)\n",
    "    ax.set_xlabel(gene)\n",
    "    ax.set_ylabel(prot)"
   ]
  },
  {
   "cell_type": "markdown",
   "id": "8d900cc7-b85f-41dd-90c2-a801fe0faec2",
   "metadata": {},
   "source": [
    "Compare proteins - MAGIC to non-smoothed"
   ]
  },
  {
   "cell_type": "code",
   "execution_count": null,
   "id": "1cb5d273-fdd8-469f-818f-21700bbe3333",
   "metadata": {},
   "outputs": [],
   "source": [
    "prot_pairs"
   ]
  },
  {
   "cell_type": "code",
   "execution_count": null,
   "id": "1cb40302-9ce8-48dd-9e14-003b8e2bf941",
   "metadata": {
    "tags": []
   },
   "outputs": [],
   "source": [
    "for prot in ['AB_CCR7', 'AB_CD62L', 'AB_CD25']:\n",
    "    r, _ = pearsonr(unsmoothed_markers[prot], markers_magic[prot])\n",
    "    # print(r)\n",
    "    \n",
    "    fig, ax = plt.subplots(dpi = 150, figsize=(6,5))\n",
    "    dsshow(pd.DataFrame({'x':unsmoothed_markers[prot], 'y':markers_magic[prot]}), \n",
    "           ds.Point('x', 'y'), norm='eq_hist', cmap=cmap, ax = ax, aspect = 'auto')\n",
    "    # ax.scatter(x = markers_magic[gene], y = markers_magic[prot], s = .2, alpha = .3)\n",
    "    ax.text(.02, .96, ''.join(['R: ', str(round(r, 3))]), transform=ax.transAxes)\n",
    "    ax.set_xlabel(prot + ' Non-smoothed')\n",
    "    ax.set_ylabel(prot + ' Smoothed')"
   ]
  },
  {
   "cell_type": "markdown",
   "id": "da4fd69c-41c7-4500-904e-dc6a946e8a59",
   "metadata": {},
   "source": [
    "What proteins are correlated with CD25?"
   ]
  },
  {
   "cell_type": "code",
   "execution_count": null,
   "id": "d4030ad4-2716-447d-a1dc-c7d44adda01f",
   "metadata": {},
   "outputs": [],
   "source": [
    "ADT_corr = pd.DataFrame(adata_ADT.X).corr()\n",
    "ADT_corr.index = adata_ADT.var.index\n",
    "ADT_corr.columns = adata_ADT.var.index"
   ]
  },
  {
   "cell_type": "code",
   "execution_count": null,
   "id": "6e86f190-9bb3-4ef4-a282-792eb5fc53af",
   "metadata": {},
   "outputs": [],
   "source": [
    "ADT_corr['AB_CD25'].sort_values(ascending = False).head(20)"
   ]
  },
  {
   "cell_type": "code",
   "execution_count": null,
   "id": "e7b3047b-80dd-480d-8be4-627c73d718c2",
   "metadata": {},
   "outputs": [],
   "source": [
    "ADT_corr['AB_CD25'].sort_values(ascending = False).tail(20)"
   ]
  },
  {
   "cell_type": "markdown",
   "id": "7c8fadc4-adbc-4846-936a-401c1cf7646a",
   "metadata": {},
   "source": [
    "# Lineage marker gating - RNA and proteins"
   ]
  },
  {
   "cell_type": "markdown",
   "id": "dc9aa152-ab0f-4e30-99f9-6b026c5b29ab",
   "metadata": {},
   "source": [
    "Use both RNA and proteins to gate, including various combinations of CCR7, SELL, CD197, and CD62L."
   ]
  },
  {
   "cell_type": "code",
   "execution_count": null,
   "id": "b54ca151-8047-484a-b2d4-cb96e2b7795f",
   "metadata": {},
   "outputs": [],
   "source": [
    "cmap = plt.cm.hsv\n",
    "cmaplist = [cmap(i) for i in range(cmap.N)]\n",
    "cmaplist = cmaplist[0:round(len(cmaplist)*0.7)]\n",
    "cmaplist.reverse()\n",
    "cmap = matplotlib.colors.LinearSegmentedColormap.from_list('', cmaplist, cmap.N)\n",
    "    \n",
    "def gate(data, g1, g2, ind=None, vertical_gate=None, horizontal_gate=None, quadrant_gate=None,\n",
    "         labfontsize=9, plot_labeled=False, upper_only=False, ax=None):\n",
    "    \n",
    "    \n",
    "    if ax is None:\n",
    "        fig = plt.figure(constrained_layout=True, figsize=(2., 2.), dpi=200)\n",
    "        gs = gridspec.GridSpec(1, 1, figure=fig, left=0.2,\n",
    "                       bottom=.2, right=.95, top=.92)\n",
    "        ax = fig.add_subplot(gs[0])\n",
    "\n",
    "    if ind  is None:\n",
    "        ind = pd.Series(np.array([True]*data.shape[0]), data.index)\n",
    "    \n",
    "    \n",
    "    x = data.loc[ind, g1]\n",
    "    y = data.loc[ind, g2]\n",
    "    \n",
    "    dsshow(pd.DataFrame({'x':x, 'y':y}), ds.Point('x', 'y'), norm='eq_hist', cmap=cmap, ax = ax, aspect = 'auto')\n",
    "    ax.set_xlabel(g1, fontsize=labfontsize)\n",
    "    ax.set_ylabel(g2, fontsize=labfontsize)\n",
    "\n",
    "    \n",
    "    if vertical_gate is not None:\n",
    "        xlim = ax.get_xlim()\n",
    "        ax.hlines(y=vertical_gate['vthresh'], xmin=xlim[0], xmax=xlim[1], linestyle='--', color='k', linewidth=1)\n",
    "        ax.set_xlim(xlim)\n",
    "        \n",
    "            \n",
    "        initial_res = (data.loc[ind, g2]>vertical_gate['vthresh']).replace({True:vertical_gate['above_name'], False:vertical_gate['below_name']})\n",
    "        final_res = ind.copy()\n",
    "        final_res.loc[ind] = initial_res\n",
    "        final_res.loc[~ind] = np.nan\n",
    "    elif horizontal_gate is not None:\n",
    "        ylim = ax.get_ylim()\n",
    "        ax.vlines(x=horizontal_gate['hthresh'], ymin=ylim[0], ymax=ylim[1], linestyle='--', color='k', linewidth=1)\n",
    "        ax.set_ylim(ylim)\n",
    "        \n",
    "        initial_res = (data.loc[ind, g1]>horizontal_gate['hthresh']).replace({False:horizontal_gate['left_name'], True:horizontal_gate['right_name']})\n",
    "        final_res = ind.copy()\n",
    "        final_res.loc[ind] = initial_res\n",
    "        final_res.loc[~ind] = np.nan\n",
    "        \n",
    "        \n",
    "    elif quadrant_gate is not None:\n",
    "        xlim = ax.get_xlim()\n",
    "        ylim = ax.get_ylim()\n",
    "        if not upper_only:\n",
    "            ax.hlines(y=quadrant_gate['vthresh'], xmin=xlim[0]-1, xmax=xlim[1]+1, linestyle='--', color='k', linewidth=1)\n",
    "            ax.set_xlim(xlim)\n",
    "            ax.vlines(x=quadrant_gate['hthresh'], ymin=ylim[0]-1, ymax=ylim[1]+1, linestyle='--', color='k', linewidth=1)\n",
    "            ax.set_ylim(ylim)\n",
    "        else:\n",
    "            ax.hlines(y=quadrant_gate['vthresh'], xmin=quadrant_gate['hthresh'], xmax=xlim[1]+1, linestyle='--', color='k', linewidth=1)\n",
    "            ax.set_xlim(xlim)\n",
    "            ax.vlines(x=quadrant_gate['hthresh'], ymin=quadrant_gate['vthresh'], ymax=ylim[1]+1, linestyle='--', color='k', linewidth=1)\n",
    "            ax.set_ylim(ylim)            \n",
    "            \n",
    "\n",
    "        indh = data.loc[ind, g1]> quadrant_gate['hthresh']\n",
    "        indv = data.loc[ind, g2]> quadrant_gate['vthresh']\n",
    "        final_res = ind.replace(False,np.nan)\n",
    "        for hval,vval, lab in [[False, False, quadrant_gate['ll']], [True, False, quadrant_gate['lr']], [False, True, quadrant_gate['ul']], [True, True, quadrant_gate['ur']]]:\n",
    "            tolab = (indh==hval) & (indv==vval)\n",
    "            final_res.loc[tolab.index[tolab]] = lab\n",
    "            \n",
    "            \n",
    "    if plot_labeled:\n",
    "        fig = plt.figure(constrained_layout=True, figsize=(2.4, 2.), dpi=200)\n",
    "        gs = gridspec.GridSpec(1, 1, figure=fig, left=0.2,\n",
    "                       bottom=.2, right=.8, top=.92)\n",
    "        ax2 = fig.add_subplot(gs[0])\n",
    "        dat = pd.concat([x,y,final_res], axis=1)\n",
    "        dat.columns = [g1, g2, 'label']\n",
    "        for (k,g) in dat.groupby('label'):\n",
    "            ax2.scatter(g[g1], g[g2], label=k, s=.5, edgecolor='None')\n",
    "        ax2.legend(bbox_to_anchor=(1,1), markerscale=3, fontsize=6)\n",
    "        \n",
    "        \n",
    "        \n",
    "    return(final_res, ax)"
   ]
  },
  {
   "cell_type": "code",
   "execution_count": null,
   "id": "cb4d0bc3-b31b-4de9-811c-e891dea14115",
   "metadata": {},
   "outputs": [],
   "source": [
    "gating = pd.DataFrame(index=markers_magic.index, columns=['gdT', 'MAIT', 'CD4_vs_CD8', 'Treg', 'CD4_Conv', 'CD8_Conv'])"
   ]
  },
  {
   "cell_type": "code",
   "execution_count": null,
   "id": "9d180794-0038-4111-ad31-209ea819e8b5",
   "metadata": {},
   "outputs": [],
   "source": [
    "g1 = 'AB_abTCR'\n",
    "g2 = 'AB_TCR-Vd2'   \n",
    "vgate = {'vthresh':2, 'above_name':'gdT', 'below_name':'ab'}\n",
    "gating['gdT'], ax = gate(markers_magic, g1, g2, ind=None, vertical_gate=vgate, plot_labeled=False)\n",
    "ax.text(4.5,6, 'gdT', fontsize=9)\n",
    "plt.savefig(os.path.join(figdir, 'ManualGating_COMBAT_gdT.png'))\n",
    "plt.savefig(os.path.join(figdir, 'ManualGating_COMBAT_gdT.pdf'))"
   ]
  },
  {
   "cell_type": "code",
   "execution_count": null,
   "id": "dee4fbf1-f1bb-4646-9ead-4c5a50a029d4",
   "metadata": {},
   "outputs": [],
   "source": [
    "g1 = 'AB_TCR-V-7.2'\n",
    "g2 = 'AB_CD161'  \n",
    "gating['MAIT'], ax = gate(markers_magic, g1, g2, ind=gating['gdT']=='ab',\n",
    "                      quadrant_gate={'vthresh':2, 'hthresh':2, 'ur':'MAIT', 'ul':'ab', 'll':'ab', 'lr':'ab'}, plot_labeled=False, upper_only=True)\n",
    "ax.text(2.6,5, 'MAIT', fontsize=9)\n",
    "plt.savefig(os.path.join(figdir, 'ManualGating_COMBAT_MAIT.png'))\n",
    "plt.savefig(os.path.join(figdir, 'ManualGating_COMBAT_MAIT.pdf'))"
   ]
  },
  {
   "cell_type": "code",
   "execution_count": null,
   "id": "2d6aa737-5d00-4a06-8512-6430daf74501",
   "metadata": {},
   "outputs": [],
   "source": [
    "g1 = 'AB_CD4-2'\n",
    "g2 = 'AB_CD8'    \n",
    "gating['CD4_vs_CD8'], ax = gate(markers_magic, g1, g2, ind=gating['MAIT']=='ab', quadrant_gate={'vthresh':1, 'hthresh':1.1, 'll':'DN', 'ul':'CD8', 'ur':'DP', 'lr':'CD4'},\n",
    "                            plot_labeled=False)\n",
    "ax.text(.6,2.7, 'CD8', fontsize=9)\n",
    "ax.text(2.55, .75, 'CD4', fontsize=9)\n",
    "ax.text(2.5,2.5, 'DP', fontsize=9)\n",
    "ax.text(.45, .15, 'DN', fontsize=9)\n",
    "\n",
    "xlim = ax.get_xlim()\n",
    "ylim = ax.get_ylim()\n",
    "ax.set_xlim(xlim[0], xlim[1]+.15)\n",
    "\n",
    "plt.savefig(os.path.join(figdir, 'ManualGating_COMBAT_CD4CD8.png'))\n",
    "plt.savefig(os.path.join(figdir, 'ManualGating_COMBAT_CD4CD8.pdf'))"
   ]
  },
  {
   "cell_type": "code",
   "execution_count": null,
   "id": "75d14cae-8ccb-43b7-b4c4-56bab60f8067",
   "metadata": {},
   "outputs": [],
   "source": [
    "g2 = 'AB_CD25'     \n",
    "g1 = 'AB_CD39'\n",
    "\n",
    "gating['Treg'],ax = gate(markers_magic, g1, g2, ind=gating['CD4_vs_CD8']=='CD4', \n",
    "               quadrant_gate={'vthresh':2., 'hthresh':1.8, \n",
    "                              'll':'CD4', 'ur':'Treg', 'ul':'CD4', 'lr':'CD4'\n",
    "                             },\n",
    "                      plot_labeled=False, upper_only=True)\n",
    "\n",
    "ax.text(2, 5, 'Treg', fontsize=9)\n",
    "\n",
    "plt.savefig(os.path.join(figdir, 'ManualGating_COMBAT_Treg.png'))\n",
    "plt.savefig(os.path.join(figdir, 'ManualGating_COMBAT_Treg.pdf'))"
   ]
  },
  {
   "cell_type": "code",
   "execution_count": null,
   "id": "57513347-ac52-452c-b98a-74cb9ab430e4",
   "metadata": {},
   "outputs": [],
   "source": [
    "g1 = 'AB_CD45RA'     \n",
    "g2 = 'AB_CD62L'\n",
    "gating['CD4_Conv'],ax = gate(markers_magic, g1, g2, ind=(gating['Treg']=='CD4'),\n",
    "                           quadrant_gate={'vthresh':1.7, 'hthresh':2.7, 'll':'CD4_EM', 'ur':'CD4_Naive', 'ul':'CD4_CM', 'lr':'CD4_TEMRA'},\n",
    "                           plot_labeled=False)\n",
    "\n",
    "ax.text(3., 3.6, 'CD4 Naive', fontsize=9)\n",
    "ax.text(2.73, .6, 'CD4 TEMRA', fontsize=9)\n",
    "\n",
    "ax.text(1., 3.6, 'CD4 CM', fontsize=9)\n",
    "ax.text(1., .6, 'CD4 EM', fontsize=9)\n",
    "\n",
    "\n",
    "\n",
    "xlim = ax.get_xlim()\n",
    "ylim = ax.get_ylim()\n",
    "ax.set_xlim(xlim[0], xlim[1]+.15)\n",
    "ax.set_ylim(ylim[0]-.2, ylim[1]+.15)\n",
    "\n",
    "\n",
    "plt.savefig(os.path.join(figdir, 'ManualGating_COMBAT_CD4Naive.png'))\n",
    "plt.savefig(os.path.join(figdir, 'ManualGating_COMBAT_CD4Naive.pdf'))"
   ]
  },
  {
   "cell_type": "code",
   "execution_count": null,
   "id": "c50a67e0-7d1b-4d26-9439-be6304c26cad",
   "metadata": {},
   "outputs": [],
   "source": [
    "g1 = 'AB_CD62L'     \n",
    "g2 = 'AB_CCR7'\n",
    "_ = gate(markers_magic, g1, g2, ind=(gating['CD4_Conv'].isin(['CD4_CM', 'CD4_EM'])), quadrant_gate={'vthresh':1.7, 'hthresh':1.7, 'll':'CD4_Memory', 'ul':'CD4_Naive', 'ur':'CD4_Memory', 'lr':'CD4_Memory'})\n"
   ]
  },
  {
   "cell_type": "code",
   "execution_count": null,
   "id": "ad352086-055c-48a5-b76c-3450817fb7f6",
   "metadata": {},
   "outputs": [],
   "source": [
    "g1 = 'SELL'     \n",
    "g2 = 'CCR7'\n",
    "_,ax = gate(markers_magic, g1, g2, ind=(gating['CD4_Conv'].isin(['CD4_CM', 'CD4_EM'])), quadrant_gate={'vthresh':1.7, 'hthresh':1.7, 'll':'CD4_Memory', 'ul':'CD4_Naive', 'ur':'CD4_Memory', 'lr':'CD4_Memory'})\n",
    "ax.set_ylabel('CCR7 RNA', fontsize=9)\n",
    "ax.set_xlabel('SELL RNA', fontsize=9)"
   ]
  },
  {
   "cell_type": "code",
   "execution_count": null,
   "id": "9ebafb8b-a766-4cfd-a1f6-a9d0b9a4d022",
   "metadata": {},
   "outputs": [],
   "source": [
    "g1 = 'AB_CD62L'\n",
    "g2 = 'AB_CD27-1'     \n",
    "gate(markers_magic, g1, g2, ind=(gating['CD4_Conv'].isin(['CD4_CM', 'CD4_EM'])),\n",
    "                                   vertical_gate={'vthresh':.6, 'above_name':'CD4_Memory', 'below_name':'CD4_TerminalEffector'},\n",
    "                                   plot_labeled=False)"
   ]
  },
  {
   "cell_type": "code",
   "execution_count": null,
   "id": "0174aa95-2d1d-45e8-9253-6f7314b8f261",
   "metadata": {},
   "outputs": [],
   "source": [
    "g1 = 'AB_CD45RA'     \n",
    "g2 = 'AB_CD62L'\n",
    "gating['CD8_Conv'], ax = gate(markers_magic, g1, g2, ind=(gating['CD4_vs_CD8']=='CD8'),\n",
    "                           quadrant_gate={'vthresh':1.8, 'hthresh':3, 'll':'CD8_EM', 'ul':'CD8_CM', 'ur':'CD8_Naive', 'lr':'CD8_TEMRA'},\n",
    "                                                             plot_labeled=False)\n",
    "\n",
    "ax.text(3.1, 3.4, 'CD8 Naive', fontsize=9)\n",
    "ax.text(3.1, .6, 'CD8 TEMRA', fontsize=9)\n",
    "\n",
    "ax.text(1.24, 3.4, 'CD8 CM', fontsize=9)\n",
    "ax.text(1.24, .6, 'CD8 EM', fontsize=9)\n",
    "\n",
    "\n",
    "\n",
    "xlim = ax.get_xlim()\n",
    "ylim = ax.get_ylim()\n",
    "ax.set_xlim(xlim[0], xlim[1]+.35)\n",
    "ax.set_ylim(ylim[0]-.2, ylim[1]+.15)\n",
    "\n",
    "\n",
    "plt.savefig(os.path.join(figdir, 'ManualGating_COMBAT_CD8Naive.png'))\n",
    "plt.savefig(os.path.join(figdir, 'ManualGating_COMBAT_CD8Naive.pdf'))"
   ]
  },
  {
   "cell_type": "code",
   "execution_count": null,
   "id": "14d944f4-bafa-4f91-b4a3-a4300f8363e5",
   "metadata": {},
   "outputs": [],
   "source": [
    "g1 = 'AB_CD62L'   \n",
    "g2 = 'AB_CCR7'     \n",
    "_ = gate(markers_magic, g1, g2, ind=(gating['CD8_Conv'].isin(['CD8_CM', 'CD8_EM'])), quadrant_gate={'vthresh':4.4, 'hthresh':1.5, 'll':'CD8_EM', 'lr':'CD8_EM',\n",
    "                                                                                    'ul':'CD8_EM', 'ur':'CD8_CM'}, plot_labeled=True)\n"
   ]
  },
  {
   "cell_type": "code",
   "execution_count": null,
   "id": "67c95e65-7cb5-42a0-8997-4f7603d0c7f7",
   "metadata": {},
   "outputs": [],
   "source": [
    "g1 = 'SELL'   \n",
    "g2 = 'CCR7'     \n",
    "_ = gate(markers_magic, g1, g2, ind=(gating['CD8_Conv'].isin(['CD8_CM', 'CD8_EM'])), quadrant_gate={'vthresh':4.4, 'hthresh':1, 'll':'CD8_EM', 'lr':'CD8_EM',\n",
    "                                                                                    'ul':'CD8_EM', 'ur':'CD8_CM'}, plot_labeled=False)\n"
   ]
  },
  {
   "cell_type": "code",
   "execution_count": null,
   "id": "5b007567-5c64-4ec0-a97c-816f333a0eb5",
   "metadata": {},
   "outputs": [],
   "source": [
    "label = gating.apply(lambda x: x[x.last_valid_index()], axis=1)"
   ]
  },
  {
   "cell_type": "code",
   "execution_count": null,
   "id": "c9238740-b231-43a6-be37-24616c510594",
   "metadata": {},
   "outputs": [],
   "source": [
    "label.value_counts()"
   ]
  },
  {
   "cell_type": "code",
   "execution_count": null,
   "id": "c9d38029-1244-444e-ad32-e499228b9e10",
   "metadata": {},
   "outputs": [],
   "source": [
    "outfn = os.path.join(outdir, 'ManualGating.Magic.20230831.tsv')\n",
    "print(outfn)"
   ]
  },
  {
   "cell_type": "code",
   "execution_count": null,
   "id": "950aeab3-78e5-43ae-881b-65a537f3b28e",
   "metadata": {},
   "outputs": [],
   "source": [
    "gating.to_csv(outfn, sep='\\t')"
   ]
  },
  {
   "cell_type": "code",
   "execution_count": null,
   "id": "74814629-2a41-4cd2-b2d2-482341513e5d",
   "metadata": {},
   "outputs": [],
   "source": [
    "outfn = os.path.join(outdir, 'ManualGating.Magic.FinalLabel.20230831.tsv')\n",
    "print(outfn)"
   ]
  },
  {
   "cell_type": "code",
   "execution_count": null,
   "id": "af674df6-edd3-4b1e-bc58-51e1240dd710",
   "metadata": {},
   "outputs": [],
   "source": [
    "label.to_csv(outfn, sep='\\t')"
   ]
  },
  {
   "cell_type": "code",
   "execution_count": null,
   "id": "2cc917e6-8d4f-4c60-9031-d5a50847455f",
   "metadata": {},
   "outputs": [],
   "source": [
    "os.path.abspath('../../../Data/PerDataset/COMBAT/ManualGating.Magic.FinalLabel.20230831.tsv')"
   ]
  },
  {
   "cell_type": "code",
   "execution_count": null,
   "id": "5973c6ea-5713-4783-a6f3-7a5914856039",
   "metadata": {},
   "outputs": [],
   "source": [
    "ncols = 3\n",
    "nrows = 2\n",
    "\n",
    "umap_dim = 1.5\n",
    "wspace = 0.35\n",
    "hspace = 0.15\n",
    "right = .98\n",
    "left = .15\n",
    "bottom = .15\n",
    "top = .98\n",
    "fig_width = ncols*umap_dim+(ncols-1)*wspace*umap_dim\n",
    "fig_height = nrows*umap_dim+(nrows-1)*wspace*umap_dim\n",
    "\n",
    "fig = plt.figure(constrained_layout=False, figsize=(fig_width, fig_height), dpi=200)\n",
    "gs = gridspec.GridSpec(2, 3, figure=fig, width_ratios=[umap_dim]*ncols, height_ratios=[umap_dim]*nrows,\n",
    "                       bottom=bottom, left=left, right=right, top=top,  wspace=wspace)\n",
    "\n",
    "axes = []\n",
    "for i in range(nrows):\n",
    "    rax = []\n",
    "    for j in range(ncols):\n",
    "        rax.append(fig.add_subplot(gs[i,j]))\n",
    "    axes.append(rax)\n",
    "\n",
    "axes = np.array(axes)\n",
    "\n",
    "\n",
    "\n",
    "\n",
    "\n",
    "this_ax = axes[0, 0]\n",
    "g1 = 'AB_abTCR'\n",
    "g2 = 'AB_TCR-Vd2'   \n",
    "vgate = {'vthresh':2, 'above_name':'gdT', 'below_name':'ab'}\n",
    "_, _ = gate(markers_magic, g1, g2, ind=None, vertical_gate=vgate, plot_labeled=False, ax=this_ax)\n",
    "this_ax.text(4.5,6, 'gdT', fontsize=9)\n",
    "\n",
    "this_ax = axes[1, 0]\n",
    "g1 = 'AB_TCR-V-7.2'\n",
    "g2 = 'AB_CD161'  \n",
    "_, _ = gate(markers_magic, g1, g2, ind=gating['gdT']=='ab',\n",
    "                      quadrant_gate={'vthresh':2, 'hthresh':2, 'ur':'MAIT', 'ul':'ab', 'll':'ab', 'lr':'ab'}, plot_labeled=False, upper_only=True, ax=this_ax)\n",
    "this_ax.text(2.6,5, 'MAIT', fontsize=9)\n",
    "\n",
    "\n",
    "this_ax = axes[1, 1]\n",
    "g1 = 'AB_CD4-2'\n",
    "g2 = 'AB_CD8'    \n",
    "_, ax = gate(markers_magic, g1, g2, ind=gating['MAIT']=='ab', quadrant_gate={'vthresh':1, 'hthresh':1.1, 'll':'DN', 'ul':'CD8', 'ur':'DP', 'lr':'CD4'},\n",
    "                            plot_labeled=False, ax=this_ax)\n",
    "ax.text(.4,2.7, 'CD8', fontsize=9)\n",
    "ax.text(2.5, .75, 'CD4', fontsize=9)\n",
    "ax.text(2.5,2.5, 'DP', fontsize=9)\n",
    "ax.text(.45, .15, 'DN', fontsize=9)\n",
    "\n",
    "xlim = ax.get_xlim()\n",
    "ylim = ax.get_ylim()\n",
    "ax.set_xlim(xlim[0], xlim[1]+.15)\n",
    "\n",
    "\n",
    "\n",
    "this_ax = axes[1, 2]\n",
    "g2 = 'AB_CD25'     \n",
    "g1 = 'AB_CD39'\n",
    "\n",
    "_,ax = gate(markers_magic, g1, g2, ind=gating['CD4_vs_CD8']=='CD4', \n",
    "               quadrant_gate={'vthresh':2., 'hthresh':1.8, \n",
    "                              'll':'CD4', 'ur':'Treg', 'ul':'CD4', 'lr':'CD4'\n",
    "                             },\n",
    "                      plot_labeled=False, upper_only=True, ax=this_ax)\n",
    "\n",
    "ax.text(2, 5, 'Treg', fontsize=9)\n",
    "\n",
    "\n",
    "this_ax = axes[0, 2]\n",
    "\n",
    "g1 = 'AB_CD45RA'     \n",
    "g2 = 'AB_CD62L'\n",
    "_,ax = gate(markers_magic, g1, g2, ind=(gating['Treg']=='CD4'),\n",
    "                           quadrant_gate={'vthresh':1.7, 'hthresh':2.7, 'll':'CD4_EM', 'ur':'CD4_Naive', 'ul':'CD4_CM', 'lr':'CD4_TEMRA'},\n",
    "                           plot_labeled=False, ax=this_ax)\n",
    "\n",
    "ax.text(2.9, 3.6, 'CD4 Naive', fontsize=9)\n",
    "ax.text(2.73, .6, 'CD4 TEMRA', fontsize=9)\n",
    "\n",
    "ax.text(1., 3.6, 'CD4 CM', fontsize=9)\n",
    "ax.text(1., .6, 'CD4 EM', fontsize=9)\n",
    "\n",
    "\n",
    "\n",
    "xlim = ax.get_xlim()\n",
    "ylim = ax.get_ylim()\n",
    "ax.set_xlim(xlim[0], xlim[1]+.95)\n",
    "ax.set_ylim(ylim[0]-.2, ylim[1]+.15)\n",
    "\n",
    "\n",
    "\n",
    "this_ax = axes[0, 1]\n",
    "g1 = 'AB_CD45RA'     \n",
    "g2 = 'AB_CD62L'\n",
    "_, ax = gate(markers_magic, g1, g2, ind=(gating['CD4_vs_CD8']=='CD8'),\n",
    "                           quadrant_gate={'vthresh':1.8, 'hthresh':3, 'll':'CD8_EM', 'ul':'CD8_CM', 'ur':'CD8_Naive', 'lr':'CD8_TEMRA'},\n",
    "                                                             plot_labeled=False, ax=this_ax)\n",
    "\n",
    "ax.text(3.4, 3.4, 'CD8 Naive', fontsize=9)\n",
    "ax.text(3.1, .6, 'CD8 TEMRA', fontsize=9)\n",
    "\n",
    "ax.text(1.24, 3.4, 'CD8 CM', fontsize=9)\n",
    "ax.text(1.24, .6, 'CD8 EM', fontsize=9)\n",
    "\n",
    "\n",
    "\n",
    "xlim = ax.get_xlim()\n",
    "ylim = ax.get_ylim()\n",
    "ax.set_xlim(xlim[0], xlim[1]+1.3)\n",
    "ax.set_ylim(ylim[0]-.2, ylim[1]+.15)\n",
    "\n",
    "plt.savefig(os.path.join(figdir, 'ManualGating_COMBAT_Merged.png'))\n",
    "plt.savefig(os.path.join(figdir, 'ManualGating_COMBAT_Merged.pdf'))"
   ]
  },
  {
   "cell_type": "markdown",
   "id": "b1b39614-3efc-477f-aa00-b16ad43bbf95",
   "metadata": {},
   "source": [
    "# Overlap with GEPs"
   ]
  },
  {
   "cell_type": "code",
   "execution_count": null,
   "id": "ec40de23-ec81-4125-8867-cb4d5a9ad824",
   "metadata": {},
   "outputs": [],
   "source": [
    "params = read_dataset_log('Dataset Paths')\n",
    "params.index = params['dataset']\n",
    "params.loc['COMBAT', 'tcat_fn']"
   ]
  },
  {
   "cell_type": "code",
   "execution_count": null,
   "id": "9df60103-091b-4710-944e-3af42f7cf885",
   "metadata": {},
   "outputs": [],
   "source": [
    "tcat_gep_info = read_dataset_log('cGEP_Name')\n",
    "tcat_gep_info.head()"
   ]
  },
  {
   "cell_type": "code",
   "execution_count": null,
   "id": "a1cb5ea5-a15f-437e-8321-03c3b8bf3f63",
   "metadata": {},
   "outputs": [],
   "source": [
    "renmap = dict(zip(tcat_gep_info['cGep_Name'], tcat_gep_info['Short_Name']))"
   ]
  },
  {
   "cell_type": "code",
   "execution_count": null,
   "id": "028ffca4-ee52-4e2d-86f7-e71242d69a7f",
   "metadata": {},
   "outputs": [],
   "source": [
    "tcat_usage = pd.read_csv(params.loc['COMBAT', 'tcat_fn'], sep='\\t', index_col=0).rename(columns=renmap)"
   ]
  },
  {
   "cell_type": "code",
   "execution_count": null,
   "id": "3421e83b-c8f4-4259-86fd-f3d840763c3e",
   "metadata": {},
   "outputs": [],
   "source": [
    "tcat_usage_norm = tcat_usage.div(tcat_usage.sum(axis=1), axis=0)"
   ]
  },
  {
   "cell_type": "code",
   "execution_count": null,
   "id": "5e24b78f-97f2-4a0e-8b12-5db3c9221f32",
   "metadata": {},
   "outputs": [],
   "source": [
    "tcat_usage_norm.head()"
   ]
  },
  {
   "cell_type": "code",
   "execution_count": null,
   "id": "753fd975-a9bd-43ac-85be-5c024ff5f3ba",
   "metadata": {},
   "outputs": [],
   "source": [
    "tcat_gep_info.loc[tcat_gep_info['Class'] == 'Lineage', :]"
   ]
  },
  {
   "cell_type": "code",
   "execution_count": null,
   "id": "c3a10043-ead6-438e-82c8-174a0a304f9c",
   "metadata": {},
   "outputs": [],
   "source": [
    "tcat_usage_norm.columns"
   ]
  },
  {
   "cell_type": "code",
   "execution_count": null,
   "id": "11c961ea-0a81-4fda-8e5d-969b5952ed9a",
   "metadata": {},
   "outputs": [],
   "source": [
    "outfn = os.path.join(outdir, 'ManualGating.Magic.FinalLabel.20230831.tsv')\n",
    "print(outfn)"
   ]
  },
  {
   "cell_type": "code",
   "execution_count": null,
   "id": "2450b26d-6431-451d-8b70-e9ce76197086",
   "metadata": {},
   "outputs": [],
   "source": [
    "label = pd.read_csv(outfn, sep='\\t', index_col=0)['0']\n",
    "label.head()"
   ]
  },
  {
   "cell_type": "code",
   "execution_count": null,
   "id": "ca1ceb55-b9cd-4471-aa51-9cb310434ff8",
   "metadata": {
    "tags": []
   },
   "outputs": [],
   "source": [
    "cluster = tcat_usage_norm.groupby(label).mean()\n",
    "\n",
    "lineage_order = ['Treg', 'gdT', 'MAIT','CD4_Naive',  'CD8_Naive', 'CD4_CM', 'CD4_EM', 'CD4_TEMRA', \n",
    "                 'CD8_CM', 'CD8_EM',  'CD8_TEMRA',\n",
    "                 'DN', 'DP',  ]\n",
    "\n",
    "\n",
    "max_usage = cluster.max(axis=0).sort_values(ascending=False)\n",
    "\n",
    "\n",
    "lineage_geps = ['Treg', 'gdT-Blood', 'MAIT', 'CD4-Naive', 'CD8-Naive',  'CD4-CM', 'Th17', 'CD4-EM',  'Th2-1',  'CD8-EM', 'NK-like']\n",
    "other_geps = ['Cytotoxic', 'Translation', 'IL10/IL19-Secretion', 'HLA', 'CellCycle-S', 'ISG',  'Early-Activation']\n",
    "'''\n",
    "other_geps = [ 'IL10/CD38', 'CTLA4+CD38+',\n",
    " 'CellCycle-G2M',\n",
    " 'CellCycle-Histone',\n",
    " 'CellCycle-S',\n",
    " 'Cytoskeleton',\n",
    " 'IL26/CTSH',\n",
    " 'Metallothionein',\n",
    "'S100A10/LMNA', 'MALAT1',  'ISG', 'Mito', 'HLA',  'Cytotoxic',  'HeatShock2', 'IEG']\n",
    "'''\n",
    "gep_order = lineage_geps + other_geps\n",
    "\n",
    "cluster = cluster.loc[lineage_order, gep_order]\n",
    "\n",
    "\n",
    "cluster_norm = cluster.div(cluster.sum(axis=0), axis=1)\n",
    "vmax=0.7\n",
    "\n",
    "\n",
    "frac_lineage = (len(lineage_geps) / len(lineage_geps+other_geps))\n",
    "frac_other = 1-frac_lineage\n",
    "\n",
    "\n",
    "\n",
    "fig = plt.figure(figsize=(4, 3), dpi=300)\n",
    "gs = gridspec.GridSpec(2, 3, width_ratios=[0.05, frac_lineage, frac_other], height_ratios=[.1,.9], wspace=0.1, bottom=0.3, top=.9, left=0.2)\n",
    "\n",
    "# Colorbar axis\n",
    "top_ax = fig.add_subplot(gs[0, 0:2])\n",
    "lin_ax = fig.add_subplot(gs[1,1])\n",
    "other_ax = fig.add_subplot(gs[1, 2])\n",
    "top_ax.axis('off')\n",
    "\n",
    "\n",
    "cax = top_ax.inset_axes([-0.1, .5, 0.15, 0.4], transform=top_ax.transAxes)\n",
    "#fig.colorbar(scim, ax=axes[x,y], cax=cax, orientation='horizontal')\n",
    "\n",
    "\n",
    "\n",
    "sns.heatmap(cluster_norm.loc[:,lineage_geps], ax=lin_ax, cbar_ax=cax,\n",
    "            xticklabels=True, cbar_kws={'orientation':'horizontal', 'ticks':[0,vmax], 'shrink':0.1, 'aspect':30},\n",
    "            vmin=0, vmax=vmax)\n",
    "sns.heatmap(cluster_norm.loc[:,other_geps], ax=other_ax, cbar=False, vmin=0, vmax=vmax, xticklabels=True)\n",
    "other_ax.set_yticks([])\n",
    "lin_ax.set_ylabel('Manually Gated Lineage', fontsize=10)\n",
    "other_ax.set_ylabel('')\n",
    "fig.text(0.6, 0.02, 'Gene Expression Program', ha='center', va='center', fontsize=10)\n",
    "\n",
    "lin_ax.set_yticks(np.arange(cluster_norm.shape[0])+0.5)\n",
    "lin_ax.set_yticklabels([x.replace('_', ' ') for x in cluster_norm.index], fontsize=8)\n",
    "\n",
    "lin_ax.set_xticks(np.arange(len(lineage_geps))+0.5)\n",
    "lin_ax.set_xticklabels(lineage_geps, fontsize=8)\n",
    "\n",
    "other_ax.set_xticks(np.arange(len(other_geps))+0.5)\n",
    "other_ax.set_xticklabels([x.replace('-Secretion', '') for x in other_geps], fontsize=8)\n",
    "\n",
    "lin_ax.set_title('Lineage Associated', fontsize=10)\n",
    "other_ax.set_title('Example Other', fontsize=10)\n",
    "\n",
    "\n",
    "cax.tick_params(labelsize=8)\n",
    "\n",
    "plt.savefig(os.path.join(figdir, 'LineageAssociate_COMBAT_Relative.png'))\n",
    "plt.savefig(os.path.join(figdir, 'LineageAssociate_COMBAT_Relative.pdf'))"
   ]
  },
  {
   "cell_type": "markdown",
   "id": "049d9c61-5d17-4516-ab43-1a50c3235845",
   "metadata": {},
   "source": [
    "## Quantify strength of association"
   ]
  },
  {
   "cell_type": "code",
   "execution_count": null,
   "id": "1c7c88e8-0310-4375-a4ac-541d7c182b02",
   "metadata": {},
   "outputs": [],
   "source": [
    "import scipy.stats as stats\n"
   ]
  },
  {
   "cell_type": "code",
   "execution_count": null,
   "id": "293374ea-6470-4433-80ee-4278ca92b6fb",
   "metadata": {},
   "outputs": [],
   "source": [
    "\n",
    "mapping = {'Treg':'Treg', 'gdT':'gdT-Blood', 'MAIT':'MAIT', 'CD4_Naive':'CD4-Naive', 'CD8_Naive':'CD8-Naive',\n",
    "           'CD4_TEMRA':'NK-like',  'CD8_TEMRA':'NK-like'}\n",
    "for gate in ['Treg', 'gdT', 'MAIT', 'CD4_Naive', 'CD8_Naive', 'CD4_TEMRA', 'CD8_TEMRA']:\n",
    "    print(gate, mapping[gate], stats.ranksums(tcat_usage_norm.loc[label==gate, mapping[gate]], \n",
    "               tcat_usage_norm.loc[label!=gate, mapping[gate]]))"
   ]
  },
  {
   "cell_type": "code",
   "execution_count": null,
   "id": "e8d8a39a-2d37-43b0-8f75-d4c008a16e87",
   "metadata": {},
   "outputs": [],
   "source": [
    "allP = pd.DataFrame(np.nan, index=cluster_norm.index, columns=gep_order)\n",
    "allH = pd.DataFrame(np.nan, index=cluster_norm.index, columns=gep_order)\n",
    "\n",
    "for gate in allP.index:\n",
    "    for gep in gep_order:\n",
    "        H,P = stats.ranksums(tcat_usage_norm.loc[label==gate, gep], \n",
    "               tcat_usage_norm.loc[label!=gate, gep])\n",
    "        allP.at[gate, gep] = P\n",
    "        allH.at[gate, gep] = H"
   ]
  },
  {
   "cell_type": "code",
   "execution_count": null,
   "id": "351634ef-f825-4452-b5de-ace76dc7dce3",
   "metadata": {},
   "outputs": [],
   "source": [
    "allP_positive = allP.copy()\n",
    "allP_positive.values[allH<0] = np.nan\n",
    "allP_positive"
   ]
  },
  {
   "cell_type": "code",
   "execution_count": null,
   "id": "58875c8d-8fa5-49ab-92b5-9628a27c6f24",
   "metadata": {},
   "outputs": [],
   "source": [
    "allP"
   ]
  },
  {
   "cell_type": "code",
   "execution_count": null,
   "id": "9eb26f42-6933-4c19-9417-0dfb659b13dc",
   "metadata": {},
   "outputs": [],
   "source": [
    "allH"
   ]
  },
  {
   "cell_type": "code",
   "execution_count": null,
   "id": "4703c9a8-562d-46df-8090-3c248840c359",
   "metadata": {},
   "outputs": [],
   "source": [
    "import statsmodels.api as sm"
   ]
  },
  {
   "cell_type": "code",
   "execution_count": null,
   "id": "c2143a43-9d14-4509-9bfb-1f44a15f2609",
   "metadata": {},
   "outputs": [],
   "source": [
    "set(gep_order) - set(tcat_usage_norm.std(axis=0).sort_values(ascending=False).index[:30]) "
   ]
  },
  {
   "cell_type": "code",
   "execution_count": null,
   "id": "4bedbc71-28e8-4d0e-bfa4-2d22c48a182f",
   "metadata": {
    "tags": []
   },
   "outputs": [],
   "source": [
    "geps = list(set(tcat_usage_norm.std(axis=0).sort_values(ascending=False).index[:30]) )\n",
    "\n",
    "#X = tcat_usage_norm.loc[:,gep_order]\n",
    "X = tcat_usage_norm.loc[:,geps]\n",
    "\n",
    "allP = pd.DataFrame(np.nan, index=cluster_norm.index, columns=X.columns)\n",
    "allH = pd.DataFrame(np.nan, index=cluster_norm.index, columns=X.columns)\n",
    "\n",
    "X_norm = X.subtract(X.mean(axis=0), axis=1)\n",
    "X_norm = X_norm.div(X_norm.std(axis=0), axis=1)\n",
    "label_for_test = label.loc[X_norm.index]\n",
    "X_norm = X_norm.loc[label_for_test.index, :]\n",
    "\n",
    "for gate in allP.index:\n",
    "    Y = (label_for_test==gate).astype(int)\n",
    "    logit_mod = sm.Logit(Y, X_norm)\n",
    "    logit_res = logit_mod.fit(disp=0)\n",
    "    print(gate)\n",
    "    summ = pd.concat([logit_res.params, logit_res.pvalues], axis=1)\n",
    "    summ.columns = ['Beta', 'P-value']\n",
    "    allH.loc[gate, :] = summ['Beta']\n",
    "    allP.loc[gate, :] = summ['P-value']\n",
    "    summ = summ.sort_values(by='Beta', ascending=False)\n",
    "    display(summ)\n"
   ]
  },
  {
   "cell_type": "code",
   "execution_count": null,
   "id": "a66a40b4-f203-4e16-898a-93394b7989a8",
   "metadata": {},
   "outputs": [],
   "source": [
    "sns.clustermap(allH, vmax=2)"
   ]
  },
  {
   "cell_type": "code",
   "execution_count": null,
   "id": "6906fad3-7802-49d0-9731-328eef5589ac",
   "metadata": {},
   "outputs": [],
   "source": [
    "forsumm = allH.T\n",
    "\n",
    "for c in ['Treg', 'gdT', 'MAIT', 'CD4_Naive', 'CD8_Naive', 'CD4_CM', 'CD4_EM', 'CD8_TEMRA']:\n",
    "    Z = forsumm[c].sort_values(ascending=False)\n",
    "    maxind = Z.index[0]\n",
    "    print(c, maxind, Z.iloc[0], Z.iloc[0] - Z.iloc[1], allP.loc[c, maxind])"
   ]
  },
  {
   "cell_type": "code",
   "execution_count": null,
   "id": "3e0b1450-b2e8-4eb2-b930-5ee89604266a",
   "metadata": {},
   "outputs": [],
   "source": [
    "allH.loc['CD4_EM', :].sort_values(ascending=False)"
   ]
  },
  {
   "cell_type": "code",
   "execution_count": null,
   "id": "a811ac19-0fb5-424b-94ae-fce5e93685ad",
   "metadata": {},
   "outputs": [],
   "source": [
    "allP.loc['CD4_EM', :].sort_values(ascending=True)"
   ]
  },
  {
   "cell_type": "code",
   "execution_count": null,
   "id": "f5228f38-5f9e-4bf6-99a6-d409e3373087",
   "metadata": {},
   "outputs": [],
   "source": [
    "\n",
    "lineage_geps = ['Treg', 'gdT-Blood', 'MAIT', 'CD4-Naive', 'CD8-Naive',  'CD4-CM', 'Th17', 'CD4-EM',  'Th2-1',  'CD8-EM', 'NK-like']\n",
    "other_geps = ['Cytotoxic', 'Translation', 'IL10/IL19-Secretion', 'ISG', 'TIMD4/TIM3-Activation', 'IEG', 'BCL2-Survival']\n",
    "#other_geps = ['Cytotoxic', 'Translation', 'IL10/IL19-Secretion', 'HLA', 'CellCycle-S', 'ISG',  'Early-Activation']\n",
    "\n",
    "\n",
    "'''\n",
    "other_geps = [ 'IL10/CD38', 'CTLA4+CD38+',\n",
    " 'CellCycle-G2M',\n",
    " 'CellCycle-Histone',\n",
    " 'CellCycle-S',\n",
    " 'Cytoskeleton',\n",
    " 'IL26/CTSH',\n",
    " 'Metallothionein',\n",
    "'S100A10/LMNA', 'MALAT1',  'ISG', 'Mito', 'HLA',  'Cytotoxic',  'HeatShock2', 'IEG']\n",
    "'''\n",
    "gep_order = lineage_geps + other_geps\n",
    "\n",
    "vmin = 0 #allH.min().min()\n",
    "vmax= 1.25\n",
    "\n",
    "\n",
    "fig = plt.figure(figsize=(4, 3), dpi=300)\n",
    "gs = gridspec.GridSpec(2, 3, width_ratios=[0.05, frac_lineage, frac_other], height_ratios=[.1,.9], wspace=0.1, bottom=0.3, top=.9, left=0.2)\n",
    "\n",
    "# Colorbar axis\n",
    "top_ax = fig.add_subplot(gs[0, 0:2])\n",
    "lin_ax = fig.add_subplot(gs[1,1])\n",
    "other_ax = fig.add_subplot(gs[1, 2])\n",
    "top_ax.axis('off')\n",
    "\n",
    "\n",
    "cax = top_ax.inset_axes([-0.1, .5, 0.15, 0.4], transform=top_ax.transAxes)\n",
    "#fig.colorbar(scim, ax=axes[x,y], cax=cax, orientation='horizontal')\n",
    "\n",
    "\n",
    "\n",
    "sns.heatmap(allH.loc[:,lineage_geps], ax=lin_ax, cbar_ax=cax,\n",
    "            xticklabels=True, cbar_kws={'orientation':'horizontal', 'ticks':[vmin,vmax], 'shrink':0.1, 'aspect':30},\n",
    "            vmin=vmin, vmax=vmax)\n",
    "sns.heatmap(allH.loc[:,other_geps], ax=other_ax, cbar=False, vmin=vmin, vmax=vmax, xticklabels=True)\n",
    "other_ax.set_yticks([])\n",
    "lin_ax.set_ylabel('Manually Gated Lineage', fontsize=10)\n",
    "other_ax.set_ylabel('')\n",
    "fig.text(0.6, 0.02, 'Gene Expression Program', ha='center', va='center', fontsize=10)\n",
    "\n",
    "lin_ax.set_yticks(np.arange(cluster_norm.shape[0])+0.5)\n",
    "lin_ax.set_yticklabels([x.replace('_', ' ') for x in cluster_norm.index], fontsize=8)\n",
    "\n",
    "lin_ax.set_xticks(np.arange(len(lineage_geps))+0.5)\n",
    "lin_ax.set_xticklabels(lineage_geps, fontsize=8)\n",
    "\n",
    "other_ax.set_xticks(np.arange(len(other_geps))+0.5)\n",
    "other_ax.set_xticklabels([x.replace('-Secretion', '').replace('-Activation', '') for x in other_geps], fontsize=8)\n",
    "\n",
    "lin_ax.set_title('Lineage Associated', fontsize=10)\n",
    "other_ax.set_title('Example Other', fontsize=10)\n",
    "\n",
    "\n",
    "cax.tick_params(labelsize=8)\n",
    "\n",
    "plt.savefig(os.path.join(figdir, 'LineageAssociate_Logistic_COMBAT.png'))\n",
    "plt.savefig(os.path.join(figdir, 'LineageAssociate_Logistic_COMBAT.pdf'))"
   ]
  },
  {
   "cell_type": "code",
   "execution_count": null,
   "id": "0c80f9d9-275c-451b-b610-059e62b2d860",
   "metadata": {},
   "outputs": [],
   "source": [
    "len(set(allH.columns) - set(lineage_geps)), len(other_geps)"
   ]
  },
  {
   "cell_type": "code",
   "execution_count": null,
   "id": "976a0eb6-b23b-4fa3-b3bd-ec0b86e5c308",
   "metadata": {},
   "outputs": [],
   "source": [
    "sns.heatmap(allH, vmax=2)"
   ]
  },
  {
   "cell_type": "code",
   "execution_count": null,
   "id": "b665ee66-6438-4eec-9c14-6f5fd6fce8c7",
   "metadata": {},
   "outputs": [],
   "source": []
  },
  {
   "cell_type": "code",
   "execution_count": null,
   "id": "d30954e3-8f9a-4bea-b222-69cbd027c60c",
   "metadata": {},
   "outputs": [],
   "source": []
  },
  {
   "cell_type": "code",
   "execution_count": null,
   "id": "985de195-581d-4612-8286-6dd748b4b643",
   "metadata": {},
   "outputs": [],
   "source": []
  },
  {
   "cell_type": "code",
   "execution_count": null,
   "id": "2c78e365-44fd-43ca-975f-b66c18b9185f",
   "metadata": {},
   "outputs": [],
   "source": []
  },
  {
   "cell_type": "code",
   "execution_count": null,
   "id": "0ec165df-7c79-4f9f-a211-91a8734f1025",
   "metadata": {},
   "outputs": [],
   "source": [
    "label.index"
   ]
  },
  {
   "cell_type": "code",
   "execution_count": null,
   "id": "b3365e78-064e-411d-b50d-ffb65e7e42c3",
   "metadata": {},
   "outputs": [],
   "source": []
  },
  {
   "cell_type": "code",
   "execution_count": null,
   "id": "7e28fb96-9255-454a-9f1b-c5178d1dce6e",
   "metadata": {},
   "outputs": [],
   "source": []
  },
  {
   "cell_type": "code",
   "execution_count": null,
   "id": "1f8bc1a4-5b60-421b-acab-c29264874ad0",
   "metadata": {},
   "outputs": [],
   "source": []
  },
  {
   "cell_type": "code",
   "execution_count": null,
   "id": "afb74f91-57b8-4c0d-8c16-a6e6258eb468",
   "metadata": {},
   "outputs": [],
   "source": []
  },
  {
   "cell_type": "code",
   "execution_count": null,
   "id": "f1383a18-c8c0-4ce9-8cf3-9050c9e8ed67",
   "metadata": {},
   "outputs": [],
   "source": []
  },
  {
   "cell_type": "code",
   "execution_count": null,
   "id": "f1a3292b-89f4-42a9-949e-57ddae3a2fa5",
   "metadata": {},
   "outputs": [],
   "source": [
    "tcat_usage_norm.loc[label==gate, mapping[gate]]"
   ]
  },
  {
   "cell_type": "code",
   "execution_count": null,
   "id": "82430611-b9f4-43ee-8618-d1a942624d4d",
   "metadata": {},
   "outputs": [],
   "source": [
    "gate\n",
    "               "
   ]
  },
  {
   "cell_type": "code",
   "execution_count": null,
   "id": "c8c22355-05a0-4104-8f6c-060ba5dd242e",
   "metadata": {},
   "outputs": [],
   "source": []
  },
  {
   "cell_type": "code",
   "execution_count": null,
   "id": "91ed8123-b72d-42e8-a3b1-e76a8f7d7dfb",
   "metadata": {},
   "outputs": [],
   "source": [
    "import matplotlib\n",
    "matplotlib.figure.Figure.colorbar("
   ]
  },
  {
   "cell_type": "code",
   "execution_count": null,
   "id": "a225e854-5eb3-410e-97fd-e5c7660346a4",
   "metadata": {},
   "outputs": [],
   "source": [
    "cluster_norm"
   ]
  },
  {
   "cell_type": "code",
   "execution_count": null,
   "id": "f7e43a87-48c4-4a01-9dbd-0949ba9bf298",
   "metadata": {},
   "outputs": [],
   "source": [
    "cluster = tcat_usage_norm.groupby(label).mean()\n",
    "\n",
    "sns.clustermap(cluster, xticklabels=True, yticklabels=True)"
   ]
  },
  {
   "cell_type": "code",
   "execution_count": null,
   "id": "2130d75b-992c-4651-aed2-b6fe2e9e19f4",
   "metadata": {},
   "outputs": [],
   "source": [
    "cluster = tcat_usage_norm.groupby(label).mean()\n",
    "cluster_norm = cluster.div(cluster.sum(axis=0), axis=1)\n",
    "\n",
    "cluster.max(axis=0).sort_values(ascending=False)"
   ]
  },
  {
   "cell_type": "code",
   "execution_count": null,
   "id": "dda8afe1-1415-4a0f-9c60-9932b51c1a69",
   "metadata": {},
   "outputs": [],
   "source": [
    "cluster_norm.max(axis=0).sort_values(ascending=False)"
   ]
  },
  {
   "cell_type": "markdown",
   "id": "8ab6af39-7351-4d5b-be84-dceb07f1b0a3",
   "metadata": {},
   "source": [
    "# Scratch"
   ]
  },
  {
   "cell_type": "code",
   "execution_count": null,
   "id": "f21bd22b-6d6b-47c6-8321-bdb5ea6e3c23",
   "metadata": {},
   "outputs": [],
   "source": []
  },
  {
   "cell_type": "code",
   "execution_count": null,
   "id": "d1a83b1a-e22d-4e05-bcf3-1704f47468e9",
   "metadata": {},
   "outputs": [],
   "source": []
  },
  {
   "cell_type": "code",
   "execution_count": null,
   "id": "b5d8b8f5-41ca-4cb8-8193-d3c6dcd65fb3",
   "metadata": {},
   "outputs": [],
   "source": []
  },
  {
   "cell_type": "code",
   "execution_count": null,
   "id": "f73d3d42-4475-40d5-9d61-020549d23489",
   "metadata": {},
   "outputs": [],
   "source": []
  },
  {
   "cell_type": "markdown",
   "id": "880301ef-bc77-47f8-9efa-6c0a35853b8a",
   "metadata": {
    "tags": []
   },
   "source": [
    "## Scratch - Polarization gating"
   ]
  },
  {
   "cell_type": "code",
   "execution_count": null,
   "id": "ba2dd68a-f5e2-44d7-8198-94d9c7c70485",
   "metadata": {},
   "outputs": [],
   "source": [
    "ind = gating['CD4_Conv'].isin(['CD4_CM', 'CD4_EM']) | gating['CD8_Conv'].isin(['CD8_CM', 'CD8_EM'])\n",
    "gep = 'Th2'\n",
    "\n",
    "pairs = [('AB_CD194', 'GATA3'), ('CCR4', 'GATA3'), ('IL4', 'GATA3'), ('IL4R', 'GATA3')]\n",
    "vmax=0.3\n",
    "\n",
    "    \n",
    "for g1,g2 in pairs:\n",
    "\n",
    "    x = markers_magic.loc[ind, g1]\n",
    "    y = markers_magic.loc[ind, g2]\n",
    "    c = tcat_usage_ren.loc[ind, gep]\n",
    "\n",
    "    (fig,ax) = plt.subplots(1,1, figsize=(2,2), dpi=200)\n",
    "    ax.scatter(x,y,c=c, vmin=0, vmax=vmax, s=1, edgecolor='None')\n",
    "    \n",
    "    if 'AB_' in g1:\n",
    "        ax.set_xlabel(g1)\n",
    "    else:\n",
    "        ax.set_xlabel(g1 + ' RNA')\n",
    "        \n",
    "    if 'AB_' in g2:\n",
    "        ax.set_ylabel(g2)\n",
    "    else:\n",
    "        ax.set_ylabel(g2 + ' RNA')\n",
    "        \n",
    "        \n",
    "        ax.set_title(gep + ' Usage')"
   ]
  },
  {
   "cell_type": "code",
   "execution_count": null,
   "id": "3d386543-e456-4807-bd51-1484d0babff6",
   "metadata": {},
   "outputs": [],
   "source": [
    "ind = gating['CD4_Conv'].isin(['CD4_CM', 'CD4_EM']) | gating['CD8_Conv'].isin(['CD8_CM', 'CD8_EM'])\n",
    "gep = 'CCR3+-Th2'\n",
    "\n",
    "pairs = [('AB_CD194', 'GATA3'), ('CCR4', 'GATA3'), ('IL4', 'GATA3'), ('IL4R', 'GATA3')]\n",
    "vmax=0.3\n",
    "\n",
    "for g1,g2 in pairs:\n",
    "\n",
    "    x = markers_magic.loc[ind, g1]\n",
    "    y = markers_magic.loc[ind, g2]\n",
    "    c = tcat_usage_ren.loc[ind, gep]\n",
    "\n",
    "    (fig,ax) = plt.subplots(1,1, figsize=(2,2), dpi=200)\n",
    "    ax.scatter(x,y,c=c, vmin=0, vmax=vmax, s=1, edgecolor='None')\n",
    "    \n",
    "    if 'AB_' in g1:\n",
    "        ax.set_xlabel(g1)\n",
    "    else:\n",
    "        ax.set_xlabel(g1 + ' RNA')\n",
    "        \n",
    "    if 'AB_' in g2:\n",
    "        ax.set_ylabel(g2)\n",
    "    else:\n",
    "        ax.set_ylabel(g2 + ' RNA')\n",
    "        \n",
    "        \n",
    "        ax.set_title(gep + ' Usage')"
   ]
  },
  {
   "cell_type": "code",
   "execution_count": null,
   "id": "9c7109d4-e7d1-4f29-93a0-3d05bb7c7ce8",
   "metadata": {},
   "outputs": [],
   "source": [
    "ind = gating['CD4_Conv'].isin(['CD4_CM', 'CD4_EM']) | gating['CD8_Conv'].isin(['CD8_CM', 'CD8_EM'])\n",
    "\n",
    "pairs = [('AB_CD194', 'GATA3'), ('CCR4', 'GATA3'), ('IL4', 'GATA3'), ('IL4R', 'GATA3')]\n",
    "vmax=0.3\n",
    "\n",
    "tcat_usage_ren2 = tcat_usage_ren.copy()\n",
    "tcat_usage_ren2['Th2_Full'] = tcat_usage_ren2['Th2'] + tcat_usage_ren2['CCR3+-Th2']\n",
    "gep = 'Th2_Full'\n",
    "\n",
    "\n",
    "for g1,g2 in pairs:\n",
    "\n",
    "    x = markers_magic.loc[ind, g1]\n",
    "    y = markers_magic.loc[ind, g2]\n",
    "    c = tcat_usage_ren2.loc[ind, gep]\n",
    "\n",
    "    (fig,ax) = plt.subplots(1,1, figsize=(2,2), dpi=200)\n",
    "    ax.scatter(x,y,c=c, vmin=0, vmax=vmax, s=1, edgecolor='None')\n",
    "    \n",
    "    if 'AB_' in g1:\n",
    "        ax.set_xlabel(g1)\n",
    "    else:\n",
    "        ax.set_xlabel(g1 + ' RNA')\n",
    "        \n",
    "    if 'AB_' in g2:\n",
    "        ax.set_ylabel(g2)\n",
    "    else:\n",
    "        ax.set_ylabel(g2 + ' RNA')\n",
    "        \n",
    "        \n",
    "        ax.set_title(gep + ' Usage')"
   ]
  },
  {
   "cell_type": "code",
   "execution_count": null,
   "id": "d6dcef56-aad9-48c5-9bd4-9bf5d5c99ef5",
   "metadata": {},
   "outputs": [],
   "source": [
    "ind = gating['CD4_Conv'].isin(['CD4_CM', 'CD4_EM']) | gating['CD8_Conv'].isin(['CD8_CM', 'CD8_EM'])\n",
    "gep = 'Th17'\n",
    "\n",
    "pairs = [('AB_CD196', 'RORC'), ('CCR6', 'RORC'), ('IL17A', 'RORC'), ('RORA', 'RORC'), ('STAT3', 'RORC')]\n",
    "vmax=0.3\n",
    "\n",
    "for g1,g2 in pairs:\n",
    "\n",
    "    x = markers_magic.loc[ind, g1]\n",
    "    y = markers_magic.loc[ind, g2]\n",
    "    c = tcat_usage_ren.loc[ind, gep]\n",
    "\n",
    "    (fig,ax) = plt.subplots(1,1, figsize=(2,2), dpi=200)\n",
    "    ax.scatter(x,y,c=c, vmin=0, vmax=vmax, s=1, edgecolor='None')\n",
    "    \n",
    "    if 'AB_' in g1:\n",
    "        ax.set_xlabel(g1)\n",
    "    else:\n",
    "        ax.set_xlabel(g1 + ' RNA')\n",
    "        \n",
    "    if 'AB_' in g2:\n",
    "        ax.set_ylabel(g2)\n",
    "    else:\n",
    "        ax.set_ylabel(g2 + ' RNA')\n",
    "        \n",
    "        \n",
    "        ax.set_title(gep + ' Usage')"
   ]
  },
  {
   "cell_type": "code",
   "execution_count": null,
   "id": "a314fcb6-ee28-40c5-9661-20436df8b7fc",
   "metadata": {},
   "outputs": [],
   "source": [
    "ind = gating['CD4_Conv'].isin([ 'CD4_EM'])\n",
    "gep = 'CD4 TEM'\n",
    "\n",
    "pairs = [('AB_CXCR3', 'TBX21'), ('CXCR3', 'TBX21'), ('AB_CXCR3', 'IFNG'), ('CXCR3', 'IFNG'), ('IFNG', 'TBX21')]\n",
    "vmax=0.3\n",
    "\n",
    "for g1,g2 in pairs:\n",
    "\n",
    "    x = markers_magic.loc[ind, g1]\n",
    "    y = markers_magic.loc[ind, g2]\n",
    "    c = tcat_usage_ren.loc[ind, gep]\n",
    "\n",
    "    (fig,ax) = plt.subplots(1,1, figsize=(2,2), dpi=200)\n",
    "    ax.scatter(x,y,c=c, vmin=0, vmax=vmax, s=1, edgecolor='None')\n",
    "    \n",
    "    if 'AB_' in g1:\n",
    "        ax.set_xlabel(g1)\n",
    "    else:\n",
    "        ax.set_xlabel(g1 + ' RNA')\n",
    "        \n",
    "    if 'AB_' in g2:\n",
    "        ax.set_ylabel(g2)\n",
    "    else:\n",
    "        ax.set_ylabel(g2 + ' RNA')\n",
    "        \n",
    "        \n",
    "        ax.set_title(gep + ' Usage')"
   ]
  },
  {
   "cell_type": "code",
   "execution_count": null,
   "id": "99fbdfd2-9630-43f2-aab2-d4594a085719",
   "metadata": {},
   "outputs": [],
   "source": [
    "ind = gating['CD4_Conv'].isin([ 'CD4_EM'])\n",
    "gep = 'Cytotoxic'\n",
    "\n",
    "pairs = [('AB_CXCR3', 'TBX21'), ('CXCR3', 'TBX21'), ('AB_CXCR3', 'IFNG'), ('CXCR3', 'IFNG'), ('IFNG', 'TBX21')]\n",
    "vmax=0.3\n",
    "\n",
    "for g1,g2 in pairs:\n",
    "\n",
    "    x = markers_magic.loc[ind, g1]\n",
    "    y = markers_magic.loc[ind, g2]\n",
    "    c = tcat_usage_ren.loc[ind, gep]\n",
    "\n",
    "    (fig,ax) = plt.subplots(1,1, figsize=(2,2), dpi=200)\n",
    "    ax.scatter(x,y,c=c, vmin=0, vmax=vmax, s=1, edgecolor='None')\n",
    "    \n",
    "    if 'AB_' in g1:\n",
    "        ax.set_xlabel(g1)\n",
    "    else:\n",
    "        ax.set_xlabel(g1 + ' RNA')\n",
    "        \n",
    "    if 'AB_' in g2:\n",
    "        ax.set_ylabel(g2)\n",
    "    else:\n",
    "        ax.set_ylabel(g2 + ' RNA')\n",
    "        \n",
    "        \n",
    "        ax.set_title(gep + ' Usage')"
   ]
  },
  {
   "cell_type": "code",
   "execution_count": null,
   "id": "234ef6a3-27eb-4cdc-a725-d2ebc22c6d38",
   "metadata": {},
   "outputs": [],
   "source": [
    "ind = gating['CD4_Conv'].isin([ 'CD4_EM'])\n",
    "gep = 'High-Cytokine'\n",
    "\n",
    "pairs = [('AB_CXCR3', 'TBX21'), ('CXCR3', 'TBX21'), ('AB_CXCR3', 'IFNG'), ('CXCR3', 'IFNG'), ('IFNG', 'TBX21')]\n",
    "vmax=0.3\n",
    "\n",
    "for g1,g2 in pairs:\n",
    "\n",
    "    x = markers_magic.loc[ind, g1]\n",
    "    y = markers_magic.loc[ind, g2]\n",
    "    c = tcat_usage_ren.loc[ind, gep]\n",
    "\n",
    "    (fig,ax) = plt.subplots(1,1, figsize=(2,2), dpi=200)\n",
    "    ax.scatter(x,y,c=c, vmin=0, vmax=vmax, s=1, edgecolor='None')\n",
    "    \n",
    "    if 'AB_' in g1:\n",
    "        ax.set_xlabel(g1)\n",
    "    else:\n",
    "        ax.set_xlabel(g1 + ' RNA')\n",
    "        \n",
    "    if 'AB_' in g2:\n",
    "        ax.set_ylabel(g2)\n",
    "    else:\n",
    "        ax.set_ylabel(g2 + ' RNA')\n",
    "        \n",
    "        \n",
    "        ax.set_title(gep + ' Usage')"
   ]
  },
  {
   "cell_type": "code",
   "execution_count": null,
   "id": "3e29b0df-6ecd-46e0-8a05-c2b2e56d7792",
   "metadata": {},
   "outputs": [],
   "source": [
    "ind = gating['CD4_Conv'].isin(['CD4_CM', 'CD4_EM', 'CD4_TEMRA']) | gating['CD8_Conv'].isin(['CD8_CM', 'CD8_EM', 'CD8_TEMRA'])\n",
    "g1 = 'IL4R'   \n",
    "g2 = 'GATA3'\n",
    "gep = 'Th2'\n",
    "x = markers_magic.loc[ind, g1]\n",
    "y = markers_magic.loc[ind, g2]\n",
    "c = tcat_usage_ren.loc[ind, gep]\n",
    "vmax=0.3\n",
    "\n",
    "(fig,ax) = plt.subplots(1,1, figsize=(2,2), dpi=200)\n",
    "ax.scatter(x,y,c=c, vmin=0, vmax=vmax, s=1, edgecolor='None')\n",
    "ax.set_xlabel(g1 + ' RNA')\n",
    "ax.set_ylabel(g2 + ' RNA')\n",
    "ax.set_title(gep + ' Usage')"
   ]
  },
  {
   "cell_type": "code",
   "execution_count": null,
   "id": "64dd1008-7714-4eb7-910a-488c4e67fc2e",
   "metadata": {},
   "outputs": [],
   "source": [
    "ind = gating['CD4_Conv'].isin(['CD4_CM', 'CD4_EM', 'CD4_TEMRA']) | gating['CD8_Conv'].isin(['CD8_CM', 'CD8_EM', 'CD8_TEMRA'])\n",
    "g1 = 'AB_CD194'   \n",
    "g2 = 'GATA3'\n",
    "gep = 'Th2'\n",
    "x = markers_magic.loc[ind, g1]\n",
    "y = markers_magic.loc[ind, g2]\n",
    "c = tcat_usage_ren.loc[ind, gep]\n",
    "vmax=0.3\n",
    "\n",
    "(fig,ax) = plt.subplots(1,1, figsize=(2,2), dpi=200)\n",
    "ax.scatter(x,y,c=c, vmin=0, vmax=vmax, s=1, edgecolor='None')\n",
    "ax.set_xlabel(g1)\n",
    "ax.set_ylabel(g2 + ' RNA')\n",
    "ax.set_title(gep + ' Usage')"
   ]
  },
  {
   "cell_type": "code",
   "execution_count": null,
   "id": "afee2a40-923c-4eff-ae5c-7a2514f8027b",
   "metadata": {},
   "outputs": [],
   "source": [
    "\n",
    "ind = gating['CD4_Conv'].isin(['CD4_CM', 'CD4_EM', 'CD4_TEMRA']) | gating['CD8_Conv'].isin(['CD8_CM', 'CD8_EM', 'CD8_TEMRA'])\n",
    "_ = gate(markers_magic, g1, g2, ind=ind, quadrant_gate={'vthresh':4.4, 'hthresh':1.5, 'll':'CD8_EM', 'lr':'CD8_EM',\n",
    "                                                                                    'ul':'CD8_EM', 'ur':'CD8_CM'}, plot_labeled=False)\n"
   ]
  },
  {
   "cell_type": "code",
   "execution_count": null,
   "id": "933d70c3-bf8e-489d-9812-535a728ebee7",
   "metadata": {},
   "outputs": [],
   "source": [
    "g1 = 'CCR4'   \n",
    "g2 = 'GATA3'\n",
    "ind = gating['CD4_Conv'].isin(['CD4_CM', 'CD4_EM', 'CD4_TEMRA']) | gating['CD8_Conv'].isin(['CD8_CM', 'CD8_EM', 'CD8_TEMRA'])\n",
    "_ = gate(markers_magic, g1, g2, ind=ind, quadrant_gate={'vthresh':4.4, 'hthresh':1.5, 'll':'CD8_EM', 'lr':'CD8_EM',\n",
    "                                                                                    'ul':'CD8_EM', 'ur':'CD8_CM'}, plot_labeled=False)"
   ]
  },
  {
   "cell_type": "code",
   "execution_count": null,
   "id": "e65656e2-b21a-4a6a-a82d-da19a1268cc8",
   "metadata": {},
   "outputs": [],
   "source": [
    "g1 = 'AB_CD194'   \n",
    "g2 = 'GATA3'\n",
    "ind = gating['CD4_Conv'].isin(['CD4_CM', 'CD4_EM', 'CD4_TEMRA']) | gating['CD8_Conv'].isin(['CD8_CM', 'CD8_EM', 'CD8_TEMRA'])\n",
    "_ = gate(markers_magic, g1, g2, ind=ind, quadrant_gate={'vthresh':4.4, 'hthresh':1.5, 'll':'CD8_EM', 'lr':'CD8_EM',\n",
    "                                                                                    'ul':'CD8_EM', 'ur':'CD8_CM'}, plot_labeled=False)"
   ]
  },
  {
   "cell_type": "markdown",
   "id": "7577371a-af48-4f56-b156-b50964647674",
   "metadata": {},
   "source": [
    "## Scratch - Overlap with GEPs"
   ]
  },
  {
   "cell_type": "code",
   "execution_count": null,
   "id": "ef0421b8-3704-45c4-bd52-1317a3fbe29d",
   "metadata": {},
   "outputs": [],
   "source": [
    "params = read_dataset_log('Dataset Paths')\n",
    "params.index = params['dataset']\n",
    "params"
   ]
  },
  {
   "cell_type": "code",
   "execution_count": null,
   "id": "fa83ad5e-1117-4256-ac32-a75a5ead12b1",
   "metadata": {},
   "outputs": [],
   "source": [
    "usage_fn = params.loc['COMBAT', 'usage_fn']\n",
    "usage = pd.read_csv(usage_fn, sep='\\t', index_col=0)\n",
    "usage = usage.div(usage.sum(axis=1), axis=0)\n",
    "usage.head()"
   ]
  },
  {
   "cell_type": "code",
   "execution_count": null,
   "id": "7a02577e-ae14-44c0-af24-b08f4bf4389a",
   "metadata": {},
   "outputs": [],
   "source": [
    "outfn = os.path.join(outdir, 'ManualGating.Magic.FinalLabel.20230831.tsv')\n",
    "print(outfn)"
   ]
  },
  {
   "cell_type": "code",
   "execution_count": null,
   "id": "48d8443b-93ea-4167-86d9-d66659efd5a9",
   "metadata": {},
   "outputs": [],
   "source": [
    "label = pd.read_csv(outfn, sep='\\t', index_col=0)['0']\n",
    "label.head()"
   ]
  },
  {
   "cell_type": "code",
   "execution_count": null,
   "id": "7b854f2f-3b5d-4438-a999-deb2c91c0133",
   "metadata": {},
   "outputs": [],
   "source": [
    "(fig,ax) = plt.subplots(1,1, figsize=(8,5), dpi=200)\n",
    "cluster = usage.groupby(label).mean()\n",
    "\n",
    "gep_order = ['Treg',  'gdT','MAIT', 'CD4_CM-2', 'CD8_Naive', 'CD8_CD160high','Th17', 'Th2',  'dnT',\n",
    "             \n",
    "        'Translation', 'Cytoskeleton',  '?AB_CD278/ACTG1',\n",
    "       'Doublet_Plasmablast', 'Cytotoxic', 'HeatShock', \n",
    "       'PoorQuality', 'Mito', 'IEG',   'TYMS/ATP5F1D',\n",
    "       'ISG', '?CCR10/LMNA', 'CellCycle_G2M_2', 'Doublet_Myeloid',\n",
    "       'AB_CD86/TIMD4', 'CellCycle_S', 'AB_CD278/LGMN/IL21', 'HLA', 'NK-like',\n",
    "        'IL26/RORC/CTSH',  'CellCycle_Histone', \n",
    "       'CellCycle_G2M', 'CellCycle_Histone3', 'Doublet_Plasmablast2',\n",
    "       'CDO1/IGFL2', 'SFRP4/CADM1', 'Metallothionein', 'CellCycle_Histone2',\n",
    "       'Doublet_Platelet', 'Doublet_DC', '?Myeloid',  'HeatShock2',\n",
    "       'TRAV24/TBC1D4', 'Doublet_RBC', '?PGLYRP1/LTF']\n",
    "\n",
    "\n",
    "lineage_order = ['Treg', 'gdT', 'MAIT', 'CD4_CM', 'CD4_EM',  'CD8_Naive', 'CD8_CM', 'CD8_EM', 'CD8_TEMRA',\n",
    "                 'CD4_Naive', 'CD4_TEMRA', 'DN', 'DP',  ]\n",
    "\n",
    "cluster = cluster.loc[lineage_order, gep_order]\n",
    "\n",
    "max_usage = cluster.max(axis=0).sort_values(ascending=False)\n",
    "tofilt = max_usage.index[max_usage<0.01]\n",
    "\n",
    "cluster = cluster.drop(tofilt, axis=1)\n",
    "\n",
    "\n",
    "sns.heatmap(cluster, ax=ax, xticklabels=True, vmax=0.3)"
   ]
  },
  {
   "cell_type": "code",
   "execution_count": null,
   "id": "2f402711-67c9-44f3-83a1-bd0748940b89",
   "metadata": {},
   "outputs": [],
   "source": [
    "cluster_info_fn = read_dataset_log('Current Meta-program Paths').at[0, 'clustering_fn']\n",
    "cluster_info = pd.read_csv(cluster_info_fn, sep='\\t', index_col=0)\n",
    "cluster_info.head()"
   ]
  },
  {
   "cell_type": "code",
   "execution_count": null,
   "id": "65f81b08-d854-439d-a26b-a917892dbe39",
   "metadata": {},
   "outputs": [],
   "source": [
    "tcat_fn = params.loc['COMBAT', 'tcat_fn']\n",
    "print(tcat_fn)\n",
    "\n",
    "tcat_usage = pd.read_csv(tcat_fn, sep='\\t', index_col=0)\n",
    "tcat_usage = tcat_usage.div(tcat_usage.sum(axis=1), axis=0)\n",
    "tcat_usage.head()"
   ]
  },
  {
   "cell_type": "code",
   "execution_count": null,
   "id": "d5226777-1a96-4fb8-a76f-5f4189bdfbe4",
   "metadata": {},
   "outputs": [],
   "source": []
  },
  {
   "cell_type": "code",
   "execution_count": null,
   "id": "a26d3602-6a0c-4fdc-ba5c-f394a4331796",
   "metadata": {},
   "outputs": [],
   "source": [
    "tcat_usage_filt = tcat_usage.loc[:, cluster_info['COMBAT'].dropna().index]"
   ]
  },
  {
   "cell_type": "code",
   "execution_count": null,
   "id": "d56829c6-396c-47bc-91b0-673c8be44e68",
   "metadata": {},
   "outputs": [],
   "source": [
    "tcat_gep_info = read_dataset_log('GEP_Name')\n",
    "tcat_gep_info.head()"
   ]
  },
  {
   "cell_type": "code",
   "execution_count": null,
   "id": "cfea4611-c720-478b-a343-17e7578d06c4",
   "metadata": {},
   "outputs": [],
   "source": [
    "rename_map = dict(zip(tcat_gep_info['MetaGep_Name'], tcat_gep_info['Short_Name']))"
   ]
  },
  {
   "cell_type": "code",
   "execution_count": null,
   "id": "abcb2cef-9be2-4d2e-a2e6-f8a9b0d9ef5f",
   "metadata": {},
   "outputs": [],
   "source": [
    "tcat_usage_ren = tcat_usage_filt.rename(rename_map, axis=1)"
   ]
  },
  {
   "cell_type": "code",
   "execution_count": null,
   "id": "de66f3a2-78a1-47c2-8974-d3c9cbca9ef2",
   "metadata": {},
   "outputs": [],
   "source": [
    "set(lineage_geps) - set(tcat_usage_ren.columns)"
   ]
  },
  {
   "cell_type": "code",
   "execution_count": null,
   "id": "9665bee0-29bf-41ae-868c-79c31797771f",
   "metadata": {},
   "outputs": [],
   "source": [
    "cluster = tcat_usage_ren.groupby(label).mean()"
   ]
  },
  {
   "cell_type": "code",
   "execution_count": null,
   "id": "ff875e4d-f670-4b37-aeae-d2c836a6b2ed",
   "metadata": {},
   "outputs": [],
   "source": [
    "cmax = cluster.max(axis=0).sort_values(ascending=False)\n",
    "toconsider = cmax.index[cmax>0.02]\n",
    "toconsider"
   ]
  },
  {
   "cell_type": "code",
   "execution_count": null,
   "id": "a8940232-327c-45f2-b4c3-3b9a77d00303",
   "metadata": {},
   "outputs": [],
   "source": [
    "ratio = {}\n",
    "for c in toconsider:\n",
    "    sortedv = cluster[c].sort_values(ascending=False)\n",
    "    ratio[c] = sortedv.iloc[0]/sortedv.iloc[1]"
   ]
  },
  {
   "cell_type": "code",
   "execution_count": null,
   "id": "797abdac-b6e9-42d9-8a35-5a1d9575f4c1",
   "metadata": {},
   "outputs": [],
   "source": [
    "pd.Series(ratio).sort_values(ascending=False).index"
   ]
  },
  {
   "cell_type": "code",
   "execution_count": null,
   "id": "79e635b8-487c-4c2c-b688-4e329ffe6ad8",
   "metadata": {},
   "outputs": [],
   "source": [
    "sorted(set(cluster.columns) - set(toconsider))"
   ]
  },
  {
   "cell_type": "code",
   "execution_count": null,
   "id": "4f8d79b2-d1b1-4022-beda-06a7bf8d9ac5",
   "metadata": {},
   "outputs": [],
   "source": [
    "others = ['CTLA4+CD38+',\n",
    " 'CellCycle-G2M',\n",
    " 'CellCycle-Histone',\n",
    " 'CellCycle-S',\n",
    " 'Cytoskeleton',\n",
    " 'IL26/CTSH',\n",
    " 'Metallothionein',\n",
    "'S100A10/LMNA', 'MALAT1',  'ISG', 'Mito', 'HLA',  'Cytotoxic',  'HeatShock2', 'IEG']"
   ]
  },
  {
   "cell_type": "code",
   "execution_count": null,
   "id": "f30eef70-7144-473c-a925-006e6e57d0e3",
   "metadata": {},
   "outputs": [],
   "source": [
    "set(others) - set(tcat_usage_ren.columns)"
   ]
  },
  {
   "cell_type": "code",
   "execution_count": null,
   "id": "7b869fff-e245-4cb2-a92f-fe7a23a4a4f3",
   "metadata": {},
   "outputs": [],
   "source": [
    "cmax.loc[['KLRC2/GNLY', 'NK-Like-3', 'CD4 TCM']]"
   ]
  },
  {
   "cell_type": "code",
   "execution_count": null,
   "id": "1dbf01ac-eb87-4b81-b4bb-a90267d3b74f",
   "metadata": {},
   "outputs": [],
   "source": [
    "cluster = tcat_usage_ren.groupby(label).mean()\n",
    "\n",
    "lineage_order = ['Treg', 'gdT', 'MAIT','CD4_Naive',  'CD8_Naive', 'CD4_CM', 'CD4_EM', 'CD4_TEMRA',  'CD8_CM', 'CD8_EM',  'CD8_TEMRA',\n",
    "                 'DN', 'DP',  ]\n",
    "\n",
    "\n",
    "max_usage = cluster.max(axis=0).sort_values(ascending=False)\n",
    "\n",
    "\n",
    "lineage_geps = ['Treg', 'gdT-Blood', 'MAIT', 'CD4-Naive', 'CD8-Naive', 'Th17',  'CD4 TCM', 'Th2','CD8_EM']\n",
    "other_geps = [ 'IL10/CD38', 'CTLA4+CD38+',\n",
    " 'CellCycle-G2M',\n",
    " 'CellCycle-Histone',\n",
    " 'CellCycle-S',\n",
    " 'Cytoskeleton',\n",
    " 'IL26/CTSH',\n",
    " 'Metallothionein',\n",
    "'S100A10/LMNA', 'MALAT1',  'ISG', 'Mito', 'HLA',  'Cytotoxic',  'HeatShock2', 'IEG']\n",
    "gep_order = lineage_geps + other_geps\n",
    "\n",
    "cluster = cluster.loc[lineage_order, gep_order]\n",
    "\n",
    "\n",
    "cluster_norm = cluster.div(cluster.sum(axis=0), axis=1)\n",
    "\n",
    "\n",
    "\n",
    "frac_lineage = (len(lineage_geps) / len(lineage_geps+other_geps))\n",
    "frac_other = 1-frac_lineage\n",
    "\n",
    "\n",
    "\n",
    "fig = plt.figure(figsize=(8, 6))\n",
    "gs = gridspec.GridSpec(2, 3, width_ratios=[0.05, frac_lineage, frac_other], height_ratios=[.1,.9], wspace=0.1, bottom=0.25)\n",
    "\n",
    "# Colorbar axis\n",
    "top_ax = fig.add_subplot(gs[0, 0:2])\n",
    "lin_ax = fig.add_subplot(gs[1,1])\n",
    "other_ax = fig.add_subplot(gs[1, 2])\n",
    "top_ax.axis('off')\n",
    "\n",
    "\n",
    "cax = top_ax.inset_axes([-0.1, .5, 0.15, 0.4], transform=top_ax.transAxes)\n",
    "#fig.colorbar(scim, ax=axes[x,y], cax=cax, orientation='horizontal')\n",
    "\n",
    "\n",
    "\n",
    "sns.heatmap(cluster_norm.loc[:,lineage_geps], ax=lin_ax, cbar_ax=cax, xticklabels=True, cbar_kws={'label': 'Rel.Usage', 'orientation':'horizontal',\n",
    "                                                                               'ticks':[0,1], 'shrink':0.1, 'aspect':30}, vmin=0, vmax=1)\n",
    "sns.heatmap(cluster_norm.loc[:,other_geps], ax=other_ax, cbar=False, vmin=0, vmax=1, xticklabels=True)\n",
    "other_ax.set_yticks([])\n",
    "lin_ax.set_ylabel('Manually Gated Lineage', fontsize=12)\n",
    "other_ax.set_ylabel('')\n",
    "fig.text(0.5, 0, 'Gene Expression Program', ha='center', va='center', fontsize=12)\n",
    "\n",
    "lin_ax.set_title('Lineage Associated', fontsize=12)\n",
    "other_ax.set_title('Example Other', fontsize=12)\n",
    "\n",
    "plt.savefig(os.path.join(figdir, 'LineageAssociate_COMBAT_Relative.png'))\n",
    "plt.savefig(os.path.join(figdir, 'LineageAssociate_COMBAT_Relative.pdf'))"
   ]
  },
  {
   "cell_type": "code",
   "execution_count": null,
   "id": "48913d3b-d43d-484e-ba55-3196af4aed40",
   "metadata": {},
   "outputs": [],
   "source": [
    "geeps = ['Treg',\n",
    " 'gdT-Blood',\n",
    " 'MAIT',\n",
    " 'CD4-Naive',\n",
    " 'CD8-Naive',\n",
    " 'Th17',\n",
    " 'CD4 TCM',\n",
    " 'Th2',\n",
    " 'CD8_EM']\n",
    "sns.clustermap(tcat_usage_ren.loc[label=='DN', geeps])"
   ]
  },
  {
   "cell_type": "code",
   "execution_count": null,
   "id": "994fcc54-4e45-4cde-99b7-ee8faefc23eb",
   "metadata": {},
   "outputs": [],
   "source": [
    "Z = tcat_usage_ren.drop('IL10/CD38', axis=1)\n",
    "Z = Z.div(Z.sum(axis=1), axis=0)"
   ]
  },
  {
   "cell_type": "code",
   "execution_count": null,
   "id": "8fc3a1e0-9a35-40ee-968f-e9595aa0b650",
   "metadata": {},
   "outputs": [],
   "source": [
    "pd.crosstab(label, tcat_usage_ren['IL10/CD38']>.1)"
   ]
  },
  {
   "cell_type": "code",
   "execution_count": null,
   "id": "6c2ede3b-ee3d-4841-a771-6301da101e20",
   "metadata": {},
   "outputs": [],
   "source": [
    "geeps = ['Treg',\n",
    " 'gdT-Blood',\n",
    " 'MAIT',\n",
    " 'CD4-Naive',\n",
    " 'CD8-Naive',\n",
    " 'CD4 TCM',\n",
    " 'CD8_EM',\n",
    "        'Th2',  'Th17']\n",
    "\n",
    "cmap2 = sns.color_palette(\"mako\", as_cmap=True)\n",
    "\n",
    "fig = plt.figure(figsize=(6, 6), dpi=200)   \n",
    "gs = gridspec.GridSpec(2, 3, width_ratios=[0.05, 1, .1], height_ratios=[1, 1])\n",
    "\n",
    "# Create the subplots using GridSpec\n",
    "high_il10_gep_ax = fig.add_subplot(gs[0, 0])\n",
    "high_il10_lineage_ax = fig.add_subplot(gs[0, 1])\n",
    "low_il10_gep_ax = fig.add_subplot(gs[1, 0])\n",
    "low_il10_lineage_ax = fig.add_subplot(gs[1, 1])\n",
    "\n",
    "high_il10_marker_ax = fig.add_subplot(gs[0, 2])\n",
    "low_il10_marker_ax = fig.add_subplot(gs[1, 2])\n",
    "\n",
    "\n",
    "ind = tcat_usage_ren['IL10/CD38']>0.1\n",
    "Z_filt = Z.loc[ind, geeps]\n",
    "\n",
    "lineage_max = Z_filt.idxmax(axis=1)\n",
    "\n",
    "order = []\n",
    "for g in geeps:\n",
    "    cells = lineage_max==g\n",
    "    order += list(Z_filt.loc[cells, g].sort_values(ascending=False).index)\n",
    "  \n",
    "nhigh = len(order)\n",
    "\n",
    "sns.heatmap(Z_filt.loc[order, geeps], ax=high_il10_lineage_ax, yticklabels=False, xticklabels=False, cbar=False, vmax=0.5)\n",
    "sns.heatmap(tcat_usage_ren.loc[order, 'IL10/CD38'].values.reshape(-1, 1), ax=high_il10_gep_ax, yticklabels=False, xticklabels=False, cbar=False, vmax=0.5)\n",
    "sns.heatmap(unsmoothed_markers.loc[order, ['AB_CD4-2', 'AB_CD8']], ax=high_il10_marker_ax, yticklabels=False, xticklabels=False, cbar=False, cmap=cmap2, vmin=0, vmax=3)\n",
    "\n",
    "\n",
    "\n",
    "\n",
    "ind = tcat_usage_ren['IL10/CD38']<0.1\n",
    "Z_filt = Z.loc[ind, geeps]\n",
    "\n",
    "\n",
    "lineage_max = Z_filt.idxmax(axis=1)\n",
    "\n",
    "order = []\n",
    "for g in geeps:\n",
    "    cells = lineage_max==g\n",
    "    order += list(Z_filt.loc[cells, g].sort_values(ascending=False).index)\n",
    "\n",
    "nlow = len(order)\n",
    "\n",
    "    \n",
    "sns.heatmap(Z_filt.loc[order, geeps], ax=low_il10_lineage_ax, yticklabels=False, xticklabels=True, cbar=False, vmax=0.5)\n",
    "sns.heatmap(tcat_usage_ren.loc[order, 'IL10/CD38'].values.reshape(-1, 1), ax=low_il10_gep_ax, yticklabels=False, xticklabels=False, cbar=False, vmax=0.5)\n",
    "sns.heatmap(unsmoothed_markers.loc[order, ['AB_CD4-2', 'AB_CD8']], ax=low_il10_marker_ax, yticklabels=False, xticklabels=True, cbar=False, cmap=cmap2, vmin=0, vmax=3)\n",
    "\n",
    "low_il10_gep_ax.set_xticks([0.5])\n",
    "low_il10_gep_ax.set_xticklabels(['IL10/CD38'], rotation=90)\n",
    "\n",
    "high_il10_gep_ax.set_ylabel('IL10/CD38 Usage > 0.1 (N=%d)' % nhigh)\n",
    "low_il10_gep_ax.set_ylabel('IL10/CD38 Usage < 0.1 (N=%d)' % nlow)\n",
    "\n",
    "high_il10_lineage_ax.set_title('Lineage GEP Usage')\n",
    "\n",
    "\n",
    "\n",
    "\n",
    "\n"
   ]
  },
  {
   "cell_type": "code",
   "execution_count": null,
   "id": "930497f4-36af-48e5-99e9-3a4535858b31",
   "metadata": {},
   "outputs": [],
   "source": [
    "geeps = ['Treg',\n",
    " 'gdT-Blood',\n",
    " 'MAIT',\n",
    " 'CD4-Naive',\n",
    " 'CD8-Naive',\n",
    " 'CD4 TCM',\n",
    " 'CD8_EM',\n",
    "        'Th2',  'Th17']\n",
    "\n",
    "cmap2 = sns.color_palette(\"mako\", as_cmap=True)\n",
    "cmap3= sns.color_palette(\"vlag\", as_cmap=True)\n",
    "\n",
    "fig = plt.figure(figsize=(6, 6), dpi=200)   \n",
    "gs = gridspec.GridSpec(3, 4, width_ratios=[0.05, 0.05, 1, .1], height_ratios=[.05, 1, 1])\n",
    "\n",
    "# Create the subplots using GridSpec\n",
    "\n",
    "title_ax = fig.add_subplot(gs[0, 2])\n",
    "\n",
    "\n",
    "\n",
    "high_il10_gep_ax = fig.add_subplot(gs[1, 0])\n",
    "high_il10_dn_ax = fig.add_subplot(gs[1, 1])\n",
    "high_il10_lineage_ax = fig.add_subplot(gs[1, 2])\n",
    "high_il10_marker_ax = fig.add_subplot(gs[1, 3])\n",
    "\n",
    "low_il10_gep_ax = fig.add_subplot(gs[2, 0])\n",
    "low_il10_dn_ax = fig.add_subplot(gs[2, 1])\n",
    "low_il10_lineage_ax = fig.add_subplot(gs[2, 2])\n",
    "low_il10_marker_ax = fig.add_subplot(gs[2, 3])\n",
    "\n",
    "\n",
    "ind = tcat_usage_ren['IL10/CD38']>0.1\n",
    "Z_filt = Z.loc[ind, geeps]\n",
    "\n",
    "lineage_max = Z_filt.idxmax(axis=1)\n",
    "\n",
    "order = []\n",
    "for g in geeps:\n",
    "    cells = lineage_max==g\n",
    "    order += list(Z_filt.loc[cells, g].sort_values(ascending=False).index)\n",
    "  \n",
    "nhigh = len(order)\n",
    "\n",
    "\n",
    "cbar_ax = title_ax.inset_axes([0, 0, .1, 0.5], transform=title_ax.transAxes)\n",
    "cbar2_ax = title_ax.inset_axes([.9, 0, .1, 0.5], transform=title_ax.transAxes)\n",
    "\n",
    "title_ax.axis('off')\n",
    "\n",
    "\n",
    "sns.heatmap(Z_filt.loc[order, geeps], ax=high_il10_lineage_ax, yticklabels=False, xticklabels=False, cbar=True, vmax=0.5,\n",
    "            cbar_ax=cbar_ax, cbar_kws={'orientation':'horizontal', 'ticks':[0,.5]})\n",
    "cax.set_xticks([0, .5])\n",
    "cax.set_xticklabels([0, .5], fontsize=6)\n",
    "plt.figtext(x=.53, y=.85, s='Lineage GEP Usage', fontsize=12, ha='center', va='center', zorder=10)\n",
    "sns.heatmap(tcat_usage_ren.loc[order, 'IL10/CD38'].values.reshape(-1, 1), ax=high_il10_gep_ax, yticklabels=False, xticklabels=False, cbar=False, vmax=0.5)\n",
    "sns.heatmap((label.loc[order]=='DN').astype(int).values.reshape(-1, 1), ax=high_il10_dn_ax, yticklabels=False, xticklabels=False, cbar=False, cmap=cmap3)\n",
    "sns.heatmap(unsmoothed_markers.loc[order, ['AB_CD4-2', 'AB_CD8']], ax=high_il10_marker_ax, yticklabels=False, xticklabels=False, cbar=True, cbar_ax=cbar2_ax,\n",
    "            cbar_kws={'orientation':'horizontal', 'ticks':[0,3]}, cmap=cmap2, vmin=0, vmax=3)\n",
    "\n",
    "\n",
    "\n",
    "\n",
    "ind = tcat_usage_ren['IL10/CD38']<0.1\n",
    "Z_filt = Z.loc[ind, geeps]\n",
    "\n",
    "\n",
    "lineage_max = Z_filt.idxmax(axis=1)\n",
    "\n",
    "order = []\n",
    "for g in geeps:\n",
    "    cells = lineage_max==g\n",
    "    order += list(Z_filt.loc[cells, g].sort_values(ascending=False).index)\n",
    "\n",
    "nlow = len(order)\n",
    "\n",
    "    \n",
    "sns.heatmap(Z_filt.loc[order, geeps], ax=low_il10_lineage_ax, yticklabels=False, xticklabels=True, cbar=False, vmax=0.5)\n",
    "sns.heatmap(tcat_usage_ren.loc[order, 'IL10/CD38'].values.reshape(-1, 1), ax=low_il10_gep_ax, yticklabels=False, xticklabels=False, cbar=False, vmax=0.5)\n",
    "sns.heatmap((label.loc[order]=='DN').astype(int).values.reshape(-1, 1), ax=low_il10_dn_ax, yticklabels=False, xticklabels=False, cbar=False, vmax=0.5,  cmap=cmap3)\n",
    "sns.heatmap(unsmoothed_markers.loc[order, ['AB_CD4-2', 'AB_CD8']], ax=low_il10_marker_ax, yticklabels=False, xticklabels=True, cbar=False, cmap=cmap2, vmin=0, vmax=3)\n",
    "\n",
    "low_il10_gep_ax.set_xticks([0.5])\n",
    "low_il10_gep_ax.set_xticklabels(['IL10/CD38'], rotation=90)\n",
    "\n",
    "\n",
    "low_il10_dn_ax.set_xticks([0.5])\n",
    "low_il10_dn_ax.set_xticklabels(['DN'], rotation=90)\n",
    "\n",
    "high_il10_gep_ax.set_ylabel('IL10/CD38 Usage > 0.1 (N=%d)' % nhigh)\n",
    "low_il10_gep_ax.set_ylabel('IL10/CD38 Usage < 0.1 (N=%d)' % nlow)"
   ]
  },
  {
   "cell_type": "code",
   "execution_count": null,
   "id": "9f9467c8-8b89-466e-a310-a103b465a2ce",
   "metadata": {},
   "outputs": [],
   "source": []
  },
  {
   "cell_type": "code",
   "execution_count": null,
   "id": "932d009d-659f-4fe8-84b6-f8facd62727e",
   "metadata": {},
   "outputs": [],
   "source": []
  },
  {
   "cell_type": "code",
   "execution_count": null,
   "id": "c4a681a7-b8ab-4ca8-8d36-391e0f74043d",
   "metadata": {},
   "outputs": [],
   "source": []
  },
  {
   "cell_type": "code",
   "execution_count": null,
   "id": "5d0a3201-3bb7-41de-8cfc-a3a714dd0daf",
   "metadata": {},
   "outputs": [],
   "source": []
  },
  {
   "cell_type": "code",
   "execution_count": null,
   "id": "5db40b78-26ae-4ab6-9cdc-580d5106deac",
   "metadata": {},
   "outputs": [],
   "source": []
  }
 ],
 "metadata": {
  "kernelspec": {
   "display_name": "Python 3 (ipykernel)",
   "language": "python",
   "name": "python3"
  },
  "language_info": {
   "codemirror_mode": {
    "name": "ipython",
    "version": 3
   },
   "file_extension": ".py",
   "mimetype": "text/x-python",
   "name": "python",
   "nbconvert_exporter": "python",
   "pygments_lexer": "ipython3",
   "version": "3.7.12"
  },
  "toc-autonumbering": true
 },
 "nbformat": 4,
 "nbformat_minor": 5
}
