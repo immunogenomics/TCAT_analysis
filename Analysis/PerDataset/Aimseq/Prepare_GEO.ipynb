{
 "cells": [
  {
   "cell_type": "code",
   "execution_count": 104,
   "id": "a37483c1-9571-4acc-aad7-5bf962c552ae",
   "metadata": {},
   "outputs": [],
   "source": [
    "import scanpy as sc\n",
    "from scipy.io import mmwrite\n",
    "import pandas as pd"
   ]
  },
  {
   "cell_type": "code",
   "execution_count": 2,
   "id": "43eb27ad-db57-45fb-84e4-40b6fa89d985",
   "metadata": {},
   "outputs": [],
   "source": [
    "counts_fn = '/data/srlab1/TCAT/Data/PerDataset/Stimseq/raw.mincellfilt.htonegfilt.doubletfilt.h5ad'"
   ]
  },
  {
   "cell_type": "code",
   "execution_count": 3,
   "id": "3fd293f9-bbdc-42c5-a02a-134b4a5f5cce",
   "metadata": {},
   "outputs": [
    {
     "name": "stdout",
     "output_type": "stream",
     "text": [
      "WARNING: Your filename has more than two extensions: ['.mincellfilt', '.htonegfilt', '.doubletfilt', '.h5ad'].\n",
      "Only considering the two last: ['.doubletfilt', '.h5ad'].\n",
      "WARNING: Your filename has more than two extensions: ['.mincellfilt', '.htonegfilt', '.doubletfilt', '.h5ad'].\n",
      "Only considering the two last: ['.doubletfilt', '.h5ad'].\n"
     ]
    }
   ],
   "source": [
    "adata = sc.read(counts_fn)"
   ]
  },
  {
   "cell_type": "code",
   "execution_count": 15,
   "id": "e8d11033-c2a0-4a1d-b393-6d599fe9d37a",
   "metadata": {},
   "outputs": [
    {
     "name": "stdout",
     "output_type": "stream",
     "text": [
      "/data/srlab1/TCAT/Data/PerDataset/Stimseq/raw.mincellfilt.htonegfilt.doubletfilt.features.tsv\n"
     ]
    }
   ],
   "source": [
    "feature_fn = counts_fn.replace('.h5ad', '.features.tsv')\n",
    "print(feature_fn)\n",
    "with open(feature_fn, 'w') as F:\n",
    "    F.write('\\n'.join(adata.var.index))\n",
    "    \n",
    "cmd = 'gzip %s' % feature_fn\n",
    "!{cmd}"
   ]
  },
  {
   "cell_type": "code",
   "execution_count": 16,
   "id": "101f6ad7-cefd-4758-9d3c-44527bfe3c23",
   "metadata": {},
   "outputs": [
    {
     "name": "stdout",
     "output_type": "stream",
     "text": [
      "/data/srlab1/TCAT/Data/PerDataset/Stimseq/raw.mincellfilt.htonegfilt.doubletfilt.barcodes.tsv\n"
     ]
    }
   ],
   "source": [
    "feature_fn = counts_fn.replace('.h5ad', '.barcodes.tsv')\n",
    "print(feature_fn)\n",
    "with open(feature_fn, 'w') as F:\n",
    "    F.write('\\n'.join(adata.obs.index))\n",
    "    \n",
    "cmd = 'gzip %s' % feature_fn\n",
    "!{cmd}"
   ]
  },
  {
   "cell_type": "code",
   "execution_count": 19,
   "id": "2717357e-d516-4f9c-ab4e-dbe59124eec7",
   "metadata": {},
   "outputs": [],
   "source": [
    "sparse_fn = feature_fn = counts_fn.replace('.h5ad', '.expression.mtx')\n",
    "mmwrite(sparse_fn, adata.X)\n"
   ]
  },
  {
   "cell_type": "code",
   "execution_count": 20,
   "id": "86c8009b-e6c1-496c-87c0-edf701bac2f7",
   "metadata": {},
   "outputs": [
    {
     "name": "stdout",
     "output_type": "stream",
     "text": [
      "/data/srlab1/TCAT/Data/PerDataset/Stimseq/raw.mincellfilt.htonegfilt.doubletfilt.expression.mtx\n"
     ]
    }
   ],
   "source": [
    "print(sparse_fn)"
   ]
  },
  {
   "cell_type": "code",
   "execution_count": 21,
   "id": "7369b27b-a628-4bf5-a809-7defb22fa159",
   "metadata": {},
   "outputs": [],
   "source": [
    "cmd = 'gzip %s' % sparse_fn\n",
    "!{cmd}"
   ]
  },
  {
   "cell_type": "code",
   "execution_count": 30,
   "id": "ef438e6b-79c4-42e2-a3ed-6c57b218ec83",
   "metadata": {},
   "outputs": [],
   "source": [
    "cellinfo_fn = counts_fn.replace('.h5ad', '.cellinfo.tsv')\n",
    "\n",
    "cols = ['Run', 'Biobank_ID', 'Demuxlet_Assignment', 'Total_RNA_Count',\n",
    "       'Total_ADT_Count', 'Total_HTO_Count']\n",
    "adata.obs[cols].to_csv(cellinfo_fn, sep='\\t')\n",
    "\n",
    "cmd = 'gzip %s' % cellinfo_fn\n",
    "!{cmd}"
   ]
  },
  {
   "cell_type": "code",
   "execution_count": 32,
   "id": "baadaf25-e366-4aac-8bf6-c4d232c54a16",
   "metadata": {},
   "outputs": [],
   "source": [
    "geneinfo_fn = counts_fn.replace('.h5ad', '.geneinfo.tsv')\n",
    "\n",
    "\n",
    "adata.var.to_csv(geneinfo_fn, sep='\\t')\n",
    "\n",
    "cmd = 'gzip %s' % geneinfo_fn\n",
    "!{cmd}"
   ]
  },
  {
   "cell_type": "code",
   "execution_count": 38,
   "id": "863a679c-93d5-48f6-8a49-1f5053c3b060",
   "metadata": {},
   "outputs": [],
   "source": [
    "code = adata.obs['Run'].astype(str)+'_'+adata.obs['Biobank_ID'].astype(str)+'_'+adata.obs['Sort_Status'].astype(str)"
   ]
  },
  {
   "cell_type": "code",
   "execution_count": 42,
   "id": "af2e553b-34a1-4b85-b291-7a7e0697d6a2",
   "metadata": {},
   "outputs": [
    {
     "name": "stdout",
     "output_type": "stream",
     "text": [
      "1_10041243_+\n",
      "1_10041243_-\n",
      "1_10041243_U\n",
      "1_10049452_+\n",
      "1_10049452_-\n",
      "1_10049452_U\n",
      "1_10057029_+\n",
      "1_10057029_-\n",
      "1_10057029_U\n",
      "2_10033066_+\n",
      "2_10033066_-\n",
      "2_10033066_U\n",
      "2_10042029_+\n",
      "2_10042029_-\n",
      "2_10042029_U\n",
      "2_10049452_+\n",
      "2_10049452_-\n",
      "2_10049452_U\n",
      "2_10057029_+\n",
      "2_10057029_-\n",
      "2_10057029_U\n"
     ]
    }
   ],
   "source": [
    "print('\\n'.join(sorted(code.unique())))"
   ]
  },
  {
   "cell_type": "code",
   "execution_count": 86,
   "id": "ac290e6f-2f0e-46fe-a614-6b921dbcd304",
   "metadata": {},
   "outputs": [],
   "source": [
    "processed_rows = ['raw.mincellfilt.htonegfilt.doubletfilt.barcodes.tsv.gz',\n",
    "                  'raw.mincellfilt.htonegfilt.doubletfilt.cellinfo.tsv.gz',\n",
    "                  'raw.mincellfilt.htonegfilt.doubletfilt.expression.mtx.gz',\n",
    "                  'raw.mincellfilt.htonegfilt.doubletfilt.features.tsv.gz',\n",
    "                  'raw.mincellfilt.htonegfilt.doubletfilt.geneinfo.tsv.gz']"
   ]
  },
  {
   "cell_type": "code",
   "execution_count": 99,
   "id": "f6ad581f-594c-43b2-9b32-deb3e0b37d28",
   "metadata": {},
   "outputs": [],
   "source": [
    "rawrowmap = {('RNA', 2): ['BRI-2251_S12_L001_I1_001.fastq.gz',\n",
    "'BRI-2251_S12_L001_I2_001.fastq.gz',\n",
    "'BRI-2251_S12_L001_R1_001.fastq.gz',\n",
    "'BRI-2251_S12_L001_R2_001.fastq.gz',\n",
    "'BRI-2251_S12_L002_I1_001.fastq.gz',\n",
    "'BRI-2251_S12_L002_I2_001.fastq.gz',\n",
    "'BRI-2251_S12_L002_R1_001.fastq.gz',\n",
    "'BRI-2251_S12_L002_R2_001.fastq.gz',\n",
    "'BRI-2251_S12_L003_I1_001.fastq.gz',\n",
    "'BRI-2251_S12_L003_I2_001.fastq.gz',\n",
    "'BRI-2251_S12_L003_R1_001.fastq.gz',\n",
    "'BRI-2251_S12_L003_R2_001.fastq.gz',\n",
    "'BRI-2251_S12_L004_I1_001.fastq.gz',\n",
    "'BRI-2251_S12_L004_I2_001.fastq.gz',\n",
    "'BRI-2251_S12_L004_R1_001.fastq.gz',\n",
    "'BRI-2251_S12_L004_R2_001.fastq.gz',\n",
    "'BRI-2248/BRI-2248_S9_L001_I1_001.fastq.gz',\n",
    "'BRI-2248/BRI-2248_S9_L001_I2_001.fastq.gz',\n",
    "'BRI-2248/BRI-2248_S9_L001_R1_001.fastq.gz',\n",
    "'BRI-2248/BRI-2248_S9_L001_R2_001.fastq.gz',\n",
    "'BRI-2248/BRI-2248_S9_L002_I1_001.fastq.gz',\n",
    "'BRI-2248/BRI-2248_S9_L002_I2_001.fastq.gz',\n",
    "'BRI-2248/BRI-2248_S9_L002_R1_001.fastq.gz',\n",
    "'BRI-2248/BRI-2248_S9_L002_R2_001.fastq.gz',\n",
    "'BRI-2248/BRI-2248_S9_L003_I1_001.fastq.gz',\n",
    "'BRI-2248/BRI-2248_S9_L003_I2_001.fastq.gz',\n",
    "'BRI-2248/BRI-2248_S9_L003_R1_001.fastq.gz',\n",
    "'BRI-2248/BRI-2248_S9_L003_R2_001.fastq.gz',\n",
    "'BRI-2248/BRI-2248_S9_L004_I1_001.fastq.gz',\n",
    "'BRI-2248/BRI-2248_S9_L004_I2_001.fastq.gz',\n",
    "'BRI-2248/BRI-2248_S9_L004_R1_001.fastq.gz',\n",
    "'BRI-2248/BRI-2248_S9_L004_R2_001.fastq.gz'],\n",
    "             \n",
    "             \n",
    "             \n",
    "('ADT/HTO', 2) : ['BRI-2249_S10_L001_I1_001.fastq.gz',\n",
    "'BRI-2249_S10_L001_I2_001.fastq.gz',\n",
    "'BRI-2249_S10_L001_R1_001.fastq.gz',\n",
    "'BRI-2249_S10_L001_R2_001.fastq.gz',\n",
    "'BRI-2249_S10_L002_I1_001.fastq.gz',\n",
    "'BRI-2249_S10_L002_I2_001.fastq.gz',\n",
    "'BRI-2249_S10_L002_R1_001.fastq.gz',\n",
    "'BRI-2249_S10_L002_R2_001.fastq.gz',\n",
    "'BRI-2249_S10_L003_I1_001.fastq.gz',\n",
    "'BRI-2249_S10_L003_I2_001.fastq.gz',\n",
    "'BRI-2249_S10_L003_R1_001.fastq.gz',\n",
    "'BRI-2249_S10_L003_R2_001.fastq.gz',\n",
    "'BRI-2249_S10_L004_I1_001.fastq.gz',\n",
    "'BRI-2249_S10_L004_I2_001.fastq.gz',\n",
    "'BRI-2249_S10_L004_R1_001.fastq.gz',\n",
    "'BRI-2249_S10_L004_R2_001.fastq.gz',\n",
    "'BRI-2252_S13_L001_I1_001.fastq.gz',\n",
    "'BRI-2252_S13_L001_I2_001.fastq.gz',\n",
    "'BRI-2252_S13_L001_R1_001.fastq.gz',\n",
    "'BRI-2252_S13_L001_R2_001.fastq.gz',\n",
    "'BRI-2252_S13_L002_I1_001.fastq.gz',\n",
    "'BRI-2252_S13_L002_I2_001.fastq.gz',\n",
    "'BRI-2252_S13_L002_R1_001.fastq.gz',\n",
    "'BRI-2252_S13_L002_R2_001.fastq.gz',\n",
    "'BRI-2252_S13_L003_I1_001.fastq.gz',\n",
    "'BRI-2252_S13_L003_I2_001.fastq.gz',\n",
    "'BRI-2252_S13_L003_R1_001.fastq.gz',\n",
    "'BRI-2252_S13_L003_R2_001.fastq.gz',\n",
    "'BRI-2252_S13_L004_I1_001.fastq.gz',\n",
    "'BRI-2252_S13_L004_I2_001.fastq.gz',\n",
    "'BRI-2252_S13_L004_R1_001.fastq.gz',\n",
    "'BRI-2252_S13_L004_R2_001.fastq.gz'],\n",
    "             \n",
    "             \n",
    "('RNA', 1) : ['BRI-2008_S7_L001_I1_001.fastq.gz',\n",
    "'BRI-2008_S7_L001_I2_001.fastq.gz',\n",
    "'BRI-2008_S7_L001_R1_001.fastq.gz',\n",
    "'BRI-2008_S7_L001_R2_001.fastq.gz',\n",
    "'BRI-2008_S7_L002_I1_001.fastq.gz',\n",
    "'BRI-2008_S7_L002_I2_001.fastq.gz',\n",
    "'BRI-2008_S7_L002_R1_001.fastq.gz',\n",
    "'BRI-2008_S7_L002_R2_001.fastq.gz',\n",
    "'BRI-2011_S10_L001_I1_001.fastq.gz',\n",
    "'BRI-2011_S10_L001_I2_001.fastq.gz',\n",
    "'BRI-2011_S10_L001_R1_001.fastq.gz',\n",
    "'BRI-2011_S10_L001_R2_001.fastq.gz',\n",
    "'BRI-2011_S10_L002_I1_001.fastq.gz',\n",
    "'BRI-2011_S10_L002_I2_001.fastq.gz',\n",
    "'BRI-2011_S10_L002_R1_001.fastq.gz',\n",
    "'BRI-2011_S10_L002_R2_001.fastq.gz'] ,\n",
    "             \n",
    "             \n",
    "('ADT/HTO', 1): ['BRI-2009_S8_L001_I1_001.fastq.gz',\n",
    "'BRI-2009_S8_L001_I2_001.fastq.gz',\n",
    "'BRI-2009_S8_L001_R1_001.fastq.gz',\n",
    "'BRI-2009_S8_L001_R2_001.fastq.gz',\n",
    "'BRI-2009_S8_L002_I1_001.fastq.gz',\n",
    "'BRI-2009_S8_L002_I2_001.fastq.gz',\n",
    "'BRI-2009_S8_L002_R1_001.fastq.gz',\n",
    "'BRI-2009_S8_L002_R2_001.fastq.gz',\n",
    "'BRI-2012_S11_L001_I1_001.fastq.gz',\n",
    "'BRI-2012_S11_L001_I2_001.fastq.gz',\n",
    "'BRI-2012_S11_L001_R1_001.fastq.gz',\n",
    "'BRI-2012_S11_L001_R2_001.fastq.gz',\n",
    "'BRI-2012_S11_L002_I1_001.fastq.gz',\n",
    "'BRI-2012_S11_L002_I2_001.fastq.gz',\n",
    "'BRI-2012_S11_L002_R1_001.fastq.gz',\n",
    "'BRI-2012_S11_L002_R2_001.fastq.gz']\n",
    "}             \n",
    "             "
   ]
  },
  {
   "cell_type": "code",
   "execution_count": 102,
   "id": "1695d944-ddaa-414c-804e-84501e820e3d",
   "metadata": {},
   "outputs": [],
   "source": [
    "info = adata.obs[['Run', 'Biobank_ID', 'Sort_Status']].drop_duplicates().astype(str)\n",
    "res = []\n",
    "for i in info.index:\n",
    "    for feature in ['RNA', 'ADT/HTO']:\n",
    "        idv = info.loc[i, 'Run'] + '_' + info.loc[i, 'Biobank_ID'] + '_' + info.loc[i, 'Sort_Status'] + '_' + feature\n",
    "        title = 'Run %s, donor %s, condition %s, feature %s' % (info.loc[i, 'Run'], info.loc[i, 'Biobank_ID'], info.loc[i, 'Sort_Status'], feature)\n",
    "        if info.loc[i, 'Sort_Status'] in ['+', '-']:\n",
    "            condition = 'CEFX'\n",
    "        else:\n",
    "            condition = 'Mock'\n",
    "            \n",
    "        if feature == 'RNA':\n",
    "            featurelab = 'polyA RNA'\n",
    "        else:\n",
    "            featurelab = 'protein'\n",
    "        \n",
    "        row = [idv, title, 'Homo Sapiens', 'PBMC', 'Primary T-cell', 'T-cell', '', condition, featurelab, 'paired-end', 'Illumina NovaSeq 6000', '']\n",
    "        row = row + processed_rows + rawrowmap[(feature, int(info.loc[i, 'Run']))]\n",
    "        res.append(row)"
   ]
  },
  {
   "cell_type": "code",
   "execution_count": 106,
   "id": "f4896301-64d2-42f1-b244-6ddeb9d12745",
   "metadata": {},
   "outputs": [],
   "source": [
    "pd.DataFrame(res).to_csv('sample_info.tsv', sep='\\t')"
   ]
  },
  {
   "cell_type": "code",
   "execution_count": 133,
   "id": "434c8a63-86b9-4a60-a016-6c6ffe218284",
   "metadata": {},
   "outputs": [],
   "source": [
    "allres = []\n",
    "for basepath in ['/data/srlab1/dk718/stimseq/data/raw/pilot2_2023/fastq/BRI-2248/',\n",
    "                '/data/srlab1/dk718/stimseq/data/raw/pilot2_2023/fastq/BRI-2249/',\n",
    "                '/data/srlab1/dk718/stimseq/data/raw/pilot2_2023/fastq/BRI-2251/',\n",
    "                '/data/srlab1/dk718/stimseq/data/raw/pilot2_2023/fastq/BRI-2252/',\n",
    "                '/data/srlab1/dk718/stimseq/data/raw/pilot_2022/fastq/BRI-2008/',\n",
    "                '/data/srlab1/dk718/stimseq/data/raw/pilot_2022/fastq/BRI-2009/',\n",
    "                '/data/srlab1/dk718/stimseq/data/raw/pilot_2022/fastq/BRI-2011/',\n",
    "                '/data/srlab1/dk718/stimseq/data/raw/pilot_2022/fastq/BRI-2012/']:\n",
    "    \n",
    "    sres = []\n",
    "    for lab in ['I1', 'I2', 'R1', 'R2']:\n",
    "        cmd = 'ls -l %s*%s*' % (basepath, lab)\n",
    "        \n",
    "        sresvals = !{cmd}\n",
    "        sres.append([x.split('/')[-1] for x in sresvals])\n",
    "    allres.append(pd.DataFrame(sres).T)\n",
    "    \n",
    "                 \n",
    "\n",
    "\n",
    "allres = pd.concat(allres, axis=0)"
   ]
  },
  {
   "cell_type": "code",
   "execution_count": 134,
   "id": "8c9b09a6-1049-4272-8060-c7b9aaa19e9a",
   "metadata": {},
   "outputs": [],
   "source": [
    "pd.DataFrame(allres).to_csv('sample_list.tsv', sep='\\t')"
   ]
  },
  {
   "cell_type": "code",
   "execution_count": 130,
   "id": "bfab5d4e-43ec-4959-ab74-ed6f71f30ac9",
   "metadata": {},
   "outputs": [
    {
     "data": {
      "text/plain": [
       "'ls -l /data/srlab1/dk718/stimseq/data/raw/pilot_2022/fastq/BRI-2009//data/srlab1/dk718/stimseq/data/raw/pilot_2022/fastq/BRI-2011/*I1*'"
      ]
     },
     "execution_count": 130,
     "metadata": {},
     "output_type": "execute_result"
    }
   ],
   "source": [
    "cmd"
   ]
  },
  {
   "cell_type": "code",
   "execution_count": 129,
   "id": "f197b270-181b-42cf-9c96-48da199ccc97",
   "metadata": {},
   "outputs": [
    {
     "name": "stdout",
     "output_type": "stream",
     "text": [
      "total 7453168\n",
      "-rw-r-----. 1 dk718 srlab  300491169 Dec 30  2022 BRI-2009_S8_L001_I1_001.fastq.gz\n",
      "-rw-r-----. 1 dk718 srlab  318006488 Dec 30  2022 BRI-2009_S8_L001_I2_001.fastq.gz\n",
      "-rw-r-----. 1 dk718 srlab  804957319 Dec 30  2022 BRI-2009_S8_L001_R1_001.fastq.gz\n",
      "-rw-r-----. 1 dk718 srlab 1593289278 Dec 30  2022 BRI-2009_S8_L001_R2_001.fastq.gz\n",
      "-rw-r-----. 1 dk718 srlab  305589252 Dec 30  2022 BRI-2009_S8_L002_I1_001.fastq.gz\n",
      "-rw-r-----. 1 dk718 srlab  325198069 Dec 30  2022 BRI-2009_S8_L002_I2_001.fastq.gz\n",
      "-rw-r-----. 1 dk718 srlab  821729114 Dec 30  2022 BRI-2009_S8_L002_R1_001.fastq.gz\n",
      "-rw-r-----. 1 dk718 srlab 1631274671 Dec 30  2022 BRI-2009_S8_L002_R2_001.fastq.gz\n"
     ]
    }
   ],
   "source": [
    "! ls -l /data/srlab1/dk718/stimseq/data/raw/pilot_2022/fastq/BRI-2009/"
   ]
  },
  {
   "cell_type": "code",
   "execution_count": null,
   "id": "47ab34e0-5a01-47f1-ab87-5bcc4c0f20b4",
   "metadata": {},
   "outputs": [],
   "source": []
  },
  {
   "cell_type": "code",
   "execution_count": 124,
   "id": "39ef815f-fe0c-44a9-b9b5-838bf4ababd8",
   "metadata": {},
   "outputs": [
    {
     "name": "stdout",
     "output_type": "stream",
     "text": [
      "-rw-r-----. 1 dk718 srlab 1691764028 Dec 30  2022 /data/srlab1/dk718/stimseq/data/raw/pilot_2022/fastq/BRI-2011/BRI-2011_S10_L001_I1_001.fastq.gz\n",
      "-rw-r-----. 1 dk718 srlab 1672899694 Dec 30  2022 /data/srlab1/dk718/stimseq/data/raw/pilot_2022/fastq/BRI-2011/BRI-2011_S10_L002_I1_001.fastq.gz\n"
     ]
    }
   ],
   "source": [
    "! ls -l /data/srlab1/dk718/stimseq/data/raw/pilot_2022/fastq/BRI-2011/*I1*"
   ]
  },
  {
   "cell_type": "code",
   "execution_count": 122,
   "id": "9985f519-b48b-4996-8761-cc7a353e7aad",
   "metadata": {},
   "outputs": [
    {
     "data": {
      "text/html": [
       "<div>\n",
       "<style scoped>\n",
       "    .dataframe tbody tr th:only-of-type {\n",
       "        vertical-align: middle;\n",
       "    }\n",
       "\n",
       "    .dataframe tbody tr th {\n",
       "        vertical-align: top;\n",
       "    }\n",
       "\n",
       "    .dataframe thead th {\n",
       "        text-align: right;\n",
       "    }\n",
       "</style>\n",
       "<table border=\"1\" class=\"dataframe\">\n",
       "  <thead>\n",
       "    <tr style=\"text-align: right;\">\n",
       "      <th></th>\n",
       "      <th>0</th>\n",
       "      <th>1</th>\n",
       "      <th>2</th>\n",
       "      <th>3</th>\n",
       "    </tr>\n",
       "  </thead>\n",
       "  <tbody>\n",
       "    <tr>\n",
       "      <th>0</th>\n",
       "      <td>BRI-2248_S9_L001_I1_001.fastq.gz</td>\n",
       "      <td>BRI-2248_S9_L001_I2_001.fastq.gz</td>\n",
       "      <td>BRI-2248_S9_L001_R1_001.fastq.gz</td>\n",
       "      <td>BRI-2248_S9_L001_R2_001.fastq.gz</td>\n",
       "    </tr>\n",
       "    <tr>\n",
       "      <th>1</th>\n",
       "      <td>BRI-2248_S9_L002_I1_001.fastq.gz</td>\n",
       "      <td>BRI-2248_S9_L002_I2_001.fastq.gz</td>\n",
       "      <td>BRI-2248_S9_L002_R1_001.fastq.gz</td>\n",
       "      <td>BRI-2248_S9_L002_R2_001.fastq.gz</td>\n",
       "    </tr>\n",
       "    <tr>\n",
       "      <th>2</th>\n",
       "      <td>BRI-2248_S9_L003_I1_001.fastq.gz</td>\n",
       "      <td>BRI-2248_S9_L003_I2_001.fastq.gz</td>\n",
       "      <td>BRI-2248_S9_L003_R1_001.fastq.gz</td>\n",
       "      <td>BRI-2248_S9_L003_R2_001.fastq.gz</td>\n",
       "    </tr>\n",
       "    <tr>\n",
       "      <th>3</th>\n",
       "      <td>BRI-2248_S9_L004_I1_001.fastq.gz</td>\n",
       "      <td>BRI-2248_S9_L004_I2_001.fastq.gz</td>\n",
       "      <td>BRI-2248_S9_L004_R1_001.fastq.gz</td>\n",
       "      <td>BRI-2248_S9_L004_R2_001.fastq.gz</td>\n",
       "    </tr>\n",
       "    <tr>\n",
       "      <th>0</th>\n",
       "      <td>BRI-2249_S10_L001_I1_001.fastq.gz</td>\n",
       "      <td>BRI-2249_S10_L001_I2_001.fastq.gz</td>\n",
       "      <td>BRI-2249_S10_L001_R1_001.fastq.gz</td>\n",
       "      <td>BRI-2249_S10_L001_R2_001.fastq.gz</td>\n",
       "    </tr>\n",
       "    <tr>\n",
       "      <th>1</th>\n",
       "      <td>BRI-2249_S10_L002_I1_001.fastq.gz</td>\n",
       "      <td>BRI-2249_S10_L002_I2_001.fastq.gz</td>\n",
       "      <td>BRI-2249_S10_L002_R1_001.fastq.gz</td>\n",
       "      <td>BRI-2249_S10_L002_R2_001.fastq.gz</td>\n",
       "    </tr>\n",
       "    <tr>\n",
       "      <th>2</th>\n",
       "      <td>BRI-2249_S10_L003_I1_001.fastq.gz</td>\n",
       "      <td>BRI-2249_S10_L003_I2_001.fastq.gz</td>\n",
       "      <td>BRI-2249_S10_L003_R1_001.fastq.gz</td>\n",
       "      <td>BRI-2249_S10_L003_R2_001.fastq.gz</td>\n",
       "    </tr>\n",
       "    <tr>\n",
       "      <th>3</th>\n",
       "      <td>BRI-2249_S10_L004_I1_001.fastq.gz</td>\n",
       "      <td>BRI-2249_S10_L004_I2_001.fastq.gz</td>\n",
       "      <td>BRI-2249_S10_L004_R1_001.fastq.gz</td>\n",
       "      <td>BRI-2249_S10_L004_R2_001.fastq.gz</td>\n",
       "    </tr>\n",
       "    <tr>\n",
       "      <th>0</th>\n",
       "      <td>BRI-2251_S12_L001_I1_001.fastq.gz</td>\n",
       "      <td>BRI-2251_S12_L001_I2_001.fastq.gz</td>\n",
       "      <td>BRI-2251_S12_L001_R1_001.fastq.gz</td>\n",
       "      <td>BRI-2251_S12_L001_R2_001.fastq.gz</td>\n",
       "    </tr>\n",
       "    <tr>\n",
       "      <th>1</th>\n",
       "      <td>BRI-2251_S12_L002_I1_001.fastq.gz</td>\n",
       "      <td>BRI-2251_S12_L002_I2_001.fastq.gz</td>\n",
       "      <td>BRI-2251_S12_L002_R1_001.fastq.gz</td>\n",
       "      <td>BRI-2251_S12_L002_R2_001.fastq.gz</td>\n",
       "    </tr>\n",
       "    <tr>\n",
       "      <th>2</th>\n",
       "      <td>BRI-2251_S12_L003_I1_001.fastq.gz</td>\n",
       "      <td>BRI-2251_S12_L003_I2_001.fastq.gz</td>\n",
       "      <td>BRI-2251_S12_L003_R1_001.fastq.gz</td>\n",
       "      <td>BRI-2251_S12_L003_R2_001.fastq.gz</td>\n",
       "    </tr>\n",
       "    <tr>\n",
       "      <th>3</th>\n",
       "      <td>BRI-2251_S12_L004_I1_001.fastq.gz</td>\n",
       "      <td>BRI-2251_S12_L004_I2_001.fastq.gz</td>\n",
       "      <td>BRI-2251_S12_L004_R1_001.fastq.gz</td>\n",
       "      <td>BRI-2251_S12_L004_R2_001.fastq.gz</td>\n",
       "    </tr>\n",
       "    <tr>\n",
       "      <th>0</th>\n",
       "      <td>BRI-2252_S13_L001_I1_001.fastq.gz</td>\n",
       "      <td>BRI-2252_S13_L001_I2_001.fastq.gz</td>\n",
       "      <td>BRI-2252_S13_L001_R1_001.fastq.gz</td>\n",
       "      <td>BRI-2252_S13_L001_R2_001.fastq.gz</td>\n",
       "    </tr>\n",
       "    <tr>\n",
       "      <th>1</th>\n",
       "      <td>BRI-2252_S13_L002_I1_001.fastq.gz</td>\n",
       "      <td>BRI-2252_S13_L002_I2_001.fastq.gz</td>\n",
       "      <td>BRI-2252_S13_L002_R1_001.fastq.gz</td>\n",
       "      <td>BRI-2252_S13_L002_R2_001.fastq.gz</td>\n",
       "    </tr>\n",
       "    <tr>\n",
       "      <th>2</th>\n",
       "      <td>BRI-2252_S13_L003_I1_001.fastq.gz</td>\n",
       "      <td>BRI-2252_S13_L003_I2_001.fastq.gz</td>\n",
       "      <td>BRI-2252_S13_L003_R1_001.fastq.gz</td>\n",
       "      <td>BRI-2252_S13_L003_R2_001.fastq.gz</td>\n",
       "    </tr>\n",
       "    <tr>\n",
       "      <th>3</th>\n",
       "      <td>BRI-2252_S13_L004_I1_001.fastq.gz</td>\n",
       "      <td>BRI-2252_S13_L004_I2_001.fastq.gz</td>\n",
       "      <td>BRI-2252_S13_L004_R1_001.fastq.gz</td>\n",
       "      <td>BRI-2252_S13_L004_R2_001.fastq.gz</td>\n",
       "    </tr>\n",
       "    <tr>\n",
       "      <th>0</th>\n",
       "      <td>BRI-2008_S7_L001_I1_001.fastq.gz</td>\n",
       "      <td>BRI-2008_S7_L001_I2_001.fastq.gz</td>\n",
       "      <td>BRI-2008_S7_L001_R1_001.fastq.gz</td>\n",
       "      <td>BRI-2008_S7_L001_R2_001.fastq.gz</td>\n",
       "    </tr>\n",
       "    <tr>\n",
       "      <th>1</th>\n",
       "      <td>BRI-2008_S7_L002_I1_001.fastq.gz</td>\n",
       "      <td>BRI-2008_S7_L002_I2_001.fastq.gz</td>\n",
       "      <td>BRI-2008_S7_L002_R1_001.fastq.gz</td>\n",
       "      <td>BRI-2008_S7_L002_R2_001.fastq.gz</td>\n",
       "    </tr>\n",
       "    <tr>\n",
       "      <th>0</th>\n",
       "      <td>*I1*: No such file or directory</td>\n",
       "      <td>*I2*: No such file or directory</td>\n",
       "      <td>*R1*: No such file or directory</td>\n",
       "      <td>*R2*: No such file or directory</td>\n",
       "    </tr>\n",
       "    <tr>\n",
       "      <th>0</th>\n",
       "      <td>BRI-2012_S11_L001_I1_001.fastq.gz</td>\n",
       "      <td>BRI-2012_S11_L001_I2_001.fastq.gz</td>\n",
       "      <td>BRI-2012_S11_L001_R1_001.fastq.gz</td>\n",
       "      <td>BRI-2012_S11_L001_R2_001.fastq.gz</td>\n",
       "    </tr>\n",
       "    <tr>\n",
       "      <th>1</th>\n",
       "      <td>BRI-2012_S11_L002_I1_001.fastq.gz</td>\n",
       "      <td>BRI-2012_S11_L002_I2_001.fastq.gz</td>\n",
       "      <td>BRI-2012_S11_L002_R1_001.fastq.gz</td>\n",
       "      <td>BRI-2012_S11_L002_R2_001.fastq.gz</td>\n",
       "    </tr>\n",
       "  </tbody>\n",
       "</table>\n",
       "</div>"
      ],
      "text/plain": [
       "                                   0                                  1  \\\n",
       "0   BRI-2248_S9_L001_I1_001.fastq.gz   BRI-2248_S9_L001_I2_001.fastq.gz   \n",
       "1   BRI-2248_S9_L002_I1_001.fastq.gz   BRI-2248_S9_L002_I2_001.fastq.gz   \n",
       "2   BRI-2248_S9_L003_I1_001.fastq.gz   BRI-2248_S9_L003_I2_001.fastq.gz   \n",
       "3   BRI-2248_S9_L004_I1_001.fastq.gz   BRI-2248_S9_L004_I2_001.fastq.gz   \n",
       "0  BRI-2249_S10_L001_I1_001.fastq.gz  BRI-2249_S10_L001_I2_001.fastq.gz   \n",
       "1  BRI-2249_S10_L002_I1_001.fastq.gz  BRI-2249_S10_L002_I2_001.fastq.gz   \n",
       "2  BRI-2249_S10_L003_I1_001.fastq.gz  BRI-2249_S10_L003_I2_001.fastq.gz   \n",
       "3  BRI-2249_S10_L004_I1_001.fastq.gz  BRI-2249_S10_L004_I2_001.fastq.gz   \n",
       "0  BRI-2251_S12_L001_I1_001.fastq.gz  BRI-2251_S12_L001_I2_001.fastq.gz   \n",
       "1  BRI-2251_S12_L002_I1_001.fastq.gz  BRI-2251_S12_L002_I2_001.fastq.gz   \n",
       "2  BRI-2251_S12_L003_I1_001.fastq.gz  BRI-2251_S12_L003_I2_001.fastq.gz   \n",
       "3  BRI-2251_S12_L004_I1_001.fastq.gz  BRI-2251_S12_L004_I2_001.fastq.gz   \n",
       "0  BRI-2252_S13_L001_I1_001.fastq.gz  BRI-2252_S13_L001_I2_001.fastq.gz   \n",
       "1  BRI-2252_S13_L002_I1_001.fastq.gz  BRI-2252_S13_L002_I2_001.fastq.gz   \n",
       "2  BRI-2252_S13_L003_I1_001.fastq.gz  BRI-2252_S13_L003_I2_001.fastq.gz   \n",
       "3  BRI-2252_S13_L004_I1_001.fastq.gz  BRI-2252_S13_L004_I2_001.fastq.gz   \n",
       "0   BRI-2008_S7_L001_I1_001.fastq.gz   BRI-2008_S7_L001_I2_001.fastq.gz   \n",
       "1   BRI-2008_S7_L002_I1_001.fastq.gz   BRI-2008_S7_L002_I2_001.fastq.gz   \n",
       "0    *I1*: No such file or directory    *I2*: No such file or directory   \n",
       "0  BRI-2012_S11_L001_I1_001.fastq.gz  BRI-2012_S11_L001_I2_001.fastq.gz   \n",
       "1  BRI-2012_S11_L002_I1_001.fastq.gz  BRI-2012_S11_L002_I2_001.fastq.gz   \n",
       "\n",
       "                                   2                                  3  \n",
       "0   BRI-2248_S9_L001_R1_001.fastq.gz   BRI-2248_S9_L001_R2_001.fastq.gz  \n",
       "1   BRI-2248_S9_L002_R1_001.fastq.gz   BRI-2248_S9_L002_R2_001.fastq.gz  \n",
       "2   BRI-2248_S9_L003_R1_001.fastq.gz   BRI-2248_S9_L003_R2_001.fastq.gz  \n",
       "3   BRI-2248_S9_L004_R1_001.fastq.gz   BRI-2248_S9_L004_R2_001.fastq.gz  \n",
       "0  BRI-2249_S10_L001_R1_001.fastq.gz  BRI-2249_S10_L001_R2_001.fastq.gz  \n",
       "1  BRI-2249_S10_L002_R1_001.fastq.gz  BRI-2249_S10_L002_R2_001.fastq.gz  \n",
       "2  BRI-2249_S10_L003_R1_001.fastq.gz  BRI-2249_S10_L003_R2_001.fastq.gz  \n",
       "3  BRI-2249_S10_L004_R1_001.fastq.gz  BRI-2249_S10_L004_R2_001.fastq.gz  \n",
       "0  BRI-2251_S12_L001_R1_001.fastq.gz  BRI-2251_S12_L001_R2_001.fastq.gz  \n",
       "1  BRI-2251_S12_L002_R1_001.fastq.gz  BRI-2251_S12_L002_R2_001.fastq.gz  \n",
       "2  BRI-2251_S12_L003_R1_001.fastq.gz  BRI-2251_S12_L003_R2_001.fastq.gz  \n",
       "3  BRI-2251_S12_L004_R1_001.fastq.gz  BRI-2251_S12_L004_R2_001.fastq.gz  \n",
       "0  BRI-2252_S13_L001_R1_001.fastq.gz  BRI-2252_S13_L001_R2_001.fastq.gz  \n",
       "1  BRI-2252_S13_L002_R1_001.fastq.gz  BRI-2252_S13_L002_R2_001.fastq.gz  \n",
       "2  BRI-2252_S13_L003_R1_001.fastq.gz  BRI-2252_S13_L003_R2_001.fastq.gz  \n",
       "3  BRI-2252_S13_L004_R1_001.fastq.gz  BRI-2252_S13_L004_R2_001.fastq.gz  \n",
       "0   BRI-2008_S7_L001_R1_001.fastq.gz   BRI-2008_S7_L001_R2_001.fastq.gz  \n",
       "1   BRI-2008_S7_L002_R1_001.fastq.gz   BRI-2008_S7_L002_R2_001.fastq.gz  \n",
       "0    *R1*: No such file or directory    *R2*: No such file or directory  \n",
       "0  BRI-2012_S11_L001_R1_001.fastq.gz  BRI-2012_S11_L001_R2_001.fastq.gz  \n",
       "1  BRI-2012_S11_L002_R1_001.fastq.gz  BRI-2012_S11_L002_R2_001.fastq.gz  "
      ]
     },
     "execution_count": 122,
     "metadata": {},
     "output_type": "execute_result"
    }
   ],
   "source": [
    "pd.concat(allres, axis=0)"
   ]
  },
  {
   "cell_type": "code",
   "execution_count": null,
   "id": "55776989-fe6c-4b19-bf41-94a6b020e787",
   "metadata": {},
   "outputs": [],
   "source": []
  },
  {
   "cell_type": "code",
   "execution_count": null,
   "id": "175bd04a-cc26-42b2-b72a-c404e4d3eda4",
   "metadata": {},
   "outputs": [],
   "source": []
  },
  {
   "cell_type": "code",
   "execution_count": null,
   "id": "e17b9d60-2be7-4c6a-9ad7-4becbd6c2808",
   "metadata": {},
   "outputs": [],
   "source": []
  },
  {
   "cell_type": "code",
   "execution_count": null,
   "id": "5b5bffbf-bdca-4c6f-afd0-a914bdd0db2b",
   "metadata": {},
   "outputs": [],
   "source": []
  },
  {
   "cell_type": "code",
   "execution_count": 75,
   "id": "ebe90406-e6e5-4667-bea4-f0cb05b70e4c",
   "metadata": {},
   "outputs": [
    {
     "name": "stdout",
     "output_type": "stream",
     "text": [
      "-rw-r-----. 1 mc1070 srlab  1350097230 Feb 26 13:00 /data/srlab1/dk718/stimseq/data/raw/pilot2_2023/fastq/BRI-2248/BRI-2248_S9_L001_I1_001.fastq.gz\n",
      "-rw-r-----. 1 mc1070 srlab  1549152361 Feb 26 13:00 /data/srlab1/dk718/stimseq/data/raw/pilot2_2023/fastq/BRI-2248/BRI-2248_S9_L001_I2_001.fastq.gz\n",
      "-rw-r-----. 1 mc1070 srlab  4271233070 Feb 26 13:00 /data/srlab1/dk718/stimseq/data/raw/pilot2_2023/fastq/BRI-2248/BRI-2248_S9_L001_R1_001.fastq.gz\n",
      "-rw-r-----. 1 mc1070 srlab 10603618235 Feb 26 13:01 /data/srlab1/dk718/stimseq/data/raw/pilot2_2023/fastq/BRI-2248/BRI-2248_S9_L001_R2_001.fastq.gz\n",
      "-rw-r-----. 1 mc1070 srlab  1363527562 Feb 26 13:01 /data/srlab1/dk718/stimseq/data/raw/pilot2_2023/fastq/BRI-2248/BRI-2248_S9_L002_I1_001.fastq.gz\n",
      "-rw-r-----. 1 mc1070 srlab  1579981074 Feb 26 13:02 /data/srlab1/dk718/stimseq/data/raw/pilot2_2023/fastq/BRI-2248/BRI-2248_S9_L002_I2_001.fastq.gz\n",
      "-rw-r-----. 1 mc1070 srlab  4346843136 Feb 26 13:02 /data/srlab1/dk718/stimseq/data/raw/pilot2_2023/fastq/BRI-2248/BRI-2248_S9_L002_R1_001.fastq.gz\n",
      "-rw-r-----. 1 mc1070 srlab 10829355099 Feb 26 13:03 /data/srlab1/dk718/stimseq/data/raw/pilot2_2023/fastq/BRI-2248/BRI-2248_S9_L002_R2_001.fastq.gz\n",
      "-rw-r-----. 1 mc1070 srlab  1456674102 Feb 26 13:03 /data/srlab1/dk718/stimseq/data/raw/pilot2_2023/fastq/BRI-2248/BRI-2248_S9_L003_I1_001.fastq.gz\n",
      "-rw-r-----. 1 mc1070 srlab  1637129435 Feb 26 13:04 /data/srlab1/dk718/stimseq/data/raw/pilot2_2023/fastq/BRI-2248/BRI-2248_S9_L003_I2_001.fastq.gz\n",
      "-rw-r-----. 1 mc1070 srlab  4630216964 Feb 26 13:04 /data/srlab1/dk718/stimseq/data/raw/pilot2_2023/fastq/BRI-2248/BRI-2248_S9_L003_R1_001.fastq.gz\n",
      "-rw-r-----. 1 mc1070 srlab 11479527674 Feb 26 13:05 /data/srlab1/dk718/stimseq/data/raw/pilot2_2023/fastq/BRI-2248/BRI-2248_S9_L003_R2_001.fastq.gz\n",
      "-rw-r-----. 1 mc1070 srlab  1399408580 Feb 26 13:06 /data/srlab1/dk718/stimseq/data/raw/pilot2_2023/fastq/BRI-2248/BRI-2248_S9_L004_I1_001.fastq.gz\n",
      "-rw-r-----. 1 mc1070 srlab  1587250704 Feb 26 13:06 /data/srlab1/dk718/stimseq/data/raw/pilot2_2023/fastq/BRI-2248/BRI-2248_S9_L004_I2_001.fastq.gz\n",
      "-rw-r-----. 1 mc1070 srlab  4426867134 Feb 26 13:06 /data/srlab1/dk718/stimseq/data/raw/pilot2_2023/fastq/BRI-2248/BRI-2248_S9_L004_R1_001.fastq.gz\n",
      "-rw-r-----. 1 mc1070 srlab 10985654439 Feb 26 13:07 /data/srlab1/dk718/stimseq/data/raw/pilot2_2023/fastq/BRI-2248/BRI-2248_S9_L004_R2_001.fastq.gz\n"
     ]
    }
   ],
   "source": [
    "! ls -l /data/srlab1/dk718/stimseq/data/raw/pilot2_2023/fastq/BRI-2248/*"
   ]
  },
  {
   "cell_type": "code",
   "execution_count": 88,
   "id": "23ff5a4e-cf78-4529-807d-f3b1012093be",
   "metadata": {},
   "outputs": [
    {
     "name": "stdout",
     "output_type": "stream",
     "text": [
      "-rw-r-----. 1 mc1070 srlab  579778787 Feb 26 13:07 /data/srlab1/dk718/stimseq/data/raw/pilot2_2023/fastq/BRI-2249/BRI-2249_S10_L001_I1_001.fastq.gz\n",
      "-rw-r-----. 1 mc1070 srlab  618064895 Feb 26 13:08 /data/srlab1/dk718/stimseq/data/raw/pilot2_2023/fastq/BRI-2249/BRI-2249_S10_L001_I2_001.fastq.gz\n",
      "-rw-r-----. 1 mc1070 srlab 1783555640 Feb 26 13:08 /data/srlab1/dk718/stimseq/data/raw/pilot2_2023/fastq/BRI-2249/BRI-2249_S10_L001_R1_001.fastq.gz\n",
      "-rw-r-----. 1 mc1070 srlab 3555994086 Feb 26 13:08 /data/srlab1/dk718/stimseq/data/raw/pilot2_2023/fastq/BRI-2249/BRI-2249_S10_L001_R2_001.fastq.gz\n",
      "-rw-r-----. 1 mc1070 srlab  591915479 Feb 26 13:09 /data/srlab1/dk718/stimseq/data/raw/pilot2_2023/fastq/BRI-2249/BRI-2249_S10_L002_I1_001.fastq.gz\n",
      "-rw-r-----. 1 mc1070 srlab  638099324 Feb 26 13:09 /data/srlab1/dk718/stimseq/data/raw/pilot2_2023/fastq/BRI-2249/BRI-2249_S10_L002_I2_001.fastq.gz\n",
      "-rw-r-----. 1 mc1070 srlab 1829621293 Feb 26 13:09 /data/srlab1/dk718/stimseq/data/raw/pilot2_2023/fastq/BRI-2249/BRI-2249_S10_L002_R1_001.fastq.gz\n",
      "-rw-r-----. 1 mc1070 srlab 3648360723 Feb 26 13:10 /data/srlab1/dk718/stimseq/data/raw/pilot2_2023/fastq/BRI-2249/BRI-2249_S10_L002_R2_001.fastq.gz\n",
      "-rw-r-----. 1 mc1070 srlab  554896266 Feb 26 13:11 /data/srlab1/dk718/stimseq/data/raw/pilot2_2023/fastq/BRI-2249/BRI-2249_S10_L003_I1_001.fastq.gz\n",
      "-rw-r-----. 1 mc1070 srlab  573986561 Feb 26 13:11 /data/srlab1/dk718/stimseq/data/raw/pilot2_2023/fastq/BRI-2249/BRI-2249_S10_L003_I2_001.fastq.gz\n",
      "-rw-r-----. 1 mc1070 srlab 1709201929 Feb 26 13:11 /data/srlab1/dk718/stimseq/data/raw/pilot2_2023/fastq/BRI-2249/BRI-2249_S10_L003_R1_001.fastq.gz\n",
      "-rw-r-----. 1 mc1070 srlab 3400510903 Feb 26 13:11 /data/srlab1/dk718/stimseq/data/raw/pilot2_2023/fastq/BRI-2249/BRI-2249_S10_L003_R2_001.fastq.gz\n",
      "-rw-r-----. 1 mc1070 srlab  565034557 Feb 26 13:11 /data/srlab1/dk718/stimseq/data/raw/pilot2_2023/fastq/BRI-2249/BRI-2249_S10_L004_I1_001.fastq.gz\n",
      "-rw-r-----. 1 mc1070 srlab  589050677 Feb 26 13:12 /data/srlab1/dk718/stimseq/data/raw/pilot2_2023/fastq/BRI-2249/BRI-2249_S10_L004_I2_001.fastq.gz\n",
      "-rw-r-----. 1 mc1070 srlab 1727131030 Feb 26 13:12 /data/srlab1/dk718/stimseq/data/raw/pilot2_2023/fastq/BRI-2249/BRI-2249_S10_L004_R1_001.fastq.gz\n",
      "-rw-r-----. 1 mc1070 srlab 3432554518 Feb 26 13:12 /data/srlab1/dk718/stimseq/data/raw/pilot2_2023/fastq/BRI-2249/BRI-2249_S10_L004_R2_001.fastq.gz\n"
     ]
    }
   ],
   "source": [
    "! ls -l /data/srlab1/dk718/stimseq/data/raw/pilot2_2023/fastq/BRI-2249/*"
   ]
  },
  {
   "cell_type": "code",
   "execution_count": 65,
   "id": "b580413f-6eca-42d8-be25-99e40de15a70",
   "metadata": {},
   "outputs": [
    {
     "name": "stdout",
     "output_type": "stream",
     "text": [
      "/data/srlab1/dk718/stimseq/data/raw/pilot2_2023/fastq/BRI-2251/BRI-2251_S12_L001_I1_001.fastq.gz\n",
      "/data/srlab1/dk718/stimseq/data/raw/pilot2_2023/fastq/BRI-2251/BRI-2251_S12_L001_I2_001.fastq.gz\n",
      "/data/srlab1/dk718/stimseq/data/raw/pilot2_2023/fastq/BRI-2251/BRI-2251_S12_L001_R1_001.fastq.gz\n",
      "/data/srlab1/dk718/stimseq/data/raw/pilot2_2023/fastq/BRI-2251/BRI-2251_S12_L001_R2_001.fastq.gz\n",
      "/data/srlab1/dk718/stimseq/data/raw/pilot2_2023/fastq/BRI-2251/BRI-2251_S12_L002_I1_001.fastq.gz\n",
      "/data/srlab1/dk718/stimseq/data/raw/pilot2_2023/fastq/BRI-2251/BRI-2251_S12_L002_I2_001.fastq.gz\n",
      "/data/srlab1/dk718/stimseq/data/raw/pilot2_2023/fastq/BRI-2251/BRI-2251_S12_L002_R1_001.fastq.gz\n",
      "/data/srlab1/dk718/stimseq/data/raw/pilot2_2023/fastq/BRI-2251/BRI-2251_S12_L002_R2_001.fastq.gz\n",
      "/data/srlab1/dk718/stimseq/data/raw/pilot2_2023/fastq/BRI-2251/BRI-2251_S12_L003_I1_001.fastq.gz\n",
      "/data/srlab1/dk718/stimseq/data/raw/pilot2_2023/fastq/BRI-2251/BRI-2251_S12_L003_I2_001.fastq.gz\n",
      "/data/srlab1/dk718/stimseq/data/raw/pilot2_2023/fastq/BRI-2251/BRI-2251_S12_L003_R1_001.fastq.gz\n",
      "/data/srlab1/dk718/stimseq/data/raw/pilot2_2023/fastq/BRI-2251/BRI-2251_S12_L003_R2_001.fastq.gz\n",
      "/data/srlab1/dk718/stimseq/data/raw/pilot2_2023/fastq/BRI-2251/BRI-2251_S12_L004_I1_001.fastq.gz\n",
      "/data/srlab1/dk718/stimseq/data/raw/pilot2_2023/fastq/BRI-2251/BRI-2251_S12_L004_I2_001.fastq.gz\n",
      "/data/srlab1/dk718/stimseq/data/raw/pilot2_2023/fastq/BRI-2251/BRI-2251_S12_L004_R1_001.fastq.gz\n",
      "/data/srlab1/dk718/stimseq/data/raw/pilot2_2023/fastq/BRI-2251/BRI-2251_S12_L004_R2_001.fastq.gz\n"
     ]
    }
   ],
   "source": [
    "! ls /data/srlab1/dk718/stimseq/data/raw/pilot2_2023/fastq/BRI-2251/*"
   ]
  },
  {
   "cell_type": "code",
   "execution_count": 87,
   "id": "6e7d02ae-992c-4937-b4c5-5eebb0524c63",
   "metadata": {},
   "outputs": [
    {
     "name": "stdout",
     "output_type": "stream",
     "text": [
      "/data/srlab1/dk718/stimseq/data/raw/pilot2_2023/fastq/BRI-2252/BRI-2252_S13_L001_I1_001.fastq.gz\n",
      "/data/srlab1/dk718/stimseq/data/raw/pilot2_2023/fastq/BRI-2252/BRI-2252_S13_L001_I2_001.fastq.gz\n",
      "/data/srlab1/dk718/stimseq/data/raw/pilot2_2023/fastq/BRI-2252/BRI-2252_S13_L001_R1_001.fastq.gz\n",
      "/data/srlab1/dk718/stimseq/data/raw/pilot2_2023/fastq/BRI-2252/BRI-2252_S13_L001_R2_001.fastq.gz\n",
      "/data/srlab1/dk718/stimseq/data/raw/pilot2_2023/fastq/BRI-2252/BRI-2252_S13_L002_I1_001.fastq.gz\n",
      "/data/srlab1/dk718/stimseq/data/raw/pilot2_2023/fastq/BRI-2252/BRI-2252_S13_L002_I2_001.fastq.gz\n",
      "/data/srlab1/dk718/stimseq/data/raw/pilot2_2023/fastq/BRI-2252/BRI-2252_S13_L002_R1_001.fastq.gz\n",
      "/data/srlab1/dk718/stimseq/data/raw/pilot2_2023/fastq/BRI-2252/BRI-2252_S13_L002_R2_001.fastq.gz\n",
      "/data/srlab1/dk718/stimseq/data/raw/pilot2_2023/fastq/BRI-2252/BRI-2252_S13_L003_I1_001.fastq.gz\n",
      "/data/srlab1/dk718/stimseq/data/raw/pilot2_2023/fastq/BRI-2252/BRI-2252_S13_L003_I2_001.fastq.gz\n",
      "/data/srlab1/dk718/stimseq/data/raw/pilot2_2023/fastq/BRI-2252/BRI-2252_S13_L003_R1_001.fastq.gz\n",
      "/data/srlab1/dk718/stimseq/data/raw/pilot2_2023/fastq/BRI-2252/BRI-2252_S13_L003_R2_001.fastq.gz\n",
      "/data/srlab1/dk718/stimseq/data/raw/pilot2_2023/fastq/BRI-2252/BRI-2252_S13_L004_I1_001.fastq.gz\n",
      "/data/srlab1/dk718/stimseq/data/raw/pilot2_2023/fastq/BRI-2252/BRI-2252_S13_L004_I2_001.fastq.gz\n",
      "/data/srlab1/dk718/stimseq/data/raw/pilot2_2023/fastq/BRI-2252/BRI-2252_S13_L004_R1_001.fastq.gz\n",
      "/data/srlab1/dk718/stimseq/data/raw/pilot2_2023/fastq/BRI-2252/BRI-2252_S13_L004_R2_001.fastq.gz\n"
     ]
    }
   ],
   "source": [
    "! ls /data/srlab1/dk718/stimseq/data/raw/pilot2_2023/fastq/BRI-2252/*"
   ]
  },
  {
   "cell_type": "code",
   "execution_count": 63,
   "id": "bd7c93f2-7ef5-4d2f-8ee5-7fb3ae007b3e",
   "metadata": {},
   "outputs": [
    {
     "name": "stdout",
     "output_type": "stream",
     "text": [
      "ls: cannot access ../../../data/pilot2_2023/cellranger/BRI-2248: No such file or directory\n"
     ]
    }
   ],
   "source": [
    "! ls ../../../data/pilot2_2023/cellranger/BRI-22"
   ]
  },
  {
   "cell_type": "code",
   "execution_count": 62,
   "id": "84f6fc07-848c-4088-b662-8f253bd37251",
   "metadata": {},
   "outputs": [
    {
     "data": {
      "text/html": [
       "<div>\n",
       "<style scoped>\n",
       "    .dataframe tbody tr th:only-of-type {\n",
       "        vertical-align: middle;\n",
       "    }\n",
       "\n",
       "    .dataframe tbody tr th {\n",
       "        vertical-align: top;\n",
       "    }\n",
       "\n",
       "    .dataframe thead th {\n",
       "        text-align: right;\n",
       "    }\n",
       "</style>\n",
       "<table border=\"1\" class=\"dataframe\">\n",
       "  <thead>\n",
       "    <tr style=\"text-align: right;\">\n",
       "      <th></th>\n",
       "      <th>BRI</th>\n",
       "      <th>Run</th>\n",
       "      <th>Biobank_ID</th>\n",
       "    </tr>\n",
       "  </thead>\n",
       "  <tbody>\n",
       "    <tr>\n",
       "      <th>3_AAACCTGAGACCGGAT</th>\n",
       "      <td>2248_hashing</td>\n",
       "      <td>2</td>\n",
       "      <td>10042029</td>\n",
       "    </tr>\n",
       "    <tr>\n",
       "      <th>3_AAACCTGAGAGGGCTT</th>\n",
       "      <td>2248_hashing</td>\n",
       "      <td>2</td>\n",
       "      <td>10057029</td>\n",
       "    </tr>\n",
       "    <tr>\n",
       "      <th>3_AAACCTGAGAGTCTGG</th>\n",
       "      <td>2248_hashing</td>\n",
       "      <td>2</td>\n",
       "      <td>10049452</td>\n",
       "    </tr>\n",
       "    <tr>\n",
       "      <th>3_AAACCTGCACAAGACG</th>\n",
       "      <td>2248_hashing</td>\n",
       "      <td>2</td>\n",
       "      <td>10033066</td>\n",
       "    </tr>\n",
       "    <tr>\n",
       "      <th>4_AAACCTGAGACCACGA</th>\n",
       "      <td>2251_hashing</td>\n",
       "      <td>2</td>\n",
       "      <td>10033066</td>\n",
       "    </tr>\n",
       "    <tr>\n",
       "      <th>4_AAACCTGAGACGCACA</th>\n",
       "      <td>2251_hashing</td>\n",
       "      <td>2</td>\n",
       "      <td>10049452</td>\n",
       "    </tr>\n",
       "    <tr>\n",
       "      <th>4_AAACCTGAGACTTGAA</th>\n",
       "      <td>2251_hashing</td>\n",
       "      <td>2</td>\n",
       "      <td>10042029</td>\n",
       "    </tr>\n",
       "    <tr>\n",
       "      <th>4_AAACCTGCAACACGCC</th>\n",
       "      <td>2251_hashing</td>\n",
       "      <td>2</td>\n",
       "      <td>10057029</td>\n",
       "    </tr>\n",
       "    <tr>\n",
       "      <th>1_AAACCTGCACCACCAG</th>\n",
       "      <td>2008</td>\n",
       "      <td>1</td>\n",
       "      <td>10041243</td>\n",
       "    </tr>\n",
       "    <tr>\n",
       "      <th>1_AAACCTGCAGCTGCTG</th>\n",
       "      <td>2008</td>\n",
       "      <td>1</td>\n",
       "      <td>10057029</td>\n",
       "    </tr>\n",
       "    <tr>\n",
       "      <th>1_AAACGGGAGTCCATAC</th>\n",
       "      <td>2008</td>\n",
       "      <td>1</td>\n",
       "      <td>10049452</td>\n",
       "    </tr>\n",
       "    <tr>\n",
       "      <th>2_AAACCTGAGGATTCGG</th>\n",
       "      <td>2011</td>\n",
       "      <td>1</td>\n",
       "      <td>10049452</td>\n",
       "    </tr>\n",
       "    <tr>\n",
       "      <th>2_AAACCTGCAAGCCCAC</th>\n",
       "      <td>2011</td>\n",
       "      <td>1</td>\n",
       "      <td>10057029</td>\n",
       "    </tr>\n",
       "    <tr>\n",
       "      <th>2_AAACCTGGTGAACCTT</th>\n",
       "      <td>2011</td>\n",
       "      <td>1</td>\n",
       "      <td>10041243</td>\n",
       "    </tr>\n",
       "  </tbody>\n",
       "</table>\n",
       "</div>"
      ],
      "text/plain": [
       "                             BRI  Run Biobank_ID\n",
       "3_AAACCTGAGACCGGAT  2248_hashing    2   10042029\n",
       "3_AAACCTGAGAGGGCTT  2248_hashing    2   10057029\n",
       "3_AAACCTGAGAGTCTGG  2248_hashing    2   10049452\n",
       "3_AAACCTGCACAAGACG  2248_hashing    2   10033066\n",
       "4_AAACCTGAGACCACGA  2251_hashing    2   10033066\n",
       "4_AAACCTGAGACGCACA  2251_hashing    2   10049452\n",
       "4_AAACCTGAGACTTGAA  2251_hashing    2   10042029\n",
       "4_AAACCTGCAACACGCC  2251_hashing    2   10057029\n",
       "1_AAACCTGCACCACCAG          2008    1   10041243\n",
       "1_AAACCTGCAGCTGCTG          2008    1   10057029\n",
       "1_AAACGGGAGTCCATAC          2008    1   10049452\n",
       "2_AAACCTGAGGATTCGG          2011    1   10049452\n",
       "2_AAACCTGCAAGCCCAC          2011    1   10057029\n",
       "2_AAACCTGGTGAACCTT          2011    1   10041243"
      ]
     },
     "execution_count": 62,
     "metadata": {},
     "output_type": "execute_result"
    }
   ],
   "source": [
    "adata.obs[['BRI', 'Run', 'Biobank_ID']].drop_duplicates()"
   ]
  },
  {
   "cell_type": "code",
   "execution_count": 93,
   "id": "a349448a-74dd-4cdb-b534-dbab0985f947",
   "metadata": {},
   "outputs": [
    {
     "name": "stdout",
     "output_type": "stream",
     "text": [
      "total 61056048\n",
      "-rw-r-----. 1 dk718 srlab  1876868671 Dec 30  2022 BRI-2008_S7_L001_I1_001.fastq.gz\n",
      "-rw-r-----. 1 dk718 srlab  2123300060 Dec 30  2022 BRI-2008_S7_L001_I2_001.fastq.gz\n",
      "-rw-r-----. 1 dk718 srlab  6126587285 Dec 30  2022 BRI-2008_S7_L001_R1_001.fastq.gz\n",
      "-rw-r-----. 1 dk718 srlab 14876850805 Dec 30  2022 BRI-2008_S7_L001_R2_001.fastq.gz\n",
      "-rw-r-----. 1 dk718 srlab  1872065343 Dec 30  2022 BRI-2008_S7_L002_I1_001.fastq.gz\n",
      "-rw-r-----. 1 dk718 srlab  2115321556 Dec 30  2022 BRI-2008_S7_L002_I2_001.fastq.gz\n",
      "-rw-r-----. 1 dk718 srlab  6124498554 Dec 30  2022 BRI-2008_S7_L002_R1_001.fastq.gz\n",
      "-rw-r-----. 1 dk718 srlab 14875363471 Dec 30  2022 BRI-2008_S7_L002_R2_001.fastq.gz\n"
     ]
    }
   ],
   "source": [
    "! ls -l /data/srlab1/dk718/stimseq/data/raw/pilot_2022/fastq/BRI-2008"
   ]
  },
  {
   "cell_type": "code",
   "execution_count": 94,
   "id": "ba5d100b-95ca-4832-899b-e35879f1d94b",
   "metadata": {},
   "outputs": [
    {
     "name": "stdout",
     "output_type": "stream",
     "text": [
      "total 53158080\n",
      "-rw-r-----. 1 dk718 srlab  1691764028 Dec 30  2022 BRI-2011_S10_L001_I1_001.fastq.gz\n",
      "-rw-r-----. 1 dk718 srlab  1967673455 Dec 30  2022 BRI-2011_S10_L001_I2_001.fastq.gz\n",
      "-rw-r-----. 1 dk718 srlab  5290704411 Dec 30  2022 BRI-2011_S10_L001_R1_001.fastq.gz\n",
      "-rw-r-----. 1 dk718 srlab 12891928187 Dec 30  2022 BRI-2011_S10_L001_R2_001.fastq.gz\n",
      "-rw-r-----. 1 dk718 srlab  1672899694 Dec 30  2022 BRI-2011_S10_L002_I1_001.fastq.gz\n",
      "-rw-r-----. 1 dk718 srlab  1948393533 Dec 30  2022 BRI-2011_S10_L002_I2_001.fastq.gz\n",
      "-rw-r-----. 1 dk718 srlab  5254588427 Dec 30  2022 BRI-2011_S10_L002_R1_001.fastq.gz\n",
      "-rw-r-----. 1 dk718 srlab 12805590962 Dec 30  2022 BRI-2011_S10_L002_R2_001.fastq.gz\n"
     ]
    }
   ],
   "source": [
    "! ls -l /data/srlab1/dk718/stimseq/data/raw/pilot_2022/fastq/BRI-2011"
   ]
  },
  {
   "cell_type": "code",
   "execution_count": 96,
   "id": "e86647ff-fe70-4051-a088-7b580ccdd5fe",
   "metadata": {},
   "outputs": [
    {
     "name": "stdout",
     "output_type": "stream",
     "text": [
      "total 7453168\n",
      "-rw-r-----. 1 dk718 srlab  300491169 Dec 30  2022 BRI-2009_S8_L001_I1_001.fastq.gz\n",
      "-rw-r-----. 1 dk718 srlab  318006488 Dec 30  2022 BRI-2009_S8_L001_I2_001.fastq.gz\n",
      "-rw-r-----. 1 dk718 srlab  804957319 Dec 30  2022 BRI-2009_S8_L001_R1_001.fastq.gz\n",
      "-rw-r-----. 1 dk718 srlab 1593289278 Dec 30  2022 BRI-2009_S8_L001_R2_001.fastq.gz\n",
      "-rw-r-----. 1 dk718 srlab  305589252 Dec 30  2022 BRI-2009_S8_L002_I1_001.fastq.gz\n",
      "-rw-r-----. 1 dk718 srlab  325198069 Dec 30  2022 BRI-2009_S8_L002_I2_001.fastq.gz\n",
      "-rw-r-----. 1 dk718 srlab  821729114 Dec 30  2022 BRI-2009_S8_L002_R1_001.fastq.gz\n",
      "-rw-r-----. 1 dk718 srlab 1631274671 Dec 30  2022 BRI-2009_S8_L002_R2_001.fastq.gz\n"
     ]
    }
   ],
   "source": [
    "! ls -l /data/srlab1/dk718/stimseq/data/raw/pilot_2022/fastq/BRI-2009"
   ]
  },
  {
   "cell_type": "code",
   "execution_count": 98,
   "id": "c4ffd99d-525f-4e4c-b383-51b5465ceb61",
   "metadata": {},
   "outputs": [
    {
     "name": "stdout",
     "output_type": "stream",
     "text": [
      "total 14133360\n",
      "-rw-r-----. 1 dk718 srlab  541673674 Dec 30  2022 BRI-2012_S11_L001_I1_001.fastq.gz\n",
      "-rw-r-----. 1 dk718 srlab  572289930 Dec 30  2022 BRI-2012_S11_L001_I2_001.fastq.gz\n",
      "-rw-r-----. 1 dk718 srlab 1539271070 Dec 30  2022 BRI-2012_S11_L001_R1_001.fastq.gz\n",
      "-rw-r-----. 1 dk718 srlab 3061939447 Dec 30  2022 BRI-2012_S11_L001_R2_001.fastq.gz\n",
      "-rw-r-----. 1 dk718 srlab  551307074 Dec 30  2022 BRI-2012_S11_L002_I1_001.fastq.gz\n",
      "-rw-r-----. 1 dk718 srlab  584012958 Dec 30  2022 BRI-2012_S11_L002_I2_001.fastq.gz\n",
      "-rw-r-----. 1 dk718 srlab 1576573918 Dec 30  2022 BRI-2012_S11_L002_R1_001.fastq.gz\n",
      "-rw-r-----. 1 dk718 srlab 3143416500 Dec 30  2022 BRI-2012_S11_L002_R2_001.fastq.gz\n"
     ]
    }
   ],
   "source": [
    "! ls -l /data/srlab1/dk718/stimseq/data/raw/pilot_2022/fastq/BRI-2012"
   ]
  },
  {
   "cell_type": "code",
   "execution_count": null,
   "id": "c3a8e785-3365-4ddf-9b02-e2fea85c212a",
   "metadata": {},
   "outputs": [],
   "source": [
    "bar_fn = counts_fn.replace('.h5ad', '.features.tsv')\n",
    "print(feature_fn)\n",
    "with open(feature_fn, 'w') as F:\n",
    "    F.write('\\n'.join(adata.obs.index))\n",
    "    \n",
    "cmd = 'gzip %s' % feature_fn\n",
    "!{cmd}"
   ]
  }
 ],
 "metadata": {
  "kernelspec": {
   "display_name": "Python 3 (ipykernel)",
   "language": "python",
   "name": "python3"
  },
  "language_info": {
   "codemirror_mode": {
    "name": "ipython",
    "version": 3
   },
   "file_extension": ".py",
   "mimetype": "text/x-python",
   "name": "python",
   "nbconvert_exporter": "python",
   "pygments_lexer": "ipython3",
   "version": "3.7.12"
  }
 },
 "nbformat": 4,
 "nbformat_minor": 5
}
