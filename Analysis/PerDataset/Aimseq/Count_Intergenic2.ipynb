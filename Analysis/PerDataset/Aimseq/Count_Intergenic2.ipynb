{
 "cells": [
  {
   "cell_type": "code",
   "execution_count": 33,
   "id": "6dc209e1-3cff-4ecf-8555-19b6cb2f12ac",
   "metadata": {},
   "outputs": [],
   "source": [
    "%matplotlib inline\n",
    "\n",
    "import pandas as pd\n",
    "import numpy as np\n",
    "import scanpy as sc\n",
    "import matplotlib.pyplot as plt\n",
    "\n",
    "import sys\n",
    "sys.path.append('../../../Code/')\n",
    "from utils import read_dataset_log"
   ]
  },
  {
   "cell_type": "code",
   "execution_count": 27,
   "id": "a63f5d69-c780-405f-9d35-f35ce1ece7b8",
   "metadata": {},
   "outputs": [],
   "source": [
    "from matplotlib import rcParams, font_manager\n",
    "import matplotlib\n",
    "\n",
    "\n",
    "rcParams['pdf.fonttype'] = 42\n",
    "rcParams['ps.fonttype'] = 42\n",
    "rcParams['font.family'] = 'sans-serif'\n",
    "rcParams['font.sans-serif'] = ['Arial']"
   ]
  },
  {
   "cell_type": "code",
   "execution_count": 28,
   "id": "554a6920-5b87-4dc5-afd8-114e959cb6f3",
   "metadata": {},
   "outputs": [],
   "source": [
    "figdir = '../../Figures/Components/'"
   ]
  },
  {
   "cell_type": "code",
   "execution_count": 15,
   "id": "c9cf3575-6b31-4f40-acb0-558b8ee9b5bc",
   "metadata": {},
   "outputs": [
    {
     "name": "stdout",
     "output_type": "stream",
     "text": [
      "/data/srlab1/dk718/stimseq/data/raw/pilot2_2023/cellranger/BRI-2248_hashing/outs/possorted_genome_bam.bam\n",
      "/data/srlab1/dk718/stimseq/data/raw/pilot2_2023/cellranger/BRI-2251_hashing/outs/possorted_genome_bam.bam\n"
     ]
    }
   ],
   "source": [
    "! ls /data/srlab1/dk718/stimseq/data/raw/pilot2_2023/cellranger/*/outs/possorted_genome_bam.bam"
   ]
  },
  {
   "cell_type": "raw",
   "id": "b409c0c9-fe84-4e38-aab5-46df7d6d144f",
   "metadata": {},
   "source": [
    "infn = '/data/srlab1/dk718/stimseq/data/raw/pilot2_2023/cellranger/BRI-2248_hashing/outs/possorted_genome_bam.bam'"
   ]
  },
  {
   "cell_type": "raw",
   "id": "e2d4c5ef-566c-4176-98ff-602c4a685c07",
   "metadata": {},
   "source": [
    "! cp /data/srlab1/dk718/stimseq/analysis/pilot2_2023/count_intergenic_BRI-2248_hashing.tsv ../../../Data/PerDataset/Stimseq/count_intergenic_BRI-2248_hashing.tsv"
   ]
  },
  {
   "cell_type": "code",
   "execution_count": 2,
   "id": "291cb777-9deb-4742-a5bd-3b15decb546d",
   "metadata": {},
   "outputs": [],
   "source": [
    "outfn = '../../../Data/PerDataset/Stimseq/count_intergenic_BRI-2248_hashing.tsv'"
   ]
  },
  {
   "cell_type": "raw",
   "id": "c13f821f-bd16-4c31-bebf-510c1974c74a",
   "metadata": {},
   "source": [
    "cmd = \"sh run_awk.sh %s %s\" % (infn, outfn)\n",
    "print(cmd)\n",
    "!{cmd}"
   ]
  },
  {
   "cell_type": "code",
   "execution_count": 3,
   "id": "05f7ef2a-6176-4c9a-8227-cb9daf8c1ad3",
   "metadata": {},
   "outputs": [
    {
     "data": {
      "text/html": [
       "<div>\n",
       "<style scoped>\n",
       "    .dataframe tbody tr th:only-of-type {\n",
       "        vertical-align: middle;\n",
       "    }\n",
       "\n",
       "    .dataframe tbody tr th {\n",
       "        vertical-align: top;\n",
       "    }\n",
       "\n",
       "    .dataframe thead th {\n",
       "        text-align: right;\n",
       "    }\n",
       "</style>\n",
       "<table border=\"1\" class=\"dataframe\">\n",
       "  <thead>\n",
       "    <tr style=\"text-align: right;\">\n",
       "      <th></th>\n",
       "      <th>0</th>\n",
       "      <th>1</th>\n",
       "      <th>2</th>\n",
       "    </tr>\n",
       "  </thead>\n",
       "  <tbody>\n",
       "    <tr>\n",
       "      <th>0</th>\n",
       "      <td>CB:Z:CCATTCGTCCGAATGT-1</td>\n",
       "      <td>RE:A:I</td>\n",
       "      <td>UB:Z:CGTGTTCCAC</td>\n",
       "    </tr>\n",
       "    <tr>\n",
       "      <th>1</th>\n",
       "      <td>CB:Z:CAGCTGGCACCAGGTC-1</td>\n",
       "      <td>RE:A:I</td>\n",
       "      <td>UB:Z:GCCCCGCGGG</td>\n",
       "    </tr>\n",
       "    <tr>\n",
       "      <th>2</th>\n",
       "      <td>CB:Z:AGCTTGATCATCTGTT-1</td>\n",
       "      <td>RE:A:I</td>\n",
       "      <td>UB:Z:GCATAGTTGG</td>\n",
       "    </tr>\n",
       "    <tr>\n",
       "      <th>3</th>\n",
       "      <td>CB:Z:AATCGGTCAGGACCCT-1</td>\n",
       "      <td>RE:A:I</td>\n",
       "      <td>UB:Z:CGTGAAGCCA</td>\n",
       "    </tr>\n",
       "    <tr>\n",
       "      <th>4</th>\n",
       "      <td>CB:Z:TTGCGTCTCCGCAGTG-1</td>\n",
       "      <td>RE:A:I</td>\n",
       "      <td>UB:Z:AGCCCGGGCT</td>\n",
       "    </tr>\n",
       "  </tbody>\n",
       "</table>\n",
       "</div>"
      ],
      "text/plain": [
       "                         0       1                2\n",
       "0  CB:Z:CCATTCGTCCGAATGT-1  RE:A:I  UB:Z:CGTGTTCCAC\n",
       "1  CB:Z:CAGCTGGCACCAGGTC-1  RE:A:I  UB:Z:GCCCCGCGGG\n",
       "2  CB:Z:AGCTTGATCATCTGTT-1  RE:A:I  UB:Z:GCATAGTTGG\n",
       "3  CB:Z:AATCGGTCAGGACCCT-1  RE:A:I  UB:Z:CGTGAAGCCA\n",
       "4  CB:Z:TTGCGTCTCCGCAGTG-1  RE:A:I  UB:Z:AGCCCGGGCT"
      ]
     },
     "execution_count": 3,
     "metadata": {},
     "output_type": "execute_result"
    }
   ],
   "source": [
    "dat = pd.read_csv(outfn, sep='\\t', header=None, nrows=150e6)\n",
    "dat.head()"
   ]
  },
  {
   "cell_type": "code",
   "execution_count": 4,
   "id": "104d4aed-7165-42ab-bb0c-f3838fa364ba",
   "metadata": {},
   "outputs": [
    {
     "data": {
      "text/plain": [
       "(150000000, 3)"
      ]
     },
     "execution_count": 4,
     "metadata": {},
     "output_type": "execute_result"
    }
   ],
   "source": [
    "dat.shape"
   ]
  },
  {
   "cell_type": "code",
   "execution_count": 5,
   "id": "06896798-1d73-4355-9953-8fe2e537afb1",
   "metadata": {},
   "outputs": [],
   "source": [
    "dat = dat.drop_duplicates([0,2])"
   ]
  },
  {
   "cell_type": "code",
   "execution_count": 6,
   "id": "1a5d303c-fa86-48dd-aba4-944772c9754f",
   "metadata": {},
   "outputs": [
    {
     "data": {
      "text/plain": [
       "(60039940, 3)"
      ]
     },
     "execution_count": 6,
     "metadata": {},
     "output_type": "execute_result"
    }
   ],
   "source": [
    "dat.shape"
   ]
  },
  {
   "cell_type": "code",
   "execution_count": 7,
   "id": "a914c1da-4d4b-4df4-bdd2-b18baa4973aa",
   "metadata": {},
   "outputs": [],
   "source": [
    "umi_per_cell = dat.pivot_table(index=0, columns=1, aggfunc='count').replace(np.nan, 0)\n",
    "umi_per_cell.index = ['3_' + x[5:-2] for x in umi_per_cell.index]"
   ]
  },
  {
   "cell_type": "code",
   "execution_count": 8,
   "id": "120d5b58-c2f9-486c-8439-0f5b1be717ef",
   "metadata": {},
   "outputs": [],
   "source": [
    "umi_per_cell = umi_per_cell[2]"
   ]
  },
  {
   "cell_type": "code",
   "execution_count": 24,
   "id": "46c58753-4d88-4361-b32d-27ceb1893b17",
   "metadata": {},
   "outputs": [
    {
     "data": {
      "text/html": [
       "<div>\n",
       "<style scoped>\n",
       "    .dataframe tbody tr th:only-of-type {\n",
       "        vertical-align: middle;\n",
       "    }\n",
       "\n",
       "    .dataframe tbody tr th {\n",
       "        vertical-align: top;\n",
       "    }\n",
       "\n",
       "    .dataframe thead th {\n",
       "        text-align: right;\n",
       "    }\n",
       "</style>\n",
       "<table border=\"1\" class=\"dataframe\">\n",
       "  <thead>\n",
       "    <tr style=\"text-align: right;\">\n",
       "      <th></th>\n",
       "      <th>Exonic</th>\n",
       "      <th>Intronic</th>\n",
       "      <th>Intergenic</th>\n",
       "    </tr>\n",
       "  </thead>\n",
       "  <tbody>\n",
       "    <tr>\n",
       "      <th>3_AAACCTGAGAAACCGC</th>\n",
       "      <td>3.0</td>\n",
       "      <td>0.0</td>\n",
       "      <td>1.0</td>\n",
       "    </tr>\n",
       "    <tr>\n",
       "      <th>3_AAACCTGAGAACAACT</th>\n",
       "      <td>1.0</td>\n",
       "      <td>0.0</td>\n",
       "      <td>0.0</td>\n",
       "    </tr>\n",
       "    <tr>\n",
       "      <th>3_AAACCTGAGAACAATC</th>\n",
       "      <td>2921.0</td>\n",
       "      <td>86.0</td>\n",
       "      <td>290.0</td>\n",
       "    </tr>\n",
       "    <tr>\n",
       "      <th>3_AAACCTGAGAACTGTA</th>\n",
       "      <td>21.0</td>\n",
       "      <td>0.0</td>\n",
       "      <td>8.0</td>\n",
       "    </tr>\n",
       "    <tr>\n",
       "      <th>3_AAACCTGAGAAGGCCT</th>\n",
       "      <td>0.0</td>\n",
       "      <td>1.0</td>\n",
       "      <td>0.0</td>\n",
       "    </tr>\n",
       "  </tbody>\n",
       "</table>\n",
       "</div>"
      ],
      "text/plain": [
       "                    Exonic  Intronic  Intergenic\n",
       "3_AAACCTGAGAAACCGC     3.0       0.0         1.0\n",
       "3_AAACCTGAGAACAACT     1.0       0.0         0.0\n",
       "3_AAACCTGAGAACAATC  2921.0      86.0       290.0\n",
       "3_AAACCTGAGAACTGTA    21.0       0.0         8.0\n",
       "3_AAACCTGAGAAGGCCT     0.0       1.0         0.0"
      ]
     },
     "execution_count": 24,
     "metadata": {},
     "output_type": "execute_result"
    }
   ],
   "source": [
    "umi_per_cell.columns = ['Exonic', 'Intronic', 'Intergenic']\n",
    "umi_per_cell.head()"
   ]
  },
  {
   "cell_type": "code",
   "execution_count": 25,
   "id": "486cd1c7-e7fc-4a9f-b8ca-2f991ccd004a",
   "metadata": {},
   "outputs": [
    {
     "data": {
      "text/plain": [
       "(447362, 3)"
      ]
     },
     "execution_count": 25,
     "metadata": {},
     "output_type": "execute_result"
    }
   ],
   "source": [
    "umi_per_cell.shape"
   ]
  },
  {
   "cell_type": "code",
   "execution_count": 37,
   "id": "42ae10a2-d5f9-4cb9-b0c7-01845ceba42f",
   "metadata": {},
   "outputs": [
    {
     "data": {
      "text/html": [
       "<div>\n",
       "<style scoped>\n",
       "    .dataframe tbody tr th:only-of-type {\n",
       "        vertical-align: middle;\n",
       "    }\n",
       "\n",
       "    .dataframe tbody tr th {\n",
       "        vertical-align: top;\n",
       "    }\n",
       "\n",
       "    .dataframe thead th {\n",
       "        text-align: right;\n",
       "    }\n",
       "</style>\n",
       "<table border=\"1\" class=\"dataframe\">\n",
       "  <thead>\n",
       "    <tr style=\"text-align: right;\">\n",
       "      <th></th>\n",
       "      <th>dataset</th>\n",
       "      <th>usage_fn</th>\n",
       "      <th>gene_scores_fn</th>\n",
       "      <th>gene_tpm_fn</th>\n",
       "      <th>tcat_fn</th>\n",
       "      <th>tcat_fn_withsingletons</th>\n",
       "      <th>manual_gating_fn</th>\n",
       "      <th>metadata_fn</th>\n",
       "      <th>Processing notebook path</th>\n",
       "      <th>cNMF notebook path</th>\n",
       "      <th>...</th>\n",
       "      <th>cnmf_dir</th>\n",
       "      <th>k</th>\n",
       "      <th>dt</th>\n",
       "      <th>processed_forcnmf_fn</th>\n",
       "      <th>tpm_counts_for_cnmf_fn</th>\n",
       "      <th>raw_counts_filt_fn</th>\n",
       "      <th>raw_counts_fn</th>\n",
       "      <th>dataset_type</th>\n",
       "      <th>tissue_type</th>\n",
       "      <th>context_label</th>\n",
       "    </tr>\n",
       "    <tr>\n",
       "      <th>dataset</th>\n",
       "      <th></th>\n",
       "      <th></th>\n",
       "      <th></th>\n",
       "      <th></th>\n",
       "      <th></th>\n",
       "      <th></th>\n",
       "      <th></th>\n",
       "      <th></th>\n",
       "      <th></th>\n",
       "      <th></th>\n",
       "      <th></th>\n",
       "      <th></th>\n",
       "      <th></th>\n",
       "      <th></th>\n",
       "      <th></th>\n",
       "      <th></th>\n",
       "      <th></th>\n",
       "      <th></th>\n",
       "      <th></th>\n",
       "      <th></th>\n",
       "      <th></th>\n",
       "    </tr>\n",
       "  </thead>\n",
       "  <tbody>\n",
       "    <tr>\n",
       "      <th>AMP-RA</th>\n",
       "      <td>AMP-RA</td>\n",
       "      <td>/data/srlab1/TCAT/Data/PerDataset/AMPRA/AMPRA....</td>\n",
       "      <td>/data/srlab1/TCAT/Data/PerDataset/AMPRA/AMPRA....</td>\n",
       "      <td>/data/srlab1/TCAT/Data/PerDataset/AMPRA/AMPRA....</td>\n",
       "      <td>/data/srlab1/TCAT/Data/TCAT/TCAT_Usage.2023101...</td>\n",
       "      <td>/data/srlab1/TCAT/Data/TCAT/TCAT_Usage.2023101...</td>\n",
       "      <td>NaN</td>\n",
       "      <td>/data/srlab1/TCAT/Data/PerDataset/AMPRA/AMP_AD...</td>\n",
       "      <td>NaN</td>\n",
       "      <td>NaN</td>\n",
       "      <td>...</td>\n",
       "      <td>/data/srlab1/TCAT/Data/PerDataset/AMPRA</td>\n",
       "      <td>34.0</td>\n",
       "      <td>0_15</td>\n",
       "      <td>/data/srlab1/TCAT/Data/PerDataset/AMPRA/AMP_AD...</td>\n",
       "      <td>/data/srlab1/TCAT/Data/PerDataset/AMPRA/AMP_AD...</td>\n",
       "      <td>/data/srlab1/TCAT/Data/PerDataset/AMPRA/AMP_AD...</td>\n",
       "      <td>/data/srlab1/TCAT/Data/PerDataset/AMPRA/AMP_AD...</td>\n",
       "      <td>discovery</td>\n",
       "      <td>Synovium</td>\n",
       "      <td>RA+OA</td>\n",
       "    </tr>\n",
       "    <tr>\n",
       "      <th>Pan-Cancer</th>\n",
       "      <td>Pan-Cancer</td>\n",
       "      <td>/data/srlab1/TCAT/Data/PerDataset/Pancancer/Pa...</td>\n",
       "      <td>/data/srlab1/TCAT/Data/PerDataset/Pancancer/Pa...</td>\n",
       "      <td>/data/srlab1/TCAT/Data/PerDataset/Pancancer/Pa...</td>\n",
       "      <td>/data/srlab1/TCAT/Data/TCAT/TCAT_Usage.2023101...</td>\n",
       "      <td>/data/srlab1/TCAT/Data/TCAT/TCAT_Usage.2023101...</td>\n",
       "      <td>NaN</td>\n",
       "      <td>/data/srlab1/TCAT/Data/PerDataset/Pancancer/pa...</td>\n",
       "      <td>NaN</td>\n",
       "      <td>NaN</td>\n",
       "      <td>...</td>\n",
       "      <td>/data/srlab1/TCAT/Data/PerDataset/Pancancer</td>\n",
       "      <td>38.0</td>\n",
       "      <td>0.15</td>\n",
       "      <td>/data/srlab1/TCAT/Data/PerDataset/Pancancer/pa...</td>\n",
       "      <td>NaN</td>\n",
       "      <td>/data/srlab1/TCAT/Data/PerDataset/Pancancer/pa...</td>\n",
       "      <td>/data/srlab1/TCAT/Data/PerDataset/Pancancer/pa...</td>\n",
       "      <td>discovery</td>\n",
       "      <td>Pan-Tissue</td>\n",
       "      <td>Cancer+Healthy</td>\n",
       "    </tr>\n",
       "    <tr>\n",
       "      <th>TBRU</th>\n",
       "      <td>TBRU</td>\n",
       "      <td>/data/srlab1/TCAT/Data/PerDataset/TBRU/TBRU.20...</td>\n",
       "      <td>/data/srlab1/TCAT/Data/PerDataset/TBRU/TBRU.20...</td>\n",
       "      <td>/data/srlab1/TCAT/Data/PerDataset/TBRU/TBRU.20...</td>\n",
       "      <td>/data/srlab1/TCAT/Data/TCAT/TCAT_Usage.2023101...</td>\n",
       "      <td>/data/srlab1/TCAT/Data/TCAT/TCAT_Usage.2023101...</td>\n",
       "      <td>NaN</td>\n",
       "      <td>/data/srlab1/TCAT/Data/PerDataset/TBRU/tbru_ex...</td>\n",
       "      <td>NaN</td>\n",
       "      <td>NaN</td>\n",
       "      <td>...</td>\n",
       "      <td>/data/srlab1/TCAT/Data/PerDataset/TBRU</td>\n",
       "      <td>36.0</td>\n",
       "      <td>0_20</td>\n",
       "      <td>/data/srlab1/TCAT/Data/PerDataset/TBRU/tbru_ex...</td>\n",
       "      <td>/data/srlab1/TCAT/Data/PerDataset/TBRU/tbru_ex...</td>\n",
       "      <td>/data/srlab1/TCAT/Data/PerDataset/TBRU/tbru_ex...</td>\n",
       "      <td>/data/srlab1/TCAT/Data/PerDataset/TBRU/tbru_ex...</td>\n",
       "      <td>discovery</td>\n",
       "      <td>Blood</td>\n",
       "      <td>Healthy</td>\n",
       "    </tr>\n",
       "    <tr>\n",
       "      <th>HIV-Vaccine</th>\n",
       "      <td>HIV-Vaccine</td>\n",
       "      <td>/data/srlab1/TCAT/Data/PerDataset/HaoEtAl/HIVV...</td>\n",
       "      <td>/data/srlab1/TCAT/Data/PerDataset/HaoEtAl/HIVV...</td>\n",
       "      <td>/data/srlab1/TCAT/Data/PerDataset/HaoEtAl/HIVV...</td>\n",
       "      <td>/data/srlab1/TCAT/Data/TCAT/TCAT_Usage.2023101...</td>\n",
       "      <td>/data/srlab1/TCAT/Data/TCAT/TCAT_Usage.2023101...</td>\n",
       "      <td>/data/srlab1/TCAT/Data/PerDataset/HaoEtAl/Manu...</td>\n",
       "      <td>/data/srlab1/TCAT/Data/PerDataset/HaoEtAl/haoe...</td>\n",
       "      <td>/data/srlab1/TCAT/Analysis/PerDataset/HaoEtAl/...</td>\n",
       "      <td>/data/srlab1/TCAT/Analysis/PerDataset/HaoEtAl/...</td>\n",
       "      <td>...</td>\n",
       "      <td>/data/srlab1/TCAT/Data/PerDataset/HaoEtAl</td>\n",
       "      <td>31.0</td>\n",
       "      <td>0_15</td>\n",
       "      <td>/data/srlab1/TCAT/Data/PerDataset/HaoEtAl/haoe...</td>\n",
       "      <td>/data/srlab1/TCAT/Data/PerDataset/HaoEtAl/haoe...</td>\n",
       "      <td>/data/srlab1/TCAT/Data/PerDataset/HaoEtAl/haoe...</td>\n",
       "      <td>/data/srlab1/TCAT/Data/PerDataset/HaoEtAl/haoe...</td>\n",
       "      <td>discovery</td>\n",
       "      <td>Blood</td>\n",
       "      <td>Post-Vaccine+Healthy</td>\n",
       "    </tr>\n",
       "    <tr>\n",
       "      <th>UK-Covid</th>\n",
       "      <td>UK-Covid</td>\n",
       "      <td>/data/srlab1/TCAT/Data/PerDataset/UKCOVID/UKCO...</td>\n",
       "      <td>/data/srlab1/TCAT/Data/PerDataset/UKCOVID/UKCO...</td>\n",
       "      <td>/data/srlab1/TCAT/Data/PerDataset/UKCOVID/UKCO...</td>\n",
       "      <td>/data/srlab1/TCAT/Data/TCAT/TCAT_Usage.2023101...</td>\n",
       "      <td>/data/srlab1/TCAT/Data/TCAT/TCAT_Usage.2023101...</td>\n",
       "      <td>NaN</td>\n",
       "      <td>/data/srlab1/TCAT/Data/PerDataset/UKCOVID/hani...</td>\n",
       "      <td>NaN</td>\n",
       "      <td>NaN</td>\n",
       "      <td>...</td>\n",
       "      <td>/data/srlab1/TCAT/Data/PerDataset/UKCOVID</td>\n",
       "      <td>44.0</td>\n",
       "      <td>0_20</td>\n",
       "      <td>/data/srlab1/TCAT/Data/PerDataset/UKCOVID/hani...</td>\n",
       "      <td>NaN</td>\n",
       "      <td>/data/srlab1/TCAT/Data/PerDataset/UKCOVID/hani...</td>\n",
       "      <td>/data/srlab1/TCAT/Data/PerDataset/UKCOVID/hani...</td>\n",
       "      <td>discovery</td>\n",
       "      <td>Blood</td>\n",
       "      <td>Covid-19+Healthy</td>\n",
       "    </tr>\n",
       "    <tr>\n",
       "      <th>COMBAT</th>\n",
       "      <td>COMBAT</td>\n",
       "      <td>/data/srlab1/TCAT/Data/PerDataset/COMBAT/COMBA...</td>\n",
       "      <td>/data/srlab1/TCAT/Data/PerDataset/COMBAT/COMBA...</td>\n",
       "      <td>/data/srlab1/TCAT/Data/PerDataset/COMBAT/COMBA...</td>\n",
       "      <td>/data/srlab1/TCAT/Data/TCAT/TCAT_Usage.2023101...</td>\n",
       "      <td>/data/srlab1/TCAT/Data/TCAT/TCAT_Usage.2023101...</td>\n",
       "      <td>/data/srlab1/TCAT/Data/PerDataset/COMBAT/Manua...</td>\n",
       "      <td>/data/srlab1/TCAT/Data/PerDataset/COMBAT/COMBA...</td>\n",
       "      <td>NaN</td>\n",
       "      <td>NaN</td>\n",
       "      <td>...</td>\n",
       "      <td>/data/srlab1/TCAT/Data/PerDataset/COMBAT</td>\n",
       "      <td>35.0</td>\n",
       "      <td>0_15</td>\n",
       "      <td>/data/srlab1/TCAT/Data/PerDataset/COMBAT/COMBA...</td>\n",
       "      <td>/data/srlab1/TCAT/Data/PerDataset/COMBAT/COMBA...</td>\n",
       "      <td>/data/srlab1/TCAT/Data/PerDataset/COMBAT/COMBA...</td>\n",
       "      <td>/data/srlab1/TCAT/Data/PerDataset/COMBAT/COMBA...</td>\n",
       "      <td>discovery</td>\n",
       "      <td>Blood</td>\n",
       "      <td>Covid-19+Healthy</td>\n",
       "    </tr>\n",
       "    <tr>\n",
       "      <th>Pan-Tissue</th>\n",
       "      <td>Pan-Tissue</td>\n",
       "      <td>/data/srlab1/TCAT/Data/PerDataset/XTissueImmun...</td>\n",
       "      <td>/data/srlab1/TCAT/Data/PerDataset/XTissueImmun...</td>\n",
       "      <td>/data/srlab1/TCAT/Data/PerDataset/XTissueImmun...</td>\n",
       "      <td>/data/srlab1/TCAT/Data/TCAT/TCAT_Usage.2023101...</td>\n",
       "      <td>/data/srlab1/TCAT/Data/TCAT/TCAT_Usage.2023101...</td>\n",
       "      <td>NaN</td>\n",
       "      <td>/data/srlab1/TCAT/Data/PerDataset/XTissueImmun...</td>\n",
       "      <td>NaN</td>\n",
       "      <td>NaN</td>\n",
       "      <td>...</td>\n",
       "      <td>/data/srlab1/TCAT/Data/PerDataset/XTissueImmun...</td>\n",
       "      <td>39.0</td>\n",
       "      <td>0_20</td>\n",
       "      <td>/data/srlab1/TCAT/Data/PerDataset/XTissueImmun...</td>\n",
       "      <td>NaN</td>\n",
       "      <td>/data/srlab1/TCAT/Data/PerDataset/XTissueImmun...</td>\n",
       "      <td>/data/srlab1/TCAT/Data/PerDataset/XTissueImmun...</td>\n",
       "      <td>discovery</td>\n",
       "      <td>Pan-Tissue</td>\n",
       "      <td>Healthy</td>\n",
       "    </tr>\n",
       "    <tr>\n",
       "      <th>Sparks</th>\n",
       "      <td>Sparks</td>\n",
       "      <td>NaN</td>\n",
       "      <td>NaN</td>\n",
       "      <td>NaN</td>\n",
       "      <td>/data/srlab1/TCAT/Data/TCAT/TCAT_Usage.2023101...</td>\n",
       "      <td>NaN</td>\n",
       "      <td>/data/srlab1/TCAT/Data/PerDataset/Sparks2023/M...</td>\n",
       "      <td>/data/srlab1/TCAT/Data/PerDataset/Sparks2023/T...</td>\n",
       "      <td>NaN</td>\n",
       "      <td>NaN</td>\n",
       "      <td>...</td>\n",
       "      <td>NaN</td>\n",
       "      <td>NaN</td>\n",
       "      <td>NaN</td>\n",
       "      <td>NaN</td>\n",
       "      <td>NaN</td>\n",
       "      <td>NaN</td>\n",
       "      <td>/data/srlab1/TCAT/Data/PerDataset/Sparks2023/T...</td>\n",
       "      <td>other</td>\n",
       "      <td>Blood</td>\n",
       "      <td>NaN</td>\n",
       "    </tr>\n",
       "    <tr>\n",
       "      <th>Stimseq</th>\n",
       "      <td>Stimseq</td>\n",
       "      <td>NaN</td>\n",
       "      <td>NaN</td>\n",
       "      <td>NaN</td>\n",
       "      <td>/data/srlab1/TCAT/Data/PerDataset/Stimseq/TCAT...</td>\n",
       "      <td>NaN</td>\n",
       "      <td>NaN</td>\n",
       "      <td>/data/srlab1/TCAT/Analysis/PerDataset/Stimseq/...</td>\n",
       "      <td>NaN</td>\n",
       "      <td>NaN</td>\n",
       "      <td>...</td>\n",
       "      <td>NaN</td>\n",
       "      <td>NaN</td>\n",
       "      <td>NaN</td>\n",
       "      <td>/data/srlab1/TCAT/Data/PerDataset/Stimseq/stim...</td>\n",
       "      <td>NaN</td>\n",
       "      <td>/data/srlab1/TCAT/Data/PerDataset/Stimseq/raw....</td>\n",
       "      <td>/data/srlab1/TCAT/Data/PerDataset/Stimseq/raw....</td>\n",
       "      <td>other</td>\n",
       "      <td>Blood</td>\n",
       "      <td>NaN</td>\n",
       "    </tr>\n",
       "  </tbody>\n",
       "</table>\n",
       "<p>9 rows × 24 columns</p>\n",
       "</div>"
      ],
      "text/plain": [
       "                 dataset                                           usage_fn  \\\n",
       "dataset                                                                       \n",
       "AMP-RA            AMP-RA  /data/srlab1/TCAT/Data/PerDataset/AMPRA/AMPRA....   \n",
       "Pan-Cancer    Pan-Cancer  /data/srlab1/TCAT/Data/PerDataset/Pancancer/Pa...   \n",
       "TBRU                TBRU  /data/srlab1/TCAT/Data/PerDataset/TBRU/TBRU.20...   \n",
       "HIV-Vaccine  HIV-Vaccine  /data/srlab1/TCAT/Data/PerDataset/HaoEtAl/HIVV...   \n",
       "UK-Covid        UK-Covid  /data/srlab1/TCAT/Data/PerDataset/UKCOVID/UKCO...   \n",
       "COMBAT            COMBAT  /data/srlab1/TCAT/Data/PerDataset/COMBAT/COMBA...   \n",
       "Pan-Tissue    Pan-Tissue  /data/srlab1/TCAT/Data/PerDataset/XTissueImmun...   \n",
       "Sparks            Sparks                                                NaN   \n",
       "Stimseq          Stimseq                                                NaN   \n",
       "\n",
       "                                                gene_scores_fn  \\\n",
       "dataset                                                          \n",
       "AMP-RA       /data/srlab1/TCAT/Data/PerDataset/AMPRA/AMPRA....   \n",
       "Pan-Cancer   /data/srlab1/TCAT/Data/PerDataset/Pancancer/Pa...   \n",
       "TBRU         /data/srlab1/TCAT/Data/PerDataset/TBRU/TBRU.20...   \n",
       "HIV-Vaccine  /data/srlab1/TCAT/Data/PerDataset/HaoEtAl/HIVV...   \n",
       "UK-Covid     /data/srlab1/TCAT/Data/PerDataset/UKCOVID/UKCO...   \n",
       "COMBAT       /data/srlab1/TCAT/Data/PerDataset/COMBAT/COMBA...   \n",
       "Pan-Tissue   /data/srlab1/TCAT/Data/PerDataset/XTissueImmun...   \n",
       "Sparks                                                     NaN   \n",
       "Stimseq                                                    NaN   \n",
       "\n",
       "                                                   gene_tpm_fn  \\\n",
       "dataset                                                          \n",
       "AMP-RA       /data/srlab1/TCAT/Data/PerDataset/AMPRA/AMPRA....   \n",
       "Pan-Cancer   /data/srlab1/TCAT/Data/PerDataset/Pancancer/Pa...   \n",
       "TBRU         /data/srlab1/TCAT/Data/PerDataset/TBRU/TBRU.20...   \n",
       "HIV-Vaccine  /data/srlab1/TCAT/Data/PerDataset/HaoEtAl/HIVV...   \n",
       "UK-Covid     /data/srlab1/TCAT/Data/PerDataset/UKCOVID/UKCO...   \n",
       "COMBAT       /data/srlab1/TCAT/Data/PerDataset/COMBAT/COMBA...   \n",
       "Pan-Tissue   /data/srlab1/TCAT/Data/PerDataset/XTissueImmun...   \n",
       "Sparks                                                     NaN   \n",
       "Stimseq                                                    NaN   \n",
       "\n",
       "                                                       tcat_fn  \\\n",
       "dataset                                                          \n",
       "AMP-RA       /data/srlab1/TCAT/Data/TCAT/TCAT_Usage.2023101...   \n",
       "Pan-Cancer   /data/srlab1/TCAT/Data/TCAT/TCAT_Usage.2023101...   \n",
       "TBRU         /data/srlab1/TCAT/Data/TCAT/TCAT_Usage.2023101...   \n",
       "HIV-Vaccine  /data/srlab1/TCAT/Data/TCAT/TCAT_Usage.2023101...   \n",
       "UK-Covid     /data/srlab1/TCAT/Data/TCAT/TCAT_Usage.2023101...   \n",
       "COMBAT       /data/srlab1/TCAT/Data/TCAT/TCAT_Usage.2023101...   \n",
       "Pan-Tissue   /data/srlab1/TCAT/Data/TCAT/TCAT_Usage.2023101...   \n",
       "Sparks       /data/srlab1/TCAT/Data/TCAT/TCAT_Usage.2023101...   \n",
       "Stimseq      /data/srlab1/TCAT/Data/PerDataset/Stimseq/TCAT...   \n",
       "\n",
       "                                        tcat_fn_withsingletons  \\\n",
       "dataset                                                          \n",
       "AMP-RA       /data/srlab1/TCAT/Data/TCAT/TCAT_Usage.2023101...   \n",
       "Pan-Cancer   /data/srlab1/TCAT/Data/TCAT/TCAT_Usage.2023101...   \n",
       "TBRU         /data/srlab1/TCAT/Data/TCAT/TCAT_Usage.2023101...   \n",
       "HIV-Vaccine  /data/srlab1/TCAT/Data/TCAT/TCAT_Usage.2023101...   \n",
       "UK-Covid     /data/srlab1/TCAT/Data/TCAT/TCAT_Usage.2023101...   \n",
       "COMBAT       /data/srlab1/TCAT/Data/TCAT/TCAT_Usage.2023101...   \n",
       "Pan-Tissue   /data/srlab1/TCAT/Data/TCAT/TCAT_Usage.2023101...   \n",
       "Sparks                                                     NaN   \n",
       "Stimseq                                                    NaN   \n",
       "\n",
       "                                              manual_gating_fn  \\\n",
       "dataset                                                          \n",
       "AMP-RA                                                     NaN   \n",
       "Pan-Cancer                                                 NaN   \n",
       "TBRU                                                       NaN   \n",
       "HIV-Vaccine  /data/srlab1/TCAT/Data/PerDataset/HaoEtAl/Manu...   \n",
       "UK-Covid                                                   NaN   \n",
       "COMBAT       /data/srlab1/TCAT/Data/PerDataset/COMBAT/Manua...   \n",
       "Pan-Tissue                                                 NaN   \n",
       "Sparks       /data/srlab1/TCAT/Data/PerDataset/Sparks2023/M...   \n",
       "Stimseq                                                    NaN   \n",
       "\n",
       "                                                   metadata_fn  \\\n",
       "dataset                                                          \n",
       "AMP-RA       /data/srlab1/TCAT/Data/PerDataset/AMPRA/AMP_AD...   \n",
       "Pan-Cancer   /data/srlab1/TCAT/Data/PerDataset/Pancancer/pa...   \n",
       "TBRU         /data/srlab1/TCAT/Data/PerDataset/TBRU/tbru_ex...   \n",
       "HIV-Vaccine  /data/srlab1/TCAT/Data/PerDataset/HaoEtAl/haoe...   \n",
       "UK-Covid     /data/srlab1/TCAT/Data/PerDataset/UKCOVID/hani...   \n",
       "COMBAT       /data/srlab1/TCAT/Data/PerDataset/COMBAT/COMBA...   \n",
       "Pan-Tissue   /data/srlab1/TCAT/Data/PerDataset/XTissueImmun...   \n",
       "Sparks       /data/srlab1/TCAT/Data/PerDataset/Sparks2023/T...   \n",
       "Stimseq      /data/srlab1/TCAT/Analysis/PerDataset/Stimseq/...   \n",
       "\n",
       "                                      Processing notebook path  \\\n",
       "dataset                                                          \n",
       "AMP-RA                                                     NaN   \n",
       "Pan-Cancer                                                 NaN   \n",
       "TBRU                                                       NaN   \n",
       "HIV-Vaccine  /data/srlab1/TCAT/Analysis/PerDataset/HaoEtAl/...   \n",
       "UK-Covid                                                   NaN   \n",
       "COMBAT                                                     NaN   \n",
       "Pan-Tissue                                                 NaN   \n",
       "Sparks                                                     NaN   \n",
       "Stimseq                                                    NaN   \n",
       "\n",
       "                                            cNMF notebook path  ...  \\\n",
       "dataset                                                         ...   \n",
       "AMP-RA                                                     NaN  ...   \n",
       "Pan-Cancer                                                 NaN  ...   \n",
       "TBRU                                                       NaN  ...   \n",
       "HIV-Vaccine  /data/srlab1/TCAT/Analysis/PerDataset/HaoEtAl/...  ...   \n",
       "UK-Covid                                                   NaN  ...   \n",
       "COMBAT                                                     NaN  ...   \n",
       "Pan-Tissue                                                 NaN  ...   \n",
       "Sparks                                                     NaN  ...   \n",
       "Stimseq                                                    NaN  ...   \n",
       "\n",
       "                                                      cnmf_dir     k    dt  \\\n",
       "dataset                                                                      \n",
       "AMP-RA                 /data/srlab1/TCAT/Data/PerDataset/AMPRA  34.0  0_15   \n",
       "Pan-Cancer         /data/srlab1/TCAT/Data/PerDataset/Pancancer  38.0  0.15   \n",
       "TBRU                    /data/srlab1/TCAT/Data/PerDataset/TBRU  36.0  0_20   \n",
       "HIV-Vaccine          /data/srlab1/TCAT/Data/PerDataset/HaoEtAl  31.0  0_15   \n",
       "UK-Covid             /data/srlab1/TCAT/Data/PerDataset/UKCOVID  44.0  0_20   \n",
       "COMBAT                /data/srlab1/TCAT/Data/PerDataset/COMBAT  35.0  0_15   \n",
       "Pan-Tissue   /data/srlab1/TCAT/Data/PerDataset/XTissueImmun...  39.0  0_20   \n",
       "Sparks                                                     NaN   NaN   NaN   \n",
       "Stimseq                                                    NaN   NaN   NaN   \n",
       "\n",
       "                                          processed_forcnmf_fn  \\\n",
       "dataset                                                          \n",
       "AMP-RA       /data/srlab1/TCAT/Data/PerDataset/AMPRA/AMP_AD...   \n",
       "Pan-Cancer   /data/srlab1/TCAT/Data/PerDataset/Pancancer/pa...   \n",
       "TBRU         /data/srlab1/TCAT/Data/PerDataset/TBRU/tbru_ex...   \n",
       "HIV-Vaccine  /data/srlab1/TCAT/Data/PerDataset/HaoEtAl/haoe...   \n",
       "UK-Covid     /data/srlab1/TCAT/Data/PerDataset/UKCOVID/hani...   \n",
       "COMBAT       /data/srlab1/TCAT/Data/PerDataset/COMBAT/COMBA...   \n",
       "Pan-Tissue   /data/srlab1/TCAT/Data/PerDataset/XTissueImmun...   \n",
       "Sparks                                                     NaN   \n",
       "Stimseq      /data/srlab1/TCAT/Data/PerDataset/Stimseq/stim...   \n",
       "\n",
       "                                        tpm_counts_for_cnmf_fn  \\\n",
       "dataset                                                          \n",
       "AMP-RA       /data/srlab1/TCAT/Data/PerDataset/AMPRA/AMP_AD...   \n",
       "Pan-Cancer                                                 NaN   \n",
       "TBRU         /data/srlab1/TCAT/Data/PerDataset/TBRU/tbru_ex...   \n",
       "HIV-Vaccine  /data/srlab1/TCAT/Data/PerDataset/HaoEtAl/haoe...   \n",
       "UK-Covid                                                   NaN   \n",
       "COMBAT       /data/srlab1/TCAT/Data/PerDataset/COMBAT/COMBA...   \n",
       "Pan-Tissue                                                 NaN   \n",
       "Sparks                                                     NaN   \n",
       "Stimseq                                                    NaN   \n",
       "\n",
       "                                            raw_counts_filt_fn  \\\n",
       "dataset                                                          \n",
       "AMP-RA       /data/srlab1/TCAT/Data/PerDataset/AMPRA/AMP_AD...   \n",
       "Pan-Cancer   /data/srlab1/TCAT/Data/PerDataset/Pancancer/pa...   \n",
       "TBRU         /data/srlab1/TCAT/Data/PerDataset/TBRU/tbru_ex...   \n",
       "HIV-Vaccine  /data/srlab1/TCAT/Data/PerDataset/HaoEtAl/haoe...   \n",
       "UK-Covid     /data/srlab1/TCAT/Data/PerDataset/UKCOVID/hani...   \n",
       "COMBAT       /data/srlab1/TCAT/Data/PerDataset/COMBAT/COMBA...   \n",
       "Pan-Tissue   /data/srlab1/TCAT/Data/PerDataset/XTissueImmun...   \n",
       "Sparks                                                     NaN   \n",
       "Stimseq      /data/srlab1/TCAT/Data/PerDataset/Stimseq/raw....   \n",
       "\n",
       "                                                 raw_counts_fn dataset_type  \\\n",
       "dataset                                                                       \n",
       "AMP-RA       /data/srlab1/TCAT/Data/PerDataset/AMPRA/AMP_AD...    discovery   \n",
       "Pan-Cancer   /data/srlab1/TCAT/Data/PerDataset/Pancancer/pa...    discovery   \n",
       "TBRU         /data/srlab1/TCAT/Data/PerDataset/TBRU/tbru_ex...    discovery   \n",
       "HIV-Vaccine  /data/srlab1/TCAT/Data/PerDataset/HaoEtAl/haoe...    discovery   \n",
       "UK-Covid     /data/srlab1/TCAT/Data/PerDataset/UKCOVID/hani...    discovery   \n",
       "COMBAT       /data/srlab1/TCAT/Data/PerDataset/COMBAT/COMBA...    discovery   \n",
       "Pan-Tissue   /data/srlab1/TCAT/Data/PerDataset/XTissueImmun...    discovery   \n",
       "Sparks       /data/srlab1/TCAT/Data/PerDataset/Sparks2023/T...        other   \n",
       "Stimseq      /data/srlab1/TCAT/Data/PerDataset/Stimseq/raw....        other   \n",
       "\n",
       "            tissue_type         context_label  \n",
       "dataset                                        \n",
       "AMP-RA         Synovium                 RA+OA  \n",
       "Pan-Cancer   Pan-Tissue        Cancer+Healthy  \n",
       "TBRU              Blood               Healthy  \n",
       "HIV-Vaccine       Blood  Post-Vaccine+Healthy  \n",
       "UK-Covid          Blood      Covid-19+Healthy  \n",
       "COMBAT            Blood      Covid-19+Healthy  \n",
       "Pan-Tissue   Pan-Tissue               Healthy  \n",
       "Sparks            Blood                   NaN  \n",
       "Stimseq           Blood                   NaN  \n",
       "\n",
       "[9 rows x 24 columns]"
      ]
     },
     "execution_count": 37,
     "metadata": {},
     "output_type": "execute_result"
    }
   ],
   "source": [
    "dataset_paths = read_dataset_log('Dataset Paths')\n",
    "dataset_paths.index = dataset_paths['dataset']\n",
    "dataset_paths"
   ]
  },
  {
   "cell_type": "code",
   "execution_count": 38,
   "id": "3718fad5-d548-44f9-857c-4aebced68f56",
   "metadata": {},
   "outputs": [
    {
     "name": "stdout",
     "output_type": "stream",
     "text": [
      "WARNING: Your filename has more than two extensions: ['.mincellfilt', '.htonegfilt', '.doubletfilt', '.h5ad'].\n",
      "Only considering the two last: ['.doubletfilt', '.h5ad'].\n",
      "WARNING: Your filename has more than two extensions: ['.mincellfilt', '.htonegfilt', '.doubletfilt', '.h5ad'].\n",
      "Only considering the two last: ['.doubletfilt', '.h5ad'].\n"
     ]
    }
   ],
   "source": [
    "adata = sc.read(dataset_paths.loc['Stimseq', 'raw_counts_fn'])"
   ]
  },
  {
   "cell_type": "code",
   "execution_count": 39,
   "id": "34a59572-8c8e-47fd-84f4-014025ba8f67",
   "metadata": {},
   "outputs": [
    {
     "data": {
      "text/plain": [
       "AnnData object with n_obs × n_vars = 43222 × 36738\n",
       "    obs: 'barcode', 'BRI', 'Run', 'Well', 'Batch', 'Biobank_ID', 'Sort_Status', 'HTO_Status', 'Demuxlet_Assignment', 'Total_RNA_Count', 'Total_ADT_Count', 'Total_HTO_Count', 'frac_ADT', 'A_cdr3', 'B_cdr3', 'DEMUX_RD.UNIQ', 'DEMUX_N.SNP', 'DEMUX_BEST', 'DEMUX_SNG.1ST', 'DEMUX_SNG.LLK1', 'DEMUX_DBL.1ST', 'DEMUX_DBL.2ND', 'DEMUX_LLK12', 'DEMUX_PRB.DBL', 'DEMUX_PRB.SNG1', 'batch_name', 'B_is_cell', 'B_high_confidence', 'B_full_length', 'B_productive', 'B_length', 'B_v_gene', 'B_d_gene', 'B_j_gene', 'B_c_gene', 'B_cdr1', 'B_cdr2', 'B_cdr3_nt', 'B_reads', 'B_umis', 'B_raw_clonotype_id', 'B_raw_consensus_id', 'B_Num_Hits_In_Barcode', 'B_Next_Highest_ReadCount', 'B_Num_Productive_In_Barcode', 'B_Has_Unproductive', 'A_is_cell', 'A_high_confidence', 'A_full_length', 'A_productive', 'A_length', 'A_v_gene', 'A_d_gene', 'A_j_gene', 'A_c_gene', 'A_cdr1', 'A_cdr2', 'A_cdr3_nt', 'A_reads', 'A_umis', 'A_raw_clonotype_id', 'A_raw_consensus_id', 'A_Num_Hits_In_Barcode', 'A_Next_Highest_ReadCount', 'A_Num_Productive_In_Barcode', 'A_Has_Unproductive', 'B_Possible_TCR_Doublet', 'A_Possible_TCR_Doublet', 'DEMUX_BEST_Category', 'Hashtag1', 'Hashtag2', 'Hashtag3'\n",
       "    var: 'gene_sybmol', 'gene_name', 'feature_type'"
      ]
     },
     "execution_count": 39,
     "metadata": {},
     "output_type": "execute_result"
    }
   ],
   "source": [
    "adata"
   ]
  },
  {
   "cell_type": "code",
   "execution_count": 40,
   "id": "05b9b83e-bc6f-4551-86db-5f6c942384eb",
   "metadata": {},
   "outputs": [
    {
     "data": {
      "text/html": [
       "<div>\n",
       "<style scoped>\n",
       "    .dataframe tbody tr th:only-of-type {\n",
       "        vertical-align: middle;\n",
       "    }\n",
       "\n",
       "    .dataframe tbody tr th {\n",
       "        vertical-align: top;\n",
       "    }\n",
       "\n",
       "    .dataframe thead th {\n",
       "        text-align: right;\n",
       "    }\n",
       "</style>\n",
       "<table border=\"1\" class=\"dataframe\">\n",
       "  <thead>\n",
       "    <tr style=\"text-align: right;\">\n",
       "      <th></th>\n",
       "      <th>barcode</th>\n",
       "      <th>BRI</th>\n",
       "      <th>Run</th>\n",
       "      <th>Well</th>\n",
       "      <th>Batch</th>\n",
       "      <th>Biobank_ID</th>\n",
       "      <th>Sort_Status</th>\n",
       "      <th>HTO_Status</th>\n",
       "      <th>Demuxlet_Assignment</th>\n",
       "      <th>Total_RNA_Count</th>\n",
       "      <th>...</th>\n",
       "      <th>A_Num_Hits_In_Barcode</th>\n",
       "      <th>A_Next_Highest_ReadCount</th>\n",
       "      <th>A_Num_Productive_In_Barcode</th>\n",
       "      <th>A_Has_Unproductive</th>\n",
       "      <th>B_Possible_TCR_Doublet</th>\n",
       "      <th>A_Possible_TCR_Doublet</th>\n",
       "      <th>DEMUX_BEST_Category</th>\n",
       "      <th>Hashtag1</th>\n",
       "      <th>Hashtag2</th>\n",
       "      <th>Hashtag3</th>\n",
       "    </tr>\n",
       "  </thead>\n",
       "  <tbody>\n",
       "    <tr>\n",
       "      <th>3_AAACCTGAGACCGGAT</th>\n",
       "      <td>AAACCTGAGACCGGAT-1</td>\n",
       "      <td>2248_hashing</td>\n",
       "      <td>2</td>\n",
       "      <td>1</td>\n",
       "      <td>3</td>\n",
       "      <td>10042029</td>\n",
       "      <td>+</td>\n",
       "      <td>Hashtag3 (+)</td>\n",
       "      <td>SNG</td>\n",
       "      <td>1443</td>\n",
       "      <td>...</td>\n",
       "      <td>NaN</td>\n",
       "      <td>NaN</td>\n",
       "      <td>NaN</td>\n",
       "      <td>nan</td>\n",
       "      <td>nan</td>\n",
       "      <td>nan</td>\n",
       "      <td>SNG</td>\n",
       "      <td>8</td>\n",
       "      <td>19</td>\n",
       "      <td>4305</td>\n",
       "    </tr>\n",
       "    <tr>\n",
       "      <th>3_AAACCTGAGAGGGCTT</th>\n",
       "      <td>AAACCTGAGAGGGCTT-1</td>\n",
       "      <td>2248_hashing</td>\n",
       "      <td>2</td>\n",
       "      <td>1</td>\n",
       "      <td>3</td>\n",
       "      <td>10057029</td>\n",
       "      <td>U</td>\n",
       "      <td>Hashtag1 (U)</td>\n",
       "      <td>SNG</td>\n",
       "      <td>3508</td>\n",
       "      <td>...</td>\n",
       "      <td>2.0</td>\n",
       "      <td>67.0</td>\n",
       "      <td>1.0</td>\n",
       "      <td>True</td>\n",
       "      <td>Productive Singleton</td>\n",
       "      <td>Productive Singleton</td>\n",
       "      <td>SNG</td>\n",
       "      <td>391</td>\n",
       "      <td>61</td>\n",
       "      <td>138</td>\n",
       "    </tr>\n",
       "    <tr>\n",
       "      <th>3_AAACCTGAGAGTCTGG</th>\n",
       "      <td>AAACCTGAGAGTCTGG-1</td>\n",
       "      <td>2248_hashing</td>\n",
       "      <td>2</td>\n",
       "      <td>1</td>\n",
       "      <td>3</td>\n",
       "      <td>10049452</td>\n",
       "      <td>+</td>\n",
       "      <td>Hashtag3 (+)</td>\n",
       "      <td>SNG</td>\n",
       "      <td>18799</td>\n",
       "      <td>...</td>\n",
       "      <td>1.0</td>\n",
       "      <td>NaN</td>\n",
       "      <td>1.0</td>\n",
       "      <td>False</td>\n",
       "      <td>Productive Singleton</td>\n",
       "      <td>Productive Singleton</td>\n",
       "      <td>SNG</td>\n",
       "      <td>9</td>\n",
       "      <td>55</td>\n",
       "      <td>5301</td>\n",
       "    </tr>\n",
       "    <tr>\n",
       "      <th>3_AAACCTGAGCTAGCCC</th>\n",
       "      <td>AAACCTGAGCTAGCCC-1</td>\n",
       "      <td>2248_hashing</td>\n",
       "      <td>2</td>\n",
       "      <td>1</td>\n",
       "      <td>3</td>\n",
       "      <td>10042029</td>\n",
       "      <td>U</td>\n",
       "      <td>Hashtag1 (U)</td>\n",
       "      <td>SNG</td>\n",
       "      <td>4133</td>\n",
       "      <td>...</td>\n",
       "      <td>1.0</td>\n",
       "      <td>NaN</td>\n",
       "      <td>0.0</td>\n",
       "      <td>True</td>\n",
       "      <td>Productive Singleton</td>\n",
       "      <td>Unproductive Singleton</td>\n",
       "      <td>SNG</td>\n",
       "      <td>1477</td>\n",
       "      <td>50</td>\n",
       "      <td>153</td>\n",
       "    </tr>\n",
       "    <tr>\n",
       "      <th>3_AAACCTGAGCTGCCCA</th>\n",
       "      <td>AAACCTGAGCTGCCCA-1</td>\n",
       "      <td>2248_hashing</td>\n",
       "      <td>2</td>\n",
       "      <td>1</td>\n",
       "      <td>3</td>\n",
       "      <td>10057029</td>\n",
       "      <td>+</td>\n",
       "      <td>Hashtag3 (+)</td>\n",
       "      <td>SNG</td>\n",
       "      <td>10485</td>\n",
       "      <td>...</td>\n",
       "      <td>1.0</td>\n",
       "      <td>NaN</td>\n",
       "      <td>1.0</td>\n",
       "      <td>False</td>\n",
       "      <td>Productive Singleton</td>\n",
       "      <td>Productive Singleton</td>\n",
       "      <td>SNG</td>\n",
       "      <td>17</td>\n",
       "      <td>39</td>\n",
       "      <td>8338</td>\n",
       "    </tr>\n",
       "  </tbody>\n",
       "</table>\n",
       "<p>5 rows × 72 columns</p>\n",
       "</div>"
      ],
      "text/plain": [
       "                               barcode           BRI  Run  Well  Batch  \\\n",
       "3_AAACCTGAGACCGGAT  AAACCTGAGACCGGAT-1  2248_hashing    2     1      3   \n",
       "3_AAACCTGAGAGGGCTT  AAACCTGAGAGGGCTT-1  2248_hashing    2     1      3   \n",
       "3_AAACCTGAGAGTCTGG  AAACCTGAGAGTCTGG-1  2248_hashing    2     1      3   \n",
       "3_AAACCTGAGCTAGCCC  AAACCTGAGCTAGCCC-1  2248_hashing    2     1      3   \n",
       "3_AAACCTGAGCTGCCCA  AAACCTGAGCTGCCCA-1  2248_hashing    2     1      3   \n",
       "\n",
       "                   Biobank_ID Sort_Status    HTO_Status Demuxlet_Assignment  \\\n",
       "3_AAACCTGAGACCGGAT   10042029           +  Hashtag3 (+)                 SNG   \n",
       "3_AAACCTGAGAGGGCTT   10057029           U  Hashtag1 (U)                 SNG   \n",
       "3_AAACCTGAGAGTCTGG   10049452           +  Hashtag3 (+)                 SNG   \n",
       "3_AAACCTGAGCTAGCCC   10042029           U  Hashtag1 (U)                 SNG   \n",
       "3_AAACCTGAGCTGCCCA   10057029           +  Hashtag3 (+)                 SNG   \n",
       "\n",
       "                    Total_RNA_Count  ...  A_Num_Hits_In_Barcode  \\\n",
       "3_AAACCTGAGACCGGAT             1443  ...                    NaN   \n",
       "3_AAACCTGAGAGGGCTT             3508  ...                    2.0   \n",
       "3_AAACCTGAGAGTCTGG            18799  ...                    1.0   \n",
       "3_AAACCTGAGCTAGCCC             4133  ...                    1.0   \n",
       "3_AAACCTGAGCTGCCCA            10485  ...                    1.0   \n",
       "\n",
       "                    A_Next_Highest_ReadCount  A_Num_Productive_In_Barcode  \\\n",
       "3_AAACCTGAGACCGGAT                       NaN                          NaN   \n",
       "3_AAACCTGAGAGGGCTT                      67.0                          1.0   \n",
       "3_AAACCTGAGAGTCTGG                       NaN                          1.0   \n",
       "3_AAACCTGAGCTAGCCC                       NaN                          0.0   \n",
       "3_AAACCTGAGCTGCCCA                       NaN                          1.0   \n",
       "\n",
       "                   A_Has_Unproductive B_Possible_TCR_Doublet  \\\n",
       "3_AAACCTGAGACCGGAT                nan                    nan   \n",
       "3_AAACCTGAGAGGGCTT               True   Productive Singleton   \n",
       "3_AAACCTGAGAGTCTGG              False   Productive Singleton   \n",
       "3_AAACCTGAGCTAGCCC               True   Productive Singleton   \n",
       "3_AAACCTGAGCTGCCCA              False   Productive Singleton   \n",
       "\n",
       "                    A_Possible_TCR_Doublet  DEMUX_BEST_Category Hashtag1  \\\n",
       "3_AAACCTGAGACCGGAT                     nan                  SNG        8   \n",
       "3_AAACCTGAGAGGGCTT    Productive Singleton                  SNG      391   \n",
       "3_AAACCTGAGAGTCTGG    Productive Singleton                  SNG        9   \n",
       "3_AAACCTGAGCTAGCCC  Unproductive Singleton                  SNG     1477   \n",
       "3_AAACCTGAGCTGCCCA    Productive Singleton                  SNG       17   \n",
       "\n",
       "                    Hashtag2  Hashtag3  \n",
       "3_AAACCTGAGACCGGAT        19      4305  \n",
       "3_AAACCTGAGAGGGCTT        61       138  \n",
       "3_AAACCTGAGAGTCTGG        55      5301  \n",
       "3_AAACCTGAGCTAGCCC        50       153  \n",
       "3_AAACCTGAGCTGCCCA        39      8338  \n",
       "\n",
       "[5 rows x 72 columns]"
      ]
     },
     "execution_count": 40,
     "metadata": {},
     "output_type": "execute_result"
    }
   ],
   "source": [
    "adata.obs.head()"
   ]
  },
  {
   "cell_type": "code",
   "execution_count": 41,
   "id": "7a33feb2-7492-41dc-b431-eae63bf2242c",
   "metadata": {},
   "outputs": [
    {
     "data": {
      "text/plain": [
       "(17339, 17339)"
      ]
     },
     "execution_count": 41,
     "metadata": {},
     "output_type": "execute_result"
    }
   ],
   "source": [
    "len(set(adata.obs.index[adata.obs['BRI']=='2248_hashing'])), len(set(adata.obs.index[adata.obs['BRI']=='2248_hashing']).intersection(umi_per_cell.index))"
   ]
  },
  {
   "cell_type": "code",
   "execution_count": 42,
   "id": "0f06bdc4-2f2c-4d9e-9e6c-d93f598bbc01",
   "metadata": {},
   "outputs": [],
   "source": [
    "run_cells = adata.obs.index[adata.obs['BRI']=='2248_hashing']"
   ]
  },
  {
   "cell_type": "code",
   "execution_count": 43,
   "id": "e9ebbd35-f7aa-4427-b46e-480bad7e79e9",
   "metadata": {},
   "outputs": [
    {
     "data": {
      "text/plain": [
       "View of AnnData object with n_obs × n_vars = 17339 × 36738\n",
       "    obs: 'barcode', 'BRI', 'Run', 'Well', 'Batch', 'Biobank_ID', 'Sort_Status', 'HTO_Status', 'Demuxlet_Assignment', 'Total_RNA_Count', 'Total_ADT_Count', 'Total_HTO_Count', 'frac_ADT', 'A_cdr3', 'B_cdr3', 'DEMUX_RD.UNIQ', 'DEMUX_N.SNP', 'DEMUX_BEST', 'DEMUX_SNG.1ST', 'DEMUX_SNG.LLK1', 'DEMUX_DBL.1ST', 'DEMUX_DBL.2ND', 'DEMUX_LLK12', 'DEMUX_PRB.DBL', 'DEMUX_PRB.SNG1', 'batch_name', 'B_is_cell', 'B_high_confidence', 'B_full_length', 'B_productive', 'B_length', 'B_v_gene', 'B_d_gene', 'B_j_gene', 'B_c_gene', 'B_cdr1', 'B_cdr2', 'B_cdr3_nt', 'B_reads', 'B_umis', 'B_raw_clonotype_id', 'B_raw_consensus_id', 'B_Num_Hits_In_Barcode', 'B_Next_Highest_ReadCount', 'B_Num_Productive_In_Barcode', 'B_Has_Unproductive', 'A_is_cell', 'A_high_confidence', 'A_full_length', 'A_productive', 'A_length', 'A_v_gene', 'A_d_gene', 'A_j_gene', 'A_c_gene', 'A_cdr1', 'A_cdr2', 'A_cdr3_nt', 'A_reads', 'A_umis', 'A_raw_clonotype_id', 'A_raw_consensus_id', 'A_Num_Hits_In_Barcode', 'A_Next_Highest_ReadCount', 'A_Num_Productive_In_Barcode', 'A_Has_Unproductive', 'B_Possible_TCR_Doublet', 'A_Possible_TCR_Doublet', 'DEMUX_BEST_Category', 'Hashtag1', 'Hashtag2', 'Hashtag3'\n",
       "    var: 'gene_sybmol', 'gene_name', 'feature_type'"
      ]
     },
     "execution_count": 43,
     "metadata": {},
     "output_type": "execute_result"
    }
   ],
   "source": [
    "adata = adata[run_cells, :]\n",
    "adata"
   ]
  },
  {
   "cell_type": "code",
   "execution_count": 44,
   "id": "c9d47a65-a97a-4632-bc5e-f19b462fbabd",
   "metadata": {},
   "outputs": [],
   "source": [
    "umi_per_cell_filt = umi_per_cell.loc[run_cells, :]"
   ]
  },
  {
   "cell_type": "code",
   "execution_count": 45,
   "id": "d5615add-6eff-498c-8683-adcb22d9f2e7",
   "metadata": {},
   "outputs": [
    {
     "data": {
      "text/plain": [
       "<matplotlib.collections.PathCollection at 0x7f3fb6cea2e0>"
      ]
     },
     "execution_count": 45,
     "metadata": {},
     "output_type": "execute_result"
    },
    {
     "data": {
      "image/png": "[encoded data removed]",
      "text/plain": [
       "<Figure size 400x400 with 1 Axes>"
      ]
     },
     "metadata": {},
     "output_type": "display_data"
    }
   ],
   "source": [
    "(fig,ax) = plt.subplots(1,1, figsize=(2,2), dpi=200)\n",
    "ax.scatter(umi_per_cell_filt[['Exonic', 'Intronic']].sum(axis=1), adata.obs['Total_RNA_Count'], s=1)"
   ]
  },
  {
   "cell_type": "code",
   "execution_count": 46,
   "id": "e6b3bc70-9f8a-4fca-a37e-48162bb06a2e",
   "metadata": {},
   "outputs": [
    {
     "data": {
      "text/plain": [
       "3_AAACCTGAGACCGGAT     225.0\n",
       "3_AAACCTGAGAGGGCTT     874.0\n",
       "3_AAACCTGAGAGTCTGG    4697.0\n",
       "3_AAACCTGAGCTAGCCC     973.0\n",
       "3_AAACCTGAGCTGCCCA    2564.0\n",
       "                       ...  \n",
       "3_TTTGTCATCCCATTAT    2341.0\n",
       "3_TTTGTCATCCGTCAAA     378.0\n",
       "3_TTTGTCATCGGTGTCG     814.0\n",
       "3_TTTGTCATCTGGTTCC    2176.0\n",
       "3_TTTGTCATCTGTCTAT    2430.0\n",
       "Length: 17339, dtype: float64"
      ]
     },
     "execution_count": 46,
     "metadata": {},
     "output_type": "execute_result"
    }
   ],
   "source": [
    "umi_per_cell_filt[['Exonic', 'Intronic']].sum(axis=1)"
   ]
  },
  {
   "cell_type": "code",
   "execution_count": 47,
   "id": "43743e9a-594f-4e71-a1ac-18349d54a6c3",
   "metadata": {},
   "outputs": [
    {
     "data": {
      "text/plain": [
       "Text(0.5, 0, 'Proportion intergenic reads')"
      ]
     },
     "execution_count": 47,
     "metadata": {},
     "output_type": "execute_result"
    },
    {
     "data": {
      "image/png": "[encoded data removed]",
      "text/plain": [
       "<Figure size 640x480 with 1 Axes>"
      ]
     },
     "metadata": {},
     "output_type": "display_data"
    }
   ],
   "source": [
    "intergenic_proportion = umi_per_cell_filt['Intergenic'] / (umi_per_cell_filt['Intergenic'] + umi_per_cell_filt['Exonic'])\n",
    "_ = plt.hist(intergenic_proportion, bins=100)\n",
    "plt.xlabel('Proportion intergenic reads')"
   ]
  },
  {
   "cell_type": "code",
   "execution_count": 48,
   "id": "81ad6a43-4264-4779-8f6d-545ec45a910b",
   "metadata": {},
   "outputs": [
    {
     "name": "stdout",
     "output_type": "stream",
     "text": [
      "ActivationLogisticRegression.sav\n",
      "ADT_TP10KCLR_ForMAGIC.h5ad\n",
      "count_intergenic_BRI-2248_hashing.tsv\n",
      "ManualGating.Magic.20230831.tsv\n",
      "ManualGating.Magic.FinalLabel.20230831.tsv\n",
      "ManualGating.MagicMarker.RNA_LogTP10KADT.ADT_CLRTP10K.tsv\n",
      "ManualGating.UnsmoothedMarker.RNA_LogTP10KADT.ADT_CLRTP10K.tsv\n",
      "raw.mincellfilt.htonegfilt.doubletfilt.h5ad\n",
      "RNA_logTP1K_ForMAGIC.h5ad\n",
      "Sorts\n",
      "Stimseq_learnHarmonyRNA_RefitBoth\n",
      "stimseq.pilot2.ADT.TP10K.VarNorm.leidenRNA_MI.tsv\n",
      "stimseq.pilot2.ADT.VarNorm.HarmonyGeneCorrect.h5ad\n",
      "stimseq.pilot2.ADT.VarNorm.HVG.HarmonyGeneCorrect.h5ad\n",
      "stimseq.pilot2.metadata.tsv\n",
      "stimseq.pilot2.metadata.withgating.tsv\n",
      "stimseq.pilot2.RNA_and_ADT.TP10K.h5ad\n",
      "stimseq.pilot2.RNA_and_ADT.TP10K.VarNorm.HVG.HarmonyGeneCorrect.WNN.UMAP.tsv\n",
      "stimseq.pilot2.RNA_and_ADT.VarNorm.HVG.HarmonyGeneCorrect.h5ad\n",
      "stimseq.pilot2.RNA_and_ADT.VarNorm.HVG.HarmonyGeneCorrect.h5mu\n",
      "stimseq.pilot2.RNA.HVGlist.tsv\n",
      "stimseq.pilot2.RNA.VarNorm.HVG.HarmonyGeneCorrect.h5ad\n",
      "TCAT.20231005.tsv\n",
      "TCAT.20231201.tsv\n"
     ]
    }
   ],
   "source": [
    "! ls ../../../Data/PerDataset/Stimseq"
   ]
  },
  {
   "cell_type": "code",
   "execution_count": 58,
   "id": "2d230721-dfd4-49d2-9a9d-8a818b04fc61",
   "metadata": {},
   "outputs": [],
   "source": [
    "cgepnames = read_dataset_log('cGEP_Name')\n",
    "renmap = dict(zip(cgepnames['cGep_Name'], cgepnames['Short_Name']))"
   ]
  },
  {
   "cell_type": "code",
   "execution_count": 59,
   "id": "09dfee4e-36c8-4031-93ef-2093f364815f",
   "metadata": {},
   "outputs": [],
   "source": [
    "tcat_usage = pd.read_csv(dataset_paths.loc['Stimseq', 'tcat_fn'], sep='\\t', index_col=0)\n",
    "tcat_usage = tcat_usage.rename(columns=renmap)\n",
    "tcat_usage_norm = tcat_usage.div(tcat_usage.sum(axis=1), axis=0)\n"
   ]
  },
  {
   "cell_type": "code",
   "execution_count": 60,
   "id": "ebd063e0-58d1-46bf-a0de-23c3556cc9e0",
   "metadata": {},
   "outputs": [],
   "source": [
    "overlap = list(set(tcat_usage_norm.index).intersection(intergenic_proportion.index))"
   ]
  },
  {
   "cell_type": "code",
   "execution_count": 61,
   "id": "c456a7db-5f94-43cf-905b-c61c215c001a",
   "metadata": {},
   "outputs": [],
   "source": [
    "tcat_usage_norm = tcat_usage_norm.loc[overlap, :]\n",
    "intergenic_proportion = intergenic_proportion.loc[overlap]"
   ]
  },
  {
   "cell_type": "code",
   "execution_count": 62,
   "id": "c47e2f5b-7098-4e90-9c5c-6bd768b53990",
   "metadata": {},
   "outputs": [
    {
     "data": {
      "text/plain": [
       "MALAT1           0.801214\n",
       "Mito             0.380370\n",
       "Treg             0.133979\n",
       "BCL2-Survival    0.115576\n",
       "Tfh-2            0.091651\n",
       "dtype: float64"
      ]
     },
     "execution_count": 62,
     "metadata": {},
     "output_type": "execute_result"
    }
   ],
   "source": [
    "R = tcat_usage_norm.loc[intergenic_proportion.index, :].corrwith(intergenic_proportion).sort_values(ascending=False)\n",
    "R.head()"
   ]
  },
  {
   "cell_type": "code",
   "execution_count": 72,
   "id": "ccc36fa6-2208-4aa2-a662-74650e687a21",
   "metadata": {},
   "outputs": [
    {
     "data": {
      "image/png": "[encoded data removed]",
      "text/plain": [
       "<Figure size 400x400 with 1 Axes>"
      ]
     },
     "metadata": {},
     "output_type": "display_data"
    }
   ],
   "source": [
    "(fig,ax) = plt.subplots(1,1, figsize=(2,2), dpi=200, gridspec_kw={'left':0.35, 'bottom':0.25})\n",
    "ax.scatter(intergenic_proportion, tcat_usage_norm.loc[intergenic_proportion.index, 'MALAT1'], s=1)\n",
    "ax.set_xlabel('Fraction intergenic', fontsize=10)\n",
    "ax.set_ylabel('MALAT1 Usage', fontsize=10)\n",
    "ax.set_ylim([0,.9])\n",
    "ax.text(0, .8, 'R=%.2f' % R.at['MALAT1'], fontsize=8)\n",
    "plt.savefig('../../../Figures/Components/MALAT1_IntergenicFraction.png')\n",
    "plt.savefig('../../../Figures/Components/MALAT1_IntergenicFraction.pdf')"
   ]
  },
  {
   "cell_type": "code",
   "execution_count": 74,
   "id": "34b5d808-f1fe-4a93-ab55-00ae09da9351",
   "metadata": {},
   "outputs": [
    {
     "data": {
      "image/png": "[encoded data removed]",
      "text/plain": [
       "<Figure size 400x400 with 1 Axes>"
      ]
     },
     "metadata": {},
     "output_type": "display_data"
    }
   ],
   "source": [
    "(fig,ax) = plt.subplots(1,1, figsize=(2,2), dpi=200, gridspec_kw={'left':0.35, 'bottom':0.25})\n",
    "ax.scatter(intergenic_proportion, tcat_usage_norm.loc[intergenic_proportion.index, 'Mito'], s=1)\n",
    "ax.set_xlabel('Fraction intergenic', fontsize=10)\n",
    "ax.set_ylabel('Mito Usage', fontsize=10)\n",
    "ax.set_ylim([0,.9])\n",
    "ax.text(.5, .8, 'R=%.2f' % R.at['Mito'], fontsize=8)\n",
    "plt.savefig('../../../Figures/Components/Mito_IntergenicFraction.png')\n",
    "plt.savefig('../../../Figures/Components/Mito_IntergenicFraction.pdf')"
   ]
  },
  {
   "cell_type": "code",
   "execution_count": null,
   "id": "f5e2eb6f-6ef1-4228-b41d-3db33935fc28",
   "metadata": {},
   "outputs": [],
   "source": []
  },
  {
   "cell_type": "code",
   "execution_count": null,
   "id": "568736f4-45c4-4407-94fe-c25825353e34",
   "metadata": {},
   "outputs": [],
   "source": []
  },
  {
   "cell_type": "code",
   "execution_count": null,
   "id": "1988e4ca-a1b7-4614-b857-9f087203e049",
   "metadata": {},
   "outputs": [],
   "source": []
  },
  {
   "cell_type": "code",
   "execution_count": null,
   "id": "c445e141-6d48-41d3-a0a6-9a9525df7337",
   "metadata": {},
   "outputs": [],
   "source": []
  },
  {
   "cell_type": "code",
   "execution_count": 66,
   "id": "52234040-6023-4966-a627-9866a279a4ac",
   "metadata": {},
   "outputs": [],
   "source": [
    "from scipy.stats import pearsonr"
   ]
  },
  {
   "cell_type": "code",
   "execution_count": 67,
   "id": "ea21c369-b478-4f44-bfee-1e4fb5fcf1c7",
   "metadata": {},
   "outputs": [
    {
     "data": {
      "text/plain": [
       "PearsonRResult(statistic=0.8012141805366858, pvalue=0.0)"
      ]
     },
     "execution_count": 67,
     "metadata": {},
     "output_type": "execute_result"
    }
   ],
   "source": [
    "pearsonr(intergenic_proportion, tcat_usage_norm.loc[intergenic_proportion.index, 'MALAT1'])"
   ]
  },
  {
   "cell_type": "code",
   "execution_count": 68,
   "id": "c2051114-a266-46a4-a46e-8ae054e8b7ab",
   "metadata": {},
   "outputs": [
    {
     "data": {
      "text/plain": [
       "PearsonRResult(statistic=0.38036950292393784, pvalue=0.0)"
      ]
     },
     "execution_count": 68,
     "metadata": {},
     "output_type": "execute_result"
    }
   ],
   "source": [
    "pearsonr(intergenic_proportion, tcat_usage_norm.loc[intergenic_proportion.index, 'Mito'])"
   ]
  },
  {
   "cell_type": "code",
   "execution_count": 28,
   "id": "28b72c5a-df0c-415f-b582-d42e281c6012",
   "metadata": {},
   "outputs": [
    {
     "data": {
      "text/plain": [
       "347"
      ]
     },
     "execution_count": 28,
     "metadata": {},
     "output_type": "execute_result"
    }
   ],
   "source": [
    "cd4_naive = tcat_usage_norm.index[tcat_usage_norm['CD4_Naive_Ribo/T_Naive_T_Naive_Translation_Translation/T_Naive']>.25]\n",
    "len(cd4_naive)"
   ]
  },
  {
   "cell_type": "code",
   "execution_count": 29,
   "id": "a78169bb-c2e7-4532-a010-bf0a2f28687d",
   "metadata": {},
   "outputs": [
    {
     "data": {
      "text/plain": [
       "PoorQuality_PoorQuality1    0.800481\n",
       "Mito                        0.329808\n",
       "Tfh                         0.294887\n",
       "Doublet_Plasmablast         0.291153\n",
       "Pan-Cancer:Tex_Single       0.246178\n",
       "dtype: float64"
      ]
     },
     "execution_count": 29,
     "metadata": {},
     "output_type": "execute_result"
    }
   ],
   "source": [
    "R4naive = tcat_usage_norm.loc[cd4_naive, :].corrwith(intergenic_proportion.loc[cd4_naive]).sort_values(ascending=False)\n",
    "R4naive.head()"
   ]
  },
  {
   "cell_type": "code",
   "execution_count": 30,
   "id": "51bc93b7-e06d-4c92-b82b-2bc0a9a3670a",
   "metadata": {},
   "outputs": [],
   "source": [
    "from scipy.stats import pearsonr"
   ]
  },
  {
   "cell_type": "code",
   "execution_count": 36,
   "id": "3c370c92-c0a1-4c18-819e-e7ab333f99fd",
   "metadata": {},
   "outputs": [],
   "source": [
    "r,p = pearsonr(tcat_usage_norm.loc[intergenic_proportion.index, 'PoorQuality_PoorQuality1'], intergenic_proportion)"
   ]
  },
  {
   "cell_type": "code",
   "execution_count": 39,
   "id": "7247d0e4-0a80-47c2-848a-55351c88d8bd",
   "metadata": {},
   "outputs": [
    {
     "data": {
      "text/plain": [
       "0.9256224011125407"
      ]
     },
     "execution_count": 39,
     "metadata": {},
     "output_type": "execute_result"
    }
   ],
   "source": [
    "r"
   ]
  },
  {
   "cell_type": "code",
   "execution_count": 40,
   "id": "c2bbf8db-8a25-4c54-8733-4e0e53308b80",
   "metadata": {},
   "outputs": [
    {
     "data": {
      "text/plain": [
       "0.0"
      ]
     },
     "execution_count": 40,
     "metadata": {},
     "output_type": "execute_result"
    }
   ],
   "source": [
    "p"
   ]
  },
  {
   "cell_type": "code",
   "execution_count": null,
   "id": "c365a03b-f444-48d3-955f-59c20af9f5f4",
   "metadata": {},
   "outputs": [],
   "source": []
  },
  {
   "cell_type": "code",
   "execution_count": null,
   "id": "434c9360-242b-414e-b9b9-3566d7a415f0",
   "metadata": {},
   "outputs": [],
   "source": []
  },
  {
   "cell_type": "code",
   "execution_count": null,
   "id": "83a59891-7065-4463-a2ae-004b8d74a955",
   "metadata": {},
   "outputs": [],
   "source": []
  },
  {
   "cell_type": "code",
   "execution_count": null,
   "id": "34b86b85-9e96-4137-b290-560b12bfdeda",
   "metadata": {},
   "outputs": [],
   "source": []
  },
  {
   "cell_type": "code",
   "execution_count": null,
   "id": "2adfe5da-77a8-435c-88bd-f840d9614fbe",
   "metadata": {},
   "outputs": [],
   "source": []
  },
  {
   "cell_type": "code",
   "execution_count": null,
   "id": "786c5db3-10f5-4b0e-a0d8-eeb731e632de",
   "metadata": {},
   "outputs": [],
   "source": []
  },
  {
   "cell_type": "code",
   "execution_count": null,
   "id": "2f6833c6-c1a1-4168-b46c-1c2c9a30cc75",
   "metadata": {},
   "outputs": [],
   "source": []
  },
  {
   "cell_type": "code",
   "execution_count": null,
   "id": "f6f961fd-1261-4349-8b9c-0fa9bb661912",
   "metadata": {},
   "outputs": [],
   "source": []
  },
  {
   "cell_type": "code",
   "execution_count": null,
   "id": "af85bcef-9129-4d88-b20f-b63aedae0167",
   "metadata": {},
   "outputs": [],
   "source": []
  },
  {
   "cell_type": "code",
   "execution_count": null,
   "id": "6c822e35-2a0e-48ea-8162-73744428158e",
   "metadata": {},
   "outputs": [],
   "source": []
  },
  {
   "cell_type": "code",
   "execution_count": null,
   "id": "44b500da-9b38-4713-a60b-82e76ccd3390",
   "metadata": {},
   "outputs": [],
   "source": []
  },
  {
   "cell_type": "code",
   "execution_count": null,
   "id": "0184391e-77e0-476b-9fb2-754930500b9c",
   "metadata": {},
   "outputs": [],
   "source": []
  },
  {
   "cell_type": "code",
   "execution_count": null,
   "id": "a232723a-4f62-4e17-99bf-e229fba474d0",
   "metadata": {},
   "outputs": [],
   "source": []
  },
  {
   "cell_type": "code",
   "execution_count": null,
   "id": "61914695-e6fd-4406-8e2a-8e003df7b35d",
   "metadata": {},
   "outputs": [],
   "source": []
  },
  {
   "cell_type": "code",
   "execution_count": null,
   "id": "8a0eae1a-254a-45b5-b080-66cdde5f6227",
   "metadata": {},
   "outputs": [],
   "source": []
  },
  {
   "cell_type": "code",
   "execution_count": null,
   "id": "29b85f91-f8ef-4ac0-b876-845662f9f1cc",
   "metadata": {},
   "outputs": [],
   "source": []
  },
  {
   "cell_type": "code",
   "execution_count": null,
   "id": "b507a064-31a1-4e44-9b64-7949ff74f269",
   "metadata": {},
   "outputs": [],
   "source": []
  },
  {
   "cell_type": "code",
   "execution_count": null,
   "id": "0abb05e1-a355-4298-aa7d-d06b07d351fd",
   "metadata": {},
   "outputs": [],
   "source": []
  },
  {
   "cell_type": "code",
   "execution_count": null,
   "id": "58a1f573-631f-4802-b660-c511bdfe33aa",
   "metadata": {},
   "outputs": [],
   "source": []
  },
  {
   "cell_type": "code",
   "execution_count": null,
   "id": "698b45ea-a678-4c5b-8871-a8b252e56e14",
   "metadata": {},
   "outputs": [],
   "source": []
  },
  {
   "cell_type": "code",
   "execution_count": null,
   "id": "2eac2e56-1571-43db-b68f-4ecb940b3e17",
   "metadata": {},
   "outputs": [],
   "source": []
  },
  {
   "cell_type": "code",
   "execution_count": null,
   "id": "1465bb83-fe98-4a2c-bd2b-18da71c1cc04",
   "metadata": {},
   "outputs": [],
   "source": []
  },
  {
   "cell_type": "code",
   "execution_count": null,
   "id": "c881025e-9874-4c31-8684-7a73eed5b514",
   "metadata": {},
   "outputs": [],
   "source": []
  },
  {
   "cell_type": "code",
   "execution_count": null,
   "id": "dee056c8-bc8f-450d-9b4a-6b1f875fff8a",
   "metadata": {},
   "outputs": [],
   "source": []
  },
  {
   "cell_type": "code",
   "execution_count": null,
   "id": "7c5c7236-f0bd-4283-aeaf-35d2c066b17b",
   "metadata": {},
   "outputs": [],
   "source": []
  },
  {
   "cell_type": "code",
   "execution_count": null,
   "id": "dc2b33f3-3683-4a65-8f0a-425b36df005d",
   "metadata": {},
   "outputs": [],
   "source": []
  },
  {
   "cell_type": "code",
   "execution_count": null,
   "id": "55fd1d2c-4c9e-42b3-8174-5480aa29a842",
   "metadata": {},
   "outputs": [],
   "source": []
  }
 ],
 "metadata": {
  "kernelspec": {
   "display_name": "Python 3 (ipykernel)",
   "language": "python",
   "name": "python3"
  },
  "language_info": {
   "codemirror_mode": {
    "name": "ipython",
    "version": 3
   },
   "file_extension": ".py",
   "mimetype": "text/x-python",
   "name": "python",
   "nbconvert_exporter": "python",
   "pygments_lexer": "ipython3",
   "version": "3.7.12"
  }
 },
 "nbformat": 4,
 "nbformat_minor": 5
}
