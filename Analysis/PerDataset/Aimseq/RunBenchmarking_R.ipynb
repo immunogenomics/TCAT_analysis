{
 "cells": [
  {
   "cell_type": "code",
   "execution_count": 1,
   "id": "749ac527-ffa8-4988-9a02-2d2b75b358af",
   "metadata": {
    "tags": []
   },
   "outputs": [
    {
     "name": "stderr",
     "output_type": "stream",
     "text": [
      "Loading required package: SummarizedExperiment\n",
      "\n",
      "Loading required package: MatrixGenerics\n",
      "\n",
      "Loading required package: matrixStats\n",
      "\n",
      "\n",
      "Attaching package: ‘MatrixGenerics’\n",
      "\n",
      "\n",
      "The following objects are masked from ‘package:matrixStats’:\n",
      "\n",
      "    colAlls, colAnyNAs, colAnys, colAvgsPerRowSet, colCollapse,\n",
      "    colCounts, colCummaxs, colCummins, colCumprods, colCumsums,\n",
      "    colDiffs, colIQRDiffs, colIQRs, colLogSumExps, colMadDiffs,\n",
      "    colMads, colMaxs, colMeans2, colMedians, colMins, colOrderStats,\n",
      "    colProds, colQuantiles, colRanges, colRanks, colSdDiffs, colSds,\n",
      "    colSums2, colTabulates, colVarDiffs, colVars, colWeightedMads,\n",
      "    colWeightedMeans, colWeightedMedians, colWeightedSds,\n",
      "    colWeightedVars, rowAlls, rowAnyNAs, rowAnys, rowAvgsPerColSet,\n",
      "    rowCollapse, rowCounts, rowCummaxs, rowCummins, rowCumprods,\n",
      "    rowCumsums, rowDiffs, rowIQRDiffs, rowIQRs, rowLogSumExps,\n",
      "    rowMadDiffs, rowMads, rowMaxs, rowMeans2, rowMedians, rowMins,\n",
      "    rowOrderStats, rowProds, rowQuantiles, rowRanges, rowRanks,\n",
      "    rowSdDiffs, rowSds, rowSums2, rowTabulates, rowVarDiffs, rowVars,\n",
      "    rowWeightedMads, rowWeightedMeans, rowWeightedMedians,\n",
      "    rowWeightedSds, rowWeightedVars\n",
      "\n",
      "\n",
      "Loading required package: GenomicRanges\n",
      "\n",
      "Loading required package: stats4\n",
      "\n",
      "Loading required package: BiocGenerics\n",
      "\n",
      "\n",
      "Attaching package: ‘BiocGenerics’\n",
      "\n",
      "\n",
      "The following objects are masked from ‘package:stats’:\n",
      "\n",
      "    IQR, mad, sd, var, xtabs\n",
      "\n",
      "\n",
      "The following objects are masked from ‘package:base’:\n",
      "\n",
      "    anyDuplicated, aperm, append, as.data.frame, basename, cbind,\n",
      "    colnames, dirname, do.call, duplicated, eval, evalq, Filter, Find,\n",
      "    get, grep, grepl, intersect, is.unsorted, lapply, Map, mapply,\n",
      "    match, mget, order, paste, pmax, pmax.int, pmin, pmin.int,\n",
      "    Position, rank, rbind, Reduce, rownames, sapply, setdiff, sort,\n",
      "    table, tapply, union, unique, unsplit, which.max, which.min\n",
      "\n",
      "\n",
      "Loading required package: S4Vectors\n",
      "\n",
      "\n",
      "Attaching package: ‘S4Vectors’\n",
      "\n",
      "\n",
      "The following objects are masked from ‘package:base’:\n",
      "\n",
      "    expand.grid, I, unname\n",
      "\n",
      "\n",
      "Loading required package: IRanges\n",
      "\n",
      "Loading required package: GenomeInfoDb\n",
      "\n",
      "Loading required package: Biobase\n",
      "\n",
      "Welcome to Bioconductor\n",
      "\n",
      "    Vignettes contain introductory material; view with\n",
      "    'browseVignettes()'. To cite Bioconductor, see\n",
      "    'citation(\"Biobase\")', and for packages 'citation(\"pkgname\")'.\n",
      "\n",
      "\n",
      "\n",
      "Attaching package: ‘Biobase’\n",
      "\n",
      "\n",
      "The following object is masked from ‘package:MatrixGenerics’:\n",
      "\n",
      "    rowMedians\n",
      "\n",
      "\n",
      "The following objects are masked from ‘package:matrixStats’:\n",
      "\n",
      "    anyMissing, rowMedians\n",
      "\n",
      "\n",
      "Loading required package: SeuratObject\n",
      "\n",
      "Loading required package: sp\n",
      "\n",
      "\n",
      "Attaching package: ‘sp’\n",
      "\n",
      "\n",
      "The following object is masked from ‘package:IRanges’:\n",
      "\n",
      "    %over%\n",
      "\n",
      "\n",
      "\n",
      "Attaching package: ‘SeuratObject’\n",
      "\n",
      "\n",
      "The following object is masked from ‘package:SummarizedExperiment’:\n",
      "\n",
      "    Assays\n",
      "\n",
      "\n",
      "The following object is masked from ‘package:GenomicRanges’:\n",
      "\n",
      "    intersect\n",
      "\n",
      "\n",
      "The following object is masked from ‘package:GenomeInfoDb’:\n",
      "\n",
      "    intersect\n",
      "\n",
      "\n",
      "The following object is masked from ‘package:IRanges’:\n",
      "\n",
      "    intersect\n",
      "\n",
      "\n",
      "The following object is masked from ‘package:S4Vectors’:\n",
      "\n",
      "    intersect\n",
      "\n",
      "\n",
      "The following object is masked from ‘package:BiocGenerics’:\n",
      "\n",
      "    intersect\n",
      "\n",
      "\n",
      "The following objects are masked from ‘package:base’:\n",
      "\n",
      "    intersect, t\n",
      "\n",
      "\n",
      "\n",
      "Attaching package: ‘Seurat’\n",
      "\n",
      "\n",
      "The following object is masked from ‘package:SummarizedExperiment’:\n",
      "\n",
      "    Assays\n",
      "\n",
      "\n",
      "Registered S3 method overwritten by 'SeuratDisk':\n",
      "  method            from  \n",
      "  as.sparse.H5Group Seurat\n",
      "\n",
      "\n",
      "\n",
      "Attaching shinyBS\n",
      "\n",
      "── \u001b[1mAttaching core tidyverse packages\u001b[22m ──────────────────────── tidyverse 2.0.0 ──\n",
      "\u001b[32m✔\u001b[39m \u001b[34mdplyr    \u001b[39m 1.1.4     \u001b[32m✔\u001b[39m \u001b[34mreadr    \u001b[39m 2.1.5\n",
      "\u001b[32m✔\u001b[39m \u001b[34mforcats  \u001b[39m 1.0.0     \u001b[32m✔\u001b[39m \u001b[34mstringr  \u001b[39m 1.5.1\n",
      "\u001b[32m✔\u001b[39m \u001b[34mggplot2  \u001b[39m 3.5.1     \u001b[32m✔\u001b[39m \u001b[34mtibble   \u001b[39m 3.2.1\n",
      "\u001b[32m✔\u001b[39m \u001b[34mlubridate\u001b[39m 1.9.3     \u001b[32m✔\u001b[39m \u001b[34mtidyr    \u001b[39m 1.3.1\n",
      "\u001b[32m✔\u001b[39m \u001b[34mpurrr    \u001b[39m 1.0.2     \n",
      "── \u001b[1mConflicts\u001b[22m ────────────────────────────────────────── tidyverse_conflicts() ──\n",
      "\u001b[31m✖\u001b[39m \u001b[34mlubridate\u001b[39m::\u001b[32m%within%()\u001b[39m masks \u001b[34mIRanges\u001b[39m::%within%()\n",
      "\u001b[31m✖\u001b[39m \u001b[34mdplyr\u001b[39m::\u001b[32mcollapse()\u001b[39m     masks \u001b[34mIRanges\u001b[39m::collapse()\n",
      "\u001b[31m✖\u001b[39m \u001b[34mdplyr\u001b[39m::\u001b[32mcombine()\u001b[39m      masks \u001b[34mBiobase\u001b[39m::combine(), \u001b[34mBiocGenerics\u001b[39m::combine()\n",
      "\u001b[31m✖\u001b[39m \u001b[34mdplyr\u001b[39m::\u001b[32mcount()\u001b[39m        masks \u001b[34mmatrixStats\u001b[39m::count()\n",
      "\u001b[31m✖\u001b[39m \u001b[34mdplyr\u001b[39m::\u001b[32mdesc()\u001b[39m         masks \u001b[34mIRanges\u001b[39m::desc()\n",
      "\u001b[31m✖\u001b[39m \u001b[34mtidyr\u001b[39m::\u001b[32mexpand()\u001b[39m       masks \u001b[34mS4Vectors\u001b[39m::expand()\n",
      "\u001b[31m✖\u001b[39m \u001b[34mdplyr\u001b[39m::\u001b[32mfilter()\u001b[39m       masks \u001b[34mstats\u001b[39m::filter()\n",
      "\u001b[31m✖\u001b[39m \u001b[34mdplyr\u001b[39m::\u001b[32mfirst()\u001b[39m        masks \u001b[34mS4Vectors\u001b[39m::first()\n",
      "\u001b[31m✖\u001b[39m \u001b[34mdplyr\u001b[39m::\u001b[32mlag()\u001b[39m          masks \u001b[34mstats\u001b[39m::lag()\n",
      "\u001b[31m✖\u001b[39m \u001b[34mggplot2\u001b[39m::\u001b[32mPosition()\u001b[39m   masks \u001b[34mBiocGenerics\u001b[39m::Position(), \u001b[34mbase\u001b[39m::Position()\n",
      "\u001b[31m✖\u001b[39m \u001b[34mpurrr\u001b[39m::\u001b[32mreduce()\u001b[39m       masks \u001b[34mGenomicRanges\u001b[39m::reduce(), \u001b[34mIRanges\u001b[39m::reduce()\n",
      "\u001b[31m✖\u001b[39m \u001b[34mdplyr\u001b[39m::\u001b[32mrename()\u001b[39m       masks \u001b[34mS4Vectors\u001b[39m::rename()\n",
      "\u001b[31m✖\u001b[39m \u001b[34mlubridate\u001b[39m::\u001b[32msecond()\u001b[39m   masks \u001b[34mS4Vectors\u001b[39m::second()\n",
      "\u001b[31m✖\u001b[39m \u001b[34mlubridate\u001b[39m::\u001b[32msecond<-()\u001b[39m masks \u001b[34mS4Vectors\u001b[39m::second<-()\n",
      "\u001b[31m✖\u001b[39m \u001b[34mdplyr\u001b[39m::\u001b[32mslice()\u001b[39m        masks \u001b[34mIRanges\u001b[39m::slice()\n",
      "\u001b[36mℹ\u001b[39m Use the conflicted package (\u001b[3m\u001b[34m<http://conflicted.r-lib.org/>\u001b[39m\u001b[23m) to force all conflicts to become errors\n"
     ]
    }
   ],
   "source": [
    "library(zellkonverter)\n",
    "library(SingleCellExperiment)\n",
    "library(Seurat)\n",
    "library(Azimuth)\n",
    "library(tidyverse)"
   ]
  },
  {
   "cell_type": "code",
   "execution_count": 2,
   "id": "193ebda1-69b0-48db-b245-0d55ee45740e",
   "metadata": {},
   "outputs": [
    {
     "name": "stderr",
     "output_type": "stream",
     "text": [
      "Loading required package: Matrix\n",
      "\n",
      "\n",
      "Attaching package: 'Matrix'\n",
      "\n",
      "\n",
      "The following objects are masked from 'package:tidyr':\n",
      "\n",
      "    expand, pack, unpack\n",
      "\n",
      "\n",
      "The following object is masked from 'package:S4Vectors':\n",
      "\n",
      "    expand\n",
      "\n",
      "\n",
      "Loading required package: Rcpp\n",
      "\n"
     ]
    }
   ],
   "source": [
    "library(irlba)\n",
    "library(harmony)\n",
    "library(symphony)"
   ]
  },
  {
   "cell_type": "markdown",
   "id": "bb0f7f7b-9a5e-4a8b-acf1-5c47f7060cb7",
   "metadata": {},
   "source": [
    "# convert AIM-seq h5ad to seurat"
   ]
  },
  {
   "cell_type": "code",
   "execution_count": 4,
   "id": "951e6a63-d261-4921-baa6-3e6da79472c9",
   "metadata": {},
   "outputs": [],
   "source": [
    "counts_fn = '../../../Data/PerDataset/Stimseq/raw.mincellfilt.htonegfilt.doubletfilt.h5ad'"
   ]
  },
  {
   "cell_type": "code",
   "execution_count": 6,
   "id": "274475f1-589a-4197-b95b-0a6a57ef85a5",
   "metadata": {},
   "outputs": [
    {
     "name": "stderr",
     "output_type": "stream",
     "text": [
      "+ /PHShome/mc1070/.cache/R/basilisk/1.10.2/0/bin/conda create --yes --prefix /PHShome/mc1070/.cache/R/basilisk/1.10.2/zellkonverter/1.8.0/zellkonverterAnnDataEnv-0.8.0 'python=3.8.13' --quiet -c conda-forge\n",
      "\n",
      "+ /PHShome/mc1070/.cache/R/basilisk/1.10.2/0/bin/conda install --yes --prefix /PHShome/mc1070/.cache/R/basilisk/1.10.2/zellkonverter/1.8.0/zellkonverterAnnDataEnv-0.8.0 'python=3.8.13' -c conda-forge\n",
      "\n",
      "+ /PHShome/mc1070/.cache/R/basilisk/1.10.2/0/bin/conda install --yes --prefix /PHShome/mc1070/.cache/R/basilisk/1.10.2/zellkonverter/1.8.0/zellkonverterAnnDataEnv-0.8.0 -c conda-forge 'python=3.8.13' 'anndata=0.8.0' 'h5py=3.6.0' 'hdf5=1.12.1' 'natsort=8.1.0' 'numpy=1.22.3' 'packaging=21.3' 'pandas=1.4.2' 'python=3.8.13' 'scipy=1.7.3' 'sqlite=3.38.2'\n",
      "\n"
     ]
    }
   ],
   "source": [
    "# Load the .h5ad file into a SingleCellExperiment object\n",
    "sce = readH5AD(counts_fn)"
   ]
  },
  {
   "cell_type": "code",
   "execution_count": null,
   "id": "9554a795-7b07-4500-89db-5fe3e6b184cb",
   "metadata": {},
   "outputs": [],
   "source": [
    "# Save as a seurat object (RDS file)"
   ]
  },
  {
   "cell_type": "code",
   "execution_count": 13,
   "id": "fceaadd7-2071-40ea-8d2e-98ca625856a6",
   "metadata": {},
   "outputs": [
    {
     "data": {
      "text/html": [
       "'X'"
      ],
      "text/latex": [
       "'X'"
      ],
      "text/markdown": [
       "'X'"
      ],
      "text/plain": [
       "[1] \"X\""
      ]
     },
     "metadata": {},
     "output_type": "display_data"
    }
   ],
   "source": [
    "assayNames(sce)"
   ]
  },
  {
   "cell_type": "code",
   "execution_count": 62,
   "id": "4d30f0ca-ac3d-4bcd-80ae-266e7bbf1120",
   "metadata": {},
   "outputs": [
    {
     "name": "stdout",
     "output_type": "stream",
     "text": [
      "Formal class 'SingleCellExperiment' [package \"SingleCellExperiment\"] with 9 slots\n",
      "  ..@ int_elementMetadata:Formal class 'DFrame' [package \"S4Vectors\"] with 6 slots\n",
      "  ..@ int_colData        :Formal class 'DFrame' [package \"S4Vectors\"] with 6 slots\n",
      "  ..@ int_metadata       :List of 1\n",
      "  .. ..$ version:Classes 'package_version', 'numeric_version'  hidden list of 1\n",
      "  ..@ rowRanges          :Formal class 'CompressedGRangesList' [package \"GenomicRanges\"] with 5 slots\n",
      "  ..@ colData            :Formal class 'DFrame' [package \"S4Vectors\"] with 6 slots\n",
      "  ..@ assays             :Formal class 'SimpleAssays' [package \"SummarizedExperiment\"] with 1 slot\n",
      "  ..@ NAMES              : NULL\n",
      "  ..@ elementMetadata    :Formal class 'DFrame' [package \"S4Vectors\"] with 6 slots\n",
      "  ..@ metadata           : list()\n"
     ]
    }
   ],
   "source": [
    "sce %>% str(3)"
   ]
  },
  {
   "cell_type": "code",
   "execution_count": 54,
   "id": "fd75c388-be7a-48d5-b58c-72b990951e91",
   "metadata": {},
   "outputs": [],
   "source": [
    "saveRDS(sce, '../../../Data/PerDataset/Stimseq/raw.mincellfilt.htonegfilt.doubletfilt.SCE.rds')"
   ]
  },
  {
   "cell_type": "code",
   "execution_count": 32,
   "id": "afa571cc-1290-430d-862c-2d88afa452dc",
   "metadata": {},
   "outputs": [
    {
     "data": {
      "text/plain": [
       "class: SingleCellExperiment \n",
       "dim: 36738 43222 \n",
       "metadata(0):\n",
       "assays(1): X\n",
       "rownames(36738): ENSG00000000003 ENSG00000000005 ...\n",
       "  TIGIT_or_VSTM3_prot integrinb7_prot\n",
       "rowData names(3): gene_sybmol gene_name feature_type\n",
       "colnames(43222): 3_AAACCTGAGACCGGAT 3_AAACCTGAGAGGGCTT ...\n",
       "  2_TTTGTCATCGGCTACG 2_TTTGTCATCTCCAGGG\n",
       "colData names(72): barcode BRI ... Hashtag2 Hashtag3\n",
       "reducedDimNames(0):\n",
       "mainExpName: NULL\n",
       "altExpNames(0):"
      ]
     },
     "metadata": {},
     "output_type": "display_data"
    }
   ],
   "source": [
    "sce"
   ]
  },
  {
   "cell_type": "code",
   "execution_count": 78,
   "id": "d3936459-475d-49b1-aa4b-34ae5038ba37",
   "metadata": {},
   "outputs": [],
   "source": [
    "sce_renamed = sce"
   ]
  },
  {
   "cell_type": "code",
   "execution_count": 80,
   "id": "f27291ef-1c4e-4dc8-b4a0-7cd6c53abf1b",
   "metadata": {},
   "outputs": [],
   "source": [
    "rownames(sce_renamed) <- rowData(sce_renamed)$gene_name %>% unfactor %>% make.unique"
   ]
  },
  {
   "cell_type": "code",
   "execution_count": 81,
   "id": "37d9dcbb-bbb6-4b76-83b5-2555252a56e0",
   "metadata": {},
   "outputs": [],
   "source": [
    "rownames(rowData(sce_renamed)) = rownames(sce_renamed) #rowData(sce_renamed)[['gene_name']]"
   ]
  },
  {
   "cell_type": "code",
   "execution_count": 47,
   "id": "47e2e0e7-b81e-45d1-a4a1-d2f4bffd3f86",
   "metadata": {},
   "outputs": [],
   "source": [
    "# rownames(sce_renamed) = rowData(sce_renamed)[['gene_name']]"
   ]
  },
  {
   "cell_type": "code",
   "execution_count": 58,
   "id": "87d7099e-283a-491c-9952-456c648f25fc",
   "metadata": {},
   "outputs": [
    {
     "data": {
      "text/html": [
       "36738"
      ],
      "text/latex": [
       "36738"
      ],
      "text/markdown": [
       "36738"
      ],
      "text/plain": [
       "[1] 36738"
      ]
     },
     "metadata": {},
     "output_type": "display_data"
    }
   ],
   "source": [
    "rowData(sce_renamed)[['gene_name']] %>% length"
   ]
  },
  {
   "cell_type": "code",
   "execution_count": 82,
   "id": "cdd4cd91-7120-4a35-aff3-d6c19923f6a7",
   "metadata": {},
   "outputs": [
    {
     "data": {
      "text/plain": [
       "class: SingleCellExperiment \n",
       "dim: 36738 43222 \n",
       "metadata(0):\n",
       "assays(1): X\n",
       "rownames(36738): TSPAN6 TNMD ... TIGIT_or_VSTM3_prot integrinb7_prot\n",
       "rowData names(3): gene_sybmol gene_name feature_type\n",
       "colnames(43222): 3_AAACCTGAGACCGGAT 3_AAACCTGAGAGGGCTT ...\n",
       "  2_TTTGTCATCGGCTACG 2_TTTGTCATCTCCAGGG\n",
       "colData names(72): barcode BRI ... Hashtag2 Hashtag3\n",
       "reducedDimNames(0):\n",
       "mainExpName: NULL\n",
       "altExpNames(0):"
      ]
     },
     "metadata": {},
     "output_type": "display_data"
    }
   ],
   "source": [
    "sce_renamed"
   ]
  },
  {
   "cell_type": "code",
   "execution_count": 83,
   "id": "0171b82c-85dd-4699-bf76-c81a0885e5b2",
   "metadata": {},
   "outputs": [
    {
     "name": "stderr",
     "output_type": "stream",
     "text": [
      "Warning message:\n",
      "\"Feature names cannot have underscores ('_'), replacing with dashes ('-')\"\n",
      "Warning message:\n",
      "\"Feature names cannot have underscores ('_'), replacing with dashes ('-')\"\n",
      "Warning message:\n",
      "\"Feature names cannot have underscores ('_'), replacing with dashes ('-')\"\n"
     ]
    }
   ],
   "source": [
    "seu = as.Seurat(sce_renamed, counts = \"X\", data = 'X')"
   ]
  },
  {
   "cell_type": "code",
   "execution_count": 84,
   "id": "62dae4cc-4fd5-44bc-be38-30079905d2f5",
   "metadata": {},
   "outputs": [
    {
     "data": {
      "text/plain": [
       "An object of class Seurat \n",
       "36738 features across 43222 samples within 1 assay \n",
       "Active assay: originalexp (36738 features, 0 variable features)\n",
       " 2 layers present: counts, data"
      ]
     },
     "metadata": {},
     "output_type": "display_data"
    }
   ],
   "source": [
    "seu"
   ]
  },
  {
   "cell_type": "code",
   "execution_count": 85,
   "id": "0a65b1b4-6e9c-44ba-acba-258fbfd4cd12",
   "metadata": {
    "tags": []
   },
   "outputs": [
    {
     "name": "stdout",
     "output_type": "stream",
     "text": [
      "Formal class 'Seurat' [package \"SeuratObject\"] with 13 slots\n",
      "  ..@ assays      :List of 1\n",
      "  .. ..$ originalexp:Formal class 'Assay' [package \"SeuratObject\"] with 8 slots\n",
      "  .. .. .. ..@ counts       :Formal class 'dgCMatrix' [package \"Matrix\"] with 6 slots\n",
      "  .. .. .. .. .. ..@ i       : int [1:97201453] 3 18 36 38 45 55 90 106 110 124 ...\n",
      "  .. .. .. .. .. ..@ p       : int [1:43223] 0 1085 2472 6999 8736 11941 16304 18080 19183 22006 ...\n",
      "  .. .. .. .. .. ..@ Dim     : int [1:2] 36738 43222\n",
      "  .. .. .. .. .. ..@ Dimnames:List of 2\n",
      "  .. .. .. .. .. .. ..$ : chr [1:36738] \"TSPAN6\" \"TNMD\" \"DPM1\" \"SCYL3\" ...\n",
      "  .. .. .. .. .. .. ..$ : chr [1:43222] \"3_AAACCTGAGACCGGAT\" \"3_AAACCTGAGAGGGCTT\" \"3_AAACCTGAGAGTCTGG\" \"3_AAACCTGAGCTAGCCC\" ...\n",
      "  .. .. .. .. .. ..@ x       : num [1:97201453] 2 1 1 1 1 1 1 1 1 1 ...\n",
      "  .. .. .. .. .. ..@ factors : list()\n",
      "  .. .. .. ..@ data         :Formal class 'dgCMatrix' [package \"Matrix\"] with 6 slots\n",
      "  .. .. .. .. .. ..@ i       : int [1:97201453] 3 18 36 38 45 55 90 106 110 124 ...\n",
      "  .. .. .. .. .. ..@ p       : int [1:43223] 0 1085 2472 6999 8736 11941 16304 18080 19183 22006 ...\n",
      "  .. .. .. .. .. ..@ Dim     : int [1:2] 36738 43222\n",
      "  .. .. .. .. .. ..@ Dimnames:List of 2\n",
      "  .. .. .. .. .. .. ..$ : chr [1:36738] \"TSPAN6\" \"TNMD\" \"DPM1\" \"SCYL3\" ...\n",
      "  .. .. .. .. .. .. ..$ : chr [1:43222] \"3_AAACCTGAGACCGGAT\" \"3_AAACCTGAGAGGGCTT\" \"3_AAACCTGAGAGTCTGG\" \"3_AAACCTGAGCTAGCCC\" ...\n",
      "  .. .. .. .. .. ..@ x       : num [1:97201453] 2 1 1 1 1 1 1 1 1 1 ...\n",
      "  .. .. .. .. .. ..@ factors : list()\n",
      "  .. .. .. ..@ scale.data   : num[0 , 0 ] \n",
      "  .. .. .. ..@ assay.orig   : NULL\n",
      "  .. .. .. ..@ var.features : logi(0) \n",
      "  .. .. .. ..@ meta.features:'data.frame':\t36738 obs. of  3 variables:\n",
      "  .. .. .. .. ..$ gene_sybmol : chr [1:36738] \"ENSG00000000003\" \"ENSG00000000005\" \"ENSG00000000419\" \"ENSG00000000457\" ...\n",
      "  .. .. .. .. ..$ gene_name   : Factor w/ 36728 levels \"A1BG\",\"A1BG-AS1\",..: 34619 33995 17461 31008 14257 18822 15718 19126 19360 26774 ...\n",
      "  .. .. .. .. ..$ feature_type: Factor w/ 2 levels \"Antibody Capture\",..: 2 2 2 2 2 2 2 2 2 2 ...\n",
      "  .. .. .. ..@ misc         : Named list()\n",
      "  .. .. .. ..@ key          : chr \"originalexp_\"\n",
      "  ..@ meta.data   :'data.frame':\t43222 obs. of  75 variables:\n",
      "  .. ..$ orig.ident                 : Factor w/ 4 levels \"1\",\"2\",\"3\",\"4\": 3 3 3 3 3 3 3 3 3 3 ...\n",
      "  .. ..$ nCount_originalexp         : num [1:43222] 3241 4559 20879 5523 13193 ...\n",
      "  .. ..$ nFeature_originalexp       : int [1:43222] 1085 1387 4527 1737 3205 4363 1776 1103 2823 2530 ...\n",
      "  .. ..$ barcode                    : Factor w/ 42319 levels \"AAACCTGAGACCACGA-1\",..: 2 6 7 8 9 14 17 18 21 22 ...\n",
      "  .. ..$ BRI                        : Factor w/ 4 levels \"2008\",\"2011\",..: 3 3 3 3 3 3 3 3 3 3 ...\n",
      "  .. ..$ Run                        : num [1:43222] 2 2 2 2 2 2 2 2 2 2 ...\n",
      "  .. ..$ Well                       : num [1:43222] 1 1 1 1 1 1 1 1 1 1 ...\n",
      "  .. ..$ Batch                      : num [1:43222] 3 3 3 3 3 3 3 3 3 3 ...\n",
      "  .. ..$ Biobank_ID                 : Factor w/ 5 levels \"10033066\",\"10041243\",..: 3 5 4 3 5 3 3 3 3 5 ...\n",
      "  .. ..$ Sort_Status                : Factor w/ 3 levels \"+\",\"-\",\"U\": 1 3 1 3 1 1 2 1 1 1 ...\n",
      "  .. ..$ HTO_Status                 : Factor w/ 3 levels \"Hashtag1 (U)\",..: 3 1 3 1 3 3 2 3 3 3 ...\n",
      "  .. ..$ Demuxlet_Assignment        : Factor w/ 1 level \"SNG\": 1 1 1 1 1 1 1 1 1 1 ...\n",
      "  .. ..$ Total_RNA_Count            : num [1:43222] 1443 3508 18799 4133 10485 ...\n",
      "  .. ..$ Total_ADT_Count            : num [1:43222] 1798 1051 2080 1390 2708 ...\n",
      "  .. ..$ Total_HTO_Count            : num [1:43222] 4332 590 5365 1680 8394 ...\n",
      "  .. ..$ frac_ADT                   : num [1:43222] 0.5548 0.2305 0.0996 0.2517 0.2053 ...\n",
      "  .. ..$ A_cdr3                     : Factor w/ 23226 levels \"CAAAANQAGTALIF\",..: 23226 418 3421 23226 22885 16250 15525 23226 10637 11653 ...\n",
      "  .. ..$ B_cdr3                     : Factor w/ 29683 levels \"CAAAVASDGELFF\",..: 29683 27027 12618 27318 12502 10099 4534 29683 5384 23672 ...\n",
      "  .. ..$ DEMUX_RD.UNIQ              : num [1:43222] 6 164 1057 179 673 ...\n",
      "  .. ..$ DEMUX_N.SNP                : num [1:43222] 6 46 162 53 92 141 74 7 88 71 ...\n",
      "  .. ..$ DEMUX_BEST                 : Factor w/ 5 levels \"SNG-10033066\",..: 3 5 4 3 5 3 3 3 3 5 ...\n",
      "  .. ..$ DEMUX_SNG.1ST              : num [1:43222] 10042029 10057029 10049452 10042029 10057029 ...\n",
      "  .. ..$ DEMUX_SNG.LLK1             : num [1:43222] -2.1 -9.82 -44.52 -28.73 -49.49 ...\n",
      "  .. ..$ DEMUX_DBL.1ST              : num [1:43222] 10042029 10041243 10042029 10042029 10057029 ...\n",
      "  .. ..$ DEMUX_DBL.2ND              : num [1:43222] 10033066 10057029 10049452 10033066 10042029 ...\n",
      "  .. ..$ DEMUX_LLK12                : num [1:43222] -2.26 -40.8 -103.57 -36.15 -86.04 ...\n",
      "  .. ..$ DEMUX_PRB.DBL              : num [1:43222] 6.21e-02 1.03e-15 6.30e-28 1.66e-05 3.71e-18 ...\n",
      "  .. ..$ DEMUX_PRB.SNG1             : num [1:43222] 0.967 1 1 1 1 1 1 0.99 1 1 ...\n",
      "  .. ..$ batch_name                 : Factor w/ 4 levels \"2010_rerun\",\"2013_rerun\",..: NA 3 3 3 3 3 3 NA 3 3 ...\n",
      "  .. ..$ B_is_cell                  : Factor w/ 3 levels \"False\",\"True\",..: 3 2 2 2 2 2 2 3 2 2 ...\n",
      "  .. ..$ B_high_confidence          : Factor w/ 3 levels \"False\",\"True\",..: 3 2 2 2 2 2 2 3 2 2 ...\n",
      "  .. ..$ B_full_length              : Factor w/ 3 levels \"False\",\"True\",..: 3 2 2 2 2 2 2 3 2 2 ...\n",
      "  .. ..$ B_productive               : Factor w/ 3 levels \"False\",\"True\",..: 3 2 2 2 2 2 2 3 2 2 ...\n",
      "  .. ..$ B_length                   : num [1:43222] NaN 512 498 524 510 482 654 NaN 526 512 ...\n",
      "  .. ..$ B_v_gene                   : Factor w/ 52 levels \"TRBV2\",\"TRBV3-1\",..: 52 44 48 44 27 48 43 52 1 16 ...\n",
      "  .. ..$ B_d_gene                   : Factor w/ 3 levels \"TRBD1\",\"TRBD2\",..: 3 1 3 3 3 3 3 3 3 3 ...\n",
      "  .. ..$ B_j_gene                   : Factor w/ 14 levels \"TRBJ1-1\",\"TRBJ1-2\",..: 14 13 2 4 8 4 7 14 2 2 ...\n",
      "  .. ..$ B_c_gene                   : Factor w/ 4 levels \"TRAC\",\"TRBC1\",..: 4 3 2 2 3 2 3 4 2 2 ...\n",
      "  .. ..$ B_cdr1                     : Factor w/ 40 levels \"DFQATT\",\"ENHRY\",..: 40 1 15 1 21 15 10 40 35 15 ...\n",
      "  .. ..$ B_cdr2                     : Factor w/ 48 levels \"ANQGSEA\",\"FNNNVP\",..: 48 22 21 22 7 21 24 48 14 28 ...\n",
      "  .. ..$ B_cdr3_nt                  : Factor w/ 30006 levels \"TGCACCAGCAGGGTAATGAACACTGAAGCTTTCTTT\",..: 30006 2932 24346 1932 18182 24103 28071 30006 20596 22524 ...\n",
      "  .. ..$ B_reads                    : num [1:43222] NaN 1380 1430 1174 4878 ...\n",
      "  .. ..$ B_umis                     : num [1:43222] NaN 14 12 10 40 8 12 NaN 9 17 ...\n",
      "  .. ..$ B_raw_clonotype_id         : Factor w/ 16338 levels \"clonotype1\",\"clonotype2\",..: NA 717 13200 3497 14976 9413 4949 NA 10908 4689 ...\n",
      "  .. ..$ B_raw_consensus_id         : Factor w/ 16802 levels \"clonotype1_consensus_1\",..: NA 825 13652 3767 15437 9808 5266 NA 11326 5001 ...\n",
      "  .. ..$ B_Num_Hits_In_Barcode      : num [1:43222] NaN 1 1 1 1 1 1 NaN 1 1 ...\n",
      "  .. ..$ B_Next_Highest_ReadCount   : num [1:43222] NaN NaN NaN NaN NaN NaN NaN NaN NaN NaN ...\n",
      "  .. ..$ B_Num_Productive_In_Barcode: num [1:43222] NaN 1 1 1 1 1 1 NaN 1 1 ...\n",
      "  .. ..$ B_Has_Unproductive         : Factor w/ 3 levels \"False\",\"True\",..: 3 1 1 1 1 1 1 3 1 1 ...\n",
      "  .. ..$ A_is_cell                  : Factor w/ 3 levels \"False\",\"True\",..: 3 2 2 2 2 2 2 3 2 2 ...\n",
      "  .. ..$ A_high_confidence          : Factor w/ 3 levels \"False\",\"True\",..: 3 2 2 2 2 2 2 3 2 2 ...\n",
      "  .. ..$ A_full_length              : Factor w/ 3 levels \"False\",\"True\",..: 3 2 2 1 2 2 2 3 2 2 ...\n",
      "  .. ..$ A_productive               : Factor w/ 3 levels \"False\",\"True\",..: 3 2 2 1 2 2 2 3 2 2 ...\n",
      "  .. ..$ A_length                   : num [1:43222] NaN 511 550 395 617 508 511 NaN 501 539 ...\n",
      "  .. ..$ A_v_gene                   : Factor w/ 46 levels \"TRAV1-1\",\"TRAV1-2\",..: 46 30 43 4 10 2 27 46 19 24 ...\n",
      "  .. ..$ A_d_gene                   : Factor w/ 1 level \"nan\": 1 1 1 1 1 1 1 1 1 1 ...\n",
      "  .. ..$ A_j_gene                   : Factor w/ 54 levels \"TRAJ3\",\"TRAJ4\",..: 54 45 52 44 16 24 32 54 6 24 ...\n",
      "  .. ..$ A_c_gene                   : Factor w/ 2 levels \"TRAC\",\"nan\": 2 1 1 1 1 1 1 2 1 1 ...\n",
      "  .. ..$ A_cdr1                     : Factor w/ 50 levels \"ATGYPS\",\"DRGSQS\",..: 50 16 39 50 22 34 41 50 12 36 ...\n",
      "  .. ..$ A_cdr2                     : Factor w/ 50 levels \"AMKANDK\",\"ATKADDK\",..: 50 16 23 50 48 35 29 50 41 17 ...\n",
      "  .. ..$ A_cdr3_nt                  : Factor w/ 24634 levels \"TGCAATCCGGCTCTCCTTTTGTACAATAAGCTGATTTTT\",..: 24634 7257 9648 24634 24554 18056 19458 24634 3359 12213 ...\n",
      "  .. ..$ A_reads                    : num [1:43222] NaN 235 725 169 2450 425 474 NaN 930 297 ...\n",
      "  .. ..$ A_umis                     : num [1:43222] NaN 3 8 1 31 5 5 NaN 10 4 ...\n",
      "  .. ..$ A_raw_clonotype_id         : Factor w/ 14271 levels \"clonotype1\",\"clonotype2\",..: 14271 719 11384 14271 12963 8032 4769 14271 9510 4509 ...\n",
      "  .. ..$ A_raw_consensus_id         : Factor w/ 16302 levels \"clonotype1_consensus_2\",..: 16302 1056 13179 16302 14843 9592 6043 16302 11181 5730 ...\n",
      "  .. ..$ A_Num_Hits_In_Barcode      : num [1:43222] NaN 2 1 1 1 2 1 NaN 2 1 ...\n",
      "  .. ..$ A_Next_Highest_ReadCount   : num [1:43222] NaN 67 NaN NaN NaN ...\n",
      "  .. ..$ A_Num_Productive_In_Barcode: num [1:43222] NaN 1 1 0 1 1 1 NaN 1 1 ...\n",
      "  .. ..$ A_Has_Unproductive         : Factor w/ 3 levels \"False\",\"True\",..: 3 2 1 2 1 2 1 3 2 1 ...\n",
      "  .. ..$ B_Possible_TCR_Doublet     : Factor w/ 5 levels \"Doublet\",\"Missing\",..: 5 3 3 3 3 3 3 5 3 3 ...\n",
      "  .. ..$ A_Possible_TCR_Doublet     : Factor w/ 5 levels \"Doublet\",\"Missing\",..: 5 3 3 4 3 3 3 5 3 3 ...\n",
      "  .. ..$ DEMUX_BEST_Category        : Factor w/ 1 level \"SNG\": 1 1 1 1 1 1 1 1 1 1 ...\n",
      "  .. ..$ Hashtag1                   : int [1:43222] 8 391 9 1477 17 26 9 10 6 22 ...\n",
      "  .. ..$ Hashtag2                   : int [1:43222] 19 61 55 50 39 127 1537 27 47 147 ...\n",
      "  .. ..$ Hashtag3                   : int [1:43222] 4305 138 5301 153 8338 12370 99 3314 4892 3277 ...\n",
      "  ..@ active.assay: chr \"originalexp\"\n",
      "  ..@ active.ident: Factor w/ 1 level \"SingleCellExperiment\": 1 1 1 1 1 1 1 1 1 1 ...\n",
      "  .. ..- attr(*, \"names\")= chr [1:43222] \"3_AAACCTGAGACCGGAT\" \"3_AAACCTGAGAGGGCTT\" \"3_AAACCTGAGAGTCTGG\" \"3_AAACCTGAGCTAGCCC\" ...\n",
      "  ..@ graphs      : list()\n",
      "  ..@ neighbors   : list()\n",
      "  ..@ reductions  : list()\n",
      "  ..@ images      : list()\n",
      "  ..@ project.name: chr \"SeuratProject\"\n",
      "  ..@ misc        : list()\n",
      "  ..@ version     :Classes 'package_version', 'numeric_version'  hidden list of 1\n",
      "  .. ..$ : int [1:3] 5 0 2\n",
      "  ..@ commands    : list()\n",
      "  ..@ tools       : list()\n"
     ]
    }
   ],
   "source": [
    "seu %>% str"
   ]
  },
  {
   "cell_type": "code",
   "execution_count": 87,
   "id": "2bde963a-6caf-44f1-8e12-eb331deca57e",
   "metadata": {},
   "outputs": [],
   "source": [
    "saveRDS(seu, '../../../Data/PerDataset/Stimseq/raw.mincellfilt.htonegfilt.doubletfilt.Seurat.rds')"
   ]
  },
  {
   "cell_type": "markdown",
   "id": "09bf91fc-2ced-42ba-a059-2b92c1b3c819",
   "metadata": {},
   "source": [
    "# run azimuth"
   ]
  },
  {
   "cell_type": "code",
   "execution_count": 89,
   "id": "021dcac2-5128-41e7-aaca-e347fee3f13b",
   "metadata": {},
   "outputs": [
    {
     "name": "stderr",
     "output_type": "stream",
     "text": [
      "Updating HTML index of packages in '.Library'\n",
      "\n",
      "Making 'packages.html' ...\n",
      " done\n",
      "\n",
      "Warning message:\n",
      "\"Overwriting miscellanous data for model\"\n",
      "Warning message:\n",
      "\"Adding a dimensional reduction (refUMAP) without the associated assay being present\"\n",
      "Warning message:\n",
      "\"Adding a dimensional reduction (refUMAP) without the associated assay being present\"\n",
      "detected inputs from HUMAN with id type Gene.name\n",
      "\n",
      "reference rownames detected HUMAN with id type Gene.name\n",
      "\n",
      "Normalizing query using reference SCT model\n",
      "\n",
      "Warning message:\n",
      "\"113 features of the features specified were not present in both the reference query assays. \n",
      "Continuing with remaining 4887 features.\"\n",
      "Projecting cell embeddings\n",
      "\n",
      "Finding query neighbors\n",
      "\n",
      "Finding neighborhoods\n",
      "\n",
      "Finding anchors\n",
      "\n",
      "\tFound 10539 anchors\n",
      "\n",
      "Finding integration vectors\n",
      "\n",
      "Finding integration vector weights\n",
      "\n",
      "Predicting cell labels\n",
      "\n",
      "Predicting cell labels\n",
      "\n",
      "Warning message:\n",
      "\"Feature names cannot have underscores ('_'), replacing with dashes ('-')\"\n",
      "Predicting cell labels\n",
      "\n",
      "Warning message:\n",
      "\"Feature names cannot have underscores ('_'), replacing with dashes ('-')\"\n",
      "\n",
      "Integrating dataset 2 with reference dataset\n",
      "\n",
      "Finding integration vectors\n",
      "\n",
      "Integrating data\n",
      "\n",
      "Warning message:\n",
      "\"Keys should be one or more alphanumeric characters followed by an underscore, setting key from integrated_dr_ to integrateddr_\"\n",
      "Computing nearest neighbors\n",
      "\n",
      "Warning message:\n",
      "\"The default method for RunUMAP has changed from calling Python UMAP via reticulate to the R-native UWOT using the cosine metric\n",
      "To use Python UMAP via reticulate, set umap.method to 'umap-learn' and metric to 'correlation'\n",
      "This message will be shown once per session\"\n",
      "Running UMAP projection\n",
      "\n",
      "Warning message in RunUMAP.default(object = neighborlist, reduction.model = reduction.model, :\n",
      "\"Number of neighbors between query and reference is not equal to the number of neighbors within reference\"\n",
      "11:19:09 Read 43222 rows\n",
      "\n",
      "11:19:09 Processing block 1 of 1\n",
      "\n",
      "11:19:09 Commencing smooth kNN distance calibration using 1 thread\n",
      " with target n_neighbors = 20\n",
      "\n",
      "11:19:11 Initializing by weighted average of neighbor coordinates using 1 thread\n",
      "\n",
      "11:19:11 Commencing optimization for 67 epochs, with 864440 positive edges\n",
      "\n",
      "11:19:33 Finished\n",
      "\n",
      "Warning message:\n",
      "\"No assay specified, setting assay as RNA by default.\"\n",
      "Warning message:\n",
      "\"Adding a dimensional reduction (ref.umap) without the associated assay being present\"\n",
      "Projecting reference PCA onto query\n",
      "\n",
      "Finding integration vector weights\n",
      "\n",
      "Projecting back the query cells into original PCA space\n",
      "\n",
      "Finding integration vector weights\n",
      "\n",
      "Computing scores:\n",
      "\n",
      "    Finding neighbors of original query cells\n",
      "\n",
      "    Finding neighbors of transformed query cells\n",
      "\n",
      "    Computing query SNN\n",
      "\n",
      "    Determining bandwidth and computing transition probabilities\n",
      "\n",
      "Total elapsed time: 57.8538126945496\n",
      "\n"
     ]
    }
   ],
   "source": [
    "az_res = RunAzimuth(query = seu, reference = \"pbmcref\")"
   ]
  },
  {
   "cell_type": "code",
   "execution_count": 91,
   "id": "4387faa5-2368-4118-8e6c-736d803ea1cb",
   "metadata": {},
   "outputs": [],
   "source": [
    "az_res@meta.data %>% write.table('../../../Data/PerDataset/Stimseq/raw.mincellfilt.htonegfilt.doubletfilt.Azimuth.tsv',\n",
    "                              row.names = TRUE, sep = '\\t')"
   ]
  },
  {
   "cell_type": "markdown",
   "id": "7f5cea04-ad9f-482a-86fa-bd997148559a",
   "metadata": {},
   "source": [
    "# run symphony"
   ]
  },
  {
   "cell_type": "markdown",
   "id": "952cab51-1b33-447b-94a6-f3b62f7fb11b",
   "metadata": {},
   "source": [
    "## convert Hao h5ad to seurat"
   ]
  },
  {
   "cell_type": "code",
   "execution_count": 93,
   "id": "09e61fa4-1c25-4dce-a2a5-318ccb1e276b",
   "metadata": {},
   "outputs": [],
   "source": [
    "counts_fn = '../../../Data/PerDataset/HaoEtAl/haoetal_pbmc_multimodal.merged.T.raw.ADTfixed.h5ad'"
   ]
  },
  {
   "cell_type": "code",
   "execution_count": 94,
   "id": "81bdabd8-013f-4ce4-80b7-6c03bdcf718b",
   "metadata": {},
   "outputs": [],
   "source": [
    "# Load the .h5ad file into a SingleCellExperiment object\n",
    "sce = readH5AD(counts_fn)"
   ]
  },
  {
   "cell_type": "code",
   "execution_count": 95,
   "id": "9b97500a-abac-48b9-b80c-cf76679e7e68",
   "metadata": {},
   "outputs": [
    {
     "data": {
      "text/plain": [
       "class: SingleCellExperiment \n",
       "dim: 20957 73259 \n",
       "metadata(0):\n",
       "assays(1): X\n",
       "rownames(20957): AL627309.1 AL669831.5 ... AB_CD202b AB_CD11c\n",
       "rowData names(7): features Clone ... Gene_ADT_Fixed Clone_ADT_Fixed\n",
       "colnames(73259): L1_AAACCCAAGACATACA L1_AAACCCACAACTGGTT ...\n",
       "  E2L8_TTTGTTGCAGCGTGAA E2L8_TTTGTTGGTCGTGATT\n",
       "colData names(15): nCount_ADT nFeature_ADT ... nFeature_SCT\n",
       "  celltype.l3.merged\n",
       "reducedDimNames(0):\n",
       "mainExpName: NULL\n",
       "altExpNames(0):"
      ]
     },
     "metadata": {},
     "output_type": "display_data"
    }
   ],
   "source": [
    "sce"
   ]
  },
  {
   "cell_type": "code",
   "execution_count": 146,
   "id": "4e78f7ad-b2a3-4d22-b12f-f829a1357e7d",
   "metadata": {},
   "outputs": [],
   "source": [
    "rna_features = rownames(sce)[-grep(\"^AB_\", rownames(sce))]  # Adjust pattern based on your data\n",
    "adt_features = rownames(sce)[grep(\"^AB_\", rownames(sce))]  # Adjust pattern based on your data"
   ]
  },
  {
   "cell_type": "code",
   "execution_count": 148,
   "id": "55bba6fc-b764-47a6-a468-99fe52010664",
   "metadata": {},
   "outputs": [],
   "source": [
    "rna_assay = assay(sce)[rna_features, ]\n",
    "adt_assay = assay(sce)[adt_features, ]"
   ]
  },
  {
   "cell_type": "code",
   "execution_count": 154,
   "id": "1d826781-3925-4106-8249-cb8cd756536d",
   "metadata": {},
   "outputs": [
    {
     "name": "stderr",
     "output_type": "stream",
     "text": [
      "Warning message:\n",
      "\"[[<- defined for objects of type \"S4\" only for subclasses of environment\"\n"
     ]
    }
   ],
   "source": [
    "seu = CreateSeuratObject(counts = rna_assay, assay = \"RNA\", meta.data = colData(sce))"
   ]
  },
  {
   "cell_type": "code",
   "execution_count": 155,
   "id": "7a561791-ccd8-4f59-afb8-0fa5731a7348",
   "metadata": {},
   "outputs": [
    {
     "name": "stderr",
     "output_type": "stream",
     "text": [
      "Warning message:\n",
      "\"Feature names cannot have underscores ('_'), replacing with dashes ('-')\"\n",
      "Warning message:\n",
      "\"Feature names cannot have underscores ('_'), replacing with dashes ('-')\"\n"
     ]
    }
   ],
   "source": [
    "seu[[\"ADT\"]] = CreateAssayObject(counts = adt_assay)\n"
   ]
  },
  {
   "cell_type": "code",
   "execution_count": 178,
   "id": "8861190e-9471-48c1-ba3b-9367ab8d104c",
   "metadata": {
    "tags": []
   },
   "outputs": [],
   "source": [
    "seu@meta.data = colData(sce) %>% as.data.frame"
   ]
  },
  {
   "cell_type": "code",
   "execution_count": 181,
   "id": "93c8cfee-9648-407d-a39e-ee2dfc0a7b34",
   "metadata": {},
   "outputs": [
    {
     "data": {
      "text/plain": [
       "An object of class Seurat \n",
       "20957 features across 73259 samples within 2 assays \n",
       "Active assay: RNA (20729 features, 0 variable features)\n",
       " 1 layer present: counts\n",
       " 1 other assay present: ADT"
      ]
     },
     "metadata": {},
     "output_type": "display_data"
    }
   ],
   "source": [
    "seu"
   ]
  },
  {
   "cell_type": "code",
   "execution_count": 182,
   "id": "93568bb5-9a40-4c21-a72b-1e68fa4c2405",
   "metadata": {},
   "outputs": [],
   "source": [
    "saveRDS(seu, '../../../Data/PerDataset/HaoEtAl/haoetal_pbmc_multimodal.merged.T.raw.ADTfixed.Seurat.rds')"
   ]
  },
  {
   "cell_type": "markdown",
   "id": "65dfc7c3-d9db-4218-965f-c013292d98a3",
   "metadata": {},
   "source": [
    "## create symphony ref"
   ]
  },
  {
   "cell_type": "code",
   "execution_count": 209,
   "id": "451c5b25-9a51-49e3-9bcc-d5a765f2a0df",
   "metadata": {},
   "outputs": [],
   "source": [
    "seu = readRDS('../../../Data/PerDataset/HaoEtAl/haoetal_pbmc_multimodal.merged.T.raw.ADTfixed.Seurat.rds')"
   ]
  },
  {
   "cell_type": "code",
   "execution_count": 210,
   "id": "7a839878-e7d1-4cd8-83fa-a701969ab8d3",
   "metadata": {},
   "outputs": [
    {
     "data": {
      "text/plain": [
       "An object of class Seurat \n",
       "20957 features across 73259 samples within 2 assays \n",
       "Active assay: RNA (20729 features, 0 variable features)\n",
       " 1 layer present: counts\n",
       " 1 other assay present: ADT"
      ]
     },
     "metadata": {},
     "output_type": "display_data"
    }
   ],
   "source": [
    "seu"
   ]
  },
  {
   "cell_type": "code",
   "execution_count": 212,
   "id": "67a3ce7e-8bb9-471d-844d-89da68891cc1",
   "metadata": {},
   "outputs": [
    {
     "name": "stderr",
     "output_type": "stream",
     "text": [
      "Warning message:\n",
      "\"\u001b[1m\u001b[22mThe `slot` argument of `GetAssayData()` is deprecated as of SeuratObject 5.0.0.\n",
      "\u001b[36mℹ\u001b[39m Please use the `layer` argument instead.\"\n"
     ]
    }
   ],
   "source": [
    "exprs = GetAssayData(object = seu, assay = \"RNA\", slot = \"counts\")"
   ]
  },
  {
   "cell_type": "code",
   "execution_count": 214,
   "id": "230c4436-b8c1-4da1-a6cf-d7de6824b18b",
   "metadata": {},
   "outputs": [
    {
     "data": {
      "text/html": [
       "<style>\n",
       ".list-inline {list-style: none; margin:0; padding: 0}\n",
       ".list-inline>li {display: inline-block}\n",
       ".list-inline>li:not(:last-child)::after {content: \"\\00b7\"; padding: 0 .5ex}\n",
       "</style>\n",
       "<ol class=list-inline><li>20729</li><li>73259</li></ol>\n"
      ],
      "text/latex": [
       "\\begin{enumerate*}\n",
       "\\item 20729\n",
       "\\item 73259\n",
       "\\end{enumerate*}\n"
      ],
      "text/markdown": [
       "1. 20729\n",
       "2. 73259\n",
       "\n",
       "\n"
      ],
      "text/plain": [
       "[1] 20729 73259"
      ]
     },
     "metadata": {},
     "output_type": "display_data"
    }
   ],
   "source": [
    "exprs %>% dim"
   ]
  },
  {
   "cell_type": "code",
   "execution_count": 216,
   "id": "92446649-3d3e-4bad-8e16-2d0d3ef65822",
   "metadata": {},
   "outputs": [],
   "source": [
    "ref_exp_full = exprs %>% singlecellmethods::normalizeData(method = \"log\")"
   ]
  },
  {
   "cell_type": "code",
   "execution_count": 220,
   "id": "b9168bf0-9837-4e67-8fe8-03a91eefca6b",
   "metadata": {},
   "outputs": [
    {
     "data": {
      "text/html": [
       "<style>\n",
       ".list-inline {list-style: none; margin:0; padding: 0}\n",
       ".list-inline>li {display: inline-block}\n",
       ".list-inline>li:not(:last-child)::after {content: \"\\00b7\"; padding: 0 .5ex}\n",
       "</style>\n",
       "<ol class=list-inline><li>6101</li><li>73259</li></ol>\n"
      ],
      "text/latex": [
       "\\begin{enumerate*}\n",
       "\\item 6101\n",
       "\\item 73259\n",
       "\\end{enumerate*}\n"
      ],
      "text/markdown": [
       "1. 6101\n",
       "2. 73259\n",
       "\n",
       "\n"
      ],
      "text/plain": [
       "[1]  6101 73259"
      ]
     },
     "metadata": {},
     "output_type": "display_data"
    }
   ],
   "source": [
    "var_genes = vargenes_vst(ref_exp_full, groups = as.character(seu@meta.data[['donor']]), topn = 2000)\n",
    "ref_exp = ref_exp_full[var_genes, ]\n",
    "dim(ref_exp)"
   ]
  },
  {
   "cell_type": "code",
   "execution_count": 221,
   "id": "3d7e837c-05bb-4fec-8683-2f9ec9d65419",
   "metadata": {},
   "outputs": [
    {
     "data": {
      "text/html": [
       "<table class=\"dataframe\">\n",
       "<caption>A tibble: 6 × 3</caption>\n",
       "<thead>\n",
       "\t<tr><th scope=col>symbol</th><th scope=col>mean</th><th scope=col>stddev</th></tr>\n",
       "\t<tr><th scope=col>&lt;chr&gt;</th><th scope=col>&lt;dbl&gt;</th><th scope=col>&lt;dbl&gt;</th></tr>\n",
       "</thead>\n",
       "<tbody>\n",
       "\t<tr><td>GNLY  </td><td>0.7554823</td><td>1.3009975</td></tr>\n",
       "\t<tr><td>CCL5  </td><td>1.1372781</td><td>1.3605393</td></tr>\n",
       "\t<tr><td>S100A4</td><td>1.8824635</td><td>0.9632974</td></tr>\n",
       "\t<tr><td>NKG7  </td><td>0.9064792</td><td>1.2809740</td></tr>\n",
       "\t<tr><td>LTB   </td><td>1.8663526</td><td>0.8887139</td></tr>\n",
       "\t<tr><td>IL32  </td><td>1.8167456</td><td>0.7743503</td></tr>\n",
       "</tbody>\n",
       "</table>\n"
      ],
      "text/latex": [
       "A tibble: 6 × 3\n",
       "\\begin{tabular}{lll}\n",
       " symbol & mean & stddev\\\\\n",
       " <chr> & <dbl> & <dbl>\\\\\n",
       "\\hline\n",
       "\t GNLY   & 0.7554823 & 1.3009975\\\\\n",
       "\t CCL5   & 1.1372781 & 1.3605393\\\\\n",
       "\t S100A4 & 1.8824635 & 0.9632974\\\\\n",
       "\t NKG7   & 0.9064792 & 1.2809740\\\\\n",
       "\t LTB    & 1.8663526 & 0.8887139\\\\\n",
       "\t IL32   & 1.8167456 & 0.7743503\\\\\n",
       "\\end{tabular}\n"
      ],
      "text/markdown": [
       "\n",
       "A tibble: 6 × 3\n",
       "\n",
       "| symbol &lt;chr&gt; | mean &lt;dbl&gt; | stddev &lt;dbl&gt; |\n",
       "|---|---|---|\n",
       "| GNLY   | 0.7554823 | 1.3009975 |\n",
       "| CCL5   | 1.1372781 | 1.3605393 |\n",
       "| S100A4 | 1.8824635 | 0.9632974 |\n",
       "| NKG7   | 0.9064792 | 1.2809740 |\n",
       "| LTB    | 1.8663526 | 0.8887139 |\n",
       "| IL32   | 1.8167456 | 0.7743503 |\n",
       "\n"
      ],
      "text/plain": [
       "       symbol mean      stddev   \n",
       "GNLY   GNLY   0.7554823 1.3009975\n",
       "CCL5   CCL5   1.1372781 1.3605393\n",
       "S100A4 S100A4 1.8824635 0.9632974\n",
       "NKG7   NKG7   0.9064792 1.2809740\n",
       "LTB    LTB    1.8663526 0.8887139\n",
       "IL32   IL32   1.8167456 0.7743503"
      ]
     },
     "metadata": {},
     "output_type": "display_data"
    }
   ],
   "source": [
    "vargenes_means_sds = tibble(symbol = var_genes, mean = Matrix::rowMeans(ref_exp))\n",
    "vargenes_means_sds$stddev = singlecellmethods::rowSDs(ref_exp, vargenes_means_sds$mean)\n",
    "head(vargenes_means_sds)"
   ]
  },
  {
   "cell_type": "code",
   "execution_count": 222,
   "id": "5742e4f4-464b-4d3e-9f70-3c7813db6356",
   "metadata": {},
   "outputs": [],
   "source": [
    "ref_exp_scaled = singlecellmethods::scaleDataWithStats(ref_exp, vargenes_means_sds$mean, vargenes_means_sds$stddev, 1)"
   ]
  },
  {
   "cell_type": "code",
   "execution_count": 225,
   "id": "75c24acc-b23a-4374-a298-8e563ce4ac27",
   "metadata": {},
   "outputs": [],
   "source": [
    "set.seed(0)\n",
    "s = irlba(ref_exp_scaled, nv = 20)\n",
    "Z_pca_ref = diag(s$d) %*% t(s$v) # [pcs by cells]\n",
    "loadings = s$u"
   ]
  },
  {
   "cell_type": "code",
   "execution_count": 228,
   "id": "73790b64-1922-4b78-acef-a50fb052a9f5",
   "metadata": {},
   "outputs": [
    {
     "data": {
      "text/html": [
       "<style>\n",
       ".list-inline {list-style: none; margin:0; padding: 0}\n",
       ".list-inline>li {display: inline-block}\n",
       ".list-inline>li:not(:last-child)::after {content: \"\\00b7\"; padding: 0 .5ex}\n",
       "</style>\n",
       "<ol class=list-inline><li>'lane'</li><li>'donor'</li></ol>\n"
      ],
      "text/latex": [
       "\\begin{enumerate*}\n",
       "\\item 'lane'\n",
       "\\item 'donor'\n",
       "\\end{enumerate*}\n"
      ],
      "text/markdown": [
       "1. 'lane'\n",
       "2. 'donor'\n",
       "\n",
       "\n"
      ],
      "text/plain": [
       "[1] \"lane\"  \"donor\""
      ]
     },
     "metadata": {},
     "output_type": "display_data"
    }
   ],
   "source": [
    "harmony_vars"
   ]
  },
  {
   "cell_type": "code",
   "execution_count": 230,
   "id": "ff6cd7c0-07fc-4f83-9029-4b62213d3e6f",
   "metadata": {},
   "outputs": [
    {
     "name": "stderr",
     "output_type": "stream",
     "text": [
      "Warning message:\n",
      "\"HarmonyMatrix is deprecated and will be removed in the future from the API in the future\"\n",
      "Transposing data matrix\n",
      "\n",
      "Initializing state using k-means centroids initialization\n",
      "\n",
      "Harmony 1/10\n",
      "\n",
      "Harmony 2/10\n",
      "\n",
      "Harmony 3/10\n",
      "\n",
      "Harmony 4/10\n",
      "\n",
      "Harmony converged after 4 iterations\n",
      "\n"
     ]
    }
   ],
   "source": [
    "set.seed(0)\n",
    "ref_harmObj = harmony::HarmonyMatrix(\n",
    "        data_mat = t(Z_pca_ref),  ## PCA embedding matrix of cells\n",
    "        meta_data = seu@meta.data, ## dataframe with cell labels\n",
    "        # theta = c(2),             ## cluster diversity enforcement\n",
    "        vars_use = harmony_vars,    ## variable to integrate out\n",
    "        nclust = 100,             ## number of clusters in Harmony model\n",
    "        max.iter.harmony = 20,\n",
    "        return_object = TRUE,     ## return the full Harmony model object\n",
    "        do_pca = FALSE            ## don't recompute PCs\n",
    ")"
   ]
  },
  {
   "cell_type": "code",
   "execution_count": 232,
   "id": "30ee9fc1-d497-463d-8144-be3f592fee8f",
   "metadata": {},
   "outputs": [
    {
     "data": {
      "text/html": [
       "'/data/srlab1/TCAT/Analysis/PerDataset/Aimseq'"
      ],
      "text/latex": [
       "'/data/srlab1/TCAT/Analysis/PerDataset/Aimseq'"
      ],
      "text/markdown": [
       "'/data/srlab1/TCAT/Analysis/PerDataset/Aimseq'"
      ],
      "text/plain": [
       "[1] \"/data/srlab1/TCAT/Analysis/PerDataset/Aimseq\""
      ]
     },
     "metadata": {},
     "output_type": "display_data"
    }
   ],
   "source": [
    "getwd()"
   ]
  },
  {
   "cell_type": "code",
   "execution_count": 233,
   "id": "c1646209-d4ea-4a8c-8c5d-103f446b41d3",
   "metadata": {},
   "outputs": [
    {
     "name": "stderr",
     "output_type": "stream",
     "text": [
      "Save metadata, vargenes (S), and loadings (U)\n",
      "\n",
      "Save R, Z_orig, Z_corr, and betas from Harmony object\n",
      "\n",
      "Calculate final L2 normalized reference centroids (Y_cos)\n",
      "\n",
      "Calculate reference compression terms (Nr and C)\n",
      "\n",
      "UMAP\n",
      "\n",
      "Found more than one class \"dist\" in cache; using the first, from namespace 'BiocGenerics'\n",
      "\n",
      "Also defined by 'spam'\n",
      "\n",
      "Found more than one class \"dist\" in cache; using the first, from namespace 'BiocGenerics'\n",
      "\n",
      "Also defined by 'spam'\n",
      "\n",
      "Warning message:\n",
      "\"invalid uid value replaced by that for user 'nobody'\"\n",
      "Saved uwot model\n",
      "\n",
      "Finished nicely.\n",
      "\n"
     ]
    }
   ],
   "source": [
    "# Compress a Harmony object into a Symphony reference\n",
    "reference = symphony::buildReferenceFromHarmonyObj(\n",
    "                           ref_harmObj,            # output object from HarmonyMatrix()\n",
    "                           seu@meta.data,           # reference cell metadata\n",
    "                           vargenes_means_sds,     # gene names, means, and std devs for scaling\n",
    "                           loadings,               # genes x PCs matrix\n",
    "                           verbose = TRUE,         # verbose output\n",
    "                           do_umap = TRUE,         # Set to TRUE only when UMAP model was saved for reference\n",
    "                           save_uwot_path = '../../../Data/PerDataset/HaoEtAl/haoetal_pbmc_multimodal.merged.T.raw.ADTfixed.symphony.uwot'\n",
    ")\n"
   ]
  },
  {
   "cell_type": "code",
   "execution_count": 238,
   "id": "28e0f413-a98e-433d-b0ca-6c340b8bbb44",
   "metadata": {},
   "outputs": [],
   "source": [
    "saveRDS(reference, '../../../Data/PerDataset/HaoEtAl/haoetal_pbmc_multimodal.merged.T.raw.ADTfixed.symphony.rds')"
   ]
  },
  {
   "cell_type": "markdown",
   "id": "7900f19a-4cf8-457c-a4a1-af69d6d2e334",
   "metadata": {},
   "source": [
    "## map query"
   ]
  },
  {
   "cell_type": "code",
   "execution_count": 2,
   "id": "355a72f2-308b-4e70-9645-b83e8c6e0056",
   "metadata": {},
   "outputs": [],
   "source": [
    "reference = readRDS('../../../Data/PerDataset/HaoEtAl/haoetal_pbmc_multimodal.merged.T.raw.ADTfixed.symphony.rds')"
   ]
  },
  {
   "cell_type": "code",
   "execution_count": 3,
   "id": "f9a00e73-b4f4-4272-ad8d-855d173e884e",
   "metadata": {
    "tags": []
   },
   "outputs": [
    {
     "name": "stdout",
     "output_type": "stream",
     "text": [
      "List of 12\n",
      " $ meta_data     :'data.frame':\t73259 obs. of  15 variables:\n",
      "  ..$ nCount_ADT        : num [1:73259] 5949 6547 6318 5195 4501 ...\n",
      "  ..$ nFeature_ADT      : int [1:73259] 211 217 219 213 210 216 212 219 209 214 ...\n",
      "  ..$ nCount_RNA        : num [1:73259] 5864 5067 6505 4332 3401 ...\n",
      "  ..$ nFeature_RNA      : int [1:73259] 1617 1381 1621 1633 1200 1568 1318 1451 1390 1255 ...\n",
      "  ..$ orig.ident        : Factor w/ 24 levels \"P1_0\",\"P1_3\",..: 3 11 12 8 8 7 1 5 1 9 ...\n",
      "  ..$ lane              : Factor w/ 13 levels \"E2L1\",\"E2L2\",..: 9 9 9 9 9 9 9 9 9 9 ...\n",
      "  ..$ donor             : Factor w/ 8 levels \"P1\",\"P2\",\"P3\",..: 1 4 4 3 3 3 1 2 1 3 ...\n",
      "  ..$ time              : Factor w/ 3 levels \"0\",\"3\",\"7\": 3 2 3 2 2 1 1 2 1 3 ...\n",
      "  ..$ celltype.l1       : Factor w/ 3 levels \"CD4 T\",\"CD8 T\",..: 1 2 2 2 2 1 1 1 1 3 ...\n",
      "  ..$ celltype.l2       : Factor w/ 13 levels \"CD4 CTL\",\"CD4 Naive\",..: 4 6 6 9 6 2 4 1 4 10 ...\n",
      "  ..$ celltype.l3       : Factor w/ 31 levels \"CD4 CTL\",\"CD4 Naive\",..: 4 11 11 17 11 2 4 1 6 23 ...\n",
      "  ..$ Phase             : Factor w/ 3 levels \"G1\",\"G2M\",\"S\": 1 3 1 1 3 1 3 3 1 3 ...\n",
      "  ..$ nCount_SCT        : num [1:73259] 5693 5066 5854 4938 4724 ...\n",
      "  ..$ nFeature_SCT      : int [1:73259] 1615 1379 1620 1632 1217 1563 1318 1451 1390 1254 ...\n",
      "  ..$ celltype.l3.merged: Factor w/ 6 levels \"CD4\",\"CD8\",\"MAIT\",..: 1 2 2 2 2 1 1 1 1 3 ...\n",
      " $ vargenes      : tibble [6,101 × 3] (S3: tbl_df/tbl/data.frame)\n",
      "  ..$ symbol: chr [1:6101] \"GNLY\" \"CCL5\" \"S100A4\" \"NKG7\" ...\n",
      "  ..$ mean  : Named num [1:6101] 0.755 1.137 1.882 0.906 1.866 ...\n",
      "  .. ..- attr(*, \"names\")= chr [1:6101] \"GNLY\" \"CCL5\" \"S100A4\" \"NKG7\" ...\n",
      "  ..$ stddev: Named num [1:6101] 1.301 1.361 0.963 1.281 0.889 ...\n",
      "  .. ..- attr(*, \"names\")= chr [1:6101] \"GNLY\" \"CCL5\" \"S100A4\" \"NKG7\" ...\n",
      " $ loadings      : num [1:6101, 1:20] 0.0766 0.0868 0.0655 0.0924 -0.0565 ...\n",
      " $ R             : num [1:100, 1:73259] 9.91e-12 5.20e-10 1.49e-06 4.17e-05 1.78e-09 ...\n",
      " $ Z_orig        : num [1:20, 1:73259] -5.338 -2.746 0.572 -0.841 -3.323 ...\n",
      "  ..- attr(*, \"dimnames\")=List of 2\n",
      "  .. ..$ : chr [1:20] \"PC_1\" \"PC_2\" \"PC_3\" \"PC_4\" ...\n",
      "  .. ..$ : chr [1:73259] \"L1_AAACCCAAGACATACA\" \"L1_AAACCCACAACTGGTT\" \"L1_AAACCCACAGCATACT\" \"L1_AAACCCACATCAGTCA\" ...\n",
      " $ Z_corr        : num [1:20, 1:73259] -3.498 -3.882 -3.688 -0.975 -2.58 ...\n",
      "  ..- attr(*, \"dimnames\")=List of 2\n",
      "  .. ..$ : chr [1:20] \"harmony_1\" \"harmony_2\" \"harmony_3\" \"harmony_4\" ...\n",
      "  .. ..$ : chr [1:73259] \"L1_AAACCCAAGACATACA\" \"L1_AAACCCACAACTGGTT\" \"L1_AAACCCACAGCATACT\" \"L1_AAACCCACATCAGTCA\" ...\n",
      " $ betas         : num [1:22, 1:20, 1:100] 14.399 0.599 0.555 0.781 0.784 ...\n",
      " $ centroids     : num [1:20, 1:100] 0.9486 0.179 0.1833 0.0501 -0.0339 ...\n",
      " $ cache         :List of 2\n",
      "  ..$ : num [1:100, 1] 824 243 865 864 890 ...\n",
      "  ..$ : num [1:100, 1:20] 11750 2864 -6666 -6840 5381 ...\n",
      " $ centroids_pc  :'data.frame':\t100 obs. of  20 variables:\n",
      "  ..$ harmony_1 : num [1:100] 14.26 11.8 -7.7 -7.91 6.04 ...\n",
      "  ..$ harmony_2 : num [1:100] 2.69 2.79 2.25 1.85 -7.32 ...\n",
      "  ..$ harmony_3 : num [1:100] 2.76 5.18 0.17 -1.64 2.13 ...\n",
      "  ..$ harmony_4 : num [1:100] 0.753 -38.317 0.948 0.285 3.743 ...\n",
      "  ..$ harmony_5 : num [1:100] -0.51 25.993 -0.232 -0.779 4.837 ...\n",
      "  ..$ harmony_6 : num [1:100] -0.808 -9.724 -1.246 -0.252 2.432 ...\n",
      "  ..$ harmony_7 : num [1:100] -0.685 8.321 0.799 0.192 -1.528 ...\n",
      "  ..$ harmony_8 : num [1:100] -0.546 -5.128 -0.761 -1.09 -0.577 ...\n",
      "  ..$ harmony_9 : num [1:100] -0.432 4.955 -0.918 0.183 -0.958 ...\n",
      "  ..$ harmony_10: num [1:100] 0.534 -2.241 -1.085 -1.363 -3.778 ...\n",
      "  ..$ harmony_11: num [1:100] 0.564 -1.008 -0.853 -0.292 1.296 ...\n",
      "  ..$ harmony_12: num [1:100] 1.377 0.676 0.294 0.16 -0.759 ...\n",
      "  ..$ harmony_13: num [1:100] -0.859 3.49 -0.539 -0.315 -0.187 ...\n",
      "  ..$ harmony_14: num [1:100] -1.0521 -1.5204 0.0685 -0.4304 0.047 ...\n",
      "  ..$ harmony_15: num [1:100] 0.278 -0.65 -0.334 0.344 -0.72 ...\n",
      "  ..$ harmony_16: num [1:100] 0.454 1.109 0.234 0.295 -0.657 ...\n",
      "  ..$ harmony_17: num [1:100] 0.326 -0.645 0.167 0.055 -0.364 ...\n",
      "  ..$ harmony_18: num [1:100] 0.250595 0.270213 -0.468923 0.000387 0.364996 ...\n",
      "  ..$ harmony_19: num [1:100] -0.0977 0.5876 0.0629 0.1262 0.1619 ...\n",
      "  ..$ harmony_20: num [1:100] -0.733 -0.429 0.364 0.237 -0.172 ...\n",
      " $ umap          :List of 1\n",
      "  ..$ embedding: num [1:73259, 1:2] 0.804 3.808 4.674 -4.92 1.644 ...\n",
      "  .. ..- attr(*, \"scaled:center\")= num [1:2] 0.231 -0.33\n",
      "  .. ..- attr(*, \"dimnames\")=List of 2\n",
      "  .. .. ..$ : chr [1:73259] \"L1_AAACCCAAGACATACA\" \"L1_AAACCCACAACTGGTT\" \"L1_AAACCCACAGCATACT\" \"L1_AAACCCACATCAGTCA\" ...\n",
      "  .. .. ..$ : chr [1:2] \"UMAP1\" \"UMAP2\"\n",
      " $ save_uwot_path: chr \"../../../Data/PerDataset/HaoEtAl/haoetal_pbmc_multimodal.merged.T.raw.ADTfixed.symphony.uwot\"\n"
     ]
    }
   ],
   "source": [
    "reference %>% str"
   ]
  },
  {
   "cell_type": "code",
   "execution_count": 4,
   "id": "ba0c15d4-7434-415f-a4f8-50df52be745e",
   "metadata": {},
   "outputs": [],
   "source": [
    "query_seu = readRDS('../../../Data/PerDataset/Stimseq/raw.mincellfilt.htonegfilt.doubletfilt.Seurat.rds')"
   ]
  },
  {
   "cell_type": "code",
   "execution_count": 5,
   "id": "c528b818-d8cf-4280-b017-a32b54923a12",
   "metadata": {},
   "outputs": [
    {
     "name": "stderr",
     "output_type": "stream",
     "text": [
      "Warning message:\n",
      "\"\u001b[1m\u001b[22mThe `slot` argument of `GetAssayData()` is deprecated as of SeuratObject 5.0.0.\n",
      "\u001b[36mℹ\u001b[39m Please use the `layer` argument instead.\"\n"
     ]
    }
   ],
   "source": [
    "query_exprs = GetAssayData(object = query_seu, assay = \"originalexp\", slot = \"counts\")\n"
   ]
  },
  {
   "cell_type": "code",
   "execution_count": 6,
   "id": "59f5596c-6647-4d9d-b6fb-553a50c100af",
   "metadata": {},
   "outputs": [],
   "source": [
    "rna_features = rownames(query_exprs)[-grep(\"-prot\", rownames(query_exprs))]  \n",
    "\n",
    "query_exprs = query_exprs[rna_features, ]\n",
    "\n",
    "query_exprs_norm = query_exprs %>% singlecellmethods::normalizeData(method = \"log\")"
   ]
  },
  {
   "cell_type": "code",
   "execution_count": 8,
   "id": "92451a86-552e-4491-a6a6-722137b79830",
   "metadata": {},
   "outputs": [
    {
     "name": "stderr",
     "output_type": "stream",
     "text": [
      "Scaling and synchronizing query gene expression\n",
      "\n",
      "Found 5897 out of 6101 reference variable genes in query dataset\n",
      "\n",
      "Project query cells using reference gene loadings\n",
      "\n",
      "Clustering query cells to reference centroids\n",
      "\n",
      "Correcting query batch effects\n",
      "\n",
      "UMAP\n",
      "\n",
      "All done!\n",
      "\n"
     ]
    }
   ],
   "source": [
    "query = mapQuery(query_exprs_norm,             # query gene expression (genes x cells)\n",
    "                 query_seu@meta.data,        # query metadata (cells x attributes)\n",
    "                 reference,             # Symphony reference object\n",
    "                 do_normalize = FALSE,  # perform log(CP10k+1) normalization on query\n",
    "                 do_umap = TRUE)        # project query cells into reference UMAP"
   ]
  },
  {
   "cell_type": "code",
   "execution_count": 10,
   "id": "a207df2a-14b8-4e8f-bc6a-050ad5520662",
   "metadata": {},
   "outputs": [],
   "source": [
    "query = knnPredict(query, reference, reference$meta_data$`celltype.l2`, k = 5)"
   ]
  },
  {
   "cell_type": "code",
   "execution_count": 15,
   "id": "d66d31de-5140-4f62-8419-840136192093",
   "metadata": {},
   "outputs": [
    {
     "data": {
      "text/html": [
       "<table class=\"dataframe\">\n",
       "<caption>A data.frame: 6 × 2</caption>\n",
       "<thead>\n",
       "\t<tr><th></th><th scope=col>cell_type_pred_knn</th><th scope=col>cell_type_pred_knn_prob</th></tr>\n",
       "\t<tr><th></th><th scope=col>&lt;fct&gt;</th><th scope=col>&lt;dbl&gt;</th></tr>\n",
       "</thead>\n",
       "<tbody>\n",
       "\t<tr><th scope=row>3_AAACCTGAGACCGGAT</th><td>CD4 TEM  </td><td>0.6</td></tr>\n",
       "\t<tr><th scope=row>3_AAACCTGAGAGGGCTT</th><td>CD4 Naive</td><td>1.0</td></tr>\n",
       "\t<tr><th scope=row>3_AAACCTGAGAGTCTGG</th><td>CD4 TCM  </td><td>1.0</td></tr>\n",
       "\t<tr><th scope=row>3_AAACCTGAGCTAGCCC</th><td>CD4 Naive</td><td>0.6</td></tr>\n",
       "\t<tr><th scope=row>3_AAACCTGAGCTGCCCA</th><td>CD4 TCM  </td><td>1.0</td></tr>\n",
       "\t<tr><th scope=row>3_AAACCTGAGGCTCATT</th><td>CD4 TCM  </td><td>1.0</td></tr>\n",
       "</tbody>\n",
       "</table>\n"
      ],
      "text/latex": [
       "A data.frame: 6 × 2\n",
       "\\begin{tabular}{r|ll}\n",
       "  & cell\\_type\\_pred\\_knn & cell\\_type\\_pred\\_knn\\_prob\\\\\n",
       "  & <fct> & <dbl>\\\\\n",
       "\\hline\n",
       "\t3\\_AAACCTGAGACCGGAT & CD4 TEM   & 0.6\\\\\n",
       "\t3\\_AAACCTGAGAGGGCTT & CD4 Naive & 1.0\\\\\n",
       "\t3\\_AAACCTGAGAGTCTGG & CD4 TCM   & 1.0\\\\\n",
       "\t3\\_AAACCTGAGCTAGCCC & CD4 Naive & 0.6\\\\\n",
       "\t3\\_AAACCTGAGCTGCCCA & CD4 TCM   & 1.0\\\\\n",
       "\t3\\_AAACCTGAGGCTCATT & CD4 TCM   & 1.0\\\\\n",
       "\\end{tabular}\n"
      ],
      "text/markdown": [
       "\n",
       "A data.frame: 6 × 2\n",
       "\n",
       "| <!--/--> | cell_type_pred_knn &lt;fct&gt; | cell_type_pred_knn_prob &lt;dbl&gt; |\n",
       "|---|---|---|\n",
       "| 3_AAACCTGAGACCGGAT | CD4 TEM   | 0.6 |\n",
       "| 3_AAACCTGAGAGGGCTT | CD4 Naive | 1.0 |\n",
       "| 3_AAACCTGAGAGTCTGG | CD4 TCM   | 1.0 |\n",
       "| 3_AAACCTGAGCTAGCCC | CD4 Naive | 0.6 |\n",
       "| 3_AAACCTGAGCTGCCCA | CD4 TCM   | 1.0 |\n",
       "| 3_AAACCTGAGGCTCATT | CD4 TCM   | 1.0 |\n",
       "\n"
      ],
      "text/plain": [
       "                   cell_type_pred_knn cell_type_pred_knn_prob\n",
       "3_AAACCTGAGACCGGAT CD4 TEM            0.6                    \n",
       "3_AAACCTGAGAGGGCTT CD4 Naive          1.0                    \n",
       "3_AAACCTGAGAGTCTGG CD4 TCM            1.0                    \n",
       "3_AAACCTGAGCTAGCCC CD4 Naive          0.6                    \n",
       "3_AAACCTGAGCTGCCCA CD4 TCM            1.0                    \n",
       "3_AAACCTGAGGCTCATT CD4 TCM            1.0                    "
      ]
     },
     "metadata": {},
     "output_type": "display_data"
    }
   ],
   "source": [
    "query$meta_data[c('cell_type_pred_knn', 'cell_type_pred_knn_prob')]  %>% head"
   ]
  },
  {
   "cell_type": "code",
   "execution_count": 16,
   "id": "2e35fd94-359d-4a14-bffa-76e0abf8f14a",
   "metadata": {},
   "outputs": [],
   "source": [
    "query$meta_data[c('cell_type_pred_knn', 'cell_type_pred_knn_prob')] %>% write.table('../../../Data/PerDataset/Stimseq/raw.mincellfilt.htonegfilt.doubletfilt.symphony.tsv',\n",
    "                              row.names = TRUE, sep = '\\t')"
   ]
  },
  {
   "cell_type": "code",
   "execution_count": 17,
   "id": "4efaabc5-e74a-4f09-adae-3fbaa8a8ba97",
   "metadata": {},
   "outputs": [],
   "source": [
    "# Sync the column names for both data frames\n",
    "reference$meta_data$cell_type_pred_knn = NA\n",
    "reference$meta_data$cell_type_pred_knn_prob = NA\n",
    "reference$meta_data$ref_query = 'reference'\n",
    "query$meta_data$ref_query = 'query'\n",
    "\n"
   ]
  },
  {
   "cell_type": "code",
   "execution_count": 31,
   "id": "6d114b99-b57a-4ecc-a493-ec46277a068c",
   "metadata": {},
   "outputs": [],
   "source": [
    "# Add the UMAP coordinates to the metadata\n",
    "meta_data_combined = rbind(query$meta_data[c('cell_type_pred_knn', 'ref_query')] %>% rename('celltype.l2' = 'cell_type_pred_knn'), \n",
    "                           reference$meta_data[c('celltype.l2', 'ref_query')])\n",
    "\n",
    "\n",
    "umap_combined = rbind(query$umap, reference$umap$embedding)\n"
   ]
  },
  {
   "cell_type": "code",
   "execution_count": 32,
   "id": "5eb0cd56-e4b1-4779-b349-34b2ec9ba1b8",
   "metadata": {},
   "outputs": [],
   "source": [
    "umap_combined_labels = cbind(meta_data_combined, umap_combined)"
   ]
  },
  {
   "cell_type": "markdown",
   "id": "f3fc577e-9c30-49df-8fce-d4233f4a1af7",
   "metadata": {},
   "source": [
    "# run ProjecTILs"
   ]
  },
  {
   "cell_type": "code",
   "execution_count": 1,
   "id": "e015f213-a43e-4ae8-a767-bb55dc2ab401",
   "metadata": {},
   "outputs": [
    {
     "name": "stderr",
     "output_type": "stream",
     "text": [
      "Loading required package: SeuratObject\n",
      "\n",
      "Loading required package: sp\n",
      "\n",
      "\n",
      "Attaching package: ‘SeuratObject’\n",
      "\n",
      "\n",
      "The following objects are masked from ‘package:base’:\n",
      "\n",
      "    intersect, t\n",
      "\n",
      "\n",
      "\n",
      "Attaching package: ‘dplyr’\n",
      "\n",
      "\n",
      "The following objects are masked from ‘package:stats’:\n",
      "\n",
      "    filter, lag\n",
      "\n",
      "\n",
      "The following objects are masked from ‘package:base’:\n",
      "\n",
      "    intersect, setdiff, setequal, union\n",
      "\n",
      "\n"
     ]
    }
   ],
   "source": [
    "library(Seurat)\n",
    "library(dplyr)\n",
    "# library(tidyverse)"
   ]
  },
  {
   "cell_type": "code",
   "execution_count": 2,
   "id": "6fbfdaf9-dff3-4313-bc60-8db085c73bdf",
   "metadata": {},
   "outputs": [],
   "source": [
    "library(ProjecTILs)\n"
   ]
  },
  {
   "cell_type": "code",
   "execution_count": 7,
   "id": "439dea0e-07bb-40e7-89c6-c038b124f9d4",
   "metadata": {},
   "outputs": [],
   "source": [
    "options(timeout = 600)"
   ]
  },
  {
   "cell_type": "code",
   "execution_count": 3,
   "id": "99d9e2bd-baf0-42e3-b0c4-d37b92bb6fa9",
   "metadata": {},
   "outputs": [],
   "source": [
    "cd4ref = readRDS('../../../Data/Misc/CD4T_human_ref_v1.rds')\n",
    "cd8ref = readRDS('../../../Data/Misc/CD8T_human_ref_v1.rds')"
   ]
  },
  {
   "cell_type": "code",
   "execution_count": 24,
   "id": "1e722fd7-faba-432d-912d-d518f766bafe",
   "metadata": {},
   "outputs": [],
   "source": [
    "alltref = readRDS('../../../Data/Misc/ref_TILAtlas_mouse_v1.rds')"
   ]
  },
  {
   "cell_type": "code",
   "execution_count": 14,
   "id": "7e47f966-6fb4-45c8-b475-d7dd247de3ae",
   "metadata": {},
   "outputs": [],
   "source": [
    "query_seu = readRDS('../../../Data/PerDataset/Stimseq/raw.mincellfilt.htonegfilt.doubletfilt.Seurat.rds')"
   ]
  },
  {
   "cell_type": "code",
   "execution_count": 15,
   "id": "f961f644-1927-4a8c-9d26-dfc563e5c72c",
   "metadata": {},
   "outputs": [],
   "source": [
    "query_exprs = GetAssayData(object = query_seu, assay = \"originalexp\", slot = \"counts\")\n",
    "rna_features = rownames(query_exprs)[-grep(\"-prot\", rownames(query_exprs))]  \n",
    "query_exprs = query_exprs[rna_features, ]"
   ]
  },
  {
   "cell_type": "code",
   "execution_count": 26,
   "id": "621bbb9d-5a68-4297-abc7-58b61a9581e6",
   "metadata": {},
   "outputs": [],
   "source": [
    "query_rna = CreateSeuratObject(query_exprs, meta.data = query_seu@meta.data)"
   ]
  },
  {
   "cell_type": "code",
   "execution_count": 16,
   "id": "036ee59e-8fa7-4bab-a1b1-7170af61f0a6",
   "metadata": {},
   "outputs": [
    {
     "data": {
      "text/plain": [
       "An object of class Seurat \n",
       "36601 features across 43222 samples within 1 assay \n",
       "Active assay: RNA (36601 features, 0 variable features)\n",
       " 1 layer present: counts"
      ]
     },
     "metadata": {},
     "output_type": "display_data"
    }
   ],
   "source": [
    "query_rna"
   ]
  },
  {
   "cell_type": "code",
   "execution_count": 17,
   "id": "08b2a0a6-9608-4a39-8c6a-6cd92cd03f60",
   "metadata": {},
   "outputs": [
    {
     "name": "stdout",
     "output_type": "stream",
     "text": [
      "  |                                                                      |   0%[1] \"Using assay RNA for query\"\n"
     ]
    },
    {
     "name": "stderr",
     "output_type": "stream",
     "text": [
      "Normalizing layer: counts\n",
      "\n"
     ]
    },
    {
     "name": "stdout",
     "output_type": "stream",
     "text": [
      "[1] \"Aligning query to reference map for batch-correction...\"\n"
     ]
    },
    {
     "name": "stderr",
     "output_type": "stream",
     "text": [
      "Warning message:\n",
      "“Layer counts isn't present in the assay object[[assay]]; returning NULL”\n",
      "Preparing PCA embeddings for objects...\n",
      "\n"
     ]
    },
    {
     "name": "stdout",
     "output_type": "stream",
     "text": [
      "\n",
      "Projecting corrected query onto Reference PCA space\n",
      "\n",
      "Projecting corrected query onto Reference UMAP space\n",
      "  |======================================================================| 100%\n",
      "\n"
     ]
    },
    {
     "name": "stderr",
     "output_type": "stream",
     "text": [
      "Creating slots functional.cluster and functional.cluster.conf in query object\n",
      "\n"
     ]
    }
   ],
   "source": [
    "query_cd4 = Run.ProjecTILs(query_rna, ref=cd4ref, filter.cells = FALSE)\n"
   ]
  },
  {
   "cell_type": "code",
   "execution_count": 21,
   "id": "6e328418-4bfd-4cb8-86f3-6c2c6aeb4109",
   "metadata": {
    "tags": []
   },
   "outputs": [
    {
     "name": "stdout",
     "output_type": "stream",
     "text": [
      "Formal class 'Seurat' [package \"SeuratObject\"] with 13 slots\n",
      "  ..@ assays      :List of 2\n",
      "  .. ..$ RNA       :Formal class 'Assay' [package \"SeuratObject\"] with 8 slots\n",
      "  .. .. .. ..@ counts       :Formal class 'dgCMatrix' [package \"Matrix\"] with 6 slots\n",
      "  .. .. .. .. .. ..@ i       : int [1:91961659] 23 32 65 116 120 140 148 209 228 244 ...\n",
      "  .. .. .. .. .. ..@ p       : int [1:43223] 0 966 2243 6646 8263 11343 15573 17241 18228 20926 ...\n",
      "  .. .. .. .. .. ..@ Dim     : int [1:2] 50753 43222\n",
      "  .. .. .. .. .. ..@ Dimnames:List of 2\n",
      "  .. .. .. .. .. .. ..$ : chr [1:50753] \"A1BG\" \"A1BG-AS1\" \"A1CF\" \"A2M\" ...\n",
      "  .. .. .. .. .. .. ..$ : chr [1:43222] \"3_AAACCTGAGACCGGAT\" \"3_AAACCTGAGAGGGCTT\" \"3_AAACCTGAGAGTCTGG\" \"3_AAACCTGAGCTAGCCC\" ...\n",
      "  .. .. .. .. .. ..@ x       : num [1:91961659] 1 1 2 1 1 1 1 1 1 1 ...\n",
      "  .. .. .. .. .. ..@ factors : list()\n",
      "  .. .. .. ..@ data         :Formal class 'dgCMatrix' [package \"Matrix\"] with 6 slots\n",
      "  .. .. .. .. .. ..@ i       : int [1:91961659] 23 32 65 116 120 140 148 209 228 244 ...\n",
      "  .. .. .. .. .. ..@ p       : int [1:43223] 0 966 2243 6646 8263 11343 15573 17241 18228 20926 ...\n",
      "  .. .. .. .. .. ..@ Dim     : int [1:2] 50753 43222\n",
      "  .. .. .. .. .. ..@ Dimnames:List of 2\n",
      "  .. .. .. .. .. .. ..$ : chr [1:50753] \"A1BG\" \"A1BG-AS1\" \"A1CF\" \"A2M\" ...\n",
      "  .. .. .. .. .. .. ..$ : chr [1:43222] \"3_AAACCTGAGACCGGAT\" \"3_AAACCTGAGAGGGCTT\" \"3_AAACCTGAGAGTCTGG\" \"3_AAACCTGAGCTAGCCC\" ...\n",
      "  .. .. .. .. .. ..@ x       : num [1:91961659] 2.07 2.07 2.7 2.07 2.07 ...\n",
      "  .. .. .. .. .. ..@ factors : list()\n",
      "  .. .. .. ..@ scale.data   : num[0 , 0 ] \n",
      "  .. .. .. ..@ assay.orig   : NULL\n",
      "  .. .. .. ..@ var.features : chr [1:800] \"CXCL13\" \"CCL4\" \"GNLY\" \"GZMB\" ...\n",
      "  .. .. .. ..@ meta.features:'data.frame':\t50753 obs. of  0 variables\n",
      "  .. .. .. ..@ misc         : Named list()\n",
      "  .. .. .. ..@ key          : Named chr \"rna_\"\n",
      "  .. .. .. .. ..- attr(*, \"names\")= chr \"\"\n",
      "  .. ..$ integrated:Formal class 'Assay' [package \"SeuratObject\"] with 8 slots\n",
      "  .. .. .. ..@ counts       : num[0 , 0 ] \n",
      "  .. .. .. ..@ data         :Formal class 'dgCMatrix' [package \"Matrix\"] with 6 slots\n",
      "  .. .. .. .. .. ..@ i       : int [1:33842826] 0 1 2 3 4 5 6 7 8 9 ...\n",
      "  .. .. .. .. .. ..@ p       : int [1:43223] 0 783 1566 2349 3132 3915 4698 5481 6264 7047 ...\n",
      "  .. .. .. .. .. ..@ Dim     : int [1:2] 783 43222\n",
      "  .. .. .. .. .. ..@ Dimnames:List of 2\n",
      "  .. .. .. .. .. .. ..$ : chr [1:783] \"CXCL13\" \"CCL4\" \"GNLY\" \"GZMB\" ...\n",
      "  .. .. .. .. .. .. ..$ : chr [1:43222] \"3_AAACCTGAGACCGGAT\" \"3_AAACCTGAGAGGGCTT\" \"3_AAACCTGAGAGTCTGG\" \"3_AAACCTGAGCTAGCCC\" ...\n",
      "  .. .. .. .. .. ..@ x       : num [1:33842826] 0.334 0.097 -0.0344 -0.0728 -0.0231 ...\n",
      "  .. .. .. .. .. ..@ factors : list()\n",
      "  .. .. .. ..@ scale.data   : num[0 , 0 ] \n",
      "  .. .. .. ..@ assay.orig   : NULL\n",
      "  .. .. .. ..@ var.features : chr [1:783] \"CXCL13\" \"CCL4\" \"GNLY\" \"GZMB\" ...\n",
      "  .. .. .. ..@ meta.features:'data.frame':\t783 obs. of  0 variables\n",
      "  .. .. .. ..@ misc         : Named list()\n",
      "  .. .. .. ..@ key          : chr \"integrated_\"\n",
      "  ..@ meta.data   :'data.frame':\t43222 obs. of  79 variables:\n",
      "  .. ..$ orig.ident                 : Factor w/ 4 levels \"1\",\"2\",\"3\",\"4\": 3 3 3 3 3 3 3 3 3 3 ...\n",
      "  .. ..$ nCount_RNA                 : num [1:43222] 1443 3508 18799 4133 10485 ...\n",
      "  .. ..$ nFeature_RNA               : int [1:43222] 966 1277 4403 1617 3080 4230 1668 987 2698 2401 ...\n",
      "  .. ..$ nCount_originalexp         : num [1:43222] 3241 4559 20879 5523 13193 ...\n",
      "  .. ..$ nFeature_originalexp       : int [1:43222] 1085 1387 4527 1737 3205 4363 1776 1103 2823 2530 ...\n",
      "  .. ..$ barcode                    : Factor w/ 42319 levels \"AAACCTGAGACCACGA-1\",..: 2 6 7 8 9 14 17 18 21 22 ...\n",
      "  .. ..$ BRI                        : Factor w/ 4 levels \"2008\",\"2011\",..: 3 3 3 3 3 3 3 3 3 3 ...\n",
      "  .. ..$ Run                        : num [1:43222] 2 2 2 2 2 2 2 2 2 2 ...\n",
      "  .. ..$ Well                       : num [1:43222] 1 1 1 1 1 1 1 1 1 1 ...\n",
      "  .. ..$ Batch                      : num [1:43222] 3 3 3 3 3 3 3 3 3 3 ...\n",
      "  .. ..$ Biobank_ID                 : Factor w/ 5 levels \"10033066\",\"10041243\",..: 3 5 4 3 5 3 3 3 3 5 ...\n",
      "  .. ..$ Sort_Status                : Factor w/ 3 levels \"+\",\"-\",\"U\": 1 3 1 3 1 1 2 1 1 1 ...\n",
      "  .. ..$ HTO_Status                 : Factor w/ 3 levels \"Hashtag1 (U)\",..: 3 1 3 1 3 3 2 3 3 3 ...\n",
      "  .. ..$ Demuxlet_Assignment        : Factor w/ 1 level \"SNG\": 1 1 1 1 1 1 1 1 1 1 ...\n",
      "  .. ..$ Total_RNA_Count            : num [1:43222] 1443 3508 18799 4133 10485 ...\n",
      "  .. ..$ Total_ADT_Count            : num [1:43222] 1798 1051 2080 1390 2708 ...\n",
      "  .. ..$ Total_HTO_Count            : num [1:43222] 4332 590 5365 1680 8394 ...\n",
      "  .. ..$ frac_ADT                   : num [1:43222] 0.5548 0.2305 0.0996 0.2517 0.2053 ...\n",
      "  .. ..$ A_cdr3                     : Factor w/ 23226 levels \"CAAAANQAGTALIF\",..: 23226 418 3421 23226 22885 16250 15525 23226 10637 11653 ...\n",
      "  .. ..$ B_cdr3                     : Factor w/ 29683 levels \"CAAAVASDGELFF\",..: 29683 27027 12618 27318 12502 10099 4534 29683 5384 23672 ...\n",
      "  .. ..$ DEMUX_RD.UNIQ              : num [1:43222] 6 164 1057 179 673 ...\n",
      "  .. ..$ DEMUX_N.SNP                : num [1:43222] 6 46 162 53 92 141 74 7 88 71 ...\n",
      "  .. ..$ DEMUX_BEST                 : Factor w/ 5 levels \"SNG-10033066\",..: 3 5 4 3 5 3 3 3 3 5 ...\n",
      "  .. ..$ DEMUX_SNG.1ST              : num [1:43222] 10042029 10057029 10049452 10042029 10057029 ...\n",
      "  .. ..$ DEMUX_SNG.LLK1             : num [1:43222] -2.1 -9.82 -44.52 -28.73 -49.49 ...\n",
      "  .. ..$ DEMUX_DBL.1ST              : num [1:43222] 10042029 10041243 10042029 10042029 10057029 ...\n",
      "  .. ..$ DEMUX_DBL.2ND              : num [1:43222] 10033066 10057029 10049452 10033066 10042029 ...\n",
      "  .. ..$ DEMUX_LLK12                : num [1:43222] -2.26 -40.8 -103.57 -36.15 -86.04 ...\n",
      "  .. ..$ DEMUX_PRB.DBL              : num [1:43222] 6.21e-02 1.03e-15 6.30e-28 1.66e-05 3.71e-18 ...\n",
      "  .. ..$ DEMUX_PRB.SNG1             : num [1:43222] 0.967 1 1 1 1 1 1 0.99 1 1 ...\n",
      "  .. ..$ batch_name                 : Factor w/ 4 levels \"2010_rerun\",\"2013_rerun\",..: NA 3 3 3 3 3 3 NA 3 3 ...\n",
      "  .. ..$ B_is_cell                  : Factor w/ 3 levels \"False\",\"True\",..: 3 2 2 2 2 2 2 3 2 2 ...\n",
      "  .. ..$ B_high_confidence          : Factor w/ 3 levels \"False\",\"True\",..: 3 2 2 2 2 2 2 3 2 2 ...\n",
      "  .. ..$ B_full_length              : Factor w/ 3 levels \"False\",\"True\",..: 3 2 2 2 2 2 2 3 2 2 ...\n",
      "  .. ..$ B_productive               : Factor w/ 3 levels \"False\",\"True\",..: 3 2 2 2 2 2 2 3 2 2 ...\n",
      "  .. ..$ B_length                   : num [1:43222] NaN 512 498 524 510 482 654 NaN 526 512 ...\n",
      "  .. ..$ B_v_gene                   : Factor w/ 52 levels \"TRBV2\",\"TRBV3-1\",..: 52 44 48 44 27 48 43 52 1 16 ...\n",
      "  .. ..$ B_d_gene                   : Factor w/ 3 levels \"TRBD1\",\"TRBD2\",..: 3 1 3 3 3 3 3 3 3 3 ...\n",
      "  .. ..$ B_j_gene                   : Factor w/ 14 levels \"TRBJ1-1\",\"TRBJ1-2\",..: 14 13 2 4 8 4 7 14 2 2 ...\n",
      "  .. ..$ B_c_gene                   : Factor w/ 4 levels \"TRAC\",\"TRBC1\",..: 4 3 2 2 3 2 3 4 2 2 ...\n",
      "  .. ..$ B_cdr1                     : Factor w/ 40 levels \"DFQATT\",\"ENHRY\",..: 40 1 15 1 21 15 10 40 35 15 ...\n",
      "  .. ..$ B_cdr2                     : Factor w/ 48 levels \"ANQGSEA\",\"FNNNVP\",..: 48 22 21 22 7 21 24 48 14 28 ...\n",
      "  .. ..$ B_cdr3_nt                  : Factor w/ 30006 levels \"TGCACCAGCAGGGTAATGAACACTGAAGCTTTCTTT\",..: 30006 2932 24346 1932 18182 24103 28071 30006 20596 22524 ...\n",
      "  .. ..$ B_reads                    : num [1:43222] NaN 1380 1430 1174 4878 ...\n",
      "  .. ..$ B_umis                     : num [1:43222] NaN 14 12 10 40 8 12 NaN 9 17 ...\n",
      "  .. ..$ B_raw_clonotype_id         : Factor w/ 16338 levels \"clonotype1\",\"clonotype2\",..: NA 717 13200 3497 14976 9413 4949 NA 10908 4689 ...\n",
      "  .. ..$ B_raw_consensus_id         : Factor w/ 16802 levels \"clonotype1_consensus_1\",..: NA 825 13652 3767 15437 9808 5266 NA 11326 5001 ...\n",
      "  .. ..$ B_Num_Hits_In_Barcode      : num [1:43222] NaN 1 1 1 1 1 1 NaN 1 1 ...\n",
      "  .. ..$ B_Next_Highest_ReadCount   : num [1:43222] NaN NaN NaN NaN NaN NaN NaN NaN NaN NaN ...\n",
      "  .. ..$ B_Num_Productive_In_Barcode: num [1:43222] NaN 1 1 1 1 1 1 NaN 1 1 ...\n",
      "  .. ..$ B_Has_Unproductive         : Factor w/ 3 levels \"False\",\"True\",..: 3 1 1 1 1 1 1 3 1 1 ...\n",
      "  .. ..$ A_is_cell                  : Factor w/ 3 levels \"False\",\"True\",..: 3 2 2 2 2 2 2 3 2 2 ...\n",
      "  .. ..$ A_high_confidence          : Factor w/ 3 levels \"False\",\"True\",..: 3 2 2 2 2 2 2 3 2 2 ...\n",
      "  .. ..$ A_full_length              : Factor w/ 3 levels \"False\",\"True\",..: 3 2 2 1 2 2 2 3 2 2 ...\n",
      "  .. ..$ A_productive               : Factor w/ 3 levels \"False\",\"True\",..: 3 2 2 1 2 2 2 3 2 2 ...\n",
      "  .. ..$ A_length                   : num [1:43222] NaN 511 550 395 617 508 511 NaN 501 539 ...\n",
      "  .. ..$ A_v_gene                   : Factor w/ 46 levels \"TRAV1-1\",\"TRAV1-2\",..: 46 30 43 4 10 2 27 46 19 24 ...\n",
      "  .. ..$ A_d_gene                   : Factor w/ 1 level \"nan\": 1 1 1 1 1 1 1 1 1 1 ...\n",
      "  .. ..$ A_j_gene                   : Factor w/ 54 levels \"TRAJ3\",\"TRAJ4\",..: 54 45 52 44 16 24 32 54 6 24 ...\n",
      "  .. ..$ A_c_gene                   : Factor w/ 2 levels \"TRAC\",\"nan\": 2 1 1 1 1 1 1 2 1 1 ...\n",
      "  .. ..$ A_cdr1                     : Factor w/ 50 levels \"ATGYPS\",\"DRGSQS\",..: 50 16 39 50 22 34 41 50 12 36 ...\n",
      "  .. ..$ A_cdr2                     : Factor w/ 50 levels \"AMKANDK\",\"ATKADDK\",..: 50 16 23 50 48 35 29 50 41 17 ...\n",
      "  .. ..$ A_cdr3_nt                  : Factor w/ 24634 levels \"TGCAATCCGGCTCTCCTTTTGTACAATAAGCTGATTTTT\",..: 24634 7257 9648 24634 24554 18056 19458 24634 3359 12213 ...\n",
      "  .. ..$ A_reads                    : num [1:43222] NaN 235 725 169 2450 425 474 NaN 930 297 ...\n",
      "  .. ..$ A_umis                     : num [1:43222] NaN 3 8 1 31 5 5 NaN 10 4 ...\n",
      "  .. ..$ A_raw_clonotype_id         : Factor w/ 14271 levels \"clonotype1\",\"clonotype2\",..: 14271 719 11384 14271 12963 8032 4769 14271 9510 4509 ...\n",
      "  .. ..$ A_raw_consensus_id         : Factor w/ 16302 levels \"clonotype1_consensus_2\",..: 16302 1056 13179 16302 14843 9592 6043 16302 11181 5730 ...\n",
      "  .. ..$ A_Num_Hits_In_Barcode      : num [1:43222] NaN 2 1 1 1 2 1 NaN 2 1 ...\n",
      "  .. ..$ A_Next_Highest_ReadCount   : num [1:43222] NaN 67 NaN NaN NaN ...\n",
      "  .. ..$ A_Num_Productive_In_Barcode: num [1:43222] NaN 1 1 0 1 1 1 NaN 1 1 ...\n",
      "  .. ..$ A_Has_Unproductive         : Factor w/ 3 levels \"False\",\"True\",..: 3 2 1 2 1 2 1 3 2 1 ...\n",
      "  .. ..$ B_Possible_TCR_Doublet     : Factor w/ 5 levels \"Doublet\",\"Missing\",..: 5 3 3 3 3 3 3 5 3 3 ...\n",
      "  .. ..$ A_Possible_TCR_Doublet     : Factor w/ 5 levels \"Doublet\",\"Missing\",..: 5 3 3 4 3 3 3 5 3 3 ...\n",
      "  .. ..$ DEMUX_BEST_Category        : Factor w/ 1 level \"SNG\": 1 1 1 1 1 1 1 1 1 1 ...\n",
      "  .. ..$ Hashtag1                   : int [1:43222] 8 391 9 1477 17 26 9 10 6 22 ...\n",
      "  .. ..$ Hashtag2                   : int [1:43222] 19 61 55 50 39 127 1537 27 47 147 ...\n",
      "  .. ..$ Hashtag3                   : int [1:43222] 4305 138 5301 153 8338 12370 99 3314 4892 3277 ...\n",
      "  .. ..$ functional.cluster         : chr [1:43222] \"CD4.Tfh\" \"CD4.NaiveLike\" \"CD4.Th17\" \"CD4.NaiveLike\" ...\n",
      "  .. ..$ functional.cluster.conf    : num [1:43222] 0.788 1 0.956 0.836 0.611 ...\n",
      "  ..@ active.assay: chr \"integrated\"\n",
      "  ..@ active.ident: Factor w/ 4 levels \"1\",\"2\",\"3\",\"4\": 3 3 3 3 3 3 3 3 3 3 ...\n",
      "  .. ..- attr(*, \"names\")= chr [1:43222] \"3_AAACCTGAGACCGGAT\" \"3_AAACCTGAGAGGGCTT\" \"3_AAACCTGAGAGTCTGG\" \"3_AAACCTGAGCTAGCCC\" ...\n",
      "  ..@ graphs      : list()\n",
      "  ..@ neighbors   : list()\n",
      "  ..@ reductions  :List of 2\n",
      "  .. ..$ pca :Formal class 'DimReduc' [package \"SeuratObject\"] with 9 slots\n",
      "  .. .. .. ..@ cell.embeddings           : num [1:43222, 1:20] 3.76 6.1 -1.29 4.66 1.36 ...\n",
      "  .. .. .. .. ..- attr(*, \"dimnames\")=List of 2\n",
      "  .. .. .. .. .. ..$ : Named chr [1:43222] \"3_AAACCTGAGACCGGAT\" \"3_AAACCTGAGAGGGCTT\" \"3_AAACCTGAGAGTCTGG\" \"3_AAACCTGAGCTAGCCC\" ...\n",
      "  .. .. .. .. .. .. ..- attr(*, \"names\")= chr [1:43222] \"Q_3_AAACCTGAGACCGGAT\" \"Q_3_AAACCTGAGAGGGCTT\" \"Q_3_AAACCTGAGAGTCTGG\" \"Q_3_AAACCTGAGCTAGCCC\" ...\n",
      "  .. .. .. .. .. ..$ : chr [1:20] \"PC_1\" \"PC_2\" \"PC_3\" \"PC_4\" ...\n",
      "  .. .. .. ..@ feature.loadings          : num[0 , 0 ] \n",
      "  .. .. .. ..@ feature.loadings.projected: num[0 , 0 ] \n",
      "  .. .. .. ..@ assay.used                : chr \"integrated\"\n",
      "  .. .. .. ..@ global                    : logi FALSE\n",
      "  .. .. .. ..@ stdev                     : num(0) \n",
      "  .. .. .. ..@ jackstraw                 :Formal class 'JackStrawData' [package \"SeuratObject\"] with 4 slots\n",
      "  .. .. .. .. .. ..@ empirical.p.values     : num[0 , 0 ] \n",
      "  .. .. .. .. .. ..@ fake.reduction.scores  : num[0 , 0 ] \n",
      "  .. .. .. .. .. ..@ empirical.p.values.full: num[0 , 0 ] \n",
      "  .. .. .. .. .. ..@ overall.p.values       : num[0 , 0 ] \n",
      "  .. .. .. ..@ misc                      : list()\n",
      "  .. .. .. ..@ key                       : chr \"PC_\"\n",
      "  .. ..$ umap:Formal class 'DimReduc' [package \"SeuratObject\"] with 9 slots\n",
      "  .. .. .. ..@ cell.embeddings           : num [1:43222, 1:2] -2.143 -1.402 -1.292 -0.711 1.174 ...\n",
      "  .. .. .. .. ..- attr(*, \"dimnames\")=List of 2\n",
      "  .. .. .. .. .. ..$ : Named chr [1:43222] \"3_AAACCTGAGACCGGAT\" \"3_AAACCTGAGAGGGCTT\" \"3_AAACCTGAGAGTCTGG\" \"3_AAACCTGAGCTAGCCC\" ...\n",
      "  .. .. .. .. .. .. ..- attr(*, \"names\")= chr [1:43222] \"Q_3_AAACCTGAGACCGGAT\" \"Q_3_AAACCTGAGAGGGCTT\" \"Q_3_AAACCTGAGAGTCTGG\" \"Q_3_AAACCTGAGCTAGCCC\" ...\n",
      "  .. .. .. .. .. ..$ : chr [1:2] \"UMAP_1\" \"UMAP_2\"\n",
      "  .. .. .. ..@ feature.loadings          : num[0 , 0 ] \n",
      "  .. .. .. ..@ feature.loadings.projected: num[0 , 0 ] \n",
      "  .. .. .. ..@ assay.used                : chr \"integrated\"\n",
      "  .. .. .. ..@ global                    : logi FALSE\n",
      "  .. .. .. ..@ stdev                     : num(0) \n",
      "  .. .. .. ..@ jackstraw                 :Formal class 'JackStrawData' [package \"SeuratObject\"] with 4 slots\n",
      "  .. .. .. .. .. ..@ empirical.p.values     : num[0 , 0 ] \n",
      "  .. .. .. .. .. ..@ fake.reduction.scores  : num[0 , 0 ] \n",
      "  .. .. .. .. .. ..@ empirical.p.values.full: num[0 , 0 ] \n",
      "  .. .. .. .. .. ..@ overall.p.values       : num[0 , 0 ] \n",
      "  .. .. .. ..@ misc                      : list()\n",
      "  .. .. .. ..@ key                       : chr \"UMAP_\"\n",
      "  ..@ images      : list()\n",
      "  ..@ project.name: chr \"SeuratProject\"\n",
      "  ..@ misc        : list()\n",
      "  ..@ version     :Classes 'package_version', 'numeric_version'  hidden list of 1\n",
      "  .. ..$ : int [1:3] 5 0 2\n",
      "  ..@ commands    :List of 2\n",
      "  .. ..$ FindIntegrationAnchors:Formal class 'SeuratCommand' [package \"SeuratObject\"] with 5 slots\n",
      "  .. .. .. ..@ name       : chr \"FindIntegrationAnchors.wdist\"\n",
      "  .. .. .. ..@ time.stamp : POSIXct[1:1], format: \"2024-09-12 12:46:36\"\n",
      "  .. .. .. ..@ assay.used : chr [1:2] \"integrated\" \"RNA\"\n",
      "  .. .. .. ..@ call.string: chr [1:3] \"FindIntegrationAnchors.wdist(object.list, dims = dims.vec, k.anchor = k.anchor, \" \"    anchor.features = anchor.features, reference = reference, \" \"    assay = assay, k.score = k.score, verbose = verbose)\"\n",
      "  .. .. .. ..@ params     :List of 10\n",
      "  .. .. .. .. ..$ assay               : chr [1:2] \"integrated\" \"RNA\"\n",
      "  .. .. .. .. ..$ normalization.method: chr \"LogNormalize\"\n",
      "  .. .. .. .. ..$ anchor.features     : chr [1:783] \"CXCL13\" \"CCL4\" \"GNLY\" \"GZMB\" ...\n",
      "  .. .. .. .. ..$ l2.norm             : logi TRUE\n",
      "  .. .. .. .. ..$ dims                : int [1:20] 1 2 3 4 5 6 7 8 9 10 ...\n",
      "  .. .. .. .. ..$ k.anchor            : num 5\n",
      "  .. .. .. .. ..$ k.filter            : logi NA\n",
      "  .. .. .. .. ..$ k.score             : num 30\n",
      "  .. .. .. .. ..$ max.features        : num 200\n",
      "  .. .. .. .. ..$ verbose             : logi FALSE\n",
      "  .. ..$ withCallingHandlers   :Formal class 'SeuratCommand' [package \"SeuratObject\"] with 5 slots\n",
      "  .. .. .. ..@ name       : chr \"withCallingHandlers\"\n",
      "  .. .. .. ..@ time.stamp : POSIXct[1:1], format: \"2024-09-12 12:51:22\"\n",
      "  .. .. .. ..@ assay.used : NULL\n",
      "  .. .. .. ..@ call.string: chr [1:2] \"withCallingHandlers(expr, warning = function(w) if (inherits(w, \" \"    classes)) tryInvokeRestart(\\\"muffleWarning\\\"))\"\n",
      "  .. .. .. ..@ params     :List of 8\n",
      "  .. .. .. .. ..$ new.assay.name       : chr \"integrated\"\n",
      "  .. .. .. .. ..$ features.to.integrate: chr [1:783] \"CXCL13\" \"CCL4\" \"GNLY\" \"GZMB\" ...\n",
      "  .. .. .. .. ..$ dims                 : int 20\n",
      "  .. .. .. .. ..$ k.weight             : chr \"max\"\n",
      "  .. .. .. .. ..$ sample.tree          : num [1, 1:2] -1 -2\n",
      "  .. .. .. .. ..$ hclust.method        : chr [1:4] \"single\" \"complete\" \"ward.D2\" \"average\"\n",
      "  .. .. .. .. ..$ semisupervised       : logi TRUE\n",
      "  .. .. .. .. ..$ verbose              : logi FALSE\n",
      "  ..@ tools       :List of 1\n",
      "  .. ..$ Integration:Formal class 'IntegrationData' [package \"Seurat\"] with 7 slots\n",
      "  .. .. .. ..@ neighbors         : NULL\n",
      "  .. .. .. ..@ weights           : NULL\n",
      "  .. .. .. ..@ integration.matrix: NULL\n",
      "  .. .. .. ..@ anchors           :'data.frame':\t2030 obs. of  9 variables:\n",
      "  .. .. .. .. ..$ cell1    : num [1:2030] 47 109 109 130 130 136 143 143 148 173 ...\n",
      "  .. .. .. .. ..$ cell2    : num [1:2030] 37883 1750 26136 16610 5408 ...\n",
      "  .. .. .. .. ..$ score    : num [1:2030] 0.4472 0.0037 0.6283 0.9963 0.0471 ...\n",
      "  .. .. .. .. ..$ dataset1 : int [1:2030] 1 1 1 1 1 1 1 1 1 1 ...\n",
      "  .. .. .. .. ..$ dataset2 : int [1:2030] 2 2 2 2 2 2 2 2 2 2 ...\n",
      "  .. .. .. .. ..$ dist1.2  : num [1:2030] 0.662 0.722 0.729 0.621 0.642 ...\n",
      "  .. .. .. .. ..$ dist2.1  : num [1:2030] 0.493 0.547 0.513 0.62 0.62 ...\n",
      "  .. .. .. .. ..$ knn.score: num [1:2030] 0.2 0.5 0.4 1 1 0.2 0.3 0.2 0.2 0.1 ...\n",
      "  .. .. .. .. ..$ dist.mean: num [1:2030] 0.577 0.635 0.621 0.62 0.631 ...\n",
      "  .. .. .. ..@ offsets           : NULL\n",
      "  .. .. .. ..@ objects.ncell     : NULL\n",
      "  .. .. .. ..@ sample.tree       : num [1, 1:2] -1 -2\n"
     ]
    }
   ],
   "source": [
    "query_cd4 %>% str"
   ]
  },
  {
   "cell_type": "code",
   "execution_count": 23,
   "id": "8ec88d5f-9ad4-43ba-bee8-7d74410ed313",
   "metadata": {},
   "outputs": [
    {
     "data": {
      "text/html": [
       "<table class=\"dataframe\">\n",
       "<caption>A data.frame: 3 × 79</caption>\n",
       "<thead>\n",
       "\t<tr><th></th><th scope=col>orig.ident</th><th scope=col>nCount_RNA</th><th scope=col>nFeature_RNA</th><th scope=col>nCount_originalexp</th><th scope=col>nFeature_originalexp</th><th scope=col>barcode</th><th scope=col>BRI</th><th scope=col>Run</th><th scope=col>Well</th><th scope=col>Batch</th><th scope=col>⋯</th><th scope=col>A_Num_Productive_In_Barcode</th><th scope=col>A_Has_Unproductive</th><th scope=col>B_Possible_TCR_Doublet</th><th scope=col>A_Possible_TCR_Doublet</th><th scope=col>DEMUX_BEST_Category</th><th scope=col>Hashtag1</th><th scope=col>Hashtag2</th><th scope=col>Hashtag3</th><th scope=col>functional.cluster</th><th scope=col>functional.cluster.conf</th></tr>\n",
       "\t<tr><th></th><th scope=col>&lt;fct&gt;</th><th scope=col>&lt;dbl&gt;</th><th scope=col>&lt;int&gt;</th><th scope=col>&lt;dbl&gt;</th><th scope=col>&lt;int&gt;</th><th scope=col>&lt;fct&gt;</th><th scope=col>&lt;fct&gt;</th><th scope=col>&lt;dbl&gt;</th><th scope=col>&lt;dbl&gt;</th><th scope=col>&lt;dbl&gt;</th><th scope=col>⋯</th><th scope=col>&lt;dbl&gt;</th><th scope=col>&lt;fct&gt;</th><th scope=col>&lt;fct&gt;</th><th scope=col>&lt;fct&gt;</th><th scope=col>&lt;fct&gt;</th><th scope=col>&lt;int&gt;</th><th scope=col>&lt;int&gt;</th><th scope=col>&lt;int&gt;</th><th scope=col>&lt;chr&gt;</th><th scope=col>&lt;dbl&gt;</th></tr>\n",
       "</thead>\n",
       "<tbody>\n",
       "\t<tr><th scope=row>3_AAACCTGAGACCGGAT</th><td>3</td><td> 1443</td><td> 966</td><td> 3241</td><td>1085</td><td>AAACCTGAGACCGGAT-1</td><td>2248_hashing</td><td>2</td><td>1</td><td>3</td><td>⋯</td><td>NaN</td><td>nan  </td><td>nan                 </td><td>nan                 </td><td>SNG</td><td>  8</td><td>19</td><td>4305</td><td>CD4.Tfh      </td><td>0.7880882</td></tr>\n",
       "\t<tr><th scope=row>3_AAACCTGAGAGGGCTT</th><td>3</td><td> 3508</td><td>1277</td><td> 4559</td><td>1387</td><td>AAACCTGAGAGGGCTT-1</td><td>2248_hashing</td><td>2</td><td>1</td><td>3</td><td>⋯</td><td>  1</td><td>True </td><td>Productive Singleton</td><td>Productive Singleton</td><td>SNG</td><td>391</td><td>61</td><td> 138</td><td>CD4.NaiveLike</td><td>1.0000000</td></tr>\n",
       "\t<tr><th scope=row>3_AAACCTGAGAGTCTGG</th><td>3</td><td>18799</td><td>4403</td><td>20879</td><td>4527</td><td>AAACCTGAGAGTCTGG-1</td><td>2248_hashing</td><td>2</td><td>1</td><td>3</td><td>⋯</td><td>  1</td><td>False</td><td>Productive Singleton</td><td>Productive Singleton</td><td>SNG</td><td>  9</td><td>55</td><td>5301</td><td>CD4.Th17     </td><td>0.9560450</td></tr>\n",
       "</tbody>\n",
       "</table>\n"
      ],
      "text/latex": [
       "A data.frame: 3 × 79\n",
       "\\begin{tabular}{r|lllllllllllllllllllll}\n",
       "  & orig.ident & nCount\\_RNA & nFeature\\_RNA & nCount\\_originalexp & nFeature\\_originalexp & barcode & BRI & Run & Well & Batch & ⋯ & A\\_Num\\_Productive\\_In\\_Barcode & A\\_Has\\_Unproductive & B\\_Possible\\_TCR\\_Doublet & A\\_Possible\\_TCR\\_Doublet & DEMUX\\_BEST\\_Category & Hashtag1 & Hashtag2 & Hashtag3 & functional.cluster & functional.cluster.conf\\\\\n",
       "  & <fct> & <dbl> & <int> & <dbl> & <int> & <fct> & <fct> & <dbl> & <dbl> & <dbl> & ⋯ & <dbl> & <fct> & <fct> & <fct> & <fct> & <int> & <int> & <int> & <chr> & <dbl>\\\\\n",
       "\\hline\n",
       "\t3\\_AAACCTGAGACCGGAT & 3 &  1443 &  966 &  3241 & 1085 & AAACCTGAGACCGGAT-1 & 2248\\_hashing & 2 & 1 & 3 & ⋯ & NaN & nan   & nan                  & nan                  & SNG &   8 & 19 & 4305 & CD4.Tfh       & 0.7880882\\\\\n",
       "\t3\\_AAACCTGAGAGGGCTT & 3 &  3508 & 1277 &  4559 & 1387 & AAACCTGAGAGGGCTT-1 & 2248\\_hashing & 2 & 1 & 3 & ⋯ &   1 & True  & Productive Singleton & Productive Singleton & SNG & 391 & 61 &  138 & CD4.NaiveLike & 1.0000000\\\\\n",
       "\t3\\_AAACCTGAGAGTCTGG & 3 & 18799 & 4403 & 20879 & 4527 & AAACCTGAGAGTCTGG-1 & 2248\\_hashing & 2 & 1 & 3 & ⋯ &   1 & False & Productive Singleton & Productive Singleton & SNG &   9 & 55 & 5301 & CD4.Th17      & 0.9560450\\\\\n",
       "\\end{tabular}\n"
      ],
      "text/markdown": [
       "\n",
       "A data.frame: 3 × 79\n",
       "\n",
       "| <!--/--> | orig.ident &lt;fct&gt; | nCount_RNA &lt;dbl&gt; | nFeature_RNA &lt;int&gt; | nCount_originalexp &lt;dbl&gt; | nFeature_originalexp &lt;int&gt; | barcode &lt;fct&gt; | BRI &lt;fct&gt; | Run &lt;dbl&gt; | Well &lt;dbl&gt; | Batch &lt;dbl&gt; | ⋯ ⋯ | A_Num_Productive_In_Barcode &lt;dbl&gt; | A_Has_Unproductive &lt;fct&gt; | B_Possible_TCR_Doublet &lt;fct&gt; | A_Possible_TCR_Doublet &lt;fct&gt; | DEMUX_BEST_Category &lt;fct&gt; | Hashtag1 &lt;int&gt; | Hashtag2 &lt;int&gt; | Hashtag3 &lt;int&gt; | functional.cluster &lt;chr&gt; | functional.cluster.conf &lt;dbl&gt; |\n",
       "|---|---|---|---|---|---|---|---|---|---|---|---|---|---|---|---|---|---|---|---|---|---|\n",
       "| 3_AAACCTGAGACCGGAT | 3 |  1443 |  966 |  3241 | 1085 | AAACCTGAGACCGGAT-1 | 2248_hashing | 2 | 1 | 3 | ⋯ | NaN | nan   | nan                  | nan                  | SNG |   8 | 19 | 4305 | CD4.Tfh       | 0.7880882 |\n",
       "| 3_AAACCTGAGAGGGCTT | 3 |  3508 | 1277 |  4559 | 1387 | AAACCTGAGAGGGCTT-1 | 2248_hashing | 2 | 1 | 3 | ⋯ |   1 | True  | Productive Singleton | Productive Singleton | SNG | 391 | 61 |  138 | CD4.NaiveLike | 1.0000000 |\n",
       "| 3_AAACCTGAGAGTCTGG | 3 | 18799 | 4403 | 20879 | 4527 | AAACCTGAGAGTCTGG-1 | 2248_hashing | 2 | 1 | 3 | ⋯ |   1 | False | Productive Singleton | Productive Singleton | SNG |   9 | 55 | 5301 | CD4.Th17      | 0.9560450 |\n",
       "\n"
      ],
      "text/plain": [
       "                   orig.ident nCount_RNA nFeature_RNA nCount_originalexp\n",
       "3_AAACCTGAGACCGGAT 3           1443       966          3241             \n",
       "3_AAACCTGAGAGGGCTT 3           3508      1277          4559             \n",
       "3_AAACCTGAGAGTCTGG 3          18799      4403         20879             \n",
       "                   nFeature_originalexp barcode            BRI          Run\n",
       "3_AAACCTGAGACCGGAT 1085                 AAACCTGAGACCGGAT-1 2248_hashing 2  \n",
       "3_AAACCTGAGAGGGCTT 1387                 AAACCTGAGAGGGCTT-1 2248_hashing 2  \n",
       "3_AAACCTGAGAGTCTGG 4527                 AAACCTGAGAGTCTGG-1 2248_hashing 2  \n",
       "                   Well Batch ⋯ A_Num_Productive_In_Barcode A_Has_Unproductive\n",
       "3_AAACCTGAGACCGGAT 1    3     ⋯ NaN                         nan               \n",
       "3_AAACCTGAGAGGGCTT 1    3     ⋯   1                         True              \n",
       "3_AAACCTGAGAGTCTGG 1    3     ⋯   1                         False             \n",
       "                   B_Possible_TCR_Doublet A_Possible_TCR_Doublet\n",
       "3_AAACCTGAGACCGGAT nan                    nan                   \n",
       "3_AAACCTGAGAGGGCTT Productive Singleton   Productive Singleton  \n",
       "3_AAACCTGAGAGTCTGG Productive Singleton   Productive Singleton  \n",
       "                   DEMUX_BEST_Category Hashtag1 Hashtag2 Hashtag3\n",
       "3_AAACCTGAGACCGGAT SNG                   8      19       4305    \n",
       "3_AAACCTGAGAGGGCTT SNG                 391      61        138    \n",
       "3_AAACCTGAGAGTCTGG SNG                   9      55       5301    \n",
       "                   functional.cluster functional.cluster.conf\n",
       "3_AAACCTGAGACCGGAT CD4.Tfh            0.7880882              \n",
       "3_AAACCTGAGAGGGCTT CD4.NaiveLike      1.0000000              \n",
       "3_AAACCTGAGAGTCTGG CD4.Th17           0.9560450              "
      ]
     },
     "metadata": {},
     "output_type": "display_data"
    }
   ],
   "source": [
    "query_cd4@meta.data %>% head(3)"
   ]
  },
  {
   "cell_type": "code",
   "execution_count": 24,
   "id": "85199fc0-3d2b-4a11-9bda-f570bd470686",
   "metadata": {
    "tags": []
   },
   "outputs": [
    {
     "name": "stdout",
     "output_type": "stream",
     "text": [
      "  |                                                                      |   0%[1] \"Using assay RNA for query\"\n"
     ]
    },
    {
     "name": "stderr",
     "output_type": "stream",
     "text": [
      "Normalizing layer: counts\n",
      "\n"
     ]
    },
    {
     "name": "stdout",
     "output_type": "stream",
     "text": [
      "[1] \"Aligning query to reference map for batch-correction...\"\n"
     ]
    },
    {
     "name": "stderr",
     "output_type": "stream",
     "text": [
      "Warning message:\n",
      "“Layer counts isn't present in the assay object[[assay]]; returning NULL”\n",
      "Preparing PCA embeddings for objects...\n",
      "\n",
      "Alignment failed due to: Error in getGlobalsAndPackages(expr, envir = envir, globals = globals): The total size of the 7 globals exported for future expression (‘FUN()’) is 590.15 MiB.. This exceeds the maximum allowed size of 500.00 MiB (option 'future.globals.maxSize'). The three largest globals are ‘FUN’ (563.83 MiB of class ‘function’), ‘query’ (17.64 MiB of class ‘numeric’) and ‘index’ (8.67 MiB of class ‘S4’)\n",
      " \n",
      "\n",
      "\n",
      "Warning: alignment of query dataset failed - Trying direct projection...\n",
      "\n"
     ]
    },
    {
     "name": "stdout",
     "output_type": "stream",
     "text": [
      "[1] \"DIRECTLY projecting query onto Reference PCA space\"\n"
     ]
    },
    {
     "name": "stderr",
     "output_type": "stream",
     "text": [
      "Warning message in asMethod(object):\n",
      "“sparse->dense coercion: allocating vector of size 11.8 GiB”\n"
     ]
    },
    {
     "name": "stdout",
     "output_type": "stream",
     "text": [
      "[1] \"DIRECTLY projecting query onto Reference UMAP space\"\n",
      "  |======================================================================| 100%\n",
      "\n"
     ]
    },
    {
     "name": "stderr",
     "output_type": "stream",
     "text": [
      "Creating slots functional.cluster and functional.cluster.conf in query object\n",
      "\n"
     ]
    }
   ],
   "source": [
    "query_cd8 = Run.ProjecTILs(query_rna, ref=cd8ref, filter.cells = FALSE)"
   ]
  },
  {
   "cell_type": "code",
   "execution_count": 28,
   "id": "bb54716c-3d04-49ec-9b95-c980ff563793",
   "metadata": {
    "tags": []
   },
   "outputs": [
    {
     "name": "stdout",
     "output_type": "stream",
     "text": [
      "  |                                                                      |   0%[1] \"Using assay RNA for query\"\n"
     ]
    },
    {
     "name": "stderr",
     "output_type": "stream",
     "text": [
      "Normalizing layer: counts\n",
      "\n"
     ]
    },
    {
     "name": "stdout",
     "output_type": "stream",
     "text": [
      "[1] \"Transforming expression matrix into space of orthologs\"\n",
      "[1] \"Aligning query to reference map for batch-correction...\"\n"
     ]
    },
    {
     "name": "stderr",
     "output_type": "stream",
     "text": [
      "Warning message:\n",
      "“Layer counts isn't present in the assay object[[assay]]; returning NULL”\n",
      "Warning message:\n",
      "“Layer counts isn't present in the assay object[[assay]]; returning NULL”\n",
      "Preparing PCA embeddings for objects...\n",
      "\n",
      "Warning message:\n",
      "“Number of dimensions changing from 50 to 15”\n"
     ]
    },
    {
     "name": "stdout",
     "output_type": "stream",
     "text": [
      "\n",
      "Projecting corrected query onto Reference PCA space\n",
      "\n",
      "Projecting corrected query onto Reference UMAP space\n",
      "  |======================================================================| 100%\n",
      "\n"
     ]
    },
    {
     "name": "stderr",
     "output_type": "stream",
     "text": [
      "Creating slots functional.cluster and functional.cluster.conf in query object\n",
      "\n"
     ]
    }
   ],
   "source": [
    "query_allt = Run.ProjecTILs(query_rna, ref=alltref, filter.cells = FALSE)"
   ]
  },
  {
   "cell_type": "code",
   "execution_count": 26,
   "id": "cda96312-577f-4b3e-8b88-ff33cdf1e0e3",
   "metadata": {
    "tags": []
   },
   "outputs": [
    {
     "data": {
      "text/html": [
       "<table class=\"dataframe\">\n",
       "<caption>A data.frame: 43222 × 79</caption>\n",
       "<thead>\n",
       "\t<tr><th></th><th scope=col>orig.ident</th><th scope=col>nCount_RNA</th><th scope=col>nFeature_RNA</th><th scope=col>nCount_originalexp</th><th scope=col>nFeature_originalexp</th><th scope=col>barcode</th><th scope=col>BRI</th><th scope=col>Run</th><th scope=col>Well</th><th scope=col>Batch</th><th scope=col>⋯</th><th scope=col>A_Num_Productive_In_Barcode</th><th scope=col>A_Has_Unproductive</th><th scope=col>B_Possible_TCR_Doublet</th><th scope=col>A_Possible_TCR_Doublet</th><th scope=col>DEMUX_BEST_Category</th><th scope=col>Hashtag1</th><th scope=col>Hashtag2</th><th scope=col>Hashtag3</th><th scope=col>functional.cluster</th><th scope=col>functional.cluster.conf</th></tr>\n",
       "\t<tr><th></th><th scope=col>&lt;fct&gt;</th><th scope=col>&lt;dbl&gt;</th><th scope=col>&lt;int&gt;</th><th scope=col>&lt;dbl&gt;</th><th scope=col>&lt;int&gt;</th><th scope=col>&lt;fct&gt;</th><th scope=col>&lt;fct&gt;</th><th scope=col>&lt;dbl&gt;</th><th scope=col>&lt;dbl&gt;</th><th scope=col>&lt;dbl&gt;</th><th scope=col>⋯</th><th scope=col>&lt;dbl&gt;</th><th scope=col>&lt;fct&gt;</th><th scope=col>&lt;fct&gt;</th><th scope=col>&lt;fct&gt;</th><th scope=col>&lt;fct&gt;</th><th scope=col>&lt;int&gt;</th><th scope=col>&lt;int&gt;</th><th scope=col>&lt;int&gt;</th><th scope=col>&lt;chr&gt;</th><th scope=col>&lt;dbl&gt;</th></tr>\n",
       "</thead>\n",
       "<tbody>\n",
       "\t<tr><th scope=row>3_AAACCTGAGACCGGAT</th><td>3</td><td> 1443</td><td> 966</td><td> 3241</td><td>1085</td><td>AAACCTGAGACCGGAT-1</td><td>2248_hashing</td><td>2</td><td>1</td><td>3</td><td>⋯</td><td>NaN</td><td>nan  </td><td>nan                 </td><td>nan                   </td><td>SNG</td><td>   8</td><td>  19</td><td> 4305</td><td>CD4.Tfh      </td><td>0.7880882</td></tr>\n",
       "\t<tr><th scope=row>3_AAACCTGAGAGGGCTT</th><td>3</td><td> 3508</td><td>1277</td><td> 4559</td><td>1387</td><td>AAACCTGAGAGGGCTT-1</td><td>2248_hashing</td><td>2</td><td>1</td><td>3</td><td>⋯</td><td>  1</td><td>True </td><td>Productive Singleton</td><td>Productive Singleton  </td><td>SNG</td><td> 391</td><td>  61</td><td>  138</td><td>CD4.NaiveLike</td><td>1.0000000</td></tr>\n",
       "\t<tr><th scope=row>3_AAACCTGAGAGTCTGG</th><td>3</td><td>18799</td><td>4403</td><td>20879</td><td>4527</td><td>AAACCTGAGAGTCTGG-1</td><td>2248_hashing</td><td>2</td><td>1</td><td>3</td><td>⋯</td><td>  1</td><td>False</td><td>Productive Singleton</td><td>Productive Singleton  </td><td>SNG</td><td>   9</td><td>  55</td><td> 5301</td><td>CD4.Th17     </td><td>0.9560450</td></tr>\n",
       "\t<tr><th scope=row>3_AAACCTGAGCTAGCCC</th><td>3</td><td> 4133</td><td>1617</td><td> 5523</td><td>1737</td><td>AAACCTGAGCTAGCCC-1</td><td>2248_hashing</td><td>2</td><td>1</td><td>3</td><td>⋯</td><td>  0</td><td>True </td><td>Productive Singleton</td><td>Unproductive Singleton</td><td>SNG</td><td>1477</td><td>  50</td><td>  153</td><td>CD4.NaiveLike</td><td>0.8356035</td></tr>\n",
       "\t<tr><th scope=row>3_AAACCTGAGCTGCCCA</th><td>3</td><td>10485</td><td>3080</td><td>13193</td><td>3205</td><td>AAACCTGAGCTGCCCA-1</td><td>2248_hashing</td><td>2</td><td>1</td><td>3</td><td>⋯</td><td>  1</td><td>False</td><td>Productive Singleton</td><td>Productive Singleton  </td><td>SNG</td><td>  17</td><td>  39</td><td> 8338</td><td>CD4.NaiveLike</td><td>0.6109448</td></tr>\n",
       "\t<tr><th scope=row>3_AAACCTGAGGCTCATT</th><td>3</td><td>17306</td><td>4230</td><td>23923</td><td>4363</td><td>AAACCTGAGGCTCATT-1</td><td>2248_hashing</td><td>2</td><td>1</td><td>3</td><td>⋯</td><td>  1</td><td>True </td><td>Productive Singleton</td><td>Productive Singleton  </td><td>SNG</td><td>  26</td><td> 127</td><td>12370</td><td>CD4.Th17     </td><td>1.0000000</td></tr>\n",
       "\t<tr><th scope=row>3_AAACCTGAGTAGGTGC</th><td>3</td><td> 5169</td><td>1668</td><td> 6440</td><td>1776</td><td>AAACCTGAGTAGGTGC-1</td><td>2248_hashing</td><td>2</td><td>1</td><td>3</td><td>⋯</td><td>  1</td><td>False</td><td>Productive Singleton</td><td>Productive Singleton  </td><td>SNG</td><td>   9</td><td>1537</td><td>   99</td><td>CD4.NaiveLike</td><td>1.0000000</td></tr>\n",
       "\t<tr><th scope=row>3_AAACCTGAGTATGACA</th><td>3</td><td> 1309</td><td> 987</td><td> 2846</td><td>1103</td><td>AAACCTGAGTATGACA-1</td><td>2248_hashing</td><td>2</td><td>1</td><td>3</td><td>⋯</td><td>NaN</td><td>nan  </td><td>nan                 </td><td>nan                   </td><td>SNG</td><td>  10</td><td>  27</td><td> 3314</td><td>CD4.NaiveLike</td><td>0.8967498</td></tr>\n",
       "\t<tr><th scope=row>3_AAACCTGAGTGTACCT</th><td>3</td><td> 9313</td><td>2698</td><td>11434</td><td>2823</td><td>AAACCTGAGTGTACCT-1</td><td>2248_hashing</td><td>2</td><td>1</td><td>3</td><td>⋯</td><td>  1</td><td>True </td><td>Productive Singleton</td><td>Productive Singleton  </td><td>SNG</td><td>   6</td><td>  47</td><td> 4892</td><td>CD4.Th17     </td><td>0.6415033</td></tr>\n",
       "\t<tr><th scope=row>3_AAACCTGAGTTGCAGG</th><td>3</td><td> 6349</td><td>2401</td><td> 8453</td><td>2530</td><td>AAACCTGAGTTGCAGG-1</td><td>2248_hashing</td><td>2</td><td>1</td><td>3</td><td>⋯</td><td>  1</td><td>False</td><td>Productive Singleton</td><td>Productive Singleton  </td><td>SNG</td><td>  22</td><td> 147</td><td> 3277</td><td>CD4.NaiveLike</td><td>0.7991649</td></tr>\n",
       "\t<tr><th scope=row>3_AAACCTGCAACACCCG</th><td>3</td><td> 4151</td><td>1752</td><td> 5804</td><td>1866</td><td>AAACCTGCAACACCCG-1</td><td>2248_hashing</td><td>2</td><td>1</td><td>3</td><td>⋯</td><td>NaN</td><td>nan  </td><td>Productive Singleton</td><td>Missing               </td><td>SNG</td><td> 769</td><td>  46</td><td>   81</td><td>CD4.NaiveLike</td><td>0.6975849</td></tr>\n",
       "\t<tr><th scope=row>3_AAACCTGCAAGCCCAC</th><td>3</td><td> 3372</td><td>1637</td><td> 4575</td><td>1752</td><td>AAACCTGCAAGCCCAC-1</td><td>2248_hashing</td><td>2</td><td>1</td><td>3</td><td>⋯</td><td>  1</td><td>False</td><td>Missing             </td><td>Productive Singleton  </td><td>SNG</td><td>  13</td><td>1004</td><td>   57</td><td>CD4.NaiveLike</td><td>1.0000000</td></tr>\n",
       "\t<tr><th scope=row>3_AAACCTGCACAAGACG</th><td>3</td><td>  906</td><td> 638</td><td> 2533</td><td> 753</td><td>AAACCTGCACAAGACG-1</td><td>2248_hashing</td><td>2</td><td>1</td><td>3</td><td>⋯</td><td>NaN</td><td>nan  </td><td>nan                 </td><td>nan                   </td><td>SNG</td><td>  10</td><td>3692</td><td>  102</td><td>CD4.NaiveLike</td><td>0.9643965</td></tr>\n",
       "\t<tr><th scope=row>3_AAACCTGCACACCGAC</th><td>3</td><td> 5090</td><td>2123</td><td> 7006</td><td>2237</td><td>AAACCTGCACACCGAC-1</td><td>2248_hashing</td><td>2</td><td>1</td><td>3</td><td>⋯</td><td>NaN</td><td>nan  </td><td>Productive Singleton</td><td>Missing               </td><td>SNG</td><td>  10</td><td>  45</td><td> 4851</td><td>CD4.NaiveLike</td><td>0.8751630</td></tr>\n",
       "\t<tr><th scope=row>3_AAACCTGCACGCCAGT</th><td>3</td><td> 5209</td><td>1794</td><td> 6810</td><td>1914</td><td>AAACCTGCACGCCAGT-1</td><td>2248_hashing</td><td>2</td><td>1</td><td>3</td><td>⋯</td><td>  1</td><td>False</td><td>Productive Singleton</td><td>Productive Singleton  </td><td>SNG</td><td>   9</td><td>2418</td><td>  109</td><td>CD4.NaiveLike</td><td>0.6448390</td></tr>\n",
       "\t<tr><th scope=row>3_AAACCTGCAGGATTGG</th><td>3</td><td> 3137</td><td>1440</td><td> 4073</td><td>1547</td><td>AAACCTGCAGGATTGG-1</td><td>2248_hashing</td><td>2</td><td>1</td><td>3</td><td>⋯</td><td>NaN</td><td>nan  </td><td>Productive Singleton</td><td>Missing               </td><td>SNG</td><td>   6</td><td>1427</td><td>   72</td><td>CD4.CTL_EOMES</td><td>1.0000000</td></tr>\n",
       "\t<tr><th scope=row>3_AAACCTGCAGTAACGG</th><td>3</td><td> 4599</td><td>1710</td><td> 5903</td><td>1824</td><td>AAACCTGCAGTAACGG-1</td><td>2248_hashing</td><td>2</td><td>1</td><td>3</td><td>⋯</td><td>NaN</td><td>nan  </td><td>Productive Singleton</td><td>Missing               </td><td>SNG</td><td> 674</td><td>  21</td><td>   81</td><td>CD4.NaiveLike</td><td>0.7885278</td></tr>\n",
       "\t<tr><th scope=row>3_AAACCTGCATAGAAAC</th><td>3</td><td> 5657</td><td>2210</td><td> 7176</td><td>2321</td><td>AAACCTGCATAGAAAC-1</td><td>2248_hashing</td><td>2</td><td>1</td><td>3</td><td>⋯</td><td>NaN</td><td>nan  </td><td>Productive Singleton</td><td>Missing               </td><td>SNG</td><td> 905</td><td>  36</td><td>   50</td><td>CD4.NaiveLike</td><td>1.0000000</td></tr>\n",
       "\t<tr><th scope=row>3_AAACCTGCATGAACCT</th><td>3</td><td> 4513</td><td>2001</td><td> 6517</td><td>2118</td><td>AAACCTGCATGAACCT-1</td><td>2248_hashing</td><td>2</td><td>1</td><td>3</td><td>⋯</td><td>NaN</td><td>nan  </td><td>Productive Singleton</td><td>Missing               </td><td>SNG</td><td>1310</td><td>  32</td><td>  123</td><td>CD4.CTL_GNLY </td><td>0.8404874</td></tr>\n",
       "\t<tr><th scope=row>3_AAACCTGCATTGCGGC</th><td>3</td><td> 2513</td><td>1410</td><td> 4020</td><td>1522</td><td>AAACCTGCATTGCGGC-1</td><td>2248_hashing</td><td>2</td><td>1</td><td>3</td><td>⋯</td><td>  1</td><td>False</td><td>Productive Singleton</td><td>Productive Singleton  </td><td>SNG</td><td>   8</td><td>2213</td><td>  101</td><td>CD4.CTL_GNLY </td><td>1.0000000</td></tr>\n",
       "\t<tr><th scope=row>3_AAACCTGGTAAGAGGA</th><td>3</td><td> 8036</td><td>3245</td><td>11253</td><td>3375</td><td>AAACCTGGTAAGAGGA-1</td><td>2248_hashing</td><td>2</td><td>1</td><td>3</td><td>⋯</td><td>  2</td><td>False</td><td>Productive Singleton</td><td>Doublet               </td><td>SNG</td><td>  57</td><td>3840</td><td>  199</td><td>CD4.CTL_EOMES</td><td>0.4115162</td></tr>\n",
       "\t<tr><th scope=row>3_AAACCTGGTCTCATCC</th><td>3</td><td> 8248</td><td>2704</td><td>10431</td><td>2829</td><td>AAACCTGGTCTCATCC-1</td><td>2248_hashing</td><td>2</td><td>1</td><td>3</td><td>⋯</td><td>  1</td><td>False</td><td>Productive Singleton</td><td>Productive Singleton  </td><td>SNG</td><td>  10</td><td>  47</td><td> 4581</td><td>CD4.Tfh      </td><td>0.5332812</td></tr>\n",
       "\t<tr><th scope=row>3_AAACCTGGTCTCTTAT</th><td>3</td><td> 4315</td><td>1653</td><td> 5527</td><td>1770</td><td>AAACCTGGTCTCTTAT-1</td><td>2248_hashing</td><td>2</td><td>1</td><td>3</td><td>⋯</td><td>  1</td><td>False</td><td>Productive Singleton</td><td>Productive Singleton  </td><td>SNG</td><td> 552</td><td>  27</td><td>   76</td><td>CD4.NaiveLike</td><td>1.0000000</td></tr>\n",
       "\t<tr><th scope=row>3_AAACCTGGTGGCGAAT</th><td>3</td><td> 7304</td><td>2605</td><td> 9810</td><td>2730</td><td>AAACCTGGTGGCGAAT-1</td><td>2248_hashing</td><td>2</td><td>1</td><td>3</td><td>⋯</td><td>  1</td><td>False</td><td>Productive Singleton</td><td>Productive Singleton  </td><td>SNG</td><td>   6</td><td>  93</td><td> 7414</td><td>CD4.Tfh      </td><td>0.5491490</td></tr>\n",
       "\t<tr><th scope=row>3_AAACCTGGTGTCTGAT</th><td>3</td><td>10105</td><td>3083</td><td>12676</td><td>3208</td><td>AAACCTGGTGTCTGAT-1</td><td>2248_hashing</td><td>2</td><td>1</td><td>3</td><td>⋯</td><td>  1</td><td>True </td><td>Productive Singleton</td><td>Productive Singleton  </td><td>SNG</td><td>  11</td><td>  86</td><td> 6931</td><td>CD4.Th17     </td><td>0.9208811</td></tr>\n",
       "\t<tr><th scope=row>3_AAACCTGGTTTGTGTG</th><td>3</td><td> 3159</td><td>1652</td><td> 4474</td><td>1770</td><td>AAACCTGGTTTGTGTG-1</td><td>2248_hashing</td><td>2</td><td>1</td><td>3</td><td>⋯</td><td>NaN</td><td>nan  </td><td>nan                 </td><td>nan                   </td><td>SNG</td><td> 658</td><td>  22</td><td>   59</td><td>CD4.CTL_GNLY </td><td>1.0000000</td></tr>\n",
       "\t<tr><th scope=row>3_AAACCTGTCAATAAGG</th><td>3</td><td> 3927</td><td>1759</td><td> 5425</td><td>1873</td><td>AAACCTGTCAATAAGG-1</td><td>2248_hashing</td><td>2</td><td>1</td><td>3</td><td>⋯</td><td>NaN</td><td>nan  </td><td>Productive Singleton</td><td>Missing               </td><td>SNG</td><td>   7</td><td>3371</td><td>   71</td><td>CD4.NaiveLike</td><td>1.0000000</td></tr>\n",
       "\t<tr><th scope=row>3_AAACCTGTCCAAGTAC</th><td>3</td><td> 6551</td><td>2290</td><td> 8066</td><td>2408</td><td>AAACCTGTCCAAGTAC-1</td><td>2248_hashing</td><td>2</td><td>1</td><td>3</td><td>⋯</td><td>  1</td><td>False</td><td>Productive Singleton</td><td>Productive Singleton  </td><td>SNG</td><td> 709</td><td>  32</td><td>  130</td><td>CD4.NaiveLike</td><td>1.0000000</td></tr>\n",
       "\t<tr><th scope=row>3_AAACCTGTCCTTTACA</th><td>3</td><td> 5596</td><td>2250</td><td> 7245</td><td>2370</td><td>AAACCTGTCCTTTACA-1</td><td>2248_hashing</td><td>2</td><td>1</td><td>3</td><td>⋯</td><td>  1</td><td>False</td><td>Productive Singleton</td><td>Productive Singleton  </td><td>SNG</td><td>  19</td><td>2780</td><td>   90</td><td>CD4.NaiveLike</td><td>1.0000000</td></tr>\n",
       "\t<tr><th scope=row>3_AAACCTGTCTCGTTTA</th><td>3</td><td>  293</td><td> 175</td><td> 1643</td><td> 291</td><td>AAACCTGTCTCGTTTA-1</td><td>2248_hashing</td><td>2</td><td>1</td><td>3</td><td>⋯</td><td>NaN</td><td>nan  </td><td>nan                 </td><td>nan                   </td><td>SNG</td><td> 418</td><td>  35</td><td>  103</td><td>CD4.NaiveLike</td><td>0.9323533</td></tr>\n",
       "\t<tr><th scope=row>⋮</th><td>⋮</td><td>⋮</td><td>⋮</td><td>⋮</td><td>⋮</td><td>⋮</td><td>⋮</td><td>⋮</td><td>⋮</td><td>⋮</td><td>⋱</td><td>⋮</td><td>⋮</td><td>⋮</td><td>⋮</td><td>⋮</td><td>⋮</td><td>⋮</td><td>⋮</td><td>⋮</td><td>⋮</td></tr>\n",
       "\t<tr><th scope=row>2_TTTGCGCGTGTGACCC</th><td>2</td><td> 4193</td><td>1250</td><td> 5064</td><td>1364</td><td>TTTGCGCGTGTGACCC-1</td><td>2011</td><td>1</td><td>2</td><td>2</td><td>⋯</td><td>  1</td><td>True </td><td>Productive Singleton  </td><td>Productive Singleton  </td><td>SNG</td><td>  15</td><td>1126</td><td>   85</td><td>CD4.NaiveLike</td><td>0.8320432</td></tr>\n",
       "\t<tr><th scope=row>2_TTTGCGCGTTAAGGGC</th><td>2</td><td> 4148</td><td>1502</td><td> 4996</td><td>1611</td><td>TTTGCGCGTTAAGGGC-1</td><td>2011</td><td>1</td><td>2</td><td>2</td><td>⋯</td><td>  1</td><td>True </td><td>Unproductive Singleton</td><td>Productive Singleton  </td><td>SNG</td><td>  13</td><td> 660</td><td>  223</td><td>CD4.NaiveLike</td><td>1.0000000</td></tr>\n",
       "\t<tr><th scope=row>2_TTTGCGCTCAATCACG</th><td>2</td><td> 2206</td><td>1351</td><td> 3764</td><td>1475</td><td>TTTGCGCTCAATCACG-1</td><td>2011</td><td>1</td><td>2</td><td>2</td><td>⋯</td><td>NaN</td><td>nan  </td><td>Doublet               </td><td>Missing               </td><td>SNG</td><td>  21</td><td>  27</td><td> 7459</td><td>CD4.CTL_Exh  </td><td>0.3291006</td></tr>\n",
       "\t<tr><th scope=row>2_TTTGCGCTCCAACCAA</th><td>2</td><td> 3420</td><td>1466</td><td> 4635</td><td>1588</td><td>TTTGCGCTCCAACCAA-1</td><td>2011</td><td>1</td><td>2</td><td>2</td><td>⋯</td><td>  1</td><td>False</td><td>Productive Singleton  </td><td>Productive Singleton  </td><td>SNG</td><td>2134</td><td>  42</td><td>  139</td><td>CD4.CTL_EOMES</td><td>0.8751630</td></tr>\n",
       "\t<tr><th scope=row>2_TTTGCGCTCCGATATG</th><td>2</td><td>  288</td><td> 195</td><td>  737</td><td> 296</td><td>TTTGCGCTCCGATATG-1</td><td>2011</td><td>1</td><td>2</td><td>2</td><td>⋯</td><td>NaN</td><td>nan  </td><td>nan                   </td><td>nan                   </td><td>SNG</td><td>  46</td><td> 197</td><td>  238</td><td>CD4.NaiveLike</td><td>0.8356035</td></tr>\n",
       "\t<tr><th scope=row>2_TTTGCGCTCTCTAAGG</th><td>2</td><td> 1927</td><td>1099</td><td> 2898</td><td>1218</td><td>TTTGCGCTCTCTAAGG-1</td><td>2011</td><td>1</td><td>2</td><td>2</td><td>⋯</td><td>  2</td><td>False</td><td>Productive Singleton  </td><td>Doublet               </td><td>SNG</td><td>1040</td><td>  79</td><td>  107</td><td>CD4.NaiveLike</td><td>0.9679568</td></tr>\n",
       "\t<tr><th scope=row>2_TTTGCGCTCTGTTGAG</th><td>2</td><td>28918</td><td>5418</td><td>31783</td><td>5544</td><td>TTTGCGCTCTGTTGAG-1</td><td>2011</td><td>1</td><td>2</td><td>2</td><td>⋯</td><td>  1</td><td>False</td><td>Productive Singleton  </td><td>Productive Singleton  </td><td>SNG</td><td>  28</td><td>  70</td><td>25852</td><td>CD4.Th17     </td><td>0.7748529</td></tr>\n",
       "\t<tr><th scope=row>2_TTTGGTTCACCCTATC</th><td>2</td><td> 1061</td><td> 695</td><td> 1896</td><td> 809</td><td>TTTGGTTCACCCTATC-1</td><td>2011</td><td>1</td><td>2</td><td>2</td><td>⋯</td><td>NaN</td><td>nan  </td><td>nan                   </td><td>nan                   </td><td>SNG</td><td>  20</td><td> 913</td><td>   74</td><td>CD4.NaiveLike</td><td>1.0000000</td></tr>\n",
       "\t<tr><th scope=row>2_TTTGGTTCACTACAGT</th><td>2</td><td> 6502</td><td>2313</td><td> 7521</td><td>2422</td><td>TTTGGTTCACTACAGT-1</td><td>2011</td><td>1</td><td>2</td><td>2</td><td>⋯</td><td>  1</td><td>False</td><td>Productive Singleton  </td><td>Productive Singleton  </td><td>SNG</td><td>  12</td><td>1431</td><td>   60</td><td>CD4.NaiveLike</td><td>1.0000000</td></tr>\n",
       "\t<tr><th scope=row>2_TTTGGTTCAGGAATCG</th><td>2</td><td> 5001</td><td>1690</td><td> 5758</td><td>1807</td><td>TTTGGTTCAGGAATCG-1</td><td>2011</td><td>1</td><td>2</td><td>2</td><td>⋯</td><td>  1</td><td>True </td><td>Productive Singleton  </td><td>Productive Singleton  </td><td>SNG</td><td>  16</td><td> 602</td><td>  119</td><td>CD4.NaiveLike</td><td>1.0000000</td></tr>\n",
       "\t<tr><th scope=row>2_TTTGGTTCATCCTAGA</th><td>2</td><td>10264</td><td>3347</td><td>12590</td><td>3469</td><td>TTTGGTTCATCCTAGA-1</td><td>2011</td><td>1</td><td>2</td><td>2</td><td>⋯</td><td>  1</td><td>True </td><td>Productive Singleton  </td><td>Productive Singleton  </td><td>SNG</td><td>  17</td><td>  60</td><td>17576</td><td>CD4.Treg     </td><td>1.0000000</td></tr>\n",
       "\t<tr><th scope=row>2_TTTGGTTCATTCTCAT</th><td>2</td><td> 4162</td><td>1718</td><td> 5338</td><td>1836</td><td>TTTGGTTCATTCTCAT-1</td><td>2011</td><td>1</td><td>2</td><td>2</td><td>⋯</td><td>  1</td><td>False</td><td>Productive Singleton  </td><td>Productive Singleton  </td><td>SNG</td><td>2751</td><td>  15</td><td>   87</td><td>CD4.CTL_GNLY </td><td>1.0000000</td></tr>\n",
       "\t<tr><th scope=row>2_TTTGGTTGTCCATCCT</th><td>2</td><td> 5862</td><td>2378</td><td> 6855</td><td>2495</td><td>TTTGGTTGTCCATCCT-1</td><td>2011</td><td>1</td><td>2</td><td>2</td><td>⋯</td><td>  1</td><td>False</td><td>Missing               </td><td>Productive Singleton  </td><td>SNG</td><td>  32</td><td>1649</td><td>  215</td><td>CD4.NaiveLike</td><td>1.0000000</td></tr>\n",
       "\t<tr><th scope=row>2_TTTGGTTTCGGATGGA</th><td>2</td><td> 3593</td><td>1474</td><td> 4666</td><td>1594</td><td>TTTGGTTTCGGATGGA-1</td><td>2011</td><td>1</td><td>2</td><td>2</td><td>⋯</td><td>  1</td><td>True </td><td>Productive Singleton  </td><td>Productive Singleton  </td><td>SNG</td><td>3149</td><td>  20</td><td>  105</td><td>CD4.CTL_GNLY </td><td>1.0000000</td></tr>\n",
       "\t<tr><th scope=row>2_TTTGGTTTCGTGGACC</th><td>2</td><td> 1698</td><td>1126</td><td> 2629</td><td>1243</td><td>TTTGGTTTCGTGGACC-1</td><td>2011</td><td>1</td><td>2</td><td>2</td><td>⋯</td><td>NaN</td><td>nan  </td><td>Productive Singleton  </td><td>Missing               </td><td>SNG</td><td>1335</td><td>  18</td><td>   92</td><td>CD4.NaiveLike</td><td>0.9604405</td></tr>\n",
       "\t<tr><th scope=row>2_TTTGGTTTCTCCAGGG</th><td>2</td><td> 6025</td><td>2396</td><td> 7365</td><td>2516</td><td>TTTGGTTTCTCCAGGG-1</td><td>2011</td><td>1</td><td>2</td><td>2</td><td>⋯</td><td>  0</td><td>True </td><td>Productive Singleton  </td><td>Unproductive Singleton</td><td>SNG</td><td>  28</td><td>2252</td><td>  162</td><td>CD4.Treg     </td><td>1.0000000</td></tr>\n",
       "\t<tr><th scope=row>2_TTTGGTTTCTCTAAGG</th><td>2</td><td> 9158</td><td>2905</td><td>10968</td><td>3029</td><td>TTTGGTTTCTCTAAGG-1</td><td>2011</td><td>1</td><td>2</td><td>2</td><td>⋯</td><td>  1</td><td>True </td><td>Productive Singleton  </td><td>Productive Singleton  </td><td>SNG</td><td>  15</td><td>  34</td><td> 9362</td><td>CD4.Tfh      </td><td>0.4751630</td></tr>\n",
       "\t<tr><th scope=row>2_TTTGGTTTCTCTGCTG</th><td>2</td><td> 8611</td><td>2903</td><td>10591</td><td>3030</td><td>TTTGGTTTCTCTGCTG-1</td><td>2011</td><td>1</td><td>2</td><td>2</td><td>⋯</td><td>  1</td><td>False</td><td>Productive Singleton  </td><td>Productive Singleton  </td><td>SNG</td><td>  47</td><td>2910</td><td>  266</td><td>CD4.NaiveLike</td><td>1.0000000</td></tr>\n",
       "\t<tr><th scope=row>2_TTTGTCAAGGCTCTTA</th><td>2</td><td> 1699</td><td> 895</td><td> 2519</td><td> 996</td><td>TTTGTCAAGGCTCTTA-1</td><td>2011</td><td>1</td><td>2</td><td>2</td><td>⋯</td><td>  1</td><td>False</td><td>Productive Singleton  </td><td>Productive Singleton  </td><td>SNG</td><td>   7</td><td>2688</td><td>  101</td><td>CD4.NaiveLike</td><td>0.5472540</td></tr>\n",
       "\t<tr><th scope=row>2_TTTGTCAAGGGTGTGT</th><td>2</td><td>13972</td><td>3678</td><td>16461</td><td>3809</td><td>TTTGTCAAGGGTGTGT-1</td><td>2011</td><td>1</td><td>2</td><td>2</td><td>⋯</td><td>  1</td><td>False</td><td>Productive Singleton  </td><td>Productive Singleton  </td><td>SNG</td><td>  81</td><td>  63</td><td>18962</td><td>CD4.Th17     </td><td>0.4871676</td></tr>\n",
       "\t<tr><th scope=row>2_TTTGTCACAATGGAGC</th><td>2</td><td> 9867</td><td>2791</td><td>10302</td><td>2886</td><td>TTTGTCACAATGGAGC-1</td><td>2011</td><td>1</td><td>2</td><td>2</td><td>⋯</td><td>  1</td><td>True </td><td>Productive Singleton  </td><td>Productive Singleton  </td><td>SNG</td><td>   4</td><td>  13</td><td> 6269</td><td>CD4.NaiveLike</td><td>0.6403946</td></tr>\n",
       "\t<tr><th scope=row>2_TTTGTCAGTAGCTAAA</th><td>2</td><td> 4131</td><td>1627</td><td> 5439</td><td>1731</td><td>TTTGTCAGTAGCTAAA-1</td><td>2011</td><td>1</td><td>2</td><td>2</td><td>⋯</td><td>  1</td><td>False</td><td>Productive Singleton  </td><td>Productive Singleton  </td><td>SNG</td><td>2104</td><td>  13</td><td>   81</td><td>CD4.NaiveLike</td><td>1.0000000</td></tr>\n",
       "\t<tr><th scope=row>2_TTTGTCAGTATCACCA</th><td>2</td><td> 5040</td><td>1880</td><td> 6117</td><td>1993</td><td>TTTGTCAGTATCACCA-1</td><td>2011</td><td>1</td><td>2</td><td>2</td><td>⋯</td><td>  1</td><td>True </td><td>Productive Singleton  </td><td>Productive Singleton  </td><td>SNG</td><td>  11</td><td>1020</td><td>   87</td><td>CD4.NaiveLike</td><td>0.4316036</td></tr>\n",
       "\t<tr><th scope=row>2_TTTGTCAGTGTCGCTG</th><td>2</td><td> 5232</td><td>1828</td><td> 6246</td><td>1943</td><td>TTTGTCAGTGTCGCTG-1</td><td>2011</td><td>1</td><td>2</td><td>2</td><td>⋯</td><td>NaN</td><td>nan  </td><td>Productive Singleton  </td><td>Missing               </td><td>SNG</td><td>  12</td><td>2122</td><td>  151</td><td>CD4.NaiveLike</td><td>0.5986765</td></tr>\n",
       "\t<tr><th scope=row>2_TTTGTCAGTTCCACTC</th><td>2</td><td>12957</td><td>3535</td><td>14693</td><td>3653</td><td>TTTGTCAGTTCCACTC-1</td><td>2011</td><td>1</td><td>2</td><td>2</td><td>⋯</td><td>  1</td><td>False</td><td>Productive Singleton  </td><td>Productive Singleton  </td><td>SNG</td><td>  38</td><td>  51</td><td>12639</td><td>CD4.Treg     </td><td>0.6114381</td></tr>\n",
       "\t<tr><th scope=row>2_TTTGTCATCAGGCCCA</th><td>2</td><td> 4049</td><td>1538</td><td> 5074</td><td>1653</td><td>TTTGTCATCAGGCCCA-1</td><td>2011</td><td>1</td><td>2</td><td>2</td><td>⋯</td><td>  1</td><td>False</td><td>Productive Singleton  </td><td>Productive Singleton  </td><td>SNG</td><td>1247</td><td>  20</td><td>  107</td><td>CD4.NaiveLike</td><td>1.0000000</td></tr>\n",
       "\t<tr><th scope=row>2_TTTGTCATCATATCGG</th><td>2</td><td> 6054</td><td>2347</td><td> 7172</td><td>2452</td><td>TTTGTCATCATATCGG-1</td><td>2011</td><td>1</td><td>2</td><td>2</td><td>⋯</td><td>  1</td><td>True </td><td>Productive Singleton  </td><td>Productive Singleton  </td><td>SNG</td><td>  28</td><td>  67</td><td> 9119</td><td>CD4.CTL_GNLY </td><td>1.0000000</td></tr>\n",
       "\t<tr><th scope=row>2_TTTGTCATCATTATCC</th><td>2</td><td> 5141</td><td>1886</td><td> 6001</td><td>1997</td><td>TTTGTCATCATTATCC-1</td><td>2011</td><td>1</td><td>2</td><td>2</td><td>⋯</td><td>NaN</td><td>nan  </td><td>Productive Singleton  </td><td>Missing               </td><td>SNG</td><td>  17</td><td>1043</td><td>   66</td><td>CD4.NaiveLike</td><td>1.0000000</td></tr>\n",
       "\t<tr><th scope=row>2_TTTGTCATCGGCTACG</th><td>2</td><td> 1430</td><td> 942</td><td> 2210</td><td>1054</td><td>TTTGTCATCGGCTACG-1</td><td>2011</td><td>1</td><td>2</td><td>2</td><td>⋯</td><td>  1</td><td>False</td><td>Productive Singleton  </td><td>Productive Singleton  </td><td>SNG</td><td> 594</td><td>  33</td><td>  176</td><td>CD4.NaiveLike</td><td>1.0000000</td></tr>\n",
       "\t<tr><th scope=row>2_TTTGTCATCTCCAGGG</th><td>2</td><td> 5856</td><td>2315</td><td> 6757</td><td>2432</td><td>TTTGTCATCTCCAGGG-1</td><td>2011</td><td>1</td><td>2</td><td>2</td><td>⋯</td><td>NaN</td><td>nan  </td><td>Productive Singleton  </td><td>Missing               </td><td>SNG</td><td>  14</td><td>1632</td><td>   77</td><td>CD4.CTL_GNLY </td><td>0.9204415</td></tr>\n",
       "</tbody>\n",
       "</table>\n"
      ],
      "text/latex": [
       "A data.frame: 43222 × 79\n",
       "\\begin{tabular}{r|lllllllllllllllllllll}\n",
       "  & orig.ident & nCount\\_RNA & nFeature\\_RNA & nCount\\_originalexp & nFeature\\_originalexp & barcode & BRI & Run & Well & Batch & ⋯ & A\\_Num\\_Productive\\_In\\_Barcode & A\\_Has\\_Unproductive & B\\_Possible\\_TCR\\_Doublet & A\\_Possible\\_TCR\\_Doublet & DEMUX\\_BEST\\_Category & Hashtag1 & Hashtag2 & Hashtag3 & functional.cluster & functional.cluster.conf\\\\\n",
       "  & <fct> & <dbl> & <int> & <dbl> & <int> & <fct> & <fct> & <dbl> & <dbl> & <dbl> & ⋯ & <dbl> & <fct> & <fct> & <fct> & <fct> & <int> & <int> & <int> & <chr> & <dbl>\\\\\n",
       "\\hline\n",
       "\t3\\_AAACCTGAGACCGGAT & 3 &  1443 &  966 &  3241 & 1085 & AAACCTGAGACCGGAT-1 & 2248\\_hashing & 2 & 1 & 3 & ⋯ & NaN & nan   & nan                  & nan                    & SNG &    8 &   19 &  4305 & CD4.Tfh       & 0.7880882\\\\\n",
       "\t3\\_AAACCTGAGAGGGCTT & 3 &  3508 & 1277 &  4559 & 1387 & AAACCTGAGAGGGCTT-1 & 2248\\_hashing & 2 & 1 & 3 & ⋯ &   1 & True  & Productive Singleton & Productive Singleton   & SNG &  391 &   61 &   138 & CD4.NaiveLike & 1.0000000\\\\\n",
       "\t3\\_AAACCTGAGAGTCTGG & 3 & 18799 & 4403 & 20879 & 4527 & AAACCTGAGAGTCTGG-1 & 2248\\_hashing & 2 & 1 & 3 & ⋯ &   1 & False & Productive Singleton & Productive Singleton   & SNG &    9 &   55 &  5301 & CD4.Th17      & 0.9560450\\\\\n",
       "\t3\\_AAACCTGAGCTAGCCC & 3 &  4133 & 1617 &  5523 & 1737 & AAACCTGAGCTAGCCC-1 & 2248\\_hashing & 2 & 1 & 3 & ⋯ &   0 & True  & Productive Singleton & Unproductive Singleton & SNG & 1477 &   50 &   153 & CD4.NaiveLike & 0.8356035\\\\\n",
       "\t3\\_AAACCTGAGCTGCCCA & 3 & 10485 & 3080 & 13193 & 3205 & AAACCTGAGCTGCCCA-1 & 2248\\_hashing & 2 & 1 & 3 & ⋯ &   1 & False & Productive Singleton & Productive Singleton   & SNG &   17 &   39 &  8338 & CD4.NaiveLike & 0.6109448\\\\\n",
       "\t3\\_AAACCTGAGGCTCATT & 3 & 17306 & 4230 & 23923 & 4363 & AAACCTGAGGCTCATT-1 & 2248\\_hashing & 2 & 1 & 3 & ⋯ &   1 & True  & Productive Singleton & Productive Singleton   & SNG &   26 &  127 & 12370 & CD4.Th17      & 1.0000000\\\\\n",
       "\t3\\_AAACCTGAGTAGGTGC & 3 &  5169 & 1668 &  6440 & 1776 & AAACCTGAGTAGGTGC-1 & 2248\\_hashing & 2 & 1 & 3 & ⋯ &   1 & False & Productive Singleton & Productive Singleton   & SNG &    9 & 1537 &    99 & CD4.NaiveLike & 1.0000000\\\\\n",
       "\t3\\_AAACCTGAGTATGACA & 3 &  1309 &  987 &  2846 & 1103 & AAACCTGAGTATGACA-1 & 2248\\_hashing & 2 & 1 & 3 & ⋯ & NaN & nan   & nan                  & nan                    & SNG &   10 &   27 &  3314 & CD4.NaiveLike & 0.8967498\\\\\n",
       "\t3\\_AAACCTGAGTGTACCT & 3 &  9313 & 2698 & 11434 & 2823 & AAACCTGAGTGTACCT-1 & 2248\\_hashing & 2 & 1 & 3 & ⋯ &   1 & True  & Productive Singleton & Productive Singleton   & SNG &    6 &   47 &  4892 & CD4.Th17      & 0.6415033\\\\\n",
       "\t3\\_AAACCTGAGTTGCAGG & 3 &  6349 & 2401 &  8453 & 2530 & AAACCTGAGTTGCAGG-1 & 2248\\_hashing & 2 & 1 & 3 & ⋯ &   1 & False & Productive Singleton & Productive Singleton   & SNG &   22 &  147 &  3277 & CD4.NaiveLike & 0.7991649\\\\\n",
       "\t3\\_AAACCTGCAACACCCG & 3 &  4151 & 1752 &  5804 & 1866 & AAACCTGCAACACCCG-1 & 2248\\_hashing & 2 & 1 & 3 & ⋯ & NaN & nan   & Productive Singleton & Missing                & SNG &  769 &   46 &    81 & CD4.NaiveLike & 0.6975849\\\\\n",
       "\t3\\_AAACCTGCAAGCCCAC & 3 &  3372 & 1637 &  4575 & 1752 & AAACCTGCAAGCCCAC-1 & 2248\\_hashing & 2 & 1 & 3 & ⋯ &   1 & False & Missing              & Productive Singleton   & SNG &   13 & 1004 &    57 & CD4.NaiveLike & 1.0000000\\\\\n",
       "\t3\\_AAACCTGCACAAGACG & 3 &   906 &  638 &  2533 &  753 & AAACCTGCACAAGACG-1 & 2248\\_hashing & 2 & 1 & 3 & ⋯ & NaN & nan   & nan                  & nan                    & SNG &   10 & 3692 &   102 & CD4.NaiveLike & 0.9643965\\\\\n",
       "\t3\\_AAACCTGCACACCGAC & 3 &  5090 & 2123 &  7006 & 2237 & AAACCTGCACACCGAC-1 & 2248\\_hashing & 2 & 1 & 3 & ⋯ & NaN & nan   & Productive Singleton & Missing                & SNG &   10 &   45 &  4851 & CD4.NaiveLike & 0.8751630\\\\\n",
       "\t3\\_AAACCTGCACGCCAGT & 3 &  5209 & 1794 &  6810 & 1914 & AAACCTGCACGCCAGT-1 & 2248\\_hashing & 2 & 1 & 3 & ⋯ &   1 & False & Productive Singleton & Productive Singleton   & SNG &    9 & 2418 &   109 & CD4.NaiveLike & 0.6448390\\\\\n",
       "\t3\\_AAACCTGCAGGATTGG & 3 &  3137 & 1440 &  4073 & 1547 & AAACCTGCAGGATTGG-1 & 2248\\_hashing & 2 & 1 & 3 & ⋯ & NaN & nan   & Productive Singleton & Missing                & SNG &    6 & 1427 &    72 & CD4.CTL\\_EOMES & 1.0000000\\\\\n",
       "\t3\\_AAACCTGCAGTAACGG & 3 &  4599 & 1710 &  5903 & 1824 & AAACCTGCAGTAACGG-1 & 2248\\_hashing & 2 & 1 & 3 & ⋯ & NaN & nan   & Productive Singleton & Missing                & SNG &  674 &   21 &    81 & CD4.NaiveLike & 0.7885278\\\\\n",
       "\t3\\_AAACCTGCATAGAAAC & 3 &  5657 & 2210 &  7176 & 2321 & AAACCTGCATAGAAAC-1 & 2248\\_hashing & 2 & 1 & 3 & ⋯ & NaN & nan   & Productive Singleton & Missing                & SNG &  905 &   36 &    50 & CD4.NaiveLike & 1.0000000\\\\\n",
       "\t3\\_AAACCTGCATGAACCT & 3 &  4513 & 2001 &  6517 & 2118 & AAACCTGCATGAACCT-1 & 2248\\_hashing & 2 & 1 & 3 & ⋯ & NaN & nan   & Productive Singleton & Missing                & SNG & 1310 &   32 &   123 & CD4.CTL\\_GNLY  & 0.8404874\\\\\n",
       "\t3\\_AAACCTGCATTGCGGC & 3 &  2513 & 1410 &  4020 & 1522 & AAACCTGCATTGCGGC-1 & 2248\\_hashing & 2 & 1 & 3 & ⋯ &   1 & False & Productive Singleton & Productive Singleton   & SNG &    8 & 2213 &   101 & CD4.CTL\\_GNLY  & 1.0000000\\\\\n",
       "\t3\\_AAACCTGGTAAGAGGA & 3 &  8036 & 3245 & 11253 & 3375 & AAACCTGGTAAGAGGA-1 & 2248\\_hashing & 2 & 1 & 3 & ⋯ &   2 & False & Productive Singleton & Doublet                & SNG &   57 & 3840 &   199 & CD4.CTL\\_EOMES & 0.4115162\\\\\n",
       "\t3\\_AAACCTGGTCTCATCC & 3 &  8248 & 2704 & 10431 & 2829 & AAACCTGGTCTCATCC-1 & 2248\\_hashing & 2 & 1 & 3 & ⋯ &   1 & False & Productive Singleton & Productive Singleton   & SNG &   10 &   47 &  4581 & CD4.Tfh       & 0.5332812\\\\\n",
       "\t3\\_AAACCTGGTCTCTTAT & 3 &  4315 & 1653 &  5527 & 1770 & AAACCTGGTCTCTTAT-1 & 2248\\_hashing & 2 & 1 & 3 & ⋯ &   1 & False & Productive Singleton & Productive Singleton   & SNG &  552 &   27 &    76 & CD4.NaiveLike & 1.0000000\\\\\n",
       "\t3\\_AAACCTGGTGGCGAAT & 3 &  7304 & 2605 &  9810 & 2730 & AAACCTGGTGGCGAAT-1 & 2248\\_hashing & 2 & 1 & 3 & ⋯ &   1 & False & Productive Singleton & Productive Singleton   & SNG &    6 &   93 &  7414 & CD4.Tfh       & 0.5491490\\\\\n",
       "\t3\\_AAACCTGGTGTCTGAT & 3 & 10105 & 3083 & 12676 & 3208 & AAACCTGGTGTCTGAT-1 & 2248\\_hashing & 2 & 1 & 3 & ⋯ &   1 & True  & Productive Singleton & Productive Singleton   & SNG &   11 &   86 &  6931 & CD4.Th17      & 0.9208811\\\\\n",
       "\t3\\_AAACCTGGTTTGTGTG & 3 &  3159 & 1652 &  4474 & 1770 & AAACCTGGTTTGTGTG-1 & 2248\\_hashing & 2 & 1 & 3 & ⋯ & NaN & nan   & nan                  & nan                    & SNG &  658 &   22 &    59 & CD4.CTL\\_GNLY  & 1.0000000\\\\\n",
       "\t3\\_AAACCTGTCAATAAGG & 3 &  3927 & 1759 &  5425 & 1873 & AAACCTGTCAATAAGG-1 & 2248\\_hashing & 2 & 1 & 3 & ⋯ & NaN & nan   & Productive Singleton & Missing                & SNG &    7 & 3371 &    71 & CD4.NaiveLike & 1.0000000\\\\\n",
       "\t3\\_AAACCTGTCCAAGTAC & 3 &  6551 & 2290 &  8066 & 2408 & AAACCTGTCCAAGTAC-1 & 2248\\_hashing & 2 & 1 & 3 & ⋯ &   1 & False & Productive Singleton & Productive Singleton   & SNG &  709 &   32 &   130 & CD4.NaiveLike & 1.0000000\\\\\n",
       "\t3\\_AAACCTGTCCTTTACA & 3 &  5596 & 2250 &  7245 & 2370 & AAACCTGTCCTTTACA-1 & 2248\\_hashing & 2 & 1 & 3 & ⋯ &   1 & False & Productive Singleton & Productive Singleton   & SNG &   19 & 2780 &    90 & CD4.NaiveLike & 1.0000000\\\\\n",
       "\t3\\_AAACCTGTCTCGTTTA & 3 &   293 &  175 &  1643 &  291 & AAACCTGTCTCGTTTA-1 & 2248\\_hashing & 2 & 1 & 3 & ⋯ & NaN & nan   & nan                  & nan                    & SNG &  418 &   35 &   103 & CD4.NaiveLike & 0.9323533\\\\\n",
       "\t⋮ & ⋮ & ⋮ & ⋮ & ⋮ & ⋮ & ⋮ & ⋮ & ⋮ & ⋮ & ⋮ & ⋱ & ⋮ & ⋮ & ⋮ & ⋮ & ⋮ & ⋮ & ⋮ & ⋮ & ⋮ & ⋮\\\\\n",
       "\t2\\_TTTGCGCGTGTGACCC & 2 &  4193 & 1250 &  5064 & 1364 & TTTGCGCGTGTGACCC-1 & 2011 & 1 & 2 & 2 & ⋯ &   1 & True  & Productive Singleton   & Productive Singleton   & SNG &   15 & 1126 &    85 & CD4.NaiveLike & 0.8320432\\\\\n",
       "\t2\\_TTTGCGCGTTAAGGGC & 2 &  4148 & 1502 &  4996 & 1611 & TTTGCGCGTTAAGGGC-1 & 2011 & 1 & 2 & 2 & ⋯ &   1 & True  & Unproductive Singleton & Productive Singleton   & SNG &   13 &  660 &   223 & CD4.NaiveLike & 1.0000000\\\\\n",
       "\t2\\_TTTGCGCTCAATCACG & 2 &  2206 & 1351 &  3764 & 1475 & TTTGCGCTCAATCACG-1 & 2011 & 1 & 2 & 2 & ⋯ & NaN & nan   & Doublet                & Missing                & SNG &   21 &   27 &  7459 & CD4.CTL\\_Exh   & 0.3291006\\\\\n",
       "\t2\\_TTTGCGCTCCAACCAA & 2 &  3420 & 1466 &  4635 & 1588 & TTTGCGCTCCAACCAA-1 & 2011 & 1 & 2 & 2 & ⋯ &   1 & False & Productive Singleton   & Productive Singleton   & SNG & 2134 &   42 &   139 & CD4.CTL\\_EOMES & 0.8751630\\\\\n",
       "\t2\\_TTTGCGCTCCGATATG & 2 &   288 &  195 &   737 &  296 & TTTGCGCTCCGATATG-1 & 2011 & 1 & 2 & 2 & ⋯ & NaN & nan   & nan                    & nan                    & SNG &   46 &  197 &   238 & CD4.NaiveLike & 0.8356035\\\\\n",
       "\t2\\_TTTGCGCTCTCTAAGG & 2 &  1927 & 1099 &  2898 & 1218 & TTTGCGCTCTCTAAGG-1 & 2011 & 1 & 2 & 2 & ⋯ &   2 & False & Productive Singleton   & Doublet                & SNG & 1040 &   79 &   107 & CD4.NaiveLike & 0.9679568\\\\\n",
       "\t2\\_TTTGCGCTCTGTTGAG & 2 & 28918 & 5418 & 31783 & 5544 & TTTGCGCTCTGTTGAG-1 & 2011 & 1 & 2 & 2 & ⋯ &   1 & False & Productive Singleton   & Productive Singleton   & SNG &   28 &   70 & 25852 & CD4.Th17      & 0.7748529\\\\\n",
       "\t2\\_TTTGGTTCACCCTATC & 2 &  1061 &  695 &  1896 &  809 & TTTGGTTCACCCTATC-1 & 2011 & 1 & 2 & 2 & ⋯ & NaN & nan   & nan                    & nan                    & SNG &   20 &  913 &    74 & CD4.NaiveLike & 1.0000000\\\\\n",
       "\t2\\_TTTGGTTCACTACAGT & 2 &  6502 & 2313 &  7521 & 2422 & TTTGGTTCACTACAGT-1 & 2011 & 1 & 2 & 2 & ⋯ &   1 & False & Productive Singleton   & Productive Singleton   & SNG &   12 & 1431 &    60 & CD4.NaiveLike & 1.0000000\\\\\n",
       "\t2\\_TTTGGTTCAGGAATCG & 2 &  5001 & 1690 &  5758 & 1807 & TTTGGTTCAGGAATCG-1 & 2011 & 1 & 2 & 2 & ⋯ &   1 & True  & Productive Singleton   & Productive Singleton   & SNG &   16 &  602 &   119 & CD4.NaiveLike & 1.0000000\\\\\n",
       "\t2\\_TTTGGTTCATCCTAGA & 2 & 10264 & 3347 & 12590 & 3469 & TTTGGTTCATCCTAGA-1 & 2011 & 1 & 2 & 2 & ⋯ &   1 & True  & Productive Singleton   & Productive Singleton   & SNG &   17 &   60 & 17576 & CD4.Treg      & 1.0000000\\\\\n",
       "\t2\\_TTTGGTTCATTCTCAT & 2 &  4162 & 1718 &  5338 & 1836 & TTTGGTTCATTCTCAT-1 & 2011 & 1 & 2 & 2 & ⋯ &   1 & False & Productive Singleton   & Productive Singleton   & SNG & 2751 &   15 &    87 & CD4.CTL\\_GNLY  & 1.0000000\\\\\n",
       "\t2\\_TTTGGTTGTCCATCCT & 2 &  5862 & 2378 &  6855 & 2495 & TTTGGTTGTCCATCCT-1 & 2011 & 1 & 2 & 2 & ⋯ &   1 & False & Missing                & Productive Singleton   & SNG &   32 & 1649 &   215 & CD4.NaiveLike & 1.0000000\\\\\n",
       "\t2\\_TTTGGTTTCGGATGGA & 2 &  3593 & 1474 &  4666 & 1594 & TTTGGTTTCGGATGGA-1 & 2011 & 1 & 2 & 2 & ⋯ &   1 & True  & Productive Singleton   & Productive Singleton   & SNG & 3149 &   20 &   105 & CD4.CTL\\_GNLY  & 1.0000000\\\\\n",
       "\t2\\_TTTGGTTTCGTGGACC & 2 &  1698 & 1126 &  2629 & 1243 & TTTGGTTTCGTGGACC-1 & 2011 & 1 & 2 & 2 & ⋯ & NaN & nan   & Productive Singleton   & Missing                & SNG & 1335 &   18 &    92 & CD4.NaiveLike & 0.9604405\\\\\n",
       "\t2\\_TTTGGTTTCTCCAGGG & 2 &  6025 & 2396 &  7365 & 2516 & TTTGGTTTCTCCAGGG-1 & 2011 & 1 & 2 & 2 & ⋯ &   0 & True  & Productive Singleton   & Unproductive Singleton & SNG &   28 & 2252 &   162 & CD4.Treg      & 1.0000000\\\\\n",
       "\t2\\_TTTGGTTTCTCTAAGG & 2 &  9158 & 2905 & 10968 & 3029 & TTTGGTTTCTCTAAGG-1 & 2011 & 1 & 2 & 2 & ⋯ &   1 & True  & Productive Singleton   & Productive Singleton   & SNG &   15 &   34 &  9362 & CD4.Tfh       & 0.4751630\\\\\n",
       "\t2\\_TTTGGTTTCTCTGCTG & 2 &  8611 & 2903 & 10591 & 3030 & TTTGGTTTCTCTGCTG-1 & 2011 & 1 & 2 & 2 & ⋯ &   1 & False & Productive Singleton   & Productive Singleton   & SNG &   47 & 2910 &   266 & CD4.NaiveLike & 1.0000000\\\\\n",
       "\t2\\_TTTGTCAAGGCTCTTA & 2 &  1699 &  895 &  2519 &  996 & TTTGTCAAGGCTCTTA-1 & 2011 & 1 & 2 & 2 & ⋯ &   1 & False & Productive Singleton   & Productive Singleton   & SNG &    7 & 2688 &   101 & CD4.NaiveLike & 0.5472540\\\\\n",
       "\t2\\_TTTGTCAAGGGTGTGT & 2 & 13972 & 3678 & 16461 & 3809 & TTTGTCAAGGGTGTGT-1 & 2011 & 1 & 2 & 2 & ⋯ &   1 & False & Productive Singleton   & Productive Singleton   & SNG &   81 &   63 & 18962 & CD4.Th17      & 0.4871676\\\\\n",
       "\t2\\_TTTGTCACAATGGAGC & 2 &  9867 & 2791 & 10302 & 2886 & TTTGTCACAATGGAGC-1 & 2011 & 1 & 2 & 2 & ⋯ &   1 & True  & Productive Singleton   & Productive Singleton   & SNG &    4 &   13 &  6269 & CD4.NaiveLike & 0.6403946\\\\\n",
       "\t2\\_TTTGTCAGTAGCTAAA & 2 &  4131 & 1627 &  5439 & 1731 & TTTGTCAGTAGCTAAA-1 & 2011 & 1 & 2 & 2 & ⋯ &   1 & False & Productive Singleton   & Productive Singleton   & SNG & 2104 &   13 &    81 & CD4.NaiveLike & 1.0000000\\\\\n",
       "\t2\\_TTTGTCAGTATCACCA & 2 &  5040 & 1880 &  6117 & 1993 & TTTGTCAGTATCACCA-1 & 2011 & 1 & 2 & 2 & ⋯ &   1 & True  & Productive Singleton   & Productive Singleton   & SNG &   11 & 1020 &    87 & CD4.NaiveLike & 0.4316036\\\\\n",
       "\t2\\_TTTGTCAGTGTCGCTG & 2 &  5232 & 1828 &  6246 & 1943 & TTTGTCAGTGTCGCTG-1 & 2011 & 1 & 2 & 2 & ⋯ & NaN & nan   & Productive Singleton   & Missing                & SNG &   12 & 2122 &   151 & CD4.NaiveLike & 0.5986765\\\\\n",
       "\t2\\_TTTGTCAGTTCCACTC & 2 & 12957 & 3535 & 14693 & 3653 & TTTGTCAGTTCCACTC-1 & 2011 & 1 & 2 & 2 & ⋯ &   1 & False & Productive Singleton   & Productive Singleton   & SNG &   38 &   51 & 12639 & CD4.Treg      & 0.6114381\\\\\n",
       "\t2\\_TTTGTCATCAGGCCCA & 2 &  4049 & 1538 &  5074 & 1653 & TTTGTCATCAGGCCCA-1 & 2011 & 1 & 2 & 2 & ⋯ &   1 & False & Productive Singleton   & Productive Singleton   & SNG & 1247 &   20 &   107 & CD4.NaiveLike & 1.0000000\\\\\n",
       "\t2\\_TTTGTCATCATATCGG & 2 &  6054 & 2347 &  7172 & 2452 & TTTGTCATCATATCGG-1 & 2011 & 1 & 2 & 2 & ⋯ &   1 & True  & Productive Singleton   & Productive Singleton   & SNG &   28 &   67 &  9119 & CD4.CTL\\_GNLY  & 1.0000000\\\\\n",
       "\t2\\_TTTGTCATCATTATCC & 2 &  5141 & 1886 &  6001 & 1997 & TTTGTCATCATTATCC-1 & 2011 & 1 & 2 & 2 & ⋯ & NaN & nan   & Productive Singleton   & Missing                & SNG &   17 & 1043 &    66 & CD4.NaiveLike & 1.0000000\\\\\n",
       "\t2\\_TTTGTCATCGGCTACG & 2 &  1430 &  942 &  2210 & 1054 & TTTGTCATCGGCTACG-1 & 2011 & 1 & 2 & 2 & ⋯ &   1 & False & Productive Singleton   & Productive Singleton   & SNG &  594 &   33 &   176 & CD4.NaiveLike & 1.0000000\\\\\n",
       "\t2\\_TTTGTCATCTCCAGGG & 2 &  5856 & 2315 &  6757 & 2432 & TTTGTCATCTCCAGGG-1 & 2011 & 1 & 2 & 2 & ⋯ & NaN & nan   & Productive Singleton   & Missing                & SNG &   14 & 1632 &    77 & CD4.CTL\\_GNLY  & 0.9204415\\\\\n",
       "\\end{tabular}\n"
      ],
      "text/markdown": [
       "\n",
       "A data.frame: 43222 × 79\n",
       "\n",
       "| <!--/--> | orig.ident &lt;fct&gt; | nCount_RNA &lt;dbl&gt; | nFeature_RNA &lt;int&gt; | nCount_originalexp &lt;dbl&gt; | nFeature_originalexp &lt;int&gt; | barcode &lt;fct&gt; | BRI &lt;fct&gt; | Run &lt;dbl&gt; | Well &lt;dbl&gt; | Batch &lt;dbl&gt; | ⋯ ⋯ | A_Num_Productive_In_Barcode &lt;dbl&gt; | A_Has_Unproductive &lt;fct&gt; | B_Possible_TCR_Doublet &lt;fct&gt; | A_Possible_TCR_Doublet &lt;fct&gt; | DEMUX_BEST_Category &lt;fct&gt; | Hashtag1 &lt;int&gt; | Hashtag2 &lt;int&gt; | Hashtag3 &lt;int&gt; | functional.cluster &lt;chr&gt; | functional.cluster.conf &lt;dbl&gt; |\n",
       "|---|---|---|---|---|---|---|---|---|---|---|---|---|---|---|---|---|---|---|---|---|---|\n",
       "| 3_AAACCTGAGACCGGAT | 3 |  1443 |  966 |  3241 | 1085 | AAACCTGAGACCGGAT-1 | 2248_hashing | 2 | 1 | 3 | ⋯ | NaN | nan   | nan                  | nan                    | SNG |    8 |   19 |  4305 | CD4.Tfh       | 0.7880882 |\n",
       "| 3_AAACCTGAGAGGGCTT | 3 |  3508 | 1277 |  4559 | 1387 | AAACCTGAGAGGGCTT-1 | 2248_hashing | 2 | 1 | 3 | ⋯ |   1 | True  | Productive Singleton | Productive Singleton   | SNG |  391 |   61 |   138 | CD4.NaiveLike | 1.0000000 |\n",
       "| 3_AAACCTGAGAGTCTGG | 3 | 18799 | 4403 | 20879 | 4527 | AAACCTGAGAGTCTGG-1 | 2248_hashing | 2 | 1 | 3 | ⋯ |   1 | False | Productive Singleton | Productive Singleton   | SNG |    9 |   55 |  5301 | CD4.Th17      | 0.9560450 |\n",
       "| 3_AAACCTGAGCTAGCCC | 3 |  4133 | 1617 |  5523 | 1737 | AAACCTGAGCTAGCCC-1 | 2248_hashing | 2 | 1 | 3 | ⋯ |   0 | True  | Productive Singleton | Unproductive Singleton | SNG | 1477 |   50 |   153 | CD4.NaiveLike | 0.8356035 |\n",
       "| 3_AAACCTGAGCTGCCCA | 3 | 10485 | 3080 | 13193 | 3205 | AAACCTGAGCTGCCCA-1 | 2248_hashing | 2 | 1 | 3 | ⋯ |   1 | False | Productive Singleton | Productive Singleton   | SNG |   17 |   39 |  8338 | CD4.NaiveLike | 0.6109448 |\n",
       "| 3_AAACCTGAGGCTCATT | 3 | 17306 | 4230 | 23923 | 4363 | AAACCTGAGGCTCATT-1 | 2248_hashing | 2 | 1 | 3 | ⋯ |   1 | True  | Productive Singleton | Productive Singleton   | SNG |   26 |  127 | 12370 | CD4.Th17      | 1.0000000 |\n",
       "| 3_AAACCTGAGTAGGTGC | 3 |  5169 | 1668 |  6440 | 1776 | AAACCTGAGTAGGTGC-1 | 2248_hashing | 2 | 1 | 3 | ⋯ |   1 | False | Productive Singleton | Productive Singleton   | SNG |    9 | 1537 |    99 | CD4.NaiveLike | 1.0000000 |\n",
       "| 3_AAACCTGAGTATGACA | 3 |  1309 |  987 |  2846 | 1103 | AAACCTGAGTATGACA-1 | 2248_hashing | 2 | 1 | 3 | ⋯ | NaN | nan   | nan                  | nan                    | SNG |   10 |   27 |  3314 | CD4.NaiveLike | 0.8967498 |\n",
       "| 3_AAACCTGAGTGTACCT | 3 |  9313 | 2698 | 11434 | 2823 | AAACCTGAGTGTACCT-1 | 2248_hashing | 2 | 1 | 3 | ⋯ |   1 | True  | Productive Singleton | Productive Singleton   | SNG |    6 |   47 |  4892 | CD4.Th17      | 0.6415033 |\n",
       "| 3_AAACCTGAGTTGCAGG | 3 |  6349 | 2401 |  8453 | 2530 | AAACCTGAGTTGCAGG-1 | 2248_hashing | 2 | 1 | 3 | ⋯ |   1 | False | Productive Singleton | Productive Singleton   | SNG |   22 |  147 |  3277 | CD4.NaiveLike | 0.7991649 |\n",
       "| 3_AAACCTGCAACACCCG | 3 |  4151 | 1752 |  5804 | 1866 | AAACCTGCAACACCCG-1 | 2248_hashing | 2 | 1 | 3 | ⋯ | NaN | nan   | Productive Singleton | Missing                | SNG |  769 |   46 |    81 | CD4.NaiveLike | 0.6975849 |\n",
       "| 3_AAACCTGCAAGCCCAC | 3 |  3372 | 1637 |  4575 | 1752 | AAACCTGCAAGCCCAC-1 | 2248_hashing | 2 | 1 | 3 | ⋯ |   1 | False | Missing              | Productive Singleton   | SNG |   13 | 1004 |    57 | CD4.NaiveLike | 1.0000000 |\n",
       "| 3_AAACCTGCACAAGACG | 3 |   906 |  638 |  2533 |  753 | AAACCTGCACAAGACG-1 | 2248_hashing | 2 | 1 | 3 | ⋯ | NaN | nan   | nan                  | nan                    | SNG |   10 | 3692 |   102 | CD4.NaiveLike | 0.9643965 |\n",
       "| 3_AAACCTGCACACCGAC | 3 |  5090 | 2123 |  7006 | 2237 | AAACCTGCACACCGAC-1 | 2248_hashing | 2 | 1 | 3 | ⋯ | NaN | nan   | Productive Singleton | Missing                | SNG |   10 |   45 |  4851 | CD4.NaiveLike | 0.8751630 |\n",
       "| 3_AAACCTGCACGCCAGT | 3 |  5209 | 1794 |  6810 | 1914 | AAACCTGCACGCCAGT-1 | 2248_hashing | 2 | 1 | 3 | ⋯ |   1 | False | Productive Singleton | Productive Singleton   | SNG |    9 | 2418 |   109 | CD4.NaiveLike | 0.6448390 |\n",
       "| 3_AAACCTGCAGGATTGG | 3 |  3137 | 1440 |  4073 | 1547 | AAACCTGCAGGATTGG-1 | 2248_hashing | 2 | 1 | 3 | ⋯ | NaN | nan   | Productive Singleton | Missing                | SNG |    6 | 1427 |    72 | CD4.CTL_EOMES | 1.0000000 |\n",
       "| 3_AAACCTGCAGTAACGG | 3 |  4599 | 1710 |  5903 | 1824 | AAACCTGCAGTAACGG-1 | 2248_hashing | 2 | 1 | 3 | ⋯ | NaN | nan   | Productive Singleton | Missing                | SNG |  674 |   21 |    81 | CD4.NaiveLike | 0.7885278 |\n",
       "| 3_AAACCTGCATAGAAAC | 3 |  5657 | 2210 |  7176 | 2321 | AAACCTGCATAGAAAC-1 | 2248_hashing | 2 | 1 | 3 | ⋯ | NaN | nan   | Productive Singleton | Missing                | SNG |  905 |   36 |    50 | CD4.NaiveLike | 1.0000000 |\n",
       "| 3_AAACCTGCATGAACCT | 3 |  4513 | 2001 |  6517 | 2118 | AAACCTGCATGAACCT-1 | 2248_hashing | 2 | 1 | 3 | ⋯ | NaN | nan   | Productive Singleton | Missing                | SNG | 1310 |   32 |   123 | CD4.CTL_GNLY  | 0.8404874 |\n",
       "| 3_AAACCTGCATTGCGGC | 3 |  2513 | 1410 |  4020 | 1522 | AAACCTGCATTGCGGC-1 | 2248_hashing | 2 | 1 | 3 | ⋯ |   1 | False | Productive Singleton | Productive Singleton   | SNG |    8 | 2213 |   101 | CD4.CTL_GNLY  | 1.0000000 |\n",
       "| 3_AAACCTGGTAAGAGGA | 3 |  8036 | 3245 | 11253 | 3375 | AAACCTGGTAAGAGGA-1 | 2248_hashing | 2 | 1 | 3 | ⋯ |   2 | False | Productive Singleton | Doublet                | SNG |   57 | 3840 |   199 | CD4.CTL_EOMES | 0.4115162 |\n",
       "| 3_AAACCTGGTCTCATCC | 3 |  8248 | 2704 | 10431 | 2829 | AAACCTGGTCTCATCC-1 | 2248_hashing | 2 | 1 | 3 | ⋯ |   1 | False | Productive Singleton | Productive Singleton   | SNG |   10 |   47 |  4581 | CD4.Tfh       | 0.5332812 |\n",
       "| 3_AAACCTGGTCTCTTAT | 3 |  4315 | 1653 |  5527 | 1770 | AAACCTGGTCTCTTAT-1 | 2248_hashing | 2 | 1 | 3 | ⋯ |   1 | False | Productive Singleton | Productive Singleton   | SNG |  552 |   27 |    76 | CD4.NaiveLike | 1.0000000 |\n",
       "| 3_AAACCTGGTGGCGAAT | 3 |  7304 | 2605 |  9810 | 2730 | AAACCTGGTGGCGAAT-1 | 2248_hashing | 2 | 1 | 3 | ⋯ |   1 | False | Productive Singleton | Productive Singleton   | SNG |    6 |   93 |  7414 | CD4.Tfh       | 0.5491490 |\n",
       "| 3_AAACCTGGTGTCTGAT | 3 | 10105 | 3083 | 12676 | 3208 | AAACCTGGTGTCTGAT-1 | 2248_hashing | 2 | 1 | 3 | ⋯ |   1 | True  | Productive Singleton | Productive Singleton   | SNG |   11 |   86 |  6931 | CD4.Th17      | 0.9208811 |\n",
       "| 3_AAACCTGGTTTGTGTG | 3 |  3159 | 1652 |  4474 | 1770 | AAACCTGGTTTGTGTG-1 | 2248_hashing | 2 | 1 | 3 | ⋯ | NaN | nan   | nan                  | nan                    | SNG |  658 |   22 |    59 | CD4.CTL_GNLY  | 1.0000000 |\n",
       "| 3_AAACCTGTCAATAAGG | 3 |  3927 | 1759 |  5425 | 1873 | AAACCTGTCAATAAGG-1 | 2248_hashing | 2 | 1 | 3 | ⋯ | NaN | nan   | Productive Singleton | Missing                | SNG |    7 | 3371 |    71 | CD4.NaiveLike | 1.0000000 |\n",
       "| 3_AAACCTGTCCAAGTAC | 3 |  6551 | 2290 |  8066 | 2408 | AAACCTGTCCAAGTAC-1 | 2248_hashing | 2 | 1 | 3 | ⋯ |   1 | False | Productive Singleton | Productive Singleton   | SNG |  709 |   32 |   130 | CD4.NaiveLike | 1.0000000 |\n",
       "| 3_AAACCTGTCCTTTACA | 3 |  5596 | 2250 |  7245 | 2370 | AAACCTGTCCTTTACA-1 | 2248_hashing | 2 | 1 | 3 | ⋯ |   1 | False | Productive Singleton | Productive Singleton   | SNG |   19 | 2780 |    90 | CD4.NaiveLike | 1.0000000 |\n",
       "| 3_AAACCTGTCTCGTTTA | 3 |   293 |  175 |  1643 |  291 | AAACCTGTCTCGTTTA-1 | 2248_hashing | 2 | 1 | 3 | ⋯ | NaN | nan   | nan                  | nan                    | SNG |  418 |   35 |   103 | CD4.NaiveLike | 0.9323533 |\n",
       "| ⋮ | ⋮ | ⋮ | ⋮ | ⋮ | ⋮ | ⋮ | ⋮ | ⋮ | ⋮ | ⋮ | ⋱ | ⋮ | ⋮ | ⋮ | ⋮ | ⋮ | ⋮ | ⋮ | ⋮ | ⋮ | ⋮ |\n",
       "| 2_TTTGCGCGTGTGACCC | 2 |  4193 | 1250 |  5064 | 1364 | TTTGCGCGTGTGACCC-1 | 2011 | 1 | 2 | 2 | ⋯ |   1 | True  | Productive Singleton   | Productive Singleton   | SNG |   15 | 1126 |    85 | CD4.NaiveLike | 0.8320432 |\n",
       "| 2_TTTGCGCGTTAAGGGC | 2 |  4148 | 1502 |  4996 | 1611 | TTTGCGCGTTAAGGGC-1 | 2011 | 1 | 2 | 2 | ⋯ |   1 | True  | Unproductive Singleton | Productive Singleton   | SNG |   13 |  660 |   223 | CD4.NaiveLike | 1.0000000 |\n",
       "| 2_TTTGCGCTCAATCACG | 2 |  2206 | 1351 |  3764 | 1475 | TTTGCGCTCAATCACG-1 | 2011 | 1 | 2 | 2 | ⋯ | NaN | nan   | Doublet                | Missing                | SNG |   21 |   27 |  7459 | CD4.CTL_Exh   | 0.3291006 |\n",
       "| 2_TTTGCGCTCCAACCAA | 2 |  3420 | 1466 |  4635 | 1588 | TTTGCGCTCCAACCAA-1 | 2011 | 1 | 2 | 2 | ⋯ |   1 | False | Productive Singleton   | Productive Singleton   | SNG | 2134 |   42 |   139 | CD4.CTL_EOMES | 0.8751630 |\n",
       "| 2_TTTGCGCTCCGATATG | 2 |   288 |  195 |   737 |  296 | TTTGCGCTCCGATATG-1 | 2011 | 1 | 2 | 2 | ⋯ | NaN | nan   | nan                    | nan                    | SNG |   46 |  197 |   238 | CD4.NaiveLike | 0.8356035 |\n",
       "| 2_TTTGCGCTCTCTAAGG | 2 |  1927 | 1099 |  2898 | 1218 | TTTGCGCTCTCTAAGG-1 | 2011 | 1 | 2 | 2 | ⋯ |   2 | False | Productive Singleton   | Doublet                | SNG | 1040 |   79 |   107 | CD4.NaiveLike | 0.9679568 |\n",
       "| 2_TTTGCGCTCTGTTGAG | 2 | 28918 | 5418 | 31783 | 5544 | TTTGCGCTCTGTTGAG-1 | 2011 | 1 | 2 | 2 | ⋯ |   1 | False | Productive Singleton   | Productive Singleton   | SNG |   28 |   70 | 25852 | CD4.Th17      | 0.7748529 |\n",
       "| 2_TTTGGTTCACCCTATC | 2 |  1061 |  695 |  1896 |  809 | TTTGGTTCACCCTATC-1 | 2011 | 1 | 2 | 2 | ⋯ | NaN | nan   | nan                    | nan                    | SNG |   20 |  913 |    74 | CD4.NaiveLike | 1.0000000 |\n",
       "| 2_TTTGGTTCACTACAGT | 2 |  6502 | 2313 |  7521 | 2422 | TTTGGTTCACTACAGT-1 | 2011 | 1 | 2 | 2 | ⋯ |   1 | False | Productive Singleton   | Productive Singleton   | SNG |   12 | 1431 |    60 | CD4.NaiveLike | 1.0000000 |\n",
       "| 2_TTTGGTTCAGGAATCG | 2 |  5001 | 1690 |  5758 | 1807 | TTTGGTTCAGGAATCG-1 | 2011 | 1 | 2 | 2 | ⋯ |   1 | True  | Productive Singleton   | Productive Singleton   | SNG |   16 |  602 |   119 | CD4.NaiveLike | 1.0000000 |\n",
       "| 2_TTTGGTTCATCCTAGA | 2 | 10264 | 3347 | 12590 | 3469 | TTTGGTTCATCCTAGA-1 | 2011 | 1 | 2 | 2 | ⋯ |   1 | True  | Productive Singleton   | Productive Singleton   | SNG |   17 |   60 | 17576 | CD4.Treg      | 1.0000000 |\n",
       "| 2_TTTGGTTCATTCTCAT | 2 |  4162 | 1718 |  5338 | 1836 | TTTGGTTCATTCTCAT-1 | 2011 | 1 | 2 | 2 | ⋯ |   1 | False | Productive Singleton   | Productive Singleton   | SNG | 2751 |   15 |    87 | CD4.CTL_GNLY  | 1.0000000 |\n",
       "| 2_TTTGGTTGTCCATCCT | 2 |  5862 | 2378 |  6855 | 2495 | TTTGGTTGTCCATCCT-1 | 2011 | 1 | 2 | 2 | ⋯ |   1 | False | Missing                | Productive Singleton   | SNG |   32 | 1649 |   215 | CD4.NaiveLike | 1.0000000 |\n",
       "| 2_TTTGGTTTCGGATGGA | 2 |  3593 | 1474 |  4666 | 1594 | TTTGGTTTCGGATGGA-1 | 2011 | 1 | 2 | 2 | ⋯ |   1 | True  | Productive Singleton   | Productive Singleton   | SNG | 3149 |   20 |   105 | CD4.CTL_GNLY  | 1.0000000 |\n",
       "| 2_TTTGGTTTCGTGGACC | 2 |  1698 | 1126 |  2629 | 1243 | TTTGGTTTCGTGGACC-1 | 2011 | 1 | 2 | 2 | ⋯ | NaN | nan   | Productive Singleton   | Missing                | SNG | 1335 |   18 |    92 | CD4.NaiveLike | 0.9604405 |\n",
       "| 2_TTTGGTTTCTCCAGGG | 2 |  6025 | 2396 |  7365 | 2516 | TTTGGTTTCTCCAGGG-1 | 2011 | 1 | 2 | 2 | ⋯ |   0 | True  | Productive Singleton   | Unproductive Singleton | SNG |   28 | 2252 |   162 | CD4.Treg      | 1.0000000 |\n",
       "| 2_TTTGGTTTCTCTAAGG | 2 |  9158 | 2905 | 10968 | 3029 | TTTGGTTTCTCTAAGG-1 | 2011 | 1 | 2 | 2 | ⋯ |   1 | True  | Productive Singleton   | Productive Singleton   | SNG |   15 |   34 |  9362 | CD4.Tfh       | 0.4751630 |\n",
       "| 2_TTTGGTTTCTCTGCTG | 2 |  8611 | 2903 | 10591 | 3030 | TTTGGTTTCTCTGCTG-1 | 2011 | 1 | 2 | 2 | ⋯ |   1 | False | Productive Singleton   | Productive Singleton   | SNG |   47 | 2910 |   266 | CD4.NaiveLike | 1.0000000 |\n",
       "| 2_TTTGTCAAGGCTCTTA | 2 |  1699 |  895 |  2519 |  996 | TTTGTCAAGGCTCTTA-1 | 2011 | 1 | 2 | 2 | ⋯ |   1 | False | Productive Singleton   | Productive Singleton   | SNG |    7 | 2688 |   101 | CD4.NaiveLike | 0.5472540 |\n",
       "| 2_TTTGTCAAGGGTGTGT | 2 | 13972 | 3678 | 16461 | 3809 | TTTGTCAAGGGTGTGT-1 | 2011 | 1 | 2 | 2 | ⋯ |   1 | False | Productive Singleton   | Productive Singleton   | SNG |   81 |   63 | 18962 | CD4.Th17      | 0.4871676 |\n",
       "| 2_TTTGTCACAATGGAGC | 2 |  9867 | 2791 | 10302 | 2886 | TTTGTCACAATGGAGC-1 | 2011 | 1 | 2 | 2 | ⋯ |   1 | True  | Productive Singleton   | Productive Singleton   | SNG |    4 |   13 |  6269 | CD4.NaiveLike | 0.6403946 |\n",
       "| 2_TTTGTCAGTAGCTAAA | 2 |  4131 | 1627 |  5439 | 1731 | TTTGTCAGTAGCTAAA-1 | 2011 | 1 | 2 | 2 | ⋯ |   1 | False | Productive Singleton   | Productive Singleton   | SNG | 2104 |   13 |    81 | CD4.NaiveLike | 1.0000000 |\n",
       "| 2_TTTGTCAGTATCACCA | 2 |  5040 | 1880 |  6117 | 1993 | TTTGTCAGTATCACCA-1 | 2011 | 1 | 2 | 2 | ⋯ |   1 | True  | Productive Singleton   | Productive Singleton   | SNG |   11 | 1020 |    87 | CD4.NaiveLike | 0.4316036 |\n",
       "| 2_TTTGTCAGTGTCGCTG | 2 |  5232 | 1828 |  6246 | 1943 | TTTGTCAGTGTCGCTG-1 | 2011 | 1 | 2 | 2 | ⋯ | NaN | nan   | Productive Singleton   | Missing                | SNG |   12 | 2122 |   151 | CD4.NaiveLike | 0.5986765 |\n",
       "| 2_TTTGTCAGTTCCACTC | 2 | 12957 | 3535 | 14693 | 3653 | TTTGTCAGTTCCACTC-1 | 2011 | 1 | 2 | 2 | ⋯ |   1 | False | Productive Singleton   | Productive Singleton   | SNG |   38 |   51 | 12639 | CD4.Treg      | 0.6114381 |\n",
       "| 2_TTTGTCATCAGGCCCA | 2 |  4049 | 1538 |  5074 | 1653 | TTTGTCATCAGGCCCA-1 | 2011 | 1 | 2 | 2 | ⋯ |   1 | False | Productive Singleton   | Productive Singleton   | SNG | 1247 |   20 |   107 | CD4.NaiveLike | 1.0000000 |\n",
       "| 2_TTTGTCATCATATCGG | 2 |  6054 | 2347 |  7172 | 2452 | TTTGTCATCATATCGG-1 | 2011 | 1 | 2 | 2 | ⋯ |   1 | True  | Productive Singleton   | Productive Singleton   | SNG |   28 |   67 |  9119 | CD4.CTL_GNLY  | 1.0000000 |\n",
       "| 2_TTTGTCATCATTATCC | 2 |  5141 | 1886 |  6001 | 1997 | TTTGTCATCATTATCC-1 | 2011 | 1 | 2 | 2 | ⋯ | NaN | nan   | Productive Singleton   | Missing                | SNG |   17 | 1043 |    66 | CD4.NaiveLike | 1.0000000 |\n",
       "| 2_TTTGTCATCGGCTACG | 2 |  1430 |  942 |  2210 | 1054 | TTTGTCATCGGCTACG-1 | 2011 | 1 | 2 | 2 | ⋯ |   1 | False | Productive Singleton   | Productive Singleton   | SNG |  594 |   33 |   176 | CD4.NaiveLike | 1.0000000 |\n",
       "| 2_TTTGTCATCTCCAGGG | 2 |  5856 | 2315 |  6757 | 2432 | TTTGTCATCTCCAGGG-1 | 2011 | 1 | 2 | 2 | ⋯ | NaN | nan   | Productive Singleton   | Missing                | SNG |   14 | 1632 |    77 | CD4.CTL_GNLY  | 0.9204415 |\n",
       "\n"
      ],
      "text/plain": [
       "                   orig.ident nCount_RNA nFeature_RNA nCount_originalexp\n",
       "3_AAACCTGAGACCGGAT 3           1443       966          3241             \n",
       "3_AAACCTGAGAGGGCTT 3           3508      1277          4559             \n",
       "3_AAACCTGAGAGTCTGG 3          18799      4403         20879             \n",
       "3_AAACCTGAGCTAGCCC 3           4133      1617          5523             \n",
       "3_AAACCTGAGCTGCCCA 3          10485      3080         13193             \n",
       "3_AAACCTGAGGCTCATT 3          17306      4230         23923             \n",
       "3_AAACCTGAGTAGGTGC 3           5169      1668          6440             \n",
       "3_AAACCTGAGTATGACA 3           1309       987          2846             \n",
       "3_AAACCTGAGTGTACCT 3           9313      2698         11434             \n",
       "3_AAACCTGAGTTGCAGG 3           6349      2401          8453             \n",
       "3_AAACCTGCAACACCCG 3           4151      1752          5804             \n",
       "3_AAACCTGCAAGCCCAC 3           3372      1637          4575             \n",
       "3_AAACCTGCACAAGACG 3            906       638          2533             \n",
       "3_AAACCTGCACACCGAC 3           5090      2123          7006             \n",
       "3_AAACCTGCACGCCAGT 3           5209      1794          6810             \n",
       "3_AAACCTGCAGGATTGG 3           3137      1440          4073             \n",
       "3_AAACCTGCAGTAACGG 3           4599      1710          5903             \n",
       "3_AAACCTGCATAGAAAC 3           5657      2210          7176             \n",
       "3_AAACCTGCATGAACCT 3           4513      2001          6517             \n",
       "3_AAACCTGCATTGCGGC 3           2513      1410          4020             \n",
       "3_AAACCTGGTAAGAGGA 3           8036      3245         11253             \n",
       "3_AAACCTGGTCTCATCC 3           8248      2704         10431             \n",
       "3_AAACCTGGTCTCTTAT 3           4315      1653          5527             \n",
       "3_AAACCTGGTGGCGAAT 3           7304      2605          9810             \n",
       "3_AAACCTGGTGTCTGAT 3          10105      3083         12676             \n",
       "3_AAACCTGGTTTGTGTG 3           3159      1652          4474             \n",
       "3_AAACCTGTCAATAAGG 3           3927      1759          5425             \n",
       "3_AAACCTGTCCAAGTAC 3           6551      2290          8066             \n",
       "3_AAACCTGTCCTTTACA 3           5596      2250          7245             \n",
       "3_AAACCTGTCTCGTTTA 3            293       175          1643             \n",
       "⋮                  ⋮          ⋮          ⋮            ⋮                 \n",
       "2_TTTGCGCGTGTGACCC 2           4193      1250          5064             \n",
       "2_TTTGCGCGTTAAGGGC 2           4148      1502          4996             \n",
       "2_TTTGCGCTCAATCACG 2           2206      1351          3764             \n",
       "2_TTTGCGCTCCAACCAA 2           3420      1466          4635             \n",
       "2_TTTGCGCTCCGATATG 2            288       195           737             \n",
       "2_TTTGCGCTCTCTAAGG 2           1927      1099          2898             \n",
       "2_TTTGCGCTCTGTTGAG 2          28918      5418         31783             \n",
       "2_TTTGGTTCACCCTATC 2           1061       695          1896             \n",
       "2_TTTGGTTCACTACAGT 2           6502      2313          7521             \n",
       "2_TTTGGTTCAGGAATCG 2           5001      1690          5758             \n",
       "2_TTTGGTTCATCCTAGA 2          10264      3347         12590             \n",
       "2_TTTGGTTCATTCTCAT 2           4162      1718          5338             \n",
       "2_TTTGGTTGTCCATCCT 2           5862      2378          6855             \n",
       "2_TTTGGTTTCGGATGGA 2           3593      1474          4666             \n",
       "2_TTTGGTTTCGTGGACC 2           1698      1126          2629             \n",
       "2_TTTGGTTTCTCCAGGG 2           6025      2396          7365             \n",
       "2_TTTGGTTTCTCTAAGG 2           9158      2905         10968             \n",
       "2_TTTGGTTTCTCTGCTG 2           8611      2903         10591             \n",
       "2_TTTGTCAAGGCTCTTA 2           1699       895          2519             \n",
       "2_TTTGTCAAGGGTGTGT 2          13972      3678         16461             \n",
       "2_TTTGTCACAATGGAGC 2           9867      2791         10302             \n",
       "2_TTTGTCAGTAGCTAAA 2           4131      1627          5439             \n",
       "2_TTTGTCAGTATCACCA 2           5040      1880          6117             \n",
       "2_TTTGTCAGTGTCGCTG 2           5232      1828          6246             \n",
       "2_TTTGTCAGTTCCACTC 2          12957      3535         14693             \n",
       "2_TTTGTCATCAGGCCCA 2           4049      1538          5074             \n",
       "2_TTTGTCATCATATCGG 2           6054      2347          7172             \n",
       "2_TTTGTCATCATTATCC 2           5141      1886          6001             \n",
       "2_TTTGTCATCGGCTACG 2           1430       942          2210             \n",
       "2_TTTGTCATCTCCAGGG 2           5856      2315          6757             \n",
       "                   nFeature_originalexp barcode            BRI          Run\n",
       "3_AAACCTGAGACCGGAT 1085                 AAACCTGAGACCGGAT-1 2248_hashing 2  \n",
       "3_AAACCTGAGAGGGCTT 1387                 AAACCTGAGAGGGCTT-1 2248_hashing 2  \n",
       "3_AAACCTGAGAGTCTGG 4527                 AAACCTGAGAGTCTGG-1 2248_hashing 2  \n",
       "3_AAACCTGAGCTAGCCC 1737                 AAACCTGAGCTAGCCC-1 2248_hashing 2  \n",
       "3_AAACCTGAGCTGCCCA 3205                 AAACCTGAGCTGCCCA-1 2248_hashing 2  \n",
       "3_AAACCTGAGGCTCATT 4363                 AAACCTGAGGCTCATT-1 2248_hashing 2  \n",
       "3_AAACCTGAGTAGGTGC 1776                 AAACCTGAGTAGGTGC-1 2248_hashing 2  \n",
       "3_AAACCTGAGTATGACA 1103                 AAACCTGAGTATGACA-1 2248_hashing 2  \n",
       "3_AAACCTGAGTGTACCT 2823                 AAACCTGAGTGTACCT-1 2248_hashing 2  \n",
       "3_AAACCTGAGTTGCAGG 2530                 AAACCTGAGTTGCAGG-1 2248_hashing 2  \n",
       "3_AAACCTGCAACACCCG 1866                 AAACCTGCAACACCCG-1 2248_hashing 2  \n",
       "3_AAACCTGCAAGCCCAC 1752                 AAACCTGCAAGCCCAC-1 2248_hashing 2  \n",
       "3_AAACCTGCACAAGACG  753                 AAACCTGCACAAGACG-1 2248_hashing 2  \n",
       "3_AAACCTGCACACCGAC 2237                 AAACCTGCACACCGAC-1 2248_hashing 2  \n",
       "3_AAACCTGCACGCCAGT 1914                 AAACCTGCACGCCAGT-1 2248_hashing 2  \n",
       "3_AAACCTGCAGGATTGG 1547                 AAACCTGCAGGATTGG-1 2248_hashing 2  \n",
       "3_AAACCTGCAGTAACGG 1824                 AAACCTGCAGTAACGG-1 2248_hashing 2  \n",
       "3_AAACCTGCATAGAAAC 2321                 AAACCTGCATAGAAAC-1 2248_hashing 2  \n",
       "3_AAACCTGCATGAACCT 2118                 AAACCTGCATGAACCT-1 2248_hashing 2  \n",
       "3_AAACCTGCATTGCGGC 1522                 AAACCTGCATTGCGGC-1 2248_hashing 2  \n",
       "3_AAACCTGGTAAGAGGA 3375                 AAACCTGGTAAGAGGA-1 2248_hashing 2  \n",
       "3_AAACCTGGTCTCATCC 2829                 AAACCTGGTCTCATCC-1 2248_hashing 2  \n",
       "3_AAACCTGGTCTCTTAT 1770                 AAACCTGGTCTCTTAT-1 2248_hashing 2  \n",
       "3_AAACCTGGTGGCGAAT 2730                 AAACCTGGTGGCGAAT-1 2248_hashing 2  \n",
       "3_AAACCTGGTGTCTGAT 3208                 AAACCTGGTGTCTGAT-1 2248_hashing 2  \n",
       "3_AAACCTGGTTTGTGTG 1770                 AAACCTGGTTTGTGTG-1 2248_hashing 2  \n",
       "3_AAACCTGTCAATAAGG 1873                 AAACCTGTCAATAAGG-1 2248_hashing 2  \n",
       "3_AAACCTGTCCAAGTAC 2408                 AAACCTGTCCAAGTAC-1 2248_hashing 2  \n",
       "3_AAACCTGTCCTTTACA 2370                 AAACCTGTCCTTTACA-1 2248_hashing 2  \n",
       "3_AAACCTGTCTCGTTTA  291                 AAACCTGTCTCGTTTA-1 2248_hashing 2  \n",
       "⋮                  ⋮                    ⋮                  ⋮            ⋮  \n",
       "2_TTTGCGCGTGTGACCC 1364                 TTTGCGCGTGTGACCC-1 2011         1  \n",
       "2_TTTGCGCGTTAAGGGC 1611                 TTTGCGCGTTAAGGGC-1 2011         1  \n",
       "2_TTTGCGCTCAATCACG 1475                 TTTGCGCTCAATCACG-1 2011         1  \n",
       "2_TTTGCGCTCCAACCAA 1588                 TTTGCGCTCCAACCAA-1 2011         1  \n",
       "2_TTTGCGCTCCGATATG  296                 TTTGCGCTCCGATATG-1 2011         1  \n",
       "2_TTTGCGCTCTCTAAGG 1218                 TTTGCGCTCTCTAAGG-1 2011         1  \n",
       "2_TTTGCGCTCTGTTGAG 5544                 TTTGCGCTCTGTTGAG-1 2011         1  \n",
       "2_TTTGGTTCACCCTATC  809                 TTTGGTTCACCCTATC-1 2011         1  \n",
       "2_TTTGGTTCACTACAGT 2422                 TTTGGTTCACTACAGT-1 2011         1  \n",
       "2_TTTGGTTCAGGAATCG 1807                 TTTGGTTCAGGAATCG-1 2011         1  \n",
       "2_TTTGGTTCATCCTAGA 3469                 TTTGGTTCATCCTAGA-1 2011         1  \n",
       "2_TTTGGTTCATTCTCAT 1836                 TTTGGTTCATTCTCAT-1 2011         1  \n",
       "2_TTTGGTTGTCCATCCT 2495                 TTTGGTTGTCCATCCT-1 2011         1  \n",
       "2_TTTGGTTTCGGATGGA 1594                 TTTGGTTTCGGATGGA-1 2011         1  \n",
       "2_TTTGGTTTCGTGGACC 1243                 TTTGGTTTCGTGGACC-1 2011         1  \n",
       "2_TTTGGTTTCTCCAGGG 2516                 TTTGGTTTCTCCAGGG-1 2011         1  \n",
       "2_TTTGGTTTCTCTAAGG 3029                 TTTGGTTTCTCTAAGG-1 2011         1  \n",
       "2_TTTGGTTTCTCTGCTG 3030                 TTTGGTTTCTCTGCTG-1 2011         1  \n",
       "2_TTTGTCAAGGCTCTTA  996                 TTTGTCAAGGCTCTTA-1 2011         1  \n",
       "2_TTTGTCAAGGGTGTGT 3809                 TTTGTCAAGGGTGTGT-1 2011         1  \n",
       "2_TTTGTCACAATGGAGC 2886                 TTTGTCACAATGGAGC-1 2011         1  \n",
       "2_TTTGTCAGTAGCTAAA 1731                 TTTGTCAGTAGCTAAA-1 2011         1  \n",
       "2_TTTGTCAGTATCACCA 1993                 TTTGTCAGTATCACCA-1 2011         1  \n",
       "2_TTTGTCAGTGTCGCTG 1943                 TTTGTCAGTGTCGCTG-1 2011         1  \n",
       "2_TTTGTCAGTTCCACTC 3653                 TTTGTCAGTTCCACTC-1 2011         1  \n",
       "2_TTTGTCATCAGGCCCA 1653                 TTTGTCATCAGGCCCA-1 2011         1  \n",
       "2_TTTGTCATCATATCGG 2452                 TTTGTCATCATATCGG-1 2011         1  \n",
       "2_TTTGTCATCATTATCC 1997                 TTTGTCATCATTATCC-1 2011         1  \n",
       "2_TTTGTCATCGGCTACG 1054                 TTTGTCATCGGCTACG-1 2011         1  \n",
       "2_TTTGTCATCTCCAGGG 2432                 TTTGTCATCTCCAGGG-1 2011         1  \n",
       "                   Well Batch ⋯ A_Num_Productive_In_Barcode A_Has_Unproductive\n",
       "3_AAACCTGAGACCGGAT 1    3     ⋯ NaN                         nan               \n",
       "3_AAACCTGAGAGGGCTT 1    3     ⋯   1                         True              \n",
       "3_AAACCTGAGAGTCTGG 1    3     ⋯   1                         False             \n",
       "3_AAACCTGAGCTAGCCC 1    3     ⋯   0                         True              \n",
       "3_AAACCTGAGCTGCCCA 1    3     ⋯   1                         False             \n",
       "3_AAACCTGAGGCTCATT 1    3     ⋯   1                         True              \n",
       "3_AAACCTGAGTAGGTGC 1    3     ⋯   1                         False             \n",
       "3_AAACCTGAGTATGACA 1    3     ⋯ NaN                         nan               \n",
       "3_AAACCTGAGTGTACCT 1    3     ⋯   1                         True              \n",
       "3_AAACCTGAGTTGCAGG 1    3     ⋯   1                         False             \n",
       "3_AAACCTGCAACACCCG 1    3     ⋯ NaN                         nan               \n",
       "3_AAACCTGCAAGCCCAC 1    3     ⋯   1                         False             \n",
       "3_AAACCTGCACAAGACG 1    3     ⋯ NaN                         nan               \n",
       "3_AAACCTGCACACCGAC 1    3     ⋯ NaN                         nan               \n",
       "3_AAACCTGCACGCCAGT 1    3     ⋯   1                         False             \n",
       "3_AAACCTGCAGGATTGG 1    3     ⋯ NaN                         nan               \n",
       "3_AAACCTGCAGTAACGG 1    3     ⋯ NaN                         nan               \n",
       "3_AAACCTGCATAGAAAC 1    3     ⋯ NaN                         nan               \n",
       "3_AAACCTGCATGAACCT 1    3     ⋯ NaN                         nan               \n",
       "3_AAACCTGCATTGCGGC 1    3     ⋯   1                         False             \n",
       "3_AAACCTGGTAAGAGGA 1    3     ⋯   2                         False             \n",
       "3_AAACCTGGTCTCATCC 1    3     ⋯   1                         False             \n",
       "3_AAACCTGGTCTCTTAT 1    3     ⋯   1                         False             \n",
       "3_AAACCTGGTGGCGAAT 1    3     ⋯   1                         False             \n",
       "3_AAACCTGGTGTCTGAT 1    3     ⋯   1                         True              \n",
       "3_AAACCTGGTTTGTGTG 1    3     ⋯ NaN                         nan               \n",
       "3_AAACCTGTCAATAAGG 1    3     ⋯ NaN                         nan               \n",
       "3_AAACCTGTCCAAGTAC 1    3     ⋯   1                         False             \n",
       "3_AAACCTGTCCTTTACA 1    3     ⋯   1                         False             \n",
       "3_AAACCTGTCTCGTTTA 1    3     ⋯ NaN                         nan               \n",
       "⋮                  ⋮    ⋮     ⋱ ⋮                           ⋮                 \n",
       "2_TTTGCGCGTGTGACCC 2    2     ⋯   1                         True              \n",
       "2_TTTGCGCGTTAAGGGC 2    2     ⋯   1                         True              \n",
       "2_TTTGCGCTCAATCACG 2    2     ⋯ NaN                         nan               \n",
       "2_TTTGCGCTCCAACCAA 2    2     ⋯   1                         False             \n",
       "2_TTTGCGCTCCGATATG 2    2     ⋯ NaN                         nan               \n",
       "2_TTTGCGCTCTCTAAGG 2    2     ⋯   2                         False             \n",
       "2_TTTGCGCTCTGTTGAG 2    2     ⋯   1                         False             \n",
       "2_TTTGGTTCACCCTATC 2    2     ⋯ NaN                         nan               \n",
       "2_TTTGGTTCACTACAGT 2    2     ⋯   1                         False             \n",
       "2_TTTGGTTCAGGAATCG 2    2     ⋯   1                         True              \n",
       "2_TTTGGTTCATCCTAGA 2    2     ⋯   1                         True              \n",
       "2_TTTGGTTCATTCTCAT 2    2     ⋯   1                         False             \n",
       "2_TTTGGTTGTCCATCCT 2    2     ⋯   1                         False             \n",
       "2_TTTGGTTTCGGATGGA 2    2     ⋯   1                         True              \n",
       "2_TTTGGTTTCGTGGACC 2    2     ⋯ NaN                         nan               \n",
       "2_TTTGGTTTCTCCAGGG 2    2     ⋯   0                         True              \n",
       "2_TTTGGTTTCTCTAAGG 2    2     ⋯   1                         True              \n",
       "2_TTTGGTTTCTCTGCTG 2    2     ⋯   1                         False             \n",
       "2_TTTGTCAAGGCTCTTA 2    2     ⋯   1                         False             \n",
       "2_TTTGTCAAGGGTGTGT 2    2     ⋯   1                         False             \n",
       "2_TTTGTCACAATGGAGC 2    2     ⋯   1                         True              \n",
       "2_TTTGTCAGTAGCTAAA 2    2     ⋯   1                         False             \n",
       "2_TTTGTCAGTATCACCA 2    2     ⋯   1                         True              \n",
       "2_TTTGTCAGTGTCGCTG 2    2     ⋯ NaN                         nan               \n",
       "2_TTTGTCAGTTCCACTC 2    2     ⋯   1                         False             \n",
       "2_TTTGTCATCAGGCCCA 2    2     ⋯   1                         False             \n",
       "2_TTTGTCATCATATCGG 2    2     ⋯   1                         True              \n",
       "2_TTTGTCATCATTATCC 2    2     ⋯ NaN                         nan               \n",
       "2_TTTGTCATCGGCTACG 2    2     ⋯   1                         False             \n",
       "2_TTTGTCATCTCCAGGG 2    2     ⋯ NaN                         nan               \n",
       "                   B_Possible_TCR_Doublet A_Possible_TCR_Doublet\n",
       "3_AAACCTGAGACCGGAT nan                    nan                   \n",
       "3_AAACCTGAGAGGGCTT Productive Singleton   Productive Singleton  \n",
       "3_AAACCTGAGAGTCTGG Productive Singleton   Productive Singleton  \n",
       "3_AAACCTGAGCTAGCCC Productive Singleton   Unproductive Singleton\n",
       "3_AAACCTGAGCTGCCCA Productive Singleton   Productive Singleton  \n",
       "3_AAACCTGAGGCTCATT Productive Singleton   Productive Singleton  \n",
       "3_AAACCTGAGTAGGTGC Productive Singleton   Productive Singleton  \n",
       "3_AAACCTGAGTATGACA nan                    nan                   \n",
       "3_AAACCTGAGTGTACCT Productive Singleton   Productive Singleton  \n",
       "3_AAACCTGAGTTGCAGG Productive Singleton   Productive Singleton  \n",
       "3_AAACCTGCAACACCCG Productive Singleton   Missing               \n",
       "3_AAACCTGCAAGCCCAC Missing                Productive Singleton  \n",
       "3_AAACCTGCACAAGACG nan                    nan                   \n",
       "3_AAACCTGCACACCGAC Productive Singleton   Missing               \n",
       "3_AAACCTGCACGCCAGT Productive Singleton   Productive Singleton  \n",
       "3_AAACCTGCAGGATTGG Productive Singleton   Missing               \n",
       "3_AAACCTGCAGTAACGG Productive Singleton   Missing               \n",
       "3_AAACCTGCATAGAAAC Productive Singleton   Missing               \n",
       "3_AAACCTGCATGAACCT Productive Singleton   Missing               \n",
       "3_AAACCTGCATTGCGGC Productive Singleton   Productive Singleton  \n",
       "3_AAACCTGGTAAGAGGA Productive Singleton   Doublet               \n",
       "3_AAACCTGGTCTCATCC Productive Singleton   Productive Singleton  \n",
       "3_AAACCTGGTCTCTTAT Productive Singleton   Productive Singleton  \n",
       "3_AAACCTGGTGGCGAAT Productive Singleton   Productive Singleton  \n",
       "3_AAACCTGGTGTCTGAT Productive Singleton   Productive Singleton  \n",
       "3_AAACCTGGTTTGTGTG nan                    nan                   \n",
       "3_AAACCTGTCAATAAGG Productive Singleton   Missing               \n",
       "3_AAACCTGTCCAAGTAC Productive Singleton   Productive Singleton  \n",
       "3_AAACCTGTCCTTTACA Productive Singleton   Productive Singleton  \n",
       "3_AAACCTGTCTCGTTTA nan                    nan                   \n",
       "⋮                  ⋮                      ⋮                     \n",
       "2_TTTGCGCGTGTGACCC Productive Singleton   Productive Singleton  \n",
       "2_TTTGCGCGTTAAGGGC Unproductive Singleton Productive Singleton  \n",
       "2_TTTGCGCTCAATCACG Doublet                Missing               \n",
       "2_TTTGCGCTCCAACCAA Productive Singleton   Productive Singleton  \n",
       "2_TTTGCGCTCCGATATG nan                    nan                   \n",
       "2_TTTGCGCTCTCTAAGG Productive Singleton   Doublet               \n",
       "2_TTTGCGCTCTGTTGAG Productive Singleton   Productive Singleton  \n",
       "2_TTTGGTTCACCCTATC nan                    nan                   \n",
       "2_TTTGGTTCACTACAGT Productive Singleton   Productive Singleton  \n",
       "2_TTTGGTTCAGGAATCG Productive Singleton   Productive Singleton  \n",
       "2_TTTGGTTCATCCTAGA Productive Singleton   Productive Singleton  \n",
       "2_TTTGGTTCATTCTCAT Productive Singleton   Productive Singleton  \n",
       "2_TTTGGTTGTCCATCCT Missing                Productive Singleton  \n",
       "2_TTTGGTTTCGGATGGA Productive Singleton   Productive Singleton  \n",
       "2_TTTGGTTTCGTGGACC Productive Singleton   Missing               \n",
       "2_TTTGGTTTCTCCAGGG Productive Singleton   Unproductive Singleton\n",
       "2_TTTGGTTTCTCTAAGG Productive Singleton   Productive Singleton  \n",
       "2_TTTGGTTTCTCTGCTG Productive Singleton   Productive Singleton  \n",
       "2_TTTGTCAAGGCTCTTA Productive Singleton   Productive Singleton  \n",
       "2_TTTGTCAAGGGTGTGT Productive Singleton   Productive Singleton  \n",
       "2_TTTGTCACAATGGAGC Productive Singleton   Productive Singleton  \n",
       "2_TTTGTCAGTAGCTAAA Productive Singleton   Productive Singleton  \n",
       "2_TTTGTCAGTATCACCA Productive Singleton   Productive Singleton  \n",
       "2_TTTGTCAGTGTCGCTG Productive Singleton   Missing               \n",
       "2_TTTGTCAGTTCCACTC Productive Singleton   Productive Singleton  \n",
       "2_TTTGTCATCAGGCCCA Productive Singleton   Productive Singleton  \n",
       "2_TTTGTCATCATATCGG Productive Singleton   Productive Singleton  \n",
       "2_TTTGTCATCATTATCC Productive Singleton   Missing               \n",
       "2_TTTGTCATCGGCTACG Productive Singleton   Productive Singleton  \n",
       "2_TTTGTCATCTCCAGGG Productive Singleton   Missing               \n",
       "                   DEMUX_BEST_Category Hashtag1 Hashtag2 Hashtag3\n",
       "3_AAACCTGAGACCGGAT SNG                    8       19      4305   \n",
       "3_AAACCTGAGAGGGCTT SNG                  391       61       138   \n",
       "3_AAACCTGAGAGTCTGG SNG                    9       55      5301   \n",
       "3_AAACCTGAGCTAGCCC SNG                 1477       50       153   \n",
       "3_AAACCTGAGCTGCCCA SNG                   17       39      8338   \n",
       "3_AAACCTGAGGCTCATT SNG                   26      127     12370   \n",
       "3_AAACCTGAGTAGGTGC SNG                    9     1537        99   \n",
       "3_AAACCTGAGTATGACA SNG                   10       27      3314   \n",
       "3_AAACCTGAGTGTACCT SNG                    6       47      4892   \n",
       "3_AAACCTGAGTTGCAGG SNG                   22      147      3277   \n",
       "3_AAACCTGCAACACCCG SNG                  769       46        81   \n",
       "3_AAACCTGCAAGCCCAC SNG                   13     1004        57   \n",
       "3_AAACCTGCACAAGACG SNG                   10     3692       102   \n",
       "3_AAACCTGCACACCGAC SNG                   10       45      4851   \n",
       "3_AAACCTGCACGCCAGT SNG                    9     2418       109   \n",
       "3_AAACCTGCAGGATTGG SNG                    6     1427        72   \n",
       "3_AAACCTGCAGTAACGG SNG                  674       21        81   \n",
       "3_AAACCTGCATAGAAAC SNG                  905       36        50   \n",
       "3_AAACCTGCATGAACCT SNG                 1310       32       123   \n",
       "3_AAACCTGCATTGCGGC SNG                    8     2213       101   \n",
       "3_AAACCTGGTAAGAGGA SNG                   57     3840       199   \n",
       "3_AAACCTGGTCTCATCC SNG                   10       47      4581   \n",
       "3_AAACCTGGTCTCTTAT SNG                  552       27        76   \n",
       "3_AAACCTGGTGGCGAAT SNG                    6       93      7414   \n",
       "3_AAACCTGGTGTCTGAT SNG                   11       86      6931   \n",
       "3_AAACCTGGTTTGTGTG SNG                  658       22        59   \n",
       "3_AAACCTGTCAATAAGG SNG                    7     3371        71   \n",
       "3_AAACCTGTCCAAGTAC SNG                  709       32       130   \n",
       "3_AAACCTGTCCTTTACA SNG                   19     2780        90   \n",
       "3_AAACCTGTCTCGTTTA SNG                  418       35       103   \n",
       "⋮                  ⋮                   ⋮        ⋮        ⋮       \n",
       "2_TTTGCGCGTGTGACCC SNG                   15     1126        85   \n",
       "2_TTTGCGCGTTAAGGGC SNG                   13      660       223   \n",
       "2_TTTGCGCTCAATCACG SNG                   21       27      7459   \n",
       "2_TTTGCGCTCCAACCAA SNG                 2134       42       139   \n",
       "2_TTTGCGCTCCGATATG SNG                   46      197       238   \n",
       "2_TTTGCGCTCTCTAAGG SNG                 1040       79       107   \n",
       "2_TTTGCGCTCTGTTGAG SNG                   28       70     25852   \n",
       "2_TTTGGTTCACCCTATC SNG                   20      913        74   \n",
       "2_TTTGGTTCACTACAGT SNG                   12     1431        60   \n",
       "2_TTTGGTTCAGGAATCG SNG                   16      602       119   \n",
       "2_TTTGGTTCATCCTAGA SNG                   17       60     17576   \n",
       "2_TTTGGTTCATTCTCAT SNG                 2751       15        87   \n",
       "2_TTTGGTTGTCCATCCT SNG                   32     1649       215   \n",
       "2_TTTGGTTTCGGATGGA SNG                 3149       20       105   \n",
       "2_TTTGGTTTCGTGGACC SNG                 1335       18        92   \n",
       "2_TTTGGTTTCTCCAGGG SNG                   28     2252       162   \n",
       "2_TTTGGTTTCTCTAAGG SNG                   15       34      9362   \n",
       "2_TTTGGTTTCTCTGCTG SNG                   47     2910       266   \n",
       "2_TTTGTCAAGGCTCTTA SNG                    7     2688       101   \n",
       "2_TTTGTCAAGGGTGTGT SNG                   81       63     18962   \n",
       "2_TTTGTCACAATGGAGC SNG                    4       13      6269   \n",
       "2_TTTGTCAGTAGCTAAA SNG                 2104       13        81   \n",
       "2_TTTGTCAGTATCACCA SNG                   11     1020        87   \n",
       "2_TTTGTCAGTGTCGCTG SNG                   12     2122       151   \n",
       "2_TTTGTCAGTTCCACTC SNG                   38       51     12639   \n",
       "2_TTTGTCATCAGGCCCA SNG                 1247       20       107   \n",
       "2_TTTGTCATCATATCGG SNG                   28       67      9119   \n",
       "2_TTTGTCATCATTATCC SNG                   17     1043        66   \n",
       "2_TTTGTCATCGGCTACG SNG                  594       33       176   \n",
       "2_TTTGTCATCTCCAGGG SNG                   14     1632        77   \n",
       "                   functional.cluster functional.cluster.conf\n",
       "3_AAACCTGAGACCGGAT CD4.Tfh            0.7880882              \n",
       "3_AAACCTGAGAGGGCTT CD4.NaiveLike      1.0000000              \n",
       "3_AAACCTGAGAGTCTGG CD4.Th17           0.9560450              \n",
       "3_AAACCTGAGCTAGCCC CD4.NaiveLike      0.8356035              \n",
       "3_AAACCTGAGCTGCCCA CD4.NaiveLike      0.6109448              \n",
       "3_AAACCTGAGGCTCATT CD4.Th17           1.0000000              \n",
       "3_AAACCTGAGTAGGTGC CD4.NaiveLike      1.0000000              \n",
       "3_AAACCTGAGTATGACA CD4.NaiveLike      0.8967498              \n",
       "3_AAACCTGAGTGTACCT CD4.Th17           0.6415033              \n",
       "3_AAACCTGAGTTGCAGG CD4.NaiveLike      0.7991649              \n",
       "3_AAACCTGCAACACCCG CD4.NaiveLike      0.6975849              \n",
       "3_AAACCTGCAAGCCCAC CD4.NaiveLike      1.0000000              \n",
       "3_AAACCTGCACAAGACG CD4.NaiveLike      0.9643965              \n",
       "3_AAACCTGCACACCGAC CD4.NaiveLike      0.8751630              \n",
       "3_AAACCTGCACGCCAGT CD4.NaiveLike      0.6448390              \n",
       "3_AAACCTGCAGGATTGG CD4.CTL_EOMES      1.0000000              \n",
       "3_AAACCTGCAGTAACGG CD4.NaiveLike      0.7885278              \n",
       "3_AAACCTGCATAGAAAC CD4.NaiveLike      1.0000000              \n",
       "3_AAACCTGCATGAACCT CD4.CTL_GNLY       0.8404874              \n",
       "3_AAACCTGCATTGCGGC CD4.CTL_GNLY       1.0000000              \n",
       "3_AAACCTGGTAAGAGGA CD4.CTL_EOMES      0.4115162              \n",
       "3_AAACCTGGTCTCATCC CD4.Tfh            0.5332812              \n",
       "3_AAACCTGGTCTCTTAT CD4.NaiveLike      1.0000000              \n",
       "3_AAACCTGGTGGCGAAT CD4.Tfh            0.5491490              \n",
       "3_AAACCTGGTGTCTGAT CD4.Th17           0.9208811              \n",
       "3_AAACCTGGTTTGTGTG CD4.CTL_GNLY       1.0000000              \n",
       "3_AAACCTGTCAATAAGG CD4.NaiveLike      1.0000000              \n",
       "3_AAACCTGTCCAAGTAC CD4.NaiveLike      1.0000000              \n",
       "3_AAACCTGTCCTTTACA CD4.NaiveLike      1.0000000              \n",
       "3_AAACCTGTCTCGTTTA CD4.NaiveLike      0.9323533              \n",
       "⋮                  ⋮                  ⋮                      \n",
       "2_TTTGCGCGTGTGACCC CD4.NaiveLike      0.8320432              \n",
       "2_TTTGCGCGTTAAGGGC CD4.NaiveLike      1.0000000              \n",
       "2_TTTGCGCTCAATCACG CD4.CTL_Exh        0.3291006              \n",
       "2_TTTGCGCTCCAACCAA CD4.CTL_EOMES      0.8751630              \n",
       "2_TTTGCGCTCCGATATG CD4.NaiveLike      0.8356035              \n",
       "2_TTTGCGCTCTCTAAGG CD4.NaiveLike      0.9679568              \n",
       "2_TTTGCGCTCTGTTGAG CD4.Th17           0.7748529              \n",
       "2_TTTGGTTCACCCTATC CD4.NaiveLike      1.0000000              \n",
       "2_TTTGGTTCACTACAGT CD4.NaiveLike      1.0000000              \n",
       "2_TTTGGTTCAGGAATCG CD4.NaiveLike      1.0000000              \n",
       "2_TTTGGTTCATCCTAGA CD4.Treg           1.0000000              \n",
       "2_TTTGGTTCATTCTCAT CD4.CTL_GNLY       1.0000000              \n",
       "2_TTTGGTTGTCCATCCT CD4.NaiveLike      1.0000000              \n",
       "2_TTTGGTTTCGGATGGA CD4.CTL_GNLY       1.0000000              \n",
       "2_TTTGGTTTCGTGGACC CD4.NaiveLike      0.9604405              \n",
       "2_TTTGGTTTCTCCAGGG CD4.Treg           1.0000000              \n",
       "2_TTTGGTTTCTCTAAGG CD4.Tfh            0.4751630              \n",
       "2_TTTGGTTTCTCTGCTG CD4.NaiveLike      1.0000000              \n",
       "2_TTTGTCAAGGCTCTTA CD4.NaiveLike      0.5472540              \n",
       "2_TTTGTCAAGGGTGTGT CD4.Th17           0.4871676              \n",
       "2_TTTGTCACAATGGAGC CD4.NaiveLike      0.6403946              \n",
       "2_TTTGTCAGTAGCTAAA CD4.NaiveLike      1.0000000              \n",
       "2_TTTGTCAGTATCACCA CD4.NaiveLike      0.4316036              \n",
       "2_TTTGTCAGTGTCGCTG CD4.NaiveLike      0.5986765              \n",
       "2_TTTGTCAGTTCCACTC CD4.Treg           0.6114381              \n",
       "2_TTTGTCATCAGGCCCA CD4.NaiveLike      1.0000000              \n",
       "2_TTTGTCATCATATCGG CD4.CTL_GNLY       1.0000000              \n",
       "2_TTTGTCATCATTATCC CD4.NaiveLike      1.0000000              \n",
       "2_TTTGTCATCGGCTACG CD4.NaiveLike      1.0000000              \n",
       "2_TTTGTCATCTCCAGGG CD4.CTL_GNLY       0.9204415              "
      ]
     },
     "metadata": {},
     "output_type": "display_data"
    }
   ],
   "source": [
    "query_cd4@meta.data"
   ]
  },
  {
   "cell_type": "code",
   "execution_count": 27,
   "id": "32d6f774-5f60-469e-bb32-745eb5d6657e",
   "metadata": {},
   "outputs": [],
   "source": [
    "query_cd4@meta.data[c('functional.cluster', 'functional.cluster.conf')] %>% write.table('../../../Data/PerDataset/Stimseq/raw.mincellfilt.htonegfilt.doubletfilt.ProjectTILsCD4.tsv',\n",
    "                              row.names = TRUE, sep = '\\t')"
   ]
  },
  {
   "cell_type": "code",
   "execution_count": 28,
   "id": "624a67d9-ba99-420f-8f6e-05f361e3ef44",
   "metadata": {},
   "outputs": [],
   "source": [
    "query_cd8@meta.data[c('functional.cluster', 'functional.cluster.conf')] %>% write.table('../../../Data/PerDataset/Stimseq/raw.mincellfilt.htonegfilt.doubletfilt.ProjectTILsCD8.tsv',\n",
    "                              row.names = TRUE, sep = '\\t')"
   ]
  },
  {
   "cell_type": "code",
   "execution_count": 30,
   "id": "14f25cfe-0f33-47ad-be7f-3e104889e0af",
   "metadata": {},
   "outputs": [],
   "source": [
    "query_allt@meta.data[c('functional.cluster', 'functional.cluster.conf')] %>% write.table('../../../Data/PerDataset/Stimseq/raw.mincellfilt.htonegfilt.doubletfilt.ProjectTILsAllTMouse.tsv',\n",
    "                              row.names = TRUE, sep = '\\t')"
   ]
  }
 ],
 "metadata": {
  "kernelspec": {
   "display_name": "R",
   "language": "R",
   "name": "ir"
  },
  "language_info": {
   "codemirror_mode": "r",
   "file_extension": ".r",
   "mimetype": "text/x-r-source",
   "name": "R",
   "pygments_lexer": "r",
   "version": "4.1.1"
  },
  "toc-autonumbering": true
 },
 "nbformat": 4,
 "nbformat_minor": 5
}
