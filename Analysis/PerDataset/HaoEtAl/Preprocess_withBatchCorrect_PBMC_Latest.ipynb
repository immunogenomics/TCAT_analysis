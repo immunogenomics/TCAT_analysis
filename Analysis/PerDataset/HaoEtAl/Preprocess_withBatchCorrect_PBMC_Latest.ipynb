{
 "cells": [
  {
   "cell_type": "code",
   "execution_count": 1,
   "metadata": {
    "tags": []
   },
   "outputs": [],
   "source": [
    "%matplotlib inline"
   ]
  },
  {
   "cell_type": "code",
   "execution_count": 2,
   "metadata": {
    "tags": []
   },
   "outputs": [
    {
     "name": "stdout",
     "output_type": "stream",
     "text": [
      "/data/srlab1/TCAT/Analysis/PerDataset/HaoEtAl\n"
     ]
    }
   ],
   "source": [
    "! pwd"
   ]
  },
  {
   "cell_type": "code",
   "execution_count": 3,
   "metadata": {
    "tags": []
   },
   "outputs": [
    {
     "name": "stderr",
     "output_type": "stream",
     "text": [
      "/PHShome/mc1070/anaconda3/envs/cnmf_env2v2/lib/python3.7/site-packages/tqdm/auto.py:22: TqdmWarning: IProgress not found. Please update jupyter and ipywidgets. See https://ipywidgets.readthedocs.io/en/stable/user_install.html\n",
      "  from .autonotebook import tqdm as notebook_tqdm\n"
     ]
    },
    {
     "name": "stdout",
     "output_type": "stream",
     "text": [
      "-----\n",
      "anndata     0.8.0\n",
      "scanpy      1.9.1\n",
      "-----\n",
      "PIL                 9.1.0\n",
      "backcall            0.2.0\n",
      "beta_ufunc          NA\n",
      "binom_ufunc         NA\n",
      "cached_property     1.5.2\n",
      "cffi                1.15.0\n",
      "cloudpickle         2.2.1\n",
      "cnmf                NA\n",
      "colorama            0.4.4\n",
      "cycler              0.10.0\n",
      "cython_runtime      NA\n",
      "dask                2022.02.0\n",
      "dateutil            2.8.2\n",
      "debugpy             1.6.0\n",
      "decorator           5.1.1\n",
      "defusedxml          0.7.1\n",
      "entrypoints         0.4\n",
      "fastcluster         1.2.6\n",
      "fsspec              2023.1.0\n",
      "h5py                3.6.0\n",
      "harmonypy           NA\n",
      "igraph              0.9.9\n",
      "ipykernel           6.13.0\n",
      "ipython_genutils    0.2.0\n",
      "jedi                0.18.1\n",
      "jinja2              3.1.1\n",
      "joblib              1.1.0\n",
      "jupyter_server      1.16.0\n",
      "kiwisolver          1.4.2\n",
      "leidenalg           0.8.9\n",
      "llvmlite            0.38.0\n",
      "markupsafe          2.1.1\n",
      "matplotlib          3.5.1\n",
      "matplotlib_inline   NA\n",
      "mpl_toolkits        NA\n",
      "mudata              0.2.1\n",
      "muon                0.1.3\n",
      "natsort             8.1.0\n",
      "nbinom_ufunc        NA\n",
      "numba               0.55.1\n",
      "numpy               1.21.6\n",
      "packaging           21.3\n",
      "pandas              1.3.5\n",
      "parso               0.8.3\n",
      "pexpect             4.8.0\n",
      "pickleshare         0.7.5\n",
      "pkg_resources       NA\n",
      "prompt_toolkit      3.0.29\n",
      "psutil              5.9.0\n",
      "ptyprocess          0.7.0\n",
      "pycparser           2.21\n",
      "pydev_ipython       NA\n",
      "pydevconsole        NA\n",
      "pydevd              2.8.0\n",
      "pydevd_file_utils   NA\n",
      "pydevd_plugins      NA\n",
      "pydevd_tracing      NA\n",
      "pygments            2.11.2\n",
      "pynndescent         0.5.6\n",
      "pyparsing           3.0.8\n",
      "pytz                2022.1\n",
      "scipy               1.7.3\n",
      "seaborn             0.11.2\n",
      "session_info        1.0.0\n",
      "six                 1.16.0\n",
      "sklearn             1.0.2\n",
      "sphinxcontrib       NA\n",
      "statsmodels         0.13.2\n",
      "storemagic          NA\n",
      "texttable           1.6.4\n",
      "threadpoolctl       3.1.0\n",
      "tlz                 0.12.0\n",
      "toolz               0.12.0\n",
      "tornado             6.1\n",
      "tqdm                4.64.0\n",
      "traitlets           5.1.1\n",
      "typing_extensions   NA\n",
      "umap                0.5.3\n",
      "wcwidth             0.2.5\n",
      "yaml                6.0\n",
      "zipp                NA\n",
      "zmq                 22.3.0\n",
      "-----\n",
      "IPython             7.32.0\n",
      "jupyter_client      7.2.2\n",
      "jupyter_core        4.9.2\n",
      "jupyterlab          3.3.4\n",
      "notebook            6.4.11\n",
      "-----\n",
      "Python 3.7.12 | packaged by conda-forge | (default, Oct 26 2021, 06:08:53) [GCC 9.4.0]\n",
      "Linux-2.6.32-696.10.3.el6.x86_64-x86_64-with-redhat-6.7-Santiago\n",
      "-----\n",
      "Session information updated at 2024-03-13 12:26\n"
     ]
    }
   ],
   "source": [
    "import scanpy  as sc\n",
    "import muon as mu\n",
    "import numpy as np\n",
    "import matplotlib.pyplot as plt\n",
    "from cnmf import Preprocess\n",
    "import pandas as pd\n",
    "\n",
    "\n",
    "sc.logging.print_versions()"
   ]
  },
  {
   "cell_type": "markdown",
   "metadata": {},
   "source": [
    "# Parameters"
   ]
  },
  {
   "cell_type": "code",
   "execution_count": 4,
   "metadata": {},
   "outputs": [
    {
     "name": "stdout",
     "output_type": "stream",
     "text": [
      "abinfo_1-s2.0-S0092867421005833-mmc1.xlsx\n",
      "ActivationScore.Hao.Early-OX40-ICOS-CTLA4-TIMD4_Sum_Thresh0_1.tsv\n",
      "ActivationScore.HIV-Vaccine.Early-OX40-ICOS-CTLA4-TIMD4_Norm_Sum_Thresh0_1.tsv\n",
      "ActivationScore.HIV-Vaccine.Early-OX40-ICOS-CTLA4-TIMD4_Unnorm_Sum_Thresh0_1.tsv\n",
      "ActivationScore.HIV-Vaccine.LogisticRegression_COMBATGating_OX40-ICOS-CTLA4-TIMD4-Exhaustion.tsv\n",
      "ActivationScore.HIV-Vaccine.OX40-ICOS-CTLA4-TIMD4_RenormDatasetMedianDivideBatchAll_Sum_Thresh0_1.tsv\n",
      "ActivationScore.HIV-Vaccine.OX40-ICOS-CTLA4-TIMD4_RenormDatasetMedianDivideBatchSite_Sum_Thresh0_1.tsv\n",
      "ActivationScore.HIV-Vaccine.OX40-ICOS-CTLA4-TIMD4_RenormDatasetMedianDivide_Sum_Thresh0_1.tsv\n",
      "ActivationScore.HIV-Vaccine.OX40-ICOS-CTLA4-TIMD4_RenormDatasetMedianSubtract_Sum_Thresh0_1.tsv\n",
      "ActivationScore.HIV-Vaccine.OX40-ICOS-CTLA4-TIMD4_RenormDatasetMedian_Sum_Thresh0_1.tsv\n",
      "ActivationScore.HIV-Vaccine.OX40-ICOS-CTLA4-TIMD4_Sum_Thresh0_075.tsv\n",
      "ActivationScore.HIV-Vaccine.OX40-ICOS-CTLA4-TIMD4_Sum_Thresh0_1.tsv\n",
      "ActivationScore.HIV-Vaccine.OX40-ICOS-CTLA4-TIMD4_Unnorm_Sum_Thresh0_1.tsv\n",
      "ActivationScore.HIV-Vaccine.Sum_CTLA4-ICOS-OX40-Exhaustion.20240207.tsv\n",
      "ActivationScore.HIV-Vaccine.Sum_CTLA4-ICOS-OX40-NoExhaustion.20240207.tsv\n",
      "ActivationScore.HIV-Vaccine.Sum_CTLA4-ICOS-OX40-TIMD4.20240207.tsv\n",
      "ActivationScore.HIV-Vaccine.Sum_CTLA4-ICOS-OX40-TIMD4.20240225.tsv\n",
      "ActivationScore.HIV-Vaccine.Sum_CTLA4-ICOS-TIMD4.20240223.tsv\n",
      "ADT_TP10KCLR_ForMAGIC.h5ad\n",
      "haoetal_pbmc_multimodal.merged.ADTfixed.B.20231227.ADT.TP10K.VarNorm.leidenRNA_MI.tsv\n",
      "haoetal_pbmc_multimodal.merged.ADTfixed.B.20231227.ADT.VarNorm.HVG.HarmonyGeneCorrect.h5ad\n",
      "haoetal_pbmc_multimodal.merged.ADTfixed.B.20231227.FiltForcNMF.h5ad\n",
      "haoetal_pbmc_multimodal.merged.ADTfixed.B.20231227.metadata.tsv\n",
      "haoetal_pbmc_multimodal.merged.ADTfixed.B.20231227.RNA_and_ADT.TP10K.h5ad\n",
      "haoetal_pbmc_multimodal.merged.ADTfixed.B.20231227.RNA_and_ADT.TP10K.VarNorm.HVG.HarmonyGeneCorrect.WNN.UMAP.tsv\n",
      "haoetal_pbmc_multimodal.merged.ADTfixed.B.20231227.RNA_and_ADT.VarNorm.HVG.HarmonyGeneCorrect.h5ad\n",
      "haoetal_pbmc_multimodal.merged.ADTfixed.B.20231227.RNA_and_ADT.VarNorm.HVG.HarmonyGeneCorrect.h5mu\n",
      "haoetal_pbmc_multimodal.merged.ADTfixed.B.20231227.RNA.HVGlist.tsv\n",
      "haoetal_pbmc_multimodal.merged.ADTfixed.B.20231227.RNA.VarNorm.HVG.HarmonyGeneCorrect.h5ad\n",
      "haoetal_pbmc_multimodal.merged.ADTfixed.h5ad\n",
      "haoetal_pbmc_multimodal.merged.ADTfixed.Myeloid.20231227.ADT.TP10K.VarNorm.leidenRNA_MI.tsv\n",
      "haoetal_pbmc_multimodal.merged.ADTfixed.Myeloid.20231227.ADT.VarNorm.HVG.HarmonyGeneCorrect.h5ad\n",
      "haoetal_pbmc_multimodal.merged.ADTfixed.Myeloid.20231227.FiltForcNMF.h5ad\n",
      "haoetal_pbmc_multimodal.merged.ADTfixed.Myeloid.20231227.metadata.tsv\n",
      "haoetal_pbmc_multimodal.merged.ADTfixed.Myeloid.20231227.RNA_and_ADT.TP10K.h5ad\n",
      "haoetal_pbmc_multimodal.merged.ADTfixed.Myeloid.20231227.RNA_and_ADT.TP10K.VarNorm.HVG.HarmonyGeneCorrect.WNN.UMAP.tsv\n",
      "haoetal_pbmc_multimodal.merged.ADTfixed.Myeloid.20231227.RNA_and_ADT.VarNorm.HVG.HarmonyGeneCorrect.h5ad\n",
      "haoetal_pbmc_multimodal.merged.ADTfixed.Myeloid.20231227.RNA_and_ADT.VarNorm.HVG.HarmonyGeneCorrect.h5mu\n",
      "haoetal_pbmc_multimodal.merged.ADTfixed.Myeloid.20231227.RNA.HVGlist.tsv\n",
      "haoetal_pbmc_multimodal.merged.ADTfixed.Myeloid.20231227.RNA.VarNorm.HVG.HarmonyGeneCorrect.h5ad\n",
      "haoetal_pbmc_multimodal.merged.h5ad\n",
      "haoetal_pbmc_multimodal.merged.raw.h5ad\n",
      "haoetal_pbmc_multimodal.merged.T.ADTinfo.tsv\n",
      "haoetal_pbmc_multimodal.merged.T.h5ad\n",
      "haoetal_pbmc_multimodal.merged.T.raw.ADTfixedADT_70.20221022ADT.TP10K.VarNorm.leidenRNA_MI.tsv\n",
      "haoetal_pbmc_multimodal.merged.T.raw.ADTfixedADT_70.20221022ADT.VarNorm.HVG.HarmonyGeneCorrect.h5ad\n",
      "haoetal_pbmc_multimodal.merged.T.raw.ADTfixedADT_70.20221022FiltForcNMF.h5ad\n",
      "haoetal_pbmc_multimodal.merged.T.raw.ADTfixedADT_70.20221022metadata.tsv\n",
      "haoetal_pbmc_multimodal.merged.T.raw.ADTfixedADT_70.20221022RNA_and_ADT.TP10K.h5ad\n",
      "haoetal_pbmc_multimodal.merged.T.raw.ADTfixedADT_70.20221022RNA_and_ADT.TP10K.VarNorm.HVG.HarmonyGeneCorrect.WNN.UMAP.tsv\n",
      "haoetal_pbmc_multimodal.merged.T.raw.ADTfixedADT_70.20221022RNA_and_ADT.VarNorm.HVG.HarmonyGeneCorrect.h5ad\n",
      "haoetal_pbmc_multimodal.merged.T.raw.ADTfixedADT_70.20221022RNA_and_ADT.VarNorm.HVG.HarmonyGeneCorrect.h5mu\n",
      "haoetal_pbmc_multimodal.merged.T.raw.ADTfixedADT_70.20221022RNA.HVGlist.tsv\n",
      "haoetal_pbmc_multimodal.merged.T.raw.ADTfixedADT_70.20221022RNA.VarNorm.HVG.HarmonyGeneCorrect.h5ad\n",
      "haoetal_pbmc_multimodal.merged.T.raw.ADTfixed.h5ad\n",
      "HIVVaccine.20230907\n",
      "HIVVaccine.20230907.Iter200\n",
      "HIVVaccine.20230907.Iter200.Spectra_Scores.Relabeled.tsv\n",
      "HIVVaccine.20230907.Iter200.Spectra_TPM.Relabeled.tsv\n",
      "HIVVaccine.20230907.Iter200.Usage.Relabeled.tsv\n",
      "HIVVaccine.Bcell\n",
      "HIVVaccine.Bcell.Iter200\n",
      "HIVVaccine.Myeloid\n",
      "HIVVaccine.Myeloid.Iter200\n",
      "ManualGating.Magic.20230831.tsv\n",
      "ManualGating.Magic.FinalLabel.20230831.tsv\n",
      "ManualGating.MagicMarker.RNA_LogTP10KADT.ADT_CLRTP10K.tsv\n",
      "ManualGating.UnsmoothedMarker.RNA_LogTP10KADT.ADT_CLRTP10K.tsv\n",
      "RNA_logTP1K_ForMAGIC.h5ad\n",
      "TCAT_Usage.FullPBMC.20240209.tsv\n",
      "T_learnHarmonyRNA_RefitBoth_20221022\n"
     ]
    }
   ],
   "source": [
    "! ls ../../../Data/PerDataset/HaoEtAl"
   ]
  },
  {
   "cell_type": "code",
   "execution_count": 5,
   "metadata": {},
   "outputs": [
    {
     "data": {
      "text/plain": [
       "{'Original': '../../../Data/PerDataset/HaoEtAl/haoetal_pbmc_multimodal.merged.ADTfixed.h5ad',\n",
       " 'RNA_Varnorm_Harmony': '../../../Data/PerDataset/HaoEtAl/haoetal_pbmc_multimodal.merged.ADTfixed.AllPBMC.20240313.RNA.VarNorm.HVG.HarmonyGeneCorrect.h5ad',\n",
       " 'RNA_HVG_List': '../../../Data/PerDataset/HaoEtAl/haoetal_pbmc_multimodal.merged.ADTfixed.AllPBMC.20240313.RNA.HVGlist.tsv',\n",
       " 'Metadata': '../../../Data/PerDataset/HaoEtAl/haoetal_pbmc_multimodal.merged.ADTfixed.AllPBMC.20240313.metadata.tsv',\n",
       " 'Raw_Filt_For_cNMF': '../../../Data/PerDataset/HaoEtAl/haoetal_pbmc_multimodal.merged.ADTfixed.AllPBMC.20240313.FiltForcNMF.h5ad',\n",
       " 'ADT_MI_Rank': '../../../Data/PerDataset/HaoEtAl/haoetal_pbmc_multimodal.merged.ADTfixed.AllPBMC.20240313.ADT.TP10K.VarNorm.leidenRNA_MI.tsv',\n",
       " 'ADT_Varnom_Harmony': '../../../Data/PerDataset/HaoEtAl/haoetal_pbmc_multimodal.merged.ADTfixed.AllPBMC.20240313.ADT.VarNorm.HVG.HarmonyGeneCorrect.h5ad',\n",
       " 'RNA_and_ADT_TP10K': '../../../Data/PerDataset/HaoEtAl/haoetal_pbmc_multimodal.merged.ADTfixed.AllPBMC.20240313.RNA_and_ADT.TP10K.h5ad',\n",
       " 'RNA_and_ADT_HVG_List': '../../../Data/PerDataset/HaoEtAl/haoetal_pbmc_multimodal.merged.ADTfixed.AllPBMC.20240313.RNA_and_ADT.HVGlist.tsv',\n",
       " 'RNA_and_ADT_Varnorm_Harmony_WNN': '../../../Data/PerDataset/HaoEtAl/haoetal_pbmc_multimodal.merged.ADTfixed.AllPBMC.20240313.RNA_and_ADT.VarNorm.HVG.HarmonyGeneCorrect.h5mu',\n",
       " 'RNA_and_ADT_Varnorm_Harmony': '../../../Data/PerDataset/HaoEtAl/haoetal_pbmc_multimodal.merged.ADTfixed.AllPBMC.20240313.RNA_and_ADT.VarNorm.HVG.HarmonyGeneCorrect.h5ad',\n",
       " 'WNN_UMAP': '../../../Data/PerDataset/HaoEtAl/haoetal_pbmc_multimodal.merged.ADTfixed.AllPBMC.20240313.RNA_and_ADT.TP10K.VarNorm.HVG.HarmonyGeneCorrect.WNN.UMAP.tsv'}"
      ]
     },
     "execution_count": 5,
     "metadata": {},
     "output_type": "execute_result"
    }
   ],
   "source": [
    "params = {\n",
    "'harmony_vars' : ['lane', 'donor'],\n",
    "'filter_mito_thresh' : None,\n",
    "'RNA_normalize_targetsum' : 1e4,\n",
    "'n_top_rna_genes' : 2000,\n",
    "'n_top_adt_genes' : 70,\n",
    "'feature_type_col' : 'feature_types', # Set to None if only RNA is included\n",
    "'adt_feature_name' : 'Antibody Capture', # all other genes assumed to be RNA\n",
    "'min_cells_per_RNA_gene' : 10,\n",
    "'min_rna_counts_per_cell' : 500,\n",
    "'filter_mito_genes' : False,\n",
    "'filter_dot_genes' : True,\n",
    "'max_scaled_thresh' : None,\n",
    "'quantile_thresh' : .9999,\n",
    "'n_neighbors' : 30,\n",
    "'n_rna_pcs' : 31,\n",
    "'n_adt_pcs' : 21,\n",
    "'name_addition' : '.AllPBMC.20240313.', # Set to a string if you want to append that to the name of saved files to run multiple versions of script\n",
    "'random_seed' : 14\n",
    "}\n",
    "\n",
    "\n",
    "\n",
    "if params['name_addition'] is None:\n",
    "    toadd = ''\n",
    "else:\n",
    "    toadd = params['name_addition']\n",
    "\n",
    "\n",
    "original =  '../../../Data/PerDataset/HaoEtAl/haoetal_pbmc_multimodal.merged.ADTfixed.h5ad'\n",
    "paths = {\n",
    "        'Original' : original, # AnnData containing RNA +/- ADT,\n",
    "        'RNA_Varnorm_Harmony':original.replace('.h5ad', toadd + 'RNA.VarNorm.HVG.HarmonyGeneCorrect.h5ad'),\n",
    "        'RNA_HVG_List':original.replace('.h5ad', toadd + 'RNA.HVGlist.tsv'),\n",
    "        'Metadata' : original.replace('.h5ad', toadd + 'metadata.tsv'),\n",
    "        'Raw_Filt_For_cNMF' : original.replace('.h5ad', toadd + 'FiltForcNMF.h5ad'),\n",
    "        }\n",
    "        \n",
    "if params['feature_type_col'] is None:\n",
    "    ## Output RNA only TP10K file if no ADT\n",
    "    paths['TP10K'] = original.replace('.h5ad', toadd + 'RNA.TP10K.h5ad')\n",
    "else:\n",
    "    ## Output both RNA and ADT files\n",
    "    paths['ADT_MI_Rank'] = original.replace('.h5ad', toadd + 'ADT.TP10K.VarNorm.leidenRNA_MI.tsv')\n",
    "    paths['ADT_Varnom_Harmony'] = original.replace('.h5ad', toadd + 'ADT.VarNorm.HVG.HarmonyGeneCorrect.h5ad')\n",
    "    paths['RNA_and_ADT_TP10K'] = original.replace('.h5ad', toadd + 'RNA_and_ADT.TP10K.h5ad')\n",
    "    paths['RNA_and_ADT_HVG_List'] = original.replace('.h5ad', toadd + 'RNA_and_ADT.HVGlist.tsv')\n",
    "    paths['RNA_and_ADT_Varnorm_Harmony_WNN'] = original.replace('.h5ad', toadd + 'RNA_and_ADT.VarNorm.HVG.HarmonyGeneCorrect.h5mu')\n",
    "    paths['RNA_and_ADT_Varnorm_Harmony'] = original.replace('.h5ad', toadd + 'RNA_and_ADT.VarNorm.HVG.HarmonyGeneCorrect.h5ad')\n",
    "    paths['WNN_UMAP'] = original.replace('.h5ad', toadd + 'RNA_and_ADT.TP10K.VarNorm.HVG.HarmonyGeneCorrect.WNN.UMAP.tsv')\n",
    "    \n",
    "paths\n"
   ]
  },
  {
   "cell_type": "markdown",
   "metadata": {},
   "source": [
    "# Run pipeline"
   ]
  },
  {
   "cell_type": "code",
   "execution_count": 6,
   "metadata": {
    "tags": []
   },
   "outputs": [
    {
     "name": "stdout",
     "output_type": "stream",
     "text": [
      "WARNING: Your filename has more than two extensions: ['.merged', '.ADTfixed', '.h5ad'].\n",
      "Only considering the two last: ['.ADTfixed', '.h5ad'].\n",
      "WARNING: Your filename has more than two extensions: ['.merged', '.ADTfixed', '.h5ad'].\n",
      "Only considering the two last: ['.ADTfixed', '.h5ad'].\n"
     ]
    }
   ],
   "source": [
    "adata = sc.read(paths['Original'])"
   ]
  },
  {
   "cell_type": "code",
   "execution_count": 7,
   "metadata": {
    "tags": []
   },
   "outputs": [
    {
     "data": {
      "text/plain": [
       "Mono       49010\n",
       "CD4 T      41001\n",
       "CD8 T      25469\n",
       "NK         18664\n",
       "B          13800\n",
       "other T     6789\n",
       "DC          3589\n",
       "other       3442\n",
       "Name: celltype.l1, dtype: int64"
      ]
     },
     "execution_count": 7,
     "metadata": {},
     "output_type": "execute_result"
    }
   ],
   "source": [
    "adata.obs['celltype.l1'].value_counts()"
   ]
  },
  {
   "cell_type": "code",
   "execution_count": 11,
   "metadata": {
    "tags": []
   },
   "outputs": [
    {
     "data": {
      "text/plain": [
       "celltype.l1  celltype.l2      \n",
       "B            B intermediate        2431\n",
       "             B memory              3285\n",
       "             B naive               7718\n",
       "             Plasmablast            366\n",
       "CD4 T        CD4 CTL               1736\n",
       "             CD4 Naive            17479\n",
       "             CD4 Proliferating      108\n",
       "             CD4 TCM              14889\n",
       "             CD4 TEM               4282\n",
       "             Treg                  2507\n",
       "CD8 T        CD8 Naive            10768\n",
       "             CD8 Proliferating       91\n",
       "             CD8 TCM               2883\n",
       "             CD8 TEM              11727\n",
       "DC           ASDC                    76\n",
       "             cDC1                   151\n",
       "             cDC2                  2501\n",
       "             pDC                    861\n",
       "Mono         CD14 Mono            42690\n",
       "             CD16 Mono             6320\n",
       "NK           NK                   17173\n",
       "             NK Proliferating       548\n",
       "             NK_CD56bright          943\n",
       "other        Doublet                605\n",
       "             Eryth                   83\n",
       "             HSPC                   329\n",
       "             ILC                    132\n",
       "             Platelet              2293\n",
       "other T      MAIT                  2784\n",
       "             dnT                    356\n",
       "             gdT                   3649\n",
       "dtype: int64"
      ]
     },
     "execution_count": 11,
     "metadata": {},
     "output_type": "execute_result"
    }
   ],
   "source": [
    "adata.obs[['celltype.l1', 'celltype.l2']].value_counts().sort_index()"
   ]
  },
  {
   "cell_type": "code",
   "execution_count": 12,
   "metadata": {
    "tags": []
   },
   "outputs": [
    {
     "name": "stderr",
     "output_type": "stream",
     "text": [
      "/PHShome/mc1070/anaconda3/envs/cnmf_env2v2/lib/python3.7/site-packages/scanpy/preprocessing/_highly_variable_genes.py:64: UserWarning: `flavor='seurat_v3'` expects raw count data, but non-integers were found.\n",
      "  UserWarning,\n",
      "/PHShome/mc1070/anaconda3/envs/cnmf_env2v2/lib/python3.7/site-packages/anndata/compat/_overloaded_dict.py:106: ImplicitModificationWarning: Trying to modify attribute `._uns` of view, initializing view as actual.\n",
      "  self.data[key] = value\n",
      "/PHShome/mc1070/anaconda3/envs/cnmf_env2v2/lib/python3.7/site-packages/scanpy/preprocessing/_simple.py:843: UserWarning: Received a view of an AnnData. Making a copy.\n",
      "  view_to_actual(adata)\n"
     ]
    },
    {
     "data": {
      "image/png": "[encoded data removed]",
      "text/plain": [
       "<Figure size 432x288 with 1 Axes>"
      ]
     },
     "metadata": {
      "needs_background": "light"
     },
     "output_type": "display_data"
    },
    {
     "data": {
      "image/png": "[encoded data removed]",
      "text/plain": [
       "<Figure size 432x288 with 1 Axes>"
      ]
     },
     "metadata": {
      "needs_background": "light"
     },
     "output_type": "display_data"
    },
    {
     "data": {
      "image/png": "[encoded data removed]",
      "text/plain": [
       "<Figure size 432x288 with 1 Axes>"
      ]
     },
     "metadata": {
      "needs_background": "light"
     },
     "output_type": "display_data"
    },
    {
     "name": "stderr",
     "output_type": "stream",
     "text": [
      "2024-03-13 12:41:44,784 - harmonypy - INFO - Iteration 1 of 20\n",
      "2024-03-13 12:46:13,467 - harmonypy - INFO - Iteration 2 of 20\n",
      "2024-03-13 12:49:56,873 - harmonypy - INFO - Iteration 3 of 20\n",
      "2024-03-13 12:53:46,113 - harmonypy - INFO - Converged after 3 iterations\n",
      "/PHShome/mc1070/anaconda3/envs/cnmf_env2v2/lib/python3.7/site-packages/scanpy/preprocessing/_simple.py:524: ImplicitModificationWarning: Trying to modify attribute `.obs` of view, initializing view as actual.\n",
      "  adata.obs[key_n_counts] = counts_per_cell\n"
     ]
    }
   ],
   "source": [
    "if params['feature_type_col'] is not None:\n",
    "    adata_RNA = adata[:, adata.var[params['feature_type_col']]!=params['adt_feature_name']]\n",
    "    adata_ADT = adata[:, adata.var[params['feature_type_col']]==params['adt_feature_name']]\n",
    "    \n",
    "    adata_ADT.var_names_make_unique()\n",
    "    adata_ADT.var['features_renamed'] = adata_ADT.var.index\n",
    "    \n",
    "else:\n",
    "    adata_RNA = adata\n",
    "    \n",
    "adata_RNA.var_names_make_unique()\n",
    "adata_RNA.var['features_renamed'] = adata_RNA.var.index\n",
    "\n",
    "p = Preprocess(params['random_seed'])\n",
    "\n",
    "\n",
    "adata_RNA = p.filter_adata(adata_RNA, filter_mito_thresh=params['filter_mito_thresh'], min_cells_per_gene = params['min_cells_per_RNA_gene'],\n",
    "             min_counts_per_cell = params['min_rna_counts_per_cell'], filter_mito_genes = params['filter_mito_genes'],\n",
    "             filter_dot_genes = params['filter_dot_genes'], makeplots=True)\n",
    "adata_ADT = adata_ADT[adata_RNA.obs.index, :]\n",
    "\n",
    "(adata_RNA_c, adata_tp10k, hvgs) = p.preprocess_for_cnmf([adata_RNA, adata_ADT], harmony_vars=params['harmony_vars'], n_top_rna_genes = params['n_top_rna_genes'],\n",
    "                            librarysize_targetsum= 1e4, max_scaled_thresh = params['max_scaled_thresh'], quantile_thresh = params['quantile_thresh'], makeplots=True)"
   ]
  },
  {
   "cell_type": "code",
   "execution_count": 16,
   "metadata": {},
   "outputs": [
    {
     "name": "stdout",
     "output_type": "stream",
     "text": [
      "/data/srlab1/TCAT/Analysis/PerDataset/HaoEtAl\n"
     ]
    }
   ],
   "source": [
    "! pwd"
   ]
  },
  {
   "cell_type": "code",
   "execution_count": 17,
   "metadata": {},
   "outputs": [
    {
     "data": {
      "text/plain": [
       "'../../../Data/PerDataset/HaoEtAl/haoetal_pbmc_multimodal.merged.ADTfixed.AllPBMC.20240313.RNA.VarNorm.HVG.HarmonyGeneCorrect.h5ad'"
      ]
     },
     "execution_count": 17,
     "metadata": {},
     "output_type": "execute_result"
    }
   ],
   "source": [
    "paths['RNA_Varnorm_Harmony']"
   ]
  },
  {
   "cell_type": "code",
   "execution_count": 18,
   "metadata": {},
   "outputs": [
    {
     "data": {
      "text/plain": [
       "'../../../Data/PerDataset/HaoEtAl/haoetal_pbmc_multimodal.merged.ADTfixed.AllPBMC.20240313.RNA_and_ADT.TP10K.h5ad'"
      ]
     },
     "execution_count": 18,
     "metadata": {},
     "output_type": "execute_result"
    }
   ],
   "source": [
    "paths['RNA_and_ADT_TP10K']"
   ]
  },
  {
   "cell_type": "code",
   "execution_count": 19,
   "metadata": {},
   "outputs": [
    {
     "name": "stdout",
     "output_type": "stream",
     "text": [
      "WARNING: Your filename has more than two extensions: ['.merged', '.ADTfixed', '.AllPBMC', '.20240313', '.RNA', '.VarNorm', '.HVG', '.HarmonyGeneCorrect', '.h5ad'].\n",
      "Only considering the two last: ['.HarmonyGeneCorrect', '.h5ad'].\n",
      "WARNING: Your filename has more than two extensions: ['.merged', '.ADTfixed', '.AllPBMC', '.20240313', '.RNA', '.VarNorm', '.HVG', '.HarmonyGeneCorrect', '.h5ad'].\n",
      "Only considering the two last: ['.HarmonyGeneCorrect', '.h5ad'].\n",
      "WARNING: Your filename has more than two extensions: ['.merged', '.ADTfixed', '.AllPBMC', '.20240313', '.RNA_and_ADT', '.TP10K', '.h5ad'].\n",
      "Only considering the two last: ['.TP10K', '.h5ad'].\n",
      "WARNING: Your filename has more than two extensions: ['.merged', '.ADTfixed', '.AllPBMC', '.20240313', '.RNA_and_ADT', '.TP10K', '.h5ad'].\n",
      "Only considering the two last: ['.TP10K', '.h5ad'].\n"
     ]
    }
   ],
   "source": [
    "sc.write(paths['RNA_Varnorm_Harmony'], adata_RNA_c)\n",
    "sc.write(paths['RNA_and_ADT_TP10K'], adata_tp10k)"
   ]
  },
  {
   "cell_type": "code",
   "execution_count": 20,
   "metadata": {},
   "outputs": [
    {
     "data": {
      "text/plain": [
       "'../../../Data/PerDataset/HaoEtAl/haoetal_pbmc_multimodal.merged.ADTfixed.AllPBMC.20240313.RNA.HVGlist.tsv'"
      ]
     },
     "execution_count": 20,
     "metadata": {},
     "output_type": "execute_result"
    }
   ],
   "source": [
    "paths['RNA_HVG_List']"
   ]
  },
  {
   "cell_type": "code",
   "execution_count": 21,
   "metadata": {},
   "outputs": [],
   "source": [
    "with open(paths['RNA_HVG_List'], 'w') as F:\n",
    "    F.write('\\n'.join(hvgs))"
   ]
  },
  {
   "cell_type": "code",
   "execution_count": null,
   "metadata": {},
   "outputs": [],
   "source": [
    "# sc.pp.neighbors(adata_RNA_c, n_neighbors=params['n_neighbors'], n_pcs=params['n_rna_pcs'], use_rep='X_pca_harmony')\n",
    "# sc.tl.umap(adata_RNA_c)\n",
    "# adata_RNA_c.obsm['X_harmony_RNA_UMAP'] = adata_RNA_c.obsm['X_umap']\n",
    "# sc.tl.leiden(adata_RNA_c, resolution=1)\n",
    "# sc.pl.embedding(adata_RNA_c, basis='X_harmony_RNA_UMAP', color= params['harmony_vars'] + ['leiden'])"
   ]
  },
  {
   "cell_type": "code",
   "execution_count": 26,
   "metadata": {},
   "outputs": [],
   "source": [
    "adata_RNA_c.obs.to_csv(paths['Metadata'], sep='\\t')"
   ]
  },
  {
   "cell_type": "code",
   "execution_count": 25,
   "metadata": {},
   "outputs": [
    {
     "data": {
      "text/plain": [
       "'../../../Data/PerDataset/HaoEtAl/haoetal_pbmc_multimodal.merged.ADTfixed.AllPBMC.20240313.metadata.tsv'"
      ]
     },
     "execution_count": 25,
     "metadata": {},
     "output_type": "execute_result"
    }
   ],
   "source": [
    "paths['Metadata']"
   ]
  },
  {
   "cell_type": "code",
   "execution_count": 27,
   "metadata": {},
   "outputs": [],
   "source": [
    "# Filt raw data to cells used for cnmf only \n",
    "# adata_RNA_c = sc.read(paths['RNA_Varnorm_Harmony'])\n",
    "adata_filt = adata[adata_RNA_c.obs.index, ]"
   ]
  },
  {
   "cell_type": "code",
   "execution_count": 28,
   "metadata": {},
   "outputs": [
    {
     "data": {
      "text/plain": [
       "((161764, 20957), (161724, 2000), (161724, 20957))"
      ]
     },
     "execution_count": 28,
     "metadata": {},
     "output_type": "execute_result"
    }
   ],
   "source": [
    "adata.shape, adata_RNA_c.shape, adata_filt.shape"
   ]
  },
  {
   "cell_type": "code",
   "execution_count": 29,
   "metadata": {},
   "outputs": [
    {
     "data": {
      "text/plain": [
       "'../../../Data/PerDataset/HaoEtAl/haoetal_pbmc_multimodal.merged.ADTfixed.AllPBMC.20240313.FiltForcNMF.h5ad'"
      ]
     },
     "execution_count": 29,
     "metadata": {},
     "output_type": "execute_result"
    }
   ],
   "source": [
    "paths['Raw_Filt_For_cNMF']"
   ]
  },
  {
   "cell_type": "code",
   "execution_count": 30,
   "metadata": {},
   "outputs": [
    {
     "name": "stdout",
     "output_type": "stream",
     "text": [
      "WARNING: Your filename has more than two extensions: ['.merged', '.ADTfixed', '.AllPBMC', '.20240313', '.FiltForcNMF', '.h5ad'].\n",
      "Only considering the two last: ['.FiltForcNMF', '.h5ad'].\n",
      "WARNING: Your filename has more than two extensions: ['.merged', '.ADTfixed', '.AllPBMC', '.20240313', '.FiltForcNMF', '.h5ad'].\n",
      "Only considering the two last: ['.FiltForcNMF', '.h5ad'].\n"
     ]
    }
   ],
   "source": [
    "sc.write(paths['Raw_Filt_For_cNMF'], adata_filt)"
   ]
  }
 ],
 "metadata": {
  "kernelspec": {
   "display_name": "Python 3",
   "language": "python",
   "name": "python3"
  },
  "language_info": {
   "codemirror_mode": {
    "name": "ipython",
    "version": 3
   },
   "file_extension": ".py",
   "mimetype": "text/x-python",
   "name": "python",
   "nbconvert_exporter": "python",
   "pygments_lexer": "ipython3",
   "version": "3.6.15"
  },
  "toc-autonumbering": true
 },
 "nbformat": 4,
 "nbformat_minor": 4
}
