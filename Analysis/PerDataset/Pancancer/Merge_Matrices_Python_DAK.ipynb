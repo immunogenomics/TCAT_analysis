{
 "cells": [
  {
   "cell_type": "code",
   "execution_count": 1,
   "id": "e63e30cb-d853-42e1-a964-f93fdf8a4dd3",
   "metadata": {},
   "outputs": [],
   "source": [
    "import pandas as pd\n",
    "import scanpy as sc\n",
    "from scipy.io import mmread\n",
    "import scipy.sparse as sp\n",
    "import numpy as np\n",
    "\n",
    "def read_sce(filepath_prefix):\n",
    "    # Read expression matrix from Matrix Market format\n",
    "    expr_matrix = mmread(filepath_prefix + \"_expression.mtx\").T  # Transpose as genes are usually rows in R\n",
    "    expr_matrix = sp.csr_matrix(expr_matrix)\n",
    "    \n",
    "    # Read cell and gene metadata\n",
    "    cell_meta = pd.read_csv(filepath_prefix + \"_cell_metadata.csv\", index_col=0)\n",
    "    gene_meta = pd.read_csv(filepath_prefix + \"_gene_metadata.csv\", index_col=0)\n",
    "    \n",
    "    # Construct AnnData object\n",
    "    adata = sc.AnnData(X=expr_matrix, obs=cell_meta, var=gene_meta)\n",
    "    \n",
    "    return adata"
   ]
  },
  {
   "cell_type": "code",
   "execution_count": 2,
   "id": "1cb82cd1-69a7-4af0-b010-6c63efa97ced",
   "metadata": {},
   "outputs": [
    {
     "name": "stderr",
     "output_type": "stream",
     "text": [
      "/PHShome/dk718/miniforge3/envs/cnmf_env2/lib/python3.8/site-packages/anndata/_core/anndata.py:121: ImplicitModificationWarning: Transforming to str index.\n",
      "  warnings.warn(\"Transforming to str index.\", ImplicitModificationWarning)\n",
      "/PHShome/dk718/miniforge3/envs/cnmf_env2/lib/python3.8/site-packages/anndata/_core/anndata.py:121: ImplicitModificationWarning: Transforming to str index.\n",
      "  warnings.warn(\"Transforming to str index.\", ImplicitModificationWarning)\n",
      "/PHShome/dk718/miniforge3/envs/cnmf_env2/lib/python3.8/site-packages/anndata/_core/anndata.py:121: ImplicitModificationWarning: Transforming to str index.\n",
      "  warnings.warn(\"Transforming to str index.\", ImplicitModificationWarning)\n",
      "/PHShome/dk718/miniforge3/envs/cnmf_env2/lib/python3.8/site-packages/anndata/_core/anndata.py:121: ImplicitModificationWarning: Transforming to str index.\n",
      "  warnings.warn(\"Transforming to str index.\", ImplicitModificationWarning)\n",
      "/PHShome/dk718/miniforge3/envs/cnmf_env2/lib/python3.8/site-packages/anndata/_core/anndata.py:121: ImplicitModificationWarning: Transforming to str index.\n",
      "  warnings.warn(\"Transforming to str index.\", ImplicitModificationWarning)\n",
      "/PHShome/dk718/miniforge3/envs/cnmf_env2/lib/python3.8/site-packages/anndata/_core/anndata.py:121: ImplicitModificationWarning: Transforming to str index.\n",
      "  warnings.warn(\"Transforming to str index.\", ImplicitModificationWarning)\n",
      "/PHShome/dk718/miniforge3/envs/cnmf_env2/lib/python3.8/site-packages/anndata/_core/anndata.py:121: ImplicitModificationWarning: Transforming to str index.\n",
      "  warnings.warn(\"Transforming to str index.\", ImplicitModificationWarning)\n",
      "/PHShome/dk718/miniforge3/envs/cnmf_env2/lib/python3.8/site-packages/anndata/_core/anndata.py:121: ImplicitModificationWarning: Transforming to str index.\n",
      "  warnings.warn(\"Transforming to str index.\", ImplicitModificationWarning)\n"
     ]
    }
   ],
   "source": [
    "bases = ! ls ../../../Data/PerDataset/Pancancer/IdvDatasets/*_cell_metadata.csv\n",
    "bases = [x.replace('_cell_metadata.csv', '') for x in bases]\n",
    "adatas = []\n",
    "for b in bases:\n",
    "    adata = read_sce(b)\n",
    "    adata.var.index = adata.var['display.name']\n",
    "    #if ('BCL.thisStudy' in b) or ('BRCA.thisStudy' in b) or ('CHOL.thisStudy' in b):\n",
    "    #    adata.var.index = adata.var['display.name']\n",
    "    \n",
    "    adatas.append(adata)    \n"
   ]
  },
  {
   "cell_type": "code",
   "execution_count": 3,
   "id": "9b9428b9-5eed-4520-98c5-5d2859c373cb",
   "metadata": {},
   "outputs": [
    {
     "name": "stdout",
     "output_type": "stream",
     "text": [
      "AML.PeterVanGalen2019.CD4 27899\n",
      "AML.PeterVanGalen2019.CD8 27899\n",
      "BCC.KathrynEYost2019.CD4 23309\n",
      "BCC.KathrynEYost2019.CD8 23309\n",
      "BCL.thisStudy.CD4 28855\n",
      "BCL.thisStudy.CD8 28855\n",
      "BRCA.ElhamAzizi2018 10X.CD4 12908\n",
      "BRCA.ElhamAzizi2018 10X.CD8 12908\n",
      "BRCA.ElhamAzizi2018 Indrop.CD4 14854\n",
      "BRCA.ElhamAzizi2018 Indrop.CD8 14854\n",
      "BRCA.PeterSavas2018.CD4 15623\n",
      "BRCA.PeterSavas2018.CD8 15623\n",
      "BRCA.thisStudy.CD4 24148\n",
      "BRCA.thisStudy.CD8 24148\n",
      "CHOL.thisStudy.CD4 12582\n",
      "CHOL.thisStudy.CD8 12582\n",
      "CRC.LeiZhang2018.CD4 12582\n",
      "CRC.LeiZhang2018.CD8 12582\n",
      "CRC.LeiZhang2020 10X.CD4 16452\n",
      "CRC.LeiZhang2020 10X.CD8 16452\n",
      "ESCA.thisStudy.CD4 24148\n",
      "ESCA.thisStudy.CD8 24148\n",
      "FTC.thisStudy.CD4 24148\n",
      "FTC.thisStudy.CD8 24148\n",
      "HCC.ChunhongZheng2017.CD4 12582\n",
      "HCC.ChunhongZheng2017.CD8 12582\n",
      "HCC.QimingZhang2019 10X.CD4 58233\n",
      "HCC.QimingZhang2019 10X.CD8 58233\n",
      "HCC.QimingZhang2019 SS2.CD4 60682\n",
      "HCC.QimingZhang2019 SS2.CD8 60682\n",
      "LC.QianqianSong2019.CD4 33694\n",
      "LC.QianqianSong2019.CD8 33694\n",
      "LC.RapolasZilionis2019.CD4 41861\n",
      "LC.RapolasZilionis2019.CD8 41861\n",
      "LC.XinyiGuo2018.CD4 12582\n",
      "LC.XinyiGuo2018.CD8 12582\n",
      "LIHC.LichunMa2019.CD4 18372\n",
      "LIHC.LichunMa2019.CD8 18372\n",
      "MELA.HanjieLi2019.CD4 55765\n",
      "MELA.HanjieLi2019.CD8 55765\n",
      "MELA.LivnatJerby-Arnon2018.CD4 12487\n",
      "MELA.LivnatJerby-Arnon2018.CD8 12487\n",
      "MM.thisStudy.CD4 28855\n",
      "MM.thisStudy.CD8 28855\n",
      "NPC.YangLiu2021.CD4 19048\n",
      "NPC.YangLiu2021.CD8 19048\n",
      "OV.thisStudy.CD4 24148\n",
      "OV.thisStudy.CD8 24148\n",
      "PACA.JunyaPeng2019.CD4 24005\n",
      "PACA.JunyaPeng2019.CD8 24005\n",
      "PACA.thisStudy.CD4 24148\n",
      "PACA.thisStudy.CD8 24148\n",
      "RC.MatthewDYoung2018.CD4 33694\n",
      "RC.MatthewDYoung2018.CD8 33694\n",
      "RC.thisStudy.CD4 24148\n",
      "RC.thisStudy.CD8 24148\n",
      "SCC.KathrynEYost2019.CD4 18347\n",
      "SCC.KathrynEYost2019.CD8 18347\n",
      "THCA.thisStudy.CD4 24148\n",
      "THCA.thisStudy.CD8 24148\n",
      "UCEC.thisStudy.CD4 24148\n",
      "UCEC.thisStudy.CD8 24148\n"
     ]
    }
   ],
   "source": [
    "for i,b in enumerate(bases):\n",
    "    print(b.split('/')[-1], adatas[i].var.shape[0])\n"
   ]
  },
  {
   "cell_type": "code",
   "execution_count": 4,
   "id": "2d13f7d6-2c4d-41d5-9650-72c84b1e262b",
   "metadata": {
    "scrolled": true
   },
   "outputs": [
    {
     "data": {
      "text/plain": [
       "['AML.PeterVanGalen2019.CD4',\n",
       " 'AML.PeterVanGalen2019.CD8',\n",
       " 'BCC.KathrynEYost2019.CD4',\n",
       " 'BCC.KathrynEYost2019.CD8',\n",
       " 'BCL.thisStudy.CD4',\n",
       " 'BCL.thisStudy.CD8',\n",
       " 'BRCA.ElhamAzizi2018.10X.CD4',\n",
       " 'BRCA.ElhamAzizi2018.10X.CD8',\n",
       " 'BRCA.ElhamAzizi2018.Indrop.CD4',\n",
       " 'BRCA.ElhamAzizi2018.Indrop.CD8',\n",
       " 'BRCA.PeterSavas2018.CD4',\n",
       " 'BRCA.PeterSavas2018.CD8',\n",
       " 'BRCA.thisStudy.CD4',\n",
       " 'BRCA.thisStudy.CD8',\n",
       " 'CHOL.thisStudy.CD4',\n",
       " 'CHOL.thisStudy.CD8',\n",
       " 'CRC.LeiZhang2018.CD4',\n",
       " 'CRC.LeiZhang2018.CD8',\n",
       " 'CRC.LeiZhang2020.10X.CD4',\n",
       " 'CRC.LeiZhang2020.10X.CD8',\n",
       " 'ESCA.thisStudy.CD4',\n",
       " 'ESCA.thisStudy.CD8',\n",
       " 'FTC.thisStudy.CD4',\n",
       " 'FTC.thisStudy.CD8',\n",
       " 'HCC.ChunhongZheng2017.CD4',\n",
       " 'HCC.ChunhongZheng2017.CD8',\n",
       " 'HCC.QimingZhang2019.10X.CD4',\n",
       " 'HCC.QimingZhang2019.10X.CD8',\n",
       " 'HCC.QimingZhang2019.SS2.CD4',\n",
       " 'HCC.QimingZhang2019.SS2.CD8',\n",
       " 'NSCLC.QianqianSong2019.CD4',\n",
       " 'NSCLC.QianqianSong2019.CD8',\n",
       " 'NSCLC.RapolasZilionis2019.CD4',\n",
       " 'NSCLC.RapolasZilionis2019.CD8',\n",
       " 'NSCLC.XinyiGuo2018.CD4',\n",
       " 'NSCLC.XinyiGuo2018.CD8',\n",
       " 'LIHC.LichunMa2019.CD4',\n",
       " 'LIHC.LichunMa2019.CD8',\n",
       " 'MELA.HanjieLi2019.CD4',\n",
       " 'MELA.HanjieLi2019.CD8',\n",
       " 'MELA.LivnatJerby-Arnon2018.CD4',\n",
       " 'MELA.LivnatJerby-Arnon2018.CD8',\n",
       " 'MM.thisStudy.CD4',\n",
       " 'MM.thisStudy.CD8',\n",
       " 'NPC.YangLiu2021.CD4',\n",
       " 'NPC.YangLiu2021.CD8',\n",
       " 'OV.thisStudy.CD4',\n",
       " 'OV.thisStudy.CD8',\n",
       " 'PACA.JunyaPeng2019.CD4',\n",
       " 'PACA.JunyaPeng2019.CD8',\n",
       " 'PACA.thisStudy.CD4',\n",
       " 'PACA.thisStudy.CD8',\n",
       " 'RC.MatthewDYoung2018.CD4',\n",
       " 'RC.MatthewDYoung2018.CD8',\n",
       " 'RC.thisStudy.CD4',\n",
       " 'RC.thisStudy.CD8',\n",
       " 'SCC.KathrynEYost2019.CD4',\n",
       " 'SCC.KathrynEYost2019.CD8',\n",
       " 'THCA.thisStudy.CD4',\n",
       " 'THCA.thisStudy.CD8',\n",
       " 'UCEC.thisStudy.CD4',\n",
       " 'UCEC.thisStudy.CD8']"
      ]
     },
     "execution_count": 4,
     "metadata": {},
     "output_type": "execute_result"
    }
   ],
   "source": [
    "dataset_names = [b.split('/')[-1].replace(' ', '.') for b in bases]\n",
    "dataset_names = [b.replace('LC.RapolasZilionis2019', 'NSCLC.RapolasZilionis2019') for b in dataset_names]\n",
    "dataset_names = [b.replace('LC.QianqianSong2019', 'NSCLC.QianqianSong2019') for b in dataset_names]\n",
    "dataset_names = [b.replace('LC.XinyiGuo2018', 'NSCLC.XinyiGuo2018') for b in dataset_names]\n",
    "\n",
    "dataset_names"
   ]
  },
  {
   "cell_type": "code",
   "execution_count": 5,
   "id": "e660d9f4-6bfc-40de-aeab-bc6b91774c04",
   "metadata": {},
   "outputs": [],
   "source": [
    "dataset_names_merged = list([b[:-4] for b in dataset_names])"
   ]
  },
  {
   "cell_type": "code",
   "execution_count": 6,
   "id": "3dc860c8-c13f-435f-b973-e04fc7529f27",
   "metadata": {},
   "outputs": [
    {
     "name": "stderr",
     "output_type": "stream",
     "text": [
      "/tmp/ipykernel_6237/257443763.py:1: DtypeWarning: Columns (7) have mixed types. Specify dtype option on import or set low_memory=False.\n",
      "  complete_meta = pd.read_csv('../../../Data/PerDataset/Pancancer/Complete_Published_Metadata.csv', sep=',', index_col=0)\n"
     ]
    },
    {
     "data": {
      "text/html": [
       "<div>\n",
       "<style scoped>\n",
       "    .dataframe tbody tr th:only-of-type {\n",
       "        vertical-align: middle;\n",
       "    }\n",
       "\n",
       "    .dataframe tbody tr th {\n",
       "        vertical-align: top;\n",
       "    }\n",
       "\n",
       "    .dataframe thead th {\n",
       "        text-align: right;\n",
       "    }\n",
       "</style>\n",
       "<table border=\"1\" class=\"dataframe\">\n",
       "  <thead>\n",
       "    <tr style=\"text-align: right;\">\n",
       "      <th></th>\n",
       "      <th>patient</th>\n",
       "      <th>cellID</th>\n",
       "      <th>libraryID</th>\n",
       "      <th>cancerType</th>\n",
       "      <th>loc</th>\n",
       "      <th>batchV</th>\n",
       "      <th>TCR</th>\n",
       "      <th>dataset</th>\n",
       "      <th>ClusterID</th>\n",
       "      <th>dataset.tech</th>\n",
       "      <th>...</th>\n",
       "      <th>dataset.old</th>\n",
       "      <th>sampleID</th>\n",
       "      <th>treatment</th>\n",
       "      <th>stype</th>\n",
       "      <th>patient.uid</th>\n",
       "      <th>usedForFreq</th>\n",
       "      <th>dataSource</th>\n",
       "      <th>tech</th>\n",
       "      <th>tech.cate</th>\n",
       "      <th>pub</th>\n",
       "    </tr>\n",
       "  </thead>\n",
       "  <tbody>\n",
       "    <tr>\n",
       "      <th>1</th>\n",
       "      <td>BC9</td>\n",
       "      <td>s1_AAACCTGAGCAGACTG-1</td>\n",
       "      <td>BC9T</td>\n",
       "      <td>BRCA</td>\n",
       "      <td>T</td>\n",
       "      <td>BC9</td>\n",
       "      <td>NaN</td>\n",
       "      <td>BRCA.ElhamAzizi2018.10X</td>\n",
       "      <td>BC.Elham2018.10X.C01</td>\n",
       "      <td>Elham2018.10X</td>\n",
       "      <td>...</td>\n",
       "      <td>BC.Elham2018.10X</td>\n",
       "      <td>BC9T</td>\n",
       "      <td>baseline</td>\n",
       "      <td>CD8</td>\n",
       "      <td>BRCA.ElhamAzizi2018.10X.BC9</td>\n",
       "      <td>Y</td>\n",
       "      <td>other labs</td>\n",
       "      <td>10X</td>\n",
       "      <td>Droplet</td>\n",
       "      <td>published</td>\n",
       "    </tr>\n",
       "    <tr>\n",
       "      <th>2</th>\n",
       "      <td>BC9</td>\n",
       "      <td>s1_AAACCTGAGGTCGGAT-1</td>\n",
       "      <td>BC9T</td>\n",
       "      <td>BRCA</td>\n",
       "      <td>T</td>\n",
       "      <td>BC9</td>\n",
       "      <td>NaN</td>\n",
       "      <td>BRCA.ElhamAzizi2018.10X</td>\n",
       "      <td>BC.Elham2018.10X.C06</td>\n",
       "      <td>Elham2018.10X</td>\n",
       "      <td>...</td>\n",
       "      <td>BC.Elham2018.10X</td>\n",
       "      <td>BC9T</td>\n",
       "      <td>baseline</td>\n",
       "      <td>CD8</td>\n",
       "      <td>BRCA.ElhamAzizi2018.10X.BC9</td>\n",
       "      <td>Y</td>\n",
       "      <td>other labs</td>\n",
       "      <td>10X</td>\n",
       "      <td>Droplet</td>\n",
       "      <td>published</td>\n",
       "    </tr>\n",
       "    <tr>\n",
       "      <th>3</th>\n",
       "      <td>BC9</td>\n",
       "      <td>s1_AAACCTGAGTGTACTC-1</td>\n",
       "      <td>BC9T</td>\n",
       "      <td>BRCA</td>\n",
       "      <td>T</td>\n",
       "      <td>BC9</td>\n",
       "      <td>NaN</td>\n",
       "      <td>BRCA.ElhamAzizi2018.10X</td>\n",
       "      <td>BC.Elham2018.10X.C01</td>\n",
       "      <td>Elham2018.10X</td>\n",
       "      <td>...</td>\n",
       "      <td>BC.Elham2018.10X</td>\n",
       "      <td>BC9T</td>\n",
       "      <td>baseline</td>\n",
       "      <td>CD8</td>\n",
       "      <td>BRCA.ElhamAzizi2018.10X.BC9</td>\n",
       "      <td>Y</td>\n",
       "      <td>other labs</td>\n",
       "      <td>10X</td>\n",
       "      <td>Droplet</td>\n",
       "      <td>published</td>\n",
       "    </tr>\n",
       "    <tr>\n",
       "      <th>4</th>\n",
       "      <td>BC9</td>\n",
       "      <td>s1_AAACCTGCAGATGGGT-1</td>\n",
       "      <td>BC9T</td>\n",
       "      <td>BRCA</td>\n",
       "      <td>T</td>\n",
       "      <td>BC9</td>\n",
       "      <td>NaN</td>\n",
       "      <td>BRCA.ElhamAzizi2018.10X</td>\n",
       "      <td>BC.Elham2018.10X.C04</td>\n",
       "      <td>Elham2018.10X</td>\n",
       "      <td>...</td>\n",
       "      <td>BC.Elham2018.10X</td>\n",
       "      <td>BC9T</td>\n",
       "      <td>baseline</td>\n",
       "      <td>CD8</td>\n",
       "      <td>BRCA.ElhamAzizi2018.10X.BC9</td>\n",
       "      <td>Y</td>\n",
       "      <td>other labs</td>\n",
       "      <td>10X</td>\n",
       "      <td>Droplet</td>\n",
       "      <td>published</td>\n",
       "    </tr>\n",
       "    <tr>\n",
       "      <th>5</th>\n",
       "      <td>BC9</td>\n",
       "      <td>s1_AAACCTGGTAGCACGA-1</td>\n",
       "      <td>BC9T</td>\n",
       "      <td>BRCA</td>\n",
       "      <td>T</td>\n",
       "      <td>BC9</td>\n",
       "      <td>NaN</td>\n",
       "      <td>BRCA.ElhamAzizi2018.10X</td>\n",
       "      <td>BC.Elham2018.10X.C00</td>\n",
       "      <td>Elham2018.10X</td>\n",
       "      <td>...</td>\n",
       "      <td>BC.Elham2018.10X</td>\n",
       "      <td>BC9T</td>\n",
       "      <td>baseline</td>\n",
       "      <td>CD8</td>\n",
       "      <td>BRCA.ElhamAzizi2018.10X.BC9</td>\n",
       "      <td>Y</td>\n",
       "      <td>other labs</td>\n",
       "      <td>10X</td>\n",
       "      <td>Droplet</td>\n",
       "      <td>published</td>\n",
       "    </tr>\n",
       "  </tbody>\n",
       "</table>\n",
       "<p>5 rows × 32 columns</p>\n",
       "</div>"
      ],
      "text/plain": [
       "  patient                 cellID libraryID cancerType loc batchV  TCR  \\\n",
       "1     BC9  s1_AAACCTGAGCAGACTG-1      BC9T       BRCA   T    BC9  NaN   \n",
       "2     BC9  s1_AAACCTGAGGTCGGAT-1      BC9T       BRCA   T    BC9  NaN   \n",
       "3     BC9  s1_AAACCTGAGTGTACTC-1      BC9T       BRCA   T    BC9  NaN   \n",
       "4     BC9  s1_AAACCTGCAGATGGGT-1      BC9T       BRCA   T    BC9  NaN   \n",
       "5     BC9  s1_AAACCTGGTAGCACGA-1      BC9T       BRCA   T    BC9  NaN   \n",
       "\n",
       "                   dataset             ClusterID   dataset.tech  ...  \\\n",
       "1  BRCA.ElhamAzizi2018.10X  BC.Elham2018.10X.C01  Elham2018.10X  ...   \n",
       "2  BRCA.ElhamAzizi2018.10X  BC.Elham2018.10X.C06  Elham2018.10X  ...   \n",
       "3  BRCA.ElhamAzizi2018.10X  BC.Elham2018.10X.C01  Elham2018.10X  ...   \n",
       "4  BRCA.ElhamAzizi2018.10X  BC.Elham2018.10X.C04  Elham2018.10X  ...   \n",
       "5  BRCA.ElhamAzizi2018.10X  BC.Elham2018.10X.C00  Elham2018.10X  ...   \n",
       "\n",
       "        dataset.old  sampleID  treatment stype                  patient.uid  \\\n",
       "1  BC.Elham2018.10X      BC9T   baseline   CD8  BRCA.ElhamAzizi2018.10X.BC9   \n",
       "2  BC.Elham2018.10X      BC9T   baseline   CD8  BRCA.ElhamAzizi2018.10X.BC9   \n",
       "3  BC.Elham2018.10X      BC9T   baseline   CD8  BRCA.ElhamAzizi2018.10X.BC9   \n",
       "4  BC.Elham2018.10X      BC9T   baseline   CD8  BRCA.ElhamAzizi2018.10X.BC9   \n",
       "5  BC.Elham2018.10X      BC9T   baseline   CD8  BRCA.ElhamAzizi2018.10X.BC9   \n",
       "\n",
       "   usedForFreq  dataSource tech tech.cate        pub  \n",
       "1            Y  other labs  10X   Droplet  published  \n",
       "2            Y  other labs  10X   Droplet  published  \n",
       "3            Y  other labs  10X   Droplet  published  \n",
       "4            Y  other labs  10X   Droplet  published  \n",
       "5            Y  other labs  10X   Droplet  published  \n",
       "\n",
       "[5 rows x 32 columns]"
      ]
     },
     "execution_count": 6,
     "metadata": {},
     "output_type": "execute_result"
    }
   ],
   "source": [
    "complete_meta = pd.read_csv('../../../Data/PerDataset/Pancancer/Complete_Published_Metadata.csv', sep=',', index_col=0)\n",
    "complete_meta['dataset'] = complete_meta['dataset'].replace({'BRCA.ElhamAzizi2018.InDrop':'BRCA.ElhamAzizi2018.Indrop'})\n",
    "complete_meta.head()"
   ]
  },
  {
   "cell_type": "code",
   "execution_count": 7,
   "id": "6fb67bf3-33d0-46d3-be19-13e26667148b",
   "metadata": {},
   "outputs": [],
   "source": [
    "tech_info = complete_meta[['dataset', 'tech']].drop_duplicates()\n",
    "tech_info.index = tech_info['dataset']"
   ]
  },
  {
   "cell_type": "code",
   "execution_count": 8,
   "id": "7b5fc29f-373c-4fff-9797-4ed1ec712623",
   "metadata": {},
   "outputs": [],
   "source": [
    "for d in dataset_names_merged:\n",
    "    if d not in complete_meta['dataset'].values:\n",
    "        print(d)"
   ]
  },
  {
   "cell_type": "code",
   "execution_count": 9,
   "id": "23522d63-939c-4183-ba63-18e1c7723ac8",
   "metadata": {},
   "outputs": [
    {
     "data": {
      "text/html": [
       "<div>\n",
       "<style scoped>\n",
       "    .dataframe tbody tr th:only-of-type {\n",
       "        vertical-align: middle;\n",
       "    }\n",
       "\n",
       "    .dataframe tbody tr th {\n",
       "        vertical-align: top;\n",
       "    }\n",
       "\n",
       "    .dataframe thead th {\n",
       "        text-align: right;\n",
       "    }\n",
       "</style>\n",
       "<table border=\"1\" class=\"dataframe\">\n",
       "  <thead>\n",
       "    <tr style=\"text-align: right;\">\n",
       "      <th></th>\n",
       "      <th>#</th>\n",
       "      <th>name</th>\n",
       "      <th>ngenes</th>\n",
       "      <th>ncells</th>\n",
       "      <th>tech</th>\n",
       "    </tr>\n",
       "  </thead>\n",
       "  <tbody>\n",
       "    <tr>\n",
       "      <th>0</th>\n",
       "      <td>0</td>\n",
       "      <td>AML.PeterVanGalen2019</td>\n",
       "      <td>27899</td>\n",
       "      <td>879</td>\n",
       "      <td>SeqWell</td>\n",
       "    </tr>\n",
       "    <tr>\n",
       "      <th>1</th>\n",
       "      <td>1</td>\n",
       "      <td>AML.PeterVanGalen2019</td>\n",
       "      <td>27899</td>\n",
       "      <td>910</td>\n",
       "      <td>SeqWell</td>\n",
       "    </tr>\n",
       "    <tr>\n",
       "      <th>2</th>\n",
       "      <td>2</td>\n",
       "      <td>BCC.KathrynEYost2019</td>\n",
       "      <td>23309</td>\n",
       "      <td>10689</td>\n",
       "      <td>10X</td>\n",
       "    </tr>\n",
       "    <tr>\n",
       "      <th>3</th>\n",
       "      <td>3</td>\n",
       "      <td>BCC.KathrynEYost2019</td>\n",
       "      <td>23309</td>\n",
       "      <td>10322</td>\n",
       "      <td>10X</td>\n",
       "    </tr>\n",
       "    <tr>\n",
       "      <th>4</th>\n",
       "      <td>4</td>\n",
       "      <td>BCL.thisStudy</td>\n",
       "      <td>28855</td>\n",
       "      <td>4237</td>\n",
       "      <td>10X</td>\n",
       "    </tr>\n",
       "    <tr>\n",
       "      <th>...</th>\n",
       "      <td>...</td>\n",
       "      <td>...</td>\n",
       "      <td>...</td>\n",
       "      <td>...</td>\n",
       "      <td>...</td>\n",
       "    </tr>\n",
       "    <tr>\n",
       "      <th>57</th>\n",
       "      <td>57</td>\n",
       "      <td>SCC.KathrynEYost2019</td>\n",
       "      <td>18347</td>\n",
       "      <td>10925</td>\n",
       "      <td>10X</td>\n",
       "    </tr>\n",
       "    <tr>\n",
       "      <th>58</th>\n",
       "      <td>58</td>\n",
       "      <td>THCA.thisStudy</td>\n",
       "      <td>24148</td>\n",
       "      <td>23508</td>\n",
       "      <td>10X</td>\n",
       "    </tr>\n",
       "    <tr>\n",
       "      <th>59</th>\n",
       "      <td>59</td>\n",
       "      <td>THCA.thisStudy</td>\n",
       "      <td>24148</td>\n",
       "      <td>33450</td>\n",
       "      <td>10X</td>\n",
       "    </tr>\n",
       "    <tr>\n",
       "      <th>60</th>\n",
       "      <td>60</td>\n",
       "      <td>UCEC.thisStudy</td>\n",
       "      <td>24148</td>\n",
       "      <td>12729</td>\n",
       "      <td>10X</td>\n",
       "    </tr>\n",
       "    <tr>\n",
       "      <th>61</th>\n",
       "      <td>61</td>\n",
       "      <td>UCEC.thisStudy</td>\n",
       "      <td>24148</td>\n",
       "      <td>19926</td>\n",
       "      <td>10X</td>\n",
       "    </tr>\n",
       "  </tbody>\n",
       "</table>\n",
       "<p>62 rows × 5 columns</p>\n",
       "</div>"
      ],
      "text/plain": [
       "     #                   name  ngenes  ncells     tech\n",
       "0    0  AML.PeterVanGalen2019   27899     879  SeqWell\n",
       "1    1  AML.PeterVanGalen2019   27899     910  SeqWell\n",
       "2    2   BCC.KathrynEYost2019   23309   10689      10X\n",
       "3    3   BCC.KathrynEYost2019   23309   10322      10X\n",
       "4    4          BCL.thisStudy   28855    4237      10X\n",
       "..  ..                    ...     ...     ...      ...\n",
       "57  57   SCC.KathrynEYost2019   18347   10925      10X\n",
       "58  58         THCA.thisStudy   24148   23508      10X\n",
       "59  59         THCA.thisStudy   24148   33450      10X\n",
       "60  60         UCEC.thisStudy   24148   12729      10X\n",
       "61  61         UCEC.thisStudy   24148   19926      10X\n",
       "\n",
       "[62 rows x 5 columns]"
      ]
     },
     "execution_count": 9,
     "metadata": {},
     "output_type": "execute_result"
    }
   ],
   "source": [
    "stats = []\n",
    "for i,d in enumerate(dataset_names_merged):\n",
    "    stats.append([i,d,adatas[i].shape[1],adatas[i].shape[0], tech_info.at[d, 'tech']])\n",
    "\n",
    "stats = pd.DataFrame(stats, columns=['#', 'name', 'ngenes', 'ncells', 'tech'])\n",
    "stats"
   ]
  },
  {
   "cell_type": "code",
   "execution_count": 10,
   "id": "b2c23765-ff1f-4419-a3ff-c620f7617897",
   "metadata": {},
   "outputs": [
    {
     "name": "stdout",
     "output_type": "stream",
     "text": [
      "All cells: 373380\n",
      "All 10X cells: 325928\n",
      "All 10X cells w/ > 20K genes: 228349\n"
     ]
    }
   ],
   "source": [
    "print('All cells: %d' % stats['ncells'].sum())\n",
    "print('All 10X cells: %d' % stats.loc[stats['tech']=='10X', 'ncells'].sum())\n",
    "\n",
    "ind = (stats['tech']=='10X') & (stats['ngenes']>20000)\n",
    "print('All 10X cells w/ > 20K genes: %d' % stats.loc[ind, 'ncells'].sum())\n"
   ]
  },
  {
   "cell_type": "code",
   "execution_count": 16,
   "id": "723625f7-14d6-44e1-a3ad-f19e8cfe85fd",
   "metadata": {},
   "outputs": [
    {
     "data": {
      "text/plain": [
       "True     373380\n",
       "False     24430\n",
       "Name: dataset, dtype: int64"
      ]
     },
     "execution_count": 16,
     "metadata": {},
     "output_type": "execute_result"
    }
   ],
   "source": [
    "complete_meta['dataset'].isin(dataset_names_merged).value_counts()"
   ]
  },
  {
   "cell_type": "code",
   "execution_count": 60,
   "id": "392ed170-5fd3-4976-b3e9-46b56cf4d9a4",
   "metadata": {},
   "outputs": [],
   "source": [
    "colstotransfer = ['sampleID', 'treatment', 'stype', 'patient.uid', 'tech']"
   ]
  },
  {
   "cell_type": "code",
   "execution_count": 61,
   "id": "9f128585-945e-4a14-bede-c084bac18e73",
   "metadata": {},
   "outputs": [],
   "source": [
    "for i, d in enumerate(dataset_names_merged):\n",
    "    dmeta = complete_meta.loc[complete_meta['dataset']==d, :]\n",
    "    if dmeta['cellID'].value_counts().iloc[0] > 1:\n",
    "        sys.exit('Problem')\n",
    "    dmeta.index = dmeta['cellID']\n",
    "    for c in colstotransfer:\n",
    "        adatas[i].obs.loc[:, c] = dmeta.loc[adatas[i].obs.index, c]"
   ]
  },
  {
   "cell_type": "code",
   "execution_count": 62,
   "id": "10cc313e-3909-4631-a205-e18267bb51cc",
   "metadata": {},
   "outputs": [],
   "source": [
    "adatas_filt = [adatas[i] for i in range(len(adatas)) if i in stats.loc[ind, '#'].values]\n",
    "names = [dataset_names_merged[i] for i in range(len(adatas)) if i in stats.loc[ind, '#'].values]"
   ]
  },
  {
   "cell_type": "code",
   "execution_count": 63,
   "id": "01e5bf1e-8cba-4473-85f9-0154de2baee2",
   "metadata": {},
   "outputs": [
    {
     "name": "stdout",
     "output_type": "stream",
     "text": [
      "23309\n",
      "1 BCC.KathrynEYost2019 23309 23309 10322\n",
      "2 BCL.thisStudy 23107 28855 4237\n",
      "3 BCL.thisStudy 23107 28855 3482\n",
      "4 BRCA.thisStudy 21623 24148 3063\n",
      "5 BRCA.thisStudy 21623 24148 4291\n",
      "6 ESCA.thisStudy 21623 24148 12358\n",
      "7 ESCA.thisStudy 21623 24148 12526\n",
      "8 FTC.thisStudy 21623 24148 270\n",
      "9 FTC.thisStudy 21623 24148 767\n",
      "10 HCC.QimingZhang2019.10X 21142 58233 4743\n",
      "11 HCC.QimingZhang2019.10X 21142 58233 11303\n",
      "12 NSCLC.QianqianSong2019 21142 33694 356\n",
      "13 NSCLC.QianqianSong2019 21142 33694 849\n",
      "14 MM.thisStudy 21142 28855 3645\n",
      "15 MM.thisStudy 21142 28855 8629\n",
      "16 OV.thisStudy 21142 24148 1006\n",
      "17 OV.thisStudy 21142 24148 3517\n",
      "18 PACA.JunyaPeng2019 18728 24005 918\n",
      "19 PACA.JunyaPeng2019 18728 24005 728\n",
      "20 PACA.thisStudy 18728 24148 3903\n",
      "21 PACA.thisStudy 18728 24148 5957\n",
      "22 RC.MatthewDYoung2018 18728 33694 1389\n",
      "23 RC.MatthewDYoung2018 18728 33694 3139\n",
      "24 RC.thisStudy 18728 24148 10105\n",
      "25 RC.thisStudy 18728 24148 16544\n",
      "26 THCA.thisStudy 18728 24148 23508\n",
      "27 THCA.thisStudy 18728 24148 33450\n",
      "28 UCEC.thisStudy 18728 24148 12729\n",
      "29 UCEC.thisStudy 18728 24148 19926\n"
     ]
    }
   ],
   "source": [
    "overlapping_genes = set(adatas_filt[0].var.index)\n",
    "print(len(overlapping_genes))\n",
    "for i in range(1, len(adatas_filt)):\n",
    "    attempt_overlap = overlapping_genes.intersection(set(adatas_filt[i].var.index))\n",
    "    if len(attempt_overlap)<0:\n",
    "        print('skipping %s' % names[i])\n",
    "    else:\n",
    "        overlapping_genes = attempt_overlap\n",
    "        print(i, names[i], len(overlapping_genes), adatas_filt[i].shape[1], adatas_filt[i].shape[0])"
   ]
  },
  {
   "cell_type": "code",
   "execution_count": 64,
   "id": "0407fb13-303e-4cd5-bfce-6448214c81f8",
   "metadata": {},
   "outputs": [],
   "source": [
    "overlapping_genes = list(overlapping_genes)"
   ]
  },
  {
   "cell_type": "code",
   "execution_count": 65,
   "id": "f160e602-7825-4d4f-b0d9-d355b46f2ead",
   "metadata": {},
   "outputs": [],
   "source": [
    "for i in range(len(adatas_filt)):\n",
    "    adatas_filt[i] = adatas_filt[i][:,overlapping_genes]"
   ]
  },
  {
   "cell_type": "code",
   "execution_count": 66,
   "id": "ab61264a-bc5c-4020-affb-1d2e6e50d61c",
   "metadata": {},
   "outputs": [
    {
     "name": "stderr",
     "output_type": "stream",
     "text": [
      "/PHShome/dk718/miniforge3/envs/cnmf_env2/lib/python3.8/site-packages/anndata/_core/anndata.py:1763: FutureWarning: The AnnData.concatenate method is deprecated in favour of the anndata.concat function. Please use anndata.concat instead.\n",
      "\n",
      "See the tutorial for concat at: https://anndata.readthedocs.io/en/latest/concatenation.html\n",
      "  warnings.warn(\n"
     ]
    }
   ],
   "source": [
    "merged_adata = adatas_filt[0].concatenate(adatas_filt[1:])"
   ]
  },
  {
   "cell_type": "code",
   "execution_count": 67,
   "id": "79701335-dee1-4053-b1a5-1eac56dab14c",
   "metadata": {},
   "outputs": [],
   "source": [
    "merged_adata.var = merged_adata.var[['display.name',  'geneID-14', 'seu.id-0']]\n",
    "merged_adata.var.columns = ['display.name', 'geneID', 'seu.id']"
   ]
  },
  {
   "cell_type": "code",
   "execution_count": 68,
   "id": "6d93ae19-d3c9-4c97-8ab2-8643c7d50f44",
   "metadata": {},
   "outputs": [
    {
     "name": "stdout",
     "output_type": "stream",
     "text": [
      "WARNING: Your filename has more than two extensions: ['.10X', '.Greater20KgeneDatasets', '.h5ad'].\n",
      "Only considering the two last: ['.Greater20KgeneDatasets', '.h5ad'].\n",
      "WARNING: Your filename has more than two extensions: ['.10X', '.Greater20KgeneDatasets', '.h5ad'].\n",
      "Only considering the two last: ['.Greater20KgeneDatasets', '.h5ad'].\n"
     ]
    }
   ],
   "source": [
    "sc.write('../../../Data/PerDataset/Pancancer/pancancer_zheng.10X.Greater20KgeneDatasets.h5ad', merged_adata)"
   ]
  },
  {
   "cell_type": "code",
   "execution_count": 69,
   "id": "46406133-5a10-4614-a417-9b81d2154519",
   "metadata": {},
   "outputs": [],
   "source": [
    "merged_adata_noPBMC = merged_adata[merged_adata.obs['loc']!='P', :]"
   ]
  },
  {
   "cell_type": "code",
   "execution_count": 70,
   "id": "34f5c586-f276-4c8a-b7e7-c4e44027b0d5",
   "metadata": {},
   "outputs": [
    {
     "name": "stdout",
     "output_type": "stream",
     "text": [
      "WARNING: Your filename has more than two extensions: ['.10X', '.Greater20KgeneDatasets', '.NoPBMC', '.h5ad'].\n",
      "Only considering the two last: ['.NoPBMC', '.h5ad'].\n",
      "WARNING: Your filename has more than two extensions: ['.10X', '.Greater20KgeneDatasets', '.NoPBMC', '.h5ad'].\n",
      "Only considering the two last: ['.NoPBMC', '.h5ad'].\n"
     ]
    }
   ],
   "source": [
    "sc.write('../../../Data/PerDataset/Pancancer/pancancer_zheng.10X.Greater20KgeneDatasets.NoPBMC.h5ad', merged_adata_noPBMC)"
   ]
  },
  {
   "cell_type": "code",
   "execution_count": 71,
   "id": "ceccfbaf-69b0-4005-9805-22a7b3c354b2",
   "metadata": {},
   "outputs": [
    {
     "data": {
      "text/plain": [
       "THCA.zhangLab5P          56958\n",
       "UCEC.zhangLab5P          32655\n",
       "RC.zhangLab5P            26649\n",
       "ESCA.zhangLab5P          24884\n",
       "BCC.KathrynEYost2019     21011\n",
       "HCC.YaoHe10X             10966\n",
       "PACA.zhangLab5P           9860\n",
       "MM.zhangLab5P             8279\n",
       "BC.zhangLab5P             7354\n",
       "RC.MatthewDYoung2018      4528\n",
       "OV.zhangLab5P             4523\n",
       "BCL.zhangLab5P            3493\n",
       "PACA.JunyaPeng2019        1646\n",
       "LUNG.QianqianSong2019     1205\n",
       "FTC.zhangLab5P            1037\n",
       "Name: dataset, dtype: int64"
      ]
     },
     "execution_count": 71,
     "metadata": {},
     "output_type": "execute_result"
    }
   ],
   "source": [
    "merged_adata_noPBMC.obs['dataset'].value_counts()"
   ]
  }
 ],
 "metadata": {
  "kernelspec": {
   "display_name": "Python 3",
   "language": "python",
   "name": "python3"
  },
  "language_info": {
   "codemirror_mode": {
    "name": "ipython",
    "version": 3
   },
   "file_extension": ".py",
   "mimetype": "text/x-python",
   "name": "python",
   "nbconvert_exporter": "python",
   "pygments_lexer": "ipython3",
   "version": "3.6.15"
  }
 },
 "nbformat": 4,
 "nbformat_minor": 5
}
