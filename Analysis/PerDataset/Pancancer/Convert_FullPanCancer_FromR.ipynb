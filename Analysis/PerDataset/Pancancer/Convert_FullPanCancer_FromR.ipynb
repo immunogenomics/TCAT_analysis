{
 "cells": [
  {
   "cell_type": "code",
   "execution_count": 14,
   "id": "43d43293-0b02-4493-a70c-58fdcc6e0b1c",
   "metadata": {},
   "outputs": [],
   "source": [
    "export_dgcmatrix <- function(data, filepath_prefix) {\n",
    "    # Export expression matrix to Matrix Market format\n",
    "    writeMM(obj = data, paste0(filepath_prefix, \"_counts.mtx\"))\n",
    "    \n",
    "    # Export cell metadata to CSV\n",
    "    cell_meta <- as.data.frame(colnames(data))\n",
    "    write.csv(cell_meta, file=paste0(filepath_prefix, \"_cell_metadata.csv\"), quote=FALSE, row.names=TRUE)\n",
    "    \n",
    "    # Export gene metadata to CSV\n",
    "    gene_meta <- as.data.frame(rownames(data))\n",
    "    write.csv(gene_meta, file=paste0(filepath_prefix, \"_gene_metadata.csv\"), quote=FALSE, row.names=TRUE)\n",
    "}"
   ]
  },
  {
   "cell_type": "code",
   "execution_count": 1,
   "id": "f36ac552-b0e6-449e-a13c-de512586aeaa",
   "metadata": {},
   "outputs": [],
   "source": [
    "sce <- readRDS(\"../../../Data/PerDataset/Pancancer/LuoEtAl_Full/GSE210347_counts.Rds\")"
   ]
  },
  {
   "cell_type": "code",
   "execution_count": 5,
   "id": "211303be-d7c9-4be0-bd20-52860249c848",
   "metadata": {},
   "outputs": [
    {
     "data": {
      "text/plain": [
       "5 x 5 sparse Matrix of class \"dgCMatrix\"\n",
       "         1_nature_AscendingColon1_AACCTATAGCATACCTGA\n",
       "A1BG-AS1                                           .\n",
       "A1CF                                               .\n",
       "A2M                                                .\n",
       "A4GALT                                             .\n",
       "AAAS                                               .\n",
       "         1_nature_AscendingColon1_ACGTTGTGCAATTTCATA\n",
       "A1BG-AS1                                           .\n",
       "A1CF                                               .\n",
       "A2M                                                .\n",
       "A4GALT                                             .\n",
       "AAAS                                               .\n",
       "         1_nature_AscendingColon1_CTCGCAACTTATGACACT\n",
       "A1BG-AS1                                           .\n",
       "A1CF                                               .\n",
       "A2M                                                .\n",
       "A4GALT                                             .\n",
       "AAAS                                               .\n",
       "         1_nature_AscendingColon1_CTCGCACAACAAACCTGA\n",
       "A1BG-AS1                                           .\n",
       "A1CF                                               .\n",
       "A2M                                                .\n",
       "A4GALT                                             .\n",
       "AAAS                                               .\n",
       "         1_nature_AscendingColon1_CTCGCACTCCATCAACAA\n",
       "A1BG-AS1                                           .\n",
       "A1CF                                               .\n",
       "A2M                                                .\n",
       "A4GALT                                             .\n",
       "AAAS                                               ."
      ]
     },
     "metadata": {},
     "output_type": "display_data"
    }
   ],
   "source": [
    "sce[1:5, 1:5]"
   ]
  },
  {
   "cell_type": "code",
   "execution_count": 15,
   "id": "3852b195-004e-4b2e-886d-30a237c88ca2",
   "metadata": {},
   "outputs": [],
   "source": [
    "export_dgcmatrix(sce, \"../../../Data/PerDataset/Pancancer/LuoEtAl_Full/GSE210347\")"
   ]
  },
  {
   "cell_type": "code",
   "execution_count": 6,
   "id": "799e6adc-c7ce-43db-8e47-ef239e20bd3c",
   "metadata": {},
   "outputs": [
    {
     "data": {
      "text/plain": [
       "NULL"
      ]
     },
     "metadata": {},
     "output_type": "display_data"
    }
   ],
   "source": [
    "writeMM(obj = sce, file = \"../../../Data/PerDataset/Pancancer/LuoEtAl_Full/GSE210347_counts.mtx\")"
   ]
  },
  {
   "cell_type": "code",
   "execution_count": 9,
   "id": "a032936e-9df8-4b0a-b885-24fa2a6bd8bd",
   "metadata": {},
   "outputs": [
    {
     "data": {
      "text/html": [
       "<style>\n",
       ".list-inline {list-style: none; margin:0; padding: 0}\n",
       ".list-inline>li {display: inline-block}\n",
       ".list-inline>li:not(:last-child)::after {content: \"\\00b7\"; padding: 0 .5ex}\n",
       "</style>\n",
       "<ol class=list-inline><li>'1_nature_AscendingColon1_AACCTATAGCATACCTGA'</li><li>'1_nature_AscendingColon1_ACGTTGTGCAATTTCATA'</li><li>'1_nature_AscendingColon1_CTCGCAACTTATGACACT'</li><li>'1_nature_AscendingColon1_CTCGCACAACAAACCTGA'</li><li>'1_nature_AscendingColon1_CTCGCACTCCATCAACAA'</li></ol>\n"
      ],
      "text/latex": [
       "\\begin{enumerate*}\n",
       "\\item '1\\_nature\\_AscendingColon1\\_AACCTATAGCATACCTGA'\n",
       "\\item '1\\_nature\\_AscendingColon1\\_ACGTTGTGCAATTTCATA'\n",
       "\\item '1\\_nature\\_AscendingColon1\\_CTCGCAACTTATGACACT'\n",
       "\\item '1\\_nature\\_AscendingColon1\\_CTCGCACAACAAACCTGA'\n",
       "\\item '1\\_nature\\_AscendingColon1\\_CTCGCACTCCATCAACAA'\n",
       "\\end{enumerate*}\n"
      ],
      "text/markdown": [
       "1. '1_nature_AscendingColon1_AACCTATAGCATACCTGA'\n",
       "2. '1_nature_AscendingColon1_ACGTTGTGCAATTTCATA'\n",
       "3. '1_nature_AscendingColon1_CTCGCAACTTATGACACT'\n",
       "4. '1_nature_AscendingColon1_CTCGCACAACAAACCTGA'\n",
       "5. '1_nature_AscendingColon1_CTCGCACTCCATCAACAA'\n",
       "\n",
       "\n"
      ],
      "text/plain": [
       "[1] \"1_nature_AscendingColon1_AACCTATAGCATACCTGA\"\n",
       "[2] \"1_nature_AscendingColon1_ACGTTGTGCAATTTCATA\"\n",
       "[3] \"1_nature_AscendingColon1_CTCGCAACTTATGACACT\"\n",
       "[4] \"1_nature_AscendingColon1_CTCGCACAACAAACCTGA\"\n",
       "[5] \"1_nature_AscendingColon1_CTCGCACTCCATCAACAA\""
      ]
     },
     "metadata": {},
     "output_type": "display_data"
    }
   ],
   "source": [
    "write.matrix(colnames(sce)[1:5]"
   ]
  }
 ],
 "metadata": {
  "kernelspec": {
   "display_name": "R411",
   "language": "R",
   "name": "r411"
  },
  "language_info": {
   "codemirror_mode": "r",
   "file_extension": ".r",
   "mimetype": "text/x-r-source",
   "name": "R",
   "pygments_lexer": "r",
   "version": "4.1.1"
  }
 },
 "nbformat": 4,
 "nbformat_minor": 5
}
