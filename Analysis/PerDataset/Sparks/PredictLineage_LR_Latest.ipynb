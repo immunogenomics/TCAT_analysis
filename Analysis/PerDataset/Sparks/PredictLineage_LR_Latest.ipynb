{
 "cells": [
  {
   "cell_type": "code",
   "execution_count": 1,
   "id": "6740cf4f-0113-4785-9ede-bfde83e39ac9",
   "metadata": {},
   "outputs": [],
   "source": [
    "%matplotlib inline\n",
    "\n",
    "import pandas as pd\n",
    "import scanpy as sc\n",
    "import numpy as np\n",
    "import matplotlib.pyplot as plt\n",
    "import seaborn as sns\n",
    "import sys\n",
    "import os\n",
    "sys.path.append('../../../Code/')\n",
    "from utils import read_dataset_log\n",
    "import joblib\n",
    "\n",
    "from sklearn.preprocessing import StandardScaler\n",
    "from sklearn.neighbors import KNeighborsClassifier\n",
    "from sklearn import metrics\n",
    "from sklearn.metrics import accuracy_score\n",
    "\n",
    "from sklearn.datasets import make_classification\n",
    "from sklearn.linear_model import LogisticRegression\n",
    "from sklearn.model_selection import train_test_split\n",
    "from sklearn.metrics import roc_curve\n",
    "from sklearn.metrics import roc_auc_score\n",
    "\n",
    "from sklearn.metrics import log_loss\n",
    "from scipy.stats import chi2"
   ]
  },
  {
   "cell_type": "code",
   "execution_count": 2,
   "id": "ce013ef0-f1ab-4d6a-bf5b-5311914467a9",
   "metadata": {},
   "outputs": [
    {
     "data": {
      "text/html": [
       "<div>\n",
       "<style scoped>\n",
       "    .dataframe tbody tr th:only-of-type {\n",
       "        vertical-align: middle;\n",
       "    }\n",
       "\n",
       "    .dataframe tbody tr th {\n",
       "        vertical-align: top;\n",
       "    }\n",
       "\n",
       "    .dataframe thead th {\n",
       "        text-align: right;\n",
       "    }\n",
       "</style>\n",
       "<table border=\"1\" class=\"dataframe\">\n",
       "  <thead>\n",
       "    <tr style=\"text-align: right;\">\n",
       "      <th></th>\n",
       "      <th>dataset</th>\n",
       "      <th>usage_fn</th>\n",
       "      <th>gene_scores_fn</th>\n",
       "      <th>gene_tpm_fn</th>\n",
       "      <th>tcat_fn</th>\n",
       "      <th>tcat_fn_withsingletons</th>\n",
       "      <th>manual_gating_fn</th>\n",
       "      <th>manual_activation_gating_fn</th>\n",
       "      <th>activation_score_fn</th>\n",
       "      <th>metadata_fn</th>\n",
       "      <th>...</th>\n",
       "      <th>k</th>\n",
       "      <th>dt</th>\n",
       "      <th>processed_forcnmf_fn</th>\n",
       "      <th>tpm_counts_for_cnmf_fn</th>\n",
       "      <th>raw_counts_filt_fn</th>\n",
       "      <th>raw_counts_fn</th>\n",
       "      <th>dataset_type</th>\n",
       "      <th>tissue_type</th>\n",
       "      <th>context_label</th>\n",
       "      <th>tcat_fn_old</th>\n",
       "    </tr>\n",
       "    <tr>\n",
       "      <th>dataset</th>\n",
       "      <th></th>\n",
       "      <th></th>\n",
       "      <th></th>\n",
       "      <th></th>\n",
       "      <th></th>\n",
       "      <th></th>\n",
       "      <th></th>\n",
       "      <th></th>\n",
       "      <th></th>\n",
       "      <th></th>\n",
       "      <th></th>\n",
       "      <th></th>\n",
       "      <th></th>\n",
       "      <th></th>\n",
       "      <th></th>\n",
       "      <th></th>\n",
       "      <th></th>\n",
       "      <th></th>\n",
       "      <th></th>\n",
       "      <th></th>\n",
       "      <th></th>\n",
       "    </tr>\n",
       "  </thead>\n",
       "  <tbody>\n",
       "    <tr>\n",
       "      <th>AMP-RA</th>\n",
       "      <td>AMP-RA</td>\n",
       "      <td>/data/srlab1/TCAT/Data/PerDataset/AMPRA/AMPRA....</td>\n",
       "      <td>/data/srlab1/TCAT/Data/PerDataset/AMPRA/AMPRA....</td>\n",
       "      <td>/data/srlab1/TCAT/Data/PerDataset/AMPRA/AMPRA....</td>\n",
       "      <td>/data/srlab1/TCAT/Data/TCAT/TCAT_Usage.2023101...</td>\n",
       "      <td>/data/srlab1/TCAT/Data/TCAT/TCAT_Usage.2023101...</td>\n",
       "      <td>NaN</td>\n",
       "      <td>/data/srlab1/TCAT/Data/PerDataset/AMPRA/Manual...</td>\n",
       "      <td>/data/srlab1/TCAT/Data/PerDataset/AMPRA/Activa...</td>\n",
       "      <td>/data/srlab1/TCAT/Data/PerDataset/AMPRA/AMP_AD...</td>\n",
       "      <td>...</td>\n",
       "      <td>34.0</td>\n",
       "      <td>0_15</td>\n",
       "      <td>/data/srlab1/TCAT/Data/PerDataset/AMPRA/AMP_AD...</td>\n",
       "      <td>/data/srlab1/TCAT/Data/PerDataset/AMPRA/AMP_AD...</td>\n",
       "      <td>/data/srlab1/TCAT/Data/PerDataset/AMPRA/AMP_AD...</td>\n",
       "      <td>/data/srlab1/TCAT/Data/PerDataset/AMPRA/AMP_AD...</td>\n",
       "      <td>discovery</td>\n",
       "      <td>Synovium</td>\n",
       "      <td>RA+OA</td>\n",
       "      <td>/data/srlab1/TCAT/Data/TCAT/TCAT_Usage.2023101...</td>\n",
       "    </tr>\n",
       "    <tr>\n",
       "      <th>Pan-Cancer</th>\n",
       "      <td>Pan-Cancer</td>\n",
       "      <td>/data/srlab1/TCAT/Data/PerDataset/Pancancer/Pa...</td>\n",
       "      <td>/data/srlab1/TCAT/Data/PerDataset/Pancancer/Pa...</td>\n",
       "      <td>/data/srlab1/TCAT/Data/PerDataset/Pancancer/Pa...</td>\n",
       "      <td>/data/srlab1/TCAT/Data/TCAT/TCAT_Usage.2023101...</td>\n",
       "      <td>/data/srlab1/TCAT/Data/TCAT/TCAT_Usage.2023101...</td>\n",
       "      <td>NaN</td>\n",
       "      <td>NaN</td>\n",
       "      <td>/data/srlab1/TCAT/Data/PerDataset/Pancancer/Ac...</td>\n",
       "      <td>/data/srlab1/TCAT/Data/PerDataset/Pancancer/pa...</td>\n",
       "      <td>...</td>\n",
       "      <td>38.0</td>\n",
       "      <td>0.15</td>\n",
       "      <td>/data/srlab1/TCAT/Data/PerDataset/Pancancer/pa...</td>\n",
       "      <td>NaN</td>\n",
       "      <td>/data/srlab1/TCAT/Data/PerDataset/Pancancer/pa...</td>\n",
       "      <td>/data/srlab1/TCAT/Data/PerDataset/Pancancer/pa...</td>\n",
       "      <td>discovery</td>\n",
       "      <td>Pan-Tissue</td>\n",
       "      <td>Cancer+Healthy</td>\n",
       "      <td>/data/srlab1/TCAT/Data/TCAT/TCAT_Usage.2023101...</td>\n",
       "    </tr>\n",
       "    <tr>\n",
       "      <th>TBRU</th>\n",
       "      <td>TBRU</td>\n",
       "      <td>/data/srlab1/TCAT/Data/PerDataset/TBRU/TBRU.20...</td>\n",
       "      <td>/data/srlab1/TCAT/Data/PerDataset/TBRU/TBRU.20...</td>\n",
       "      <td>/data/srlab1/TCAT/Data/PerDataset/TBRU/TBRU.20...</td>\n",
       "      <td>/data/srlab1/TCAT/Data/TCAT/TCAT_Usage.2023101...</td>\n",
       "      <td>/data/srlab1/TCAT/Data/TCAT/TCAT_Usage.2023101...</td>\n",
       "      <td>NaN</td>\n",
       "      <td>/data/srlab1/TCAT/Data/PerDataset/TBRU/ManualG...</td>\n",
       "      <td>/data/srlab1/TCAT/Data/PerDataset/TBRU/Activat...</td>\n",
       "      <td>/data/srlab1/TCAT/Data/PerDataset/TBRU/tbru_ex...</td>\n",
       "      <td>...</td>\n",
       "      <td>36.0</td>\n",
       "      <td>0_20</td>\n",
       "      <td>/data/srlab1/TCAT/Data/PerDataset/TBRU/tbru_ex...</td>\n",
       "      <td>/data/srlab1/TCAT/Data/PerDataset/TBRU/tbru_ex...</td>\n",
       "      <td>/data/srlab1/TCAT/Data/PerDataset/TBRU/tbru_ex...</td>\n",
       "      <td>/data/srlab1/TCAT/Data/PerDataset/TBRU/tbru_ex...</td>\n",
       "      <td>discovery</td>\n",
       "      <td>Blood</td>\n",
       "      <td>Healthy</td>\n",
       "      <td>/data/srlab1/TCAT/Data/TCAT/TCAT_Usage.2023101...</td>\n",
       "    </tr>\n",
       "    <tr>\n",
       "      <th>HIV-Vaccine</th>\n",
       "      <td>HIV-Vaccine</td>\n",
       "      <td>/data/srlab1/TCAT/Data/PerDataset/HaoEtAl/HIVV...</td>\n",
       "      <td>/data/srlab1/TCAT/Data/PerDataset/HaoEtAl/HIVV...</td>\n",
       "      <td>/data/srlab1/TCAT/Data/PerDataset/HaoEtAl/HIVV...</td>\n",
       "      <td>/data/srlab1/TCAT/Data/TCAT/TCAT_Usage.2023101...</td>\n",
       "      <td>/data/srlab1/TCAT/Data/TCAT/TCAT_Usage.2023101...</td>\n",
       "      <td>/data/srlab1/TCAT/Data/PerDataset/HaoEtAl/Manu...</td>\n",
       "      <td>NaN</td>\n",
       "      <td>/data/srlab1/TCAT/Data/PerDataset/HaoEtAl/Acti...</td>\n",
       "      <td>/data/srlab1/TCAT/Data/PerDataset/HaoEtAl/haoe...</td>\n",
       "      <td>...</td>\n",
       "      <td>31.0</td>\n",
       "      <td>0_15</td>\n",
       "      <td>/data/srlab1/TCAT/Data/PerDataset/HaoEtAl/haoe...</td>\n",
       "      <td>/data/srlab1/TCAT/Data/PerDataset/HaoEtAl/haoe...</td>\n",
       "      <td>/data/srlab1/TCAT/Data/PerDataset/HaoEtAl/haoe...</td>\n",
       "      <td>/data/srlab1/TCAT/Data/PerDataset/HaoEtAl/haoe...</td>\n",
       "      <td>discovery</td>\n",
       "      <td>Blood</td>\n",
       "      <td>Post-Vaccine+Healthy</td>\n",
       "      <td>/data/srlab1/TCAT/Data/TCAT/TCAT_Usage.2023101...</td>\n",
       "    </tr>\n",
       "    <tr>\n",
       "      <th>UK-Covid</th>\n",
       "      <td>UK-Covid</td>\n",
       "      <td>/data/srlab1/TCAT/Data/PerDataset/UKCOVID/UKCO...</td>\n",
       "      <td>/data/srlab1/TCAT/Data/PerDataset/UKCOVID/UKCO...</td>\n",
       "      <td>/data/srlab1/TCAT/Data/PerDataset/UKCOVID/UKCO...</td>\n",
       "      <td>/data/srlab1/TCAT/Data/TCAT/TCAT_Usage.2023101...</td>\n",
       "      <td>/data/srlab1/TCAT/Data/TCAT/TCAT_Usage.2023101...</td>\n",
       "      <td>/data/srlab1/TCAT/Data/PerDataset/UKCOVID/Manu...</td>\n",
       "      <td>/data/srlab1/TCAT/Data/PerDataset/UKCOVID/Manu...</td>\n",
       "      <td>/data/srlab1/TCAT/Data/PerDataset/UKCOVID/Acti...</td>\n",
       "      <td>/data/srlab1/TCAT/Data/PerDataset/UKCOVID/hani...</td>\n",
       "      <td>...</td>\n",
       "      <td>44.0</td>\n",
       "      <td>0_20</td>\n",
       "      <td>/data/srlab1/TCAT/Data/PerDataset/UKCOVID/hani...</td>\n",
       "      <td>NaN</td>\n",
       "      <td>/data/srlab1/TCAT/Data/PerDataset/UKCOVID/hani...</td>\n",
       "      <td>/data/srlab1/TCAT/Data/PerDataset/UKCOVID/hani...</td>\n",
       "      <td>discovery</td>\n",
       "      <td>Blood</td>\n",
       "      <td>Covid-19+Healthy</td>\n",
       "      <td>/data/srlab1/TCAT/Data/TCAT/TCAT_Usage.2023101...</td>\n",
       "    </tr>\n",
       "    <tr>\n",
       "      <th>COMBAT</th>\n",
       "      <td>COMBAT</td>\n",
       "      <td>/data/srlab1/TCAT/Data/PerDataset/COMBAT/COMBA...</td>\n",
       "      <td>/data/srlab1/TCAT/Data/PerDataset/COMBAT/COMBA...</td>\n",
       "      <td>/data/srlab1/TCAT/Data/PerDataset/COMBAT/COMBA...</td>\n",
       "      <td>/data/srlab1/TCAT/Data/TCAT/TCAT_Usage.2023101...</td>\n",
       "      <td>/data/srlab1/TCAT/Data/TCAT/TCAT_Usage.2023101...</td>\n",
       "      <td>/data/srlab1/TCAT/Data/PerDataset/COMBAT/Manua...</td>\n",
       "      <td>/data/srlab1/TCAT/Data/PerDataset/COMBAT/Manua...</td>\n",
       "      <td>/data/srlab1/TCAT/Data/PerDataset/COMBAT/Activ...</td>\n",
       "      <td>/data/srlab1/TCAT/Data/PerDataset/COMBAT/COMBA...</td>\n",
       "      <td>...</td>\n",
       "      <td>35.0</td>\n",
       "      <td>0_15</td>\n",
       "      <td>/data/srlab1/TCAT/Data/PerDataset/COMBAT/COMBA...</td>\n",
       "      <td>/data/srlab1/TCAT/Data/PerDataset/COMBAT/COMBA...</td>\n",
       "      <td>/data/srlab1/TCAT/Data/PerDataset/COMBAT/COMBA...</td>\n",
       "      <td>/data/srlab1/TCAT/Data/PerDataset/COMBAT/COMBA...</td>\n",
       "      <td>discovery</td>\n",
       "      <td>Blood</td>\n",
       "      <td>Covid-19+Healthy</td>\n",
       "      <td>/data/srlab1/TCAT/Data/TCAT/TCAT_Usage.2023101...</td>\n",
       "    </tr>\n",
       "    <tr>\n",
       "      <th>Pan-Tissue</th>\n",
       "      <td>Pan-Tissue</td>\n",
       "      <td>/data/srlab1/TCAT/Data/PerDataset/XTissueImmun...</td>\n",
       "      <td>/data/srlab1/TCAT/Data/PerDataset/XTissueImmun...</td>\n",
       "      <td>/data/srlab1/TCAT/Data/PerDataset/XTissueImmun...</td>\n",
       "      <td>/data/srlab1/TCAT/Data/TCAT/TCAT_Usage.2023101...</td>\n",
       "      <td>/data/srlab1/TCAT/Data/TCAT/TCAT_Usage.2023101...</td>\n",
       "      <td>NaN</td>\n",
       "      <td>NaN</td>\n",
       "      <td>/data/srlab1/TCAT/Data/PerDataset/XTissueImmun...</td>\n",
       "      <td>/data/srlab1/TCAT/Data/PerDataset/XTissueImmun...</td>\n",
       "      <td>...</td>\n",
       "      <td>39.0</td>\n",
       "      <td>0_20</td>\n",
       "      <td>/data/srlab1/TCAT/Data/PerDataset/XTissueImmun...</td>\n",
       "      <td>NaN</td>\n",
       "      <td>/data/srlab1/TCAT/Data/PerDataset/XTissueImmun...</td>\n",
       "      <td>/data/srlab1/TCAT/Data/PerDataset/XTissueImmun...</td>\n",
       "      <td>discovery</td>\n",
       "      <td>Pan-Tissue</td>\n",
       "      <td>Non-Cancer/Non-Viral</td>\n",
       "      <td>/data/srlab1/TCAT/Data/TCAT/TCAT_Usage.2023101...</td>\n",
       "    </tr>\n",
       "    <tr>\n",
       "      <th>Sparks</th>\n",
       "      <td>Sparks</td>\n",
       "      <td>NaN</td>\n",
       "      <td>NaN</td>\n",
       "      <td>NaN</td>\n",
       "      <td>/data/srlab1/TCAT/Data/TCAT/TCAT_Usage.2023101...</td>\n",
       "      <td>NaN</td>\n",
       "      <td>/data/srlab1/TCAT/Data/PerDataset/Sparks2023/M...</td>\n",
       "      <td>/data/srlab1/TCAT/Data/PerDataset/Sparks2023/M...</td>\n",
       "      <td>/data/srlab1/TCAT/Data/PerDataset/Sparks2023/A...</td>\n",
       "      <td>/data/srlab1/TCAT/Data/PerDataset/Sparks2023/T...</td>\n",
       "      <td>...</td>\n",
       "      <td>NaN</td>\n",
       "      <td>NaN</td>\n",
       "      <td>NaN</td>\n",
       "      <td>NaN</td>\n",
       "      <td>/data/srlab1/TCAT/Data/PerDataset/Sparks2023/T...</td>\n",
       "      <td>/data/srlab1/TCAT/Data/PerDataset/Sparks2023/T...</td>\n",
       "      <td>other</td>\n",
       "      <td>Blood</td>\n",
       "      <td>NaN</td>\n",
       "      <td>/data/srlab1/TCAT/Data/TCAT/TCAT_Usage.2023101...</td>\n",
       "    </tr>\n",
       "    <tr>\n",
       "      <th>Stimseq</th>\n",
       "      <td>Stimseq</td>\n",
       "      <td>NaN</td>\n",
       "      <td>NaN</td>\n",
       "      <td>NaN</td>\n",
       "      <td>/data/srlab1/TCAT/Data/PerDataset/Stimseq/TCAT...</td>\n",
       "      <td>NaN</td>\n",
       "      <td>/data/srlab1/TCAT/Data/PerDataset/Stimseq/Manu...</td>\n",
       "      <td>/data/srlab1/TCAT/Data/PerDataset/Stimseq/Manu...</td>\n",
       "      <td>/data/srlab1/TCAT/Data/PerDataset/Stimseq/Acti...</td>\n",
       "      <td>/data/srlab1/TCAT/Data/PerDataset/Stimseq/stim...</td>\n",
       "      <td>...</td>\n",
       "      <td>NaN</td>\n",
       "      <td>NaN</td>\n",
       "      <td>/data/srlab1/TCAT/Data/PerDataset/Stimseq/stim...</td>\n",
       "      <td>NaN</td>\n",
       "      <td>/data/srlab1/TCAT/Data/PerDataset/Stimseq/raw....</td>\n",
       "      <td>/data/srlab1/TCAT/Data/PerDataset/Stimseq/raw....</td>\n",
       "      <td>other</td>\n",
       "      <td>Blood</td>\n",
       "      <td>NaN</td>\n",
       "      <td>/data/srlab1/TCAT/Data/PerDataset/Stimseq/TCAT...</td>\n",
       "    </tr>\n",
       "  </tbody>\n",
       "</table>\n",
       "<p>9 rows × 27 columns</p>\n",
       "</div>"
      ],
      "text/plain": [
       "                 dataset                                           usage_fn  \\\n",
       "dataset                                                                       \n",
       "AMP-RA            AMP-RA  /data/srlab1/TCAT/Data/PerDataset/AMPRA/AMPRA....   \n",
       "Pan-Cancer    Pan-Cancer  /data/srlab1/TCAT/Data/PerDataset/Pancancer/Pa...   \n",
       "TBRU                TBRU  /data/srlab1/TCAT/Data/PerDataset/TBRU/TBRU.20...   \n",
       "HIV-Vaccine  HIV-Vaccine  /data/srlab1/TCAT/Data/PerDataset/HaoEtAl/HIVV...   \n",
       "UK-Covid        UK-Covid  /data/srlab1/TCAT/Data/PerDataset/UKCOVID/UKCO...   \n",
       "COMBAT            COMBAT  /data/srlab1/TCAT/Data/PerDataset/COMBAT/COMBA...   \n",
       "Pan-Tissue    Pan-Tissue  /data/srlab1/TCAT/Data/PerDataset/XTissueImmun...   \n",
       "Sparks            Sparks                                                NaN   \n",
       "Stimseq          Stimseq                                                NaN   \n",
       "\n",
       "                                                gene_scores_fn  \\\n",
       "dataset                                                          \n",
       "AMP-RA       /data/srlab1/TCAT/Data/PerDataset/AMPRA/AMPRA....   \n",
       "Pan-Cancer   /data/srlab1/TCAT/Data/PerDataset/Pancancer/Pa...   \n",
       "TBRU         /data/srlab1/TCAT/Data/PerDataset/TBRU/TBRU.20...   \n",
       "HIV-Vaccine  /data/srlab1/TCAT/Data/PerDataset/HaoEtAl/HIVV...   \n",
       "UK-Covid     /data/srlab1/TCAT/Data/PerDataset/UKCOVID/UKCO...   \n",
       "COMBAT       /data/srlab1/TCAT/Data/PerDataset/COMBAT/COMBA...   \n",
       "Pan-Tissue   /data/srlab1/TCAT/Data/PerDataset/XTissueImmun...   \n",
       "Sparks                                                     NaN   \n",
       "Stimseq                                                    NaN   \n",
       "\n",
       "                                                   gene_tpm_fn  \\\n",
       "dataset                                                          \n",
       "AMP-RA       /data/srlab1/TCAT/Data/PerDataset/AMPRA/AMPRA....   \n",
       "Pan-Cancer   /data/srlab1/TCAT/Data/PerDataset/Pancancer/Pa...   \n",
       "TBRU         /data/srlab1/TCAT/Data/PerDataset/TBRU/TBRU.20...   \n",
       "HIV-Vaccine  /data/srlab1/TCAT/Data/PerDataset/HaoEtAl/HIVV...   \n",
       "UK-Covid     /data/srlab1/TCAT/Data/PerDataset/UKCOVID/UKCO...   \n",
       "COMBAT       /data/srlab1/TCAT/Data/PerDataset/COMBAT/COMBA...   \n",
       "Pan-Tissue   /data/srlab1/TCAT/Data/PerDataset/XTissueImmun...   \n",
       "Sparks                                                     NaN   \n",
       "Stimseq                                                    NaN   \n",
       "\n",
       "                                                       tcat_fn  \\\n",
       "dataset                                                          \n",
       "AMP-RA       /data/srlab1/TCAT/Data/TCAT/TCAT_Usage.2023101...   \n",
       "Pan-Cancer   /data/srlab1/TCAT/Data/TCAT/TCAT_Usage.2023101...   \n",
       "TBRU         /data/srlab1/TCAT/Data/TCAT/TCAT_Usage.2023101...   \n",
       "HIV-Vaccine  /data/srlab1/TCAT/Data/TCAT/TCAT_Usage.2023101...   \n",
       "UK-Covid     /data/srlab1/TCAT/Data/TCAT/TCAT_Usage.2023101...   \n",
       "COMBAT       /data/srlab1/TCAT/Data/TCAT/TCAT_Usage.2023101...   \n",
       "Pan-Tissue   /data/srlab1/TCAT/Data/TCAT/TCAT_Usage.2023101...   \n",
       "Sparks       /data/srlab1/TCAT/Data/TCAT/TCAT_Usage.2023101...   \n",
       "Stimseq      /data/srlab1/TCAT/Data/PerDataset/Stimseq/TCAT...   \n",
       "\n",
       "                                        tcat_fn_withsingletons  \\\n",
       "dataset                                                          \n",
       "AMP-RA       /data/srlab1/TCAT/Data/TCAT/TCAT_Usage.2023101...   \n",
       "Pan-Cancer   /data/srlab1/TCAT/Data/TCAT/TCAT_Usage.2023101...   \n",
       "TBRU         /data/srlab1/TCAT/Data/TCAT/TCAT_Usage.2023101...   \n",
       "HIV-Vaccine  /data/srlab1/TCAT/Data/TCAT/TCAT_Usage.2023101...   \n",
       "UK-Covid     /data/srlab1/TCAT/Data/TCAT/TCAT_Usage.2023101...   \n",
       "COMBAT       /data/srlab1/TCAT/Data/TCAT/TCAT_Usage.2023101...   \n",
       "Pan-Tissue   /data/srlab1/TCAT/Data/TCAT/TCAT_Usage.2023101...   \n",
       "Sparks                                                     NaN   \n",
       "Stimseq                                                    NaN   \n",
       "\n",
       "                                              manual_gating_fn  \\\n",
       "dataset                                                          \n",
       "AMP-RA                                                     NaN   \n",
       "Pan-Cancer                                                 NaN   \n",
       "TBRU                                                       NaN   \n",
       "HIV-Vaccine  /data/srlab1/TCAT/Data/PerDataset/HaoEtAl/Manu...   \n",
       "UK-Covid     /data/srlab1/TCAT/Data/PerDataset/UKCOVID/Manu...   \n",
       "COMBAT       /data/srlab1/TCAT/Data/PerDataset/COMBAT/Manua...   \n",
       "Pan-Tissue                                                 NaN   \n",
       "Sparks       /data/srlab1/TCAT/Data/PerDataset/Sparks2023/M...   \n",
       "Stimseq      /data/srlab1/TCAT/Data/PerDataset/Stimseq/Manu...   \n",
       "\n",
       "                                   manual_activation_gating_fn  \\\n",
       "dataset                                                          \n",
       "AMP-RA       /data/srlab1/TCAT/Data/PerDataset/AMPRA/Manual...   \n",
       "Pan-Cancer                                                 NaN   \n",
       "TBRU         /data/srlab1/TCAT/Data/PerDataset/TBRU/ManualG...   \n",
       "HIV-Vaccine                                                NaN   \n",
       "UK-Covid     /data/srlab1/TCAT/Data/PerDataset/UKCOVID/Manu...   \n",
       "COMBAT       /data/srlab1/TCAT/Data/PerDataset/COMBAT/Manua...   \n",
       "Pan-Tissue                                                 NaN   \n",
       "Sparks       /data/srlab1/TCAT/Data/PerDataset/Sparks2023/M...   \n",
       "Stimseq      /data/srlab1/TCAT/Data/PerDataset/Stimseq/Manu...   \n",
       "\n",
       "                                           activation_score_fn  \\\n",
       "dataset                                                          \n",
       "AMP-RA       /data/srlab1/TCAT/Data/PerDataset/AMPRA/Activa...   \n",
       "Pan-Cancer   /data/srlab1/TCAT/Data/PerDataset/Pancancer/Ac...   \n",
       "TBRU         /data/srlab1/TCAT/Data/PerDataset/TBRU/Activat...   \n",
       "HIV-Vaccine  /data/srlab1/TCAT/Data/PerDataset/HaoEtAl/Acti...   \n",
       "UK-Covid     /data/srlab1/TCAT/Data/PerDataset/UKCOVID/Acti...   \n",
       "COMBAT       /data/srlab1/TCAT/Data/PerDataset/COMBAT/Activ...   \n",
       "Pan-Tissue   /data/srlab1/TCAT/Data/PerDataset/XTissueImmun...   \n",
       "Sparks       /data/srlab1/TCAT/Data/PerDataset/Sparks2023/A...   \n",
       "Stimseq      /data/srlab1/TCAT/Data/PerDataset/Stimseq/Acti...   \n",
       "\n",
       "                                                   metadata_fn  ...     k  \\\n",
       "dataset                                                         ...         \n",
       "AMP-RA       /data/srlab1/TCAT/Data/PerDataset/AMPRA/AMP_AD...  ...  34.0   \n",
       "Pan-Cancer   /data/srlab1/TCAT/Data/PerDataset/Pancancer/pa...  ...  38.0   \n",
       "TBRU         /data/srlab1/TCAT/Data/PerDataset/TBRU/tbru_ex...  ...  36.0   \n",
       "HIV-Vaccine  /data/srlab1/TCAT/Data/PerDataset/HaoEtAl/haoe...  ...  31.0   \n",
       "UK-Covid     /data/srlab1/TCAT/Data/PerDataset/UKCOVID/hani...  ...  44.0   \n",
       "COMBAT       /data/srlab1/TCAT/Data/PerDataset/COMBAT/COMBA...  ...  35.0   \n",
       "Pan-Tissue   /data/srlab1/TCAT/Data/PerDataset/XTissueImmun...  ...  39.0   \n",
       "Sparks       /data/srlab1/TCAT/Data/PerDataset/Sparks2023/T...  ...   NaN   \n",
       "Stimseq      /data/srlab1/TCAT/Data/PerDataset/Stimseq/stim...  ...   NaN   \n",
       "\n",
       "               dt                               processed_forcnmf_fn  \\\n",
       "dataset                                                                \n",
       "AMP-RA       0_15  /data/srlab1/TCAT/Data/PerDataset/AMPRA/AMP_AD...   \n",
       "Pan-Cancer   0.15  /data/srlab1/TCAT/Data/PerDataset/Pancancer/pa...   \n",
       "TBRU         0_20  /data/srlab1/TCAT/Data/PerDataset/TBRU/tbru_ex...   \n",
       "HIV-Vaccine  0_15  /data/srlab1/TCAT/Data/PerDataset/HaoEtAl/haoe...   \n",
       "UK-Covid     0_20  /data/srlab1/TCAT/Data/PerDataset/UKCOVID/hani...   \n",
       "COMBAT       0_15  /data/srlab1/TCAT/Data/PerDataset/COMBAT/COMBA...   \n",
       "Pan-Tissue   0_20  /data/srlab1/TCAT/Data/PerDataset/XTissueImmun...   \n",
       "Sparks        NaN                                                NaN   \n",
       "Stimseq       NaN  /data/srlab1/TCAT/Data/PerDataset/Stimseq/stim...   \n",
       "\n",
       "                                        tpm_counts_for_cnmf_fn  \\\n",
       "dataset                                                          \n",
       "AMP-RA       /data/srlab1/TCAT/Data/PerDataset/AMPRA/AMP_AD...   \n",
       "Pan-Cancer                                                 NaN   \n",
       "TBRU         /data/srlab1/TCAT/Data/PerDataset/TBRU/tbru_ex...   \n",
       "HIV-Vaccine  /data/srlab1/TCAT/Data/PerDataset/HaoEtAl/haoe...   \n",
       "UK-Covid                                                   NaN   \n",
       "COMBAT       /data/srlab1/TCAT/Data/PerDataset/COMBAT/COMBA...   \n",
       "Pan-Tissue                                                 NaN   \n",
       "Sparks                                                     NaN   \n",
       "Stimseq                                                    NaN   \n",
       "\n",
       "                                            raw_counts_filt_fn  \\\n",
       "dataset                                                          \n",
       "AMP-RA       /data/srlab1/TCAT/Data/PerDataset/AMPRA/AMP_AD...   \n",
       "Pan-Cancer   /data/srlab1/TCAT/Data/PerDataset/Pancancer/pa...   \n",
       "TBRU         /data/srlab1/TCAT/Data/PerDataset/TBRU/tbru_ex...   \n",
       "HIV-Vaccine  /data/srlab1/TCAT/Data/PerDataset/HaoEtAl/haoe...   \n",
       "UK-Covid     /data/srlab1/TCAT/Data/PerDataset/UKCOVID/hani...   \n",
       "COMBAT       /data/srlab1/TCAT/Data/PerDataset/COMBAT/COMBA...   \n",
       "Pan-Tissue   /data/srlab1/TCAT/Data/PerDataset/XTissueImmun...   \n",
       "Sparks       /data/srlab1/TCAT/Data/PerDataset/Sparks2023/T...   \n",
       "Stimseq      /data/srlab1/TCAT/Data/PerDataset/Stimseq/raw....   \n",
       "\n",
       "                                                 raw_counts_fn dataset_type  \\\n",
       "dataset                                                                       \n",
       "AMP-RA       /data/srlab1/TCAT/Data/PerDataset/AMPRA/AMP_AD...    discovery   \n",
       "Pan-Cancer   /data/srlab1/TCAT/Data/PerDataset/Pancancer/pa...    discovery   \n",
       "TBRU         /data/srlab1/TCAT/Data/PerDataset/TBRU/tbru_ex...    discovery   \n",
       "HIV-Vaccine  /data/srlab1/TCAT/Data/PerDataset/HaoEtAl/haoe...    discovery   \n",
       "UK-Covid     /data/srlab1/TCAT/Data/PerDataset/UKCOVID/hani...    discovery   \n",
       "COMBAT       /data/srlab1/TCAT/Data/PerDataset/COMBAT/COMBA...    discovery   \n",
       "Pan-Tissue   /data/srlab1/TCAT/Data/PerDataset/XTissueImmun...    discovery   \n",
       "Sparks       /data/srlab1/TCAT/Data/PerDataset/Sparks2023/T...        other   \n",
       "Stimseq      /data/srlab1/TCAT/Data/PerDataset/Stimseq/raw....        other   \n",
       "\n",
       "             tissue_type         context_label  \\\n",
       "dataset                                          \n",
       "AMP-RA          Synovium                 RA+OA   \n",
       "Pan-Cancer    Pan-Tissue        Cancer+Healthy   \n",
       "TBRU               Blood               Healthy   \n",
       "HIV-Vaccine        Blood  Post-Vaccine+Healthy   \n",
       "UK-Covid           Blood      Covid-19+Healthy   \n",
       "COMBAT             Blood      Covid-19+Healthy   \n",
       "Pan-Tissue    Pan-Tissue  Non-Cancer/Non-Viral   \n",
       "Sparks             Blood                   NaN   \n",
       "Stimseq            Blood                   NaN   \n",
       "\n",
       "                                                   tcat_fn_old  \n",
       "dataset                                                         \n",
       "AMP-RA       /data/srlab1/TCAT/Data/TCAT/TCAT_Usage.2023101...  \n",
       "Pan-Cancer   /data/srlab1/TCAT/Data/TCAT/TCAT_Usage.2023101...  \n",
       "TBRU         /data/srlab1/TCAT/Data/TCAT/TCAT_Usage.2023101...  \n",
       "HIV-Vaccine  /data/srlab1/TCAT/Data/TCAT/TCAT_Usage.2023101...  \n",
       "UK-Covid     /data/srlab1/TCAT/Data/TCAT/TCAT_Usage.2023101...  \n",
       "COMBAT       /data/srlab1/TCAT/Data/TCAT/TCAT_Usage.2023101...  \n",
       "Pan-Tissue   /data/srlab1/TCAT/Data/TCAT/TCAT_Usage.2023101...  \n",
       "Sparks       /data/srlab1/TCAT/Data/TCAT/TCAT_Usage.2023101...  \n",
       "Stimseq      /data/srlab1/TCAT/Data/PerDataset/Stimseq/TCAT...  \n",
       "\n",
       "[9 rows x 27 columns]"
      ]
     },
     "execution_count": 2,
     "metadata": {},
     "output_type": "execute_result"
    }
   ],
   "source": [
    "params = read_dataset_log('Dataset Paths')\n",
    "params.index = params['dataset']\n",
    "params"
   ]
  },
  {
   "cell_type": "code",
   "execution_count": 3,
   "id": "3883adcc-18f0-4461-a278-8b355f84d7e4",
   "metadata": {},
   "outputs": [],
   "source": [
    "gate_list = ['CD4_Naive', \n",
    "             'CD8_Naive', \n",
    "             'gdT',\n",
    "            'MAIT', \n",
    "             'CD4_EM', \n",
    "             'CD8_EM', \n",
    "             'CD4_CM', \n",
    "             'Treg']"
   ]
  },
  {
   "cell_type": "code",
   "execution_count": 4,
   "id": "caad4698-addb-4aa6-b411-ce84bb748312",
   "metadata": {},
   "outputs": [],
   "source": [
    "train_dir = '/data/srlab1/TCAT/Data/PerDataset/COMBAT'\n",
    "test_dir =  '/data/srlab1/TCAT/Data/PerDataset/Sparks2023'"
   ]
  },
  {
   "cell_type": "code",
   "execution_count": 5,
   "id": "a77bc586-9117-4515-bd9a-0206ae7caa06",
   "metadata": {
    "tags": []
   },
   "outputs": [
    {
     "data": {
      "text/html": [
       "<div>\n",
       "<style scoped>\n",
       "    .dataframe tbody tr th:only-of-type {\n",
       "        vertical-align: middle;\n",
       "    }\n",
       "\n",
       "    .dataframe tbody tr th {\n",
       "        vertical-align: top;\n",
       "    }\n",
       "\n",
       "    .dataframe thead th {\n",
       "        text-align: right;\n",
       "    }\n",
       "</style>\n",
       "<table border=\"1\" class=\"dataframe\">\n",
       "  <thead>\n",
       "    <tr style=\"text-align: right;\">\n",
       "      <th></th>\n",
       "      <th>cGep_Name</th>\n",
       "      <th>Old_Short_Name</th>\n",
       "      <th>Long_Name</th>\n",
       "      <th>Short_Name</th>\n",
       "      <th>Shortest_Name</th>\n",
       "      <th>Class</th>\n",
       "      <th>Num_Datasets</th>\n",
       "      <th>Notes</th>\n",
       "      <th>Reviewed</th>\n",
       "      <th>Filter</th>\n",
       "    </tr>\n",
       "    <tr>\n",
       "      <th>cGep_Name</th>\n",
       "      <th></th>\n",
       "      <th></th>\n",
       "      <th></th>\n",
       "      <th></th>\n",
       "      <th></th>\n",
       "      <th></th>\n",
       "      <th></th>\n",
       "      <th></th>\n",
       "      <th></th>\n",
       "      <th></th>\n",
       "    </tr>\n",
       "  </thead>\n",
       "  <tbody>\n",
       "    <tr>\n",
       "      <th>COMBAT_Cytoskeleton</th>\n",
       "      <td>COMBAT_Cytoskeleton</td>\n",
       "      <td>Cytoskeleton</td>\n",
       "      <td>Actin Cytoskeleton</td>\n",
       "      <td>Cytoskeleton</td>\n",
       "      <td>Cytosk.</td>\n",
       "      <td>Functional</td>\n",
       "      <td>7.0</td>\n",
       "      <td>NaN</td>\n",
       "      <td>Y</td>\n",
       "      <td>NaN</td>\n",
       "    </tr>\n",
       "    <tr>\n",
       "      <th>CD8_EM</th>\n",
       "      <td>CD8_EM</td>\n",
       "      <td>CD8-EM</td>\n",
       "      <td>CD8 Effector Memory</td>\n",
       "      <td>CD8-EM</td>\n",
       "      <td>CD8-EM</td>\n",
       "      <td>Lineage</td>\n",
       "      <td>7.0</td>\n",
       "      <td>Need to confirm overlap with gating since the ...</td>\n",
       "      <td>Y</td>\n",
       "      <td>NaN</td>\n",
       "    </tr>\n",
       "    <tr>\n",
       "      <th>CellCycle-G2M</th>\n",
       "      <td>CellCycle-G2M</td>\n",
       "      <td>CellCycle-G2M</td>\n",
       "      <td>Cell Cycle G2M Phase</td>\n",
       "      <td>CellCycle-G2M</td>\n",
       "      <td>G2M-phase</td>\n",
       "      <td>Functional</td>\n",
       "      <td>7.0</td>\n",
       "      <td>NaN</td>\n",
       "      <td>Y</td>\n",
       "      <td>NaN</td>\n",
       "    </tr>\n",
       "    <tr>\n",
       "      <th>CellCycle-S</th>\n",
       "      <td>CellCycle-S</td>\n",
       "      <td>CellCycle-S</td>\n",
       "      <td>Cell Cycle S Phase</td>\n",
       "      <td>CellCycle-S</td>\n",
       "      <td>S-phase</td>\n",
       "      <td>Functional</td>\n",
       "      <td>7.0</td>\n",
       "      <td>NaN</td>\n",
       "      <td>Y</td>\n",
       "      <td>NaN</td>\n",
       "    </tr>\n",
       "    <tr>\n",
       "      <th>Cytotoxic</th>\n",
       "      <td>Cytotoxic</td>\n",
       "      <td>Cytotoxic</td>\n",
       "      <td>Cytotoxic</td>\n",
       "      <td>Cytotoxic</td>\n",
       "      <td>Cytotoxic</td>\n",
       "      <td>Functional</td>\n",
       "      <td>7.0</td>\n",
       "      <td>NaN</td>\n",
       "      <td>Y</td>\n",
       "      <td>NaN</td>\n",
       "    </tr>\n",
       "  </tbody>\n",
       "</table>\n",
       "</div>"
      ],
      "text/plain": [
       "                               cGep_Name Old_Short_Name             Long_Name  \\\n",
       "cGep_Name                                                                       \n",
       "COMBAT_Cytoskeleton  COMBAT_Cytoskeleton   Cytoskeleton    Actin Cytoskeleton   \n",
       "CD8_EM                            CD8_EM         CD8-EM   CD8 Effector Memory   \n",
       "CellCycle-G2M              CellCycle-G2M  CellCycle-G2M  Cell Cycle G2M Phase   \n",
       "CellCycle-S                  CellCycle-S    CellCycle-S    Cell Cycle S Phase   \n",
       "Cytotoxic                      Cytotoxic      Cytotoxic             Cytotoxic   \n",
       "\n",
       "                        Short_Name Shortest_Name       Class  Num_Datasets  \\\n",
       "cGep_Name                                                                    \n",
       "COMBAT_Cytoskeleton   Cytoskeleton       Cytosk.  Functional           7.0   \n",
       "CD8_EM                      CD8-EM        CD8-EM     Lineage           7.0   \n",
       "CellCycle-G2M        CellCycle-G2M     G2M-phase  Functional           7.0   \n",
       "CellCycle-S            CellCycle-S       S-phase  Functional           7.0   \n",
       "Cytotoxic                Cytotoxic     Cytotoxic  Functional           7.0   \n",
       "\n",
       "                                                                 Notes  \\\n",
       "cGep_Name                                                                \n",
       "COMBAT_Cytoskeleton                                                NaN   \n",
       "CD8_EM               Need to confirm overlap with gating since the ...   \n",
       "CellCycle-G2M                                                      NaN   \n",
       "CellCycle-S                                                        NaN   \n",
       "Cytotoxic                                                          NaN   \n",
       "\n",
       "                    Reviewed Filter  \n",
       "cGep_Name                            \n",
       "COMBAT_Cytoskeleton        Y    NaN  \n",
       "CD8_EM                     Y    NaN  \n",
       "CellCycle-G2M              Y    NaN  \n",
       "CellCycle-S                Y    NaN  \n",
       "Cytotoxic                  Y    NaN  "
      ]
     },
     "execution_count": 5,
     "metadata": {},
     "output_type": "execute_result"
    }
   ],
   "source": [
    "gep_info = read_dataset_log('cGEP_Name')\n",
    "gep_info.index = gep_info['cGep_Name']\n",
    "gep_info.head()"
   ]
  },
  {
   "cell_type": "code",
   "execution_count": 6,
   "id": "1ea5b0ab-52b3-4437-ad92-99b666cc945e",
   "metadata": {},
   "outputs": [],
   "source": [
    "rename_map = dict(zip(gep_info['cGep_Name'], gep_info['Short_Name']))"
   ]
  },
  {
   "cell_type": "markdown",
   "id": "8fdcd41a-3d9b-44d3-96d8-1ddb638aabb6",
   "metadata": {},
   "source": [
    "# Balanced multinomial prediction of lineage only using all GEPs, CD4 + CD8"
   ]
  },
  {
   "cell_type": "markdown",
   "id": "50073de4-6389-4020-93b7-6dba2c7c3aeb",
   "metadata": {},
   "source": [
    "## Training"
   ]
  },
  {
   "cell_type": "code",
   "execution_count": 7,
   "id": "7f5c701c-1812-41c1-bd9f-69e185e6e90a",
   "metadata": {},
   "outputs": [
    {
     "data": {
      "text/plain": [
       "['CD8-EM',\n",
       " 'MAIT',\n",
       " 'Treg',\n",
       " 'CD4-Naive',\n",
       " 'TEMRA',\n",
       " 'CD4-CM',\n",
       " 'gdT',\n",
       " 'Th22',\n",
       " 'Th17-Resting',\n",
       " 'Th2-Resting',\n",
       " 'Th1-Like',\n",
       " 'CD8-Naive',\n",
       " 'CD8-Trm',\n",
       " 'Tfh-2',\n",
       " 'Tph',\n",
       " 'Tfh-1']"
      ]
     },
     "execution_count": 7,
     "metadata": {},
     "output_type": "execute_result"
    }
   ],
   "source": [
    "lineage_geps = gep_info[gep_info['Class']=='Lineage']['Short_Name'].tolist()\n",
    "# lineage_geps = gep_info[gep_info['Class']=='Lineage']['cGep_Name'].tolist()\n",
    "lineage_geps"
   ]
  },
  {
   "cell_type": "code",
   "execution_count": 8,
   "id": "0aa70a83-f9dd-492d-9ccf-14b32911cac5",
   "metadata": {},
   "outputs": [],
   "source": [
    "dataset = 'COMBAT'\n",
    "\n",
    "gating = pd.read_csv(params.loc[dataset, 'manual_gating_fn'], index_col = 0, sep = '\\t',\n",
    "                     header=0, names = ['cell_gating'])\n",
    "\n",
    "meta = pd.read_csv(params.loc[dataset, 'metadata_fn'], index_col = 0, sep = '\\t')\n",
    "meta['cell_gating'] = gating.loc[meta.index, 'cell_gating']\n",
    "\n",
    "gates_to_exclude = ['CD4_TEMRA', #'CD8_TEMRA',\n",
    "                    'DN', 'DP']\n",
    "\n",
    "meta = meta.loc[-meta['cell_gating'].isin(gates_to_exclude), :]"
   ]
  },
  {
   "cell_type": "code",
   "execution_count": 9,
   "id": "b2498e72-7d9a-4fe7-8abc-1dab4aae5865",
   "metadata": {},
   "outputs": [],
   "source": [
    "usage = pd.read_csv(params.loc[dataset, 'tcat_fn'], index_col = 0, sep = '\\t')\n",
    "usage.columns = usage.columns.map(rename_map)\n",
    "usage_norm = usage.div(usage.sum(axis=1), axis=0)\n",
    "\n",
    "overlap = set(usage_norm.index).intersection(meta.index)\n",
    "meta_train_all = meta.loc[overlap, ]\n",
    "usage_train_all = usage_norm.loc[overlap, ]"
   ]
  },
  {
   "cell_type": "code",
   "execution_count": 10,
   "id": "998bfd9d-b208-42ed-af9e-9f7422f84b5b",
   "metadata": {},
   "outputs": [
    {
     "data": {
      "text/html": [
       "<div>\n",
       "<style scoped>\n",
       "    .dataframe tbody tr th:only-of-type {\n",
       "        vertical-align: middle;\n",
       "    }\n",
       "\n",
       "    .dataframe tbody tr th {\n",
       "        vertical-align: top;\n",
       "    }\n",
       "\n",
       "    .dataframe thead th {\n",
       "        text-align: right;\n",
       "    }\n",
       "</style>\n",
       "<table border=\"1\" class=\"dataframe\">\n",
       "  <thead>\n",
       "    <tr style=\"text-align: right;\">\n",
       "      <th></th>\n",
       "      <th>CellCycle-G2M</th>\n",
       "      <th>Translation</th>\n",
       "      <th>HLA</th>\n",
       "      <th>ISG</th>\n",
       "      <th>Mito</th>\n",
       "      <th>Doublet-RBC</th>\n",
       "      <th>gdT</th>\n",
       "      <th>CellCycle-S</th>\n",
       "      <th>Cytotoxic</th>\n",
       "      <th>Doublet-Platelet</th>\n",
       "      <th>...</th>\n",
       "      <th>Tfh-2</th>\n",
       "      <th>OX40/EBI3</th>\n",
       "      <th>CD172a/MERTK</th>\n",
       "      <th>IEG3</th>\n",
       "      <th>Doublet-Fibroblast</th>\n",
       "      <th>SOX4/TOX2</th>\n",
       "      <th>CD40LG/TXNIP</th>\n",
       "      <th>Tph</th>\n",
       "      <th>Exhaustion</th>\n",
       "      <th>Tfh-1</th>\n",
       "    </tr>\n",
       "  </thead>\n",
       "  <tbody>\n",
       "    <tr>\n",
       "      <th>CAGTAACCATATGAGA-1-gPlexA4</th>\n",
       "      <td>0.000055</td>\n",
       "      <td>0.024118</td>\n",
       "      <td>0.002411</td>\n",
       "      <td>0.006377</td>\n",
       "      <td>0.000006</td>\n",
       "      <td>0.000382</td>\n",
       "      <td>0.004414</td>\n",
       "      <td>0.000604</td>\n",
       "      <td>0.005514</td>\n",
       "      <td>0.000841</td>\n",
       "      <td>...</td>\n",
       "      <td>0.253832</td>\n",
       "      <td>0.082877</td>\n",
       "      <td>0.007694</td>\n",
       "      <td>0.006667</td>\n",
       "      <td>0.012774</td>\n",
       "      <td>0.002380</td>\n",
       "      <td>0.025315</td>\n",
       "      <td>0.001882</td>\n",
       "      <td>0.002920</td>\n",
       "      <td>0.000318</td>\n",
       "    </tr>\n",
       "    <tr>\n",
       "      <th>CAGGTGCGTAAGAGGA-1-gPlexB3</th>\n",
       "      <td>0.000015</td>\n",
       "      <td>0.189392</td>\n",
       "      <td>0.000624</td>\n",
       "      <td>0.000805</td>\n",
       "      <td>0.012136</td>\n",
       "      <td>0.000396</td>\n",
       "      <td>0.001677</td>\n",
       "      <td>0.000037</td>\n",
       "      <td>0.002481</td>\n",
       "      <td>0.001451</td>\n",
       "      <td>...</td>\n",
       "      <td>0.000725</td>\n",
       "      <td>0.002343</td>\n",
       "      <td>0.013058</td>\n",
       "      <td>0.011921</td>\n",
       "      <td>0.000599</td>\n",
       "      <td>0.000587</td>\n",
       "      <td>0.116109</td>\n",
       "      <td>0.010480</td>\n",
       "      <td>0.000182</td>\n",
       "      <td>0.000112</td>\n",
       "    </tr>\n",
       "  </tbody>\n",
       "</table>\n",
       "<p>2 rows × 52 columns</p>\n",
       "</div>"
      ],
      "text/plain": [
       "                            CellCycle-G2M  Translation       HLA       ISG  \\\n",
       "CAGTAACCATATGAGA-1-gPlexA4       0.000055     0.024118  0.002411  0.006377   \n",
       "CAGGTGCGTAAGAGGA-1-gPlexB3       0.000015     0.189392  0.000624  0.000805   \n",
       "\n",
       "                                Mito  Doublet-RBC       gdT  CellCycle-S  \\\n",
       "CAGTAACCATATGAGA-1-gPlexA4  0.000006     0.000382  0.004414     0.000604   \n",
       "CAGGTGCGTAAGAGGA-1-gPlexB3  0.012136     0.000396  0.001677     0.000037   \n",
       "\n",
       "                            Cytotoxic  Doublet-Platelet  ...     Tfh-2  \\\n",
       "CAGTAACCATATGAGA-1-gPlexA4   0.005514          0.000841  ...  0.253832   \n",
       "CAGGTGCGTAAGAGGA-1-gPlexB3   0.002481          0.001451  ...  0.000725   \n",
       "\n",
       "                            OX40/EBI3  CD172a/MERTK      IEG3  \\\n",
       "CAGTAACCATATGAGA-1-gPlexA4   0.082877      0.007694  0.006667   \n",
       "CAGGTGCGTAAGAGGA-1-gPlexB3   0.002343      0.013058  0.011921   \n",
       "\n",
       "                            Doublet-Fibroblast  SOX4/TOX2  CD40LG/TXNIP  \\\n",
       "CAGTAACCATATGAGA-1-gPlexA4            0.012774   0.002380      0.025315   \n",
       "CAGGTGCGTAAGAGGA-1-gPlexB3            0.000599   0.000587      0.116109   \n",
       "\n",
       "                                 Tph  Exhaustion     Tfh-1  \n",
       "CAGTAACCATATGAGA-1-gPlexA4  0.001882    0.002920  0.000318  \n",
       "CAGGTGCGTAAGAGGA-1-gPlexB3  0.010480    0.000182  0.000112  \n",
       "\n",
       "[2 rows x 52 columns]"
      ]
     },
     "execution_count": 10,
     "metadata": {},
     "output_type": "execute_result"
    }
   ],
   "source": [
    "usage_train_all.head(2)"
   ]
  },
  {
   "cell_type": "code",
   "execution_count": 11,
   "id": "6e43cf10-07b5-4bcf-a008-2fe04ed068db",
   "metadata": {},
   "outputs": [],
   "source": [
    "yasumizu_usage = pd.read_csv('../../../Data/PerDataset/COMBAT/Yasumizu_NMFproject_Usage_TPMscale.tsv', sep='\\t', index_col=0)\n",
    "yasumizu_usage = yasumizu_usage.loc[meta_train_all.index, :]\n",
    "yasumizu_usage_norm = yasumizu_usage.div(yasumizu_usage.sum(axis=1), axis=0)"
   ]
  },
  {
   "cell_type": "code",
   "execution_count": 12,
   "id": "12e55ca6-a176-461f-87cb-84cec1f741fc",
   "metadata": {},
   "outputs": [
    {
     "data": {
      "text/plain": [
       "['CD4_CM',\n",
       " 'CD4_Naive',\n",
       " 'CD8_EM',\n",
       " 'Treg',\n",
       " 'CD4_EM',\n",
       " 'gdT',\n",
       " 'CD8_TEMRA',\n",
       " 'CD8_Naive',\n",
       " 'MAIT',\n",
       " 'CD8_CM']"
      ]
     },
     "execution_count": 12,
     "metadata": {},
     "output_type": "execute_result"
    }
   ],
   "source": [
    "gate_list_all = meta_train_all['cell_gating'].unique().tolist()\n",
    "gate_list_all"
   ]
  },
  {
   "cell_type": "code",
   "execution_count": 13,
   "id": "6bd0297e-f3c5-4329-8324-a1a5b22ee235",
   "metadata": {},
   "outputs": [
    {
     "data": {
      "text/plain": [
       "16"
      ]
     },
     "execution_count": 13,
     "metadata": {},
     "output_type": "execute_result"
    }
   ],
   "source": [
    "len(lineage_geps)"
   ]
  },
  {
   "cell_type": "code",
   "execution_count": 14,
   "id": "26b335cc-8a4f-4875-89c7-91b6c4eb65eb",
   "metadata": {
    "tags": []
   },
   "outputs": [],
   "source": [
    "dat = usage_train_all.groupby(meta_train_all['cell_gating']).mean()"
   ]
  },
  {
   "cell_type": "code",
   "execution_count": 15,
   "id": "be0e8a11-532c-43c5-b26b-c78d9a58977e",
   "metadata": {
    "tags": []
   },
   "outputs": [
    {
     "data": {
      "text/plain": [
       "<AxesSubplot:ylabel='cell_gating'>"
      ]
     },
     "execution_count": 15,
     "metadata": {},
     "output_type": "execute_result"
    },
    {
     "data": {
      "image/png": "[encoded data removed]",
      "text/plain": [
       "<Figure size 1800x1200 with 2 Axes>"
      ]
     },
     "metadata": {
      "needs_background": "light"
     },
     "output_type": "display_data"
    }
   ],
   "source": [
    "fig, ax = plt.subplots(dpi = 300)\n",
    "sns.heatmap(dat, ax = ax)"
   ]
  },
  {
   "cell_type": "code",
   "execution_count": 16,
   "id": "127afb34-f033-4741-bd73-b05d0fd6b116",
   "metadata": {},
   "outputs": [
    {
     "data": {
      "text/plain": [
       "CD4_Naive    115643\n",
       "CD4_CM        98459\n",
       "CD4_EM        41023\n",
       "CD8_TEMRA     36720\n",
       "CD8_EM        33158\n",
       "CD8_Naive     25481\n",
       "Treg          11745\n",
       "CD8_CM         9694\n",
       "gdT            6160\n",
       "MAIT           6042\n",
       "Name: cell_gating, dtype: int64"
      ]
     },
     "execution_count": 16,
     "metadata": {},
     "output_type": "execute_result"
    }
   ],
   "source": [
    "gates_train_all = meta_train_all['cell_gating']\n",
    "gates_train_all.value_counts().sort_values(ascending = False)"
   ]
  },
  {
   "cell_type": "code",
   "execution_count": 17,
   "id": "66ef209c-e2a5-4a00-bd3f-79d04158083f",
   "metadata": {},
   "outputs": [
    {
     "data": {
      "text/plain": [
       "array(['CD4_CM', 'CD4_Naive', 'CD8_EM', 'Treg', 'CD4_EM', 'gdT',\n",
       "       'CD8_TEMRA', 'CD8_Naive', 'MAIT', 'CD8_CM'], dtype=object)"
      ]
     },
     "execution_count": 17,
     "metadata": {},
     "output_type": "execute_result"
    }
   ],
   "source": [
    "gates_train_all.unique()"
   ]
  },
  {
   "cell_type": "code",
   "execution_count": 18,
   "id": "f23f419b-ad64-4d77-b2e7-cf8d23380be4",
   "metadata": {},
   "outputs": [
    {
     "data": {
      "text/plain": [
       "True     27126\n",
       "False    11287\n",
       "dtype: int64"
      ]
     },
     "execution_count": 18,
     "metadata": {},
     "output_type": "execute_result"
    }
   ],
   "source": [
    "scaler_tcat = StandardScaler()\n",
    "usage_train_all_scaled = scaler_tcat.fit_transform(usage_train_all)\n",
    "usage_train_all_scaled = pd.DataFrame(usage_train_all_scaled, index=usage_train_all.index, columns=usage_train_all.columns)\n",
    "\n",
    "train_usage, test_usage, train_gates, test_gates = train_test_split(usage_train_all_scaled, \n",
    "                                                                    gates_train_all, \n",
    "                                                                    test_size=0.25, random_state=2)\n",
    "\n",
    "model_tcat = LogisticRegression(solver='lbfgs', random_state=8,\n",
    "                           multi_class = 'multinomial', class_weight = 'balanced', max_iter=500)\n",
    "model_tcat.fit(train_usage, train_gates)\n",
    "\n",
    "pred_tcat = model_tcat.predict(test_usage)\n",
    "pred_tcat = pd.Series(pred_tcat, index = test_usage.index)\n",
    "lr_probs_tcat = model_tcat.predict_proba(test_usage)\n",
    "lr_probs_tcat = pd.DataFrame(lr_probs_tcat, columns=model_tcat.classes_)\n",
    "\n",
    "(pred_tcat==test_gates).value_counts()"
   ]
  },
  {
   "cell_type": "code",
   "execution_count": 19,
   "id": "fd8a4396-2d61-4422-a604-b631f6613c4e",
   "metadata": {},
   "outputs": [
    {
     "data": {
      "text/plain": [
       "True     0.706167\n",
       "False    0.293833\n",
       "dtype: float64"
      ]
     },
     "execution_count": 19,
     "metadata": {},
     "output_type": "execute_result"
    }
   ],
   "source": [
    "vc = (pred_tcat==test_gates).value_counts()\n",
    "vc / vc.sum()"
   ]
  },
  {
   "cell_type": "code",
   "execution_count": 20,
   "id": "4ee6355b-b8bd-4e52-8f30-a6bbee8ebe65",
   "metadata": {},
   "outputs": [
    {
     "data": {
      "text/plain": [
       "LogisticRegression(class_weight='balanced', max_iter=500,\n",
       "                   multi_class='multinomial', random_state=8)"
      ]
     },
     "execution_count": 20,
     "metadata": {},
     "output_type": "execute_result"
    }
   ],
   "source": [
    "model_tcat"
   ]
  },
  {
   "cell_type": "code",
   "execution_count": 21,
   "id": "dc1d8f18-16d5-496d-a77a-eed745c0535d",
   "metadata": {},
   "outputs": [
    {
     "data": {
      "text/plain": [
       "'/data/srlab1/TCAT/Data/PerDataset/Sparks2023/model_TCAT_MultinomialLogisticRegression.20240422.pkl'"
      ]
     },
     "execution_count": 21,
     "metadata": {},
     "output_type": "execute_result"
    }
   ],
   "source": [
    "outfn = os.path.join(test_dir, 'model_TCAT_MultinomialLogisticRegression.20240422.pkl')\n",
    "outfn"
   ]
  },
  {
   "cell_type": "code",
   "execution_count": 22,
   "id": "f9cf781f-368a-4c16-b96e-638c6679aa67",
   "metadata": {},
   "outputs": [],
   "source": [
    "import pickle\n",
    "with open(outfn, 'wb') as f:\n",
    "    # Dump the object into the pickle file\n",
    "    pickle.dump(model_tcat, f)"
   ]
  },
  {
   "cell_type": "code",
   "execution_count": 23,
   "id": "216ecb29-92c4-410a-8299-48239897314a",
   "metadata": {},
   "outputs": [
    {
     "data": {
      "text/plain": [
       "(384125, 52)"
      ]
     },
     "execution_count": 23,
     "metadata": {},
     "output_type": "execute_result"
    }
   ],
   "source": [
    "usage_train_all.shape"
   ]
  },
  {
   "cell_type": "code",
   "execution_count": 24,
   "id": "34245c16-05bc-4397-adc1-ec45482a4b08",
   "metadata": {},
   "outputs": [
    {
     "data": {
      "text/plain": [
       "True     55050\n",
       "False    40982\n",
       "dtype: int64"
      ]
     },
     "execution_count": 24,
     "metadata": {},
     "output_type": "execute_result"
    }
   ],
   "source": [
    "scaler_yasumizu = StandardScaler()\n",
    "yasumizu_usage_train_all_scaled = scaler_yasumizu.fit_transform(yasumizu_usage_norm)\n",
    "yasumizu_usage_train_all_scaled = pd.DataFrame(yasumizu_usage_train_all_scaled, index=yasumizu_usage_norm.index, columns=yasumizu_usage_norm.columns)\n",
    "\n",
    "train_usage, test_usage, train_gates, test_gates = train_test_split(yasumizu_usage_train_all_scaled, \n",
    "                                                                    gates_train_all, \n",
    "                                                                    test_size=0.25, random_state=2)\n",
    "\n",
    "model_yasumizu = LogisticRegression(solver='lbfgs', random_state=14,\n",
    "                           multi_class = 'multinomial', class_weight  = 'balanced', max_iter=500)\n",
    "model_yasumizu.fit(train_usage, train_gates)\n",
    "\n",
    "pred_yasumizu = model_yasumizu.predict(test_usage)\n",
    "pred_yasumizu = pd.Series(pred_yasumizu, index = test_usage.index)\n",
    "lr_probs_yasumizu = model_yasumizu.predict_proba(test_usage)\n",
    "lr_probs_yasumizu = pd.DataFrame(lr_probs_yasumizu, columns=model_yasumizu.classes_)\n",
    "(pred_yasumizu==test_gates).value_counts()"
   ]
  },
  {
   "cell_type": "code",
   "execution_count": 25,
   "id": "6ff6aa37-7246-4e53-aee5-efc84b583f30",
   "metadata": {
    "tags": []
   },
   "outputs": [],
   "source": [
    "coef_tcat = pd.DataFrame(model_tcat.coef_, index = model_tcat.classes_, \n",
    "                    columns = usage_train_all_scaled.columns)"
   ]
  },
  {
   "cell_type": "code",
   "execution_count": 26,
   "id": "574c5c7f-1029-4227-adff-09c86b527fd5",
   "metadata": {},
   "outputs": [
    {
     "data": {
      "text/plain": [
       "<seaborn.matrix.ClusterGrid at 0x7f4160d8c110>"
      ]
     },
     "execution_count": 26,
     "metadata": {},
     "output_type": "execute_result"
    },
    {
     "data": {
      "image/png": "[encoded data removed]",
      "text/plain": [
       "<Figure size 720x720 with 4 Axes>"
      ]
     },
     "metadata": {
      "needs_background": "light"
     },
     "output_type": "display_data"
    }
   ],
   "source": [
    "sns.clustermap(coef_tcat, cmap = 'vlag', xticklabels=True)"
   ]
  },
  {
   "cell_type": "code",
   "execution_count": 27,
   "id": "2b55e1b4-50ed-4c5f-8446-4f490bbc4b09",
   "metadata": {},
   "outputs": [],
   "source": [
    "coef_yasumizu = pd.DataFrame(model_yasumizu.coef_, index = model_yasumizu.classes_, \n",
    "                    columns = yasumizu_usage_norm.columns)"
   ]
  },
  {
   "cell_type": "code",
   "execution_count": 28,
   "id": "0cf5a8ba-1de4-4714-a03b-18e33e975e3e",
   "metadata": {},
   "outputs": [
    {
     "data": {
      "text/plain": [
       "<seaborn.matrix.ClusterGrid at 0x7f4164565850>"
      ]
     },
     "execution_count": 28,
     "metadata": {},
     "output_type": "execute_result"
    },
    {
     "data": {
      "image/png": "[encoded data removed]",
      "text/plain": [
       "<Figure size 720x720 with 4 Axes>"
      ]
     },
     "metadata": {
      "needs_background": "light"
     },
     "output_type": "display_data"
    }
   ],
   "source": [
    "sns.clustermap(coef_yasumizu, cmap = 'vlag')"
   ]
  },
  {
   "cell_type": "code",
   "execution_count": 30,
   "id": "aa99506e-7423-4739-beef-c0fdd1fecdd2",
   "metadata": {},
   "outputs": [
    {
     "data": {
      "text/plain": [
       "CGAGCACAGCTATGCT-1-gPlexB4         Treg\n",
       "ACATACGCACTGTCGG-1-gPlexB2    CD4_Naive\n",
       "TGCGCAGAGGCCCGTT-1-gPlexH6       CD4_CM\n",
       "TGCCCTAGTGGGTCAA-1-gPlexE2    CD4_Naive\n",
       "AACTGGTGTTCTGTTT-1-gPlexJ5       CD4_EM\n",
       "                                ...    \n",
       "TCCACACGTCGGCACT-1-gPlexC5    CD4_Naive\n",
       "TGAGCATGTCCGAACC-1-gPlexK7    CD8_TEMRA\n",
       "GCCTCTAAGTAAGTAC-1-gPlexB5    CD4_Naive\n",
       "GTACTCCTCTGCGGCA-1-gPlexF2    CD4_Naive\n",
       "TAGAGCTAGCGACGTA-1-gPlexJ7       CD8_EM\n",
       "Length: 38413, dtype: object"
      ]
     },
     "execution_count": 30,
     "metadata": {},
     "output_type": "execute_result"
    }
   ],
   "source": [
    "pred_tcat"
   ]
  },
  {
   "cell_type": "code",
   "execution_count": null,
   "id": "72b49685-f1e4-4f48-a2e4-27d3ac933330",
   "metadata": {
    "tags": []
   },
   "outputs": [],
   "source": [
    "for gate_type in gate_list_all:\n",
    "    print(gate_type)\n",
    "    ind = test_gates[test_gates==gate_type].index\n",
    "    display((pred_tcat[ind]==gate_type).value_counts())"
   ]
  },
  {
   "cell_type": "code",
   "execution_count": null,
   "id": "44547ae8-4c7b-4149-b12c-59e513df41b4",
   "metadata": {
    "tags": []
   },
   "outputs": [],
   "source": [
    "(fig,axes) = plt.subplots(2, 5, figsize=(9,4), dpi=200, gridspec_kw={'hspace':.5, 'wspace':.5})\n",
    "axes = axes.ravel()\n",
    "\n",
    "for i,gate_type in enumerate(gates_train_all.unique()):\n",
    "    this_ax = axes[i]\n",
    "    \n",
    "    fpr, tpr, _ = roc_curve(test_gates==gate_type, lr_probs_tcat[gate_type])\n",
    "    auc = roc_auc_score(test_gates==gate_type, lr_probs_tcat[gate_type])\n",
    "\n",
    "    this_ax.plot(fpr, tpr, marker='.', label='Multinomial')\n",
    "    \n",
    "    if i in [0,4]:\n",
    "        this_ax.set_ylabel('True Positive Rate', fontsize=6)\n",
    "\n",
    "    if i in [4, 5, 6, 7]:\n",
    "        this_ax.set_xlabel('False Positive Rate', fontsize=6)\n",
    "        \n",
    "    this_ax.text(.2, 0, 'AUC: %.3f' % auc)\n",
    "    this_ax.set_title('TCAT ' + gate_type, fontsize=6)\n",
    "    this_ax.tick_params(labelsize=6)"
   ]
  },
  {
   "cell_type": "code",
   "execution_count": null,
   "id": "b90eda8b-f0a6-4f9b-9b8c-0bf4a94f71e9",
   "metadata": {},
   "outputs": [],
   "source": [
    "(fig,axes) = plt.subplots(2, 5, figsize=(9,4), dpi=200, gridspec_kw={'hspace':.5, 'wspace':.5})\n",
    "axes = axes.ravel()\n",
    "\n",
    "for i,gate_type in enumerate(gates_train_all.unique()):\n",
    "    this_ax = axes[i]\n",
    "    \n",
    "    fpr, tpr, _ = roc_curve(test_gates==gate_type, lr_probs_yasumizu[gate_type])\n",
    "    auc = roc_auc_score(test_gates==gate_type, lr_probs_yasumizu[gate_type])\n",
    "\n",
    "    this_ax.plot(fpr, tpr, marker='.', label='Multinomial')\n",
    "    \n",
    "    if i in [0,4]:\n",
    "        this_ax.set_ylabel('True Positive Rate', fontsize=6)\n",
    "\n",
    "    if i in [4, 5, 6, 7]:\n",
    "        this_ax.set_xlabel('False Positive Rate', fontsize=6)\n",
    "        \n",
    "    this_ax.text(.2, 0, 'AUC: %.3f' % auc)\n",
    "    this_ax.set_title('Yasumizu ' + gate_type, fontsize=6)\n",
    "    this_ax.tick_params(labelsize=6)"
   ]
  },
  {
   "cell_type": "markdown",
   "id": "5cd46884-d0ab-4d09-9735-0af9ed782e1f",
   "metadata": {},
   "source": [
    "## Testing"
   ]
  },
  {
   "cell_type": "code",
   "execution_count": null,
   "id": "ce8be7e9-8801-4519-a72c-cc9b5837d35f",
   "metadata": {
    "tags": []
   },
   "outputs": [],
   "source": [
    "dataset = 'Sparks'\n",
    "\n",
    "gating = pd.read_csv(params.loc[dataset, 'manual_gating_fn'], index_col = 0, sep = '\\t',\n",
    "                     header=0, names = ['cell_gating'])\n",
    "\n",
    "meta = pd.read_csv(params.loc[dataset, 'metadata_fn'], index_col = 0, sep = '\\t')\n",
    "meta['cell_gating'] = gating.loc[meta.index, 'cell_gating']\n",
    "\n",
    "gates_to_exclude = ['CD4_TEMRA', 'DN', 'DP']\n",
    "meta = meta.loc[~meta['cell_gating'].isin(gates_to_exclude), :]\n",
    "\n",
    "\n",
    "usage = pd.read_csv(params.loc[dataset, 'tcat_fn'], index_col = 0, sep = '\\t')\n",
    "usage.columns = usage.columns.map(rename_map)\n",
    "usage_norm = usage.div(usage.sum(axis=1), axis=0)\n",
    "\n",
    "overlap = list(set(usage_norm.index).intersection(meta.index))\n",
    "meta_test_all = meta.loc[overlap, ]\n",
    "usage_test_all = usage_norm.loc[overlap, ]\n",
    "gates_test_all = meta_test_all['cell_gating']"
   ]
  },
  {
   "cell_type": "code",
   "execution_count": null,
   "id": "2ef37b69-fe04-4d8b-a6a9-f507c587d92e",
   "metadata": {},
   "outputs": [],
   "source": [
    "usage_test_all.head()"
   ]
  },
  {
   "cell_type": "code",
   "execution_count": null,
   "id": "3f75aea8-25df-41ab-b4e7-d625cc114fae",
   "metadata": {},
   "outputs": [],
   "source": [
    "usage_train_all.head()"
   ]
  },
  {
   "cell_type": "code",
   "execution_count": null,
   "id": "56cf682d-42a9-4f0c-a60c-0f83af2997c4",
   "metadata": {},
   "outputs": [],
   "source": [
    "yasumizu_usage_sparks = pd.read_csv('../../../Data/PerDataset/Sparks2023/Yasumizu_NMFproject_Usage_TPMscale.tsv', sep='\\t', index_col=0)\n",
    "yasumizu_usage_sparks = yasumizu_usage_sparks.loc[meta_test_all.index, :]\n",
    "yasumizu_usage_sparks_norm = yasumizu_usage_sparks.div(yasumizu_usage_sparks.sum(axis=1), axis=0)"
   ]
  },
  {
   "cell_type": "code",
   "execution_count": null,
   "id": "93d04773-1eb3-4b19-ac62-76809c6bcaaa",
   "metadata": {},
   "outputs": [],
   "source": [
    "#usage_test_all_scaled = scaler.transform(usage_test_all[lineage_geps])\n",
    "usage_test_all_scaled = scaler_tcat.transform(usage_test_all)\n",
    "usage_test_all_scaled = pd.DataFrame(usage_test_all_scaled, index=usage_test_all.index,\n",
    "                                     columns=usage_test_all.columns)\n",
    "yasumizu_usage_sparks_norm_scaled = scaler_yasumizu.transform(yasumizu_usage_sparks_norm)\n",
    "yasumizu_usage_sparks_norm_scaled = pd.DataFrame(yasumizu_usage_sparks_norm_scaled,\n",
    "                                                 index=yasumizu_usage_sparks_norm.index,\n",
    "                                                 columns=yasumizu_usage_sparks_norm.columns)"
   ]
  },
  {
   "cell_type": "code",
   "execution_count": null,
   "id": "82f2b4f2-a9ed-40a1-947f-b4ad593cd452",
   "metadata": {},
   "outputs": [],
   "source": [
    "pred_test_tcat = model_tcat.predict(usage_test_all_scaled)\n",
    "pred_test_tcat = pd.Series(pred_test_tcat, index = usage_test_all_scaled.index)\n",
    "lr_probs_test_tcat = model_tcat.predict_proba(usage_test_all_scaled)\n",
    "\n",
    "pred_test_yazumizu = model_yasumizu.predict(yasumizu_usage_sparks_norm_scaled)\n",
    "pred_test_yazumizu = pd.Series(pred_test_yazumizu, index = yasumizu_usage_sparks_norm_scaled.index)\n",
    "lr_probs_test_yazumizu = model_yasumizu.predict_proba(yasumizu_usage_sparks_norm_scaled)\n"
   ]
  },
  {
   "cell_type": "code",
   "execution_count": null,
   "id": "a40b381f-b8ef-4a92-a310-0501ab45df8e",
   "metadata": {},
   "outputs": [],
   "source": [
    "(pred_test_tcat==gates_test_all).value_counts()"
   ]
  },
  {
   "cell_type": "code",
   "execution_count": null,
   "id": "0ddf8afe-7d24-4cbd-b901-73d14c22182b",
   "metadata": {},
   "outputs": [],
   "source": [
    "(pred_test_yazumizu==gates_test_all).value_counts()"
   ]
  },
  {
   "cell_type": "code",
   "execution_count": null,
   "id": "0f1ae4fa-4506-4039-9973-a7090af75fd9",
   "metadata": {
    "tags": []
   },
   "outputs": [],
   "source": [
    "nrow = 2\n",
    "ncol = 5\n",
    "(fig,axes) = plt.subplots(2, 5, figsize=(9,4), dpi=200, gridspec_kw={'hspace':.5, 'wspace':.5})\n",
    "\n",
    "roc_test_tcat = pd.DataFrame(columns = ['gate', 'sensitivity', 'specificity'])\n",
    "auc_test_tcat = pd.DataFrame(columns = ['gate', 'auc'])\n",
    "pred_roc_tcat = pd.DataFrame(columns = ['gate', 'sensitivity', 'specificity', 'accuracy'])\n",
    "\n",
    "for n, gate_type in enumerate(model_tcat.classes_):\n",
    "    j = (n)%ncol\n",
    "    k = (n)//ncol\n",
    "    ax = axes[k, j]\n",
    "    ax.set_title(gate_type, fontsize=10)\n",
    "    \n",
    "    \n",
    "    if j == 0:\n",
    "        ax.set_ylabel('True Positive Rate', fontsize=6)\n",
    "\n",
    "    if k ==1:\n",
    "        ax.set_xlabel('False Positive Rate', fontsize=6)\n",
    "    \n",
    "    print(gate_type)\n",
    "    lr_probs_gate = lr_probs_test_tcat[:, n]\n",
    "    lr_auc = roc_auc_score(gates_test_all==gate_type, lr_probs_gate)\n",
    "    lr_fpr, lr_tpr, _ = roc_curve(gates_test_all==gate_type, lr_probs_gate)\n",
    "    fpr_pred, tpr_pred, _ = metrics.roc_curve(gates_test_all==gate_type, \n",
    "                                              pred_test_tcat==gate_type, pos_label = True) \n",
    "    accuracy = metrics.balanced_accuracy_score(gates_test_all==gate_type, pred_test_tcat==gate_type)\n",
    "    auc_test_tcat = auc_test_tcat.append(pd.Series([gate_type, lr_auc], \n",
    "                                     index=auc_test_tcat.columns), ignore_index=True)\n",
    "    roc_test_tcat = pd.concat([roc_test_tcat, pd.DataFrame(dict(zip(roc_test_tcat.columns, [gate_type, \n",
    "                                                              lr_tpr, 1-lr_fpr])))])\n",
    "    pred_roc_tcat = pd.concat([pred_roc_tcat, pd.DataFrame(dict(zip(pred_roc_tcat.columns, \n",
    "                                              [gate_type, tpr_pred[1], (1-fpr_pred)[1], accuracy])),\n",
    "                                                index = [gate_type])])\n",
    "\n",
    "\n",
    "    ax.plot(lr_fpr, lr_tpr, marker='.', label='TCAT', color='b')\n",
    "    ax.scatter(x = fpr_pred[1], y = tpr_pred[1], color = 'k', zorder = 3)\n",
    "\n",
    "    ax.text(.15, 0, 'AUC: %.3f' % lr_auc)\n",
    "    # # plt.legend()\n",
    "    \n",
    "plt.suptitle('TCAT')\n"
   ]
  },
  {
   "cell_type": "code",
   "execution_count": null,
   "id": "71f9b44c-5c8a-4a62-9bc7-6f02484dfd85",
   "metadata": {},
   "outputs": [],
   "source": [
    "nrow = 2\n",
    "ncol = 5\n",
    "(fig,axes) = plt.subplots(2, 5, figsize=(9,4), dpi=200, gridspec_kw={'hspace':.5, 'wspace':.5})\n",
    "\n",
    "roc_test_yasumizu = pd.DataFrame(columns = ['gate', 'sensitivity', 'specificity'])\n",
    "auc_test_yasumizu = pd.DataFrame(columns = ['gate', 'auc'])\n",
    "pred_roc_yasumizu = pd.DataFrame(columns = ['gate', 'sensitivity', 'specificity', 'accuracy'])\n",
    "\n",
    "for n, gate_type in enumerate(model_yasumizu.classes_):\n",
    "    j = (n)%ncol\n",
    "    k = (n)//ncol\n",
    "    ax = axes[k, j]\n",
    "    ax.set_title(gate_type, fontsize=10)\n",
    "\n",
    "    if j == 0:\n",
    "        ax.set_ylabel('True Positive Rate', fontsize=6)\n",
    "\n",
    "    if k ==1:\n",
    "        ax.set_xlabel('False Positive Rate', fontsize=6)\n",
    "\n",
    "    print(gate_type)\n",
    "    lr_probs_gate = lr_probs_test_yazumizu[:, n]\n",
    "    lr_auc = roc_auc_score(gates_test_all==gate_type, lr_probs_gate)\n",
    "    lr_fpr, lr_tpr, _ = roc_curve(gates_test_all==gate_type, lr_probs_gate)\n",
    "    fpr_pred, tpr_pred, _ = metrics.roc_curve(gates_test_all==gate_type, \n",
    "                                              pred_test_yazumizu==gate_type, pos_label = True) \n",
    "    accuracy = metrics.balanced_accuracy_score(gates_test_all==gate_type, pred_test_yazumizu==gate_type)\n",
    "    auc_test_yasumizu = auc_test_yasumizu.append(pd.Series([gate_type, lr_auc], \n",
    "                                     index=auc_test_yasumizu.columns), ignore_index=True)\n",
    "    roc_test_yasumizu = pd.concat([roc_test_yasumizu, pd.DataFrame(dict(zip(roc_test_yasumizu.columns, [gate_type, \n",
    "                                                              lr_tpr, 1-lr_fpr])))])\n",
    "    pred_roc_yasumizu = pd.concat([pred_roc_yasumizu, pd.DataFrame(dict(zip(pred_roc_yasumizu.columns, \n",
    "                                              [gate_type, tpr_pred[1], (1-fpr_pred)[1], accuracy])),\n",
    "                                                index = [gate_type])])\n",
    "\n",
    "\n",
    "    ax.plot(lr_fpr, lr_tpr, marker='.', label='Yasumizu', color='b')\n",
    "    ax.scatter(x = fpr_pred[1], y = tpr_pred[1], color = 'k', zorder = 3)\n",
    "\n",
    "    ax.text(.15, 0, 'AUC: %.3f' % lr_auc)\n",
    "    # # plt.legend()\n",
    "    \n",
    "    \n",
    "plt.suptitle('Yasumizu')\n",
    "\n"
   ]
  },
  {
   "cell_type": "code",
   "execution_count": null,
   "id": "5e00d3ae-ba55-4265-8c90-ba1007cefac7",
   "metadata": {},
   "outputs": [],
   "source": [
    "nrow = 2\n",
    "ncol = 5\n",
    "(fig,axes) = plt.subplots(2, 5, figsize=(9,4), dpi=200, gridspec_kw={'hspace':.5, 'wspace':.5})\n",
    "\n",
    "for n, gate_type in enumerate(model_tcat.classes_):\n",
    "    j = (n)%ncol\n",
    "    k = (n)//ncol\n",
    "    ax = axes[k, j]\n",
    "    ax.set_title(gate_type, fontsize=10)\n",
    "    \n",
    "    \n",
    "    if j == 0:\n",
    "        ax.set_ylabel('True Positive Rate', fontsize=6)\n",
    "\n",
    "    if k ==1:\n",
    "        ax.set_xlabel('False Positive Rate', fontsize=6)\n",
    "    \n",
    "    \n",
    "    \n",
    "    print(gate_type)\n",
    "    ind = roc_test_tcat['gate']==gate_type\n",
    "    ax.plot(1-roc_test_tcat.loc[ind, 'specificity'],\n",
    "            roc_test_tcat.loc[ind, 'sensitivity'],\n",
    "            marker='.', label='TCAT', color='orange')\n",
    "    \n",
    "    ax.scatter(x = 1-pred_roc_tcat.loc[gate_type, 'specificity'],\n",
    "               y = pred_roc_tcat.loc[gate_type, 'sensitivity'], color = 'k', zorder = 3)\n",
    "\n",
    "    ax.text(.1, .1, 'TCAT AUC: %.3f' % auc_test_tcat.loc[auc_test_tcat['gate']==gate_type, 'auc'].iloc[0],\n",
    "            color='orange', fontsize=6)\n",
    "\n",
    "    ind = roc_test_yasumizu['gate']==gate_type\n",
    "    ax.plot(1-roc_test_yasumizu.loc[ind, 'specificity'],\n",
    "            roc_test_yasumizu.loc[ind, 'sensitivity'],\n",
    "            marker='.', label='Yasumizu', color='blue')\n",
    "    \n",
    "    \n",
    "    \n",
    "    ax.scatter(x = 1-pred_roc_yasumizu.loc[gate_type, 'specificity'],\n",
    "               y = pred_roc_yasumizu.loc[gate_type, 'sensitivity'], color = 'k', zorder = 3)\n",
    "\n",
    "    ax.text(.1, 0, 'Yasumizu AUC: %.3f' % auc_test_yasumizu.loc[auc_test_yasumizu['gate']==gate_type, 'auc'].iloc[0],\n",
    "            color='blue', fontsize=6)   \n",
    "\n",
    "    \n",
    "    \n",
    "    \n",
    "    \n"
   ]
  },
  {
   "cell_type": "code",
   "execution_count": null,
   "id": "5518f33a-1d60-40bc-80b9-bec2bfb9f8d8",
   "metadata": {},
   "outputs": [],
   "source": [
    "paths = {}\n",
    "\n",
    "paths.update({\n",
    "        'roc_TCAT_MultinomialLogisticRegression' : os.path.join(test_dir, 'ROC_TCAT_MultinomialLogisticRegression.tsv'),\n",
    "        'auc_TCAT_MultinomialLogisticRegression': os.path.join(test_dir, 'AUC_TCAT_MultinomialLogisticRegression.tsv'),\n",
    "        'pred_TCAT_MultinomialLogisticRegression': os.path.join(test_dir, 'Predictions_TCAT_MultinomialLogisticRegression.tsv'),\n",
    "        'predroc_TCAT_MultinomialLogisticRegression': os.path.join(test_dir, 'ROCPredictions_TCAT_MultinomialLogisticRegression.tsv'),\n",
    "        'model_TCAT_MultinomialLogisticRegression': os.path.join(test_dir, 'model_TCAT_MultinomialLogisticRegression.pkl'),\n",
    "    \n",
    "    \n",
    "        'roc_Yasu_MultinomialLogisticRegression' : os.path.join(test_dir, 'ROC_Yasu_MultinomialLogisticRegression.tsv'),\n",
    "        'auc_Yasu_MultinomialLogisticRegression': os.path.join(test_dir, 'AUC_Yasu_MultinomialLogisticRegression.tsv'),\n",
    "        'pred_Yasu_MultinomialLogisticRegression': os.path.join(test_dir, 'Predictions_Yasu_MultinomialLogisticRegression.tsv'),\n",
    "        'predroc_Yasu_MultinomialLogisticRegression': os.path.join(test_dir, 'ROCPredictions_Yasu_MultinomialLogisticRegression.tsv'),    \n",
    "        'model_Yasu_MultinomialLogisticRegression': os.path.join(test_dir, 'model_Yasu_MultinomialLogisticRegression.pkl'),\n",
    "    \n",
    "    \n",
    "        })\n",
    "paths"
   ]
  },
  {
   "cell_type": "code",
   "execution_count": null,
   "id": "e97cd068-baec-4b00-9cb5-d009b9b34d53",
   "metadata": {},
   "outputs": [],
   "source": [
    "auc_test_tcat.to_csv(paths['auc_TCAT_MultinomialLogisticRegression'], '\\t')\n",
    "roc_test_tcat.to_csv(paths['roc_TCAT_MultinomialLogisticRegression'], '\\t')\n",
    "pred_test_tcat.to_csv(paths['pred_TCAT_MultinomialLogisticRegression'], '\\t')\n",
    "pred_roc_tcat.to_csv(paths['predroc_TCAT_MultinomialLogisticRegression'], '\\t')\n",
    "joblib.dump({'Scaler':scaler_tcat , 'Multinomial_Predictor':model_tcat}, paths['model_TCAT_MultinomialLogisticRegression'])\n",
    "\n",
    "\n",
    "auc_test_yasumizu.to_csv(paths['auc_Yasu_MultinomialLogisticRegression'], '\\t')\n",
    "roc_test_yasumizu.to_csv(paths['roc_Yasu_MultinomialLogisticRegression'], '\\t')\n",
    "pred_test_yazumizu.to_csv(paths['pred_Yasu_MultinomialLogisticRegression'], '\\t')\n",
    "pred_roc_yasumizu.to_csv(paths['predroc_Yasu_MultinomialLogisticRegression'], '\\t')\n",
    "joblib.dump({'Scaler':scaler_yasumizu , 'Multinomial_Predictor':model_yasumizu}, paths['model_Yasu_MultinomialLogisticRegression'])\n"
   ]
  }
 ],
 "metadata": {
  "kernelspec": {
   "display_name": "Python 3",
   "language": "python",
   "name": "python3"
  },
  "language_info": {
   "codemirror_mode": {
    "name": "ipython",
    "version": 3
   },
   "file_extension": ".py",
   "mimetype": "text/x-python",
   "name": "python",
   "nbconvert_exporter": "python",
   "pygments_lexer": "ipython3",
   "version": "3.6.15"
  }
 },
 "nbformat": 4,
 "nbformat_minor": 5
}
