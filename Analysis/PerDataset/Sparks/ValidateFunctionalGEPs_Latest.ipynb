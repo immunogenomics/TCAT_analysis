{
 "cells": [
  {
   "cell_type": "code",
   "execution_count": 1,
   "id": "02f783cf-1459-4379-b268-cab1b3a48770",
   "metadata": {
    "tags": []
   },
   "outputs": [
    {
     "name": "stderr",
     "output_type": "stream",
     "text": [
      "/data/srlab1/mcurtis/miniforge3/envs/py310/lib/python3.10/site-packages/dask/dataframe/__init__.py:31: FutureWarning: \n",
      "Dask dataframe query planning is disabled because dask-expr is not installed.\n",
      "\n",
      "You can install it with `pip install dask[dataframe]` or `conda install dask`.\n",
      "This will raise in a future version.\n",
      "\n",
      "  warnings.warn(msg, FutureWarning)\n"
     ]
    }
   ],
   "source": [
    "%matplotlib inline\n",
    "\n",
    "import pandas as pd\n",
    "import scanpy as sc\n",
    "import numpy as np\n",
    "import matplotlib.pyplot as plt\n",
    "import scipy.sparse as sp\n",
    "from scipy.stats import pearsonr\n",
    "\n",
    "from scipy.cluster.hierarchy import linkage\n",
    "import scipy.spatial.distance as ssd\n",
    "from matplotlib.pyplot import rc_context\n",
    "\n",
    "import seaborn as sns\n",
    "import sys\n",
    "from scipy.sparse import hstack, csr_matrix\n",
    "from sklearn.feature_selection import mutual_info_classif\n",
    "import os\n",
    "from cnmf import cNMF, load_df_from_npz\n",
    "import harmonypy\n",
    "sys.path.append('../../../Code/')\n",
    "# from utils import TCAT\n",
    "\n",
    "from sklearn import metrics\n",
    "from utils import read_dataset_log\n",
    "import harmonypy as hm\n",
    "from sklearn.preprocessing import MinMaxScaler\n",
    "from adjustText import adjust_text\n",
    "\n",
    "from datashader.mpl_ext import dsshow\n",
    "import datashader as ds\n",
    "\n"
   ]
  },
  {
   "cell_type": "code",
   "execution_count": 2,
   "id": "52add378-9ec8-49a1-bd5c-c4b9eb2d74a9",
   "metadata": {},
   "outputs": [],
   "source": [
    "from matplotlib import rcParams, font_manager\n",
    "import matplotlib\n",
    "\n",
    "\n",
    "rcParams['pdf.fonttype'] = 42\n",
    "rcParams['ps.fonttype'] = 42\n",
    "rcParams['font.family'] = 'sans-serif'\n",
    "rcParams['font.sans-serif'] = ['Arial']\n",
    "label_fontsize = 10\n",
    "tick_fontsize = 8"
   ]
  },
  {
   "cell_type": "code",
   "execution_count": 3,
   "id": "f9a79926-1169-4055-8440-3562110eb0a6",
   "metadata": {},
   "outputs": [],
   "source": [
    "import matplotlib.colors\n",
    "cmap = plt.cm.hsv\n",
    "cmaplist = [cmap(i) for i in range(cmap.N)]\n",
    "cmaplist = cmaplist[0:round(len(cmaplist)*0.7)]\n",
    "cmaplist.reverse()\n",
    "cmap = matplotlib.colors.LinearSegmentedColormap.from_list('', cmaplist, cmap.N)\n"
   ]
  },
  {
   "cell_type": "code",
   "execution_count": 4,
   "id": "6788828b-3df6-4ea7-9c8e-55e8d1c3073b",
   "metadata": {},
   "outputs": [],
   "source": [
    "figdir = '../../../Figures/Components'"
   ]
  },
  {
   "cell_type": "code",
   "execution_count": 5,
   "id": "bf42b873-b6a3-406e-8535-072c27ceace5",
   "metadata": {},
   "outputs": [
    {
     "name": "stdout",
     "output_type": "stream",
     "text": [
      "/data/srlab1/TCAT/Analysis/PerDataset/Sparks\n"
     ]
    }
   ],
   "source": [
    "! pwd"
   ]
  },
  {
   "cell_type": "code",
   "execution_count": 6,
   "id": "6dbc5a43-e4b2-4200-9ef8-64320404cb4e",
   "metadata": {},
   "outputs": [
    {
     "data": {
      "text/html": [
       "<div>\n",
       "<style scoped>\n",
       "    .dataframe tbody tr th:only-of-type {\n",
       "        vertical-align: middle;\n",
       "    }\n",
       "\n",
       "    .dataframe tbody tr th {\n",
       "        vertical-align: top;\n",
       "    }\n",
       "\n",
       "    .dataframe thead th {\n",
       "        text-align: right;\n",
       "    }\n",
       "</style>\n",
       "<table border=\"1\" class=\"dataframe\">\n",
       "  <thead>\n",
       "    <tr style=\"text-align: right;\">\n",
       "      <th></th>\n",
       "      <th>dataset</th>\n",
       "      <th>usage_fn</th>\n",
       "      <th>gene_scores_fn</th>\n",
       "      <th>gene_tpm_fn</th>\n",
       "      <th>tcat_fn</th>\n",
       "      <th>tcat_fn_withsingletons</th>\n",
       "      <th>scores_fn</th>\n",
       "      <th>manual_gating_fn</th>\n",
       "      <th>manual_activation_gating_fn</th>\n",
       "      <th>activation_score_fn</th>\n",
       "      <th>...</th>\n",
       "      <th>k</th>\n",
       "      <th>dt</th>\n",
       "      <th>processed_forcnmf_fn</th>\n",
       "      <th>tpm_counts_for_cnmf_fn</th>\n",
       "      <th>raw_counts_filt_fn</th>\n",
       "      <th>raw_counts_fn</th>\n",
       "      <th>dataset_type</th>\n",
       "      <th>tissue_type</th>\n",
       "      <th>context_label</th>\n",
       "      <th>tcat_fn_old</th>\n",
       "    </tr>\n",
       "    <tr>\n",
       "      <th>dataset</th>\n",
       "      <th></th>\n",
       "      <th></th>\n",
       "      <th></th>\n",
       "      <th></th>\n",
       "      <th></th>\n",
       "      <th></th>\n",
       "      <th></th>\n",
       "      <th></th>\n",
       "      <th></th>\n",
       "      <th></th>\n",
       "      <th></th>\n",
       "      <th></th>\n",
       "      <th></th>\n",
       "      <th></th>\n",
       "      <th></th>\n",
       "      <th></th>\n",
       "      <th></th>\n",
       "      <th></th>\n",
       "      <th></th>\n",
       "      <th></th>\n",
       "      <th></th>\n",
       "    </tr>\n",
       "  </thead>\n",
       "  <tbody>\n",
       "    <tr>\n",
       "      <th>AMP-RA</th>\n",
       "      <td>AMP-RA</td>\n",
       "      <td>/data/srlab1/TCAT/Data/PerDataset/AMPRA/AMPRA....</td>\n",
       "      <td>/data/srlab1/TCAT/Data/PerDataset/AMPRA/AMPRA....</td>\n",
       "      <td>/data/srlab1/TCAT/Data/PerDataset/AMPRA/AMPRA....</td>\n",
       "      <td>/data/srlab1/TCAT/Data/TCAT/TCAT_Usage.2023101...</td>\n",
       "      <td>/data/srlab1/TCAT/Data/TCAT/TCAT_Usage.2023101...</td>\n",
       "      <td>NaN</td>\n",
       "      <td>NaN</td>\n",
       "      <td>/data/srlab1/TCAT/Data/PerDataset/AMPRA/Manual...</td>\n",
       "      <td>/data/srlab1/TCAT/Data/PerDataset/AMPRA/Activa...</td>\n",
       "      <td>...</td>\n",
       "      <td>34.0</td>\n",
       "      <td>0_15</td>\n",
       "      <td>/data/srlab1/TCAT/Data/PerDataset/AMPRA/AMP_AD...</td>\n",
       "      <td>/data/srlab1/TCAT/Data/PerDataset/AMPRA/AMP_AD...</td>\n",
       "      <td>/data/srlab1/TCAT/Data/PerDataset/AMPRA/AMP_AD...</td>\n",
       "      <td>/data/srlab1/TCAT/Data/PerDataset/AMPRA/AMP_AD...</td>\n",
       "      <td>discovery</td>\n",
       "      <td>Synovium</td>\n",
       "      <td>RA+OA</td>\n",
       "      <td>/data/srlab1/TCAT/Data/TCAT/TCAT_Usage.2023101...</td>\n",
       "    </tr>\n",
       "    <tr>\n",
       "      <th>Pan-Cancer</th>\n",
       "      <td>Pan-Cancer</td>\n",
       "      <td>/data/srlab1/TCAT/Data/PerDataset/Pancancer/Pa...</td>\n",
       "      <td>/data/srlab1/TCAT/Data/PerDataset/Pancancer/Pa...</td>\n",
       "      <td>/data/srlab1/TCAT/Data/PerDataset/Pancancer/Pa...</td>\n",
       "      <td>/data/srlab1/TCAT/Data/TCAT/TCAT_Usage.2023101...</td>\n",
       "      <td>/data/srlab1/TCAT/Data/TCAT/TCAT_Usage.2023101...</td>\n",
       "      <td>NaN</td>\n",
       "      <td>NaN</td>\n",
       "      <td>NaN</td>\n",
       "      <td>/data/srlab1/TCAT/Data/PerDataset/Pancancer/Ac...</td>\n",
       "      <td>...</td>\n",
       "      <td>38.0</td>\n",
       "      <td>0.15</td>\n",
       "      <td>/data/srlab1/TCAT/Data/PerDataset/Pancancer/pa...</td>\n",
       "      <td>NaN</td>\n",
       "      <td>/data/srlab1/TCAT/Data/PerDataset/Pancancer/pa...</td>\n",
       "      <td>/data/srlab1/TCAT/Data/PerDataset/Pancancer/pa...</td>\n",
       "      <td>discovery</td>\n",
       "      <td>Pan-Tissue</td>\n",
       "      <td>Cancer+Healthy</td>\n",
       "      <td>/data/srlab1/TCAT/Data/TCAT/TCAT_Usage.2023101...</td>\n",
       "    </tr>\n",
       "    <tr>\n",
       "      <th>TBRU</th>\n",
       "      <td>TBRU</td>\n",
       "      <td>/data/srlab1/TCAT/Data/PerDataset/TBRU/TBRU.20...</td>\n",
       "      <td>/data/srlab1/TCAT/Data/PerDataset/TBRU/TBRU.20...</td>\n",
       "      <td>/data/srlab1/TCAT/Data/PerDataset/TBRU/TBRU.20...</td>\n",
       "      <td>/data/srlab1/TCAT/Data/TCAT/TCAT_Usage.2023101...</td>\n",
       "      <td>/data/srlab1/TCAT/Data/TCAT/TCAT_Usage.2023101...</td>\n",
       "      <td>NaN</td>\n",
       "      <td>NaN</td>\n",
       "      <td>/data/srlab1/TCAT/Data/PerDataset/TBRU/ManualG...</td>\n",
       "      <td>/data/srlab1/TCAT/Data/PerDataset/TBRU/Activat...</td>\n",
       "      <td>...</td>\n",
       "      <td>36.0</td>\n",
       "      <td>0_20</td>\n",
       "      <td>/data/srlab1/TCAT/Data/PerDataset/TBRU/tbru_ex...</td>\n",
       "      <td>/data/srlab1/TCAT/Data/PerDataset/TBRU/tbru_ex...</td>\n",
       "      <td>/data/srlab1/TCAT/Data/PerDataset/TBRU/tbru_ex...</td>\n",
       "      <td>/data/srlab1/TCAT/Data/PerDataset/TBRU/tbru_ex...</td>\n",
       "      <td>discovery</td>\n",
       "      <td>Blood</td>\n",
       "      <td>Healthy</td>\n",
       "      <td>/data/srlab1/TCAT/Data/TCAT/TCAT_Usage.2023101...</td>\n",
       "    </tr>\n",
       "    <tr>\n",
       "      <th>HIV-Vaccine</th>\n",
       "      <td>HIV-Vaccine</td>\n",
       "      <td>/data/srlab1/TCAT/Data/PerDataset/HaoEtAl/HIVV...</td>\n",
       "      <td>/data/srlab1/TCAT/Data/PerDataset/HaoEtAl/HIVV...</td>\n",
       "      <td>/data/srlab1/TCAT/Data/PerDataset/HaoEtAl/HIVV...</td>\n",
       "      <td>/data/srlab1/TCAT/Data/TCAT/TCAT_Usage.2023101...</td>\n",
       "      <td>/data/srlab1/TCAT/Data/TCAT/TCAT_Usage.2023101...</td>\n",
       "      <td>NaN</td>\n",
       "      <td>/data/srlab1/TCAT/Data/PerDataset/HaoEtAl/Manu...</td>\n",
       "      <td>NaN</td>\n",
       "      <td>/data/srlab1/TCAT/Data/PerDataset/HaoEtAl/Acti...</td>\n",
       "      <td>...</td>\n",
       "      <td>31.0</td>\n",
       "      <td>0_15</td>\n",
       "      <td>/data/srlab1/TCAT/Data/PerDataset/HaoEtAl/haoe...</td>\n",
       "      <td>/data/srlab1/TCAT/Data/PerDataset/HaoEtAl/haoe...</td>\n",
       "      <td>/data/srlab1/TCAT/Data/PerDataset/HaoEtAl/haoe...</td>\n",
       "      <td>/data/srlab1/TCAT/Data/PerDataset/HaoEtAl/haoe...</td>\n",
       "      <td>discovery</td>\n",
       "      <td>Blood</td>\n",
       "      <td>Post-Vaccine+Healthy</td>\n",
       "      <td>/data/srlab1/TCAT/Data/TCAT/TCAT_Usage.2023101...</td>\n",
       "    </tr>\n",
       "    <tr>\n",
       "      <th>UK-Covid</th>\n",
       "      <td>UK-Covid</td>\n",
       "      <td>/data/srlab1/TCAT/Data/PerDataset/UKCOVID/UKCO...</td>\n",
       "      <td>/data/srlab1/TCAT/Data/PerDataset/UKCOVID/UKCO...</td>\n",
       "      <td>/data/srlab1/TCAT/Data/PerDataset/UKCOVID/UKCO...</td>\n",
       "      <td>/data/srlab1/TCAT/Data/TCAT/TCAT_Usage.2023101...</td>\n",
       "      <td>/data/srlab1/TCAT/Data/TCAT/TCAT_Usage.2023101...</td>\n",
       "      <td>NaN</td>\n",
       "      <td>/data/srlab1/TCAT/Data/PerDataset/UKCOVID/Manu...</td>\n",
       "      <td>/data/srlab1/TCAT/Data/PerDataset/UKCOVID/Manu...</td>\n",
       "      <td>/data/srlab1/TCAT/Data/PerDataset/UKCOVID/Acti...</td>\n",
       "      <td>...</td>\n",
       "      <td>44.0</td>\n",
       "      <td>0_20</td>\n",
       "      <td>/data/srlab1/TCAT/Data/PerDataset/UKCOVID/hani...</td>\n",
       "      <td>NaN</td>\n",
       "      <td>/data/srlab1/TCAT/Data/PerDataset/UKCOVID/hani...</td>\n",
       "      <td>/data/srlab1/TCAT/Data/PerDataset/UKCOVID/hani...</td>\n",
       "      <td>discovery</td>\n",
       "      <td>Blood</td>\n",
       "      <td>Covid-19+Healthy</td>\n",
       "      <td>/data/srlab1/TCAT/Data/TCAT/TCAT_Usage.2023101...</td>\n",
       "    </tr>\n",
       "    <tr>\n",
       "      <th>COMBAT</th>\n",
       "      <td>COMBAT</td>\n",
       "      <td>/data/srlab1/TCAT/Data/PerDataset/COMBAT/COMBA...</td>\n",
       "      <td>/data/srlab1/TCAT/Data/PerDataset/COMBAT/COMBA...</td>\n",
       "      <td>/data/srlab1/TCAT/Data/PerDataset/COMBAT/COMBA...</td>\n",
       "      <td>/data/srlab1/TCAT/Data/TCAT/TCAT_Usage.2023101...</td>\n",
       "      <td>/data/srlab1/TCAT/Data/TCAT/TCAT_Usage.2023101...</td>\n",
       "      <td>NaN</td>\n",
       "      <td>/data/srlab1/TCAT/Data/PerDataset/COMBAT/Manua...</td>\n",
       "      <td>/data/srlab1/TCAT/Data/PerDataset/COMBAT/Manua...</td>\n",
       "      <td>/data/srlab1/TCAT/Data/PerDataset/COMBAT/Activ...</td>\n",
       "      <td>...</td>\n",
       "      <td>35.0</td>\n",
       "      <td>0_15</td>\n",
       "      <td>/data/srlab1/TCAT/Data/PerDataset/COMBAT/COMBA...</td>\n",
       "      <td>/data/srlab1/TCAT/Data/PerDataset/COMBAT/COMBA...</td>\n",
       "      <td>/data/srlab1/TCAT/Data/PerDataset/COMBAT/COMBA...</td>\n",
       "      <td>/data/srlab1/TCAT/Data/PerDataset/COMBAT/COMBA...</td>\n",
       "      <td>discovery</td>\n",
       "      <td>Blood</td>\n",
       "      <td>Covid-19+Healthy</td>\n",
       "      <td>/data/srlab1/TCAT/Data/TCAT/TCAT_Usage.2023101...</td>\n",
       "    </tr>\n",
       "    <tr>\n",
       "      <th>Pan-Tissue</th>\n",
       "      <td>Pan-Tissue</td>\n",
       "      <td>/data/srlab1/TCAT/Data/PerDataset/XTissueImmun...</td>\n",
       "      <td>/data/srlab1/TCAT/Data/PerDataset/XTissueImmun...</td>\n",
       "      <td>/data/srlab1/TCAT/Data/PerDataset/XTissueImmun...</td>\n",
       "      <td>/data/srlab1/TCAT/Data/TCAT/TCAT_Usage.2023101...</td>\n",
       "      <td>/data/srlab1/TCAT/Data/TCAT/TCAT_Usage.2023101...</td>\n",
       "      <td>NaN</td>\n",
       "      <td>NaN</td>\n",
       "      <td>NaN</td>\n",
       "      <td>/data/srlab1/TCAT/Data/PerDataset/XTissueImmun...</td>\n",
       "      <td>...</td>\n",
       "      <td>39.0</td>\n",
       "      <td>0_20</td>\n",
       "      <td>/data/srlab1/TCAT/Data/PerDataset/XTissueImmun...</td>\n",
       "      <td>NaN</td>\n",
       "      <td>/data/srlab1/TCAT/Data/PerDataset/XTissueImmun...</td>\n",
       "      <td>/data/srlab1/TCAT/Data/PerDataset/XTissueImmun...</td>\n",
       "      <td>discovery</td>\n",
       "      <td>Pan-Tissue</td>\n",
       "      <td>Non-Cancer/Non-Viral</td>\n",
       "      <td>/data/srlab1/TCAT/Data/TCAT/TCAT_Usage.2023101...</td>\n",
       "    </tr>\n",
       "    <tr>\n",
       "      <th>Sparks</th>\n",
       "      <td>Sparks</td>\n",
       "      <td>NaN</td>\n",
       "      <td>NaN</td>\n",
       "      <td>NaN</td>\n",
       "      <td>/data/srlab1/TCAT/Data/TCAT/TCAT_Usage.2023101...</td>\n",
       "      <td>NaN</td>\n",
       "      <td>/data/srlab1/TCAT/Data/PerDataset/Sparks2023/T...</td>\n",
       "      <td>/data/srlab1/TCAT/Data/PerDataset/Sparks2023/M...</td>\n",
       "      <td>/data/srlab1/TCAT/Data/PerDataset/Sparks2023/M...</td>\n",
       "      <td>/data/srlab1/TCAT/Data/PerDataset/Sparks2023/A...</td>\n",
       "      <td>...</td>\n",
       "      <td>NaN</td>\n",
       "      <td>NaN</td>\n",
       "      <td>NaN</td>\n",
       "      <td>NaN</td>\n",
       "      <td>/data/srlab1/TCAT/Data/PerDataset/Sparks2023/T...</td>\n",
       "      <td>/data/srlab1/TCAT/Data/PerDataset/Sparks2023/T...</td>\n",
       "      <td>other</td>\n",
       "      <td>Blood</td>\n",
       "      <td>NaN</td>\n",
       "      <td>/data/srlab1/TCAT/Data/TCAT/TCAT_Usage.2023101...</td>\n",
       "    </tr>\n",
       "    <tr>\n",
       "      <th>Stimseq</th>\n",
       "      <td>Stimseq</td>\n",
       "      <td>NaN</td>\n",
       "      <td>NaN</td>\n",
       "      <td>NaN</td>\n",
       "      <td>/data/srlab1/TCAT/Data/PerDataset/Stimseq/TCAT...</td>\n",
       "      <td>NaN</td>\n",
       "      <td>/data/srlab1/TCAT/Data/PerDataset/Stimseq/TCAT...</td>\n",
       "      <td>/data/srlab1/TCAT/Data/PerDataset/Stimseq/Manu...</td>\n",
       "      <td>/data/srlab1/TCAT/Data/PerDataset/Stimseq/Manu...</td>\n",
       "      <td>/data/srlab1/TCAT/Data/PerDataset/Stimseq/Acti...</td>\n",
       "      <td>...</td>\n",
       "      <td>NaN</td>\n",
       "      <td>NaN</td>\n",
       "      <td>/data/srlab1/TCAT/Data/PerDataset/Stimseq/stim...</td>\n",
       "      <td>NaN</td>\n",
       "      <td>/data/srlab1/TCAT/Data/PerDataset/Stimseq/raw....</td>\n",
       "      <td>/data/srlab1/TCAT/Data/PerDataset/Stimseq/raw....</td>\n",
       "      <td>other</td>\n",
       "      <td>Blood</td>\n",
       "      <td>NaN</td>\n",
       "      <td>/data/srlab1/TCAT/Data/PerDataset/Stimseq/TCAT...</td>\n",
       "    </tr>\n",
       "  </tbody>\n",
       "</table>\n",
       "<p>9 rows × 28 columns</p>\n",
       "</div>"
      ],
      "text/plain": [
       "                 dataset                                           usage_fn  \\\n",
       "dataset                                                                       \n",
       "AMP-RA            AMP-RA  /data/srlab1/TCAT/Data/PerDataset/AMPRA/AMPRA....   \n",
       "Pan-Cancer    Pan-Cancer  /data/srlab1/TCAT/Data/PerDataset/Pancancer/Pa...   \n",
       "TBRU                TBRU  /data/srlab1/TCAT/Data/PerDataset/TBRU/TBRU.20...   \n",
       "HIV-Vaccine  HIV-Vaccine  /data/srlab1/TCAT/Data/PerDataset/HaoEtAl/HIVV...   \n",
       "UK-Covid        UK-Covid  /data/srlab1/TCAT/Data/PerDataset/UKCOVID/UKCO...   \n",
       "COMBAT            COMBAT  /data/srlab1/TCAT/Data/PerDataset/COMBAT/COMBA...   \n",
       "Pan-Tissue    Pan-Tissue  /data/srlab1/TCAT/Data/PerDataset/XTissueImmun...   \n",
       "Sparks            Sparks                                                NaN   \n",
       "Stimseq          Stimseq                                                NaN   \n",
       "\n",
       "                                                gene_scores_fn  \\\n",
       "dataset                                                          \n",
       "AMP-RA       /data/srlab1/TCAT/Data/PerDataset/AMPRA/AMPRA....   \n",
       "Pan-Cancer   /data/srlab1/TCAT/Data/PerDataset/Pancancer/Pa...   \n",
       "TBRU         /data/srlab1/TCAT/Data/PerDataset/TBRU/TBRU.20...   \n",
       "HIV-Vaccine  /data/srlab1/TCAT/Data/PerDataset/HaoEtAl/HIVV...   \n",
       "UK-Covid     /data/srlab1/TCAT/Data/PerDataset/UKCOVID/UKCO...   \n",
       "COMBAT       /data/srlab1/TCAT/Data/PerDataset/COMBAT/COMBA...   \n",
       "Pan-Tissue   /data/srlab1/TCAT/Data/PerDataset/XTissueImmun...   \n",
       "Sparks                                                     NaN   \n",
       "Stimseq                                                    NaN   \n",
       "\n",
       "                                                   gene_tpm_fn  \\\n",
       "dataset                                                          \n",
       "AMP-RA       /data/srlab1/TCAT/Data/PerDataset/AMPRA/AMPRA....   \n",
       "Pan-Cancer   /data/srlab1/TCAT/Data/PerDataset/Pancancer/Pa...   \n",
       "TBRU         /data/srlab1/TCAT/Data/PerDataset/TBRU/TBRU.20...   \n",
       "HIV-Vaccine  /data/srlab1/TCAT/Data/PerDataset/HaoEtAl/HIVV...   \n",
       "UK-Covid     /data/srlab1/TCAT/Data/PerDataset/UKCOVID/UKCO...   \n",
       "COMBAT       /data/srlab1/TCAT/Data/PerDataset/COMBAT/COMBA...   \n",
       "Pan-Tissue   /data/srlab1/TCAT/Data/PerDataset/XTissueImmun...   \n",
       "Sparks                                                     NaN   \n",
       "Stimseq                                                    NaN   \n",
       "\n",
       "                                                       tcat_fn  \\\n",
       "dataset                                                          \n",
       "AMP-RA       /data/srlab1/TCAT/Data/TCAT/TCAT_Usage.2023101...   \n",
       "Pan-Cancer   /data/srlab1/TCAT/Data/TCAT/TCAT_Usage.2023101...   \n",
       "TBRU         /data/srlab1/TCAT/Data/TCAT/TCAT_Usage.2023101...   \n",
       "HIV-Vaccine  /data/srlab1/TCAT/Data/TCAT/TCAT_Usage.2023101...   \n",
       "UK-Covid     /data/srlab1/TCAT/Data/TCAT/TCAT_Usage.2023101...   \n",
       "COMBAT       /data/srlab1/TCAT/Data/TCAT/TCAT_Usage.2023101...   \n",
       "Pan-Tissue   /data/srlab1/TCAT/Data/TCAT/TCAT_Usage.2023101...   \n",
       "Sparks       /data/srlab1/TCAT/Data/TCAT/TCAT_Usage.2023101...   \n",
       "Stimseq      /data/srlab1/TCAT/Data/PerDataset/Stimseq/TCAT...   \n",
       "\n",
       "                                        tcat_fn_withsingletons  \\\n",
       "dataset                                                          \n",
       "AMP-RA       /data/srlab1/TCAT/Data/TCAT/TCAT_Usage.2023101...   \n",
       "Pan-Cancer   /data/srlab1/TCAT/Data/TCAT/TCAT_Usage.2023101...   \n",
       "TBRU         /data/srlab1/TCAT/Data/TCAT/TCAT_Usage.2023101...   \n",
       "HIV-Vaccine  /data/srlab1/TCAT/Data/TCAT/TCAT_Usage.2023101...   \n",
       "UK-Covid     /data/srlab1/TCAT/Data/TCAT/TCAT_Usage.2023101...   \n",
       "COMBAT       /data/srlab1/TCAT/Data/TCAT/TCAT_Usage.2023101...   \n",
       "Pan-Tissue   /data/srlab1/TCAT/Data/TCAT/TCAT_Usage.2023101...   \n",
       "Sparks                                                     NaN   \n",
       "Stimseq                                                    NaN   \n",
       "\n",
       "                                                     scores_fn  \\\n",
       "dataset                                                          \n",
       "AMP-RA                                                     NaN   \n",
       "Pan-Cancer                                                 NaN   \n",
       "TBRU                                                       NaN   \n",
       "HIV-Vaccine                                                NaN   \n",
       "UK-Covid                                                   NaN   \n",
       "COMBAT                                                     NaN   \n",
       "Pan-Tissue                                                 NaN   \n",
       "Sparks       /data/srlab1/TCAT/Data/PerDataset/Sparks2023/T...   \n",
       "Stimseq      /data/srlab1/TCAT/Data/PerDataset/Stimseq/TCAT...   \n",
       "\n",
       "                                              manual_gating_fn  \\\n",
       "dataset                                                          \n",
       "AMP-RA                                                     NaN   \n",
       "Pan-Cancer                                                 NaN   \n",
       "TBRU                                                       NaN   \n",
       "HIV-Vaccine  /data/srlab1/TCAT/Data/PerDataset/HaoEtAl/Manu...   \n",
       "UK-Covid     /data/srlab1/TCAT/Data/PerDataset/UKCOVID/Manu...   \n",
       "COMBAT       /data/srlab1/TCAT/Data/PerDataset/COMBAT/Manua...   \n",
       "Pan-Tissue                                                 NaN   \n",
       "Sparks       /data/srlab1/TCAT/Data/PerDataset/Sparks2023/M...   \n",
       "Stimseq      /data/srlab1/TCAT/Data/PerDataset/Stimseq/Manu...   \n",
       "\n",
       "                                   manual_activation_gating_fn  \\\n",
       "dataset                                                          \n",
       "AMP-RA       /data/srlab1/TCAT/Data/PerDataset/AMPRA/Manual...   \n",
       "Pan-Cancer                                                 NaN   \n",
       "TBRU         /data/srlab1/TCAT/Data/PerDataset/TBRU/ManualG...   \n",
       "HIV-Vaccine                                                NaN   \n",
       "UK-Covid     /data/srlab1/TCAT/Data/PerDataset/UKCOVID/Manu...   \n",
       "COMBAT       /data/srlab1/TCAT/Data/PerDataset/COMBAT/Manua...   \n",
       "Pan-Tissue                                                 NaN   \n",
       "Sparks       /data/srlab1/TCAT/Data/PerDataset/Sparks2023/M...   \n",
       "Stimseq      /data/srlab1/TCAT/Data/PerDataset/Stimseq/Manu...   \n",
       "\n",
       "                                           activation_score_fn  ...     k  \\\n",
       "dataset                                                         ...         \n",
       "AMP-RA       /data/srlab1/TCAT/Data/PerDataset/AMPRA/Activa...  ...  34.0   \n",
       "Pan-Cancer   /data/srlab1/TCAT/Data/PerDataset/Pancancer/Ac...  ...  38.0   \n",
       "TBRU         /data/srlab1/TCAT/Data/PerDataset/TBRU/Activat...  ...  36.0   \n",
       "HIV-Vaccine  /data/srlab1/TCAT/Data/PerDataset/HaoEtAl/Acti...  ...  31.0   \n",
       "UK-Covid     /data/srlab1/TCAT/Data/PerDataset/UKCOVID/Acti...  ...  44.0   \n",
       "COMBAT       /data/srlab1/TCAT/Data/PerDataset/COMBAT/Activ...  ...  35.0   \n",
       "Pan-Tissue   /data/srlab1/TCAT/Data/PerDataset/XTissueImmun...  ...  39.0   \n",
       "Sparks       /data/srlab1/TCAT/Data/PerDataset/Sparks2023/A...  ...   NaN   \n",
       "Stimseq      /data/srlab1/TCAT/Data/PerDataset/Stimseq/Acti...  ...   NaN   \n",
       "\n",
       "               dt                               processed_forcnmf_fn  \\\n",
       "dataset                                                                \n",
       "AMP-RA       0_15  /data/srlab1/TCAT/Data/PerDataset/AMPRA/AMP_AD...   \n",
       "Pan-Cancer   0.15  /data/srlab1/TCAT/Data/PerDataset/Pancancer/pa...   \n",
       "TBRU         0_20  /data/srlab1/TCAT/Data/PerDataset/TBRU/tbru_ex...   \n",
       "HIV-Vaccine  0_15  /data/srlab1/TCAT/Data/PerDataset/HaoEtAl/haoe...   \n",
       "UK-Covid     0_20  /data/srlab1/TCAT/Data/PerDataset/UKCOVID/hani...   \n",
       "COMBAT       0_15  /data/srlab1/TCAT/Data/PerDataset/COMBAT/COMBA...   \n",
       "Pan-Tissue   0_20  /data/srlab1/TCAT/Data/PerDataset/XTissueImmun...   \n",
       "Sparks        NaN                                                NaN   \n",
       "Stimseq       NaN  /data/srlab1/TCAT/Data/PerDataset/Stimseq/stim...   \n",
       "\n",
       "                                        tpm_counts_for_cnmf_fn  \\\n",
       "dataset                                                          \n",
       "AMP-RA       /data/srlab1/TCAT/Data/PerDataset/AMPRA/AMP_AD...   \n",
       "Pan-Cancer                                                 NaN   \n",
       "TBRU         /data/srlab1/TCAT/Data/PerDataset/TBRU/tbru_ex...   \n",
       "HIV-Vaccine  /data/srlab1/TCAT/Data/PerDataset/HaoEtAl/haoe...   \n",
       "UK-Covid                                                   NaN   \n",
       "COMBAT       /data/srlab1/TCAT/Data/PerDataset/COMBAT/COMBA...   \n",
       "Pan-Tissue                                                 NaN   \n",
       "Sparks                                                     NaN   \n",
       "Stimseq                                                    NaN   \n",
       "\n",
       "                                            raw_counts_filt_fn  \\\n",
       "dataset                                                          \n",
       "AMP-RA       /data/srlab1/TCAT/Data/PerDataset/AMPRA/AMP_AD...   \n",
       "Pan-Cancer   /data/srlab1/TCAT/Data/PerDataset/Pancancer/pa...   \n",
       "TBRU         /data/srlab1/TCAT/Data/PerDataset/TBRU/tbru_ex...   \n",
       "HIV-Vaccine  /data/srlab1/TCAT/Data/PerDataset/HaoEtAl/haoe...   \n",
       "UK-Covid     /data/srlab1/TCAT/Data/PerDataset/UKCOVID/hani...   \n",
       "COMBAT       /data/srlab1/TCAT/Data/PerDataset/COMBAT/COMBA...   \n",
       "Pan-Tissue   /data/srlab1/TCAT/Data/PerDataset/XTissueImmun...   \n",
       "Sparks       /data/srlab1/TCAT/Data/PerDataset/Sparks2023/T...   \n",
       "Stimseq      /data/srlab1/TCAT/Data/PerDataset/Stimseq/raw....   \n",
       "\n",
       "                                                 raw_counts_fn dataset_type  \\\n",
       "dataset                                                                       \n",
       "AMP-RA       /data/srlab1/TCAT/Data/PerDataset/AMPRA/AMP_AD...    discovery   \n",
       "Pan-Cancer   /data/srlab1/TCAT/Data/PerDataset/Pancancer/pa...    discovery   \n",
       "TBRU         /data/srlab1/TCAT/Data/PerDataset/TBRU/tbru_ex...    discovery   \n",
       "HIV-Vaccine  /data/srlab1/TCAT/Data/PerDataset/HaoEtAl/haoe...    discovery   \n",
       "UK-Covid     /data/srlab1/TCAT/Data/PerDataset/UKCOVID/hani...    discovery   \n",
       "COMBAT       /data/srlab1/TCAT/Data/PerDataset/COMBAT/COMBA...    discovery   \n",
       "Pan-Tissue   /data/srlab1/TCAT/Data/PerDataset/XTissueImmun...    discovery   \n",
       "Sparks       /data/srlab1/TCAT/Data/PerDataset/Sparks2023/T...        other   \n",
       "Stimseq      /data/srlab1/TCAT/Data/PerDataset/Stimseq/raw....        other   \n",
       "\n",
       "            tissue_type         context_label  \\\n",
       "dataset                                         \n",
       "AMP-RA         Synovium                 RA+OA   \n",
       "Pan-Cancer   Pan-Tissue        Cancer+Healthy   \n",
       "TBRU              Blood               Healthy   \n",
       "HIV-Vaccine       Blood  Post-Vaccine+Healthy   \n",
       "UK-Covid          Blood      Covid-19+Healthy   \n",
       "COMBAT            Blood      Covid-19+Healthy   \n",
       "Pan-Tissue   Pan-Tissue  Non-Cancer/Non-Viral   \n",
       "Sparks            Blood                   NaN   \n",
       "Stimseq           Blood                   NaN   \n",
       "\n",
       "                                                   tcat_fn_old  \n",
       "dataset                                                         \n",
       "AMP-RA       /data/srlab1/TCAT/Data/TCAT/TCAT_Usage.2023101...  \n",
       "Pan-Cancer   /data/srlab1/TCAT/Data/TCAT/TCAT_Usage.2023101...  \n",
       "TBRU         /data/srlab1/TCAT/Data/TCAT/TCAT_Usage.2023101...  \n",
       "HIV-Vaccine  /data/srlab1/TCAT/Data/TCAT/TCAT_Usage.2023101...  \n",
       "UK-Covid     /data/srlab1/TCAT/Data/TCAT/TCAT_Usage.2023101...  \n",
       "COMBAT       /data/srlab1/TCAT/Data/TCAT/TCAT_Usage.2023101...  \n",
       "Pan-Tissue   /data/srlab1/TCAT/Data/TCAT/TCAT_Usage.2023101...  \n",
       "Sparks       /data/srlab1/TCAT/Data/TCAT/TCAT_Usage.2023101...  \n",
       "Stimseq      /data/srlab1/TCAT/Data/PerDataset/Stimseq/TCAT...  \n",
       "\n",
       "[9 rows x 28 columns]"
      ]
     },
     "execution_count": 6,
     "metadata": {},
     "output_type": "execute_result"
    }
   ],
   "source": [
    "params = read_dataset_log('Dataset Paths')\n",
    "params.index = params['dataset']\n",
    "params"
   ]
  },
  {
   "cell_type": "code",
   "execution_count": 8,
   "id": "cdcc352d-1f59-45f6-8dc9-11b8bb46ebce",
   "metadata": {},
   "outputs": [],
   "source": [
    "dataset = 'Sparks'\n",
    "\n",
    "usage = pd.read_csv(params.loc[dataset, 'tcat_fn'], index_col = 0, sep = '\\t')\n",
    "\n",
    "rename = read_dataset_log('cGEP_Name')\n",
    "rename_map = dict(zip(rename['cGep_Name'], rename['Short_Name']))\n",
    "usage.columns = usage.columns.map(rename_map)\n",
    "usage_norm = usage.div(usage.sum(axis=1), axis=0)"
   ]
  },
  {
   "cell_type": "code",
   "execution_count": 9,
   "id": "28a2e9f7-454b-4567-88bb-535a9f391dd9",
   "metadata": {},
   "outputs": [
    {
     "data": {
      "text/plain": [
       "(52, 52)"
      ]
     },
     "execution_count": 9,
     "metadata": {},
     "output_type": "execute_result"
    }
   ],
   "source": [
    "len(list(usage.columns)), len(list(usage.columns.unique()))"
   ]
  },
  {
   "cell_type": "code",
   "execution_count": 10,
   "id": "fda5454f-9665-4c0d-8198-394d84af8453",
   "metadata": {
    "tags": []
   },
   "outputs": [
    {
     "name": "stderr",
     "output_type": "stream",
     "text": [
      "/tmp/ipykernel_63889/4229900250.py:4: DtypeWarning: Columns (12) have mixed types. Specify dtype option on import or set low_memory=False.\n",
      "  meta = pd.read_csv(params.loc[dataset, 'metadata_fn'], index_col = 0, sep = '\\t')\n"
     ]
    }
   ],
   "source": [
    "gating = pd.read_csv(params.loc[dataset, 'manual_gating_fn'], index_col = 0, sep = '\\t',\n",
    "                     header=0, names = ['cell_gating'])\n",
    "\n",
    "meta = pd.read_csv(params.loc[dataset, 'metadata_fn'], index_col = 0, sep = '\\t')\n",
    "meta['cell_gating'] = gating.loc[meta.index, 'cell_gating']\n",
    "meta = meta.loc[usage_norm.index, ]\n",
    "\n",
    "cluster_col = params.loc[dataset, 'cluster_col']"
   ]
  },
  {
   "cell_type": "code",
   "execution_count": 11,
   "id": "8dc747be-31bf-44ce-bcd5-7751aa62066b",
   "metadata": {},
   "outputs": [],
   "source": [
    "individual_col = params.loc[dataset, 'individual_col']\n",
    "sample_col = params.loc[dataset, 'sample_col']"
   ]
  },
  {
   "cell_type": "code",
   "execution_count": 9,
   "id": "e6a7c8ff-16d0-4d56-985e-a5496c6f3363",
   "metadata": {},
   "outputs": [
    {
     "data": {
      "text/plain": [
       "'/data/srlab1/TCAT/Data/PerDataset/Sparks2023/T_fromSeuratmetadata_RNAClustering_withSampID.tsv'"
      ]
     },
     "execution_count": 9,
     "metadata": {},
     "output_type": "execute_result"
    }
   ],
   "source": [
    "params.loc[dataset, 'metadata_fn']"
   ]
  },
  {
   "cell_type": "code",
   "execution_count": 10,
   "id": "33215065-5dc2-482e-bc84-5c8340d006a5",
   "metadata": {
    "tags": []
   },
   "outputs": [
    {
     "data": {
      "text/html": [
       "<div>\n",
       "<style scoped>\n",
       "    .dataframe tbody tr th:only-of-type {\n",
       "        vertical-align: middle;\n",
       "    }\n",
       "\n",
       "    .dataframe tbody tr th {\n",
       "        vertical-align: top;\n",
       "    }\n",
       "\n",
       "    .dataframe thead th {\n",
       "        text-align: right;\n",
       "    }\n",
       "</style>\n",
       "<table border=\"1\" class=\"dataframe\">\n",
       "  <thead>\n",
       "    <tr style=\"text-align: right;\">\n",
       "      <th></th>\n",
       "      <th>alt.subject.id</th>\n",
       "      <th>visit</th>\n",
       "      <th>covid.diagnosis.start.date.to.sample.drawn</th>\n",
       "      <th>group</th>\n",
       "      <th>sex</th>\n",
       "      <th>age</th>\n",
       "      <th>race</th>\n",
       "      <th>ethnicity</th>\n",
       "      <th>flu.vax.count.10yr</th>\n",
       "      <th>vaccine</th>\n",
       "      <th>...</th>\n",
       "      <th>leiden_res2_25</th>\n",
       "      <th>leiden_res2</th>\n",
       "      <th>leiden_res1_75</th>\n",
       "      <th>leiden_res1_5</th>\n",
       "      <th>leiden_res1_25</th>\n",
       "      <th>leiden_res0_75</th>\n",
       "      <th>leiden_res0_5</th>\n",
       "      <th>leiden_res0_25</th>\n",
       "      <th>alt.sample.id</th>\n",
       "      <th>cell_gating</th>\n",
       "    </tr>\n",
       "  </thead>\n",
       "  <tbody>\n",
       "    <tr>\n",
       "      <th>Batch1_COVFLU_CITE_multi5P09_GCATGCGCAGCCTATA-1</th>\n",
       "      <td>Control</td>\n",
       "      <td>NaN</td>\n",
       "      <td>NaN</td>\n",
       "      <td>NaN</td>\n",
       "      <td>NaN</td>\n",
       "      <td>NaN</td>\n",
       "      <td>NaN</td>\n",
       "      <td>NaN</td>\n",
       "      <td>NaN</td>\n",
       "      <td>NaN</td>\n",
       "      <td>...</td>\n",
       "      <td>5</td>\n",
       "      <td>5</td>\n",
       "      <td>5</td>\n",
       "      <td>4</td>\n",
       "      <td>0</td>\n",
       "      <td>0</td>\n",
       "      <td>0</td>\n",
       "      <td>0</td>\n",
       "      <td>Control</td>\n",
       "      <td>CD4_Naive</td>\n",
       "    </tr>\n",
       "    <tr>\n",
       "      <th>Batch1_COVFLU_CITE_multi5P02_TTGTAGGCAGTATCTG-1</th>\n",
       "      <td>Control</td>\n",
       "      <td>NaN</td>\n",
       "      <td>NaN</td>\n",
       "      <td>NaN</td>\n",
       "      <td>NaN</td>\n",
       "      <td>NaN</td>\n",
       "      <td>NaN</td>\n",
       "      <td>NaN</td>\n",
       "      <td>NaN</td>\n",
       "      <td>NaN</td>\n",
       "      <td>...</td>\n",
       "      <td>1</td>\n",
       "      <td>1</td>\n",
       "      <td>1</td>\n",
       "      <td>1</td>\n",
       "      <td>2</td>\n",
       "      <td>4</td>\n",
       "      <td>1</td>\n",
       "      <td>1</td>\n",
       "      <td>Control</td>\n",
       "      <td>CD4_CM</td>\n",
       "    </tr>\n",
       "    <tr>\n",
       "      <th>Batch1_COVFLU_CITE_multi5P02_GATGCTACAGCTTAAC-1</th>\n",
       "      <td>Control</td>\n",
       "      <td>NaN</td>\n",
       "      <td>NaN</td>\n",
       "      <td>NaN</td>\n",
       "      <td>NaN</td>\n",
       "      <td>NaN</td>\n",
       "      <td>NaN</td>\n",
       "      <td>NaN</td>\n",
       "      <td>NaN</td>\n",
       "      <td>NaN</td>\n",
       "      <td>...</td>\n",
       "      <td>2</td>\n",
       "      <td>2</td>\n",
       "      <td>2</td>\n",
       "      <td>0</td>\n",
       "      <td>1</td>\n",
       "      <td>2</td>\n",
       "      <td>0</td>\n",
       "      <td>0</td>\n",
       "      <td>Control</td>\n",
       "      <td>CD4_Naive</td>\n",
       "    </tr>\n",
       "  </tbody>\n",
       "</table>\n",
       "<p>3 rows × 43 columns</p>\n",
       "</div>"
      ],
      "text/plain": [
       "                                                alt.subject.id visit  \\\n",
       "Batch1_COVFLU_CITE_multi5P09_GCATGCGCAGCCTATA-1        Control   NaN   \n",
       "Batch1_COVFLU_CITE_multi5P02_TTGTAGGCAGTATCTG-1        Control   NaN   \n",
       "Batch1_COVFLU_CITE_multi5P02_GATGCTACAGCTTAAC-1        Control   NaN   \n",
       "\n",
       "                                                 covid.diagnosis.start.date.to.sample.drawn  \\\n",
       "Batch1_COVFLU_CITE_multi5P09_GCATGCGCAGCCTATA-1                                         NaN   \n",
       "Batch1_COVFLU_CITE_multi5P02_TTGTAGGCAGTATCTG-1                                         NaN   \n",
       "Batch1_COVFLU_CITE_multi5P02_GATGCTACAGCTTAAC-1                                         NaN   \n",
       "\n",
       "                                                group  sex  age race  \\\n",
       "Batch1_COVFLU_CITE_multi5P09_GCATGCGCAGCCTATA-1   NaN  NaN  NaN  NaN   \n",
       "Batch1_COVFLU_CITE_multi5P02_TTGTAGGCAGTATCTG-1   NaN  NaN  NaN  NaN   \n",
       "Batch1_COVFLU_CITE_multi5P02_GATGCTACAGCTTAAC-1   NaN  NaN  NaN  NaN   \n",
       "\n",
       "                                                ethnicity  flu.vax.count.10yr  \\\n",
       "Batch1_COVFLU_CITE_multi5P09_GCATGCGCAGCCTATA-1       NaN                 NaN   \n",
       "Batch1_COVFLU_CITE_multi5P02_TTGTAGGCAGTATCTG-1       NaN                 NaN   \n",
       "Batch1_COVFLU_CITE_multi5P02_GATGCTACAGCTTAAC-1       NaN                 NaN   \n",
       "\n",
       "                                                vaccine  ... leiden_res2_25  \\\n",
       "Batch1_COVFLU_CITE_multi5P09_GCATGCGCAGCCTATA-1     NaN  ...              5   \n",
       "Batch1_COVFLU_CITE_multi5P02_TTGTAGGCAGTATCTG-1     NaN  ...              1   \n",
       "Batch1_COVFLU_CITE_multi5P02_GATGCTACAGCTTAAC-1     NaN  ...              2   \n",
       "\n",
       "                                                leiden_res2 leiden_res1_75  \\\n",
       "Batch1_COVFLU_CITE_multi5P09_GCATGCGCAGCCTATA-1           5              5   \n",
       "Batch1_COVFLU_CITE_multi5P02_TTGTAGGCAGTATCTG-1           1              1   \n",
       "Batch1_COVFLU_CITE_multi5P02_GATGCTACAGCTTAAC-1           2              2   \n",
       "\n",
       "                                                 leiden_res1_5  \\\n",
       "Batch1_COVFLU_CITE_multi5P09_GCATGCGCAGCCTATA-1              4   \n",
       "Batch1_COVFLU_CITE_multi5P02_TTGTAGGCAGTATCTG-1              1   \n",
       "Batch1_COVFLU_CITE_multi5P02_GATGCTACAGCTTAAC-1              0   \n",
       "\n",
       "                                                 leiden_res1_25  \\\n",
       "Batch1_COVFLU_CITE_multi5P09_GCATGCGCAGCCTATA-1               0   \n",
       "Batch1_COVFLU_CITE_multi5P02_TTGTAGGCAGTATCTG-1               2   \n",
       "Batch1_COVFLU_CITE_multi5P02_GATGCTACAGCTTAAC-1               1   \n",
       "\n",
       "                                                 leiden_res0_75  \\\n",
       "Batch1_COVFLU_CITE_multi5P09_GCATGCGCAGCCTATA-1               0   \n",
       "Batch1_COVFLU_CITE_multi5P02_TTGTAGGCAGTATCTG-1               4   \n",
       "Batch1_COVFLU_CITE_multi5P02_GATGCTACAGCTTAAC-1               2   \n",
       "\n",
       "                                                 leiden_res0_5  \\\n",
       "Batch1_COVFLU_CITE_multi5P09_GCATGCGCAGCCTATA-1              0   \n",
       "Batch1_COVFLU_CITE_multi5P02_TTGTAGGCAGTATCTG-1              1   \n",
       "Batch1_COVFLU_CITE_multi5P02_GATGCTACAGCTTAAC-1              0   \n",
       "\n",
       "                                                 leiden_res0_25  \\\n",
       "Batch1_COVFLU_CITE_multi5P09_GCATGCGCAGCCTATA-1               0   \n",
       "Batch1_COVFLU_CITE_multi5P02_TTGTAGGCAGTATCTG-1               1   \n",
       "Batch1_COVFLU_CITE_multi5P02_GATGCTACAGCTTAAC-1               0   \n",
       "\n",
       "                                                 alt.sample.id  cell_gating  \n",
       "Batch1_COVFLU_CITE_multi5P09_GCATGCGCAGCCTATA-1        Control    CD4_Naive  \n",
       "Batch1_COVFLU_CITE_multi5P02_TTGTAGGCAGTATCTG-1        Control       CD4_CM  \n",
       "Batch1_COVFLU_CITE_multi5P02_GATGCTACAGCTTAAC-1        Control    CD4_Naive  \n",
       "\n",
       "[3 rows x 43 columns]"
      ]
     },
     "execution_count": 10,
     "metadata": {},
     "output_type": "execute_result"
    }
   ],
   "source": [
    "meta.head(3)"
   ]
  },
  {
   "cell_type": "code",
   "execution_count": 12,
   "id": "795906fa-59bb-41a5-a2ca-1e2ceec4380b",
   "metadata": {},
   "outputs": [
    {
     "data": {
      "text/plain": [
       "{'Original': '../../../Data/PerDataset/Sparks2023/T_fromSeurat.h5ad',\n",
       " 'RNA_LogTP10K_Varnorm_Harmony': '../../../Data/PerDataset/Sparks2023/T_fromSeuratRNA.LogTP10K.Varnorm.Harmony.h5ad',\n",
       " 'Metadata_RNAClustering': '../../../Data/PerDataset/Sparks2023/T_fromSeuratmetadata_RNAClustering.tsv'}"
      ]
     },
     "execution_count": 12,
     "metadata": {},
     "output_type": "execute_result"
    }
   ],
   "source": [
    "original =  '../../../Data/PerDataset/Sparks2023/T_fromSeurat.h5ad'\n",
    "toadd = ''\n",
    "paths = {\n",
    "        'Original' : original, # AnnData containing RNA +/- ADT,\n",
    "        'RNA_LogTP10K_Varnorm_Harmony':original.replace('.h5ad', toadd + 'RNA.LogTP10K.Varnorm.Harmony.h5ad'),\n",
    "        'Metadata_RNAClustering' : original.replace('.h5ad', toadd + 'metadata_RNAClustering.tsv')\n",
    "        }\n",
    "paths"
   ]
  },
  {
   "cell_type": "code",
   "execution_count": 13,
   "id": "a7782f84-34fa-4231-b03f-8bcc16f5e0dd",
   "metadata": {},
   "outputs": [
    {
     "data": {
      "text/plain": [
       "{'Original': '../../../Data/PerDataset/Sparks2023/T_fromSeurat.h5ad',\n",
       " 'RNA_LogTP10K_Varnorm_Harmony': '../../../Data/PerDataset/Sparks2023/T_fromSeuratRNA.LogTP10K.Varnorm.Harmony.h5ad',\n",
       " 'Metadata_RNAClustering': '../../../Data/PerDataset/Sparks2023/T_fromSeuratmetadata_RNAClustering.tsv'}"
      ]
     },
     "execution_count": 13,
     "metadata": {},
     "output_type": "execute_result"
    }
   ],
   "source": [
    "paths"
   ]
  },
  {
   "cell_type": "code",
   "execution_count": 14,
   "id": "d0855ce6-ae7a-448c-8400-b3e0f3cebaa3",
   "metadata": {},
   "outputs": [
    {
     "data": {
      "text/plain": [
       "{'Original': '../../../Data/PerDataset/Sparks2023/T_fromSeurat.h5ad',\n",
       " 'RNA_LogTP10K_Varnorm_Harmony': '../../../Data/PerDataset/Sparks2023/T_fromSeuratRNA.LogTP10K.Varnorm.Harmony.h5ad',\n",
       " 'Metadata_RNAClustering': '../../../Data/PerDataset/Sparks2023/T_fromSeuratmetadata_RNAClustering.tsv',\n",
       " 'CC_Score_Scanpy': '../../../Data/PerDataset/Sparks2023/T_fromSeuratRNA.LogTP10K.Varnorm.CellCycleScore_Scanpy.tsv'}"
      ]
     },
     "execution_count": 14,
     "metadata": {},
     "output_type": "execute_result"
    }
   ],
   "source": [
    "paths.update({\n",
    "        'CC_Score_Scanpy':paths['RNA_LogTP10K_Varnorm_Harmony'].replace('Harmony.h5ad', 'CellCycleScore_Scanpy.tsv')\n",
    "\n",
    "})\n",
    "paths"
   ]
  },
  {
   "cell_type": "code",
   "execution_count": 15,
   "id": "6ba5d662-f4d2-40d0-bb7d-4d52ac7d79eb",
   "metadata": {},
   "outputs": [],
   "source": [
    "dataset = 'Sparks'\n"
   ]
  },
  {
   "cell_type": "code",
   "execution_count": 11,
   "id": "24174fca-9bed-425f-9f69-adafc961a2ac",
   "metadata": {},
   "outputs": [],
   "source": [
    "adata = sc.read(params.loc[dataset, 'raw_counts_filt_fn'])\n",
    "adata_RNA = adata[:, adata.var['feature_types'] == 'Gene Expression']"
   ]
  },
  {
   "cell_type": "code",
   "execution_count": 12,
   "id": "c4a173b9-ef10-4999-9706-95e38ba55608",
   "metadata": {},
   "outputs": [
    {
     "name": "stderr",
     "output_type": "stream",
     "text": [
      "/PHShome/mc1070/anaconda3/envs/cnmf_env2v2/lib/python3.7/site-packages/scanpy/preprocessing/_simple.py:524: ImplicitModificationWarning: Trying to modify attribute `.obs` of view, initializing view as actual.\n",
      "  adata.obs[key_n_counts] = counts_per_cell\n"
     ]
    }
   ],
   "source": [
    "sc.pp.normalize_per_cell(adata_RNA, counts_per_cell_after=1e4)\n",
    "\n",
    "sc.pp.log1p(adata_RNA)\n",
    "sc.pp.scale(adata_RNA)"
   ]
  },
  {
   "cell_type": "code",
   "execution_count": 13,
   "id": "69d4cf5e-6452-4e9a-a1a9-783b262c1170",
   "metadata": {},
   "outputs": [
    {
     "data": {
      "text/plain": [
       "AnnData object with n_obs × n_vars = 336739 × 28402\n",
       "    obs: 'alt.subject.id', 'visit', 'covid.diagnosis.start.date.to.sample.drawn', 'group', 'sex', 'age', 'race', 'ethnicity', 'flu.vax.count.10yr', 'vaccine', 'vaccine.side.effects', 'long.covid.symptoms', 'Batch', 'nCount_RNA', 'nCount_HTO', 'nCount_CITE', 'nCount_RNA_largest.gene', 'nCount_SCT', 'nFeature_RNA', 'nFeature_HTO', 'nFeature_CITE', 'nFeature_SCT', 'percent.mt', 'percent.largest.gene', 'coarse.cell.type', 'cell.type', 'HTO1', 'HTO2', 'HTO3', 'n_counts', 'leiden_res1', 'leiden_res0_8', 'leiden_res0_6', 'leiden_res2_25', 'leiden_res2', 'leiden_res1_75', 'leiden_res1_5', 'leiden_res1_25', 'leiden_res0_75', 'leiden_res0_5', 'leiden_res0_25'\n",
       "    var: 'gene_ids', 'feature_types', 'highly_variable', 'means', 'dispersions', 'dispersions_norm', 'mean', 'std'\n",
       "    uns: 'hvg', 'leiden', 'log1p', 'neighbors', 'pca', 'umap'\n",
       "    obsm: 'X_harmony_RNA_UMAP', 'X_pca', 'X_pca_harmony', 'X_umap'\n",
       "    varm: 'PCs'\n",
       "    obsp: 'connectivities', 'distances'"
      ]
     },
     "execution_count": 13,
     "metadata": {},
     "output_type": "execute_result"
    }
   ],
   "source": [
    "adata_RNA"
   ]
  },
  {
   "cell_type": "markdown",
   "id": "e035b9b3-b676-45c7-ac90-e5b004dfccbf",
   "metadata": {},
   "source": [
    "## Score cell-cycle"
   ]
  },
  {
   "cell_type": "code",
   "execution_count": 13,
   "id": "10d88ea2-72fb-4dec-8ae4-18b15b478e87",
   "metadata": {},
   "outputs": [
    {
     "name": "stdout",
     "output_type": "stream",
     "text": [
      "/data/srlab1/TCAT/Analysis/PerDataset/Sparks\n"
     ]
    }
   ],
   "source": [
    "!pwd"
   ]
  },
  {
   "cell_type": "code",
   "execution_count": 14,
   "id": "9f46d706-ea90-46b3-b81b-456b72fb331d",
   "metadata": {},
   "outputs": [],
   "source": [
    "cell_cycle_genes = [x.strip() for x in open('../../../Data/Misc/regev_lab_cell_cycle_genes.txt')]\n"
   ]
  },
  {
   "cell_type": "code",
   "execution_count": 15,
   "id": "20752fa6-1d7f-4e72-87f6-6b4c6b9b1d04",
   "metadata": {},
   "outputs": [],
   "source": [
    "s_genes = cell_cycle_genes[:43]\n",
    "g2m_genes = cell_cycle_genes[43:]\n",
    "cell_cycle_genes = [x for x in cell_cycle_genes if x in adata_RNA.var_names]"
   ]
  },
  {
   "cell_type": "code",
   "execution_count": 16,
   "id": "6226ef69-5427-4763-b654-ea718d89ba0d",
   "metadata": {},
   "outputs": [
    {
     "name": "stdout",
     "output_type": "stream",
     "text": [
      "WARNING: genes are not in var_names and ignored: ['UHRF1', 'MLF1IP', 'CASP8AP2']\n"
     ]
    }
   ],
   "source": [
    "sc.tl.score_genes_cell_cycle(adata_RNA, s_genes=s_genes, g2m_genes=g2m_genes)\n"
   ]
  },
  {
   "cell_type": "code",
   "execution_count": 19,
   "id": "fad47625-2acd-4ad0-8ea6-51e5f233680b",
   "metadata": {},
   "outputs": [
    {
     "data": {
      "text/plain": [
       "AnnData object with n_obs × n_vars = 336739 × 28402\n",
       "    obs: 'alt.subject.id', 'visit', 'covid.diagnosis.start.date.to.sample.drawn', 'group', 'sex', 'age', 'race', 'ethnicity', 'flu.vax.count.10yr', 'vaccine', 'vaccine.side.effects', 'long.covid.symptoms', 'Batch', 'nCount_RNA', 'nCount_HTO', 'nCount_CITE', 'nCount_RNA_largest.gene', 'nCount_SCT', 'nFeature_RNA', 'nFeature_HTO', 'nFeature_CITE', 'nFeature_SCT', 'percent.mt', 'percent.largest.gene', 'coarse.cell.type', 'cell.type', 'HTO1', 'HTO2', 'HTO3', 'n_counts', 'leiden_res1', 'leiden_res0_8', 'leiden_res0_6', 'leiden_res2_25', 'leiden_res2', 'leiden_res1_75', 'leiden_res1_5', 'leiden_res1_25', 'leiden_res0_75', 'leiden_res0_5', 'leiden_res0_25', 'S_score', 'G2M_score', 'phase'\n",
       "    var: 'gene_ids', 'feature_types', 'highly_variable', 'means', 'dispersions', 'dispersions_norm', 'mean', 'std'\n",
       "    uns: 'hvg', 'leiden', 'log1p', 'neighbors', 'pca', 'umap'\n",
       "    obsm: 'X_harmony_RNA_UMAP', 'X_pca', 'X_pca_harmony', 'X_umap'\n",
       "    varm: 'PCs'\n",
       "    obsp: 'connectivities', 'distances'"
      ]
     },
     "execution_count": 19,
     "metadata": {},
     "output_type": "execute_result"
    }
   ],
   "source": [
    "adata_RNA"
   ]
  },
  {
   "cell_type": "code",
   "execution_count": 18,
   "id": "bedffa86-9104-4c5d-8504-53dc6af50171",
   "metadata": {},
   "outputs": [],
   "source": [
    "cc_scores = adata_RNA.obs[['S_score', 'G2M_score', 'phase']]"
   ]
  },
  {
   "cell_type": "code",
   "execution_count": 19,
   "id": "66c4ba41-25eb-4c34-8e41-63b4ec0b7a40",
   "metadata": {
    "tags": []
   },
   "outputs": [
    {
     "data": {
      "text/html": [
       "<div>\n",
       "<style scoped>\n",
       "    .dataframe tbody tr th:only-of-type {\n",
       "        vertical-align: middle;\n",
       "    }\n",
       "\n",
       "    .dataframe tbody tr th {\n",
       "        vertical-align: top;\n",
       "    }\n",
       "\n",
       "    .dataframe thead th {\n",
       "        text-align: right;\n",
       "    }\n",
       "</style>\n",
       "<table border=\"1\" class=\"dataframe\">\n",
       "  <thead>\n",
       "    <tr style=\"text-align: right;\">\n",
       "      <th></th>\n",
       "      <th>S_score</th>\n",
       "      <th>G2M_score</th>\n",
       "      <th>phase</th>\n",
       "    </tr>\n",
       "  </thead>\n",
       "  <tbody>\n",
       "    <tr>\n",
       "      <th>Batch1_COVFLU_CITE_multi5P09_GCATGCGCAGCCTATA-1</th>\n",
       "      <td>0.041558</td>\n",
       "      <td>-0.101888</td>\n",
       "      <td>S</td>\n",
       "    </tr>\n",
       "    <tr>\n",
       "      <th>Batch1_COVFLU_CITE_multi5P02_TTGTAGGCAGTATCTG-1</th>\n",
       "      <td>0.121614</td>\n",
       "      <td>0.135110</td>\n",
       "      <td>G2M</td>\n",
       "    </tr>\n",
       "    <tr>\n",
       "      <th>Batch1_COVFLU_CITE_multi5P02_GATGCTACAGCTTAAC-1</th>\n",
       "      <td>-0.044462</td>\n",
       "      <td>0.028720</td>\n",
       "      <td>G2M</td>\n",
       "    </tr>\n",
       "    <tr>\n",
       "      <th>Batch1_COVFLU_CITE_multi5P03_AGGGTGACATTAGGCT-1</th>\n",
       "      <td>-0.073695</td>\n",
       "      <td>-0.001312</td>\n",
       "      <td>G1</td>\n",
       "    </tr>\n",
       "    <tr>\n",
       "      <th>Batch1_COVFLU_CITE_multi5P10_GAACCTACAACGCACC-1</th>\n",
       "      <td>-0.091075</td>\n",
       "      <td>0.222605</td>\n",
       "      <td>G2M</td>\n",
       "    </tr>\n",
       "    <tr>\n",
       "      <th>...</th>\n",
       "      <td>...</td>\n",
       "      <td>...</td>\n",
       "      <td>...</td>\n",
       "    </tr>\n",
       "    <tr>\n",
       "      <th>Batch3_COVFLU_CITE_multi5P16_TTCGAAGGTCTCTTTA-1</th>\n",
       "      <td>0.117116</td>\n",
       "      <td>-0.039742</td>\n",
       "      <td>S</td>\n",
       "    </tr>\n",
       "    <tr>\n",
       "      <th>Batch3_COVFLU_CITE_multi5P09_CTCGTACGTAGGACAC-1</th>\n",
       "      <td>-0.198666</td>\n",
       "      <td>-0.093061</td>\n",
       "      <td>G1</td>\n",
       "    </tr>\n",
       "    <tr>\n",
       "      <th>Batch3_COVFLU_CITE_multi5P09_ACGGCCACAAGAAGAG-1</th>\n",
       "      <td>0.115477</td>\n",
       "      <td>-0.100814</td>\n",
       "      <td>S</td>\n",
       "    </tr>\n",
       "    <tr>\n",
       "      <th>Batch3_COVFLU_CITE_multi5P07_GAGTCCGCACACAGAG-1</th>\n",
       "      <td>-0.053386</td>\n",
       "      <td>-0.042489</td>\n",
       "      <td>G1</td>\n",
       "    </tr>\n",
       "    <tr>\n",
       "      <th>Batch3_COVFLU_CITE_multi5P09_AAGGCAGTCGCGTTTC-1</th>\n",
       "      <td>-0.095958</td>\n",
       "      <td>-0.061082</td>\n",
       "      <td>G1</td>\n",
       "    </tr>\n",
       "  </tbody>\n",
       "</table>\n",
       "<p>335906 rows × 3 columns</p>\n",
       "</div>"
      ],
      "text/plain": [
       "                                                  S_score  G2M_score phase\n",
       "Batch1_COVFLU_CITE_multi5P09_GCATGCGCAGCCTATA-1  0.041558  -0.101888     S\n",
       "Batch1_COVFLU_CITE_multi5P02_TTGTAGGCAGTATCTG-1  0.121614   0.135110   G2M\n",
       "Batch1_COVFLU_CITE_multi5P02_GATGCTACAGCTTAAC-1 -0.044462   0.028720   G2M\n",
       "Batch1_COVFLU_CITE_multi5P03_AGGGTGACATTAGGCT-1 -0.073695  -0.001312    G1\n",
       "Batch1_COVFLU_CITE_multi5P10_GAACCTACAACGCACC-1 -0.091075   0.222605   G2M\n",
       "...                                                   ...        ...   ...\n",
       "Batch3_COVFLU_CITE_multi5P16_TTCGAAGGTCTCTTTA-1  0.117116  -0.039742     S\n",
       "Batch3_COVFLU_CITE_multi5P09_CTCGTACGTAGGACAC-1 -0.198666  -0.093061    G1\n",
       "Batch3_COVFLU_CITE_multi5P09_ACGGCCACAAGAAGAG-1  0.115477  -0.100814     S\n",
       "Batch3_COVFLU_CITE_multi5P07_GAGTCCGCACACAGAG-1 -0.053386  -0.042489    G1\n",
       "Batch3_COVFLU_CITE_multi5P09_AAGGCAGTCGCGTTTC-1 -0.095958  -0.061082    G1\n",
       "\n",
       "[335906 rows x 3 columns]"
      ]
     },
     "execution_count": 19,
     "metadata": {},
     "output_type": "execute_result"
    }
   ],
   "source": [
    "cc_scores"
   ]
  },
  {
   "cell_type": "code",
   "execution_count": 26,
   "id": "24f5496d-be17-4232-bc9b-b3d6de92a409",
   "metadata": {
    "tags": []
   },
   "outputs": [],
   "source": [
    "cc_scores.to_csv( '../../../Data/PerDataset/Sparks2023/CellCycleScore_Scanpy.tsv', sep = '\\t')"
   ]
  },
  {
   "cell_type": "markdown",
   "id": "51de6d58-0d72-498b-9e18-c52e09df71d2",
   "metadata": {
    "tags": []
   },
   "source": [
    "## Plot cell-cycle and mitochondrial reads"
   ]
  },
  {
   "cell_type": "code",
   "execution_count": 16,
   "id": "00c61578-5acb-400f-b8f1-d1345fe5f441",
   "metadata": {},
   "outputs": [],
   "source": [
    "cc_scores = pd.read_csv(paths['CC_Score_Scanpy'], index_col = 0, sep = '\\t')"
   ]
  },
  {
   "cell_type": "code",
   "execution_count": 17,
   "id": "f9482a8d-48b1-4ef9-9e27-5aa8d0e6300b",
   "metadata": {},
   "outputs": [],
   "source": [
    "X = meta.copy()\n",
    "X[usage_norm.columns] = usage_norm.loc[meta.index, :].copy()"
   ]
  },
  {
   "cell_type": "code",
   "execution_count": 18,
   "id": "4f161990-7599-4e3e-a16b-24daac2a2634",
   "metadata": {},
   "outputs": [],
   "source": [
    "X[cc_scores.columns] = cc_scores.loc[meta.index, :].copy()"
   ]
  },
  {
   "cell_type": "code",
   "execution_count": 50,
   "id": "76f46f6a-54a3-43c3-99af-63f2d24ce8f3",
   "metadata": {},
   "outputs": [
    {
     "data": {
      "text/plain": [
       "Index(['alt.subject.id', 'visit', 'covid.diagnosis.start.date.to.sample.drawn',\n",
       "       'group', 'sex', 'age', 'race', 'ethnicity', 'flu.vax.count.10yr',\n",
       "       'vaccine', 'vaccine.side.effects', 'long.covid.symptoms', 'Batch',\n",
       "       'nCount_RNA', 'nCount_HTO', 'nCount_CITE', 'nCount_RNA_largest.gene',\n",
       "       'nCount_SCT', 'nFeature_RNA', 'nFeature_HTO', 'nFeature_CITE',\n",
       "       'nFeature_SCT', 'percent.mt', 'percent.largest.gene',\n",
       "       'coarse.cell.type', 'cell.type', 'HTO1', 'HTO2', 'HTO3', 'n_counts',\n",
       "       'leiden_res1', 'leiden_res0_8', 'leiden_res0_6', 'leiden_res2_25',\n",
       "       'leiden_res2', 'leiden_res1_75', 'leiden_res1_5', 'leiden_res1_25',\n",
       "       'leiden_res0_75', 'leiden_res0_5', 'leiden_res0_25', 'alt.sample.id',\n",
       "       'cell_gating'],\n",
       "      dtype='object')"
      ]
     },
     "execution_count": 50,
     "metadata": {},
     "output_type": "execute_result"
    }
   ],
   "source": [
    "meta.columns"
   ]
  },
  {
   "cell_type": "code",
   "execution_count": 27,
   "id": "ed4c8dd7-19b0-44f7-ac4c-5a82cdc32fe6",
   "metadata": {},
   "outputs": [
    {
     "data": {
      "image/png": "[encoded data removed]",
      "text/plain": [
       "<Figure size 1200x450 with 3 Axes>"
      ]
     },
     "metadata": {},
     "output_type": "display_data"
    }
   ],
   "source": [
    "ncol = 3\n",
    "fig, axes = plt.subplots(nrows = 1, ncols = ncol, dpi = 300, \n",
    "                         figsize = (4, 1.5), constrained_layout = True)\n",
    "\n",
    "score = 'percent.mt'\n",
    "gep = 'Mito'\n",
    "x = X.loc[:, score] ## G2M score, S score\n",
    "y = X.loc[:, gep]\n",
    "r, p = pearsonr(x, y)\n",
    "\n",
    "if p==0.0:\n",
    "    plab = 'P<1E-50'\n",
    "else:\n",
    "    plab = 'P=%.3E' % p\n",
    "\n",
    "ax = axes[0]\n",
    "ax.scatter(x = x, y = y, edgecolors='none', s = 1)\n",
    "ax.text(x = .05, y = .9, s = 'R=%.3f' % r, transform=ax.transAxes, size = 7)\n",
    "ax.text(x = .05, y = .8, s = plab, transform=ax.transAxes, size = 7)\n",
    "ax.set_xlabel('% Mitochondrial Reads', fontsize = 8)\n",
    "ax.set_ylabel('%s cGEP' % gep, fontsize = 8)\n",
    "ax.tick_params('both', labelsize = 6)\n",
    "\n",
    "\n",
    "score = 'S_score'\n",
    "gep = 'CellCycle-S'\n",
    "x = X.loc[:, score] ## G2M score, S score\n",
    "y = X.loc[:, gep]\n",
    "r, p = pearsonr(x, y)\n",
    "\n",
    "if p==0.0:\n",
    "    plab = 'P<1E-50'\n",
    "else:\n",
    "    plab = 'P=%.3E' % p\n",
    "\n",
    "ax = axes[1]\n",
    "ax.scatter(x = x, y = y, edgecolors='none', s = 1)\n",
    "ax.text(x = .05, y = .9, s = 'R=%.3f' % r, transform=ax.transAxes, size =7)\n",
    "ax.text(x = .05, y = .8, s = plab, transform=ax.transAxes, size = 7)\n",
    "ax.set_xlabel('Scanpy %s' % score, fontsize = 8)\n",
    "ax.set_ylabel('%s cGEP' % gep, fontsize = 8)\n",
    "ax.tick_params('both', labelsize = 6)\n",
    "\n",
    "\n",
    "score = 'G2M_score'\n",
    "gep = 'CellCycle-G2M'\n",
    "x = X.loc[:, score] ## G2M score, S score\n",
    "y = X.loc[:, gep]\n",
    "r, p = pearsonr(x, y)\n",
    "\n",
    "if p==0.0:\n",
    "    plab = 'P<1E-50'\n",
    "else:\n",
    "    plab = 'P:%.3E' % p\n",
    "\n",
    "ax = axes[2]\n",
    "ax.scatter(x = x, y = y, edgecolors='none', s = 1)\n",
    "ax.text(x = .05, y = .9, s = 'R=%.3f' % r, transform=ax.transAxes, size = 7)\n",
    "ax.text(x = .05, y = .8, s = plab, transform=ax.transAxes, size = 7)\n",
    "ax.set_xlabel('Scanpy %s' % score, fontsize = 8)\n",
    "ax.set_ylabel('%s cGEP' % gep, fontsize = 8)\n",
    "ax.tick_params('both', labelsize = 6)\n",
    "\n",
    "\n",
    "plt.savefig(os.path.join(figdir, 'FunctionalCorrelations_Sparks.png'), bbox_inches=\"tight\")\n",
    "plt.savefig(os.path.join(figdir, 'FunctionalCorrelations_Sparks.pdf'), bbox_inches=\"tight\")\n"
   ]
  }
 ],
 "metadata": {
  "kernelspec": {
   "display_name": "Python [conda env:miniforge3-py310]",
   "language": "python",
   "name": "conda-env-miniforge3-py310-py"
  },
  "language_info": {
   "codemirror_mode": {
    "name": "ipython",
    "version": 3
   },
   "file_extension": ".py",
   "mimetype": "text/x-python",
   "name": "python",
   "nbconvert_exporter": "python",
   "pygments_lexer": "ipython3",
   "version": "3.10.14"
  }
 },
 "nbformat": 4,
 "nbformat_minor": 5
}
