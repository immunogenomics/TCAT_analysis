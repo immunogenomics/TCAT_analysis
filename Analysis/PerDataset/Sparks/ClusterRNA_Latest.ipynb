{
 "cells": [
  {
   "cell_type": "code",
   "execution_count": 1,
   "id": "e39fb532-3f5c-4fd2-b19b-3631953b0750",
   "metadata": {
    "tags": []
   },
   "outputs": [],
   "source": [
    "%matplotlib inline\n",
    "\n",
    "import pandas as pd\n",
    "import scanpy as sc\n",
    "import numpy as np\n",
    "import matplotlib.pyplot as plt\n",
    "import scipy.sparse as sp\n",
    "from scipy.stats import pearsonr\n",
    "\n",
    "from scipy.cluster.hierarchy import linkage\n",
    "import scipy.spatial.distance as ssd\n",
    "from matplotlib.pyplot import rc_context\n",
    "\n",
    "import seaborn as sns\n",
    "import sys\n",
    "from scipy.sparse import hstack, csr_matrix\n",
    "from sklearn.feature_selection import mutual_info_classif\n",
    "import os\n",
    "from cnmf import cNMF, load_df_from_npz\n",
    "import harmonypy\n",
    "sys.path.append('../../../Code/')\n",
    "# from utils import TCAT\n",
    "\n",
    "from sklearn import metrics\n",
    "from utils import read_dataset_log\n",
    "import harmonypy as hm\n",
    "from sklearn.preprocessing import MinMaxScaler\n",
    "from adjustText import adjust_text\n"
   ]
  },
  {
   "cell_type": "code",
   "execution_count": 2,
   "id": "6c68bea1-4d39-4650-928f-4bc0ac80f7d6",
   "metadata": {},
   "outputs": [
    {
     "name": "stdout",
     "output_type": "stream",
     "text": [
      "/data/srlab1/TCAT/Analysis/PerDataset/Sparks\n"
     ]
    }
   ],
   "source": [
    "! pwd"
   ]
  },
  {
   "cell_type": "code",
   "execution_count": 3,
   "id": "f98fa303-7729-4850-8511-011e69bffd7b",
   "metadata": {},
   "outputs": [
    {
     "data": {
      "text/html": [
       "<div>\n",
       "<style scoped>\n",
       "    .dataframe tbody tr th:only-of-type {\n",
       "        vertical-align: middle;\n",
       "    }\n",
       "\n",
       "    .dataframe tbody tr th {\n",
       "        vertical-align: top;\n",
       "    }\n",
       "\n",
       "    .dataframe thead th {\n",
       "        text-align: right;\n",
       "    }\n",
       "</style>\n",
       "<table border=\"1\" class=\"dataframe\">\n",
       "  <thead>\n",
       "    <tr style=\"text-align: right;\">\n",
       "      <th></th>\n",
       "      <th>dataset</th>\n",
       "      <th>usage_fn</th>\n",
       "      <th>gene_scores_fn</th>\n",
       "      <th>gene_tpm_fn</th>\n",
       "      <th>tcat_fn</th>\n",
       "      <th>tcat_fn_withsingletons</th>\n",
       "      <th>manual_gating_fn</th>\n",
       "      <th>manual_activation_gating_fn</th>\n",
       "      <th>activation_score_fn</th>\n",
       "      <th>metadata_fn</th>\n",
       "      <th>...</th>\n",
       "      <th>k</th>\n",
       "      <th>dt</th>\n",
       "      <th>processed_forcnmf_fn</th>\n",
       "      <th>tpm_counts_for_cnmf_fn</th>\n",
       "      <th>raw_counts_filt_fn</th>\n",
       "      <th>raw_counts_fn</th>\n",
       "      <th>dataset_type</th>\n",
       "      <th>tissue_type</th>\n",
       "      <th>context_label</th>\n",
       "      <th>tcat_fn_old</th>\n",
       "    </tr>\n",
       "    <tr>\n",
       "      <th>dataset</th>\n",
       "      <th></th>\n",
       "      <th></th>\n",
       "      <th></th>\n",
       "      <th></th>\n",
       "      <th></th>\n",
       "      <th></th>\n",
       "      <th></th>\n",
       "      <th></th>\n",
       "      <th></th>\n",
       "      <th></th>\n",
       "      <th></th>\n",
       "      <th></th>\n",
       "      <th></th>\n",
       "      <th></th>\n",
       "      <th></th>\n",
       "      <th></th>\n",
       "      <th></th>\n",
       "      <th></th>\n",
       "      <th></th>\n",
       "      <th></th>\n",
       "      <th></th>\n",
       "    </tr>\n",
       "  </thead>\n",
       "  <tbody>\n",
       "    <tr>\n",
       "      <th>AMP-RA</th>\n",
       "      <td>AMP-RA</td>\n",
       "      <td>/data/srlab1/TCAT/Data/PerDataset/AMPRA/AMPRA....</td>\n",
       "      <td>/data/srlab1/TCAT/Data/PerDataset/AMPRA/AMPRA....</td>\n",
       "      <td>/data/srlab1/TCAT/Data/PerDataset/AMPRA/AMPRA....</td>\n",
       "      <td>/data/srlab1/TCAT/Data/TCAT/TCAT_Usage.2023101...</td>\n",
       "      <td>/data/srlab1/TCAT/Data/TCAT/TCAT_Usage.2023101...</td>\n",
       "      <td>NaN</td>\n",
       "      <td>/data/srlab1/TCAT/Data/PerDataset/AMPRA/Manual...</td>\n",
       "      <td>/data/srlab1/TCAT/Data/PerDataset/AMPRA/Activa...</td>\n",
       "      <td>/data/srlab1/TCAT/Data/PerDataset/AMPRA/AMP_AD...</td>\n",
       "      <td>...</td>\n",
       "      <td>34.0</td>\n",
       "      <td>0_15</td>\n",
       "      <td>/data/srlab1/TCAT/Data/PerDataset/AMPRA/AMP_AD...</td>\n",
       "      <td>/data/srlab1/TCAT/Data/PerDataset/AMPRA/AMP_AD...</td>\n",
       "      <td>/data/srlab1/TCAT/Data/PerDataset/AMPRA/AMP_AD...</td>\n",
       "      <td>/data/srlab1/TCAT/Data/PerDataset/AMPRA/AMP_AD...</td>\n",
       "      <td>discovery</td>\n",
       "      <td>Synovium</td>\n",
       "      <td>RA+OA</td>\n",
       "      <td>/data/srlab1/TCAT/Data/TCAT/TCAT_Usage.2023101...</td>\n",
       "    </tr>\n",
       "    <tr>\n",
       "      <th>Pan-Cancer</th>\n",
       "      <td>Pan-Cancer</td>\n",
       "      <td>/data/srlab1/TCAT/Data/PerDataset/Pancancer/Pa...</td>\n",
       "      <td>/data/srlab1/TCAT/Data/PerDataset/Pancancer/Pa...</td>\n",
       "      <td>/data/srlab1/TCAT/Data/PerDataset/Pancancer/Pa...</td>\n",
       "      <td>/data/srlab1/TCAT/Data/TCAT/TCAT_Usage.2023101...</td>\n",
       "      <td>/data/srlab1/TCAT/Data/TCAT/TCAT_Usage.2023101...</td>\n",
       "      <td>NaN</td>\n",
       "      <td>NaN</td>\n",
       "      <td>/data/srlab1/TCAT/Data/PerDataset/Pancancer/Ac...</td>\n",
       "      <td>/data/srlab1/TCAT/Data/PerDataset/Pancancer/pa...</td>\n",
       "      <td>...</td>\n",
       "      <td>38.0</td>\n",
       "      <td>0.15</td>\n",
       "      <td>/data/srlab1/TCAT/Data/PerDataset/Pancancer/pa...</td>\n",
       "      <td>NaN</td>\n",
       "      <td>/data/srlab1/TCAT/Data/PerDataset/Pancancer/pa...</td>\n",
       "      <td>/data/srlab1/TCAT/Data/PerDataset/Pancancer/pa...</td>\n",
       "      <td>discovery</td>\n",
       "      <td>Pan-Tissue</td>\n",
       "      <td>Cancer+Healthy</td>\n",
       "      <td>/data/srlab1/TCAT/Data/TCAT/TCAT_Usage.2023101...</td>\n",
       "    </tr>\n",
       "    <tr>\n",
       "      <th>TBRU</th>\n",
       "      <td>TBRU</td>\n",
       "      <td>/data/srlab1/TCAT/Data/PerDataset/TBRU/TBRU.20...</td>\n",
       "      <td>/data/srlab1/TCAT/Data/PerDataset/TBRU/TBRU.20...</td>\n",
       "      <td>/data/srlab1/TCAT/Data/PerDataset/TBRU/TBRU.20...</td>\n",
       "      <td>/data/srlab1/TCAT/Data/TCAT/TCAT_Usage.2023101...</td>\n",
       "      <td>/data/srlab1/TCAT/Data/TCAT/TCAT_Usage.2023101...</td>\n",
       "      <td>NaN</td>\n",
       "      <td>/data/srlab1/TCAT/Data/PerDataset/TBRU/ManualG...</td>\n",
       "      <td>/data/srlab1/TCAT/Data/PerDataset/TBRU/Activat...</td>\n",
       "      <td>/data/srlab1/TCAT/Data/PerDataset/TBRU/tbru_ex...</td>\n",
       "      <td>...</td>\n",
       "      <td>36.0</td>\n",
       "      <td>0_20</td>\n",
       "      <td>/data/srlab1/TCAT/Data/PerDataset/TBRU/tbru_ex...</td>\n",
       "      <td>/data/srlab1/TCAT/Data/PerDataset/TBRU/tbru_ex...</td>\n",
       "      <td>/data/srlab1/TCAT/Data/PerDataset/TBRU/tbru_ex...</td>\n",
       "      <td>/data/srlab1/TCAT/Data/PerDataset/TBRU/tbru_ex...</td>\n",
       "      <td>discovery</td>\n",
       "      <td>Blood</td>\n",
       "      <td>Healthy</td>\n",
       "      <td>/data/srlab1/TCAT/Data/TCAT/TCAT_Usage.2023101...</td>\n",
       "    </tr>\n",
       "    <tr>\n",
       "      <th>HIV-Vaccine</th>\n",
       "      <td>HIV-Vaccine</td>\n",
       "      <td>/data/srlab1/TCAT/Data/PerDataset/HaoEtAl/HIVV...</td>\n",
       "      <td>/data/srlab1/TCAT/Data/PerDataset/HaoEtAl/HIVV...</td>\n",
       "      <td>/data/srlab1/TCAT/Data/PerDataset/HaoEtAl/HIVV...</td>\n",
       "      <td>/data/srlab1/TCAT/Data/TCAT/TCAT_Usage.2023101...</td>\n",
       "      <td>/data/srlab1/TCAT/Data/TCAT/TCAT_Usage.2023101...</td>\n",
       "      <td>/data/srlab1/TCAT/Data/PerDataset/HaoEtAl/Manu...</td>\n",
       "      <td>NaN</td>\n",
       "      <td>/data/srlab1/TCAT/Data/PerDataset/HaoEtAl/Acti...</td>\n",
       "      <td>/data/srlab1/TCAT/Data/PerDataset/HaoEtAl/haoe...</td>\n",
       "      <td>...</td>\n",
       "      <td>31.0</td>\n",
       "      <td>0_15</td>\n",
       "      <td>/data/srlab1/TCAT/Data/PerDataset/HaoEtAl/haoe...</td>\n",
       "      <td>/data/srlab1/TCAT/Data/PerDataset/HaoEtAl/haoe...</td>\n",
       "      <td>/data/srlab1/TCAT/Data/PerDataset/HaoEtAl/haoe...</td>\n",
       "      <td>/data/srlab1/TCAT/Data/PerDataset/HaoEtAl/haoe...</td>\n",
       "      <td>discovery</td>\n",
       "      <td>Blood</td>\n",
       "      <td>Post-Vaccine+Healthy</td>\n",
       "      <td>/data/srlab1/TCAT/Data/TCAT/TCAT_Usage.2023101...</td>\n",
       "    </tr>\n",
       "    <tr>\n",
       "      <th>UK-Covid</th>\n",
       "      <td>UK-Covid</td>\n",
       "      <td>/data/srlab1/TCAT/Data/PerDataset/UKCOVID/UKCO...</td>\n",
       "      <td>/data/srlab1/TCAT/Data/PerDataset/UKCOVID/UKCO...</td>\n",
       "      <td>/data/srlab1/TCAT/Data/PerDataset/UKCOVID/UKCO...</td>\n",
       "      <td>/data/srlab1/TCAT/Data/TCAT/TCAT_Usage.2023101...</td>\n",
       "      <td>/data/srlab1/TCAT/Data/TCAT/TCAT_Usage.2023101...</td>\n",
       "      <td>/data/srlab1/TCAT/Data/PerDataset/UKCOVID/Manu...</td>\n",
       "      <td>/data/srlab1/TCAT/Data/PerDataset/UKCOVID/Manu...</td>\n",
       "      <td>/data/srlab1/TCAT/Data/PerDataset/UKCOVID/Acti...</td>\n",
       "      <td>/data/srlab1/TCAT/Data/PerDataset/UKCOVID/hani...</td>\n",
       "      <td>...</td>\n",
       "      <td>44.0</td>\n",
       "      <td>0_20</td>\n",
       "      <td>/data/srlab1/TCAT/Data/PerDataset/UKCOVID/hani...</td>\n",
       "      <td>NaN</td>\n",
       "      <td>/data/srlab1/TCAT/Data/PerDataset/UKCOVID/hani...</td>\n",
       "      <td>/data/srlab1/TCAT/Data/PerDataset/UKCOVID/hani...</td>\n",
       "      <td>discovery</td>\n",
       "      <td>Blood</td>\n",
       "      <td>Covid-19+Healthy</td>\n",
       "      <td>/data/srlab1/TCAT/Data/TCAT/TCAT_Usage.2023101...</td>\n",
       "    </tr>\n",
       "    <tr>\n",
       "      <th>COMBAT</th>\n",
       "      <td>COMBAT</td>\n",
       "      <td>/data/srlab1/TCAT/Data/PerDataset/COMBAT/COMBA...</td>\n",
       "      <td>/data/srlab1/TCAT/Data/PerDataset/COMBAT/COMBA...</td>\n",
       "      <td>/data/srlab1/TCAT/Data/PerDataset/COMBAT/COMBA...</td>\n",
       "      <td>/data/srlab1/TCAT/Data/TCAT/TCAT_Usage.2023101...</td>\n",
       "      <td>/data/srlab1/TCAT/Data/TCAT/TCAT_Usage.2023101...</td>\n",
       "      <td>/data/srlab1/TCAT/Data/PerDataset/COMBAT/Manua...</td>\n",
       "      <td>/data/srlab1/TCAT/Data/PerDataset/COMBAT/Manua...</td>\n",
       "      <td>/data/srlab1/TCAT/Data/PerDataset/COMBAT/Activ...</td>\n",
       "      <td>/data/srlab1/TCAT/Data/PerDataset/COMBAT/COMBA...</td>\n",
       "      <td>...</td>\n",
       "      <td>35.0</td>\n",
       "      <td>0_15</td>\n",
       "      <td>/data/srlab1/TCAT/Data/PerDataset/COMBAT/COMBA...</td>\n",
       "      <td>/data/srlab1/TCAT/Data/PerDataset/COMBAT/COMBA...</td>\n",
       "      <td>/data/srlab1/TCAT/Data/PerDataset/COMBAT/COMBA...</td>\n",
       "      <td>/data/srlab1/TCAT/Data/PerDataset/COMBAT/COMBA...</td>\n",
       "      <td>discovery</td>\n",
       "      <td>Blood</td>\n",
       "      <td>Covid-19+Healthy</td>\n",
       "      <td>/data/srlab1/TCAT/Data/TCAT/TCAT_Usage.2023101...</td>\n",
       "    </tr>\n",
       "    <tr>\n",
       "      <th>Pan-Tissue</th>\n",
       "      <td>Pan-Tissue</td>\n",
       "      <td>/data/srlab1/TCAT/Data/PerDataset/XTissueImmun...</td>\n",
       "      <td>/data/srlab1/TCAT/Data/PerDataset/XTissueImmun...</td>\n",
       "      <td>/data/srlab1/TCAT/Data/PerDataset/XTissueImmun...</td>\n",
       "      <td>/data/srlab1/TCAT/Data/TCAT/TCAT_Usage.2023101...</td>\n",
       "      <td>/data/srlab1/TCAT/Data/TCAT/TCAT_Usage.2023101...</td>\n",
       "      <td>NaN</td>\n",
       "      <td>NaN</td>\n",
       "      <td>/data/srlab1/TCAT/Data/PerDataset/XTissueImmun...</td>\n",
       "      <td>/data/srlab1/TCAT/Data/PerDataset/XTissueImmun...</td>\n",
       "      <td>...</td>\n",
       "      <td>39.0</td>\n",
       "      <td>0_20</td>\n",
       "      <td>/data/srlab1/TCAT/Data/PerDataset/XTissueImmun...</td>\n",
       "      <td>NaN</td>\n",
       "      <td>/data/srlab1/TCAT/Data/PerDataset/XTissueImmun...</td>\n",
       "      <td>/data/srlab1/TCAT/Data/PerDataset/XTissueImmun...</td>\n",
       "      <td>discovery</td>\n",
       "      <td>Pan-Tissue</td>\n",
       "      <td>Non-Cancer/Non-Viral</td>\n",
       "      <td>/data/srlab1/TCAT/Data/TCAT/TCAT_Usage.2023101...</td>\n",
       "    </tr>\n",
       "    <tr>\n",
       "      <th>Sparks</th>\n",
       "      <td>Sparks</td>\n",
       "      <td>NaN</td>\n",
       "      <td>NaN</td>\n",
       "      <td>NaN</td>\n",
       "      <td>/data/srlab1/TCAT/Data/TCAT/TCAT_Usage.2023101...</td>\n",
       "      <td>NaN</td>\n",
       "      <td>/data/srlab1/TCAT/Data/PerDataset/Sparks2023/M...</td>\n",
       "      <td>/data/srlab1/TCAT/Data/PerDataset/Sparks2023/M...</td>\n",
       "      <td>/data/srlab1/TCAT/Data/PerDataset/Sparks2023/A...</td>\n",
       "      <td>/data/srlab1/TCAT/Data/PerDataset/Sparks2023/T...</td>\n",
       "      <td>...</td>\n",
       "      <td>NaN</td>\n",
       "      <td>NaN</td>\n",
       "      <td>NaN</td>\n",
       "      <td>NaN</td>\n",
       "      <td>/data/srlab1/TCAT/Data/PerDataset/Sparks2023/T...</td>\n",
       "      <td>/data/srlab1/TCAT/Data/PerDataset/Sparks2023/T...</td>\n",
       "      <td>other</td>\n",
       "      <td>Blood</td>\n",
       "      <td>NaN</td>\n",
       "      <td>/data/srlab1/TCAT/Data/TCAT/TCAT_Usage.2023101...</td>\n",
       "    </tr>\n",
       "    <tr>\n",
       "      <th>Stimseq</th>\n",
       "      <td>Stimseq</td>\n",
       "      <td>NaN</td>\n",
       "      <td>NaN</td>\n",
       "      <td>NaN</td>\n",
       "      <td>/data/srlab1/TCAT/Data/PerDataset/Stimseq/TCAT...</td>\n",
       "      <td>NaN</td>\n",
       "      <td>/data/srlab1/TCAT/Data/PerDataset/Stimseq/Manu...</td>\n",
       "      <td>/data/srlab1/TCAT/Data/PerDataset/Stimseq/Manu...</td>\n",
       "      <td>/data/srlab1/TCAT/Data/PerDataset/Stimseq/Acti...</td>\n",
       "      <td>/data/srlab1/TCAT/Data/PerDataset/Stimseq/stim...</td>\n",
       "      <td>...</td>\n",
       "      <td>NaN</td>\n",
       "      <td>NaN</td>\n",
       "      <td>/data/srlab1/TCAT/Data/PerDataset/Stimseq/stim...</td>\n",
       "      <td>NaN</td>\n",
       "      <td>/data/srlab1/TCAT/Data/PerDataset/Stimseq/raw....</td>\n",
       "      <td>/data/srlab1/TCAT/Data/PerDataset/Stimseq/raw....</td>\n",
       "      <td>other</td>\n",
       "      <td>Blood</td>\n",
       "      <td>NaN</td>\n",
       "      <td>/data/srlab1/TCAT/Data/PerDataset/Stimseq/TCAT...</td>\n",
       "    </tr>\n",
       "  </tbody>\n",
       "</table>\n",
       "<p>9 rows × 27 columns</p>\n",
       "</div>"
      ],
      "text/plain": [
       "                 dataset                                           usage_fn  \\\n",
       "dataset                                                                       \n",
       "AMP-RA            AMP-RA  /data/srlab1/TCAT/Data/PerDataset/AMPRA/AMPRA....   \n",
       "Pan-Cancer    Pan-Cancer  /data/srlab1/TCAT/Data/PerDataset/Pancancer/Pa...   \n",
       "TBRU                TBRU  /data/srlab1/TCAT/Data/PerDataset/TBRU/TBRU.20...   \n",
       "HIV-Vaccine  HIV-Vaccine  /data/srlab1/TCAT/Data/PerDataset/HaoEtAl/HIVV...   \n",
       "UK-Covid        UK-Covid  /data/srlab1/TCAT/Data/PerDataset/UKCOVID/UKCO...   \n",
       "COMBAT            COMBAT  /data/srlab1/TCAT/Data/PerDataset/COMBAT/COMBA...   \n",
       "Pan-Tissue    Pan-Tissue  /data/srlab1/TCAT/Data/PerDataset/XTissueImmun...   \n",
       "Sparks            Sparks                                                NaN   \n",
       "Stimseq          Stimseq                                                NaN   \n",
       "\n",
       "                                                gene_scores_fn  \\\n",
       "dataset                                                          \n",
       "AMP-RA       /data/srlab1/TCAT/Data/PerDataset/AMPRA/AMPRA....   \n",
       "Pan-Cancer   /data/srlab1/TCAT/Data/PerDataset/Pancancer/Pa...   \n",
       "TBRU         /data/srlab1/TCAT/Data/PerDataset/TBRU/TBRU.20...   \n",
       "HIV-Vaccine  /data/srlab1/TCAT/Data/PerDataset/HaoEtAl/HIVV...   \n",
       "UK-Covid     /data/srlab1/TCAT/Data/PerDataset/UKCOVID/UKCO...   \n",
       "COMBAT       /data/srlab1/TCAT/Data/PerDataset/COMBAT/COMBA...   \n",
       "Pan-Tissue   /data/srlab1/TCAT/Data/PerDataset/XTissueImmun...   \n",
       "Sparks                                                     NaN   \n",
       "Stimseq                                                    NaN   \n",
       "\n",
       "                                                   gene_tpm_fn  \\\n",
       "dataset                                                          \n",
       "AMP-RA       /data/srlab1/TCAT/Data/PerDataset/AMPRA/AMPRA....   \n",
       "Pan-Cancer   /data/srlab1/TCAT/Data/PerDataset/Pancancer/Pa...   \n",
       "TBRU         /data/srlab1/TCAT/Data/PerDataset/TBRU/TBRU.20...   \n",
       "HIV-Vaccine  /data/srlab1/TCAT/Data/PerDataset/HaoEtAl/HIVV...   \n",
       "UK-Covid     /data/srlab1/TCAT/Data/PerDataset/UKCOVID/UKCO...   \n",
       "COMBAT       /data/srlab1/TCAT/Data/PerDataset/COMBAT/COMBA...   \n",
       "Pan-Tissue   /data/srlab1/TCAT/Data/PerDataset/XTissueImmun...   \n",
       "Sparks                                                     NaN   \n",
       "Stimseq                                                    NaN   \n",
       "\n",
       "                                                       tcat_fn  \\\n",
       "dataset                                                          \n",
       "AMP-RA       /data/srlab1/TCAT/Data/TCAT/TCAT_Usage.2023101...   \n",
       "Pan-Cancer   /data/srlab1/TCAT/Data/TCAT/TCAT_Usage.2023101...   \n",
       "TBRU         /data/srlab1/TCAT/Data/TCAT/TCAT_Usage.2023101...   \n",
       "HIV-Vaccine  /data/srlab1/TCAT/Data/TCAT/TCAT_Usage.2023101...   \n",
       "UK-Covid     /data/srlab1/TCAT/Data/TCAT/TCAT_Usage.2023101...   \n",
       "COMBAT       /data/srlab1/TCAT/Data/TCAT/TCAT_Usage.2023101...   \n",
       "Pan-Tissue   /data/srlab1/TCAT/Data/TCAT/TCAT_Usage.2023101...   \n",
       "Sparks       /data/srlab1/TCAT/Data/TCAT/TCAT_Usage.2023101...   \n",
       "Stimseq      /data/srlab1/TCAT/Data/PerDataset/Stimseq/TCAT...   \n",
       "\n",
       "                                        tcat_fn_withsingletons  \\\n",
       "dataset                                                          \n",
       "AMP-RA       /data/srlab1/TCAT/Data/TCAT/TCAT_Usage.2023101...   \n",
       "Pan-Cancer   /data/srlab1/TCAT/Data/TCAT/TCAT_Usage.2023101...   \n",
       "TBRU         /data/srlab1/TCAT/Data/TCAT/TCAT_Usage.2023101...   \n",
       "HIV-Vaccine  /data/srlab1/TCAT/Data/TCAT/TCAT_Usage.2023101...   \n",
       "UK-Covid     /data/srlab1/TCAT/Data/TCAT/TCAT_Usage.2023101...   \n",
       "COMBAT       /data/srlab1/TCAT/Data/TCAT/TCAT_Usage.2023101...   \n",
       "Pan-Tissue   /data/srlab1/TCAT/Data/TCAT/TCAT_Usage.2023101...   \n",
       "Sparks                                                     NaN   \n",
       "Stimseq                                                    NaN   \n",
       "\n",
       "                                              manual_gating_fn  \\\n",
       "dataset                                                          \n",
       "AMP-RA                                                     NaN   \n",
       "Pan-Cancer                                                 NaN   \n",
       "TBRU                                                       NaN   \n",
       "HIV-Vaccine  /data/srlab1/TCAT/Data/PerDataset/HaoEtAl/Manu...   \n",
       "UK-Covid     /data/srlab1/TCAT/Data/PerDataset/UKCOVID/Manu...   \n",
       "COMBAT       /data/srlab1/TCAT/Data/PerDataset/COMBAT/Manua...   \n",
       "Pan-Tissue                                                 NaN   \n",
       "Sparks       /data/srlab1/TCAT/Data/PerDataset/Sparks2023/M...   \n",
       "Stimseq      /data/srlab1/TCAT/Data/PerDataset/Stimseq/Manu...   \n",
       "\n",
       "                                   manual_activation_gating_fn  \\\n",
       "dataset                                                          \n",
       "AMP-RA       /data/srlab1/TCAT/Data/PerDataset/AMPRA/Manual...   \n",
       "Pan-Cancer                                                 NaN   \n",
       "TBRU         /data/srlab1/TCAT/Data/PerDataset/TBRU/ManualG...   \n",
       "HIV-Vaccine                                                NaN   \n",
       "UK-Covid     /data/srlab1/TCAT/Data/PerDataset/UKCOVID/Manu...   \n",
       "COMBAT       /data/srlab1/TCAT/Data/PerDataset/COMBAT/Manua...   \n",
       "Pan-Tissue                                                 NaN   \n",
       "Sparks       /data/srlab1/TCAT/Data/PerDataset/Sparks2023/M...   \n",
       "Stimseq      /data/srlab1/TCAT/Data/PerDataset/Stimseq/Manu...   \n",
       "\n",
       "                                           activation_score_fn  \\\n",
       "dataset                                                          \n",
       "AMP-RA       /data/srlab1/TCAT/Data/PerDataset/AMPRA/Activa...   \n",
       "Pan-Cancer   /data/srlab1/TCAT/Data/PerDataset/Pancancer/Ac...   \n",
       "TBRU         /data/srlab1/TCAT/Data/PerDataset/TBRU/Activat...   \n",
       "HIV-Vaccine  /data/srlab1/TCAT/Data/PerDataset/HaoEtAl/Acti...   \n",
       "UK-Covid     /data/srlab1/TCAT/Data/PerDataset/UKCOVID/Acti...   \n",
       "COMBAT       /data/srlab1/TCAT/Data/PerDataset/COMBAT/Activ...   \n",
       "Pan-Tissue   /data/srlab1/TCAT/Data/PerDataset/XTissueImmun...   \n",
       "Sparks       /data/srlab1/TCAT/Data/PerDataset/Sparks2023/A...   \n",
       "Stimseq      /data/srlab1/TCAT/Data/PerDataset/Stimseq/Acti...   \n",
       "\n",
       "                                                   metadata_fn  ...     k  \\\n",
       "dataset                                                         ...         \n",
       "AMP-RA       /data/srlab1/TCAT/Data/PerDataset/AMPRA/AMP_AD...  ...  34.0   \n",
       "Pan-Cancer   /data/srlab1/TCAT/Data/PerDataset/Pancancer/pa...  ...  38.0   \n",
       "TBRU         /data/srlab1/TCAT/Data/PerDataset/TBRU/tbru_ex...  ...  36.0   \n",
       "HIV-Vaccine  /data/srlab1/TCAT/Data/PerDataset/HaoEtAl/haoe...  ...  31.0   \n",
       "UK-Covid     /data/srlab1/TCAT/Data/PerDataset/UKCOVID/hani...  ...  44.0   \n",
       "COMBAT       /data/srlab1/TCAT/Data/PerDataset/COMBAT/COMBA...  ...  35.0   \n",
       "Pan-Tissue   /data/srlab1/TCAT/Data/PerDataset/XTissueImmun...  ...  39.0   \n",
       "Sparks       /data/srlab1/TCAT/Data/PerDataset/Sparks2023/T...  ...   NaN   \n",
       "Stimseq      /data/srlab1/TCAT/Data/PerDataset/Stimseq/stim...  ...   NaN   \n",
       "\n",
       "               dt                               processed_forcnmf_fn  \\\n",
       "dataset                                                                \n",
       "AMP-RA       0_15  /data/srlab1/TCAT/Data/PerDataset/AMPRA/AMP_AD...   \n",
       "Pan-Cancer   0.15  /data/srlab1/TCAT/Data/PerDataset/Pancancer/pa...   \n",
       "TBRU         0_20  /data/srlab1/TCAT/Data/PerDataset/TBRU/tbru_ex...   \n",
       "HIV-Vaccine  0_15  /data/srlab1/TCAT/Data/PerDataset/HaoEtAl/haoe...   \n",
       "UK-Covid     0_20  /data/srlab1/TCAT/Data/PerDataset/UKCOVID/hani...   \n",
       "COMBAT       0_15  /data/srlab1/TCAT/Data/PerDataset/COMBAT/COMBA...   \n",
       "Pan-Tissue   0_20  /data/srlab1/TCAT/Data/PerDataset/XTissueImmun...   \n",
       "Sparks        NaN                                                NaN   \n",
       "Stimseq       NaN  /data/srlab1/TCAT/Data/PerDataset/Stimseq/stim...   \n",
       "\n",
       "                                        tpm_counts_for_cnmf_fn  \\\n",
       "dataset                                                          \n",
       "AMP-RA       /data/srlab1/TCAT/Data/PerDataset/AMPRA/AMP_AD...   \n",
       "Pan-Cancer                                                 NaN   \n",
       "TBRU         /data/srlab1/TCAT/Data/PerDataset/TBRU/tbru_ex...   \n",
       "HIV-Vaccine  /data/srlab1/TCAT/Data/PerDataset/HaoEtAl/haoe...   \n",
       "UK-Covid                                                   NaN   \n",
       "COMBAT       /data/srlab1/TCAT/Data/PerDataset/COMBAT/COMBA...   \n",
       "Pan-Tissue                                                 NaN   \n",
       "Sparks                                                     NaN   \n",
       "Stimseq                                                    NaN   \n",
       "\n",
       "                                            raw_counts_filt_fn  \\\n",
       "dataset                                                          \n",
       "AMP-RA       /data/srlab1/TCAT/Data/PerDataset/AMPRA/AMP_AD...   \n",
       "Pan-Cancer   /data/srlab1/TCAT/Data/PerDataset/Pancancer/pa...   \n",
       "TBRU         /data/srlab1/TCAT/Data/PerDataset/TBRU/tbru_ex...   \n",
       "HIV-Vaccine  /data/srlab1/TCAT/Data/PerDataset/HaoEtAl/haoe...   \n",
       "UK-Covid     /data/srlab1/TCAT/Data/PerDataset/UKCOVID/hani...   \n",
       "COMBAT       /data/srlab1/TCAT/Data/PerDataset/COMBAT/COMBA...   \n",
       "Pan-Tissue   /data/srlab1/TCAT/Data/PerDataset/XTissueImmun...   \n",
       "Sparks       /data/srlab1/TCAT/Data/PerDataset/Sparks2023/T...   \n",
       "Stimseq      /data/srlab1/TCAT/Data/PerDataset/Stimseq/raw....   \n",
       "\n",
       "                                                 raw_counts_fn dataset_type  \\\n",
       "dataset                                                                       \n",
       "AMP-RA       /data/srlab1/TCAT/Data/PerDataset/AMPRA/AMP_AD...    discovery   \n",
       "Pan-Cancer   /data/srlab1/TCAT/Data/PerDataset/Pancancer/pa...    discovery   \n",
       "TBRU         /data/srlab1/TCAT/Data/PerDataset/TBRU/tbru_ex...    discovery   \n",
       "HIV-Vaccine  /data/srlab1/TCAT/Data/PerDataset/HaoEtAl/haoe...    discovery   \n",
       "UK-Covid     /data/srlab1/TCAT/Data/PerDataset/UKCOVID/hani...    discovery   \n",
       "COMBAT       /data/srlab1/TCAT/Data/PerDataset/COMBAT/COMBA...    discovery   \n",
       "Pan-Tissue   /data/srlab1/TCAT/Data/PerDataset/XTissueImmun...    discovery   \n",
       "Sparks       /data/srlab1/TCAT/Data/PerDataset/Sparks2023/T...        other   \n",
       "Stimseq      /data/srlab1/TCAT/Data/PerDataset/Stimseq/raw....        other   \n",
       "\n",
       "             tissue_type         context_label  \\\n",
       "dataset                                          \n",
       "AMP-RA          Synovium                 RA+OA   \n",
       "Pan-Cancer    Pan-Tissue        Cancer+Healthy   \n",
       "TBRU               Blood               Healthy   \n",
       "HIV-Vaccine        Blood  Post-Vaccine+Healthy   \n",
       "UK-Covid           Blood      Covid-19+Healthy   \n",
       "COMBAT             Blood      Covid-19+Healthy   \n",
       "Pan-Tissue    Pan-Tissue  Non-Cancer/Non-Viral   \n",
       "Sparks             Blood                   NaN   \n",
       "Stimseq            Blood                   NaN   \n",
       "\n",
       "                                                   tcat_fn_old  \n",
       "dataset                                                         \n",
       "AMP-RA       /data/srlab1/TCAT/Data/TCAT/TCAT_Usage.2023101...  \n",
       "Pan-Cancer   /data/srlab1/TCAT/Data/TCAT/TCAT_Usage.2023101...  \n",
       "TBRU         /data/srlab1/TCAT/Data/TCAT/TCAT_Usage.2023101...  \n",
       "HIV-Vaccine  /data/srlab1/TCAT/Data/TCAT/TCAT_Usage.2023101...  \n",
       "UK-Covid     /data/srlab1/TCAT/Data/TCAT/TCAT_Usage.2023101...  \n",
       "COMBAT       /data/srlab1/TCAT/Data/TCAT/TCAT_Usage.2023101...  \n",
       "Pan-Tissue   /data/srlab1/TCAT/Data/TCAT/TCAT_Usage.2023101...  \n",
       "Sparks       /data/srlab1/TCAT/Data/TCAT/TCAT_Usage.2023101...  \n",
       "Stimseq      /data/srlab1/TCAT/Data/PerDataset/Stimseq/TCAT...  \n",
       "\n",
       "[9 rows x 27 columns]"
      ]
     },
     "execution_count": 3,
     "metadata": {},
     "output_type": "execute_result"
    }
   ],
   "source": [
    "params = read_dataset_log('Dataset Paths')\n",
    "params.index = params['dataset']\n",
    "params"
   ]
  },
  {
   "cell_type": "code",
   "execution_count": 4,
   "id": "76a4b069-5349-45a2-8f6f-ffecd0349286",
   "metadata": {},
   "outputs": [],
   "source": [
    "dataset = 'Sparks'\n"
   ]
  },
  {
   "cell_type": "code",
   "execution_count": 5,
   "id": "ebf9ec27-d361-478a-9347-ca252bcd85c9",
   "metadata": {},
   "outputs": [],
   "source": [
    "gating = pd.read_csv(params.loc[dataset, 'manual_gating_fn'], index_col = 0, sep = '\\t',\n",
    "                     header=0, names = ['cell_gating'])\n"
   ]
  },
  {
   "cell_type": "code",
   "execution_count": 6,
   "id": "07a68604-a1df-497c-9070-59d9d1ba44de",
   "metadata": {},
   "outputs": [
    {
     "data": {
      "text/plain": [
       "'/data/srlab1/TCAT/Data/PerDataset/Sparks2023/T_fromSeuratmetadata_RNAClustering_withSampID.tsv'"
      ]
     },
     "execution_count": 6,
     "metadata": {},
     "output_type": "execute_result"
    }
   ],
   "source": [
    "params.loc[dataset, 'metadata_fn']"
   ]
  },
  {
   "cell_type": "code",
   "execution_count": 6,
   "id": "d41a4b4e-d34e-4f2e-bf55-e30a08eee317",
   "metadata": {
    "tags": []
   },
   "outputs": [
    {
     "name": "stderr",
     "output_type": "stream",
     "text": [
      "/PHShome/mc1070/anaconda3/envs/cnmf_env2v2/lib/python3.7/site-packages/IPython/core/interactiveshell.py:3524: DtypeWarning: Columns (12) have mixed types.Specify dtype option on import or set low_memory=False.\n",
      "  exec(code_obj, self.user_global_ns, self.user_ns)\n"
     ]
    }
   ],
   "source": [
    "meta = pd.read_csv(params.loc[dataset, 'metadata_fn'], index_col = 0, sep = '\\t')\n",
    "meta['cell_gating'] = gating.loc[meta.index, 'cell_gating']\n",
    "# meta = meta.loc[usage_norm.index, ]\n",
    "\n",
    "cluster_col = params.loc[dataset, 'cluster_col']"
   ]
  },
  {
   "cell_type": "code",
   "execution_count": 7,
   "id": "5e74d68d-0bca-474e-8977-e2ae2247e91a",
   "metadata": {},
   "outputs": [
    {
     "data": {
      "text/plain": [
       "'/data/srlab1/TCAT/Data/PerDataset/Sparks2023/T_fromSeuratmetadata_RNAClustering_withSampID.tsv'"
      ]
     },
     "execution_count": 7,
     "metadata": {},
     "output_type": "execute_result"
    }
   ],
   "source": [
    "params.loc[dataset, 'metadata_fn']"
   ]
  },
  {
   "cell_type": "code",
   "execution_count": 8,
   "id": "19d11850-a0a6-4905-8c45-18bad30ec31c",
   "metadata": {
    "tags": []
   },
   "outputs": [
    {
     "data": {
      "text/html": [
       "<div>\n",
       "<style scoped>\n",
       "    .dataframe tbody tr th:only-of-type {\n",
       "        vertical-align: middle;\n",
       "    }\n",
       "\n",
       "    .dataframe tbody tr th {\n",
       "        vertical-align: top;\n",
       "    }\n",
       "\n",
       "    .dataframe thead th {\n",
       "        text-align: right;\n",
       "    }\n",
       "</style>\n",
       "<table border=\"1\" class=\"dataframe\">\n",
       "  <thead>\n",
       "    <tr style=\"text-align: right;\">\n",
       "      <th></th>\n",
       "      <th>alt.subject.id</th>\n",
       "      <th>visit</th>\n",
       "      <th>covid.diagnosis.start.date.to.sample.drawn</th>\n",
       "      <th>group</th>\n",
       "      <th>sex</th>\n",
       "      <th>age</th>\n",
       "      <th>race</th>\n",
       "      <th>ethnicity</th>\n",
       "      <th>flu.vax.count.10yr</th>\n",
       "      <th>vaccine</th>\n",
       "      <th>...</th>\n",
       "      <th>leiden_res2_25</th>\n",
       "      <th>leiden_res2</th>\n",
       "      <th>leiden_res1_75</th>\n",
       "      <th>leiden_res1_5</th>\n",
       "      <th>leiden_res1_25</th>\n",
       "      <th>leiden_res0_75</th>\n",
       "      <th>leiden_res0_5</th>\n",
       "      <th>leiden_res0_25</th>\n",
       "      <th>alt.sample.id</th>\n",
       "      <th>cell_gating</th>\n",
       "    </tr>\n",
       "  </thead>\n",
       "  <tbody>\n",
       "    <tr>\n",
       "      <th>Batch1_COVFLU_CITE_multi5P09_GCATGCGCAGCCTATA-1</th>\n",
       "      <td>Control</td>\n",
       "      <td>NaN</td>\n",
       "      <td>NaN</td>\n",
       "      <td>NaN</td>\n",
       "      <td>NaN</td>\n",
       "      <td>NaN</td>\n",
       "      <td>NaN</td>\n",
       "      <td>NaN</td>\n",
       "      <td>NaN</td>\n",
       "      <td>NaN</td>\n",
       "      <td>...</td>\n",
       "      <td>5</td>\n",
       "      <td>5</td>\n",
       "      <td>5</td>\n",
       "      <td>4</td>\n",
       "      <td>0</td>\n",
       "      <td>0</td>\n",
       "      <td>0</td>\n",
       "      <td>0</td>\n",
       "      <td>Control</td>\n",
       "      <td>CD4_Naive</td>\n",
       "    </tr>\n",
       "    <tr>\n",
       "      <th>Batch1_COVFLU_CITE_multi5P02_TTGTAGGCAGTATCTG-1</th>\n",
       "      <td>Control</td>\n",
       "      <td>NaN</td>\n",
       "      <td>NaN</td>\n",
       "      <td>NaN</td>\n",
       "      <td>NaN</td>\n",
       "      <td>NaN</td>\n",
       "      <td>NaN</td>\n",
       "      <td>NaN</td>\n",
       "      <td>NaN</td>\n",
       "      <td>NaN</td>\n",
       "      <td>...</td>\n",
       "      <td>1</td>\n",
       "      <td>1</td>\n",
       "      <td>1</td>\n",
       "      <td>1</td>\n",
       "      <td>2</td>\n",
       "      <td>4</td>\n",
       "      <td>1</td>\n",
       "      <td>1</td>\n",
       "      <td>Control</td>\n",
       "      <td>CD4_CM</td>\n",
       "    </tr>\n",
       "    <tr>\n",
       "      <th>Batch1_COVFLU_CITE_multi5P02_GATGCTACAGCTTAAC-1</th>\n",
       "      <td>Control</td>\n",
       "      <td>NaN</td>\n",
       "      <td>NaN</td>\n",
       "      <td>NaN</td>\n",
       "      <td>NaN</td>\n",
       "      <td>NaN</td>\n",
       "      <td>NaN</td>\n",
       "      <td>NaN</td>\n",
       "      <td>NaN</td>\n",
       "      <td>NaN</td>\n",
       "      <td>...</td>\n",
       "      <td>2</td>\n",
       "      <td>2</td>\n",
       "      <td>2</td>\n",
       "      <td>0</td>\n",
       "      <td>1</td>\n",
       "      <td>2</td>\n",
       "      <td>0</td>\n",
       "      <td>0</td>\n",
       "      <td>Control</td>\n",
       "      <td>CD4_Naive</td>\n",
       "    </tr>\n",
       "  </tbody>\n",
       "</table>\n",
       "<p>3 rows × 43 columns</p>\n",
       "</div>"
      ],
      "text/plain": [
       "                                                alt.subject.id visit  \\\n",
       "Batch1_COVFLU_CITE_multi5P09_GCATGCGCAGCCTATA-1        Control   NaN   \n",
       "Batch1_COVFLU_CITE_multi5P02_TTGTAGGCAGTATCTG-1        Control   NaN   \n",
       "Batch1_COVFLU_CITE_multi5P02_GATGCTACAGCTTAAC-1        Control   NaN   \n",
       "\n",
       "                                                 covid.diagnosis.start.date.to.sample.drawn  \\\n",
       "Batch1_COVFLU_CITE_multi5P09_GCATGCGCAGCCTATA-1                                         NaN   \n",
       "Batch1_COVFLU_CITE_multi5P02_TTGTAGGCAGTATCTG-1                                         NaN   \n",
       "Batch1_COVFLU_CITE_multi5P02_GATGCTACAGCTTAAC-1                                         NaN   \n",
       "\n",
       "                                                group  sex  age race  \\\n",
       "Batch1_COVFLU_CITE_multi5P09_GCATGCGCAGCCTATA-1   NaN  NaN  NaN  NaN   \n",
       "Batch1_COVFLU_CITE_multi5P02_TTGTAGGCAGTATCTG-1   NaN  NaN  NaN  NaN   \n",
       "Batch1_COVFLU_CITE_multi5P02_GATGCTACAGCTTAAC-1   NaN  NaN  NaN  NaN   \n",
       "\n",
       "                                                ethnicity  flu.vax.count.10yr  \\\n",
       "Batch1_COVFLU_CITE_multi5P09_GCATGCGCAGCCTATA-1       NaN                 NaN   \n",
       "Batch1_COVFLU_CITE_multi5P02_TTGTAGGCAGTATCTG-1       NaN                 NaN   \n",
       "Batch1_COVFLU_CITE_multi5P02_GATGCTACAGCTTAAC-1       NaN                 NaN   \n",
       "\n",
       "                                                vaccine  ... leiden_res2_25  \\\n",
       "Batch1_COVFLU_CITE_multi5P09_GCATGCGCAGCCTATA-1     NaN  ...              5   \n",
       "Batch1_COVFLU_CITE_multi5P02_TTGTAGGCAGTATCTG-1     NaN  ...              1   \n",
       "Batch1_COVFLU_CITE_multi5P02_GATGCTACAGCTTAAC-1     NaN  ...              2   \n",
       "\n",
       "                                                leiden_res2 leiden_res1_75  \\\n",
       "Batch1_COVFLU_CITE_multi5P09_GCATGCGCAGCCTATA-1           5              5   \n",
       "Batch1_COVFLU_CITE_multi5P02_TTGTAGGCAGTATCTG-1           1              1   \n",
       "Batch1_COVFLU_CITE_multi5P02_GATGCTACAGCTTAAC-1           2              2   \n",
       "\n",
       "                                                 leiden_res1_5  \\\n",
       "Batch1_COVFLU_CITE_multi5P09_GCATGCGCAGCCTATA-1              4   \n",
       "Batch1_COVFLU_CITE_multi5P02_TTGTAGGCAGTATCTG-1              1   \n",
       "Batch1_COVFLU_CITE_multi5P02_GATGCTACAGCTTAAC-1              0   \n",
       "\n",
       "                                                 leiden_res1_25  \\\n",
       "Batch1_COVFLU_CITE_multi5P09_GCATGCGCAGCCTATA-1               0   \n",
       "Batch1_COVFLU_CITE_multi5P02_TTGTAGGCAGTATCTG-1               2   \n",
       "Batch1_COVFLU_CITE_multi5P02_GATGCTACAGCTTAAC-1               1   \n",
       "\n",
       "                                                 leiden_res0_75  \\\n",
       "Batch1_COVFLU_CITE_multi5P09_GCATGCGCAGCCTATA-1               0   \n",
       "Batch1_COVFLU_CITE_multi5P02_TTGTAGGCAGTATCTG-1               4   \n",
       "Batch1_COVFLU_CITE_multi5P02_GATGCTACAGCTTAAC-1               2   \n",
       "\n",
       "                                                 leiden_res0_5  \\\n",
       "Batch1_COVFLU_CITE_multi5P09_GCATGCGCAGCCTATA-1              0   \n",
       "Batch1_COVFLU_CITE_multi5P02_TTGTAGGCAGTATCTG-1              1   \n",
       "Batch1_COVFLU_CITE_multi5P02_GATGCTACAGCTTAAC-1              0   \n",
       "\n",
       "                                                 leiden_res0_25  \\\n",
       "Batch1_COVFLU_CITE_multi5P09_GCATGCGCAGCCTATA-1               0   \n",
       "Batch1_COVFLU_CITE_multi5P02_TTGTAGGCAGTATCTG-1               1   \n",
       "Batch1_COVFLU_CITE_multi5P02_GATGCTACAGCTTAAC-1               0   \n",
       "\n",
       "                                                 alt.sample.id  cell_gating  \n",
       "Batch1_COVFLU_CITE_multi5P09_GCATGCGCAGCCTATA-1        Control    CD4_Naive  \n",
       "Batch1_COVFLU_CITE_multi5P02_TTGTAGGCAGTATCTG-1        Control       CD4_CM  \n",
       "Batch1_COVFLU_CITE_multi5P02_GATGCTACAGCTTAAC-1        Control    CD4_Naive  \n",
       "\n",
       "[3 rows x 43 columns]"
      ]
     },
     "execution_count": 8,
     "metadata": {},
     "output_type": "execute_result"
    }
   ],
   "source": [
    "meta.head(3)"
   ]
  },
  {
   "cell_type": "code",
   "execution_count": 7,
   "id": "66c650b7-c4d2-467c-b09f-17c4afa41e79",
   "metadata": {},
   "outputs": [],
   "source": [
    "pp_params = {\n",
    "    'name_addition':None,\n",
    "    'harmony_vars': ['alt.subject.id', 'visit', #'group', \n",
    "              'Batch'],\n",
    "    'n_rna_pcs': 31,\n",
    "    'n_neighbors': 30\n",
    "}\n",
    "\n",
    "if pp_params['name_addition'] is None:\n",
    "    toadd = ''\n",
    "else:\n",
    "    toadd = pp_params['name_addition']\n"
   ]
  },
  {
   "cell_type": "code",
   "execution_count": 8,
   "id": "903eeae8-e194-47c4-9035-700244ca9dbf",
   "metadata": {},
   "outputs": [
    {
     "data": {
      "text/plain": [
       "{'Original': '../../../Data/PerDataset/Sparks2023/T_fromSeurat.h5ad',\n",
       " 'RNA_LogTP10K_Varnorm_Harmony': '../../../Data/PerDataset/Sparks2023/T_fromSeuratRNA.LogTP10K.Varnorm.Harmony.h5ad',\n",
       " 'Metadata_RNAClustering': '../../../Data/PerDataset/Sparks2023/T_fromSeuratmetadata_RNAClustering.tsv'}"
      ]
     },
     "execution_count": 8,
     "metadata": {},
     "output_type": "execute_result"
    }
   ],
   "source": [
    "original =  '../../../Data/PerDataset/Sparks2023/T_fromSeurat.h5ad'\n",
    "\n",
    "paths = {\n",
    "        'Original' : original, # AnnData containing RNA +/- ADT,\n",
    "        'RNA_LogTP10K_Varnorm_Harmony':original.replace('.h5ad', toadd + 'RNA.LogTP10K.Varnorm.Harmony.h5ad'),\n",
    "        'Metadata_RNAClustering' : original.replace('.h5ad', toadd + 'metadata_RNAClustering.tsv')\n",
    "        }\n",
    "paths"
   ]
  },
  {
   "cell_type": "markdown",
   "id": "63f25834-86f0-4300-8de1-ee5cbc928849",
   "metadata": {},
   "source": [
    "# Preprocess and cluster RNA"
   ]
  },
  {
   "cell_type": "code",
   "execution_count": 6,
   "id": "1fe729af-258f-4cb7-b393-cc90b07ed832",
   "metadata": {
    "tags": []
   },
   "outputs": [],
   "source": [
    "adata = sc.read(params.loc[dataset, 'raw_counts_fn'])\n",
    "ind = adata.var['feature_types']=='Antibody Capture'"
   ]
  },
  {
   "cell_type": "code",
   "execution_count": 54,
   "id": "87011385-cd7e-499b-95af-c2a2f0fa1e15",
   "metadata": {},
   "outputs": [
    {
     "data": {
      "text/plain": [
       "'/data/srlab1/TCAT/Data/PerDataset/Sparks2023/T_fromSeurat.h5ad'"
      ]
     },
     "execution_count": 54,
     "metadata": {},
     "output_type": "execute_result"
    }
   ],
   "source": [
    "params.loc[dataset, 'raw_counts_fn']"
   ]
  },
  {
   "cell_type": "code",
   "execution_count": 7,
   "id": "4a8772da-8500-467a-86b0-c81f696e93df",
   "metadata": {
    "tags": []
   },
   "outputs": [],
   "source": [
    "adata_RNA = adata[:,~ind].copy()\n",
    "sc.pp.normalize_per_cell(adata_RNA, counts_per_cell_after=1e4)\n",
    "sc.pp.log1p(adata_RNA)\n",
    "sc.pp.highly_variable_genes(adata_RNA)"
   ]
  },
  {
   "cell_type": "code",
   "execution_count": 8,
   "id": "30ca41c3-64aa-4ea6-935d-38c209030c38",
   "metadata": {},
   "outputs": [],
   "source": [
    "sc.pp.scale(adata_RNA)\n",
    "sc.tl.pca(adata_RNA, svd_solver='arpack')"
   ]
  },
  {
   "cell_type": "code",
   "execution_count": 11,
   "id": "be58b864-f6d7-4bd0-840f-d9b227364bf6",
   "metadata": {},
   "outputs": [
    {
     "name": "stderr",
     "output_type": "stream",
     "text": [
      "2023-10-05 13:19:13,561 - harmonypy - INFO - Iteration 1 of 10\n",
      "2023-10-05 13:23:36,825 - harmonypy - INFO - Iteration 2 of 10\n",
      "2023-10-05 13:28:06,534 - harmonypy - INFO - Iteration 3 of 10\n",
      "2023-10-05 13:32:24,932 - harmonypy - INFO - Converged after 3 iterations\n"
     ]
    }
   ],
   "source": [
    "ho = hm.run_harmony(adata_RNA.obsm['X_pca'][:, 0:pp_params['n_rna_pcs']], \n",
    "                    adata_RNA.obs, pp_params['harmony_vars'], random_state = 0)"
   ]
  },
  {
   "cell_type": "code",
   "execution_count": 12,
   "id": "570e03b4-97b7-42a5-9f67-7ff3266a28ca",
   "metadata": {},
   "outputs": [],
   "source": [
    "adata_RNA.obsm['X_pca_harmony'] = ho.Z_corr.T"
   ]
  },
  {
   "cell_type": "code",
   "execution_count": 13,
   "id": "95629196-fc9d-4ca5-a15f-0189e0b062c3",
   "metadata": {},
   "outputs": [
    {
     "data": {
      "text/plain": [
       "((336739, 31), (336739, 50))"
      ]
     },
     "execution_count": 13,
     "metadata": {},
     "output_type": "execute_result"
    }
   ],
   "source": [
    "adata_RNA.obsm['X_pca_harmony'].shape, adata_RNA.obsm['X_pca'].shape"
   ]
  },
  {
   "cell_type": "code",
   "execution_count": 15,
   "id": "0dbc4fd5-e067-4996-9a38-b0ad37ef071d",
   "metadata": {},
   "outputs": [
    {
     "name": "stderr",
     "output_type": "stream",
     "text": [
      "/PHShome/mc1070/anaconda3/envs/cnmf_env2v2/lib/python3.7/site-packages/tqdm/auto.py:22: TqdmWarning: IProgress not found. Please update jupyter and ipywidgets. See https://ipywidgets.readthedocs.io/en/stable/user_install.html\n",
      "  from .autonotebook import tqdm as notebook_tqdm\n"
     ]
    }
   ],
   "source": [
    "sc.pp.neighbors(adata_RNA, n_neighbors=pp_params['n_neighbors'], \n",
    "                n_pcs=pp_params['n_rna_pcs'], use_rep='X_pca_harmony')"
   ]
  },
  {
   "cell_type": "code",
   "execution_count": 16,
   "id": "d21ba96a-03f3-4d72-ac17-141caad2f243",
   "metadata": {},
   "outputs": [],
   "source": [
    "sc.tl.umap(adata_RNA)"
   ]
  },
  {
   "cell_type": "code",
   "execution_count": 17,
   "id": "547ffd30-d039-4011-9f75-3d4d163e838f",
   "metadata": {},
   "outputs": [],
   "source": [
    "adata_RNA.obsm['X_harmony_RNA_UMAP'] = adata_RNA.obsm['X_umap']"
   ]
  },
  {
   "cell_type": "code",
   "execution_count": null,
   "id": "48376023-ad0c-44f5-95bc-3f12e5901b01",
   "metadata": {
    "tags": []
   },
   "outputs": [],
   "source": [
    "resolutions = [1, 0.8, 0.6, 2.25, 2, 1.75, 1.5, 1.25, 0.75, 0.5, 0.25]\n",
    "for r in resolutions:\n",
    "    print(r)\n",
    "    sc.tl.leiden(adata_RNA, key_added='leiden_res%s' % str(r).replace('.', '_'), resolution = r)"
   ]
  },
  {
   "cell_type": "code",
   "execution_count": 76,
   "id": "839eadfa-69a8-411c-8e22-e8d13a82e0bf",
   "metadata": {},
   "outputs": [
    {
     "data": {
      "text/plain": [
       "'../../Data/PerDataset/Sparks2023/T_fromSeuratmetadata_RNAClustering.tsv'"
      ]
     },
     "execution_count": 76,
     "metadata": {},
     "output_type": "execute_result"
    }
   ],
   "source": [
    "paths['Metadata_RNAClustering']"
   ]
  },
  {
   "cell_type": "code",
   "execution_count": 78,
   "id": "44f02ac4-894b-4864-9e02-d978a8222cc8",
   "metadata": {},
   "outputs": [
    {
     "data": {
      "text/plain": [
       "'../../Data/PerDataset/Sparks2023/T_fromSeuratRNA.LogTP10K.Varnorm.Harmony.h5ad'"
      ]
     },
     "execution_count": 78,
     "metadata": {},
     "output_type": "execute_result"
    }
   ],
   "source": [
    "paths['RNA_LogTP10K_Varnorm_Harmony']"
   ]
  },
  {
   "cell_type": "code",
   "execution_count": 75,
   "id": "e311278e-734d-4d29-bde9-9a4f83a1395e",
   "metadata": {
    "tags": []
   },
   "outputs": [],
   "source": [
    "adata_RNA.obs.to_csv(paths['Metadata_RNAClustering'], sep='\\t')"
   ]
  },
  {
   "cell_type": "code",
   "execution_count": 84,
   "id": "9b4075db-f04a-4963-b12d-6e4f9e87532f",
   "metadata": {},
   "outputs": [
    {
     "name": "stdout",
     "output_type": "stream",
     "text": [
      "WARNING: Your filename has more than two extensions: ['.LogTP10K', '.Varnorm', '.Harmony', '.h5ad'].\n",
      "Only considering the two last: ['.Harmony', '.h5ad'].\n",
      "WARNING: Your filename has more than two extensions: ['.LogTP10K', '.Varnorm', '.Harmony', '.h5ad'].\n",
      "Only considering the two last: ['.Harmony', '.h5ad'].\n"
     ]
    }
   ],
   "source": [
    "sc.write(paths['RNA_LogTP10K_Varnorm_Harmony'], adata_RNA)"
   ]
  },
  {
   "cell_type": "markdown",
   "id": "80642c22-f91c-4134-8671-39204d6a506a",
   "metadata": {},
   "source": [
    "# Assign gates to clusters"
   ]
  },
  {
   "cell_type": "code",
   "execution_count": 12,
   "id": "8f76286d-f24e-4acc-80e8-4d20121a9b3e",
   "metadata": {},
   "outputs": [
    {
     "name": "stdout",
     "output_type": "stream",
     "text": [
      "WARNING: Your filename has more than two extensions: ['.LogTP10K', '.Varnorm', '.Harmony', '.h5ad'].\n",
      "Only considering the two last: ['.Harmony', '.h5ad'].\n",
      "WARNING: Your filename has more than two extensions: ['.LogTP10K', '.Varnorm', '.Harmony', '.h5ad'].\n",
      "Only considering the two last: ['.Harmony', '.h5ad'].\n"
     ]
    }
   ],
   "source": [
    "adata_RNA = sc.read(paths['RNA_LogTP10K_Varnorm_Harmony'])"
   ]
  },
  {
   "cell_type": "code",
   "execution_count": 13,
   "id": "da1b80be-f229-4920-9d19-7dd85b774675",
   "metadata": {},
   "outputs": [
    {
     "data": {
      "text/plain": [
       "AnnData object with n_obs × n_vars = 336739 × 28402\n",
       "    obs: 'alt.subject.id', 'visit', 'covid.diagnosis.start.date.to.sample.drawn', 'group', 'sex', 'age', 'race', 'ethnicity', 'flu.vax.count.10yr', 'vaccine', 'vaccine.side.effects', 'long.covid.symptoms', 'Batch', 'nCount_RNA', 'nCount_HTO', 'nCount_CITE', 'nCount_RNA_largest.gene', 'nCount_SCT', 'nFeature_RNA', 'nFeature_HTO', 'nFeature_CITE', 'nFeature_SCT', 'percent.mt', 'percent.largest.gene', 'coarse.cell.type', 'cell.type', 'HTO1', 'HTO2', 'HTO3', 'n_counts', 'leiden_res1', 'leiden_res0_8', 'leiden_res0_6', 'leiden_res2_25', 'leiden_res2', 'leiden_res1_75', 'leiden_res1_5', 'leiden_res1_25', 'leiden_res0_75', 'leiden_res0_5', 'leiden_res0_25'\n",
       "    var: 'gene_ids', 'feature_types', 'highly_variable', 'means', 'dispersions', 'dispersions_norm', 'mean', 'std'\n",
       "    uns: 'hvg', 'leiden', 'log1p', 'neighbors', 'pca', 'umap'\n",
       "    obsm: 'X_harmony_RNA_UMAP', 'X_pca', 'X_pca_harmony', 'X_umap'\n",
       "    varm: 'PCs'\n",
       "    obsp: 'connectivities', 'distances'"
      ]
     },
     "execution_count": 13,
     "metadata": {},
     "output_type": "execute_result"
    }
   ],
   "source": [
    "adata_RNA"
   ]
  },
  {
   "cell_type": "code",
   "execution_count": 14,
   "id": "bb4c526b-b769-4a5e-a66f-3e9dc54d02fb",
   "metadata": {},
   "outputs": [
    {
     "data": {
      "text/plain": [
       "'../../../Data/PerDataset/Sparks2023/T_fromSeuratmetadata_RNAClustering.tsv'"
      ]
     },
     "execution_count": 14,
     "metadata": {},
     "output_type": "execute_result"
    }
   ],
   "source": [
    "paths['Metadata_RNAClustering']"
   ]
  },
  {
   "cell_type": "code",
   "execution_count": 9,
   "id": "db2d8075-65fd-4ed9-a407-710c4df4dbec",
   "metadata": {},
   "outputs": [],
   "source": [
    "meta = pd.read_csv(paths['Metadata_RNAClustering'], index_col = 0, sep = '\\t')"
   ]
  },
  {
   "cell_type": "code",
   "execution_count": 10,
   "id": "1760d366-e1de-4125-be2f-aec90dcd7231",
   "metadata": {},
   "outputs": [
    {
     "data": {
      "text/plain": [
       "['leiden_res1',\n",
       " 'leiden_res0_8',\n",
       " 'leiden_res0_6',\n",
       " 'leiden_res2_25',\n",
       " 'leiden_res2',\n",
       " 'leiden_res1_75',\n",
       " 'leiden_res1_5',\n",
       " 'leiden_res1_25',\n",
       " 'leiden_res0_75',\n",
       " 'leiden_res0_5',\n",
       " 'leiden_res0_25']"
      ]
     },
     "execution_count": 10,
     "metadata": {},
     "output_type": "execute_result"
    }
   ],
   "source": [
    "cluster_cols = list(meta.columns[meta.columns.str.startswith('leiden_res')])\n",
    "cluster_cols"
   ]
  },
  {
   "cell_type": "code",
   "execution_count": 15,
   "id": "850b3b74-ef7b-48db-ad0c-abe99e685d6e",
   "metadata": {},
   "outputs": [
    {
     "data": {
      "text/plain": [
       "array(['CD4_Naive', 'CD4_CM', 'CD8_EM', 'CD4_EM', 'Treg', 'CD8_TEMRA',\n",
       "       'CD8_Naive', 'CD4_TEMRA', 'MAIT', 'gdT', 'DN', 'DP', 'CD8_CM'],\n",
       "      dtype=object)"
      ]
     },
     "execution_count": 15,
     "metadata": {},
     "output_type": "execute_result"
    }
   ],
   "source": [
    "gating['cell_gating'].unique()"
   ]
  },
  {
   "cell_type": "code",
   "execution_count": 11,
   "id": "978f775a-84c8-4138-adf7-76bf05bac18f",
   "metadata": {},
   "outputs": [
    {
     "data": {
      "text/plain": [
       "['CD8_EM',\n",
       " 'CD8_CM',\n",
       " 'CD8_TEMRA',\n",
       " 'CD4_CM',\n",
       " 'MAIT',\n",
       " 'CD4_EM',\n",
       " 'gdT',\n",
       " 'Treg',\n",
       " 'CD8_Naive',\n",
       " 'CD4_Naive']"
      ]
     },
     "execution_count": 11,
     "metadata": {},
     "output_type": "execute_result"
    }
   ],
   "source": [
    "gates_to_exclude = ['CD4_TEMRA', 'DN', 'DP']\n",
    "gate_list = list(set(gating['cell_gating'].unique()).difference(gates_to_exclude))\n",
    "\n",
    "gate_list"
   ]
  },
  {
   "cell_type": "code",
   "execution_count": 12,
   "id": "5c440a4d-3f02-4ee8-a268-5cfd6020c8dc",
   "metadata": {},
   "outputs": [],
   "source": [
    "# Filter out cells in other lineages\n",
    "ind = gating[-gating['cell_gating'].isin(gates_to_exclude)].index\n",
    "meta_test = meta.loc[ind, :]\n",
    "gating_test = gating.loc[ind, :]"
   ]
  },
  {
   "cell_type": "code",
   "execution_count": 38,
   "id": "6c7d47ad-6992-499d-a8b4-4024d66a3127",
   "metadata": {},
   "outputs": [],
   "source": [
    "rna_clus_roc = pd.DataFrame(columns = ['gate', 'clusters', 'new_cluster', \n",
    "                                       'sensitivity', 'specificity', \n",
    "                                       'accuracy', 'delta_accuracy',\n",
    "                                       'n_clusters', 'cluster_col'])\n",
    "clus_assignments_all = {}"
   ]
  },
  {
   "cell_type": "code",
   "execution_count": 50,
   "id": "60e4b35c-442f-4da4-bab4-9265c06d1701",
   "metadata": {
    "tags": []
   },
   "outputs": [
    {
     "name": "stdout",
     "output_type": "stream",
     "text": [
      "leiden_res1\n",
      "leiden_res0_8\n",
      "leiden_res0_6\n",
      "leiden_res2_25\n",
      "leiden_res2\n",
      "leiden_res1_75\n",
      "leiden_res1_5\n",
      "leiden_res1_25\n",
      "leiden_res0_75\n",
      "leiden_res0_5\n",
      "leiden_res0_25\n"
     ]
    }
   ],
   "source": [
    "for rna_cluster_col in cluster_cols:\n",
    "    print(rna_cluster_col)\n",
    "    \n",
    "    # Initialize for a given cluster resolution\n",
    "    rna_clusters = meta_test[rna_cluster_col]\n",
    "\n",
    "    i = 0 \n",
    "    clus_assignments_all[rna_cluster_col] = dict(zip(gate_list, [[]]*len(gate_list)))\n",
    "    assigned_clusters = [item for sublist in clus_assignments_all[rna_cluster_col].values() for item in sublist]\n",
    "    accuracy_last = pd.Series(0.0, index = gate_list)\n",
    "    iteration_loop = True\n",
    "    gate_list_to_cluster = gate_list\n",
    "\n",
    "    while(iteration_loop):\n",
    "        # Loop through gates (only those that we got a positive delta_accuracy for last time)\n",
    "        for gate_type in gate_list_to_cluster:\n",
    "            gates = gating_test == gate_type\n",
    "\n",
    "            # Loop through clusters, find ROC/AUC\n",
    "            for cluster in set(rna_clusters.unique()).difference(assigned_clusters):\n",
    "                pred = rna_clusters.isin(clus_assignments_all[rna_cluster_col][gate_type] + [cluster])\n",
    "                fpr_rna_clus, tpr_rna_clus, _ = metrics.roc_curve(gates, pred, pos_label = True)\n",
    "                accuracy = metrics.balanced_accuracy_score(gates, pred)\n",
    "                rna_clus_roc = rna_clus_roc.append(pd.Series([gate_type, clus_assignments_all[rna_cluster_col][gate_type] + [cluster], cluster,\n",
    "                                                                  tpr_rna_clus[1],  1 - fpr_rna_clus[1], \n",
    "                                                                  accuracy, accuracy - accuracy_last[gate_type],\n",
    "                                                              i + 1, rna_cluster_col], \n",
    "                                                                 index=rna_clus_roc.columns), ignore_index=True)\n",
    "\n",
    "        gate_loop = True\n",
    "        iteration_loop = False\n",
    "        # gate_list_to_cluster = []\n",
    "        \n",
    "        # Merge clusters with the highest delta_accuracy for a gate \n",
    "        while(gate_loop):\n",
    "            assigned_clusters = [item for sublist in clus_assignments_all[rna_cluster_col].values() for item in sublist]\n",
    "            possible_gates = [g for g, clus_list in clus_assignments_all[rna_cluster_col].items() if len(clus_list) < (i+1)]\n",
    "\n",
    "            # Filter to this iteration, clusters not yet assigned, gates not assigned in this iteration, positive change in accuracy\n",
    "            rna_clus_roc_subset = rna_clus_roc[(rna_clus_roc['cluster_col']==rna_cluster_col) &\n",
    "                                                (-rna_clus_roc['new_cluster'].isin(assigned_clusters)) &\n",
    "                                               (rna_clus_roc['n_clusters']==i+1) & \n",
    "                                               (rna_clus_roc['gate'].isin(possible_gates)) &\n",
    "                                              (rna_clus_roc['delta_accuracy'] > 0)]\n",
    "\n",
    "            # Update cluster assignments with the gate with largest delta_accuracy\n",
    "            if rna_clus_roc_subset.shape[0] > 0:\n",
    "                g_roc = rna_clus_roc_subset.sort_values('delta_accuracy', ascending = False).head(1)\n",
    "                gate_type = g_roc['gate'].values[0]\n",
    "                clus_assignments_all[rna_cluster_col][gate_type] = clus_assignments_all[rna_cluster_col][gate_type]+ [g_roc['new_cluster'].values[0]]\n",
    "                accuracy_last[gate_type] = g_roc['accuracy'].values[0]\n",
    "\n",
    "                iteration_loop = True # At least one of the gates may still benefit from further merging\n",
    "                # gate_list_to_cluster = gate_list_to_cluster + [gate_type]\n",
    "\n",
    "            else:\n",
    "                gate_loop = False\n",
    "        i+=1"
   ]
  },
  {
   "cell_type": "code",
   "execution_count": null,
   "id": "ce8a6310-566e-4528-ac43-6cd05dfc51e0",
   "metadata": {},
   "outputs": [],
   "source": [
    "for rna_cluster_col in cluster_cols:\n",
    "    print(rna_cluster_col)\n",
    "    \n",
    "    # Initialize for a given cluster resolution\n",
    "    rna_clusters = meta_test[rna_cluster_col]\n"
   ]
  },
  {
   "cell_type": "code",
   "execution_count": 51,
   "id": "992b8df0-764a-41a5-b564-880929ba881b",
   "metadata": {},
   "outputs": [],
   "source": [
    "rna_clus_roc['clusters_str'] = [','.join(map(str,clusters)) for clusters in rna_clus_roc['clusters']]"
   ]
  },
  {
   "cell_type": "code",
   "execution_count": 52,
   "id": "a5d0fa18-0d6d-4235-b917-b8d6947252c4",
   "metadata": {},
   "outputs": [
    {
     "name": "stdout",
     "output_type": "stream",
     "text": [
      "leiden_res1\n",
      "leiden_res0_8\n",
      "leiden_res0_6\n",
      "leiden_res2_25\n",
      "leiden_res2\n",
      "leiden_res1_75\n",
      "leiden_res1_5\n",
      "leiden_res1_25\n",
      "leiden_res0_75\n",
      "leiden_res0_5\n",
      "leiden_res0_25\n"
     ]
    }
   ],
   "source": [
    "# Filter to best clustering results\n",
    "clus_assignments_all_df = pd.DataFrame(columns = ['gate', 'clusters', 'cluster_col',\n",
    "                                                 'sensitivity', 'specificity', 'accuracy'])\n",
    "\n",
    "for rna_cluster_col in cluster_cols:\n",
    "    print(rna_cluster_col)\n",
    "    dat = pd.DataFrame(zip([gate for gate, clusters in clus_assignments_all[rna_cluster_col].items()],\n",
    "                 [','.join(map(str,clusters)) for gate, clusters in clus_assignments_all[rna_cluster_col].items()],\n",
    "                 [rna_cluster_col]*len(clus_assignments_all[rna_cluster_col])),\n",
    "            columns =  clus_assignments_all_df.columns[0:3])\n",
    "    dat = pd.merge(dat, rna_clus_roc[['gate', 'clusters_str', 'cluster_col', 'sensitivity', 'specificity', 'accuracy']], \n",
    "         left_on = ['gate', 'clusters', 'cluster_col'],\n",
    "         right_on = ['gate', 'clusters_str', 'cluster_col']).drop('clusters_str', axis = 1)\n",
    "\n",
    "    clus_assignments_all_df = pd.concat([clus_assignments_all_df, dat], ignore_index = True)"
   ]
  },
  {
   "cell_type": "code",
   "execution_count": 53,
   "id": "9348ff24-ba50-44f8-bca5-f8111335b22a",
   "metadata": {},
   "outputs": [
    {
     "data": {
      "text/plain": [
       "{'leiden_res1': {'CD4_EM': [1, 12],\n",
       "  'CD4_Naive': [0, 2],\n",
       "  'MAIT': [6],\n",
       "  'Treg': [9, 13, 15],\n",
       "  'gdT': [3],\n",
       "  'CD4_CM': [4, 11],\n",
       "  'CD8_CM': [10],\n",
       "  'CD8_EM': [7, 14],\n",
       "  'CD8_TEMRA': [8],\n",
       "  'CD8_Naive': [5]},\n",
       " 'leiden_res0_8': {'CD4_EM': [1, 12],\n",
       "  'CD4_Naive': [0, 2, 10],\n",
       "  'MAIT': [7],\n",
       "  'Treg': [9],\n",
       "  'gdT': [3],\n",
       "  'CD4_CM': [4, 11],\n",
       "  'CD8_CM': [13],\n",
       "  'CD8_EM': [6, 14],\n",
       "  'CD8_TEMRA': [8],\n",
       "  'CD8_Naive': [5]},\n",
       " 'leiden_res0_6': {'CD4_EM': [1, 11],\n",
       "  'CD4_Naive': [0, 3],\n",
       "  'MAIT': [7],\n",
       "  'Treg': [9, 14],\n",
       "  'gdT': [2],\n",
       "  'CD4_CM': [4, 10],\n",
       "  'CD8_CM': [12],\n",
       "  'CD8_EM': [6, 13],\n",
       "  'CD8_TEMRA': [8],\n",
       "  'CD8_Naive': [5]},\n",
       " 'leiden_res2_25': {'CD4_EM': [9, 12, 18, 24],\n",
       "  'CD4_Naive': [2, 5, 7, 10, 8, 23, 26],\n",
       "  'MAIT': [6, 22],\n",
       "  'Treg': [13, 21, 28],\n",
       "  'gdT': [15, 3],\n",
       "  'CD4_CM': [1, 4, 20],\n",
       "  'CD8_CM': [14, 25],\n",
       "  'CD8_EM': [11, 16, 27],\n",
       "  'CD8_TEMRA': [17, 19],\n",
       "  'CD8_Naive': [0]},\n",
       " 'leiden_res2': {'CD4_EM': [10, 12, 17],\n",
       "  'CD4_Naive': [2, 4, 5, 9, 14, 22, 25],\n",
       "  'MAIT': [7, 26],\n",
       "  'Treg': [11, 21, 27],\n",
       "  'gdT': [15, 3],\n",
       "  'CD4_CM': [1, 6, 19],\n",
       "  'CD8_CM': [13, 24],\n",
       "  'CD8_EM': [8, 18, 23],\n",
       "  'CD8_TEMRA': [16, 20],\n",
       "  'CD8_Naive': [0]},\n",
       " 'leiden_res1_75': {'CD4_EM': [10, 12, 13],\n",
       "  'CD4_Naive': [2, 4, 5, 9, 17, 22],\n",
       "  'MAIT': [7, 23],\n",
       "  'Treg': [11, 21, 24],\n",
       "  'gdT': [16, 3],\n",
       "  'CD4_CM': [1, 6, 19],\n",
       "  'CD8_CM': [14],\n",
       "  'CD8_EM': [8, 20],\n",
       "  'CD8_TEMRA': [15, 18],\n",
       "  'CD8_Naive': [0]},\n",
       " 'leiden_res1_5': {'CD4_EM': [3, 12],\n",
       "  'CD4_Naive': [0, 4, 5, 10],\n",
       "  'MAIT': [9, 20],\n",
       "  'Treg': [11, 18, 21],\n",
       "  'gdT': [15, 6],\n",
       "  'CD4_CM': [1, 7, 17],\n",
       "  'CD8_CM': [13],\n",
       "  'CD8_EM': [8, 19],\n",
       "  'CD8_TEMRA': [14, 16],\n",
       "  'CD8_Naive': [2]},\n",
       " 'leiden_res1_25': {'CD4_EM': [5, 11],\n",
       "  'CD4_Naive': [0, 1, 9],\n",
       "  'MAIT': [8, 18],\n",
       "  'Treg': [10, 16, 19],\n",
       "  'gdT': [13],\n",
       "  'CD4_CM': [2, 6, 15],\n",
       "  'CD8_CM': [12],\n",
       "  'CD8_EM': [7, 17],\n",
       "  'CD8_TEMRA': [3, 14],\n",
       "  'CD8_Naive': [4]},\n",
       " 'leiden_res0_75': {'CD4_EM': [1, 12],\n",
       "  'CD4_Naive': [0, 2],\n",
       "  'MAIT': [7],\n",
       "  'Treg': [9],\n",
       "  'gdT': [8],\n",
       "  'CD4_CM': [4, 10],\n",
       "  'CD8_CM': [11],\n",
       "  'CD8_EM': [3, 13],\n",
       "  'CD8_TEMRA': [5],\n",
       "  'CD8_Naive': [6]},\n",
       " 'leiden_res0_5': {'CD4_EM': [6, 8],\n",
       "  'CD4_Naive': [0, 10],\n",
       "  'MAIT': [5],\n",
       "  'Treg': [7, 12],\n",
       "  'gdT': [2],\n",
       "  'CD4_CM': [1],\n",
       "  'CD8_CM': [9],\n",
       "  'CD8_EM': [4],\n",
       "  'CD8_TEMRA': [11],\n",
       "  'CD8_Naive': [3]},\n",
       " 'leiden_res0_25': {'CD4_EM': [7],\n",
       "  'CD4_Naive': [0],\n",
       "  'MAIT': [4],\n",
       "  'Treg': [6],\n",
       "  'gdT': [10],\n",
       "  'CD4_CM': [1],\n",
       "  'CD8_CM': [8],\n",
       "  'CD8_EM': [2, 9],\n",
       "  'CD8_TEMRA': [5],\n",
       "  'CD8_Naive': [3]}}"
      ]
     },
     "execution_count": 53,
     "metadata": {},
     "output_type": "execute_result"
    }
   ],
   "source": [
    "clus_assignments_all"
   ]
  },
  {
   "cell_type": "markdown",
   "id": "80360edd-2eb1-4597-a7af-59723d782db9",
   "metadata": {},
   "source": [
    "## Save cluster assignments and stats"
   ]
  },
  {
   "cell_type": "code",
   "execution_count": 54,
   "id": "89e0d255-fa2a-469e-8e25-e75b28c839f0",
   "metadata": {},
   "outputs": [
    {
     "data": {
      "text/plain": [
       "{'Original': '../../../Data/PerDataset/Sparks2023/T_fromSeurat.h5ad',\n",
       " 'RNA_LogTP10K_Varnorm_Harmony': '../../../Data/PerDataset/Sparks2023/T_fromSeuratRNA.LogTP10K.Varnorm.Harmony.h5ad',\n",
       " 'Metadata_RNAClustering': '../../../Data/PerDataset/Sparks2023/T_fromSeuratmetadata_RNAClustering.tsv',\n",
       " 'rna_clus_no_overlap': '../../../Data/PerDataset/Sparks2023/ROC_RNAClustering_MaxAccuracy_NoOverlap.tsv',\n",
       " 'rna_clus_accuracy_no_overlap': '../../../Data/PerDataset/Sparks2023/ROC_RNAClustering_MaxAccuracy_NoOverlap.tsv'}"
      ]
     },
     "execution_count": 54,
     "metadata": {},
     "output_type": "execute_result"
    }
   ],
   "source": [
    "paths"
   ]
  },
  {
   "cell_type": "code",
   "execution_count": 54,
   "id": "52a4af7a-bb04-4ecc-8834-4dd90add7f99",
   "metadata": {},
   "outputs": [
    {
     "data": {
      "text/plain": [
       "{'Original': '../../../Data/PerDataset/Sparks2023/T_fromSeurat.h5ad',\n",
       " 'RNA_LogTP10K_Varnorm_Harmony': '../../../Data/PerDataset/Sparks2023/T_fromSeuratRNA.LogTP10K.Varnorm.Harmony.h5ad',\n",
       " 'Metadata_RNAClustering': '../../../Data/PerDataset/Sparks2023/T_fromSeuratmetadata_RNAClustering.tsv',\n",
       " 'rna_clus_accuracy_no_overlap': '../../../Data/PerDataset/Sparks2023/ROC_RNAClustering_MaxAccuracy_NoOverlap.tsv'}"
      ]
     },
     "execution_count": 54,
     "metadata": {},
     "output_type": "execute_result"
    }
   ],
   "source": [
    "paths.update({\n",
    "    'rna_clus_accuracy_no_overlap':original.replace('T_fromSeurat.h5ad', toadd + 'ROC_RNAClustering_MaxAccuracy_NoOverlap.tsv')\n",
    "\n",
    "})\n",
    "paths"
   ]
  },
  {
   "cell_type": "code",
   "execution_count": 56,
   "id": "7055653b-9765-4b2b-97ce-ba473d392a69",
   "metadata": {},
   "outputs": [],
   "source": [
    "clus_assignments_all_df.to_csv(paths['rna_clus_accuracy_no_overlap'], sep='\\t')"
   ]
  },
  {
   "cell_type": "code",
   "execution_count": 57,
   "id": "5eb4b572-b78a-409d-94ab-475bf410aaf4",
   "metadata": {},
   "outputs": [
    {
     "data": {
      "text/html": [
       "<div>\n",
       "<style scoped>\n",
       "    .dataframe tbody tr th:only-of-type {\n",
       "        vertical-align: middle;\n",
       "    }\n",
       "\n",
       "    .dataframe tbody tr th {\n",
       "        vertical-align: top;\n",
       "    }\n",
       "\n",
       "    .dataframe thead th {\n",
       "        text-align: right;\n",
       "    }\n",
       "</style>\n",
       "<table border=\"1\" class=\"dataframe\">\n",
       "  <thead>\n",
       "    <tr style=\"text-align: right;\">\n",
       "      <th></th>\n",
       "      <th>gate</th>\n",
       "      <th>clusters</th>\n",
       "      <th>cluster_col</th>\n",
       "      <th>sensitivity</th>\n",
       "      <th>specificity</th>\n",
       "      <th>accuracy</th>\n",
       "    </tr>\n",
       "  </thead>\n",
       "  <tbody>\n",
       "    <tr>\n",
       "      <th>0</th>\n",
       "      <td>CD4_EM</td>\n",
       "      <td>1,12</td>\n",
       "      <td>leiden_res1</td>\n",
       "      <td>0.586381</td>\n",
       "      <td>0.917580</td>\n",
       "      <td>0.751980</td>\n",
       "    </tr>\n",
       "    <tr>\n",
       "      <th>1</th>\n",
       "      <td>CD4_Naive</td>\n",
       "      <td>0,2</td>\n",
       "      <td>leiden_res1</td>\n",
       "      <td>0.896491</td>\n",
       "      <td>0.962039</td>\n",
       "      <td>0.929265</td>\n",
       "    </tr>\n",
       "    <tr>\n",
       "      <th>2</th>\n",
       "      <td>MAIT</td>\n",
       "      <td>6</td>\n",
       "      <td>leiden_res1</td>\n",
       "      <td>0.938998</td>\n",
       "      <td>0.988568</td>\n",
       "      <td>0.963783</td>\n",
       "    </tr>\n",
       "    <tr>\n",
       "      <th>3</th>\n",
       "      <td>Treg</td>\n",
       "      <td>9,13,15</td>\n",
       "      <td>leiden_res1</td>\n",
       "      <td>0.769948</td>\n",
       "      <td>0.979343</td>\n",
       "      <td>0.874646</td>\n",
       "    </tr>\n",
       "    <tr>\n",
       "      <th>4</th>\n",
       "      <td>gdT</td>\n",
       "      <td>3</td>\n",
       "      <td>leiden_res1</td>\n",
       "      <td>0.794967</td>\n",
       "      <td>0.915318</td>\n",
       "      <td>0.855143</td>\n",
       "    </tr>\n",
       "    <tr>\n",
       "      <th>...</th>\n",
       "      <td>...</td>\n",
       "      <td>...</td>\n",
       "      <td>...</td>\n",
       "      <td>...</td>\n",
       "      <td>...</td>\n",
       "      <td>...</td>\n",
       "    </tr>\n",
       "    <tr>\n",
       "      <th>105</th>\n",
       "      <td>CD4_CM</td>\n",
       "      <td>1</td>\n",
       "      <td>leiden_res0_25</td>\n",
       "      <td>0.775776</td>\n",
       "      <td>0.862135</td>\n",
       "      <td>0.818956</td>\n",
       "    </tr>\n",
       "    <tr>\n",
       "      <th>106</th>\n",
       "      <td>CD8_CM</td>\n",
       "      <td>8</td>\n",
       "      <td>leiden_res0_25</td>\n",
       "      <td>0.007904</td>\n",
       "      <td>0.997286</td>\n",
       "      <td>0.502595</td>\n",
       "    </tr>\n",
       "    <tr>\n",
       "      <th>107</th>\n",
       "      <td>CD8_EM</td>\n",
       "      <td>2,9</td>\n",
       "      <td>leiden_res0_25</td>\n",
       "      <td>0.869725</td>\n",
       "      <td>0.880924</td>\n",
       "      <td>0.875325</td>\n",
       "    </tr>\n",
       "    <tr>\n",
       "      <th>108</th>\n",
       "      <td>CD8_TEMRA</td>\n",
       "      <td>5</td>\n",
       "      <td>leiden_res0_25</td>\n",
       "      <td>0.071184</td>\n",
       "      <td>0.958000</td>\n",
       "      <td>0.514592</td>\n",
       "    </tr>\n",
       "    <tr>\n",
       "      <th>109</th>\n",
       "      <td>CD8_Naive</td>\n",
       "      <td>3</td>\n",
       "      <td>leiden_res0_25</td>\n",
       "      <td>0.886011</td>\n",
       "      <td>0.986439</td>\n",
       "      <td>0.936225</td>\n",
       "    </tr>\n",
       "  </tbody>\n",
       "</table>\n",
       "<p>110 rows × 6 columns</p>\n",
       "</div>"
      ],
      "text/plain": [
       "          gate clusters     cluster_col  sensitivity  specificity  accuracy\n",
       "0       CD4_EM     1,12     leiden_res1     0.586381     0.917580  0.751980\n",
       "1    CD4_Naive      0,2     leiden_res1     0.896491     0.962039  0.929265\n",
       "2         MAIT        6     leiden_res1     0.938998     0.988568  0.963783\n",
       "3         Treg  9,13,15     leiden_res1     0.769948     0.979343  0.874646\n",
       "4          gdT        3     leiden_res1     0.794967     0.915318  0.855143\n",
       "..         ...      ...             ...          ...          ...       ...\n",
       "105     CD4_CM        1  leiden_res0_25     0.775776     0.862135  0.818956\n",
       "106     CD8_CM        8  leiden_res0_25     0.007904     0.997286  0.502595\n",
       "107     CD8_EM      2,9  leiden_res0_25     0.869725     0.880924  0.875325\n",
       "108  CD8_TEMRA        5  leiden_res0_25     0.071184     0.958000  0.514592\n",
       "109  CD8_Naive        3  leiden_res0_25     0.886011     0.986439  0.936225\n",
       "\n",
       "[110 rows x 6 columns]"
      ]
     },
     "execution_count": 57,
     "metadata": {},
     "output_type": "execute_result"
    }
   ],
   "source": [
    "clus_assignments_all_df"
   ]
  },
  {
   "cell_type": "code",
   "execution_count": 58,
   "id": "656e0947-2051-4c51-9eda-fbd6b9624089",
   "metadata": {},
   "outputs": [
    {
     "data": {
      "text/html": [
       "<div>\n",
       "<style scoped>\n",
       "    .dataframe tbody tr th:only-of-type {\n",
       "        vertical-align: middle;\n",
       "    }\n",
       "\n",
       "    .dataframe tbody tr th {\n",
       "        vertical-align: top;\n",
       "    }\n",
       "\n",
       "    .dataframe thead th {\n",
       "        text-align: right;\n",
       "    }\n",
       "</style>\n",
       "<table border=\"1\" class=\"dataframe\">\n",
       "  <thead>\n",
       "    <tr style=\"text-align: right;\">\n",
       "      <th></th>\n",
       "      <th>gate</th>\n",
       "      <th>clusters</th>\n",
       "      <th>cluster_col</th>\n",
       "      <th>sensitivity</th>\n",
       "      <th>specificity</th>\n",
       "      <th>accuracy</th>\n",
       "    </tr>\n",
       "  </thead>\n",
       "  <tbody>\n",
       "    <tr>\n",
       "      <th>1</th>\n",
       "      <td>CD4_Naive</td>\n",
       "      <td>0,2</td>\n",
       "      <td>leiden_res1</td>\n",
       "      <td>0.896491</td>\n",
       "      <td>0.962039</td>\n",
       "      <td>0.929265</td>\n",
       "    </tr>\n",
       "    <tr>\n",
       "      <th>11</th>\n",
       "      <td>CD4_Naive</td>\n",
       "      <td>0,2,10</td>\n",
       "      <td>leiden_res0_8</td>\n",
       "      <td>0.903238</td>\n",
       "      <td>0.959397</td>\n",
       "      <td>0.931318</td>\n",
       "    </tr>\n",
       "    <tr>\n",
       "      <th>21</th>\n",
       "      <td>CD4_Naive</td>\n",
       "      <td>0,3</td>\n",
       "      <td>leiden_res0_6</td>\n",
       "      <td>0.903331</td>\n",
       "      <td>0.960627</td>\n",
       "      <td>0.931979</td>\n",
       "    </tr>\n",
       "    <tr>\n",
       "      <th>31</th>\n",
       "      <td>CD4_Naive</td>\n",
       "      <td>2,5,7,10,8,23,26</td>\n",
       "      <td>leiden_res2_25</td>\n",
       "      <td>0.881261</td>\n",
       "      <td>0.951476</td>\n",
       "      <td>0.916368</td>\n",
       "    </tr>\n",
       "    <tr>\n",
       "      <th>41</th>\n",
       "      <td>CD4_Naive</td>\n",
       "      <td>2,4,5,9,14,22,25</td>\n",
       "      <td>leiden_res2</td>\n",
       "      <td>0.880652</td>\n",
       "      <td>0.953481</td>\n",
       "      <td>0.917066</td>\n",
       "    </tr>\n",
       "    <tr>\n",
       "      <th>51</th>\n",
       "      <td>CD4_Naive</td>\n",
       "      <td>2,4,5,9,17,22</td>\n",
       "      <td>leiden_res1_75</td>\n",
       "      <td>0.888587</td>\n",
       "      <td>0.952326</td>\n",
       "      <td>0.920456</td>\n",
       "    </tr>\n",
       "    <tr>\n",
       "      <th>61</th>\n",
       "      <td>CD4_Naive</td>\n",
       "      <td>0,4,5,10</td>\n",
       "      <td>leiden_res1_5</td>\n",
       "      <td>0.889083</td>\n",
       "      <td>0.954488</td>\n",
       "      <td>0.921786</td>\n",
       "    </tr>\n",
       "    <tr>\n",
       "      <th>71</th>\n",
       "      <td>CD4_Naive</td>\n",
       "      <td>0,1,9</td>\n",
       "      <td>leiden_res1_25</td>\n",
       "      <td>0.891356</td>\n",
       "      <td>0.956494</td>\n",
       "      <td>0.923925</td>\n",
       "    </tr>\n",
       "    <tr>\n",
       "      <th>81</th>\n",
       "      <td>CD4_Naive</td>\n",
       "      <td>0,2</td>\n",
       "      <td>leiden_res0_75</td>\n",
       "      <td>0.902350</td>\n",
       "      <td>0.960688</td>\n",
       "      <td>0.931519</td>\n",
       "    </tr>\n",
       "    <tr>\n",
       "      <th>91</th>\n",
       "      <td>CD4_Naive</td>\n",
       "      <td>0,10</td>\n",
       "      <td>leiden_res0_5</td>\n",
       "      <td>0.916494</td>\n",
       "      <td>0.956720</td>\n",
       "      <td>0.936607</td>\n",
       "    </tr>\n",
       "    <tr>\n",
       "      <th>101</th>\n",
       "      <td>CD4_Naive</td>\n",
       "      <td>0</td>\n",
       "      <td>leiden_res0_25</td>\n",
       "      <td>0.920813</td>\n",
       "      <td>0.955173</td>\n",
       "      <td>0.937993</td>\n",
       "    </tr>\n",
       "  </tbody>\n",
       "</table>\n",
       "</div>"
      ],
      "text/plain": [
       "          gate          clusters     cluster_col  sensitivity  specificity  \\\n",
       "1    CD4_Naive               0,2     leiden_res1     0.896491     0.962039   \n",
       "11   CD4_Naive            0,2,10   leiden_res0_8     0.903238     0.959397   \n",
       "21   CD4_Naive               0,3   leiden_res0_6     0.903331     0.960627   \n",
       "31   CD4_Naive  2,5,7,10,8,23,26  leiden_res2_25     0.881261     0.951476   \n",
       "41   CD4_Naive  2,4,5,9,14,22,25     leiden_res2     0.880652     0.953481   \n",
       "51   CD4_Naive     2,4,5,9,17,22  leiden_res1_75     0.888587     0.952326   \n",
       "61   CD4_Naive          0,4,5,10   leiden_res1_5     0.889083     0.954488   \n",
       "71   CD4_Naive             0,1,9  leiden_res1_25     0.891356     0.956494   \n",
       "81   CD4_Naive               0,2  leiden_res0_75     0.902350     0.960688   \n",
       "91   CD4_Naive              0,10   leiden_res0_5     0.916494     0.956720   \n",
       "101  CD4_Naive                 0  leiden_res0_25     0.920813     0.955173   \n",
       "\n",
       "     accuracy  \n",
       "1    0.929265  \n",
       "11   0.931318  \n",
       "21   0.931979  \n",
       "31   0.916368  \n",
       "41   0.917066  \n",
       "51   0.920456  \n",
       "61   0.921786  \n",
       "71   0.923925  \n",
       "81   0.931519  \n",
       "91   0.936607  \n",
       "101  0.937993  "
      ]
     },
     "execution_count": 58,
     "metadata": {},
     "output_type": "execute_result"
    }
   ],
   "source": [
    "clus_assignments_all_df[clus_assignments_all_df['gate']=='CD4_Naive']"
   ]
  }
 ],
 "metadata": {
  "kernelspec": {
   "display_name": "Python 3",
   "language": "python",
   "name": "python3"
  },
  "language_info": {
   "codemirror_mode": {
    "name": "ipython",
    "version": 3
   },
   "file_extension": ".py",
   "mimetype": "text/x-python",
   "name": "python",
   "nbconvert_exporter": "python",
   "pygments_lexer": "ipython3",
   "version": "3.6.15"
  },
  "toc-autonumbering": true
 },
 "nbformat": 4,
 "nbformat_minor": 5
}
