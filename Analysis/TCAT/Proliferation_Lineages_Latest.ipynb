{
 "cells": [
  {
   "cell_type": "code",
   "execution_count": 1,
   "id": "90a1a43d-f672-4df7-b159-e0975eb725e9",
   "metadata": {},
   "outputs": [],
   "source": [
    "%matplotlib inline\n",
    "\n",
    "import pandas as pd\n",
    "import scanpy as sc\n",
    "import numpy as np\n",
    "import matplotlib.pyplot as plt\n",
    "import scipy.sparse as sparse\n",
    "from scipy.stats import pearsonr\n",
    "\n",
    "from scipy.cluster.hierarchy import linkage\n",
    "import scipy.spatial.distance as ssd\n",
    "\n",
    "import seaborn as sns\n",
    "import sys\n",
    "from scipy.sparse import hstack, csr_matrix\n",
    "from sklearn.feature_selection import mutual_info_classif\n",
    "import os\n",
    "from cnmf import cNMF, save_df_to_npz, load_df_from_npz\n",
    "import harmonypy\n",
    "from adjustText import adjust_text\n",
    "\n",
    "from matplotlib.patches import Patch\n",
    "from matplotlib.cm import ScalarMappable\n",
    "from matplotlib.colors import Normalize\n",
    "from matplotlib.patches import Rectangle\n",
    "from matplotlib.pyplot import rc_context\n",
    "import matplotlib.colors as clr\n",
    "\n",
    "\n",
    "def save_df_to_text(obj, filename):\n",
    "    obj.to_csv(filename, sep='\\t')\n"
   ]
  },
  {
   "cell_type": "code",
   "execution_count": 2,
   "id": "e1b47163-901c-4897-a87e-cb4675b71d25",
   "metadata": {},
   "outputs": [],
   "source": [
    "from matplotlib import rcParams, font_manager\n",
    "import matplotlib\n",
    "\n",
    "\n",
    "rcParams['pdf.fonttype'] = 42\n",
    "rcParams['ps.fonttype'] = 42\n",
    "rcParams['font.family'] = 'sans-serif'\n",
    "rcParams['font.sans-serif'] = ['Arial']\n",
    "label_fontsize = 10\n",
    "tick_fontsize = 8"
   ]
  },
  {
   "cell_type": "code",
   "execution_count": 3,
   "id": "3ab614f2-c546-431a-8ba2-1ecd713fe7db",
   "metadata": {},
   "outputs": [],
   "source": [
    "sys.path.append('../../Code/')\n",
    "from utils import read_dataset_log"
   ]
  },
  {
   "cell_type": "code",
   "execution_count": 4,
   "id": "e66245a3-d2da-4983-9631-422876c210f4",
   "metadata": {},
   "outputs": [
    {
     "name": "stdout",
     "output_type": "stream",
     "text": [
      "/data/srlab1/TCAT/Analysis/TCAT\n"
     ]
    }
   ],
   "source": [
    "! pwd"
   ]
  },
  {
   "cell_type": "code",
   "execution_count": 5,
   "id": "564e963d-5949-40e4-bf74-91d220db18d9",
   "metadata": {},
   "outputs": [],
   "source": [
    "figdir = '../../Figures/Components'"
   ]
  },
  {
   "cell_type": "code",
   "execution_count": 6,
   "id": "8cafc2a4-5a30-4529-ab19-6b107a29f107",
   "metadata": {
    "tags": []
   },
   "outputs": [],
   "source": [
    "gep_info = read_dataset_log('cGEP_Name')\n",
    "gep_info.index = gep_info['cGep_Name']\n",
    "gep_info.head()\n",
    "rename_map = dict(zip(gep_info['cGep_Name'], gep_info['Short_Name']))"
   ]
  },
  {
   "cell_type": "code",
   "execution_count": 7,
   "id": "a51749ed-3eb7-4f5d-b1ed-dadded475f82",
   "metadata": {},
   "outputs": [],
   "source": [
    "oldname_map = dict(zip(gep_info['Old_Short_Name'], gep_info['Short_Name']))"
   ]
  },
  {
   "cell_type": "code",
   "execution_count": 8,
   "id": "e6bd263c-912f-4605-b72a-540f0371c388",
   "metadata": {},
   "outputs": [
    {
     "data": {
      "text/html": [
       "<div>\n",
       "<style scoped>\n",
       "    .dataframe tbody tr th:only-of-type {\n",
       "        vertical-align: middle;\n",
       "    }\n",
       "\n",
       "    .dataframe tbody tr th {\n",
       "        vertical-align: top;\n",
       "    }\n",
       "\n",
       "    .dataframe thead th {\n",
       "        text-align: right;\n",
       "    }\n",
       "</style>\n",
       "<table border=\"1\" class=\"dataframe\">\n",
       "  <thead>\n",
       "    <tr style=\"text-align: right;\">\n",
       "      <th></th>\n",
       "      <th>dataset</th>\n",
       "      <th>usage_fn</th>\n",
       "      <th>gene_scores_fn</th>\n",
       "      <th>gene_tpm_fn</th>\n",
       "      <th>tcat_fn</th>\n",
       "      <th>tcat_fn_withsingletons</th>\n",
       "      <th>manual_gating_fn</th>\n",
       "      <th>manual_activation_gating_fn</th>\n",
       "      <th>activation_score_fn</th>\n",
       "      <th>metadata_fn</th>\n",
       "      <th>...</th>\n",
       "      <th>k</th>\n",
       "      <th>dt</th>\n",
       "      <th>processed_forcnmf_fn</th>\n",
       "      <th>tpm_counts_for_cnmf_fn</th>\n",
       "      <th>raw_counts_filt_fn</th>\n",
       "      <th>raw_counts_fn</th>\n",
       "      <th>dataset_type</th>\n",
       "      <th>tissue_type</th>\n",
       "      <th>context_label</th>\n",
       "      <th>tcat_fn_old</th>\n",
       "    </tr>\n",
       "    <tr>\n",
       "      <th>dataset</th>\n",
       "      <th></th>\n",
       "      <th></th>\n",
       "      <th></th>\n",
       "      <th></th>\n",
       "      <th></th>\n",
       "      <th></th>\n",
       "      <th></th>\n",
       "      <th></th>\n",
       "      <th></th>\n",
       "      <th></th>\n",
       "      <th></th>\n",
       "      <th></th>\n",
       "      <th></th>\n",
       "      <th></th>\n",
       "      <th></th>\n",
       "      <th></th>\n",
       "      <th></th>\n",
       "      <th></th>\n",
       "      <th></th>\n",
       "      <th></th>\n",
       "      <th></th>\n",
       "    </tr>\n",
       "  </thead>\n",
       "  <tbody>\n",
       "    <tr>\n",
       "      <th>AMP-RA</th>\n",
       "      <td>AMP-RA</td>\n",
       "      <td>/data/srlab1/TCAT/Data/PerDataset/AMPRA/AMPRA....</td>\n",
       "      <td>/data/srlab1/TCAT/Data/PerDataset/AMPRA/AMPRA....</td>\n",
       "      <td>/data/srlab1/TCAT/Data/PerDataset/AMPRA/AMPRA....</td>\n",
       "      <td>/data/srlab1/TCAT/Data/TCAT/TCAT_Usage.2023101...</td>\n",
       "      <td>/data/srlab1/TCAT/Data/TCAT/TCAT_Usage.2023101...</td>\n",
       "      <td>NaN</td>\n",
       "      <td>/data/srlab1/TCAT/Data/PerDataset/AMPRA/Manual...</td>\n",
       "      <td>/data/srlab1/TCAT/Data/PerDataset/AMPRA/Activa...</td>\n",
       "      <td>/data/srlab1/TCAT/Data/PerDataset/AMPRA/AMP_AD...</td>\n",
       "      <td>...</td>\n",
       "      <td>34.0</td>\n",
       "      <td>0_15</td>\n",
       "      <td>/data/srlab1/TCAT/Data/PerDataset/AMPRA/AMP_AD...</td>\n",
       "      <td>/data/srlab1/TCAT/Data/PerDataset/AMPRA/AMP_AD...</td>\n",
       "      <td>/data/srlab1/TCAT/Data/PerDataset/AMPRA/AMP_AD...</td>\n",
       "      <td>/data/srlab1/TCAT/Data/PerDataset/AMPRA/AMP_AD...</td>\n",
       "      <td>discovery</td>\n",
       "      <td>Synovium</td>\n",
       "      <td>RA+OA</td>\n",
       "      <td>/data/srlab1/TCAT/Data/TCAT/TCAT_Usage.2023101...</td>\n",
       "    </tr>\n",
       "    <tr>\n",
       "      <th>Pan-Cancer</th>\n",
       "      <td>Pan-Cancer</td>\n",
       "      <td>/data/srlab1/TCAT/Data/PerDataset/Pancancer/Pa...</td>\n",
       "      <td>/data/srlab1/TCAT/Data/PerDataset/Pancancer/Pa...</td>\n",
       "      <td>/data/srlab1/TCAT/Data/PerDataset/Pancancer/Pa...</td>\n",
       "      <td>/data/srlab1/TCAT/Data/TCAT/TCAT_Usage.2023101...</td>\n",
       "      <td>/data/srlab1/TCAT/Data/TCAT/TCAT_Usage.2023101...</td>\n",
       "      <td>NaN</td>\n",
       "      <td>NaN</td>\n",
       "      <td>/data/srlab1/TCAT/Data/PerDataset/Pancancer/Ac...</td>\n",
       "      <td>/data/srlab1/TCAT/Data/PerDataset/Pancancer/pa...</td>\n",
       "      <td>...</td>\n",
       "      <td>38.0</td>\n",
       "      <td>0.15</td>\n",
       "      <td>/data/srlab1/TCAT/Data/PerDataset/Pancancer/pa...</td>\n",
       "      <td>NaN</td>\n",
       "      <td>/data/srlab1/TCAT/Data/PerDataset/Pancancer/pa...</td>\n",
       "      <td>/data/srlab1/TCAT/Data/PerDataset/Pancancer/pa...</td>\n",
       "      <td>discovery</td>\n",
       "      <td>Pan-Tissue</td>\n",
       "      <td>Cancer+Healthy</td>\n",
       "      <td>/data/srlab1/TCAT/Data/TCAT/TCAT_Usage.2023101...</td>\n",
       "    </tr>\n",
       "    <tr>\n",
       "      <th>TBRU</th>\n",
       "      <td>TBRU</td>\n",
       "      <td>/data/srlab1/TCAT/Data/PerDataset/TBRU/TBRU.20...</td>\n",
       "      <td>/data/srlab1/TCAT/Data/PerDataset/TBRU/TBRU.20...</td>\n",
       "      <td>/data/srlab1/TCAT/Data/PerDataset/TBRU/TBRU.20...</td>\n",
       "      <td>/data/srlab1/TCAT/Data/TCAT/TCAT_Usage.2023101...</td>\n",
       "      <td>/data/srlab1/TCAT/Data/TCAT/TCAT_Usage.2023101...</td>\n",
       "      <td>NaN</td>\n",
       "      <td>/data/srlab1/TCAT/Data/PerDataset/TBRU/ManualG...</td>\n",
       "      <td>/data/srlab1/TCAT/Data/PerDataset/TBRU/Activat...</td>\n",
       "      <td>/data/srlab1/TCAT/Data/PerDataset/TBRU/tbru_ex...</td>\n",
       "      <td>...</td>\n",
       "      <td>36.0</td>\n",
       "      <td>0_20</td>\n",
       "      <td>/data/srlab1/TCAT/Data/PerDataset/TBRU/tbru_ex...</td>\n",
       "      <td>/data/srlab1/TCAT/Data/PerDataset/TBRU/tbru_ex...</td>\n",
       "      <td>/data/srlab1/TCAT/Data/PerDataset/TBRU/tbru_ex...</td>\n",
       "      <td>/data/srlab1/TCAT/Data/PerDataset/TBRU/tbru_ex...</td>\n",
       "      <td>discovery</td>\n",
       "      <td>Blood</td>\n",
       "      <td>Healthy</td>\n",
       "      <td>/data/srlab1/TCAT/Data/TCAT/TCAT_Usage.2023101...</td>\n",
       "    </tr>\n",
       "    <tr>\n",
       "      <th>HIV-Vaccine</th>\n",
       "      <td>HIV-Vaccine</td>\n",
       "      <td>/data/srlab1/TCAT/Data/PerDataset/HaoEtAl/HIVV...</td>\n",
       "      <td>/data/srlab1/TCAT/Data/PerDataset/HaoEtAl/HIVV...</td>\n",
       "      <td>/data/srlab1/TCAT/Data/PerDataset/HaoEtAl/HIVV...</td>\n",
       "      <td>/data/srlab1/TCAT/Data/TCAT/TCAT_Usage.2023101...</td>\n",
       "      <td>/data/srlab1/TCAT/Data/TCAT/TCAT_Usage.2023101...</td>\n",
       "      <td>/data/srlab1/TCAT/Data/PerDataset/HaoEtAl/Manu...</td>\n",
       "      <td>NaN</td>\n",
       "      <td>/data/srlab1/TCAT/Data/PerDataset/HaoEtAl/Acti...</td>\n",
       "      <td>/data/srlab1/TCAT/Data/PerDataset/HaoEtAl/haoe...</td>\n",
       "      <td>...</td>\n",
       "      <td>31.0</td>\n",
       "      <td>0_15</td>\n",
       "      <td>/data/srlab1/TCAT/Data/PerDataset/HaoEtAl/haoe...</td>\n",
       "      <td>/data/srlab1/TCAT/Data/PerDataset/HaoEtAl/haoe...</td>\n",
       "      <td>/data/srlab1/TCAT/Data/PerDataset/HaoEtAl/haoe...</td>\n",
       "      <td>/data/srlab1/TCAT/Data/PerDataset/HaoEtAl/haoe...</td>\n",
       "      <td>discovery</td>\n",
       "      <td>Blood</td>\n",
       "      <td>Post-Vaccine+Healthy</td>\n",
       "      <td>/data/srlab1/TCAT/Data/TCAT/TCAT_Usage.2023101...</td>\n",
       "    </tr>\n",
       "    <tr>\n",
       "      <th>UK-Covid</th>\n",
       "      <td>UK-Covid</td>\n",
       "      <td>/data/srlab1/TCAT/Data/PerDataset/UKCOVID/UKCO...</td>\n",
       "      <td>/data/srlab1/TCAT/Data/PerDataset/UKCOVID/UKCO...</td>\n",
       "      <td>/data/srlab1/TCAT/Data/PerDataset/UKCOVID/UKCO...</td>\n",
       "      <td>/data/srlab1/TCAT/Data/TCAT/TCAT_Usage.2023101...</td>\n",
       "      <td>/data/srlab1/TCAT/Data/TCAT/TCAT_Usage.2023101...</td>\n",
       "      <td>/data/srlab1/TCAT/Data/PerDataset/UKCOVID/Manu...</td>\n",
       "      <td>/data/srlab1/TCAT/Data/PerDataset/UKCOVID/Manu...</td>\n",
       "      <td>/data/srlab1/TCAT/Data/PerDataset/UKCOVID/Acti...</td>\n",
       "      <td>/data/srlab1/TCAT/Data/PerDataset/UKCOVID/hani...</td>\n",
       "      <td>...</td>\n",
       "      <td>44.0</td>\n",
       "      <td>0_20</td>\n",
       "      <td>/data/srlab1/TCAT/Data/PerDataset/UKCOVID/hani...</td>\n",
       "      <td>NaN</td>\n",
       "      <td>/data/srlab1/TCAT/Data/PerDataset/UKCOVID/hani...</td>\n",
       "      <td>/data/srlab1/TCAT/Data/PerDataset/UKCOVID/hani...</td>\n",
       "      <td>discovery</td>\n",
       "      <td>Blood</td>\n",
       "      <td>Covid-19+Healthy</td>\n",
       "      <td>/data/srlab1/TCAT/Data/TCAT/TCAT_Usage.2023101...</td>\n",
       "    </tr>\n",
       "    <tr>\n",
       "      <th>COMBAT</th>\n",
       "      <td>COMBAT</td>\n",
       "      <td>/data/srlab1/TCAT/Data/PerDataset/COMBAT/COMBA...</td>\n",
       "      <td>/data/srlab1/TCAT/Data/PerDataset/COMBAT/COMBA...</td>\n",
       "      <td>/data/srlab1/TCAT/Data/PerDataset/COMBAT/COMBA...</td>\n",
       "      <td>/data/srlab1/TCAT/Data/TCAT/TCAT_Usage.2023101...</td>\n",
       "      <td>/data/srlab1/TCAT/Data/TCAT/TCAT_Usage.2023101...</td>\n",
       "      <td>/data/srlab1/TCAT/Data/PerDataset/COMBAT/Manua...</td>\n",
       "      <td>/data/srlab1/TCAT/Data/PerDataset/COMBAT/Manua...</td>\n",
       "      <td>/data/srlab1/TCAT/Data/PerDataset/COMBAT/Activ...</td>\n",
       "      <td>/data/srlab1/TCAT/Data/PerDataset/COMBAT/COMBA...</td>\n",
       "      <td>...</td>\n",
       "      <td>35.0</td>\n",
       "      <td>0_15</td>\n",
       "      <td>/data/srlab1/TCAT/Data/PerDataset/COMBAT/COMBA...</td>\n",
       "      <td>/data/srlab1/TCAT/Data/PerDataset/COMBAT/COMBA...</td>\n",
       "      <td>/data/srlab1/TCAT/Data/PerDataset/COMBAT/COMBA...</td>\n",
       "      <td>/data/srlab1/TCAT/Data/PerDataset/COMBAT/COMBA...</td>\n",
       "      <td>discovery</td>\n",
       "      <td>Blood</td>\n",
       "      <td>Covid-19+Healthy</td>\n",
       "      <td>/data/srlab1/TCAT/Data/TCAT/TCAT_Usage.2023101...</td>\n",
       "    </tr>\n",
       "    <tr>\n",
       "      <th>Pan-Tissue</th>\n",
       "      <td>Pan-Tissue</td>\n",
       "      <td>/data/srlab1/TCAT/Data/PerDataset/XTissueImmun...</td>\n",
       "      <td>/data/srlab1/TCAT/Data/PerDataset/XTissueImmun...</td>\n",
       "      <td>/data/srlab1/TCAT/Data/PerDataset/XTissueImmun...</td>\n",
       "      <td>/data/srlab1/TCAT/Data/TCAT/TCAT_Usage.2023101...</td>\n",
       "      <td>/data/srlab1/TCAT/Data/TCAT/TCAT_Usage.2023101...</td>\n",
       "      <td>NaN</td>\n",
       "      <td>NaN</td>\n",
       "      <td>/data/srlab1/TCAT/Data/PerDataset/XTissueImmun...</td>\n",
       "      <td>/data/srlab1/TCAT/Data/PerDataset/XTissueImmun...</td>\n",
       "      <td>...</td>\n",
       "      <td>39.0</td>\n",
       "      <td>0_20</td>\n",
       "      <td>/data/srlab1/TCAT/Data/PerDataset/XTissueImmun...</td>\n",
       "      <td>NaN</td>\n",
       "      <td>/data/srlab1/TCAT/Data/PerDataset/XTissueImmun...</td>\n",
       "      <td>/data/srlab1/TCAT/Data/PerDataset/XTissueImmun...</td>\n",
       "      <td>discovery</td>\n",
       "      <td>Pan-Tissue</td>\n",
       "      <td>Non-Cancer/Non-Viral</td>\n",
       "      <td>/data/srlab1/TCAT/Data/TCAT/TCAT_Usage.2023101...</td>\n",
       "    </tr>\n",
       "  </tbody>\n",
       "</table>\n",
       "<p>7 rows × 27 columns</p>\n",
       "</div>"
      ],
      "text/plain": [
       "                 dataset                                           usage_fn  \\\n",
       "dataset                                                                       \n",
       "AMP-RA            AMP-RA  /data/srlab1/TCAT/Data/PerDataset/AMPRA/AMPRA....   \n",
       "Pan-Cancer    Pan-Cancer  /data/srlab1/TCAT/Data/PerDataset/Pancancer/Pa...   \n",
       "TBRU                TBRU  /data/srlab1/TCAT/Data/PerDataset/TBRU/TBRU.20...   \n",
       "HIV-Vaccine  HIV-Vaccine  /data/srlab1/TCAT/Data/PerDataset/HaoEtAl/HIVV...   \n",
       "UK-Covid        UK-Covid  /data/srlab1/TCAT/Data/PerDataset/UKCOVID/UKCO...   \n",
       "COMBAT            COMBAT  /data/srlab1/TCAT/Data/PerDataset/COMBAT/COMBA...   \n",
       "Pan-Tissue    Pan-Tissue  /data/srlab1/TCAT/Data/PerDataset/XTissueImmun...   \n",
       "\n",
       "                                                gene_scores_fn  \\\n",
       "dataset                                                          \n",
       "AMP-RA       /data/srlab1/TCAT/Data/PerDataset/AMPRA/AMPRA....   \n",
       "Pan-Cancer   /data/srlab1/TCAT/Data/PerDataset/Pancancer/Pa...   \n",
       "TBRU         /data/srlab1/TCAT/Data/PerDataset/TBRU/TBRU.20...   \n",
       "HIV-Vaccine  /data/srlab1/TCAT/Data/PerDataset/HaoEtAl/HIVV...   \n",
       "UK-Covid     /data/srlab1/TCAT/Data/PerDataset/UKCOVID/UKCO...   \n",
       "COMBAT       /data/srlab1/TCAT/Data/PerDataset/COMBAT/COMBA...   \n",
       "Pan-Tissue   /data/srlab1/TCAT/Data/PerDataset/XTissueImmun...   \n",
       "\n",
       "                                                   gene_tpm_fn  \\\n",
       "dataset                                                          \n",
       "AMP-RA       /data/srlab1/TCAT/Data/PerDataset/AMPRA/AMPRA....   \n",
       "Pan-Cancer   /data/srlab1/TCAT/Data/PerDataset/Pancancer/Pa...   \n",
       "TBRU         /data/srlab1/TCAT/Data/PerDataset/TBRU/TBRU.20...   \n",
       "HIV-Vaccine  /data/srlab1/TCAT/Data/PerDataset/HaoEtAl/HIVV...   \n",
       "UK-Covid     /data/srlab1/TCAT/Data/PerDataset/UKCOVID/UKCO...   \n",
       "COMBAT       /data/srlab1/TCAT/Data/PerDataset/COMBAT/COMBA...   \n",
       "Pan-Tissue   /data/srlab1/TCAT/Data/PerDataset/XTissueImmun...   \n",
       "\n",
       "                                                       tcat_fn  \\\n",
       "dataset                                                          \n",
       "AMP-RA       /data/srlab1/TCAT/Data/TCAT/TCAT_Usage.2023101...   \n",
       "Pan-Cancer   /data/srlab1/TCAT/Data/TCAT/TCAT_Usage.2023101...   \n",
       "TBRU         /data/srlab1/TCAT/Data/TCAT/TCAT_Usage.2023101...   \n",
       "HIV-Vaccine  /data/srlab1/TCAT/Data/TCAT/TCAT_Usage.2023101...   \n",
       "UK-Covid     /data/srlab1/TCAT/Data/TCAT/TCAT_Usage.2023101...   \n",
       "COMBAT       /data/srlab1/TCAT/Data/TCAT/TCAT_Usage.2023101...   \n",
       "Pan-Tissue   /data/srlab1/TCAT/Data/TCAT/TCAT_Usage.2023101...   \n",
       "\n",
       "                                        tcat_fn_withsingletons  \\\n",
       "dataset                                                          \n",
       "AMP-RA       /data/srlab1/TCAT/Data/TCAT/TCAT_Usage.2023101...   \n",
       "Pan-Cancer   /data/srlab1/TCAT/Data/TCAT/TCAT_Usage.2023101...   \n",
       "TBRU         /data/srlab1/TCAT/Data/TCAT/TCAT_Usage.2023101...   \n",
       "HIV-Vaccine  /data/srlab1/TCAT/Data/TCAT/TCAT_Usage.2023101...   \n",
       "UK-Covid     /data/srlab1/TCAT/Data/TCAT/TCAT_Usage.2023101...   \n",
       "COMBAT       /data/srlab1/TCAT/Data/TCAT/TCAT_Usage.2023101...   \n",
       "Pan-Tissue   /data/srlab1/TCAT/Data/TCAT/TCAT_Usage.2023101...   \n",
       "\n",
       "                                              manual_gating_fn  \\\n",
       "dataset                                                          \n",
       "AMP-RA                                                     NaN   \n",
       "Pan-Cancer                                                 NaN   \n",
       "TBRU                                                       NaN   \n",
       "HIV-Vaccine  /data/srlab1/TCAT/Data/PerDataset/HaoEtAl/Manu...   \n",
       "UK-Covid     /data/srlab1/TCAT/Data/PerDataset/UKCOVID/Manu...   \n",
       "COMBAT       /data/srlab1/TCAT/Data/PerDataset/COMBAT/Manua...   \n",
       "Pan-Tissue                                                 NaN   \n",
       "\n",
       "                                   manual_activation_gating_fn  \\\n",
       "dataset                                                          \n",
       "AMP-RA       /data/srlab1/TCAT/Data/PerDataset/AMPRA/Manual...   \n",
       "Pan-Cancer                                                 NaN   \n",
       "TBRU         /data/srlab1/TCAT/Data/PerDataset/TBRU/ManualG...   \n",
       "HIV-Vaccine                                                NaN   \n",
       "UK-Covid     /data/srlab1/TCAT/Data/PerDataset/UKCOVID/Manu...   \n",
       "COMBAT       /data/srlab1/TCAT/Data/PerDataset/COMBAT/Manua...   \n",
       "Pan-Tissue                                                 NaN   \n",
       "\n",
       "                                           activation_score_fn  \\\n",
       "dataset                                                          \n",
       "AMP-RA       /data/srlab1/TCAT/Data/PerDataset/AMPRA/Activa...   \n",
       "Pan-Cancer   /data/srlab1/TCAT/Data/PerDataset/Pancancer/Ac...   \n",
       "TBRU         /data/srlab1/TCAT/Data/PerDataset/TBRU/Activat...   \n",
       "HIV-Vaccine  /data/srlab1/TCAT/Data/PerDataset/HaoEtAl/Acti...   \n",
       "UK-Covid     /data/srlab1/TCAT/Data/PerDataset/UKCOVID/Acti...   \n",
       "COMBAT       /data/srlab1/TCAT/Data/PerDataset/COMBAT/Activ...   \n",
       "Pan-Tissue   /data/srlab1/TCAT/Data/PerDataset/XTissueImmun...   \n",
       "\n",
       "                                                   metadata_fn  ...     k  \\\n",
       "dataset                                                         ...         \n",
       "AMP-RA       /data/srlab1/TCAT/Data/PerDataset/AMPRA/AMP_AD...  ...  34.0   \n",
       "Pan-Cancer   /data/srlab1/TCAT/Data/PerDataset/Pancancer/pa...  ...  38.0   \n",
       "TBRU         /data/srlab1/TCAT/Data/PerDataset/TBRU/tbru_ex...  ...  36.0   \n",
       "HIV-Vaccine  /data/srlab1/TCAT/Data/PerDataset/HaoEtAl/haoe...  ...  31.0   \n",
       "UK-Covid     /data/srlab1/TCAT/Data/PerDataset/UKCOVID/hani...  ...  44.0   \n",
       "COMBAT       /data/srlab1/TCAT/Data/PerDataset/COMBAT/COMBA...  ...  35.0   \n",
       "Pan-Tissue   /data/srlab1/TCAT/Data/PerDataset/XTissueImmun...  ...  39.0   \n",
       "\n",
       "               dt                               processed_forcnmf_fn  \\\n",
       "dataset                                                                \n",
       "AMP-RA       0_15  /data/srlab1/TCAT/Data/PerDataset/AMPRA/AMP_AD...   \n",
       "Pan-Cancer   0.15  /data/srlab1/TCAT/Data/PerDataset/Pancancer/pa...   \n",
       "TBRU         0_20  /data/srlab1/TCAT/Data/PerDataset/TBRU/tbru_ex...   \n",
       "HIV-Vaccine  0_15  /data/srlab1/TCAT/Data/PerDataset/HaoEtAl/haoe...   \n",
       "UK-Covid     0_20  /data/srlab1/TCAT/Data/PerDataset/UKCOVID/hani...   \n",
       "COMBAT       0_15  /data/srlab1/TCAT/Data/PerDataset/COMBAT/COMBA...   \n",
       "Pan-Tissue   0_20  /data/srlab1/TCAT/Data/PerDataset/XTissueImmun...   \n",
       "\n",
       "                                        tpm_counts_for_cnmf_fn  \\\n",
       "dataset                                                          \n",
       "AMP-RA       /data/srlab1/TCAT/Data/PerDataset/AMPRA/AMP_AD...   \n",
       "Pan-Cancer                                                 NaN   \n",
       "TBRU         /data/srlab1/TCAT/Data/PerDataset/TBRU/tbru_ex...   \n",
       "HIV-Vaccine  /data/srlab1/TCAT/Data/PerDataset/HaoEtAl/haoe...   \n",
       "UK-Covid                                                   NaN   \n",
       "COMBAT       /data/srlab1/TCAT/Data/PerDataset/COMBAT/COMBA...   \n",
       "Pan-Tissue                                                 NaN   \n",
       "\n",
       "                                            raw_counts_filt_fn  \\\n",
       "dataset                                                          \n",
       "AMP-RA       /data/srlab1/TCAT/Data/PerDataset/AMPRA/AMP_AD...   \n",
       "Pan-Cancer   /data/srlab1/TCAT/Data/PerDataset/Pancancer/pa...   \n",
       "TBRU         /data/srlab1/TCAT/Data/PerDataset/TBRU/tbru_ex...   \n",
       "HIV-Vaccine  /data/srlab1/TCAT/Data/PerDataset/HaoEtAl/haoe...   \n",
       "UK-Covid     /data/srlab1/TCAT/Data/PerDataset/UKCOVID/hani...   \n",
       "COMBAT       /data/srlab1/TCAT/Data/PerDataset/COMBAT/COMBA...   \n",
       "Pan-Tissue   /data/srlab1/TCAT/Data/PerDataset/XTissueImmun...   \n",
       "\n",
       "                                                 raw_counts_fn dataset_type  \\\n",
       "dataset                                                                       \n",
       "AMP-RA       /data/srlab1/TCAT/Data/PerDataset/AMPRA/AMP_AD...    discovery   \n",
       "Pan-Cancer   /data/srlab1/TCAT/Data/PerDataset/Pancancer/pa...    discovery   \n",
       "TBRU         /data/srlab1/TCAT/Data/PerDataset/TBRU/tbru_ex...    discovery   \n",
       "HIV-Vaccine  /data/srlab1/TCAT/Data/PerDataset/HaoEtAl/haoe...    discovery   \n",
       "UK-Covid     /data/srlab1/TCAT/Data/PerDataset/UKCOVID/hani...    discovery   \n",
       "COMBAT       /data/srlab1/TCAT/Data/PerDataset/COMBAT/COMBA...    discovery   \n",
       "Pan-Tissue   /data/srlab1/TCAT/Data/PerDataset/XTissueImmun...    discovery   \n",
       "\n",
       "             tissue_type         context_label  \\\n",
       "dataset                                          \n",
       "AMP-RA          Synovium                 RA+OA   \n",
       "Pan-Cancer    Pan-Tissue        Cancer+Healthy   \n",
       "TBRU               Blood               Healthy   \n",
       "HIV-Vaccine        Blood  Post-Vaccine+Healthy   \n",
       "UK-Covid           Blood      Covid-19+Healthy   \n",
       "COMBAT             Blood      Covid-19+Healthy   \n",
       "Pan-Tissue    Pan-Tissue  Non-Cancer/Non-Viral   \n",
       "\n",
       "                                                   tcat_fn_old  \n",
       "dataset                                                         \n",
       "AMP-RA       /data/srlab1/TCAT/Data/TCAT/TCAT_Usage.2023101...  \n",
       "Pan-Cancer   /data/srlab1/TCAT/Data/TCAT/TCAT_Usage.2023101...  \n",
       "TBRU         /data/srlab1/TCAT/Data/TCAT/TCAT_Usage.2023101...  \n",
       "HIV-Vaccine  /data/srlab1/TCAT/Data/TCAT/TCAT_Usage.2023101...  \n",
       "UK-Covid     /data/srlab1/TCAT/Data/TCAT/TCAT_Usage.2023101...  \n",
       "COMBAT       /data/srlab1/TCAT/Data/TCAT/TCAT_Usage.2023101...  \n",
       "Pan-Tissue   /data/srlab1/TCAT/Data/TCAT/TCAT_Usage.2023101...  \n",
       "\n",
       "[7 rows x 27 columns]"
      ]
     },
     "execution_count": 8,
     "metadata": {},
     "output_type": "execute_result"
    }
   ],
   "source": [
    "params = read_dataset_log('Dataset Paths')\n",
    "params.index = params['dataset']\n",
    "params = params[params['dataset_type']=='discovery']\n",
    "params"
   ]
  },
  {
   "cell_type": "code",
   "execution_count": 9,
   "id": "83eb92db-4bec-400d-8262-fe61a9b5d6e2",
   "metadata": {},
   "outputs": [
    {
     "data": {
      "text/plain": [
       "clustering_fn                                /data/srlab1/TCAT/Data/TCAT/cluster_groups.pai...\n",
       "clustering_with_singletons_fn                /data/srlab1/TCAT/Data/TCAT/cluster_groups.pai...\n",
       "merged_hvgs                                  /data/srlab1/TCAT/Data/TCAT/MergedHVG_UnionAll...\n",
       "reference_fn                                 /data/srlab1/TCAT/Data/TCAT/merged_spectra.Gen...\n",
       "renamed_ref_fn                               /data/srlab1/TCAT/Data/TCAT/merged_spectra.Gen...\n",
       "tpm_varnorm_spectra                          /data/srlab1/TCAT/Data/TCAT/merged_spectra.Gen...\n",
       "tpm_varnorm_spectra_withsingletons           /data/srlab1/TCAT/Data/TCAT/merged_spectra.Gen...\n",
       "tpm_renorm_varnorm_spectra                   /data/srlab1/TCAT/Data/TCAT/merged_spectra.Gen...\n",
       "tpm_renorm_varnorm_spectra_withsingletons    /data/srlab1/TCAT/Data/TCAT/merged_spectra.Gen...\n",
       "scores_spectra                               /data/srlab1/TCAT/Data/TCAT/merged_spectra.Gen...\n",
       "scores_spectra_withsingletons                /data/srlab1/TCAT/Data/TCAT/merged_spectra.Gen...\n",
       "correlation_matrix_tpm_renorm_varnorm        /data/srlab1/TCAT/Data/TCAT/R.TPMrenorm.VarNor...\n",
       "correlation_matrix_spectra                   /data/srlab1/TCAT/Data/TCAT/R.Zspec.HVGunion.2...\n",
       "starcat_fn                                   /data/srlab1/TCAT/Data/TCAT/merged_spectra.Gen...\n",
       "Name: 0, dtype: object"
      ]
     },
     "execution_count": 9,
     "metadata": {},
     "output_type": "execute_result"
    }
   ],
   "source": [
    "cgep_params = read_dataset_log('cGEP Paths').iloc[0,:]\n",
    "cgep_params"
   ]
  },
  {
   "cell_type": "code",
   "execution_count": 10,
   "id": "e1e3c8f7-1318-43f0-85fe-ddc3f0ab6f7f",
   "metadata": {
    "tags": []
   },
   "outputs": [
    {
     "name": "stderr",
     "output_type": "stream",
     "text": [
      "/PHShome/dk718/miniforge3/envs/cnmf_env2v3/lib/python3.7/site-packages/IPython/core/interactiveshell.py:3524: DtypeWarning: Columns (18,20,21) have mixed types.Specify dtype option on import or set low_memory=False.\n",
      "  exec(code_obj, self.user_global_ns, self.user_ns)\n",
      "/PHShome/dk718/miniforge3/envs/cnmf_env2v3/lib/python3.7/site-packages/IPython/core/interactiveshell.py:3524: DtypeWarning: Columns (3) have mixed types.Specify dtype option on import or set low_memory=False.\n",
      "  exec(code_obj, self.user_global_ns, self.user_ns)\n"
     ]
    }
   ],
   "source": [
    "usage_all = {}\n",
    "meta_dict = {}\n",
    "# usage = pd.DataFrame()\n",
    "meta = pd.DataFrame()\n",
    "\n",
    "for dataset in params.index:\n",
    "    usage_ds = pd.read_csv(params.loc[dataset, 'tcat_fn'], index_col = 0, sep = '\\t')\n",
    "    usage_all[dataset] = usage_ds\n",
    "    \n",
    "    meta_ds = pd.read_csv(params.loc[dataset, 'metadata_fn'], index_col = 0, sep = '\\t')\n",
    "    meta_dict[dataset] = meta_ds\n",
    "    \n",
    "    meta_ds = pd.DataFrame({'cell': meta_dict[dataset].index,\n",
    "                   'cluster': meta_dict[dataset][params.loc[dataset, 'cluster_col']],\n",
    "                    'dataset': dataset}, \n",
    "                   index = meta_dict[dataset].index)\n",
    "    meta = pd.concat([meta, meta_ds])\n"
   ]
  },
  {
   "cell_type": "code",
   "execution_count": 11,
   "id": "1900e483-3366-4c5c-82e1-c1959f55ebb9",
   "metadata": {},
   "outputs": [],
   "source": [
    "usage = pd.concat(usage_all.values())\n",
    "usage.columns = usage.columns.map(rename_map)\n",
    "usage_norm = usage.div(usage.sum(axis=1), axis=0)"
   ]
  },
  {
   "cell_type": "code",
   "execution_count": 12,
   "id": "e690c357-f468-478d-9777-a7d00b8947ab",
   "metadata": {},
   "outputs": [
    {
     "data": {
      "text/plain": [
       "((1709860, 3), (1709860, 52))"
      ]
     },
     "execution_count": 12,
     "metadata": {},
     "output_type": "execute_result"
    }
   ],
   "source": [
    "meta.shape, usage.shape"
   ]
  },
  {
   "cell_type": "code",
   "execution_count": 13,
   "id": "1866e1ab-970b-43c5-9242-eaca54e50b04",
   "metadata": {},
   "outputs": [],
   "source": [
    "meta = meta.loc[usage.index, :]"
   ]
  },
  {
   "cell_type": "code",
   "execution_count": 14,
   "id": "b4d68c93-2d90-49ba-a12f-6354dc4bc778",
   "metadata": {},
   "outputs": [
    {
     "data": {
      "text/plain": [
       "Index(['CellCycle-G2M', 'Translation', 'HLA', 'ISG', 'Mito', 'Doublet-RBC',\n",
       "       'gdT', 'CellCycle-S', 'Cytotoxic', 'Doublet-Platelet', 'NME1/FABP5',\n",
       "       'Th22', 'MAIT', 'CellCycle-Late-S', 'Cytoskeleton', 'Heatshock',\n",
       "       'Multi-Cytokine', 'TEMRA', 'Doublet-Myeloid', 'Metallothionein',\n",
       "       'CD4-CM', 'IEG', 'CD8-EM', 'IEG2', 'CD4-Naive', 'Treg', 'Th17-Resting',\n",
       "       'Poor-Quality', 'CD8-Naive', 'RGCC/MYADM', 'TIMD4/TIM3',\n",
       "       'Doublet-Plasmablast', 'BCL2/FAM13A', 'IL10/IL19', 'Th2-Activated',\n",
       "       'Th2-Resting', 'ICOS/CD38', 'Doublet-Bcell', 'Th1-Like', 'CTLA4/CD38',\n",
       "       'CD8-Trm', 'Th17-Activated', 'Tfh-2', 'OX40/EBI3', 'CD172a/MERTK',\n",
       "       'IEG3', 'Doublet-Fibroblast', 'SOX4/TOX2', 'CD40LG/TXNIP', 'Tph',\n",
       "       'Exhaustion', 'Tfh-1'],\n",
       "      dtype='object')"
      ]
     },
     "execution_count": 14,
     "metadata": {},
     "output_type": "execute_result"
    }
   ],
   "source": [
    "usage.columns"
   ]
  },
  {
   "cell_type": "code",
   "execution_count": 15,
   "id": "e1e38f9d-d008-442d-9070-47d48422b888",
   "metadata": {},
   "outputs": [],
   "source": [
    "cc_geps = ['CellCycle-G2M', 'CellCycle-S', 'CellCycle-Late-S']\n",
    "lineage_geps = list(gep_info[gep_info['Class']=='Lineage']['Short_Name'].values)"
   ]
  },
  {
   "cell_type": "code",
   "execution_count": 46,
   "id": "6dc10284-170c-4000-bb93-3500690098af",
   "metadata": {},
   "outputs": [
    {
     "data": {
      "text/plain": [
       "['Doublet-RBC',\n",
       " 'Doublet-Platelet',\n",
       " 'Doublet-Plasmablast',\n",
       " 'Doublet-Bcell',\n",
       " 'Doublet-Myeloid',\n",
       " 'Doublet-Fibroblast']"
      ]
     },
     "execution_count": 46,
     "metadata": {},
     "output_type": "execute_result"
    }
   ],
   "source": [
    "doublets_geps = list(gep_info.loc[gep_info['Class'] == 'Doublet Lineage', 'Short_Name'].dropna().values)\n",
    "doublets_geps"
   ]
  },
  {
   "cell_type": "code",
   "execution_count": 16,
   "id": "fb3bd2b2-30f2-4abe-8cd0-2bc5494eb0b9",
   "metadata": {},
   "outputs": [
    {
     "data": {
      "text/plain": [
       "['CD8-EM',\n",
       " 'MAIT',\n",
       " 'Treg',\n",
       " 'CD4-Naive',\n",
       " 'TEMRA',\n",
       " 'CD4-CM',\n",
       " 'gdT',\n",
       " 'Th22',\n",
       " 'Th17-Resting',\n",
       " 'Th2-Resting',\n",
       " 'Th1-Like',\n",
       " 'CD8-Naive',\n",
       " 'CD8-Trm',\n",
       " 'Tfh-2',\n",
       " 'Tph',\n",
       " 'Tfh-1']"
      ]
     },
     "execution_count": 16,
     "metadata": {},
     "output_type": "execute_result"
    }
   ],
   "source": [
    "lineage_geps"
   ]
  },
  {
   "cell_type": "code",
   "execution_count": 17,
   "id": "20cefbd1-29b4-4f03-a7c6-f1b685ee17c5",
   "metadata": {},
   "outputs": [],
   "source": [
    "ds_res_fn = '/data/srlab1/TCAT/Data/TCAT/Proliferation/Proliferation.AllDataset.PerSamplePairedTtest.tsv'\n",
    "ds_res = pd.read_csv(ds_res_fn, index_col = 0, sep = '\\t')\n",
    "\n",
    "meta_res_fn = '/data/srlab1/TCAT/Data/TCAT/Proliferation/Proliferation.AllDataset.PerSamplePairedTtest.Metaanalysis.tsv'\n",
    "meta_res = pd.read_csv(meta_res_fn, index_col = 0, sep = '\\t')\n",
    "\n",
    "# ds_res['GEP'] = ds_res['GEP'].map(oldname_map)\n",
    "# meta_res.index = meta_res.index.map(oldname_map)"
   ]
  },
  {
   "cell_type": "code",
   "execution_count": 18,
   "id": "6f0d57f7-9934-4a6f-913b-b5278ef50de8",
   "metadata": {},
   "outputs": [
    {
     "data": {
      "text/plain": [
       "['NME1/FABP5',\n",
       " 'TIMD4/TIM3',\n",
       " 'HLA',\n",
       " 'Exhaustion',\n",
       " 'Cytoskeleton',\n",
       " 'ICOS/CD38',\n",
       " 'CTLA4/CD38',\n",
       " 'OX40/EBI3',\n",
       " 'Th17-Activated',\n",
       " 'Metallothionein',\n",
       " 'IL10/IL19',\n",
       " 'Tph']"
      ]
     },
     "execution_count": 18,
     "metadata": {},
     "output_type": "execute_result"
    }
   ],
   "source": [
    "cc_assoc_geps = list(meta_res['P'][(meta_res['P']< 0.05) & (meta_res['Mean_Log2_Ratio']>0)].index)\n",
    "cc_assoc_geps"
   ]
  },
  {
   "cell_type": "markdown",
   "id": "360f592a-4aea-40ad-8078-10ac1734da23",
   "metadata": {},
   "source": [
    "# Heatmap of proliferation by lineage + prolif-associated GEPs"
   ]
  },
  {
   "cell_type": "code",
   "execution_count": 19,
   "id": "7ce07f03-a904-4bfa-9fe5-ec86b779e13f",
   "metadata": {},
   "outputs": [],
   "source": [
    "from matplotlib import cm\n",
    "from matplotlib.colors import LinearSegmentedColormap\n"
   ]
  },
  {
   "cell_type": "code",
   "execution_count": 20,
   "id": "0e4fbb8b-877b-49b3-8d05-17f4e66e8a24",
   "metadata": {},
   "outputs": [],
   "source": [
    "dataset = 'COMBAT'\n"
   ]
  },
  {
   "cell_type": "code",
   "execution_count": 21,
   "id": "d971bf6b-6f19-4fb6-81a2-1c76e890ceef",
   "metadata": {
    "tags": []
   },
   "outputs": [
    {
     "data": {
      "text/plain": [
       "array(['CD8.TEMRA.1', 'CD4.Th', 'CD8.TEM', 'CD4.NAIVE.2', 'CD4.NAIVE.1',\n",
       "       'MAIT.CD8.CCL5.cytox_lo.1', 'CD8.TEMRA.4', 'CD8.NAIVE.1',\n",
       "       'CD8.TEM.KLRB1', 'CD4.TREG.CCR4hi', 'CD4.TEFF.TCF7',\n",
       "       'CD4.Th.CCR4.CCR10', 'CD4.TEFF.prolif.1', 'CD4.Th1.1', 'CD4.Th17',\n",
       "       'CD4.TEMRA.KLRB1', 'CD4.TREG', 'CD8.TEMRA.3', 'CD4.TEFF.GZMK',\n",
       "       'CD4.Th.mitohi', 'CD4.Th.IFN.resp', 'CD4.Th.CXCR5.KLRB1',\n",
       "       'DN.CCL5.cytox_hi.1', 'DP.1', 'CD8.TCM.CCL5.1',\n",
       "       'GDT.VD1.CCL5.cytox_lo.1', 'DN.CCL5.cytox_hi.2', 'CD8.TEFF.1',\n",
       "       'CD8.TEMRA.mitohi.1', 'CD8.TCM.mitohi', 'CD8.NAIVE.2',\n",
       "       'CD4.Th1/Th17', 'CD8.TEMRA.2', 'GDT.VD1.CCL5.cytox_hi.1',\n",
       "       'CD8.TEFF.prolif.1', 'CD8.NAIVE.3', 'CD8.TEMRA.mitohi.3',\n",
       "       'DP.CCL5/GZM_lo.1', 'CD8.TEFF.prolif.2',\n",
       "       'DP.CCL5.cytox_lo.prolif.1', 'CD4.TEM.mitohi.1', 'CD8.TCM.CCR6',\n",
       "       'DN.CCL5.cytox_lo.1', 'CD4.TEM', 'CD8.TCM.CCR10',\n",
       "       'GDT.VD2.VG9.CCL5.cytox_hi.1', 'GDT.VD1.VG9.CCL5.cytox_hi.4',\n",
       "       'DP.CCL5/GZM_lo.2', 'CD8.TEFF.prolif.3',\n",
       "       'GDT.VD2.VG9.CCL5.cytox_hi.5', 'DN.CCL5.cytox_hi.mitohi.2',\n",
       "       'CD8.TCM.1', 'CD4.NAIVE.3', 'CD4.TEFF.prolif.3', 'DP.naive_like.1',\n",
       "       'GDT.VD1.VG9.CCL5.cytox_hi.5', 'CD4.TEM.GZMK',\n",
       "       'GDT.VD1.CCL5.cytox_hi.mitohi.1', 'DN.2', 'CD8.TEMRA.mitohi.2',\n",
       "       'DN.1', 'CD8.TREG', 'CD4.TEFF.prolif.2', 'DP.CCL5.cytox_lo.2',\n",
       "       'CD4.Th1.2', 'DP.naive_like.2', 'CD4.TEFF.prolif.MKI67lo',\n",
       "       'DP.CCL5.cytox_hi.1', 'CD8.TEMRA.6', 'CD8.TEFF.prolif.4',\n",
       "       'CD4.TEM.mitohi.2', 'DN.CCL5.cytox_hi.6', 'DN.CCL5/GZM_lo.1',\n",
       "       'CD8.TEMRA.5', 'MAIT.CD8.CCL5.cytox_lo.2', nan,\n",
       "       'GDT.VD2.VG9.CCL5.cytox_hi.mitohi.1', 'CD8.TCM.CCL5.2',\n",
       "       'DN.naive_like.1', 'CD8.TEFF.2', 'DN.CCL5.cytox_hi.mitohi.1',\n",
       "       'CD4.TEMRA.XCL2', 'DP.6', 'DP.CCL5.cytox_lo.prolif.2', 'DP.3',\n",
       "       'DP.CCL5.cytox_lo.prolif.4', 'GDT.VD1.CCL5.cytox_hi.3',\n",
       "       'DN.CCL5.cytox_hi.3', 'GDT.VD2.VG9.CCL5.cytox_hi.prolif.1',\n",
       "       'MAIT.CD8.CCL5.cytox_lo.4', 'GDT.VD2.VG9.CCL5.cytox_hi.2',\n",
       "       'GDT.VD2.VG9.CCL5.cytox_lo.1', 'CD4.Th1.3', 'DP.CCL5.cytox_lo.1',\n",
       "       'GDT.VD1.CCL5.cytox_hi.2', 'DP.2', 'DN.CCL5.cytox_hi.5',\n",
       "       'DN.naive_like.2', 'DP.CCL5.cytox_lo.3', 'CD8.TEMRA.IFN.resp',\n",
       "       'DP.CCL5.cytox_lo.prolif.3', 'DN.3', 'GDT.VD1.naive_like.3',\n",
       "       'MAIT.DN.CCL5.cytox_lo.1', 'DN.CCL5.cytox_lo.prolif.1',\n",
       "       'GDT.VD1.2', 'GDT.VD1.VG9.CCL5.cytox_hi.3', 'CD8.TREG.CCR4hi',\n",
       "       'GDT.VD1.VG9.CCL5.cytox_lo.1', 'GDT.VD1.VG9.CCL5.cytox_hi.1',\n",
       "       'CD8.TCM.act', 'GDT.VD2.VG9.CCL5.cytox_lo.4',\n",
       "       'GDT.VD2.VG9.CCL5.cytox_lo.mitohi', 'DP.naive_like.3',\n",
       "       'DP.CCL5.cytox_hi.3', 'GDT.VD1.VG9.CCL5.cytox_hi.mitohi.3',\n",
       "       'GDT.VD1.VG9.4', 'GDT.VD1.VG9.CCL5.cytox_hi.2', 'GDT.VD1.3',\n",
       "       'GDT.VD1.naive_like.1', 'GDT.VD2.VG9.CCL5.cytox_hi.IFNresp',\n",
       "       'GDT.VD1.VG9.2', 'GDT.VD1.VG9.CCL5.cytox_hi.prolif.5', 'GDT.VD1.4',\n",
       "       'DN.CCL5.cytox_lo.prolif.2', 'DN.CCL5.cytox_lo.2', 'DN.6',\n",
       "       'DN.CCL5/GZM_lo.2', 'DP.4', 'DP.CCL5.cytox_hi.4',\n",
       "       'GDT.VD1.VG9.CCL5.cytox_hi.mitohi.1', 'CD8.TCM.IFN.resp', 'DN.4',\n",
       "       'DN.CCL5.cytox_hi.mitohi.3', 'CD4.TEFF.prolif.GZMB.2',\n",
       "       'DN.CCL5.cytox_hi.4', 'DN.CCL5.cytox_hi.7',\n",
       "       'GDT.VD2.VG9.CCL5.cytox_hi.4', 'DN.CCL5.cytox_hi.IFNresp',\n",
       "       'GDT.VD2.VG9.CCL5.cytox_lo.2', 'GDT.VD2.VG9.CCL5.cytox_hi.3',\n",
       "       'GDT.VD1.VG9.1', 'DP.5', 'GDT.VD2.VG9.naive_like.1',\n",
       "       'CD4.TEMRA.mitohi', 'CD8.TEMRA.XCL1/2',\n",
       "       'GDT.VD1.VG9.CCL5.cytox_hi.mitohi.2', 'CD8.TEMRA.7',\n",
       "       'GDT.VD2.VG9.mitohi', 'GDT.VD2.VG9.CCL5.cytox_hi.6',\n",
       "       'DP.CCL5.cytox_hi.5', 'GDT.VD2.VG9.CCL5.cytox_hi.mitohi.2',\n",
       "       'GDT.VD1.VG9.CCL5.cytox_hi.prolif.2',\n",
       "       'GDT.VD2.VG9.CCL5.cytox_hi.prolif.2', 'DN.naive_like.3',\n",
       "       'GDT.VD1.naive_like.2', 'CD4.TEMRA.KLRC3', 'DN.CCL5/GZM_lo.3',\n",
       "       'DP.CCL5.cytox_hi.2', 'CD8.TCM.2', 'DP.FOXP3.CD25', 'DN.IFNresp',\n",
       "       'GDT.VD1.VG9.CCL5.cytox_hi.prolif.3', 'CD4.TEM.IFN.resp',\n",
       "       'GDT.VD1.CCL5.cytox_hi.mitohi.2', 'GDT.VD1.CCL5.cytox_hi.IFNresp',\n",
       "       'DP.FOXP3lo.CD25lo', 'GDT.VD1.CCL5.cytox_hi.prolif.3', 'DN.mitohi',\n",
       "       'GDT.VD1.1', 'DP.CCL5.cytox_lo.4', 'MAIT.CD8.CCL5.cytox_lo.10',\n",
       "       'GDT.VD1.mitohi', 'GDT.VD1.CCL5.cytox_hi.4',\n",
       "       'MAIT.CD8.CCL5.cytox_lo.3', 'GDT.VD2.VG9.1', 'GDT.VD1.VG9.3',\n",
       "       'DP.CCL5.cytox_hi.mitohi', 'CD4.TEFF.prolif.GZMB.1',\n",
       "       'GDT.VD1.CCL5.cytox_hi.6', 'DP.IFNresp',\n",
       "       'MAIT.CD8.CCL5.cytox_lo.prolif.1', 'GDT.VD1.CCL5.GZM_lo',\n",
       "       'DN.CCL5.cytox_hi.prolif', 'GDT.VD2.VG9.CCL5.cytox_lo.XCL1/2',\n",
       "       'GDT.VD1.5', 'GDT.VD2.VG9.CCL5.cytox_lo.3',\n",
       "       'MAIT.CD8.CCL5.cytox_lo.5', 'CD8.TEFF.prolif.5',\n",
       "       'GDT.VD1.CCL5.cytox_hi.prolif.1', 'GDT.VD1.CCL5.cytox_hi.5',\n",
       "       'GDT.VD2.VG9.CCL5.cytox_hi.7', 'GDT.VD2.VG9.naive_like.3',\n",
       "       'DN.FOXP3.CD25', 'GDT.VD1.VG9.CCL5.cytox_hi.prolif.1',\n",
       "       'MAIT.DN.CCL5.cytox_lo.2', 'DN.5', 'DN.CCL5.cytox_lo.3',\n",
       "       'GDT.VD1.CCL5.cytox_lo.2', 'MAIT.DN.CCL5.cytox_lo.5',\n",
       "       'DP.CCL5.cytox_hi.IFNresp', 'MAIT.CD8.CCL5.GZM_lo',\n",
       "       'GDT.VD3.VG9.naive_like', 'GDT.VD2.VG9.CCL5.cytox_lo.5',\n",
       "       'GDT.VD2.VG9.naive_like.2', 'DN.7', 'CD4.TEMRA', 'GDT.VD1.6',\n",
       "       'MAIT.CD8.CCL5.cytox_lo.IFNresp.1', 'DN.CCL5.cytox_hi.8',\n",
       "       'GDT.VD2.FOXP3.CD25', 'GDT.VD1.VG9.CCL5/GZM_lo.1',\n",
       "       'GDT.VD1.VG9.CCL5.cytox_lo.2', 'MAIT.DN.CCL5.cytox_lo.3',\n",
       "       'GDT.VD1.CCL5.cytox_hi.prolif.2',\n",
       "       'MAIT.CD8.CCL5.cytox_lo.prolif.3',\n",
       "       'MAIT.CD8.CCL5.cytox_lo.prolif.2',\n",
       "       'GDT.VD2.VG9.CCL5.cytox_hi.prolif.3', 'MAIT.CD8.CCL5.cytox_lo.8',\n",
       "       'GDT.VD1.VG9.CCL5.cytox_hi.prolif.4',\n",
       "       'GDT.VD1.VD3.VG9.CCL5.cytox_lo.XCL1/2', 'MAIT.CD8.CCL5.cytox_lo.6',\n",
       "       'MAIT.DN.CCL5.cytox_lo.4', 'GDT.VD1.CCL5.cytox_hi.mitohi.3',\n",
       "       'MAIT.DN', 'GDT.VD1.VG9.5', 'GDT.VD1.VG9.mitohi',\n",
       "       'GDT.VD1.CCL5.cytox_hi.prolif.4', 'GDT.VD1.VG9.CCL5.cytox_lo.3',\n",
       "       'GDT.VD2.VG9.CCL5.cytox_hi.prolif.4', 'MAIT.CD8',\n",
       "       'GDT.VD2.VG9.CCL5.cytox_lo.6', 'MAIT.CD8.CCL5.cytox_lo.mitohi.2',\n",
       "       'DP.CCL5.cytox_hi.6', 'GDT.VD1.VG9.IFNresp',\n",
       "       'GDT.VD1.FOXP3lo.CD25lo', 'GDT.VD1.VG9.CCL5/GZM_lo.2',\n",
       "       'GDT.VD2.VG9.5', 'GDT.VD2.VG9.6', 'GDT.VD2',\n",
       "       'MAIT.CD8.CCL5.cytox_lo.9', 'DP.CCL5.cytox_lo.prolif.5',\n",
       "       'MAIT.DN.cytox_lo.IFNresp'], dtype=object)"
      ]
     },
     "execution_count": 21,
     "metadata": {},
     "output_type": "execute_result"
    }
   ],
   "source": [
    "meta_dict[dataset]['Annotation_cluster_name'].unique()"
   ]
  },
  {
   "cell_type": "code",
   "execution_count": 22,
   "id": "8bd61d2f-d6d0-4945-9a75-68f4b8b79cc7",
   "metadata": {},
   "outputs": [],
   "source": [
    "ct = pd.crosstab(meta_dict[dataset]['Annotation_minor_subset'], \n",
    "           meta_dict[dataset]['Annotation_cluster_name'])"
   ]
  },
  {
   "cell_type": "code",
   "execution_count": 23,
   "id": "6f00eaa6-3733-4b0e-8d51-6810a54561be",
   "metadata": {},
   "outputs": [
    {
     "data": {
      "text/html": [
       "<div>\n",
       "<style scoped>\n",
       "    .dataframe tbody tr th:only-of-type {\n",
       "        vertical-align: middle;\n",
       "    }\n",
       "\n",
       "    .dataframe tbody tr th {\n",
       "        vertical-align: top;\n",
       "    }\n",
       "\n",
       "    .dataframe thead th {\n",
       "        text-align: right;\n",
       "    }\n",
       "</style>\n",
       "<table border=\"1\" class=\"dataframe\">\n",
       "  <thead>\n",
       "    <tr style=\"text-align: right;\">\n",
       "      <th>Annotation_cluster_name</th>\n",
       "      <th>CD4.TEFF.prolif.1</th>\n",
       "      <th>CD4.TEFF.prolif.2</th>\n",
       "      <th>CD4.TEFF.prolif.3</th>\n",
       "      <th>CD4.TEFF.prolif.GZMB.1</th>\n",
       "      <th>CD4.TEFF.prolif.GZMB.2</th>\n",
       "      <th>CD4.TEFF.prolif.MKI67lo</th>\n",
       "      <th>CD8.TEFF.prolif.1</th>\n",
       "      <th>CD8.TEFF.prolif.2</th>\n",
       "      <th>CD8.TEFF.prolif.3</th>\n",
       "      <th>CD8.TEFF.prolif.4</th>\n",
       "      <th>...</th>\n",
       "      <th>GDT.VD1.VG9.CCL5.cytox_hi.prolif.3</th>\n",
       "      <th>GDT.VD1.VG9.CCL5.cytox_hi.prolif.4</th>\n",
       "      <th>GDT.VD1.VG9.CCL5.cytox_hi.prolif.5</th>\n",
       "      <th>GDT.VD2.VG9.CCL5.cytox_hi.prolif.1</th>\n",
       "      <th>GDT.VD2.VG9.CCL5.cytox_hi.prolif.2</th>\n",
       "      <th>GDT.VD2.VG9.CCL5.cytox_hi.prolif.3</th>\n",
       "      <th>GDT.VD2.VG9.CCL5.cytox_hi.prolif.4</th>\n",
       "      <th>MAIT.CD8.CCL5.cytox_lo.prolif.1</th>\n",
       "      <th>MAIT.CD8.CCL5.cytox_lo.prolif.2</th>\n",
       "      <th>MAIT.CD8.CCL5.cytox_lo.prolif.3</th>\n",
       "    </tr>\n",
       "    <tr>\n",
       "      <th>Annotation_minor_subset</th>\n",
       "      <th></th>\n",
       "      <th></th>\n",
       "      <th></th>\n",
       "      <th></th>\n",
       "      <th></th>\n",
       "      <th></th>\n",
       "      <th></th>\n",
       "      <th></th>\n",
       "      <th></th>\n",
       "      <th></th>\n",
       "      <th></th>\n",
       "      <th></th>\n",
       "      <th></th>\n",
       "      <th></th>\n",
       "      <th></th>\n",
       "      <th></th>\n",
       "      <th></th>\n",
       "      <th></th>\n",
       "      <th></th>\n",
       "      <th></th>\n",
       "      <th></th>\n",
       "    </tr>\n",
       "  </thead>\n",
       "  <tbody>\n",
       "    <tr>\n",
       "      <th>CD4.TEFF.prolif</th>\n",
       "      <td>1893</td>\n",
       "      <td>1549</td>\n",
       "      <td>703</td>\n",
       "      <td>62</td>\n",
       "      <td>26</td>\n",
       "      <td>528</td>\n",
       "      <td>0</td>\n",
       "      <td>0</td>\n",
       "      <td>0</td>\n",
       "      <td>0</td>\n",
       "      <td>...</td>\n",
       "      <td>0</td>\n",
       "      <td>0</td>\n",
       "      <td>0</td>\n",
       "      <td>0</td>\n",
       "      <td>0</td>\n",
       "      <td>0</td>\n",
       "      <td>0</td>\n",
       "      <td>0</td>\n",
       "      <td>0</td>\n",
       "      <td>0</td>\n",
       "    </tr>\n",
       "    <tr>\n",
       "      <th>CD8.TEFF.prolif</th>\n",
       "      <td>0</td>\n",
       "      <td>0</td>\n",
       "      <td>0</td>\n",
       "      <td>0</td>\n",
       "      <td>0</td>\n",
       "      <td>0</td>\n",
       "      <td>2689</td>\n",
       "      <td>1329</td>\n",
       "      <td>726</td>\n",
       "      <td>90</td>\n",
       "      <td>...</td>\n",
       "      <td>0</td>\n",
       "      <td>0</td>\n",
       "      <td>0</td>\n",
       "      <td>0</td>\n",
       "      <td>0</td>\n",
       "      <td>0</td>\n",
       "      <td>0</td>\n",
       "      <td>0</td>\n",
       "      <td>0</td>\n",
       "      <td>0</td>\n",
       "    </tr>\n",
       "  </tbody>\n",
       "</table>\n",
       "<p>2 rows × 35 columns</p>\n",
       "</div>"
      ],
      "text/plain": [
       "Annotation_cluster_name  CD4.TEFF.prolif.1  CD4.TEFF.prolif.2  \\\n",
       "Annotation_minor_subset                                         \n",
       "CD4.TEFF.prolif                       1893               1549   \n",
       "CD8.TEFF.prolif                          0                  0   \n",
       "\n",
       "Annotation_cluster_name  CD4.TEFF.prolif.3  CD4.TEFF.prolif.GZMB.1  \\\n",
       "Annotation_minor_subset                                              \n",
       "CD4.TEFF.prolif                        703                      62   \n",
       "CD8.TEFF.prolif                          0                       0   \n",
       "\n",
       "Annotation_cluster_name  CD4.TEFF.prolif.GZMB.2  CD4.TEFF.prolif.MKI67lo  \\\n",
       "Annotation_minor_subset                                                    \n",
       "CD4.TEFF.prolif                              26                      528   \n",
       "CD8.TEFF.prolif                               0                        0   \n",
       "\n",
       "Annotation_cluster_name  CD8.TEFF.prolif.1  CD8.TEFF.prolif.2  \\\n",
       "Annotation_minor_subset                                         \n",
       "CD4.TEFF.prolif                          0                  0   \n",
       "CD8.TEFF.prolif                       2689               1329   \n",
       "\n",
       "Annotation_cluster_name  CD8.TEFF.prolif.3  CD8.TEFF.prolif.4  ...  \\\n",
       "Annotation_minor_subset                                        ...   \n",
       "CD4.TEFF.prolif                          0                  0  ...   \n",
       "CD8.TEFF.prolif                        726                 90  ...   \n",
       "\n",
       "Annotation_cluster_name  GDT.VD1.VG9.CCL5.cytox_hi.prolif.3  \\\n",
       "Annotation_minor_subset                                       \n",
       "CD4.TEFF.prolif                                           0   \n",
       "CD8.TEFF.prolif                                           0   \n",
       "\n",
       "Annotation_cluster_name  GDT.VD1.VG9.CCL5.cytox_hi.prolif.4  \\\n",
       "Annotation_minor_subset                                       \n",
       "CD4.TEFF.prolif                                           0   \n",
       "CD8.TEFF.prolif                                           0   \n",
       "\n",
       "Annotation_cluster_name  GDT.VD1.VG9.CCL5.cytox_hi.prolif.5  \\\n",
       "Annotation_minor_subset                                       \n",
       "CD4.TEFF.prolif                                           0   \n",
       "CD8.TEFF.prolif                                           0   \n",
       "\n",
       "Annotation_cluster_name  GDT.VD2.VG9.CCL5.cytox_hi.prolif.1  \\\n",
       "Annotation_minor_subset                                       \n",
       "CD4.TEFF.prolif                                           0   \n",
       "CD8.TEFF.prolif                                           0   \n",
       "\n",
       "Annotation_cluster_name  GDT.VD2.VG9.CCL5.cytox_hi.prolif.2  \\\n",
       "Annotation_minor_subset                                       \n",
       "CD4.TEFF.prolif                                           0   \n",
       "CD8.TEFF.prolif                                           0   \n",
       "\n",
       "Annotation_cluster_name  GDT.VD2.VG9.CCL5.cytox_hi.prolif.3  \\\n",
       "Annotation_minor_subset                                       \n",
       "CD4.TEFF.prolif                                           0   \n",
       "CD8.TEFF.prolif                                           0   \n",
       "\n",
       "Annotation_cluster_name  GDT.VD2.VG9.CCL5.cytox_hi.prolif.4  \\\n",
       "Annotation_minor_subset                                       \n",
       "CD4.TEFF.prolif                                           0   \n",
       "CD8.TEFF.prolif                                           0   \n",
       "\n",
       "Annotation_cluster_name  MAIT.CD8.CCL5.cytox_lo.prolif.1  \\\n",
       "Annotation_minor_subset                                    \n",
       "CD4.TEFF.prolif                                        0   \n",
       "CD8.TEFF.prolif                                        0   \n",
       "\n",
       "Annotation_cluster_name  MAIT.CD8.CCL5.cytox_lo.prolif.2  \\\n",
       "Annotation_minor_subset                                    \n",
       "CD4.TEFF.prolif                                        0   \n",
       "CD8.TEFF.prolif                                        0   \n",
       "\n",
       "Annotation_cluster_name  MAIT.CD8.CCL5.cytox_lo.prolif.3  \n",
       "Annotation_minor_subset                                   \n",
       "CD4.TEFF.prolif                                        0  \n",
       "CD8.TEFF.prolif                                        0  \n",
       "\n",
       "[2 rows x 35 columns]"
      ]
     },
     "execution_count": 23,
     "metadata": {},
     "output_type": "execute_result"
    }
   ],
   "source": [
    "ct.loc[ct.index.str.contains('prolif'), \n",
    "       ct.columns.str.contains('prolif')]"
   ]
  },
  {
   "cell_type": "code",
   "execution_count": 24,
   "id": "05ba35ad-578e-43e7-8dd3-ec12578db1eb",
   "metadata": {},
   "outputs": [
    {
     "data": {
      "text/plain": [
       "Index(['CD4.TEFF.prolif.1', 'CD4.TEFF.prolif.2', 'CD4.TEFF.prolif.3',\n",
       "       'CD4.TEFF.prolif.GZMB.1', 'CD4.TEFF.prolif.GZMB.2',\n",
       "       'CD4.TEFF.prolif.MKI67lo', 'CD8.TEFF.prolif.1', 'CD8.TEFF.prolif.2',\n",
       "       'CD8.TEFF.prolif.3', 'CD8.TEFF.prolif.4', 'CD8.TEFF.prolif.5',\n",
       "       'DN.CCL5.cytox_hi.prolif', 'DN.CCL5.cytox_lo.prolif.1',\n",
       "       'DN.CCL5.cytox_lo.prolif.2', 'DP.CCL5.cytox_lo.prolif.1',\n",
       "       'DP.CCL5.cytox_lo.prolif.2', 'DP.CCL5.cytox_lo.prolif.3',\n",
       "       'DP.CCL5.cytox_lo.prolif.4', 'DP.CCL5.cytox_lo.prolif.5',\n",
       "       'GDT.VD1.CCL5.cytox_hi.prolif.1', 'GDT.VD1.CCL5.cytox_hi.prolif.2',\n",
       "       'GDT.VD1.CCL5.cytox_hi.prolif.3', 'GDT.VD1.CCL5.cytox_hi.prolif.4',\n",
       "       'GDT.VD1.VG9.CCL5.cytox_hi.prolif.1',\n",
       "       'GDT.VD1.VG9.CCL5.cytox_hi.prolif.2',\n",
       "       'GDT.VD1.VG9.CCL5.cytox_hi.prolif.3',\n",
       "       'GDT.VD1.VG9.CCL5.cytox_hi.prolif.4',\n",
       "       'GDT.VD1.VG9.CCL5.cytox_hi.prolif.5',\n",
       "       'GDT.VD2.VG9.CCL5.cytox_hi.prolif.1',\n",
       "       'GDT.VD2.VG9.CCL5.cytox_hi.prolif.2',\n",
       "       'GDT.VD2.VG9.CCL5.cytox_hi.prolif.3',\n",
       "       'GDT.VD2.VG9.CCL5.cytox_hi.prolif.4', 'MAIT.CD8.CCL5.cytox_lo.prolif.1',\n",
       "       'MAIT.CD8.CCL5.cytox_lo.prolif.2', 'MAIT.CD8.CCL5.cytox_lo.prolif.3'],\n",
       "      dtype='object', name='Annotation_cluster_name')"
      ]
     },
     "execution_count": 24,
     "metadata": {},
     "output_type": "execute_result"
    }
   ],
   "source": [
    "ct.columns[ct.columns.str.contains('prolif')]"
   ]
  },
  {
   "cell_type": "code",
   "execution_count": 25,
   "id": "3e496f26-f2a1-45b1-9497-0b5db407365b",
   "metadata": {},
   "outputs": [],
   "source": [
    "dataset = 'COMBAT'\n",
    "cluster_labels_combat = meta[meta['dataset']==dataset]['cluster'].copy()\n",
    "cluster_labels_combat[-cluster_labels_combat.str.contains('prolif', na=False)] = 'Other'\n",
    "cluster_labels_combat.name = None"
   ]
  },
  {
   "cell_type": "code",
   "execution_count": 26,
   "id": "59e6f88b-c54e-404c-b9c9-de6fb62d5d2b",
   "metadata": {},
   "outputs": [
    {
     "data": {
      "text/plain": [
       "Other              389945\n",
       "CD8.TEFF.prolif      4893\n",
       "CD4.TEFF.prolif      4761\n",
       "dtype: int64"
      ]
     },
     "execution_count": 26,
     "metadata": {},
     "output_type": "execute_result"
    }
   ],
   "source": [
    "cluster_labels_combat.value_counts()"
   ]
  },
  {
   "cell_type": "code",
   "execution_count": 27,
   "id": "8f623fcc-c40c-4772-accd-47c57cdf496d",
   "metadata": {},
   "outputs": [],
   "source": [
    "cluster_labels_combat_order = ['CD8.TEFF.prolif', 'CD4.TEFF.prolif', 'Other']\n",
    "cmap_clusters_combat = dict(zip(cluster_labels_combat_order, range(0, len(cluster_labels_combat))))\n",
    "\n",
    "# rowcolor_cmap_combat = cm.get_cmap('tab20', len(cluster_labels_combat_order))\n",
    "rowcolor_cmap_combat = LinearSegmentedColormap.from_list('', [cm.get_cmap('tab20b')(1),\n",
    "                                                             cm.get_cmap('tab20b')(3),\n",
    "                                                             cm.get_cmap('tab20_r')(5)], N = 3)\n",
    "cmap_clusters_legend_combat = {clus: rowcolor_cmap_combat(n) for clus, n in cmap_clusters_combat.items()}"
   ]
  },
  {
   "cell_type": "code",
   "execution_count": 28,
   "id": "64b4643a-2919-46ed-8759-9d35ab8f0742",
   "metadata": {},
   "outputs": [
    {
     "data": {
      "image/png": "[encoded data removed]",
      "text/html": [
       "<div style=\"vertical-align: middle;\"><strong>tab20c</strong> </div><div class=\"cmap\"><img alt=\"tab20c colormap\" title=\"tab20c\" style=\"border: 1px solid #555;\" src=\"data:image/png;base64,iVBORw0KGgoAAAANSUhEUgAAAgAAAABACAYAAABsv8+/AAAAFXRFWHRUaXRsZQB0YWIyMGMgY29sb3JtYXDalCwrAAAAG3RFWHREZXNjcmlwdGlvbgB0YWIyMGMgY29sb3JtYXCTAzTPAAAAMHRFWHRBdXRob3IATWF0cGxvdGxpYiB2My41LjEsIGh0dHBzOi8vbWF0cGxvdGxpYi5vcmf3t87PAAAAMnRFWHRTb2Z0d2FyZQBNYXRwbG90bGliIHYzLjUuMSwgaHR0cHM6Ly9tYXRwbG90bGliLm9yZ9kRUegAAAGvSURBVHic7dZPKsRxAMbhl63yp2hSY2LEUCSNIluXkqXdXMbC3imcxAk4xfeXep/nAp/tZ+v+/es3E3i+OZ4ik/V8Z3jj6mB3eCNJTt8Wwxuzp7vhjSTJ2QSd5eP4RpKH78/hjZez5fBGktweXUzSudwf3/l4/xneSJLru9nwxuL8cHgjSRYne8Mbm83r8EaSrNfr4Y3VajW8kSTz+XySzvYkFQDgXzEAAFDIAABAIQMAAIUMAAAUMgAAUMgAAEAhAwAAhQwAABQyAABQyAAAQCEDAACFDAAAFDIAAFDIAABAIQMAAIUMAAAUMgAAUMgAAEAhAwAAhQwAABQyAABQyAAAQCEDAACFDAAAFDIAAFDIAABAIQMAAIUMAAAUMgAAUMgAAEAhAwAAhQwAABQyAABQyAAAQCEDAACFDAAAFDIAAFDIAABAIQMAAIUMAAAUMgAAUMgAAEAhAwAAhQwAABQyAABQyAAAQCEDAACFDAAAFDIAAFDIAABAIQMAAIUMAAAUMgAAUMgAAEAhAwAAhQwAABQyAABQyAAAQCEDAACFDAAAFDIAAFDIAABAoT9NBg8KY1pBeQAAAABJRU5ErkJggg==\"></div><div style=\"vertical-align: middle; max-width: 514px; display: flex; justify-content: space-between;\"><div style=\"float: left;\"><div title=\"#3182bdff\" style=\"display: inline-block; width: 1em; height: 1em; margin: 0; vertical-align: middle; border: 1px solid #555; background-color: #3182bdff;\"></div> under</div><div style=\"margin: 0 auto; display: inline-block;\">bad <div title=\"#00000000\" style=\"display: inline-block; width: 1em; height: 1em; margin: 0; vertical-align: middle; border: 1px solid #555; background-color: #00000000;\"></div></div><div style=\"float: right;\">over <div title=\"#d9d9d9ff\" style=\"display: inline-block; width: 1em; height: 1em; margin: 0; vertical-align: middle; border: 1px solid #555; background-color: #d9d9d9ff;\"></div></div>"
      ],
      "text/plain": [
       "<matplotlib.colors.ListedColormap at 0x7fbfa40531d0>"
      ]
     },
     "execution_count": 28,
     "metadata": {},
     "output_type": "execute_result"
    }
   ],
   "source": [
    "cm.get_cmap('tab20c')"
   ]
  },
  {
   "cell_type": "code",
   "execution_count": 29,
   "id": "514c88b0-75a1-47a0-9bbe-1c7b097645bb",
   "metadata": {},
   "outputs": [
    {
     "data": {
      "text/plain": [
       "(0.2235294117647059, 0.23137254901960785, 0.4745098039215686, 1.0)"
      ]
     },
     "execution_count": 29,
     "metadata": {},
     "output_type": "execute_result"
    }
   ],
   "source": [
    "cm.get_cmap('tab20b')(0)"
   ]
  },
  {
   "cell_type": "code",
   "execution_count": 30,
   "id": "d95b1e0f-71c8-4e35-991b-fa258a51ff5b",
   "metadata": {},
   "outputs": [
    {
     "data": {
      "text/plain": [
       "(0.611764705882353, 0.6196078431372549, 0.8705882352941177, 1.0)"
      ]
     },
     "execution_count": 30,
     "metadata": {},
     "output_type": "execute_result"
    }
   ],
   "source": [
    "cm.get_cmap('tab20b')(3)"
   ]
  },
  {
   "cell_type": "code",
   "execution_count": null,
   "id": "8be56326-7b8a-4b01-a780-c83aa192c512",
   "metadata": {},
   "outputs": [],
   "source": []
  },
  {
   "cell_type": "code",
   "execution_count": null,
   "id": "61d7ef12-433b-4d58-9707-7714ba7b6a79",
   "metadata": {},
   "outputs": [],
   "source": []
  },
  {
   "cell_type": "code",
   "execution_count": 31,
   "id": "29c0a71d-7a79-4b5c-a0a8-940e05f59c5b",
   "metadata": {},
   "outputs": [
    {
     "data": {
      "image/png": "[encoded data removed]",
      "text/html": [
       "<div style=\"vertical-align: middle;\"><strong>tab20</strong> </div><div class=\"cmap\"><img alt=\"tab20 colormap\" title=\"tab20\" style=\"border: 1px solid #555;\" src=\"data:image/png;base64,iVBORw0KGgoAAAANSUhEUgAAAgAAAABACAYAAABsv8+/AAAAFHRFWHRUaXRsZQB0YWIyMCBjb2xvcm1hcM5rFwoAAAAadEVYdERlc2NyaXB0aW9uAHRhYjIwIGNvbG9ybWFwMDS+7AAAADB0RVh0QXV0aG9yAE1hdHBsb3RsaWIgdjMuNS4xLCBodHRwczovL21hdHBsb3RsaWIub3Jn97fOzwAAADJ0RVh0U29mdHdhcmUATWF0cGxvdGxpYiB2My41LjEsIGh0dHBzOi8vbWF0cGxvdGxpYi5vcmfZEVHoAAABxklEQVR4nO3WMUrWARyH8a+eoEHCIXw3pcEgaGgQhQZ53WwOOoBJ4KJHsM2p1bGtzaEbiFMHaIyOoGud4vcn+H4+F3jWZ2N1dfc3C7g5fbNEJu9/7M5HDs7mG0n2/9yNN86PPo43kuRwfTveeHnxebyRJF9/7o03Xp9sjzeS5P7b5SKdt8cn443Vr1fjjSTZOno23vjy8H28kSTr9Xq88fj0YbyRJKudT+ONg9/vxhtJcv3i+SKdzUUqAMB/xQAAQCEDAACFDAAAFDIAAFDIAABAIQMAAIUMAAAUMgAAUMgAAEAhAwAAhQwAABQyAABQyAAAQCEDAACFDAAAFDIAAFDIAABAIQMAAIUMAAAUMgAAUMgAAEAhAwAAhQwAABQyAABQyAAAQCEDAACFDAAAFDIAAFDIAABAIQMAAIUMAAAUMgAAUMgAAEAhAwAAhQwAABQyAABQyAAAQCEDAACFDAAAFDIAAFDIAABAIQMAAIUMAAAUMgAAUMgAAEAhAwAAhQwAABQyAABQyAAAQCEDAACFDAAAFDIAAFDIAABAIQMAAIUMAAAUMgAAUMgAAEAhAwAAhQwAABQyAABQyAAAQCEDAACF/gH40hjcC1ZyLQAAAABJRU5ErkJggg==\"></div><div style=\"vertical-align: middle; max-width: 514px; display: flex; justify-content: space-between;\"><div style=\"float: left;\"><div title=\"#1f77b4ff\" style=\"display: inline-block; width: 1em; height: 1em; margin: 0; vertical-align: middle; border: 1px solid #555; background-color: #1f77b4ff;\"></div> under</div><div style=\"margin: 0 auto; display: inline-block;\">bad <div title=\"#00000000\" style=\"display: inline-block; width: 1em; height: 1em; margin: 0; vertical-align: middle; border: 1px solid #555; background-color: #00000000;\"></div></div><div style=\"float: right;\">over <div title=\"#9edae5ff\" style=\"display: inline-block; width: 1em; height: 1em; margin: 0; vertical-align: middle; border: 1px solid #555; background-color: #9edae5ff;\"></div></div>"
      ],
      "text/plain": [
       "<matplotlib.colors.ListedColormap at 0x7fbfa4053150>"
      ]
     },
     "execution_count": 31,
     "metadata": {},
     "output_type": "execute_result"
    }
   ],
   "source": [
    "cm.get_cmap('tab20')"
   ]
  },
  {
   "cell_type": "code",
   "execution_count": 32,
   "id": "d4c7282c-ec25-4b0a-a3a3-661c92d7d847",
   "metadata": {},
   "outputs": [],
   "source": [
    "threshold = 0.1\n",
    "# usage_thresholded = usage_norm[cc_geps].sum(axis = 1) > threshold\n",
    "\n",
    "ind = usage_norm.loc[meta[meta['dataset']==dataset].index, cc_geps].sum(axis = 1) > threshold\n",
    "label = ind.replace({False:'Cell Cycle\\n<= 0.1'})\n",
    "label.loc[ind] = 'Cell Cycle\\n> 0.1'#adata.obs.loc[ind, 'celltype.l2']"
   ]
  },
  {
   "cell_type": "code",
   "execution_count": 33,
   "id": "9c2f6eba-07f7-4e22-87c8-b690e6005d75",
   "metadata": {},
   "outputs": [
    {
     "name": "stdout",
     "output_type": "stream",
     "text": [
      "(399599, 49)\n",
      "(399599, 49)\n"
     ]
    }
   ],
   "source": [
    "usage_cc = (usage_norm.loc[meta[meta['dataset']==dataset].index, :]).copy() #usage.copy()\n",
    "\n",
    "usage_excl_cc = usage_cc.loc[:, [x for x in usage_cc.columns if x not in cc_geps]]\n",
    "usage_excl_cc = usage_excl_cc.div(usage_excl_cc.sum(axis=1), axis=0)\n",
    "print(usage_excl_cc.shape)\n",
    "usage_excl_cc = usage_excl_cc.dropna() # Excldue cells with 0 usage of GEPs other than cc_geps\n",
    "print(usage_excl_cc.shape)\n",
    "usage_cc = usage_cc.loc[usage_excl_cc.index, :]\n"
   ]
  },
  {
   "cell_type": "code",
   "execution_count": 47,
   "id": "9736b94b-7919-47e0-b091-54ae8d0942bc",
   "metadata": {},
   "outputs": [
    {
     "data": {
      "text/plain": [
       "['Doublet-RBC',\n",
       " 'Doublet-Platelet',\n",
       " 'Doublet-Plasmablast',\n",
       " 'Doublet-Bcell',\n",
       " 'Doublet-Myeloid',\n",
       " 'Doublet-Fibroblast']"
      ]
     },
     "execution_count": 47,
     "metadata": {},
     "output_type": "execute_result"
    }
   ],
   "source": [
    "['Doublet-RBC',\n",
    " 'Doublet-Platelet',\n",
    " 'Doublet-Plasmablast',\n",
    " 'Doublet-Bcell',\n",
    " 'Doublet-Myeloid',\n",
    " 'Doublet-Fibroblast']"
   ]
  },
  {
   "cell_type": "code",
   "execution_count": 64,
   "id": "909f5652-21cc-481a-8706-80a9c4164f9e",
   "metadata": {},
   "outputs": [],
   "source": [
    "identity_max = usage_excl_cc.loc[:, lineage_geps + ['Doublet-Myeloid']].replace(0, np.nan).idxmax(axis = 1)\n",
    "usage_to_show = pd.concat([usage_cc[cc_geps], usage_excl_cc], axis=1)\n",
    "cluster_order = ['Cell Cycle\\n> 0.1', 'Cell Cycle\\n<= 0.1']\n",
    "nclusters = len(cluster_order)\n",
    "vmax = usage_to_show.unstack().quantile(.99)"
   ]
  },
  {
   "cell_type": "code",
   "execution_count": 65,
   "id": "63a50f4d-464c-4ef6-90d7-149d694c850b",
   "metadata": {
    "tags": []
   },
   "outputs": [],
   "source": [
    "# # Max lineage after column-normalizing usages_norm\n",
    "# usage_col_norm = (usage_norm.loc[meta[meta['dataset']==dataset].index, :]).copy()\n",
    "# usage_col_norm = usage_col_norm.div(usage_col_norm.sum(axis = 0), axis = 1)*100\n",
    "# identity_max = usage_col_norm.loc[usage_excl_cc.index, lineage_geps].replace(0, np.nan).idxmax(axis = 1)"
   ]
  },
  {
   "cell_type": "code",
   "execution_count": 66,
   "id": "8f8401f4-da6f-48be-a0eb-a158ddc874ad",
   "metadata": {
    "tags": []
   },
   "outputs": [
    {
     "data": {
      "text/plain": [
       "CD4-Naive          148113\n",
       "CD8-EM              46393\n",
       "CD8-Naive           33120\n",
       "Th2-Resting         22653\n",
       "Th17-Resting        21886\n",
       "Th1-Like            21246\n",
       "Treg                18115\n",
       "TEMRA               17260\n",
       "Th22                14545\n",
       "CD4-CM              13085\n",
       "gdT                 10464\n",
       "Doublet-Myeloid     10250\n",
       "MAIT                 8643\n",
       "CD8-Trm              6449\n",
       "Tfh-2                2898\n",
       "Tfh-1                2518\n",
       "Tph                  1961\n",
       "dtype: int64"
      ]
     },
     "execution_count": 66,
     "metadata": {},
     "output_type": "execute_result"
    }
   ],
   "source": [
    "identity_max.value_counts()"
   ]
  },
  {
   "cell_type": "code",
   "execution_count": 74,
   "id": "3e47e208-53c8-4bc7-adc0-ea6f30861630",
   "metadata": {
    "tags": []
   },
   "outputs": [],
   "source": [
    "ds_res_fc = ds_res[ds_res['dataset']==dataset].sort_values('logRatio', ascending = False)\n",
    "ds_res_fc.index = ds_res_fc['GEP']\n",
    "\n",
    "# Order identity GEPs based on association with Cell Cycle\n",
    "identitygeporder = list(ds_res_fc[ds_res_fc.index.isin(lineage_geps  + ['Doublet-Myeloid'] )].index)\n",
    "cc_assoc_gep_order = list(ds_res_fc[ds_res_fc.index.isin(set(cc_assoc_geps).difference(lineage_geps))\n",
    "                                   ].index)\n",
    "fullgeporder = cc_geps + identitygeporder + cc_assoc_gep_order[:-2]"
   ]
  },
  {
   "cell_type": "code",
   "execution_count": 75,
   "id": "11580cb1-e2e9-4b52-90f9-8b2f60ded929",
   "metadata": {},
   "outputs": [
    {
     "data": {
      "text/plain": [
       "['NME1/FABP5',\n",
       " 'TIMD4/TIM3',\n",
       " 'CTLA4/CD38',\n",
       " 'ICOS/CD38',\n",
       " 'Exhaustion',\n",
       " 'Th17-Activated',\n",
       " 'HLA',\n",
       " 'Cytoskeleton',\n",
       " 'OX40/EBI3',\n",
       " 'IL10/IL19',\n",
       " 'Metallothionein']"
      ]
     },
     "execution_count": 75,
     "metadata": {},
     "output_type": "execute_result"
    }
   ],
   "source": [
    "cc_assoc_gep_order"
   ]
  },
  {
   "cell_type": "code",
   "execution_count": 76,
   "id": "bface06c-0d46-4850-a6ad-3478326700b6",
   "metadata": {},
   "outputs": [
    {
     "data": {
      "text/plain": [
       "['CellCycle-G2M',\n",
       " 'CellCycle-S',\n",
       " 'CellCycle-Late-S',\n",
       " 'Tph',\n",
       " 'Tfh-1',\n",
       " 'Tfh-2',\n",
       " 'TEMRA',\n",
       " 'CD8-Trm',\n",
       " 'Treg',\n",
       " 'Th22',\n",
       " 'CD4-CM',\n",
       " 'gdT',\n",
       " 'CD8-EM',\n",
       " 'MAIT',\n",
       " 'Doublet-Myeloid',\n",
       " 'Th1-Like',\n",
       " 'Th2-Resting',\n",
       " 'Th17-Resting',\n",
       " 'CD8-Naive',\n",
       " 'CD4-Naive',\n",
       " 'NME1/FABP5',\n",
       " 'TIMD4/TIM3',\n",
       " 'CTLA4/CD38',\n",
       " 'ICOS/CD38',\n",
       " 'Exhaustion',\n",
       " 'Th17-Activated',\n",
       " 'HLA',\n",
       " 'Cytoskeleton',\n",
       " 'OX40/EBI3']"
      ]
     },
     "execution_count": 76,
     "metadata": {},
     "output_type": "execute_result"
    }
   ],
   "source": [
    "fullgeporder"
   ]
  },
  {
   "cell_type": "code",
   "execution_count": 77,
   "id": "9c2a263e-9a9f-45f2-947a-545d2688c11b",
   "metadata": {},
   "outputs": [
    {
     "data": {
      "text/plain": [
       "['Tph',\n",
       " 'Tfh-1',\n",
       " 'Tfh-2',\n",
       " 'TEMRA',\n",
       " 'CD8-Trm',\n",
       " 'Treg',\n",
       " 'Th22',\n",
       " 'CD4-CM',\n",
       " 'gdT',\n",
       " 'CD8-EM',\n",
       " 'MAIT',\n",
       " 'Doublet-Myeloid',\n",
       " 'Th1-Like',\n",
       " 'Th2-Resting',\n",
       " 'Th17-Resting',\n",
       " 'CD8-Naive',\n",
       " 'CD4-Naive']"
      ]
     },
     "execution_count": 77,
     "metadata": {},
     "output_type": "execute_result"
    }
   ],
   "source": [
    "identitygeporder"
   ]
  },
  {
   "cell_type": "code",
   "execution_count": 78,
   "id": "8e237aa0-6fe0-447a-b55a-cb55ac40a1a4",
   "metadata": {},
   "outputs": [],
   "source": [
    "legend_fontsize = 7"
   ]
  },
  {
   "cell_type": "code",
   "execution_count": 80,
   "id": "e85adecb-c151-4220-b2ed-e708a93b9e24",
   "metadata": {
    "tags": []
   },
   "outputs": [
    {
     "data": {
      "image/png": "[encoded data removed]",
      "text/plain": [
       "<Figure size 800x400 with 4 Axes>"
      ]
     },
     "metadata": {
      "needs_background": "light"
     },
     "output_type": "display_data"
    }
   ],
   "source": [
    "hspace = 0.01\n",
    "nrows = 2\n",
    "ncols = 2\n",
    "vmin = 0\n",
    "\n",
    "\n",
    "fig = plt.figure(constrained_layout=False, dpi= 200, figsize=(4,2)) \n",
    "axes = []\n",
    "gs = fig.add_gridspec(nrows, ncols, \n",
    "                      wspace=0.02, hspace=0, \n",
    "                      width_ratios = [1, len(fullgeporder)],\n",
    "                     height_ratios = [4, 5])\n",
    "\n",
    "for i in range(nrows):\n",
    "    rowax = []\n",
    "    for j in range(ncols):\n",
    "        if i != (nrows-1):\n",
    "            rowax.append(fig.add_subplot(gs[i, j]))\n",
    "        else:\n",
    "            rowax.append(fig.add_subplot(gs[i, j]))\n",
    "    axes.append(rowax)\n",
    "axes = np.array(axes)\n",
    "\n",
    "\n",
    "for i,c in enumerate(cluster_order):\n",
    "    # i += 1\n",
    "    usage_cluster = usage_to_show.loc[label==c, fullgeporder]\n",
    "    identity_max_cluster = identity_max.loc[usage_cluster.index]\n",
    "    \n",
    "    cellorder = []\n",
    "    for g in identitygeporder:\n",
    "        cellorder += list(identity_max_cluster.loc[identity_max_cluster==g].sort_values(ascending=False).index)\n",
    "    cellorder += list(identity_max_cluster[identity_max_cluster.isna()].index)\n",
    "\n",
    "    usage_cluster = usage_cluster.loc[cellorder, :]\n",
    "    \n",
    "    # Plot colorbar corresponding to clustering\n",
    "    cluster_label = cluster_labels_combat[cellorder] \n",
    "    sns.heatmap(pd.DataFrame(cluster_label.map(cmap_clusters_combat), \n",
    "                             columns = ['Cluster']), ax=axes[i, 0], \n",
    "                vmin=0, vmax=2, \n",
    "                yticklabels=False, xticklabels=(i==nrows-1), cbar = False, \n",
    "                cmap = rowcolor_cmap_combat, rasterized=True)\n",
    "    axes[i, 0].tick_params(axis = 'x', labelrotation = 90, labelsize = tick_fontsize)\n",
    "    \n",
    "    if i != (nrows-1):\n",
    "        sns.heatmap(usage_cluster, ax=axes[i, 1], vmin=vmin, vmax=vmax, yticklabels=False, xticklabels=False,\n",
    "                   cbar = False, cmap = \"Reds\", rasterized=True)\n",
    "    else:\n",
    "        sns.heatmap(usage_cluster, ax=axes[i, 1], vmin=vmin, vmax=vmax, yticklabels=False, \n",
    "                    xticklabels=pd.Index(usage_cluster.columns), \n",
    "                   cbar = False, cmap = \"Reds\", rasterized=True)\n",
    "        axes[i, 1].tick_params(axis = 'x', labelsize = tick_fontsize)\n",
    "    \n",
    "    axes[i, 1].vlines(ymin = 0, ymax = usage_cluster.shape[0], x = len(cc_geps),\n",
    "                  linestyles = '-', colors = 'black', linewidth = 1)\n",
    "    axes[i, 1].vlines(ymin = 0, ymax = usage_cluster.shape[0], x = len(cc_geps)+len(lineage_geps)+1,\n",
    "                  linestyles = '-', colors = 'black', linewidth = 1)\n",
    "    axes[i, 0].set_ylabel(c + '\\n%s cells' % f\"{len(cellorder):,}\", fontsize = label_fontsize-2)\n",
    "    \n",
    "    if i==nrows-1:\n",
    "        axes[i, 0].hlines(xmin = 0, xmax = usage_cluster.shape[1], y = 0,\n",
    "                      linestyles = '-', colors = 'black', linewidth = 2)\n",
    "        axes[i, 1].hlines(xmin = 0, xmax = usage_cluster.shape[1], y = 0,\n",
    "                      linestyles = '-', colors = 'black', linewidth = 2)\n",
    "\n",
    "cax = axes[1, 1].inset_axes([1.03, -.2, .06, 0.1], transform=axes[0, 1].transAxes)\n",
    "fig.colorbar(ScalarMappable(norm=Normalize(vmin=vmin, vmax=vmax), \n",
    "                            cmap=sns.color_palette(\"Reds\", as_cmap=True)),\n",
    "             ax=axes[1, 1], cax=cax, orientation='horizontal')\n",
    "cax.set_xticks([vmin, vmax])\n",
    "cax.set_xticklabels(['%.1f' % vmin , #'%.2f' % vmin, \n",
    "                     '%.1f' % vmax])\n",
    "cax.set_title('Usage', fontsize = legend_fontsize-1)\n",
    "cax.tick_params(labelsize=legend_fontsize-1)\n",
    "\n",
    "\n",
    "handles_clusters = [Patch(facecolor = col) for (clus, col) in cmap_clusters_legend_combat.items()]\n",
    "plt.legend(handles_clusters, cmap_clusters_legend_combat, title='Cluster',\n",
    "           bbox_to_anchor=(.645, .6, 0.5, 0.15), bbox_transform=plt.gcf().transFigure, \n",
    "           loc='lower right', fontsize = legend_fontsize-1, title_fontsize = legend_fontsize)\n",
    "\n",
    "axes[0, 1].set_title('cGEP Usages of Proliferating and Non-Proliferating Cells', x = .465,\n",
    "                     y=1.15, fontsize = label_fontsize-1)\n",
    "\n",
    "plt.savefig(os.path.join(figdir, 'ProliferationLineageHeatmap_COMBAT.png'), bbox_inches=\"tight\")\n",
    "plt.savefig(os.path.join(figdir, 'ProliferationLineageHeatmap_COMBAT.pdf'), bbox_inches=\"tight\")"
   ]
  },
  {
   "cell_type": "code",
   "execution_count": 171,
   "id": "04a6f1b7-c0eb-4b72-ae0a-47fac5a5427d",
   "metadata": {},
   "outputs": [
    {
     "data": {
      "text/plain": [
       "{'CD8.TEFF.prolif': (0.3215686274509804,\n",
       "  0.32941176470588235,\n",
       "  0.6392156862745098,\n",
       "  1.0),\n",
       " 'CD4.TEFF.prolif': (0.611764705882353,\n",
       "  0.6196078431372549,\n",
       "  0.8705882352941177,\n",
       "  1.0),\n",
       " 'Other': (0.4980392156862745, 0.4980392156862745, 0.4980392156862745, 1.0)}"
      ]
     },
     "execution_count": 171,
     "metadata": {},
     "output_type": "execute_result"
    }
   ],
   "source": [
    "cmap_clusters_legend_combat"
   ]
  },
  {
   "cell_type": "code",
   "execution_count": null,
   "id": "b155e791-7684-466c-9b8f-696f9a2e145d",
   "metadata": {},
   "outputs": [],
   "source": []
  },
  {
   "cell_type": "markdown",
   "id": "6de5cc2d-1e6e-4393-ac51-195e1ea979e7",
   "metadata": {},
   "source": [
    "# Proliferative lineages by disease status"
   ]
  },
  {
   "cell_type": "code",
   "execution_count": 19,
   "id": "21315fe4-5d31-4a87-8164-8ad654135643",
   "metadata": {},
   "outputs": [],
   "source": [
    "results = {}"
   ]
  },
  {
   "cell_type": "code",
   "execution_count": 20,
   "id": "36d7ac09-6e57-4cd5-b946-e551ec2b4748",
   "metadata": {},
   "outputs": [],
   "source": [
    "cc_geps = ['CellCycle-G2M', 'CellCycle-S', 'CellCycle-Late-S']\n",
    "lineage_geps = list(gep_info[gep_info['Class']=='Lineage']['Short_Name'].values)\n",
    "threshold = 0.1"
   ]
  },
  {
   "cell_type": "code",
   "execution_count": 21,
   "id": "5cf85b59-58c6-448a-84c0-38d885a1848e",
   "metadata": {
    "tags": []
   },
   "outputs": [
    {
     "data": {
      "text/plain": [
       "\"\\nct_all = pd.crosstab(identity_max, prolif)\\nct_all = ct_all.div(ct_all.sum(axis=1), axis=0)[True]\\n\\nind = meta_test[pheno_col] == 'Covid'\\nct_covid = pd.crosstab(identity_max.loc[ind], prolif.loc[ind])\\nct_covid = ct_covid.div(ct_covid.sum(axis=1), axis=0)[True]\\n\\nind = meta_test[pheno_col] == 'Healthy_All'\\nct_healthy = pd.crosstab(identity_max.loc[ind], prolif.loc[ind])\\nct_healthy = ct_healthy.div(ct_healthy.sum(axis=1), axis=0)[True]\\n\\npct_prolif = pd.concat([ct_all, ct_covid, ct_healthy], axis=1)*100\\npct_prolif.columns = ['All', 'Covid-19', 'Healthy']\\n\\nlineage_order = pct_prolif.sort_values(by='Covid-19', ascending=False).index\\npct_prolif = pct_prolif.loc[lineage_order, :]\\nresults[dataset] = pct_prolif\\n\""
      ]
     },
     "execution_count": 21,
     "metadata": {},
     "output_type": "execute_result"
    }
   ],
   "source": [
    "dataset = 'COMBAT'\n",
    "pheno_col = 'Covid_or_Healthy'\n",
    "\n",
    "meta_test = pd.read_csv(params.loc[dataset, 'metadata_fn'].replace('metadata', 'metadata_PhenotypeAssociations'),\n",
    "                  index_col = 0, sep = '\\t')\n",
    "\n",
    "\n",
    "# Max lineage after column-normalizing usages_norm\n",
    "usage_dat = pd.read_csv(params.loc[dataset, 'tcat_fn'], index_col = 0, sep = '\\t').loc[meta_test.index, :].rename(columns=rename_map)\n",
    "usage_col_norm = usage_dat.div(usage_dat.sum(axis = 1), axis = 0)\n",
    "identity_max = usage_col_norm.loc[:, lineage_geps].replace(0, np.nan).idxmax(axis = 1)\n",
    "prolif = usage_col_norm[cc_geps].sum(axis = 1) > threshold\n",
    "summary_data = pd.concat([identity_max, prolif.astype(int), meta_test[pheno_col]], axis=1)\n",
    "summary_data.columns = ['Lineage', 'Proliferating', 'Phenotype']\n",
    "summary_data['Phenotype'] = summary_data['Phenotype'].replace({'Covid':'Covid-19', 'Healthy_All':'Healthy'})\n",
    "results[dataset] = summary_data\n",
    "\n",
    "'''\n",
    "ct_all = pd.crosstab(identity_max, prolif)\n",
    "ct_all = ct_all.div(ct_all.sum(axis=1), axis=0)[True]\n",
    "\n",
    "ind = meta_test[pheno_col] == 'Covid'\n",
    "ct_covid = pd.crosstab(identity_max.loc[ind], prolif.loc[ind])\n",
    "ct_covid = ct_covid.div(ct_covid.sum(axis=1), axis=0)[True]\n",
    "\n",
    "ind = meta_test[pheno_col] == 'Healthy_All'\n",
    "ct_healthy = pd.crosstab(identity_max.loc[ind], prolif.loc[ind])\n",
    "ct_healthy = ct_healthy.div(ct_healthy.sum(axis=1), axis=0)[True]\n",
    "\n",
    "pct_prolif = pd.concat([ct_all, ct_covid, ct_healthy], axis=1)*100\n",
    "pct_prolif.columns = ['All', 'Covid-19', 'Healthy']\n",
    "\n",
    "lineage_order = pct_prolif.sort_values(by='Covid-19', ascending=False).index\n",
    "pct_prolif = pct_prolif.loc[lineage_order, :]\n",
    "results[dataset] = pct_prolif\n",
    "'''"
   ]
  },
  {
   "cell_type": "code",
   "execution_count": 22,
   "id": "e454f475-8441-464b-8513-c3f9339829f9",
   "metadata": {
    "tags": []
   },
   "outputs": [],
   "source": [
    "ct_all = pd.crosstab(identity_max, prolif)\n",
    "ct_all = ct_all.div(ct_all.sum(axis=1), axis=0)[True]\n",
    "\n",
    "ind = meta_test[pheno_col] == 'Covid'\n",
    "ct_covid = pd.crosstab(identity_max.loc[ind], prolif.loc[ind])\n",
    "ct_covid = ct_covid.div(ct_covid.sum(axis=1), axis=0)[True]\n",
    "lineage_order = ct_covid.sort_values(ascending=False).index"
   ]
  },
  {
   "cell_type": "code",
   "execution_count": 181,
   "id": "bc1fe5b6-cb53-4d04-a96c-f3af4178e26a",
   "metadata": {},
   "outputs": [
    {
     "data": {
      "text/plain": [
       "Index(['Tph', 'CD8-Trm', 'Tfh-2', 'Tfh-1', 'TEMRA', 'CD4-CM', 'Th22', 'CD8-EM',\n",
       "       'gdT', 'Treg', 'CD8-Naive', 'MAIT', 'Th1-Like', 'Th17-Resting',\n",
       "       'Th2-Resting', 'CD4-Naive'],\n",
       "      dtype='object', name='row_0')"
      ]
     },
     "execution_count": 181,
     "metadata": {},
     "output_type": "execute_result"
    }
   ],
   "source": [
    "lineage_order"
   ]
  },
  {
   "cell_type": "code",
   "execution_count": 23,
   "id": "a6751ed3-691b-4f80-9959-d683252e1a84",
   "metadata": {},
   "outputs": [
    {
     "data": {
      "text/plain": [
       "\"\\nct_all = pd.crosstab(identity_max, prolif)\\nct_all = ct_all.div(ct_all.sum(axis=1), axis=0)[True]\\n\\nind = meta_test[pheno_col] == 'Covid'\\nct_covid = pd.crosstab(identity_max.loc[ind], prolif.loc[ind])\\nct_covid = ct_covid.div(ct_covid.sum(axis=1), axis=0)[True]\\n\\nind = meta_test[pheno_col] == 'Healthy_All'\\nct_healthy = pd.crosstab(identity_max.loc[ind], prolif.loc[ind])\\nct_healthy = ct_healthy.div(ct_healthy.sum(axis=1), axis=0)[True]\\n\\npct_prolif = pd.concat([ct_all, ct_covid, ct_healthy], axis=1)*100\\npct_prolif.columns = ['All', 'Covid-19', 'Healthy']\\n\\npct_prolif = pct_prolif.loc[lineage_order, :]\\nresults[dataset] = pct_prolif\\n\""
      ]
     },
     "execution_count": 23,
     "metadata": {},
     "output_type": "execute_result"
    }
   ],
   "source": [
    "dataset = 'UK-Covid'\n",
    "pheno_col = 'Overall_Status'\n",
    "\n",
    "meta_test = pd.read_csv(params.loc[dataset, 'metadata_fn'].replace('metadata', 'metadata_PhenotypeAssociations'),\n",
    "                  index_col = 0, sep = '\\t')\n",
    "\n",
    "\n",
    "# Max lineage after column-normalizing usages_norm\n",
    "usage_dat = pd.read_csv(params.loc[dataset, 'tcat_fn'], index_col = 0, sep = '\\t').loc[meta_test.index, :].rename(columns=rename_map)\n",
    "usage_col_norm = usage_dat.div(usage_dat.sum(axis = 1), axis = 0)\n",
    "identity_max = usage_col_norm.loc[:, lineage_geps].replace(0, np.nan).idxmax(axis = 1)\n",
    "prolif = usage_col_norm[cc_geps].sum(axis = 1) > threshold\n",
    "summary_data = pd.concat([identity_max, prolif.astype(int), meta_test[pheno_col]], axis=1)\n",
    "summary_data.columns = ['Lineage', 'Proliferating', 'Phenotype']\n",
    "summary_data['Phenotype'] = summary_data['Phenotype'].replace({'Covid':'Covid-19'})\n",
    "summary_data['Phenotype'] = summary_data['Phenotype'].replace({'Covid':'Covid-19', 'Healthy_All':'Healthy'})\n",
    "\n",
    "results[dataset] = summary_data\n",
    "\n",
    "'''\n",
    "ct_all = pd.crosstab(identity_max, prolif)\n",
    "ct_all = ct_all.div(ct_all.sum(axis=1), axis=0)[True]\n",
    "\n",
    "ind = meta_test[pheno_col] == 'Covid'\n",
    "ct_covid = pd.crosstab(identity_max.loc[ind], prolif.loc[ind])\n",
    "ct_covid = ct_covid.div(ct_covid.sum(axis=1), axis=0)[True]\n",
    "\n",
    "ind = meta_test[pheno_col] == 'Healthy_All'\n",
    "ct_healthy = pd.crosstab(identity_max.loc[ind], prolif.loc[ind])\n",
    "ct_healthy = ct_healthy.div(ct_healthy.sum(axis=1), axis=0)[True]\n",
    "\n",
    "pct_prolif = pd.concat([ct_all, ct_covid, ct_healthy], axis=1)*100\n",
    "pct_prolif.columns = ['All', 'Covid-19', 'Healthy']\n",
    "\n",
    "pct_prolif = pct_prolif.loc[lineage_order, :]\n",
    "results[dataset] = pct_prolif\n",
    "'''"
   ]
  },
  {
   "cell_type": "code",
   "execution_count": 183,
   "id": "9d2a19fb-18ee-4a09-bc73-0a07632b0c47",
   "metadata": {
    "tags": []
   },
   "outputs": [
    {
     "data": {
      "text/plain": [
       "<matplotlib.legend.Legend at 0x7f0ae5e4a490>"
      ]
     },
     "execution_count": 183,
     "metadata": {},
     "output_type": "execute_result"
    },
    {
     "data": {
      "image/png": "[encoded data removed]",
      "text/plain": [
       "<Figure size 500x700 with 2 Axes>"
      ]
     },
     "metadata": {
      "needs_background": "light"
     },
     "output_type": "display_data"
    }
   ],
   "source": [
    "# (fig,axes) = plt.subplots(2, 1, figsize=(2.5,3.5), dpi=200)\n",
    "\n",
    "# cmap = {'Covid-19': sns.color_palette(\"tab10\")[6], 'Healthy':sns.color_palette(\"tab10\")[5]}\n",
    "# for i, dataset in enumerate(['COMBAT', 'UK-Covid']):\n",
    "#     ax = axes[i]\n",
    "#     pct_prolif = results[dataset]\n",
    "#     for j, pheno in enumerate(['Covid-19', 'Healthy']):\n",
    "#         sns.barplot(x='Lineage', y='Proliferating',\n",
    "#                     ax=ax, order=lineage_order,\n",
    "#                     palette=cmap, hue='Phenotype', errwidth=2,\n",
    "#                     data=results[dataset].loc[results[dataset]['Phenotype']==pheno, :])\n",
    "        \n",
    "#         #ax.bar(x = lineage_order, height = pct_prolif.loc[lineage_order, pheno], label=pheno, color=cmap[pheno])\n",
    "    \n",
    "    \n",
    "#     if i == 1:\n",
    "#         ax.set_yticks([0, .1])\n",
    "\n",
    "#         ax.set_xlabel('Lineage', fontsize=label_fontsize)\n",
    "#         ax.set_xticklabels(lineage_order, rotation=90, fontsize=tick_fontsize)\n",
    "#         ax.get_legend().remove()\n",
    "#     else:\n",
    "#         ax.set_xlabel('')\n",
    "#         ax.set_xticks([])\n",
    "    \n",
    "#     ax.set_ylabel('Frac. Proliferating', fontsize=label_fontsize)\n",
    "    \n",
    "#     ax.set_title(dataset, fontsize=label_fontsize)\n",
    "    \n",
    "# axes[0].legend(fontsize=8, loc=(.55, .7))\n",
    "\n",
    "# # plt.savefig(os.path.join(figdir, 'Barplot_PctProlifByLineage_Stacked_UKCovidANDcombat.png'), bbox_inches=\"tight\")\n",
    "# # plt.savefig(os.path.join(figdir, 'Barplot_PctProlifByLineage_Stacked_UKCovidANDcombat.pdf'), bbox_inches=\"tight\")"
   ]
  },
  {
   "cell_type": "code",
   "execution_count": 29,
   "id": "c318c99b-c831-475c-8540-c292b943446e",
   "metadata": {
    "tags": []
   },
   "outputs": [
    {
     "data": {
      "image/png": "[encoded data removed]",
      "text/plain": [
       "<Figure size 600x400 with 2 Axes>"
      ]
     },
     "metadata": {
      "needs_background": "light"
     },
     "output_type": "display_data"
    }
   ],
   "source": [
    "(fig,axes) = plt.subplots(2, 1, figsize=(3,2), dpi=200, gridspec_kw = {'hspace' : 0.07})\n",
    "\n",
    "cmap = {'Covid-19': sns.color_palette(\"tab10\")[6], 'Healthy':sns.color_palette(\"tab10\")[5]}\n",
    "for i, dataset in enumerate(['COMBAT', 'UK-Covid']):\n",
    "    ax = axes[i]\n",
    "    pct_prolif = results[dataset]\n",
    "    # for j, pheno in enumerate(['Covid-19', 'Healthy']):\n",
    "    sns.barplot(x='Lineage', y='Proliferating',\n",
    "                ax=ax, order=lineage_order,\n",
    "                palette=cmap, hue='Phenotype', errwidth=1,\n",
    "                data=results[dataset])\n",
    "        \n",
    "        #ax.bar(x = lineage_order, height = pct_prolif.loc[lineage_order, pheno], label=pheno, color=cmap[pheno])\n",
    "    \n",
    "    \n",
    "    if i == 1:\n",
    "        ax.set_yticks([0, .1])\n",
    "\n",
    "        ax.set_xlabel('Subset', fontsize=label_fontsize)\n",
    "        ax.set_xticklabels(lineage_order, rotation=90, fontsize=tick_fontsize)\n",
    "        ax.get_legend().remove()\n",
    "    else:\n",
    "        ax.set_xlabel('')\n",
    "        ax.set_xticks([])\n",
    "    \n",
    "    ax.set_ylabel('%s\\nFrac. Prolif.' % dataset, fontsize=label_fontsize)\n",
    "        \n",
    "axes[0].legend(fontsize=8, loc=(.62, .5))\n",
    "\n",
    "plt.savefig(os.path.join(figdir, 'Barplot_PctProlifByLineage_UKCovidANDcombat.png'), bbox_inches=\"tight\")\n",
    "plt.savefig(os.path.join(figdir, 'Barplot_PctProlifByLineage_UKCovidANDcombat.pdf'), bbox_inches=\"tight\")"
   ]
  },
  {
   "cell_type": "code",
   "execution_count": null,
   "id": "b15bf6aa-32aa-4929-b246-d267e3b69bb1",
   "metadata": {},
   "outputs": [],
   "source": []
  },
  {
   "cell_type": "code",
   "execution_count": null,
   "id": "d8e19e0e-610f-4d0a-bdd5-a0a90196af61",
   "metadata": {},
   "outputs": [],
   "source": []
  },
  {
   "cell_type": "code",
   "execution_count": null,
   "id": "73d1c4ec-f0c8-4629-b90a-c1fe67ddc7d6",
   "metadata": {},
   "outputs": [],
   "source": []
  },
  {
   "cell_type": "code",
   "execution_count": null,
   "id": "821f1aa6-4378-46f1-92ef-d1b51dd9d4f8",
   "metadata": {},
   "outputs": [],
   "source": []
  },
  {
   "cell_type": "code",
   "execution_count": null,
   "id": "1a139938-544e-4ea4-85bf-e5a9afb15b16",
   "metadata": {},
   "outputs": [],
   "source": []
  }
 ],
 "metadata": {
  "kernelspec": {
   "display_name": "Python 3 (ipykernel)",
   "language": "python",
   "name": "python3"
  },
  "language_info": {
   "codemirror_mode": {
    "name": "ipython",
    "version": 3
   },
   "file_extension": ".py",
   "mimetype": "text/x-python",
   "name": "python",
   "nbconvert_exporter": "python",
   "pygments_lexer": "ipython3",
   "version": "3.7.12"
  },
  "toc-autonumbering": true
 },
 "nbformat": 4,
 "nbformat_minor": 5
}
