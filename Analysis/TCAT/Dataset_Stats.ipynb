{
 "cells": [
  {
   "cell_type": "code",
   "execution_count": 1,
   "id": "f8b38761-41bc-40ec-986e-e606e0d6dd6d",
   "metadata": {},
   "outputs": [],
   "source": [
    "%matplotlib inline\n",
    "\n",
    "import pandas as pd\n",
    "import scanpy as sc\n",
    "import numpy as np\n",
    "import matplotlib.pyplot as plt\n",
    "from cnmf import cNMF\n",
    "\n",
    "import sys\n",
    "sys.path.append('../../Code/')\n",
    "from utils import read_dataset_log\n",
    "from adjustText import adjust_text\n",
    "import os"
   ]
  },
  {
   "cell_type": "code",
   "execution_count": 2,
   "id": "91523e83-8610-410f-83d8-f738c3c2aa56",
   "metadata": {},
   "outputs": [],
   "source": [
    "from matplotlib import rcParams, font_manager\n",
    "import matplotlib\n",
    "\n",
    "rcParams['pdf.fonttype'] = 42\n",
    "rcParams['ps.fonttype'] = 42\n",
    "rcParams['font.family'] = 'sans-serif'\n",
    "rcParams['font.sans-serif'] = ['Arial']\n",
    "\n",
    "label_fontsize = 10\n",
    "tick_fontsize = 8"
   ]
  },
  {
   "cell_type": "code",
   "execution_count": 3,
   "id": "4ee4fe02-2591-4ae8-a864-a1faa25eac7d",
   "metadata": {},
   "outputs": [],
   "source": [
    "figdir = '../../Figures/Components'"
   ]
  },
  {
   "cell_type": "code",
   "execution_count": 4,
   "id": "954e6513-ea9a-4722-866a-6c2571baf358",
   "metadata": {},
   "outputs": [
    {
     "data": {
      "text/html": [
       "<div>\n",
       "<style scoped>\n",
       "    .dataframe tbody tr th:only-of-type {\n",
       "        vertical-align: middle;\n",
       "    }\n",
       "\n",
       "    .dataframe tbody tr th {\n",
       "        vertical-align: top;\n",
       "    }\n",
       "\n",
       "    .dataframe thead th {\n",
       "        text-align: right;\n",
       "    }\n",
       "</style>\n",
       "<table border=\"1\" class=\"dataframe\">\n",
       "  <thead>\n",
       "    <tr style=\"text-align: right;\">\n",
       "      <th></th>\n",
       "      <th>dataset</th>\n",
       "      <th>usage_fn</th>\n",
       "      <th>gene_scores_fn</th>\n",
       "      <th>gene_tpm_fn</th>\n",
       "      <th>tcat_fn</th>\n",
       "      <th>tcat_fn_withsingletons</th>\n",
       "      <th>manual_gating_fn</th>\n",
       "      <th>manual_activation_gating_fn</th>\n",
       "      <th>activation_score_fn</th>\n",
       "      <th>metadata_fn</th>\n",
       "      <th>...</th>\n",
       "      <th>k</th>\n",
       "      <th>dt</th>\n",
       "      <th>processed_forcnmf_fn</th>\n",
       "      <th>tpm_counts_for_cnmf_fn</th>\n",
       "      <th>raw_counts_filt_fn</th>\n",
       "      <th>raw_counts_fn</th>\n",
       "      <th>dataset_type</th>\n",
       "      <th>tissue_type</th>\n",
       "      <th>context_label</th>\n",
       "      <th>tcat_fn_old</th>\n",
       "    </tr>\n",
       "    <tr>\n",
       "      <th>dataset</th>\n",
       "      <th></th>\n",
       "      <th></th>\n",
       "      <th></th>\n",
       "      <th></th>\n",
       "      <th></th>\n",
       "      <th></th>\n",
       "      <th></th>\n",
       "      <th></th>\n",
       "      <th></th>\n",
       "      <th></th>\n",
       "      <th></th>\n",
       "      <th></th>\n",
       "      <th></th>\n",
       "      <th></th>\n",
       "      <th></th>\n",
       "      <th></th>\n",
       "      <th></th>\n",
       "      <th></th>\n",
       "      <th></th>\n",
       "      <th></th>\n",
       "      <th></th>\n",
       "    </tr>\n",
       "  </thead>\n",
       "  <tbody>\n",
       "    <tr>\n",
       "      <th>AMP-RA</th>\n",
       "      <td>AMP-RA</td>\n",
       "      <td>/data/srlab1/TCAT/Data/PerDataset/AMPRA/AMPRA....</td>\n",
       "      <td>/data/srlab1/TCAT/Data/PerDataset/AMPRA/AMPRA....</td>\n",
       "      <td>/data/srlab1/TCAT/Data/PerDataset/AMPRA/AMPRA....</td>\n",
       "      <td>/data/srlab1/TCAT/Data/TCAT/TCAT_Usage.2023101...</td>\n",
       "      <td>/data/srlab1/TCAT/Data/TCAT/TCAT_Usage.2023101...</td>\n",
       "      <td>NaN</td>\n",
       "      <td>/data/srlab1/TCAT/Data/PerDataset/AMPRA/Manual...</td>\n",
       "      <td>/data/srlab1/TCAT/Data/PerDataset/AMPRA/Activa...</td>\n",
       "      <td>/data/srlab1/TCAT/Data/PerDataset/AMPRA/AMP_AD...</td>\n",
       "      <td>...</td>\n",
       "      <td>34.0</td>\n",
       "      <td>0_15</td>\n",
       "      <td>/data/srlab1/TCAT/Data/PerDataset/AMPRA/AMP_AD...</td>\n",
       "      <td>/data/srlab1/TCAT/Data/PerDataset/AMPRA/AMP_AD...</td>\n",
       "      <td>/data/srlab1/TCAT/Data/PerDataset/AMPRA/AMP_AD...</td>\n",
       "      <td>/data/srlab1/TCAT/Data/PerDataset/AMPRA/AMP_AD...</td>\n",
       "      <td>discovery</td>\n",
       "      <td>Synovium</td>\n",
       "      <td>RA+OA</td>\n",
       "      <td>/data/srlab1/TCAT/Data/TCAT/TCAT_Usage.2023101...</td>\n",
       "    </tr>\n",
       "    <tr>\n",
       "      <th>Pan-Cancer</th>\n",
       "      <td>Pan-Cancer</td>\n",
       "      <td>/data/srlab1/TCAT/Data/PerDataset/Pancancer/Pa...</td>\n",
       "      <td>/data/srlab1/TCAT/Data/PerDataset/Pancancer/Pa...</td>\n",
       "      <td>/data/srlab1/TCAT/Data/PerDataset/Pancancer/Pa...</td>\n",
       "      <td>/data/srlab1/TCAT/Data/TCAT/TCAT_Usage.2023101...</td>\n",
       "      <td>/data/srlab1/TCAT/Data/TCAT/TCAT_Usage.2023101...</td>\n",
       "      <td>NaN</td>\n",
       "      <td>NaN</td>\n",
       "      <td>/data/srlab1/TCAT/Data/PerDataset/Pancancer/Ac...</td>\n",
       "      <td>/data/srlab1/TCAT/Data/PerDataset/Pancancer/pa...</td>\n",
       "      <td>...</td>\n",
       "      <td>38.0</td>\n",
       "      <td>0.15</td>\n",
       "      <td>/data/srlab1/TCAT/Data/PerDataset/Pancancer/pa...</td>\n",
       "      <td>NaN</td>\n",
       "      <td>/data/srlab1/TCAT/Data/PerDataset/Pancancer/pa...</td>\n",
       "      <td>/data/srlab1/TCAT/Data/PerDataset/Pancancer/pa...</td>\n",
       "      <td>discovery</td>\n",
       "      <td>Pan-Tissue</td>\n",
       "      <td>Cancer+Healthy</td>\n",
       "      <td>/data/srlab1/TCAT/Data/TCAT/TCAT_Usage.2023101...</td>\n",
       "    </tr>\n",
       "    <tr>\n",
       "      <th>TBRU</th>\n",
       "      <td>TBRU</td>\n",
       "      <td>/data/srlab1/TCAT/Data/PerDataset/TBRU/TBRU.20...</td>\n",
       "      <td>/data/srlab1/TCAT/Data/PerDataset/TBRU/TBRU.20...</td>\n",
       "      <td>/data/srlab1/TCAT/Data/PerDataset/TBRU/TBRU.20...</td>\n",
       "      <td>/data/srlab1/TCAT/Data/TCAT/TCAT_Usage.2023101...</td>\n",
       "      <td>/data/srlab1/TCAT/Data/TCAT/TCAT_Usage.2023101...</td>\n",
       "      <td>NaN</td>\n",
       "      <td>/data/srlab1/TCAT/Data/PerDataset/TBRU/ManualG...</td>\n",
       "      <td>/data/srlab1/TCAT/Data/PerDataset/TBRU/Activat...</td>\n",
       "      <td>/data/srlab1/TCAT/Data/PerDataset/TBRU/tbru_ex...</td>\n",
       "      <td>...</td>\n",
       "      <td>36.0</td>\n",
       "      <td>0_20</td>\n",
       "      <td>/data/srlab1/TCAT/Data/PerDataset/TBRU/tbru_ex...</td>\n",
       "      <td>/data/srlab1/TCAT/Data/PerDataset/TBRU/tbru_ex...</td>\n",
       "      <td>/data/srlab1/TCAT/Data/PerDataset/TBRU/tbru_ex...</td>\n",
       "      <td>/data/srlab1/TCAT/Data/PerDataset/TBRU/tbru_ex...</td>\n",
       "      <td>discovery</td>\n",
       "      <td>Blood</td>\n",
       "      <td>Healthy</td>\n",
       "      <td>/data/srlab1/TCAT/Data/TCAT/TCAT_Usage.2023101...</td>\n",
       "    </tr>\n",
       "    <tr>\n",
       "      <th>HIV-Vaccine</th>\n",
       "      <td>HIV-Vaccine</td>\n",
       "      <td>/data/srlab1/TCAT/Data/PerDataset/HaoEtAl/HIVV...</td>\n",
       "      <td>/data/srlab1/TCAT/Data/PerDataset/HaoEtAl/HIVV...</td>\n",
       "      <td>/data/srlab1/TCAT/Data/PerDataset/HaoEtAl/HIVV...</td>\n",
       "      <td>/data/srlab1/TCAT/Data/TCAT/TCAT_Usage.2023101...</td>\n",
       "      <td>/data/srlab1/TCAT/Data/TCAT/TCAT_Usage.2023101...</td>\n",
       "      <td>/data/srlab1/TCAT/Data/PerDataset/HaoEtAl/Manu...</td>\n",
       "      <td>NaN</td>\n",
       "      <td>/data/srlab1/TCAT/Data/PerDataset/HaoEtAl/Acti...</td>\n",
       "      <td>/data/srlab1/TCAT/Data/PerDataset/HaoEtAl/haoe...</td>\n",
       "      <td>...</td>\n",
       "      <td>31.0</td>\n",
       "      <td>0_15</td>\n",
       "      <td>/data/srlab1/TCAT/Data/PerDataset/HaoEtAl/haoe...</td>\n",
       "      <td>/data/srlab1/TCAT/Data/PerDataset/HaoEtAl/haoe...</td>\n",
       "      <td>/data/srlab1/TCAT/Data/PerDataset/HaoEtAl/haoe...</td>\n",
       "      <td>/data/srlab1/TCAT/Data/PerDataset/HaoEtAl/haoe...</td>\n",
       "      <td>discovery</td>\n",
       "      <td>Blood</td>\n",
       "      <td>Post-Vaccine+Healthy</td>\n",
       "      <td>/data/srlab1/TCAT/Data/TCAT/TCAT_Usage.2023101...</td>\n",
       "    </tr>\n",
       "    <tr>\n",
       "      <th>UK-Covid</th>\n",
       "      <td>UK-Covid</td>\n",
       "      <td>/data/srlab1/TCAT/Data/PerDataset/UKCOVID/UKCO...</td>\n",
       "      <td>/data/srlab1/TCAT/Data/PerDataset/UKCOVID/UKCO...</td>\n",
       "      <td>/data/srlab1/TCAT/Data/PerDataset/UKCOVID/UKCO...</td>\n",
       "      <td>/data/srlab1/TCAT/Data/TCAT/TCAT_Usage.2023101...</td>\n",
       "      <td>/data/srlab1/TCAT/Data/TCAT/TCAT_Usage.2023101...</td>\n",
       "      <td>/data/srlab1/TCAT/Data/PerDataset/UKCOVID/Manu...</td>\n",
       "      <td>/data/srlab1/TCAT/Data/PerDataset/UKCOVID/Manu...</td>\n",
       "      <td>/data/srlab1/TCAT/Data/PerDataset/UKCOVID/Acti...</td>\n",
       "      <td>/data/srlab1/TCAT/Data/PerDataset/UKCOVID/hani...</td>\n",
       "      <td>...</td>\n",
       "      <td>44.0</td>\n",
       "      <td>0_20</td>\n",
       "      <td>/data/srlab1/TCAT/Data/PerDataset/UKCOVID/hani...</td>\n",
       "      <td>NaN</td>\n",
       "      <td>/data/srlab1/TCAT/Data/PerDataset/UKCOVID/hani...</td>\n",
       "      <td>/data/srlab1/TCAT/Data/PerDataset/UKCOVID/hani...</td>\n",
       "      <td>discovery</td>\n",
       "      <td>Blood</td>\n",
       "      <td>Covid-19+Healthy</td>\n",
       "      <td>/data/srlab1/TCAT/Data/TCAT/TCAT_Usage.2023101...</td>\n",
       "    </tr>\n",
       "    <tr>\n",
       "      <th>COMBAT</th>\n",
       "      <td>COMBAT</td>\n",
       "      <td>/data/srlab1/TCAT/Data/PerDataset/COMBAT/COMBA...</td>\n",
       "      <td>/data/srlab1/TCAT/Data/PerDataset/COMBAT/COMBA...</td>\n",
       "      <td>/data/srlab1/TCAT/Data/PerDataset/COMBAT/COMBA...</td>\n",
       "      <td>/data/srlab1/TCAT/Data/TCAT/TCAT_Usage.2023101...</td>\n",
       "      <td>/data/srlab1/TCAT/Data/TCAT/TCAT_Usage.2023101...</td>\n",
       "      <td>/data/srlab1/TCAT/Data/PerDataset/COMBAT/Manua...</td>\n",
       "      <td>/data/srlab1/TCAT/Data/PerDataset/COMBAT/Manua...</td>\n",
       "      <td>/data/srlab1/TCAT/Data/PerDataset/COMBAT/Activ...</td>\n",
       "      <td>/data/srlab1/TCAT/Data/PerDataset/COMBAT/COMBA...</td>\n",
       "      <td>...</td>\n",
       "      <td>35.0</td>\n",
       "      <td>0_15</td>\n",
       "      <td>/data/srlab1/TCAT/Data/PerDataset/COMBAT/COMBA...</td>\n",
       "      <td>/data/srlab1/TCAT/Data/PerDataset/COMBAT/COMBA...</td>\n",
       "      <td>/data/srlab1/TCAT/Data/PerDataset/COMBAT/COMBA...</td>\n",
       "      <td>/data/srlab1/TCAT/Data/PerDataset/COMBAT/COMBA...</td>\n",
       "      <td>discovery</td>\n",
       "      <td>Blood</td>\n",
       "      <td>Covid-19+Healthy</td>\n",
       "      <td>/data/srlab1/TCAT/Data/TCAT/TCAT_Usage.2023101...</td>\n",
       "    </tr>\n",
       "    <tr>\n",
       "      <th>Pan-Tissue</th>\n",
       "      <td>Pan-Tissue</td>\n",
       "      <td>/data/srlab1/TCAT/Data/PerDataset/XTissueImmun...</td>\n",
       "      <td>/data/srlab1/TCAT/Data/PerDataset/XTissueImmun...</td>\n",
       "      <td>/data/srlab1/TCAT/Data/PerDataset/XTissueImmun...</td>\n",
       "      <td>/data/srlab1/TCAT/Data/TCAT/TCAT_Usage.2023101...</td>\n",
       "      <td>/data/srlab1/TCAT/Data/TCAT/TCAT_Usage.2023101...</td>\n",
       "      <td>NaN</td>\n",
       "      <td>NaN</td>\n",
       "      <td>/data/srlab1/TCAT/Data/PerDataset/XTissueImmun...</td>\n",
       "      <td>/data/srlab1/TCAT/Data/PerDataset/XTissueImmun...</td>\n",
       "      <td>...</td>\n",
       "      <td>39.0</td>\n",
       "      <td>0_20</td>\n",
       "      <td>/data/srlab1/TCAT/Data/PerDataset/XTissueImmun...</td>\n",
       "      <td>NaN</td>\n",
       "      <td>/data/srlab1/TCAT/Data/PerDataset/XTissueImmun...</td>\n",
       "      <td>/data/srlab1/TCAT/Data/PerDataset/XTissueImmun...</td>\n",
       "      <td>discovery</td>\n",
       "      <td>Pan-Tissue</td>\n",
       "      <td>Non-Cancer/Non-Viral</td>\n",
       "      <td>/data/srlab1/TCAT/Data/TCAT/TCAT_Usage.2023101...</td>\n",
       "    </tr>\n",
       "  </tbody>\n",
       "</table>\n",
       "<p>7 rows × 27 columns</p>\n",
       "</div>"
      ],
      "text/plain": [
       "                 dataset                                           usage_fn  \\\n",
       "dataset                                                                       \n",
       "AMP-RA            AMP-RA  /data/srlab1/TCAT/Data/PerDataset/AMPRA/AMPRA....   \n",
       "Pan-Cancer    Pan-Cancer  /data/srlab1/TCAT/Data/PerDataset/Pancancer/Pa...   \n",
       "TBRU                TBRU  /data/srlab1/TCAT/Data/PerDataset/TBRU/TBRU.20...   \n",
       "HIV-Vaccine  HIV-Vaccine  /data/srlab1/TCAT/Data/PerDataset/HaoEtAl/HIVV...   \n",
       "UK-Covid        UK-Covid  /data/srlab1/TCAT/Data/PerDataset/UKCOVID/UKCO...   \n",
       "COMBAT            COMBAT  /data/srlab1/TCAT/Data/PerDataset/COMBAT/COMBA...   \n",
       "Pan-Tissue    Pan-Tissue  /data/srlab1/TCAT/Data/PerDataset/XTissueImmun...   \n",
       "\n",
       "                                                gene_scores_fn  \\\n",
       "dataset                                                          \n",
       "AMP-RA       /data/srlab1/TCAT/Data/PerDataset/AMPRA/AMPRA....   \n",
       "Pan-Cancer   /data/srlab1/TCAT/Data/PerDataset/Pancancer/Pa...   \n",
       "TBRU         /data/srlab1/TCAT/Data/PerDataset/TBRU/TBRU.20...   \n",
       "HIV-Vaccine  /data/srlab1/TCAT/Data/PerDataset/HaoEtAl/HIVV...   \n",
       "UK-Covid     /data/srlab1/TCAT/Data/PerDataset/UKCOVID/UKCO...   \n",
       "COMBAT       /data/srlab1/TCAT/Data/PerDataset/COMBAT/COMBA...   \n",
       "Pan-Tissue   /data/srlab1/TCAT/Data/PerDataset/XTissueImmun...   \n",
       "\n",
       "                                                   gene_tpm_fn  \\\n",
       "dataset                                                          \n",
       "AMP-RA       /data/srlab1/TCAT/Data/PerDataset/AMPRA/AMPRA....   \n",
       "Pan-Cancer   /data/srlab1/TCAT/Data/PerDataset/Pancancer/Pa...   \n",
       "TBRU         /data/srlab1/TCAT/Data/PerDataset/TBRU/TBRU.20...   \n",
       "HIV-Vaccine  /data/srlab1/TCAT/Data/PerDataset/HaoEtAl/HIVV...   \n",
       "UK-Covid     /data/srlab1/TCAT/Data/PerDataset/UKCOVID/UKCO...   \n",
       "COMBAT       /data/srlab1/TCAT/Data/PerDataset/COMBAT/COMBA...   \n",
       "Pan-Tissue   /data/srlab1/TCAT/Data/PerDataset/XTissueImmun...   \n",
       "\n",
       "                                                       tcat_fn  \\\n",
       "dataset                                                          \n",
       "AMP-RA       /data/srlab1/TCAT/Data/TCAT/TCAT_Usage.2023101...   \n",
       "Pan-Cancer   /data/srlab1/TCAT/Data/TCAT/TCAT_Usage.2023101...   \n",
       "TBRU         /data/srlab1/TCAT/Data/TCAT/TCAT_Usage.2023101...   \n",
       "HIV-Vaccine  /data/srlab1/TCAT/Data/TCAT/TCAT_Usage.2023101...   \n",
       "UK-Covid     /data/srlab1/TCAT/Data/TCAT/TCAT_Usage.2023101...   \n",
       "COMBAT       /data/srlab1/TCAT/Data/TCAT/TCAT_Usage.2023101...   \n",
       "Pan-Tissue   /data/srlab1/TCAT/Data/TCAT/TCAT_Usage.2023101...   \n",
       "\n",
       "                                        tcat_fn_withsingletons  \\\n",
       "dataset                                                          \n",
       "AMP-RA       /data/srlab1/TCAT/Data/TCAT/TCAT_Usage.2023101...   \n",
       "Pan-Cancer   /data/srlab1/TCAT/Data/TCAT/TCAT_Usage.2023101...   \n",
       "TBRU         /data/srlab1/TCAT/Data/TCAT/TCAT_Usage.2023101...   \n",
       "HIV-Vaccine  /data/srlab1/TCAT/Data/TCAT/TCAT_Usage.2023101...   \n",
       "UK-Covid     /data/srlab1/TCAT/Data/TCAT/TCAT_Usage.2023101...   \n",
       "COMBAT       /data/srlab1/TCAT/Data/TCAT/TCAT_Usage.2023101...   \n",
       "Pan-Tissue   /data/srlab1/TCAT/Data/TCAT/TCAT_Usage.2023101...   \n",
       "\n",
       "                                              manual_gating_fn  \\\n",
       "dataset                                                          \n",
       "AMP-RA                                                     NaN   \n",
       "Pan-Cancer                                                 NaN   \n",
       "TBRU                                                       NaN   \n",
       "HIV-Vaccine  /data/srlab1/TCAT/Data/PerDataset/HaoEtAl/Manu...   \n",
       "UK-Covid     /data/srlab1/TCAT/Data/PerDataset/UKCOVID/Manu...   \n",
       "COMBAT       /data/srlab1/TCAT/Data/PerDataset/COMBAT/Manua...   \n",
       "Pan-Tissue                                                 NaN   \n",
       "\n",
       "                                   manual_activation_gating_fn  \\\n",
       "dataset                                                          \n",
       "AMP-RA       /data/srlab1/TCAT/Data/PerDataset/AMPRA/Manual...   \n",
       "Pan-Cancer                                                 NaN   \n",
       "TBRU         /data/srlab1/TCAT/Data/PerDataset/TBRU/ManualG...   \n",
       "HIV-Vaccine                                                NaN   \n",
       "UK-Covid     /data/srlab1/TCAT/Data/PerDataset/UKCOVID/Manu...   \n",
       "COMBAT       /data/srlab1/TCAT/Data/PerDataset/COMBAT/Manua...   \n",
       "Pan-Tissue                                                 NaN   \n",
       "\n",
       "                                           activation_score_fn  \\\n",
       "dataset                                                          \n",
       "AMP-RA       /data/srlab1/TCAT/Data/PerDataset/AMPRA/Activa...   \n",
       "Pan-Cancer   /data/srlab1/TCAT/Data/PerDataset/Pancancer/Ac...   \n",
       "TBRU         /data/srlab1/TCAT/Data/PerDataset/TBRU/Activat...   \n",
       "HIV-Vaccine  /data/srlab1/TCAT/Data/PerDataset/HaoEtAl/Acti...   \n",
       "UK-Covid     /data/srlab1/TCAT/Data/PerDataset/UKCOVID/Acti...   \n",
       "COMBAT       /data/srlab1/TCAT/Data/PerDataset/COMBAT/Activ...   \n",
       "Pan-Tissue   /data/srlab1/TCAT/Data/PerDataset/XTissueImmun...   \n",
       "\n",
       "                                                   metadata_fn  ...     k  \\\n",
       "dataset                                                         ...         \n",
       "AMP-RA       /data/srlab1/TCAT/Data/PerDataset/AMPRA/AMP_AD...  ...  34.0   \n",
       "Pan-Cancer   /data/srlab1/TCAT/Data/PerDataset/Pancancer/pa...  ...  38.0   \n",
       "TBRU         /data/srlab1/TCAT/Data/PerDataset/TBRU/tbru_ex...  ...  36.0   \n",
       "HIV-Vaccine  /data/srlab1/TCAT/Data/PerDataset/HaoEtAl/haoe...  ...  31.0   \n",
       "UK-Covid     /data/srlab1/TCAT/Data/PerDataset/UKCOVID/hani...  ...  44.0   \n",
       "COMBAT       /data/srlab1/TCAT/Data/PerDataset/COMBAT/COMBA...  ...  35.0   \n",
       "Pan-Tissue   /data/srlab1/TCAT/Data/PerDataset/XTissueImmun...  ...  39.0   \n",
       "\n",
       "               dt                               processed_forcnmf_fn  \\\n",
       "dataset                                                                \n",
       "AMP-RA       0_15  /data/srlab1/TCAT/Data/PerDataset/AMPRA/AMP_AD...   \n",
       "Pan-Cancer   0.15  /data/srlab1/TCAT/Data/PerDataset/Pancancer/pa...   \n",
       "TBRU         0_20  /data/srlab1/TCAT/Data/PerDataset/TBRU/tbru_ex...   \n",
       "HIV-Vaccine  0_15  /data/srlab1/TCAT/Data/PerDataset/HaoEtAl/haoe...   \n",
       "UK-Covid     0_20  /data/srlab1/TCAT/Data/PerDataset/UKCOVID/hani...   \n",
       "COMBAT       0_15  /data/srlab1/TCAT/Data/PerDataset/COMBAT/COMBA...   \n",
       "Pan-Tissue   0_20  /data/srlab1/TCAT/Data/PerDataset/XTissueImmun...   \n",
       "\n",
       "                                        tpm_counts_for_cnmf_fn  \\\n",
       "dataset                                                          \n",
       "AMP-RA       /data/srlab1/TCAT/Data/PerDataset/AMPRA/AMP_AD...   \n",
       "Pan-Cancer                                                 NaN   \n",
       "TBRU         /data/srlab1/TCAT/Data/PerDataset/TBRU/tbru_ex...   \n",
       "HIV-Vaccine  /data/srlab1/TCAT/Data/PerDataset/HaoEtAl/haoe...   \n",
       "UK-Covid                                                   NaN   \n",
       "COMBAT       /data/srlab1/TCAT/Data/PerDataset/COMBAT/COMBA...   \n",
       "Pan-Tissue                                                 NaN   \n",
       "\n",
       "                                            raw_counts_filt_fn  \\\n",
       "dataset                                                          \n",
       "AMP-RA       /data/srlab1/TCAT/Data/PerDataset/AMPRA/AMP_AD...   \n",
       "Pan-Cancer   /data/srlab1/TCAT/Data/PerDataset/Pancancer/pa...   \n",
       "TBRU         /data/srlab1/TCAT/Data/PerDataset/TBRU/tbru_ex...   \n",
       "HIV-Vaccine  /data/srlab1/TCAT/Data/PerDataset/HaoEtAl/haoe...   \n",
       "UK-Covid     /data/srlab1/TCAT/Data/PerDataset/UKCOVID/hani...   \n",
       "COMBAT       /data/srlab1/TCAT/Data/PerDataset/COMBAT/COMBA...   \n",
       "Pan-Tissue   /data/srlab1/TCAT/Data/PerDataset/XTissueImmun...   \n",
       "\n",
       "                                                 raw_counts_fn dataset_type  \\\n",
       "dataset                                                                       \n",
       "AMP-RA       /data/srlab1/TCAT/Data/PerDataset/AMPRA/AMP_AD...    discovery   \n",
       "Pan-Cancer   /data/srlab1/TCAT/Data/PerDataset/Pancancer/pa...    discovery   \n",
       "TBRU         /data/srlab1/TCAT/Data/PerDataset/TBRU/tbru_ex...    discovery   \n",
       "HIV-Vaccine  /data/srlab1/TCAT/Data/PerDataset/HaoEtAl/haoe...    discovery   \n",
       "UK-Covid     /data/srlab1/TCAT/Data/PerDataset/UKCOVID/hani...    discovery   \n",
       "COMBAT       /data/srlab1/TCAT/Data/PerDataset/COMBAT/COMBA...    discovery   \n",
       "Pan-Tissue   /data/srlab1/TCAT/Data/PerDataset/XTissueImmun...    discovery   \n",
       "\n",
       "             tissue_type         context_label  \\\n",
       "dataset                                          \n",
       "AMP-RA          Synovium                 RA+OA   \n",
       "Pan-Cancer    Pan-Tissue        Cancer+Healthy   \n",
       "TBRU               Blood               Healthy   \n",
       "HIV-Vaccine        Blood  Post-Vaccine+Healthy   \n",
       "UK-Covid           Blood      Covid-19+Healthy   \n",
       "COMBAT             Blood      Covid-19+Healthy   \n",
       "Pan-Tissue    Pan-Tissue  Non-Cancer/Non-Viral   \n",
       "\n",
       "                                                   tcat_fn_old  \n",
       "dataset                                                         \n",
       "AMP-RA       /data/srlab1/TCAT/Data/TCAT/TCAT_Usage.2023101...  \n",
       "Pan-Cancer   /data/srlab1/TCAT/Data/TCAT/TCAT_Usage.2023101...  \n",
       "TBRU         /data/srlab1/TCAT/Data/TCAT/TCAT_Usage.2023101...  \n",
       "HIV-Vaccine  /data/srlab1/TCAT/Data/TCAT/TCAT_Usage.2023101...  \n",
       "UK-Covid     /data/srlab1/TCAT/Data/TCAT/TCAT_Usage.2023101...  \n",
       "COMBAT       /data/srlab1/TCAT/Data/TCAT/TCAT_Usage.2023101...  \n",
       "Pan-Tissue   /data/srlab1/TCAT/Data/TCAT/TCAT_Usage.2023101...  \n",
       "\n",
       "[7 rows x 27 columns]"
      ]
     },
     "execution_count": 4,
     "metadata": {},
     "output_type": "execute_result"
    }
   ],
   "source": [
    "params_full = read_dataset_log('Dataset Paths')\n",
    "params_full.index = params_full['dataset']\n",
    "params = params_full[params_full['dataset_type']=='discovery']\n",
    "params"
   ]
  },
  {
   "cell_type": "markdown",
   "id": "68f0db05-7a80-4dcd-9a28-4d8d5952d221",
   "metadata": {},
   "source": [
    "## Count Tissues"
   ]
  },
  {
   "cell_type": "code",
   "execution_count": 9,
   "id": "0d12b2ee-b40c-4001-be11-aea87d13ae1f",
   "metadata": {},
   "outputs": [
    {
     "data": {
      "text/plain": [
       "array(['ILE', 'LNG', 'LLN', 'MLN', 'BMA', 'SKM', 'LIV', 'SPL', 'OME',\n",
       "       'CAE', 'THY', 'DUO', 'TCL', 'SCL', 'JEJLP', 'JEJEPI'], dtype=object)"
      ]
     },
     "execution_count": 9,
     "metadata": {},
     "output_type": "execute_result"
    }
   ],
   "source": [
    "pantissue = pd.read_csv(params.loc['Pan-Tissue', 'metadata_fn'], sep='\\t', index_col=0)\n",
    "pantissue['Organ'].unique()"
   ]
  },
  {
   "cell_type": "markdown",
   "id": "9b8a2c26-8555-49cd-91ce-79503c0ee753",
   "metadata": {},
   "source": [
    "Ileum, lung, lung-draining LN, mesenteric LN, bone marrow, skeletal muscle, liver, spleen,\n",
    "omentum, caecum, thymus, duodenum, transverse colon, sigmoid colon,  jejeunal lamina propria, jejeunum epithelium,\n",
    "\n",
    "\n",
    "\n"
   ]
  },
  {
   "cell_type": "code",
   "execution_count": 5,
   "id": "bf993953-4ab5-4e26-aafc-5fec430a233b",
   "metadata": {
    "tags": []
   },
   "outputs": [],
   "source": [
    "pancancer = pd.read_csv(params.loc['Pan-Cancer', 'metadata_fn'], sep='\\t', index_col=0)\n"
   ]
  },
  {
   "cell_type": "code",
   "execution_count": 15,
   "id": "c579db7b-46d5-423d-b548-d5063fe5ab35",
   "metadata": {},
   "outputs": [
    {
     "data": {
      "text/plain": [
       "array(['BCC_T', 'BCL_T', 'BC_N', 'BC_T', 'ESCA_N', 'ESCA_T', 'FTC_T',\n",
       "       'HCC_N', 'HCC_T', 'LUNG_N', 'LUNG_T', 'MM_T', 'OV_N', 'OV_T',\n",
       "       'PACA_T', 'PACA_N', 'RC_N', 'RC_T', 'THCA_N', 'THCA_T', 'UCEC_N',\n",
       "       'UCEC_T'], dtype=object)"
      ]
     },
     "execution_count": 15,
     "metadata": {},
     "output_type": "execute_result"
    }
   ],
   "source": [
    "(pancancer['cancerType'] + '_' + pancancer['loc']).unique()"
   ]
  },
  {
   "cell_type": "markdown",
   "id": "4f4bfa53-2f6b-4e0c-b650-84ef963a2ed4",
   "metadata": {},
   "source": [
    "basal cell carcinoma, b-cell lymphoma, Bladder cancer, normal bladder, esophageal cancer, normal esophagus, fallopian tube carcinoma, hepatocellular carcinoma, normal liver, lung cancer, matched normal lung, \n",
    "multiple myeloma, ovarian cancer, normal ovary, pancreatic cancer, normal pancreas, renal carcinoma, normal kidney, thyroid carcinoma, normal thyroid, uterine carcinoma, normal uterus"
   ]
  },
  {
   "cell_type": "markdown",
   "id": "3936ed4b-a1ed-41c0-8235-dac554eb1828",
   "metadata": {},
   "source": [
    "HCC_N overlaps with LIV\n",
    "LUNG_N overlaps with LNG\n"
   ]
  },
  {
   "cell_type": "code",
   "execution_count": 16,
   "id": "b3fae34e-7c39-4e96-8a6b-74434c518dff",
   "metadata": {},
   "outputs": [
    {
     "data": {
      "text/plain": [
       "38"
      ]
     },
     "execution_count": 16,
     "metadata": {},
     "output_type": "execute_result"
    }
   ],
   "source": [
    "16+22-2+2"
   ]
  },
  {
   "cell_type": "markdown",
   "id": "6d4b3577-6682-4fc8-8478-19ad96e49993",
   "metadata": {},
   "source": [
    "Total tissues:\n",
    "\n",
    "    - 1. PBMC\n",
    "    - 2. Synovium\n",
    "    - 3. Ileum\n",
    "    - 4. Lung/LUNG_N\n",
    "    - 5. lung-draining LN\n",
    "    - 6.  mesenteric LN\n",
    "    - 7. bone marrow\n",
    "    - 8. skeletal muscle\n",
    "    - 9. liver/HCC_N\n",
    "    - 10. spleen,\n",
    "    - 11. omentum\n",
    "    - 12. caecum\n",
    "    - 13. thymus\n",
    "    - 14. duodenum\n",
    "    - 15. transverse colon\n",
    "    - 16. sigmoid colon\n",
    "    - 17. jejeunal lamina propria\n",
    "    - 18. jejeunum epithelium\n",
    "    - 19. BCC_T\n",
    "    - 20. BCL_T\n",
    "    - 21. BC_N\n",
    "    - 22. BC_T\n",
    "    - 23. ESCA_N\n",
    "    - 24. ESCA_T\n",
    "    - 25. FTC_T\n",
    "    - 26. HCC_T'\n",
    "    - 27. LUNG_T\n",
    "    - 28. MM_T\n",
    "    - 29. OV_N\n",
    "    - 30. OV_T\n",
    "    - 31. PACA_T\n",
    "    - 32. PACA_N\n",
    "    - 33. RC_N\n",
    "    - 34. RC_T\n",
    "    - 35. THCA_N\n",
    "    - 36. THCA_T\n",
    "    - 37. UCEC_N\n",
    "    - 38. UCEC_t"
   ]
  },
  {
   "cell_type": "code",
   "execution_count": 8,
   "id": "36964c65-b8fc-4238-8661-224209a7156e",
   "metadata": {},
   "outputs": [
    {
     "data": {
      "text/plain": [
       "'sampleID'"
      ]
     },
     "execution_count": 8,
     "metadata": {},
     "output_type": "execute_result"
    }
   ],
   "source": [
    "params.loc['Pan-Cancer', 'sample_col']"
   ]
  },
  {
   "cell_type": "code",
   "execution_count": 11,
   "id": "1383c413-84c4-4bf6-baf7-475498e5424b",
   "metadata": {},
   "outputs": [],
   "source": [
    "i_col = params.loc['Pan-Cancer', 'individual_col']"
   ]
  },
  {
   "cell_type": "code",
   "execution_count": 20,
   "id": "5af79b06-0cc1-498b-9ea2-43d5dae6b06c",
   "metadata": {},
   "outputs": [
    {
     "data": {
      "text/plain": [
       "PACA    26\n",
       "BCC     11\n",
       "RC      11\n",
       "THCA    10\n",
       "UCEC     9\n",
       "ESCA     7\n",
       "HCC      5\n",
       "LUNG     4\n",
       "MM       3\n",
       "BCL      2\n",
       "BC       2\n",
       "FTC      1\n",
       "OV       1\n",
       "Name: cancerType, dtype: int64"
      ]
     },
     "execution_count": 20,
     "metadata": {},
     "output_type": "execute_result"
    }
   ],
   "source": [
    "pancancer[['cancerType', i_col]].reset_index(drop = True).drop_duplicates()['cancerType'].value_counts()"
   ]
  },
  {
   "cell_type": "code",
   "execution_count": 23,
   "id": "0afe4c20-d5b8-48fd-93d7-c0322c234ddd",
   "metadata": {},
   "outputs": [
    {
     "data": {
      "text/plain": [
       "NSCLC.QianqianSong2019.P1    577\n",
       "NSCLC.QianqianSong2019.P4    551\n",
       "NSCLC.QianqianSong2019.P3     50\n",
       "NSCLC.QianqianSong2019.P2     27\n",
       "Name: patient.uid, dtype: int64"
      ]
     },
     "execution_count": 23,
     "metadata": {},
     "output_type": "execute_result"
    }
   ],
   "source": [
    "pancancer[pancancer['cancerType']=='LUNG'][i_col].value_counts()"
   ]
  },
  {
   "cell_type": "markdown",
   "id": "f6b53f4d-0a1a-49da-ac9a-6b6f81ffacf6",
   "metadata": {},
   "source": [
    "## Sparks stats"
   ]
  },
  {
   "cell_type": "code",
   "execution_count": 5,
   "id": "1e7cbfe4-6605-4d33-ab56-c2fd62079f95",
   "metadata": {},
   "outputs": [
    {
     "name": "stderr",
     "output_type": "stream",
     "text": [
      "/PHShome/mc1070/anaconda3/envs/cnmf_env2v2/lib/python3.7/site-packages/IPython/core/interactiveshell.py:3524: DtypeWarning: Columns (12) have mixed types.Specify dtype option on import or set low_memory=False.\n",
      "  exec(code_obj, self.user_global_ns, self.user_ns)\n"
     ]
    }
   ],
   "source": [
    "dataset = 'Sparks'\n",
    "sparks_meta = pd.read_csv(params_full.loc[dataset, 'metadata_fn'], sep='\\t', index_col=0)"
   ]
  },
  {
   "cell_type": "code",
   "execution_count": 6,
   "id": "3bfeaef6-b249-46f0-8cb1-5b964c7f7648",
   "metadata": {},
   "outputs": [
    {
     "data": {
      "text/plain": [
       "COVR       194472\n",
       "HC         128789\n",
       "control     13478\n",
       "Name: group, dtype: int64"
      ]
     },
     "execution_count": 6,
     "metadata": {},
     "output_type": "execute_result"
    }
   ],
   "source": [
    "sparks_meta['group'].replace(np.nan, 'control').value_counts()"
   ]
  },
  {
   "cell_type": "code",
   "execution_count": 7,
   "id": "fa8e7934-65d1-4129-859c-f4b2a317dcb3",
   "metadata": {},
   "outputs": [
    {
     "data": {
      "text/plain": [
       "group\n",
       "COVR       24\n",
       "HC         16\n",
       "control     1\n",
       "dtype: int64"
      ]
     },
     "execution_count": 7,
     "metadata": {},
     "output_type": "execute_result"
    }
   ],
   "source": [
    "(pd.crosstab(sparks_meta['alt.subject.id'], sparks_meta['group'].replace(np.nan, 'control'))>0).sum(axis=0)"
   ]
  },
  {
   "cell_type": "code",
   "execution_count": 9,
   "id": "d34a8a02-7666-4e6d-a9e3-c0a1dc6e528b",
   "metadata": {},
   "outputs": [
    {
     "data": {
      "text/plain": [
       "336739"
      ]
     },
     "execution_count": 9,
     "metadata": {},
     "output_type": "execute_result"
    }
   ],
   "source": [
    "sparks_meta.shape[0]"
   ]
  },
  {
   "cell_type": "code",
   "execution_count": 12,
   "id": "0d0d729a-ef09-422a-b937-af49cad71126",
   "metadata": {},
   "outputs": [
    {
     "data": {
      "text/plain": [
       "Index(['alt.subject.id', 'visit', 'covid.diagnosis.start.date.to.sample.drawn',\n",
       "       'group', 'sex', 'age', 'race', 'ethnicity', 'flu.vax.count.10yr',\n",
       "       'vaccine', 'vaccine.side.effects', 'long.covid.symptoms', 'Batch',\n",
       "       'nCount_RNA', 'nCount_HTO', 'nCount_CITE', 'nCount_RNA_largest.gene',\n",
       "       'nCount_SCT', 'nFeature_RNA', 'nFeature_HTO', 'nFeature_CITE',\n",
       "       'nFeature_SCT', 'percent.mt', 'percent.largest.gene',\n",
       "       'coarse.cell.type', 'cell.type', 'HTO1', 'HTO2', 'HTO3', 'n_counts',\n",
       "       'leiden_res1', 'leiden_res0_8', 'leiden_res0_6', 'leiden_res2_25',\n",
       "       'leiden_res2', 'leiden_res1_75', 'leiden_res1_5', 'leiden_res1_25',\n",
       "       'leiden_res0_75', 'leiden_res0_5', 'leiden_res0_25', 'alt.sample.id'],\n",
       "      dtype='object')"
      ]
     },
     "execution_count": 12,
     "metadata": {},
     "output_type": "execute_result"
    }
   ],
   "source": [
    "sparks_meta.columns"
   ]
  },
  {
   "cell_type": "markdown",
   "id": "4e14ccd6-80db-4e79-89e8-1f9af28076ac",
   "metadata": {},
   "source": [
    "## Cell and sample count stats"
   ]
  },
  {
   "cell_type": "code",
   "execution_count": 5,
   "id": "2ece9a4f-aae3-4b78-a309-2e93d8ffde8d",
   "metadata": {},
   "outputs": [],
   "source": [
    "ds_stats = pd.DataFrame(columns = ['n_cells', 'n_individuals', 'n_samples'])"
   ]
  },
  {
   "cell_type": "code",
   "execution_count": 6,
   "id": "43191dd4-4775-4fc7-8124-726b2ab0f530",
   "metadata": {
    "tags": []
   },
   "outputs": [
    {
     "name": "stdout",
     "output_type": "stream",
     "text": [
      "AMP-RA\n",
      "WARNING: Your filename has more than two extensions: ['.RNA_counts', '.raw', '.ADTfixed', '.ADT_20', '.RNA', '.VarNorm', '.HVG', '.HarmonyGeneCorrect', '.h5ad'].\n",
      "Only considering the two last: ['.HarmonyGeneCorrect', '.h5ad'].\n",
      "WARNING: Your filename has more than two extensions: ['.RNA_counts', '.raw', '.ADTfixed', '.ADT_20', '.RNA', '.VarNorm', '.HVG', '.HarmonyGeneCorrect', '.h5ad'].\n",
      "Only considering the two last: ['.HarmonyGeneCorrect', '.h5ad'].\n",
      "Pan-Cancer\n",
      "WARNING: Your filename has more than two extensions: ['.10X', '.Greater20KgeneDatasets', '.NoPBMC', '.NoBlood', '.20230927RNA', '.VarNorm', '.HVG', '.HarmonyGeneCorrect', '.h5ad'].\n",
      "Only considering the two last: ['.HarmonyGeneCorrect', '.h5ad'].\n",
      "WARNING: Your filename has more than two extensions: ['.10X', '.Greater20KgeneDatasets', '.NoPBMC', '.NoBlood', '.20230927RNA', '.VarNorm', '.HVG', '.HarmonyGeneCorrect', '.h5ad'].\n",
      "Only considering the two last: ['.HarmonyGeneCorrect', '.h5ad'].\n",
      "TBRU\n",
      "WARNING: Your filename has more than two extensions: ['.ADTfixed', '.20231006RNA', '.VarNorm', '.HVG', '.HarmonyGeneCorrect', '.h5ad'].\n",
      "Only considering the two last: ['.HarmonyGeneCorrect', '.h5ad'].\n",
      "WARNING: Your filename has more than two extensions: ['.ADTfixed', '.20231006RNA', '.VarNorm', '.HVG', '.HarmonyGeneCorrect', '.h5ad'].\n",
      "Only considering the two last: ['.HarmonyGeneCorrect', '.h5ad'].\n",
      "HIV-Vaccine\n",
      "WARNING: Your filename has more than two extensions: ['.merged', '.T', '.raw', '.ADTfixedADT_70', '.20221022RNA', '.VarNorm', '.HVG', '.HarmonyGeneCorrect', '.h5ad'].\n",
      "Only considering the two last: ['.HarmonyGeneCorrect', '.h5ad'].\n",
      "WARNING: Your filename has more than two extensions: ['.merged', '.T', '.raw', '.ADTfixedADT_70', '.20221022RNA', '.VarNorm', '.HVG', '.HarmonyGeneCorrect', '.h5ad'].\n",
      "Only considering the two last: ['.HarmonyGeneCorrect', '.h5ad'].\n",
      "UK-Covid\n",
      "WARNING: Your filename has more than two extensions: ['.RNAandADT', '.raw', '.ADTfixedADT_70RNA', '.VarNorm', '.HVG', '.HarmonyGeneCorrect', '.h5ad'].\n",
      "Only considering the two last: ['.HarmonyGeneCorrect', '.h5ad'].\n",
      "WARNING: Your filename has more than two extensions: ['.RNAandADT', '.raw', '.ADTfixedADT_70RNA', '.VarNorm', '.HVG', '.HarmonyGeneCorrect', '.h5ad'].\n",
      "Only considering the two last: ['.HarmonyGeneCorrect', '.h5ad'].\n",
      "COMBAT\n",
      "WARNING: Your filename has more than two extensions: ['.Raw', '.T', '.ADTfixed20230831RNA', '.VarNorm', '.HVG', '.HarmonyGeneCorrect', '.h5ad'].\n",
      "Only considering the two last: ['.HarmonyGeneCorrect', '.h5ad'].\n",
      "WARNING: Your filename has more than two extensions: ['.Raw', '.T', '.ADTfixed20230831RNA', '.VarNorm', '.HVG', '.HarmonyGeneCorrect', '.h5ad'].\n",
      "Only considering the two last: ['.HarmonyGeneCorrect', '.h5ad'].\n"
     ]
    },
    {
     "name": "stderr",
     "output_type": "stream",
     "text": [
      "/PHShome/mc1070/anaconda3/envs/cnmf_env2v2/lib/python3.7/site-packages/IPython/core/interactiveshell.py:3524: DtypeWarning: Columns (18,20,21) have mixed types.Specify dtype option on import or set low_memory=False.\n",
      "  exec(code_obj, self.user_global_ns, self.user_ns)\n"
     ]
    },
    {
     "name": "stdout",
     "output_type": "stream",
     "text": [
      "Pan-Tissue\n",
      "WARNING: Your filename has more than two extensions: ['.counts', '.NoBlood', '.20230927RNA', '.VarNorm', '.HVG', '.HarmonyGeneCorrect', '.h5ad'].\n",
      "Only considering the two last: ['.HarmonyGeneCorrect', '.h5ad'].\n",
      "WARNING: Your filename has more than two extensions: ['.counts', '.NoBlood', '.20230927RNA', '.VarNorm', '.HVG', '.HarmonyGeneCorrect', '.h5ad'].\n",
      "Only considering the two last: ['.HarmonyGeneCorrect', '.h5ad'].\n"
     ]
    },
    {
     "name": "stderr",
     "output_type": "stream",
     "text": [
      "/PHShome/mc1070/anaconda3/envs/cnmf_env2v2/lib/python3.7/site-packages/IPython/core/interactiveshell.py:3524: DtypeWarning: Columns (3) have mixed types.Specify dtype option on import or set low_memory=False.\n",
      "  exec(code_obj, self.user_global_ns, self.user_ns)\n"
     ]
    }
   ],
   "source": [
    "for dataset in params.index:\n",
    "    print(dataset)\n",
    "    adata = sc.read(params.loc[dataset, 'processed_forcnmf_fn'])\n",
    "    metadata = pd.read_csv(params.loc[dataset, 'metadata_fn'], index_col = 0, sep = '\\t')\n",
    "\n",
    "    individual_col = params.loc[dataset, 'individual_col']\n",
    "    sample_col = params.loc[dataset, 'sample_col']\n",
    "\n",
    "    if sample_col in adata.obs.columns:\n",
    "        n_samples = len(adata.obs[sample_col].unique())\n",
    "    elif sample_col in metadata.columns:\n",
    "        n_samples = len(metadata.loc[adata.obs.index, sample_col].unique())\n",
    "    else:\n",
    "        n_samples = 0\n",
    "\n",
    "    if individual_col in adata.obs.columns:\n",
    "        n_individuals = len(adata.obs[individual_col].unique())\n",
    "    elif individual_col in metadata.columns:\n",
    "        n_individuals = len(metadata.loc[adata.obs.index, individual_col].unique())\n",
    "    else:\n",
    "        n_individuals = 0\n",
    "\n",
    "    n_cells = adata.shape[0]\n",
    "\n",
    "    ds_stats = ds_stats.append(pd.DataFrame([[n_cells, n_individuals, n_samples]], \n",
    "                                 columns = ds_stats.columns, index = [dataset]))"
   ]
  },
  {
   "cell_type": "code",
   "execution_count": 7,
   "id": "be7e406b-7343-4d66-97a5-c6b649f6efad",
   "metadata": {},
   "outputs": [
    {
     "data": {
      "text/html": [
       "<div>\n",
       "<style scoped>\n",
       "    .dataframe tbody tr th:only-of-type {\n",
       "        vertical-align: middle;\n",
       "    }\n",
       "\n",
       "    .dataframe tbody tr th {\n",
       "        vertical-align: top;\n",
       "    }\n",
       "\n",
       "    .dataframe thead th {\n",
       "        text-align: right;\n",
       "    }\n",
       "</style>\n",
       "<table border=\"1\" class=\"dataframe\">\n",
       "  <thead>\n",
       "    <tr style=\"text-align: right;\">\n",
       "      <th></th>\n",
       "      <th>n_cells</th>\n",
       "      <th>n_individuals</th>\n",
       "      <th>n_samples</th>\n",
       "    </tr>\n",
       "  </thead>\n",
       "  <tbody>\n",
       "    <tr>\n",
       "      <th>AMP-RA</th>\n",
       "      <td>94048</td>\n",
       "      <td>81</td>\n",
       "      <td>81</td>\n",
       "    </tr>\n",
       "    <tr>\n",
       "      <th>Pan-Cancer</th>\n",
       "      <td>215035</td>\n",
       "      <td>92</td>\n",
       "      <td>177</td>\n",
       "    </tr>\n",
       "    <tr>\n",
       "      <th>TBRU</th>\n",
       "      <td>500089</td>\n",
       "      <td>259</td>\n",
       "      <td>259</td>\n",
       "    </tr>\n",
       "    <tr>\n",
       "      <th>HIV-Vaccine</th>\n",
       "      <td>73259</td>\n",
       "      <td>8</td>\n",
       "      <td>24</td>\n",
       "    </tr>\n",
       "    <tr>\n",
       "      <th>UK-Covid</th>\n",
       "      <td>273516</td>\n",
       "      <td>121</td>\n",
       "      <td>133</td>\n",
       "    </tr>\n",
       "    <tr>\n",
       "      <th>COMBAT</th>\n",
       "      <td>399599</td>\n",
       "      <td>122</td>\n",
       "      <td>138</td>\n",
       "    </tr>\n",
       "    <tr>\n",
       "      <th>Pan-Tissue</th>\n",
       "      <td>154314</td>\n",
       "      <td>12</td>\n",
       "      <td>93</td>\n",
       "    </tr>\n",
       "  </tbody>\n",
       "</table>\n",
       "</div>"
      ],
      "text/plain": [
       "            n_cells n_individuals n_samples\n",
       "AMP-RA        94048            81        81\n",
       "Pan-Cancer   215035            92       177\n",
       "TBRU         500089           259       259\n",
       "HIV-Vaccine   73259             8        24\n",
       "UK-Covid     273516           121       133\n",
       "COMBAT       399599           122       138\n",
       "Pan-Tissue   154314            12        93"
      ]
     },
     "execution_count": 7,
     "metadata": {},
     "output_type": "execute_result"
    }
   ],
   "source": [
    "ds_stats"
   ]
  },
  {
   "cell_type": "code",
   "execution_count": 8,
   "id": "bfab331d-69fa-402b-ba21-5c88555b2825",
   "metadata": {},
   "outputs": [],
   "source": [
    "ds_stats.to_csv('../../Data/TCAT/CellIndividualCounts_PerDataset.tsv', sep = '\\t')"
   ]
  },
  {
   "cell_type": "code",
   "execution_count": 1,
   "id": "b59d87df-67f7-4089-9065-c8d34959070e",
   "metadata": {},
   "outputs": [
    {
     "data": {
      "text/plain": [
       "1709860"
      ]
     },
     "execution_count": 1,
     "metadata": {},
     "output_type": "execute_result"
    }
   ],
   "source": [
    "94048+215035+500089+73259+273516+399599+154314"
   ]
  },
  {
   "cell_type": "code",
   "execution_count": 11,
   "id": "f4c358ce-31b7-4751-af53-ac7384b1a11b",
   "metadata": {},
   "outputs": [
    {
     "data": {
      "text/html": [
       "<div>\n",
       "<style scoped>\n",
       "    .dataframe tbody tr th:only-of-type {\n",
       "        vertical-align: middle;\n",
       "    }\n",
       "\n",
       "    .dataframe tbody tr th {\n",
       "        vertical-align: top;\n",
       "    }\n",
       "\n",
       "    .dataframe thead th {\n",
       "        text-align: right;\n",
       "    }\n",
       "</style>\n",
       "<table border=\"1\" class=\"dataframe\">\n",
       "  <thead>\n",
       "    <tr style=\"text-align: right;\">\n",
       "      <th></th>\n",
       "      <th>dataset</th>\n",
       "      <th>usage_fn</th>\n",
       "      <th>gene_scores_fn</th>\n",
       "      <th>gene_tpm_fn</th>\n",
       "      <th>tcat_fn</th>\n",
       "      <th>tcat_fn_withsingletons</th>\n",
       "      <th>manual_gating_fn</th>\n",
       "      <th>metadata_fn</th>\n",
       "      <th>Processing notebook path</th>\n",
       "      <th>cNMF notebook path</th>\n",
       "      <th>...</th>\n",
       "      <th>cnmf_dir</th>\n",
       "      <th>k</th>\n",
       "      <th>dt</th>\n",
       "      <th>processed_forcnmf_fn</th>\n",
       "      <th>tpm_counts_for_cnmf_fn</th>\n",
       "      <th>raw_counts_filt_fn</th>\n",
       "      <th>raw_counts_fn</th>\n",
       "      <th>dataset_type</th>\n",
       "      <th>tissue_type</th>\n",
       "      <th>context_label</th>\n",
       "    </tr>\n",
       "    <tr>\n",
       "      <th>dataset</th>\n",
       "      <th></th>\n",
       "      <th></th>\n",
       "      <th></th>\n",
       "      <th></th>\n",
       "      <th></th>\n",
       "      <th></th>\n",
       "      <th></th>\n",
       "      <th></th>\n",
       "      <th></th>\n",
       "      <th></th>\n",
       "      <th></th>\n",
       "      <th></th>\n",
       "      <th></th>\n",
       "      <th></th>\n",
       "      <th></th>\n",
       "      <th></th>\n",
       "      <th></th>\n",
       "      <th></th>\n",
       "      <th></th>\n",
       "      <th></th>\n",
       "      <th></th>\n",
       "    </tr>\n",
       "  </thead>\n",
       "  <tbody>\n",
       "    <tr>\n",
       "      <th>AMP-RA</th>\n",
       "      <td>AMP-RA</td>\n",
       "      <td>/data/srlab1/TCAT/Data/PerDataset/AMPRA/AMPRA....</td>\n",
       "      <td>/data/srlab1/TCAT/Data/PerDataset/AMPRA/AMPRA....</td>\n",
       "      <td>/data/srlab1/TCAT/Data/PerDataset/AMPRA/AMPRA....</td>\n",
       "      <td>/data/srlab1/TCAT/Data/TCAT/TCAT_Usage.2023101...</td>\n",
       "      <td>/data/srlab1/TCAT/Data/TCAT/TCAT_Usage.2023101...</td>\n",
       "      <td>NaN</td>\n",
       "      <td>/data/srlab1/TCAT/Data/PerDataset/AMPRA/AMP_AD...</td>\n",
       "      <td>NaN</td>\n",
       "      <td>NaN</td>\n",
       "      <td>...</td>\n",
       "      <td>/data/srlab1/TCAT/Data/PerDataset/AMPRA</td>\n",
       "      <td>34.0</td>\n",
       "      <td>0_15</td>\n",
       "      <td>/data/srlab1/TCAT/Data/PerDataset/AMPRA/AMP_AD...</td>\n",
       "      <td>/data/srlab1/TCAT/Data/PerDataset/AMPRA/AMP_AD...</td>\n",
       "      <td>/data/srlab1/TCAT/Data/PerDataset/AMPRA/AMP_AD...</td>\n",
       "      <td>/data/srlab1/TCAT/Data/PerDataset/AMPRA/AMP_AD...</td>\n",
       "      <td>discovery</td>\n",
       "      <td>Synovium</td>\n",
       "      <td>RA+OA</td>\n",
       "    </tr>\n",
       "    <tr>\n",
       "      <th>Pan-Cancer</th>\n",
       "      <td>Pan-Cancer</td>\n",
       "      <td>/data/srlab1/TCAT/Data/PerDataset/Pancancer/Pa...</td>\n",
       "      <td>/data/srlab1/TCAT/Data/PerDataset/Pancancer/Pa...</td>\n",
       "      <td>/data/srlab1/TCAT/Data/PerDataset/Pancancer/Pa...</td>\n",
       "      <td>/data/srlab1/TCAT/Data/TCAT/TCAT_Usage.2023101...</td>\n",
       "      <td>/data/srlab1/TCAT/Data/TCAT/TCAT_Usage.2023101...</td>\n",
       "      <td>NaN</td>\n",
       "      <td>/data/srlab1/TCAT/Data/PerDataset/Pancancer/pa...</td>\n",
       "      <td>NaN</td>\n",
       "      <td>NaN</td>\n",
       "      <td>...</td>\n",
       "      <td>/data/srlab1/TCAT/Data/PerDataset/Pancancer</td>\n",
       "      <td>38.0</td>\n",
       "      <td>0.15</td>\n",
       "      <td>/data/srlab1/TCAT/Data/PerDataset/Pancancer/pa...</td>\n",
       "      <td>NaN</td>\n",
       "      <td>/data/srlab1/TCAT/Data/PerDataset/Pancancer/pa...</td>\n",
       "      <td>/data/srlab1/TCAT/Data/PerDataset/Pancancer/pa...</td>\n",
       "      <td>discovery</td>\n",
       "      <td>Pan-Tissue</td>\n",
       "      <td>Cancer+Healthy</td>\n",
       "    </tr>\n",
       "    <tr>\n",
       "      <th>TBRU</th>\n",
       "      <td>TBRU</td>\n",
       "      <td>/data/srlab1/TCAT/Data/PerDataset/TBRU/TBRU.20...</td>\n",
       "      <td>/data/srlab1/TCAT/Data/PerDataset/TBRU/TBRU.20...</td>\n",
       "      <td>/data/srlab1/TCAT/Data/PerDataset/TBRU/TBRU.20...</td>\n",
       "      <td>/data/srlab1/TCAT/Data/TCAT/TCAT_Usage.2023101...</td>\n",
       "      <td>/data/srlab1/TCAT/Data/TCAT/TCAT_Usage.2023101...</td>\n",
       "      <td>NaN</td>\n",
       "      <td>/data/srlab1/TCAT/Data/PerDataset/TBRU/tbru_ex...</td>\n",
       "      <td>NaN</td>\n",
       "      <td>NaN</td>\n",
       "      <td>...</td>\n",
       "      <td>/data/srlab1/TCAT/Data/PerDataset/TBRU</td>\n",
       "      <td>36.0</td>\n",
       "      <td>0_20</td>\n",
       "      <td>/data/srlab1/TCAT/Data/PerDataset/TBRU/tbru_ex...</td>\n",
       "      <td>/data/srlab1/TCAT/Data/PerDataset/TBRU/tbru_ex...</td>\n",
       "      <td>/data/srlab1/TCAT/Data/PerDataset/TBRU/tbru_ex...</td>\n",
       "      <td>/data/srlab1/TCAT/Data/PerDataset/TBRU/tbru_ex...</td>\n",
       "      <td>discovery</td>\n",
       "      <td>Blood</td>\n",
       "      <td>Healthy</td>\n",
       "    </tr>\n",
       "    <tr>\n",
       "      <th>HIV-Vaccine</th>\n",
       "      <td>HIV-Vaccine</td>\n",
       "      <td>/data/srlab1/TCAT/Data/PerDataset/HaoEtAl/HIVV...</td>\n",
       "      <td>/data/srlab1/TCAT/Data/PerDataset/HaoEtAl/HIVV...</td>\n",
       "      <td>/data/srlab1/TCAT/Data/PerDataset/HaoEtAl/HIVV...</td>\n",
       "      <td>/data/srlab1/TCAT/Data/TCAT/TCAT_Usage.2023101...</td>\n",
       "      <td>/data/srlab1/TCAT/Data/TCAT/TCAT_Usage.2023101...</td>\n",
       "      <td>/data/srlab1/TCAT/Data/PerDataset/HaoEtAl/Manu...</td>\n",
       "      <td>/data/srlab1/TCAT/Data/PerDataset/HaoEtAl/haoe...</td>\n",
       "      <td>/data/srlab1/TCAT/Analysis/PerDataset/HaoEtAl/...</td>\n",
       "      <td>/data/srlab1/TCAT/Analysis/PerDataset/HaoEtAl/...</td>\n",
       "      <td>...</td>\n",
       "      <td>/data/srlab1/TCAT/Data/PerDataset/HaoEtAl</td>\n",
       "      <td>31.0</td>\n",
       "      <td>0_15</td>\n",
       "      <td>/data/srlab1/TCAT/Data/PerDataset/HaoEtAl/haoe...</td>\n",
       "      <td>/data/srlab1/TCAT/Data/PerDataset/HaoEtAl/haoe...</td>\n",
       "      <td>/data/srlab1/TCAT/Data/PerDataset/HaoEtAl/haoe...</td>\n",
       "      <td>/data/srlab1/TCAT/Data/PerDataset/HaoEtAl/haoe...</td>\n",
       "      <td>discovery</td>\n",
       "      <td>Blood</td>\n",
       "      <td>Post-Vaccine+Healthy</td>\n",
       "    </tr>\n",
       "    <tr>\n",
       "      <th>UK-Covid</th>\n",
       "      <td>UK-Covid</td>\n",
       "      <td>/data/srlab1/TCAT/Data/PerDataset/UKCOVID/UKCO...</td>\n",
       "      <td>/data/srlab1/TCAT/Data/PerDataset/UKCOVID/UKCO...</td>\n",
       "      <td>/data/srlab1/TCAT/Data/PerDataset/UKCOVID/UKCO...</td>\n",
       "      <td>/data/srlab1/TCAT/Data/TCAT/TCAT_Usage.2023101...</td>\n",
       "      <td>/data/srlab1/TCAT/Data/TCAT/TCAT_Usage.2023101...</td>\n",
       "      <td>NaN</td>\n",
       "      <td>/data/srlab1/TCAT/Data/PerDataset/UKCOVID/hani...</td>\n",
       "      <td>NaN</td>\n",
       "      <td>NaN</td>\n",
       "      <td>...</td>\n",
       "      <td>/data/srlab1/TCAT/Data/PerDataset/UKCOVID</td>\n",
       "      <td>44.0</td>\n",
       "      <td>0_20</td>\n",
       "      <td>/data/srlab1/TCAT/Data/PerDataset/UKCOVID/hani...</td>\n",
       "      <td>NaN</td>\n",
       "      <td>/data/srlab1/TCAT/Data/PerDataset/UKCOVID/hani...</td>\n",
       "      <td>/data/srlab1/TCAT/Data/PerDataset/UKCOVID/hani...</td>\n",
       "      <td>discovery</td>\n",
       "      <td>Blood</td>\n",
       "      <td>Covid-19+Healthy</td>\n",
       "    </tr>\n",
       "    <tr>\n",
       "      <th>COMBAT</th>\n",
       "      <td>COMBAT</td>\n",
       "      <td>/data/srlab1/TCAT/Data/PerDataset/COMBAT/COMBA...</td>\n",
       "      <td>/data/srlab1/TCAT/Data/PerDataset/COMBAT/COMBA...</td>\n",
       "      <td>/data/srlab1/TCAT/Data/PerDataset/COMBAT/COMBA...</td>\n",
       "      <td>/data/srlab1/TCAT/Data/TCAT/TCAT_Usage.2023101...</td>\n",
       "      <td>/data/srlab1/TCAT/Data/TCAT/TCAT_Usage.2023101...</td>\n",
       "      <td>/data/srlab1/TCAT/Data/PerDataset/COMBAT/Manua...</td>\n",
       "      <td>/data/srlab1/TCAT/Data/PerDataset/COMBAT/COMBA...</td>\n",
       "      <td>NaN</td>\n",
       "      <td>NaN</td>\n",
       "      <td>...</td>\n",
       "      <td>/data/srlab1/TCAT/Data/PerDataset/COMBAT</td>\n",
       "      <td>35.0</td>\n",
       "      <td>0_15</td>\n",
       "      <td>/data/srlab1/TCAT/Data/PerDataset/COMBAT/COMBA...</td>\n",
       "      <td>/data/srlab1/TCAT/Data/PerDataset/COMBAT/COMBA...</td>\n",
       "      <td>/data/srlab1/TCAT/Data/PerDataset/COMBAT/COMBA...</td>\n",
       "      <td>/data/srlab1/TCAT/Data/PerDataset/COMBAT/COMBA...</td>\n",
       "      <td>discovery</td>\n",
       "      <td>Blood</td>\n",
       "      <td>Covid-19+Healthy</td>\n",
       "    </tr>\n",
       "    <tr>\n",
       "      <th>Pan-Tissue</th>\n",
       "      <td>Pan-Tissue</td>\n",
       "      <td>/data/srlab1/TCAT/Data/PerDataset/XTissueImmun...</td>\n",
       "      <td>/data/srlab1/TCAT/Data/PerDataset/XTissueImmun...</td>\n",
       "      <td>/data/srlab1/TCAT/Data/PerDataset/XTissueImmun...</td>\n",
       "      <td>/data/srlab1/TCAT/Data/TCAT/TCAT_Usage.2023101...</td>\n",
       "      <td>/data/srlab1/TCAT/Data/TCAT/TCAT_Usage.2023101...</td>\n",
       "      <td>NaN</td>\n",
       "      <td>/data/srlab1/TCAT/Data/PerDataset/XTissueImmun...</td>\n",
       "      <td>NaN</td>\n",
       "      <td>NaN</td>\n",
       "      <td>...</td>\n",
       "      <td>/data/srlab1/TCAT/Data/PerDataset/XTissueImmun...</td>\n",
       "      <td>39.0</td>\n",
       "      <td>0_20</td>\n",
       "      <td>/data/srlab1/TCAT/Data/PerDataset/XTissueImmun...</td>\n",
       "      <td>NaN</td>\n",
       "      <td>/data/srlab1/TCAT/Data/PerDataset/XTissueImmun...</td>\n",
       "      <td>NaN</td>\n",
       "      <td>discovery</td>\n",
       "      <td>Pan-Tissue</td>\n",
       "      <td>Healthy</td>\n",
       "    </tr>\n",
       "  </tbody>\n",
       "</table>\n",
       "<p>7 rows × 24 columns</p>\n",
       "</div>"
      ],
      "text/plain": [
       "                 dataset                                           usage_fn  \\\n",
       "dataset                                                                       \n",
       "AMP-RA            AMP-RA  /data/srlab1/TCAT/Data/PerDataset/AMPRA/AMPRA....   \n",
       "Pan-Cancer    Pan-Cancer  /data/srlab1/TCAT/Data/PerDataset/Pancancer/Pa...   \n",
       "TBRU                TBRU  /data/srlab1/TCAT/Data/PerDataset/TBRU/TBRU.20...   \n",
       "HIV-Vaccine  HIV-Vaccine  /data/srlab1/TCAT/Data/PerDataset/HaoEtAl/HIVV...   \n",
       "UK-Covid        UK-Covid  /data/srlab1/TCAT/Data/PerDataset/UKCOVID/UKCO...   \n",
       "COMBAT            COMBAT  /data/srlab1/TCAT/Data/PerDataset/COMBAT/COMBA...   \n",
       "Pan-Tissue    Pan-Tissue  /data/srlab1/TCAT/Data/PerDataset/XTissueImmun...   \n",
       "\n",
       "                                                gene_scores_fn  \\\n",
       "dataset                                                          \n",
       "AMP-RA       /data/srlab1/TCAT/Data/PerDataset/AMPRA/AMPRA....   \n",
       "Pan-Cancer   /data/srlab1/TCAT/Data/PerDataset/Pancancer/Pa...   \n",
       "TBRU         /data/srlab1/TCAT/Data/PerDataset/TBRU/TBRU.20...   \n",
       "HIV-Vaccine  /data/srlab1/TCAT/Data/PerDataset/HaoEtAl/HIVV...   \n",
       "UK-Covid     /data/srlab1/TCAT/Data/PerDataset/UKCOVID/UKCO...   \n",
       "COMBAT       /data/srlab1/TCAT/Data/PerDataset/COMBAT/COMBA...   \n",
       "Pan-Tissue   /data/srlab1/TCAT/Data/PerDataset/XTissueImmun...   \n",
       "\n",
       "                                                   gene_tpm_fn  \\\n",
       "dataset                                                          \n",
       "AMP-RA       /data/srlab1/TCAT/Data/PerDataset/AMPRA/AMPRA....   \n",
       "Pan-Cancer   /data/srlab1/TCAT/Data/PerDataset/Pancancer/Pa...   \n",
       "TBRU         /data/srlab1/TCAT/Data/PerDataset/TBRU/TBRU.20...   \n",
       "HIV-Vaccine  /data/srlab1/TCAT/Data/PerDataset/HaoEtAl/HIVV...   \n",
       "UK-Covid     /data/srlab1/TCAT/Data/PerDataset/UKCOVID/UKCO...   \n",
       "COMBAT       /data/srlab1/TCAT/Data/PerDataset/COMBAT/COMBA...   \n",
       "Pan-Tissue   /data/srlab1/TCAT/Data/PerDataset/XTissueImmun...   \n",
       "\n",
       "                                                       tcat_fn  \\\n",
       "dataset                                                          \n",
       "AMP-RA       /data/srlab1/TCAT/Data/TCAT/TCAT_Usage.2023101...   \n",
       "Pan-Cancer   /data/srlab1/TCAT/Data/TCAT/TCAT_Usage.2023101...   \n",
       "TBRU         /data/srlab1/TCAT/Data/TCAT/TCAT_Usage.2023101...   \n",
       "HIV-Vaccine  /data/srlab1/TCAT/Data/TCAT/TCAT_Usage.2023101...   \n",
       "UK-Covid     /data/srlab1/TCAT/Data/TCAT/TCAT_Usage.2023101...   \n",
       "COMBAT       /data/srlab1/TCAT/Data/TCAT/TCAT_Usage.2023101...   \n",
       "Pan-Tissue   /data/srlab1/TCAT/Data/TCAT/TCAT_Usage.2023101...   \n",
       "\n",
       "                                        tcat_fn_withsingletons  \\\n",
       "dataset                                                          \n",
       "AMP-RA       /data/srlab1/TCAT/Data/TCAT/TCAT_Usage.2023101...   \n",
       "Pan-Cancer   /data/srlab1/TCAT/Data/TCAT/TCAT_Usage.2023101...   \n",
       "TBRU         /data/srlab1/TCAT/Data/TCAT/TCAT_Usage.2023101...   \n",
       "HIV-Vaccine  /data/srlab1/TCAT/Data/TCAT/TCAT_Usage.2023101...   \n",
       "UK-Covid     /data/srlab1/TCAT/Data/TCAT/TCAT_Usage.2023101...   \n",
       "COMBAT       /data/srlab1/TCAT/Data/TCAT/TCAT_Usage.2023101...   \n",
       "Pan-Tissue   /data/srlab1/TCAT/Data/TCAT/TCAT_Usage.2023101...   \n",
       "\n",
       "                                              manual_gating_fn  \\\n",
       "dataset                                                          \n",
       "AMP-RA                                                     NaN   \n",
       "Pan-Cancer                                                 NaN   \n",
       "TBRU                                                       NaN   \n",
       "HIV-Vaccine  /data/srlab1/TCAT/Data/PerDataset/HaoEtAl/Manu...   \n",
       "UK-Covid                                                   NaN   \n",
       "COMBAT       /data/srlab1/TCAT/Data/PerDataset/COMBAT/Manua...   \n",
       "Pan-Tissue                                                 NaN   \n",
       "\n",
       "                                                   metadata_fn  \\\n",
       "dataset                                                          \n",
       "AMP-RA       /data/srlab1/TCAT/Data/PerDataset/AMPRA/AMP_AD...   \n",
       "Pan-Cancer   /data/srlab1/TCAT/Data/PerDataset/Pancancer/pa...   \n",
       "TBRU         /data/srlab1/TCAT/Data/PerDataset/TBRU/tbru_ex...   \n",
       "HIV-Vaccine  /data/srlab1/TCAT/Data/PerDataset/HaoEtAl/haoe...   \n",
       "UK-Covid     /data/srlab1/TCAT/Data/PerDataset/UKCOVID/hani...   \n",
       "COMBAT       /data/srlab1/TCAT/Data/PerDataset/COMBAT/COMBA...   \n",
       "Pan-Tissue   /data/srlab1/TCAT/Data/PerDataset/XTissueImmun...   \n",
       "\n",
       "                                      Processing notebook path  \\\n",
       "dataset                                                          \n",
       "AMP-RA                                                     NaN   \n",
       "Pan-Cancer                                                 NaN   \n",
       "TBRU                                                       NaN   \n",
       "HIV-Vaccine  /data/srlab1/TCAT/Analysis/PerDataset/HaoEtAl/...   \n",
       "UK-Covid                                                   NaN   \n",
       "COMBAT                                                     NaN   \n",
       "Pan-Tissue                                                 NaN   \n",
       "\n",
       "                                            cNMF notebook path  ...  \\\n",
       "dataset                                                         ...   \n",
       "AMP-RA                                                     NaN  ...   \n",
       "Pan-Cancer                                                 NaN  ...   \n",
       "TBRU                                                       NaN  ...   \n",
       "HIV-Vaccine  /data/srlab1/TCAT/Analysis/PerDataset/HaoEtAl/...  ...   \n",
       "UK-Covid                                                   NaN  ...   \n",
       "COMBAT                                                     NaN  ...   \n",
       "Pan-Tissue                                                 NaN  ...   \n",
       "\n",
       "                                                      cnmf_dir     k    dt  \\\n",
       "dataset                                                                      \n",
       "AMP-RA                 /data/srlab1/TCAT/Data/PerDataset/AMPRA  34.0  0_15   \n",
       "Pan-Cancer         /data/srlab1/TCAT/Data/PerDataset/Pancancer  38.0  0.15   \n",
       "TBRU                    /data/srlab1/TCAT/Data/PerDataset/TBRU  36.0  0_20   \n",
       "HIV-Vaccine          /data/srlab1/TCAT/Data/PerDataset/HaoEtAl  31.0  0_15   \n",
       "UK-Covid             /data/srlab1/TCAT/Data/PerDataset/UKCOVID  44.0  0_20   \n",
       "COMBAT                /data/srlab1/TCAT/Data/PerDataset/COMBAT  35.0  0_15   \n",
       "Pan-Tissue   /data/srlab1/TCAT/Data/PerDataset/XTissueImmun...  39.0  0_20   \n",
       "\n",
       "                                          processed_forcnmf_fn  \\\n",
       "dataset                                                          \n",
       "AMP-RA       /data/srlab1/TCAT/Data/PerDataset/AMPRA/AMP_AD...   \n",
       "Pan-Cancer   /data/srlab1/TCAT/Data/PerDataset/Pancancer/pa...   \n",
       "TBRU         /data/srlab1/TCAT/Data/PerDataset/TBRU/tbru_ex...   \n",
       "HIV-Vaccine  /data/srlab1/TCAT/Data/PerDataset/HaoEtAl/haoe...   \n",
       "UK-Covid     /data/srlab1/TCAT/Data/PerDataset/UKCOVID/hani...   \n",
       "COMBAT       /data/srlab1/TCAT/Data/PerDataset/COMBAT/COMBA...   \n",
       "Pan-Tissue   /data/srlab1/TCAT/Data/PerDataset/XTissueImmun...   \n",
       "\n",
       "                                        tpm_counts_for_cnmf_fn  \\\n",
       "dataset                                                          \n",
       "AMP-RA       /data/srlab1/TCAT/Data/PerDataset/AMPRA/AMP_AD...   \n",
       "Pan-Cancer                                                 NaN   \n",
       "TBRU         /data/srlab1/TCAT/Data/PerDataset/TBRU/tbru_ex...   \n",
       "HIV-Vaccine  /data/srlab1/TCAT/Data/PerDataset/HaoEtAl/haoe...   \n",
       "UK-Covid                                                   NaN   \n",
       "COMBAT       /data/srlab1/TCAT/Data/PerDataset/COMBAT/COMBA...   \n",
       "Pan-Tissue                                                 NaN   \n",
       "\n",
       "                                            raw_counts_filt_fn  \\\n",
       "dataset                                                          \n",
       "AMP-RA       /data/srlab1/TCAT/Data/PerDataset/AMPRA/AMP_AD...   \n",
       "Pan-Cancer   /data/srlab1/TCAT/Data/PerDataset/Pancancer/pa...   \n",
       "TBRU         /data/srlab1/TCAT/Data/PerDataset/TBRU/tbru_ex...   \n",
       "HIV-Vaccine  /data/srlab1/TCAT/Data/PerDataset/HaoEtAl/haoe...   \n",
       "UK-Covid     /data/srlab1/TCAT/Data/PerDataset/UKCOVID/hani...   \n",
       "COMBAT       /data/srlab1/TCAT/Data/PerDataset/COMBAT/COMBA...   \n",
       "Pan-Tissue   /data/srlab1/TCAT/Data/PerDataset/XTissueImmun...   \n",
       "\n",
       "                                                 raw_counts_fn dataset_type  \\\n",
       "dataset                                                                       \n",
       "AMP-RA       /data/srlab1/TCAT/Data/PerDataset/AMPRA/AMP_AD...    discovery   \n",
       "Pan-Cancer   /data/srlab1/TCAT/Data/PerDataset/Pancancer/pa...    discovery   \n",
       "TBRU         /data/srlab1/TCAT/Data/PerDataset/TBRU/tbru_ex...    discovery   \n",
       "HIV-Vaccine  /data/srlab1/TCAT/Data/PerDataset/HaoEtAl/haoe...    discovery   \n",
       "UK-Covid     /data/srlab1/TCAT/Data/PerDataset/UKCOVID/hani...    discovery   \n",
       "COMBAT       /data/srlab1/TCAT/Data/PerDataset/COMBAT/COMBA...    discovery   \n",
       "Pan-Tissue                                                 NaN    discovery   \n",
       "\n",
       "            tissue_type         context_label  \n",
       "dataset                                        \n",
       "AMP-RA         Synovium                 RA+OA  \n",
       "Pan-Cancer   Pan-Tissue        Cancer+Healthy  \n",
       "TBRU              Blood               Healthy  \n",
       "HIV-Vaccine       Blood  Post-Vaccine+Healthy  \n",
       "UK-Covid          Blood      Covid-19+Healthy  \n",
       "COMBAT            Blood      Covid-19+Healthy  \n",
       "Pan-Tissue   Pan-Tissue               Healthy  \n",
       "\n",
       "[7 rows x 24 columns]"
      ]
     },
     "execution_count": 11,
     "metadata": {},
     "output_type": "execute_result"
    }
   ],
   "source": [
    "params"
   ]
  },
  {
   "cell_type": "code",
   "execution_count": 10,
   "id": "01484ea5-38b7-497d-b1b0-f5d218dacd4d",
   "metadata": {},
   "outputs": [
    {
     "data": {
      "text/plain": [
       "Index(['AMP-RA', 'Pan-Cancer', 'TBRU', 'HIV-Vaccine', 'UK-Covid', 'COMBAT',\n",
       "       'Pan-Tissue'],\n",
       "      dtype='object', name='dataset')"
      ]
     },
     "execution_count": 10,
     "metadata": {},
     "output_type": "execute_result"
    }
   ],
   "source": [
    "params.index"
   ]
  },
  {
   "cell_type": "code",
   "execution_count": 9,
   "id": "f8abb792-a210-4ada-90bd-b50369395254",
   "metadata": {},
   "outputs": [
    {
     "name": "stdout",
     "output_type": "stream",
     "text": [
      "(0.4, 0.7607843137254902, 0.6470588235294118, 1.0)\n",
      "(0.9882352941176471, 0.5529411764705883, 0.3843137254901961, 1.0)\n",
      "(0.5529411764705883, 0.6274509803921569, 0.796078431372549, 1.0)\n",
      "(0.9058823529411765, 0.5411764705882353, 0.7647058823529411, 1.0)\n",
      "(0.6509803921568628, 0.8470588235294118, 0.32941176470588235, 1.0)\n",
      "(1.0, 0.8509803921568627, 0.1843137254901961, 1.0)\n",
      "(0.8980392156862745, 0.7686274509803922, 0.5803921568627451, 1.0)\n"
     ]
    }
   ],
   "source": [
    "cmap = plt.get_cmap('Set2', len(params.index)+1)\n",
    "\n",
    "for i, dataset in enumerate(params.index):\n",
    "    print(cmap(i))"
   ]
  },
  {
   "cell_type": "code",
   "execution_count": 13,
   "id": "925f8b0b-3819-4991-8e16-ba2f6aea3cb6",
   "metadata": {},
   "outputs": [
    {
     "data": {
      "image/png": "[encoded data removed]",
      "text/html": [
       "<div style=\"vertical-align: middle;\"><strong>Set2</strong> </div><div class=\"cmap\"><img alt=\"Set2 colormap\" title=\"Set2\" style=\"border: 1px solid #555;\" src=\"data:image/png;base64,iVBORw0KGgoAAAANSUhEUgAAAgAAAABACAYAAABsv8+/AAAAE3RFWHRUaXRsZQBTZXQyIGNvbG9ybWFw8Jt8/wAAABl0RVh0RGVzY3JpcHRpb24AU2V0MiBjb2xvcm1hcHsp7GcAAAAwdEVYdEF1dGhvcgBNYXRwbG90bGliIHYzLjUuMSwgaHR0cHM6Ly9tYXRwbG90bGliLm9yZ/e3zs8AAAAydEVYdFNvZnR3YXJlAE1hdHBsb3RsaWIgdjMuNS4xLCBodHRwczovL21hdHBsb3RsaWIub3Jn2RFR6AAAAWZJREFUeJzt1qFtAgAUAFFgBQZgIzx4mjAOhg0Yg5BgSVgAX9GK2rp2C7649yY4ecuP++VvEXZ+XKcTRp3Wx+mEUfuv3+mEUbftaTph1G75mk4Y9fl9mE4Y9fzZTCeMWk0HAADvZwAAIMgAAECQAQCAIAMAAEEGAACCDAAABBkAAAgyAAAQZAAAIMgAAECQAQCAIAMAAEEGAACCDAAABBkAAAgyAAAQZAAAIMgAAECQAQCAIAMAAEEGAACCDAAABBkAAAgyAAAQZAAAIMgAAECQAQCAIAMAAEEGAACCDAAABBkAAAgyAAAQZAAAIMgAAECQAQCAIAMAAEEGAACCDAAABBkAAAgyAAAQZAAAIMgAAECQAQCAIAMAAEEGAACCDAAABBkAAAgyAAAQZAAAIMgAAECQAQCAIAMAAEEGAACCDAAABBkAAAgyAAAQZAAAIMgAAECQAQCAIAMAAEEGAACCDAAABP0Dyt0PmA+ixo4AAAAASUVORK5CYII=\"></div><div style=\"vertical-align: middle; max-width: 514px; display: flex; justify-content: space-between;\"><div style=\"float: left;\"><div title=\"#66c2a5ff\" style=\"display: inline-block; width: 1em; height: 1em; margin: 0; vertical-align: middle; border: 1px solid #555; background-color: #66c2a5ff;\"></div> under</div><div style=\"margin: 0 auto; display: inline-block;\">bad <div title=\"#00000000\" style=\"display: inline-block; width: 1em; height: 1em; margin: 0; vertical-align: middle; border: 1px solid #555; background-color: #00000000;\"></div></div><div style=\"float: right;\">over <div title=\"#b3b3b3ff\" style=\"display: inline-block; width: 1em; height: 1em; margin: 0; vertical-align: middle; border: 1px solid #555; background-color: #b3b3b3ff;\"></div></div>"
      ],
      "text/plain": [
       "<matplotlib.colors.ListedColormap at 0x7f205ea94750>"
      ]
     },
     "execution_count": 13,
     "metadata": {},
     "output_type": "execute_result"
    }
   ],
   "source": [
    "cmap"
   ]
  },
  {
   "cell_type": "code",
   "execution_count": 10,
   "id": "c19932d7-fb2b-4fdf-aa07-d46c3be4db9c",
   "metadata": {},
   "outputs": [],
   "source": [
    "tissue_types = params['tissue_type'].unique()\n",
    "\n",
    "markers=['^', 's', 'D']\n",
    "cmap_dict = dict(zip(params.index,  cmap(range(0, len(params.index)))))"
   ]
  },
  {
   "cell_type": "code",
   "execution_count": 12,
   "id": "a39e6c4f-22e7-4efc-91f3-f291fe0cbc34",
   "metadata": {},
   "outputs": [],
   "source": [
    "cmap_dict_tissue = dict(zip(tissue_types,  cmap(range(0, len(tissue_types)))))"
   ]
  },
  {
   "cell_type": "code",
   "execution_count": 20,
   "id": "d06e46a3-5762-4691-800b-659537f3114b",
   "metadata": {
    "tags": []
   },
   "outputs": [
    {
     "name": "stdout",
     "output_type": "stream",
     "text": [
      "Synovium\n",
      "Pan-Tissue\n",
      "Blood\n",
      "[Text(81, 94048, 'AMP-RA'), Text(92, 215035, 'Pan-Cancer'), Text(12, 154314, 'Pan-Tissue'), Text(259, 500089, 'TBRU'), Text(8, 73259, 'HIV-Vaccine'), Text(121, 273516, 'UK-Covid'), Text(122, 399599, 'COMBAT')]\n"
     ]
    },
    {
     "name": "stderr",
     "output_type": "stream",
     "text": [
      "/PHShome/mc1070/anaconda3/envs/cnmf_env2v2/lib/python3.7/site-packages/ipykernel_launcher.py:20: UserWarning: FixedFormatter should only be used together with FixedLocator\n"
     ]
    },
    {
     "name": "stdout",
     "output_type": "stream",
     "text": [
      "[Text(81.84993711979355, 95925.27466059601, 'AMP-RA'), Text(93.16756825992262, 216912.27466059595, 'Pan-Cancer'), Text(13.098565632929038, 156191.27466059598, 'Pan-Tissue'), Text(258.40197723272263, 501966.27466059575, 'TBRU'), Text(9.187283296206466, 75136.27466059601, 'HIV-Vaccine'), Text(121.93975006286455, 275393.274660596, 'UK-Covid'), Text(122.92113030637417, 401476.2746605959, 'COMBAT')]\n"
     ]
    },
    {
     "data": {
      "image/png": "[encoded data removed]",
      "text/plain": [
       "<Figure size 750x750 with 1 Axes>"
      ]
     },
     "metadata": {
      "needs_background": "light"
     },
     "output_type": "display_data"
    }
   ],
   "source": [
    "fig, ax = plt.subplots(dpi = 300, figsize = (2.5, 2.5))\n",
    "\n",
    "texts = []\n",
    "for j, tissue in enumerate(tissue_types):\n",
    "    print(tissue)\n",
    "    tissue_datasets = params[params['tissue_type']==tissue].index\n",
    "    ax.scatter(y = ds_stats.loc[tissue_datasets, 'n_cells'], \n",
    "               x = ds_stats.loc[tissue_datasets, 'n_individuals'], \n",
    "               # marker = markers[j], \n",
    "               c = [cmap_dict_tissue[tissue]]*len(tissue_datasets), #c = cmap(range(0, len(params.index)))\n",
    "              label = tissue)\n",
    "    for dataset in tissue_datasets:\n",
    "        texts.append(plt.text(\n",
    "                y = ds_stats.loc[dataset, 'n_cells'], \n",
    "                x = ds_stats.loc[dataset, 'n_individuals'], \n",
    "                s = dataset, fontsize = 6))\n",
    "        # ax.text(y = ds_stats.loc[dataset, 'n_cells'], \n",
    "        #         x = ds_stats.loc[dataset, 'n_individuals'], \n",
    "        #         s = dataset)\n",
    "ax.set_yticklabels(['{:,}'.format(int(x)) for x in ax.get_yticks().tolist()])\n",
    "ax.tick_params('both', labelsize = tick_fontsize)\n",
    "ax.set_xlabel('Number of individuals', fontsize = label_fontsize)\n",
    "ax.set_ylabel('Number of cells', fontsize = label_fontsize)\n",
    "print(texts)\n",
    "adjust_text(texts)\n",
    "\n",
    "print(texts)\n",
    "# Add dataset label after adjusting text positions\n",
    "# Manually determine positions for TBRU, can't get the accurate label position insided of box\n",
    "context_fontsize = 4.8\n",
    "for text in texts:\n",
    "    y = text._y\n",
    "    x = text._x\n",
    "    dataset = text.get_text()\n",
    "    s = params.loc[dataset, 'context_label']\n",
    "    \n",
    "    if dataset != 'TBRU':\n",
    "        plt.text(y = y - 10000, x=x +6,\n",
    "                 # y =y , x = x,\n",
    "                 s = s, fontsize =context_fontsize)\n",
    "    else:\n",
    "        plt.text(y = (y) - 10000, \n",
    "                 x=(x-27) -7, \n",
    "                 s = s, fontsize =context_fontsize)\n",
    "    \n",
    "plt.legend(loc = 'lower center', ncol = 3, bbox_to_anchor=(.5, -.35), fontsize = tick_fontsize -2)\n",
    "plt.savefig(os.path.join(figdir, 'Scatterplot_DatasetStats.png'), bbox_inches=\"tight\")\n",
    "plt.savefig(os.path.join(figdir, 'Scatterplot_DatasetStats.pdf'), bbox_inches=\"tight\")\n",
    "\n",
    "plt.show()"
   ]
  }
 ],
 "metadata": {
  "kernelspec": {
   "display_name": "Python 3",
   "language": "python",
   "name": "python3"
  },
  "language_info": {
   "codemirror_mode": {
    "name": "ipython",
    "version": 3
   },
   "file_extension": ".py",
   "mimetype": "text/x-python",
   "name": "python",
   "nbconvert_exporter": "python",
   "pygments_lexer": "ipython3",
   "version": "3.6.15"
  },
  "toc-autonumbering": true
 },
 "nbformat": 4,
 "nbformat_minor": 5
}
