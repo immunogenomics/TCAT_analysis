{
 "cells": [
  {
   "cell_type": "code",
   "execution_count": 4,
   "id": "74f54109-a1e6-4490-a205-0004028b097b",
   "metadata": {},
   "outputs": [],
   "source": [
    "import pandas as pd\n",
    "import numpy as np\n",
    "from cnmf import cNMF, load_df_from_npz\n",
    "import scanpy as sc\n",
    "import os\n",
    "import sys"
   ]
  },
  {
   "cell_type": "markdown",
   "id": "8e16e5e8-7048-4b3e-b45e-6bf75bc059f5",
   "metadata": {},
   "source": [
    "# Output reference scores"
   ]
  },
  {
   "cell_type": "markdown",
   "id": "72954c43-befb-4d66-bc09-a5ba1e034b98",
   "metadata": {},
   "source": [
    "Update scores."
   ]
  },
  {
   "cell_type": "code",
   "execution_count": 5,
   "id": "b082e88f-c5c1-4c8a-8dd6-0a22c9226705",
   "metadata": {},
   "outputs": [],
   "source": [
    "sys.path.append('../../Code/')\n",
    "from utils import read_dataset_log\n"
   ]
  },
  {
   "cell_type": "code",
   "execution_count": 6,
   "id": "c3da2031-5d1c-4e58-8085-19d5bf69e1dc",
   "metadata": {},
   "outputs": [
    {
     "data": {
      "text/plain": [
       "clustering_fn                                /data/srlab1/TCAT/Data/TCAT/cluster_groups.pai...\n",
       "clustering_with_singletons_fn                /data/srlab1/TCAT/Data/TCAT/cluster_groups.pai...\n",
       "merged_hvgs                                  /data/srlab1/TCAT/Data/TCAT/MergedHVG_UnionAll...\n",
       "tpm_varnorm_spectra                          /data/srlab1/TCAT/Data/TCAT/merged_spectra.Gen...\n",
       "tpm_varnorm_spectra_withsingletons           /data/srlab1/TCAT/Data/TCAT/merged_spectra.Gen...\n",
       "tpm_renorm_varnorm_spectra                   /data/srlab1/TCAT/Data/TCAT/merged_spectra.Gen...\n",
       "tpm_renorm_varnorm_spectra_withsingletons    /data/srlab1/TCAT/Data/TCAT/merged_spectra.Gen...\n",
       "scores_spectra                               /data/srlab1/TCAT/Data/TCAT/merged_spectra.Gen...\n",
       "scores_spectra_withsingletons                /data/srlab1/TCAT/Data/TCAT/merged_spectra.Gen...\n",
       "correlation_matrix_tpm_renorm_varnorm        /data/srlab1/TCAT/Data/TCAT/R.TPMrenorm.VarNor...\n",
       "correlation_matrix_spectra                   /data/srlab1/TCAT/Data/TCAT/R.Zspec.HVGunion.2...\n",
       "starcat_fn                                   /data/srlab1/TCAT/Data/TCAT/merged_spectra.Gen...\n",
       "Name: 0, dtype: object"
      ]
     },
     "execution_count": 6,
     "metadata": {},
     "output_type": "execute_result"
    }
   ],
   "source": [
    "metagep_params = read_dataset_log('cGEP Paths').iloc[0,:]\n",
    "metagep_params"
   ]
  },
  {
   "cell_type": "code",
   "execution_count": 7,
   "id": "80304d48-9030-4ec3-987c-54deb461e22b",
   "metadata": {},
   "outputs": [],
   "source": [
    "ref = pd.read_csv(metagep_params['tpm_renorm_varnorm_spectra'], \n",
    "            index_col=0, sep = '\\t')"
   ]
  },
  {
   "cell_type": "code",
   "execution_count": 8,
   "id": "de7bdb79-4f40-4e47-9f58-b3c0873f908d",
   "metadata": {},
   "outputs": [],
   "source": [
    "gep_info = read_dataset_log('cGEP_Name')\n",
    "gep_info.index = gep_info['cGep_Name']\n",
    "rename_map = dict(zip(gep_info['cGep_Name'], gep_info['Short_Name']))"
   ]
  },
  {
   "cell_type": "code",
   "execution_count": 9,
   "id": "7b3434e1-7cba-4280-9a82-805da35eac5a",
   "metadata": {},
   "outputs": [
    {
     "data": {
      "text/html": [
       "<div>\n",
       "<style scoped>\n",
       "    .dataframe tbody tr th:only-of-type {\n",
       "        vertical-align: middle;\n",
       "    }\n",
       "\n",
       "    .dataframe tbody tr th {\n",
       "        vertical-align: top;\n",
       "    }\n",
       "\n",
       "    .dataframe thead th {\n",
       "        text-align: right;\n",
       "    }\n",
       "</style>\n",
       "<table border=\"1\" class=\"dataframe\">\n",
       "  <thead>\n",
       "    <tr style=\"text-align: right;\">\n",
       "      <th></th>\n",
       "      <th>A1BG</th>\n",
       "      <th>AARD</th>\n",
       "      <th>AARSD1</th>\n",
       "      <th>ABCA1</th>\n",
       "      <th>ABCB1</th>\n",
       "    </tr>\n",
       "  </thead>\n",
       "  <tbody>\n",
       "    <tr>\n",
       "      <th>CellCycle-G2M</th>\n",
       "      <td>2.032614</td>\n",
       "      <td>22.965553</td>\n",
       "      <td>17.423538</td>\n",
       "      <td>3.478179</td>\n",
       "      <td>2.297279</td>\n",
       "    </tr>\n",
       "    <tr>\n",
       "      <th>CD4-Naive_Translation</th>\n",
       "      <td>35.445284</td>\n",
       "      <td>0.000000</td>\n",
       "      <td>9.245894</td>\n",
       "      <td>0.477994</td>\n",
       "      <td>0.000000</td>\n",
       "    </tr>\n",
       "    <tr>\n",
       "      <th>HLA</th>\n",
       "      <td>18.192998</td>\n",
       "      <td>14.632671</td>\n",
       "      <td>2.686475</td>\n",
       "      <td>3.937182</td>\n",
       "      <td>0.000000</td>\n",
       "    </tr>\n",
       "    <tr>\n",
       "      <th>ISG</th>\n",
       "      <td>0.436212</td>\n",
       "      <td>0.000000</td>\n",
       "      <td>18.078198</td>\n",
       "      <td>17.354505</td>\n",
       "      <td>0.000000</td>\n",
       "    </tr>\n",
       "    <tr>\n",
       "      <th>MALAT1_Mito</th>\n",
       "      <td>10.293049</td>\n",
       "      <td>0.000000</td>\n",
       "      <td>52.669894</td>\n",
       "      <td>14.615502</td>\n",
       "      <td>3.341488</td>\n",
       "    </tr>\n",
       "  </tbody>\n",
       "</table>\n",
       "</div>"
      ],
      "text/plain": [
       "                            A1BG       AARD     AARSD1      ABCA1     ABCB1\n",
       "CellCycle-G2M           2.032614  22.965553  17.423538   3.478179  2.297279\n",
       "CD4-Naive_Translation  35.445284   0.000000   9.245894   0.477994  0.000000\n",
       "HLA                    18.192998  14.632671   2.686475   3.937182  0.000000\n",
       "ISG                     0.436212   0.000000  18.078198  17.354505  0.000000\n",
       "MALAT1_Mito            10.293049   0.000000  52.669894  14.615502  3.341488"
      ]
     },
     "execution_count": 9,
     "metadata": {},
     "output_type": "execute_result"
    }
   ],
   "source": [
    "hvg_fn = metagep_params['merged_hvgs']\n",
    "hvgs = pd.read_csv(hvg_fn, sep='\\t', header=None)[0]\n",
    "ref = ref[hvgs]\n",
    "ref.iloc[:5,:5]"
   ]
  },
  {
   "cell_type": "code",
   "execution_count": 11,
   "id": "e85d000b-62c9-4723-9238-7fbc3365076d",
   "metadata": {},
   "outputs": [],
   "source": [
    "ref.index = ref.index.map(rename_map)"
   ]
  },
  {
   "cell_type": "code",
   "execution_count": 12,
   "id": "9f73ba41-50d0-4dee-8c9e-518bc3afef8c",
   "metadata": {},
   "outputs": [
    {
     "data": {
      "text/plain": [
       "'/data/srlab1/TCAT/Data/TCAT/merged_spectra.Gene_TPM_Renorm_VarNorm.Gene_Intersection.TPMrenorm.VarNorm.HVGunion.FiltSingletons.Mean.20231016_TCAT.V1.20240305.tsv'"
      ]
     },
     "execution_count": 12,
     "metadata": {},
     "output_type": "execute_result"
    }
   ],
   "source": [
    "out_fn = metagep_params['tpm_renorm_varnorm_spectra'].replace('.tsv', '_TCAT.V1.20240305.tsv')\n",
    "out_fn"
   ]
  },
  {
   "cell_type": "code",
   "execution_count": 13,
   "id": "bdfee5d1-41a0-42d4-91e1-234cef72f165",
   "metadata": {},
   "outputs": [],
   "source": [
    "ref.to_csv(out_fn, sep = '\\t')"
   ]
  },
  {
   "cell_type": "code",
   "execution_count": 14,
   "id": "d3eb028a-0671-4eb4-9347-42594428b95b",
   "metadata": {},
   "outputs": [
    {
     "data": {
      "text/plain": [
       "(52, 3412)"
      ]
     },
     "execution_count": 14,
     "metadata": {},
     "output_type": "execute_result"
    }
   ],
   "source": [
    "ref.shape"
   ]
  }
 ],
 "metadata": {
  "kernelspec": {
   "display_name": "Python 3",
   "language": "python",
   "name": "python3"
  },
  "language_info": {
   "codemirror_mode": {
    "name": "ipython",
    "version": 3
   },
   "file_extension": ".py",
   "mimetype": "text/x-python",
   "name": "python",
   "nbconvert_exporter": "python",
   "pygments_lexer": "ipython3",
   "version": "3.6.15"
  }
 },
 "nbformat": 4,
 "nbformat_minor": 5
}
